{
 "cells": [
  {
   "cell_type": "markdown",
   "metadata": {},
   "source": [
    "# Ahmet Emre Usta\n",
    "# 2200765036"
   ]
  },
  {
   "cell_type": "markdown",
   "metadata": {},
   "source": [
    "# Part 1"
   ]
  },
  {
   "cell_type": "markdown",
   "metadata": {},
   "source": [
    "1.  To determine the priority of each case, I will evaluate the probability of dangerous fires as a cause of smoke in each neighborhood, considering both the probability of fire and the probability of smoke given a fire. \n",
    " \n",
    "    1. **Neighborhood 1**:    \n",
    "        - **Probability of dangerous fire (P(Fire))** = 1%    \n",
    "        - **Probability of barbecue smoke (alternative cause)** = 20%    \n",
    "        - **Probability of smoke given fire (P(Smoke | Fire))** = 80%    \n",
    "        - Using Bayes' theorem, calculate \\( P( Fire | Smoke  ) \\) to determine the likelihood of a fire being given smoke. The higher the result, the higher is the priority.     \\[    P( Fire | Smoke  ) =  P( Smoke | Fire  ) \\times P( Fire  )  P( Smoke  )      \\]        \n",
    "        \n",
    "        We assume \\( P( Smoke  ) = P( Smoke | Fire  ) \\times P( Fire  ) + P( Barbecue Smoke  ) \\).  \n",
    "        \n",
    "    2. **Neighborhood 2**:    \n",
    "        - **Probability of dangerous fire (P(Fire))** = 35%    \n",
    "        - **Probability of factory smoke (alternative cause)** = 10%    \n",
    "        - **Probability of smoke given fire (P(Smoke | Fire))** = 1%        \n",
    "        \n",
    "        Calculate \\( P( Fire | Smoke  ) \\) similarly, adjusting for alternative causes of smoke (factory smoke).  \n",
    "        \n",
    "    3. **Neighborhood 3**:    \n",
    "        - **Probability of dangerous fire (P(Fire))** = 10%    \n",
    "        - **Probability of coal smoke (alternative cause)** = 80%    \n",
    "        - **Probability of smoke given fire (P(Smoke | Fire))** = 30%     \n",
    "        \n",
    "        Use Bayes' Theorem to estimate the probability of fire given the smoke in this neighborhood, considering the high alternative cause of coal use.  \n",
    "\n",
    "    ### Comparison and Priority Ranking \n",
    "    \n",
    "    Using Bayes' calculations, we rank neighborhoods by \\( P( Fire | Smoke  ) \\).  \n",
    "    \n",
    "    - **Neighborhood 2 likely has the highest priority:** The high initial probability of fire (35%) strongly suggests a higher likelihood of fire despite a low smoke conditional probability. \n",
    "    \n",
    "    - **Neighborhood 3 may rank second** with a moderate probability of fire (10%) and moderate smoke likelihood (30%) suggesting some risk. \n",
    "    \n",
    "    - **Neighborhood 1 likely ranks lowest**, as its probability of fire is very low (1%) with significant alternative smoke sources.   \n",
    "    \n",
    "\n",
    "    1. Neighborhood 2 \n",
    "    2. Neighborhood 3 \n",
    "    3. Neighborhood 1"
   ]
  },
  {
   "cell_type": "markdown",
   "metadata": {},
   "source": [
    "**2.**\n",
    "\n",
    "- Let \\( B1 \\) represent selecting the first box, with \\( P(B1) = 0.4 \\).\n",
    "- Let \\( B2 \\) represent selecting the second box, with \\( P(B2) = 0.6 \\).\n",
    "- Let \\( R1 \\) and \\( R2 \\) represent red balls in box 1 and box 2 respectively.\n",
    "- Let \\( Blue \\) be the event that a blue ball is drawn.\n",
    "\n",
    "- **For Box 1:** There are 5 red and 3 blue balls, so the probability of drawing a blue ball from Box 1 is:\n",
    "  \n",
    "  P(Blue|B1) = (3)/(5+3) = 3/8\n",
    "\n",
    "\n",
    "- **For Box 2:** There are 7 red and 4 blue balls, so the probability of drawing a blue ball from Box 2 is:\n",
    "\n",
    "  P(Blue|B2) = 4/(7+4) = 4/11\n",
    "\n",
    "\n",
    "- Using the law of total probability:\n",
    "\n",
    "  P(Blue) = P( Blue|B1) x P(B1) + P( Blue|B2) x P(B_2)\n",
    "\n",
    "  P(Blue) = (3/8) x 0.4 + (4/11) x 0.6\n",
    "\n",
    "  Calculating each part:\n",
    "\n",
    "  P(Blue) = 0.15 + 0.2182 = 0.3682\n",
    "\n",
    "  The probability of drawing a blue ball is approximately **0.3682**.\n",
    "\n",
    "\n",
    "Using Bayes' Theorem:\n",
    "\n",
    "  P(B2| Blue) = P(Blue|B2) x P(B2) / P(Blue)\n",
    "\n",
    "  Plugging in values:\n",
    "\n",
    "  P(B2| Blue) = (2.4/11)/0.3682 = 0.592\n",
    "\n",
    "  The probability that the second box was selected given that a blue ball was drawn is approximately **0.592**.\n"
   ]
  },
  {
   "cell_type": "markdown",
   "metadata": {},
   "source": [
    "3. \n",
    "**Text classification is the primary application for Naïve Bayes classifier methods.**\n",
    "(**T**)\n",
    "\n",
    "**Explanation**\n",
    "Naïve Bayes is widely used for text classification tasks owing to its effectiveness and simplicity, particularly in spam filtering, sentiment analysis, and document categorization. It assumes independence between features, which often holds sufficiently well for text classification.\n",
    "\n",
    "**When an attribute value in the testing record has no example in the training set, the total posterior probability in a Naïve Bayes algorithm will be zero.**\n",
    "(**T**)\n",
    "\n",
    "**Explanation**\n",
    "This is known as the \"zero-frequency problem,\" where a probability of zero for any feature results in a zero probability for the entire class. To address this, smoothing techniques, such as Laplace smoothing, are typically applied to ensure nonzero probabilities."
   ]
  },
  {
   "cell_type": "markdown",
   "metadata": {},
   "source": [
    "# Part 2"
   ]
  },
  {
   "cell_type": "markdown",
   "metadata": {},
   "source": [
    "## Install Necessary Libaries"
   ]
  },
  {
   "cell_type": "code",
   "execution_count": 38,
   "metadata": {},
   "outputs": [],
   "source": [
    "!pip install pandas numpy scikit-learn plotly statsmodels gensim nbformat >> /dev/null"
   ]
  },
  {
   "cell_type": "markdown",
   "metadata": {},
   "source": [
    "## Import Libaries"
   ]
  },
  {
   "cell_type": "code",
   "execution_count": 39,
   "metadata": {},
   "outputs": [],
   "source": [
    "import os\n",
    "import numpy as np\n",
    "import pandas as pd\n",
    "import plotly.express as px\n",
    "import plotly.graph_objects as go\n",
    "from collections import Counter, defaultdict\n",
    "import re\n",
    "from sklearn.metrics import accuracy_score, precision_score, recall_score, f1_score\n",
    "from gensim.models import Word2Vec\n",
    "from sklearn.linear_model import LogisticRegression\n",
    "\n",
    "\n",
    "# close warnings\n",
    "import warnings\n",
    "\n",
    "warnings.filterwarnings(\"ignore\")"
   ]
  },
  {
   "cell_type": "markdown",
   "metadata": {},
   "source": [
    "## Set the Paths and Read the Dataset"
   ]
  },
  {
   "cell_type": "code",
   "execution_count": 40,
   "metadata": {},
   "outputs": [],
   "source": [
    "DATASET_PATH = \"/Users/emre/GitHub/HU-AI/AIN313/2024/Assignment 2/dataset/\"\n",
    "TRAIN_DATASET_PATH = os.path.join(DATASET_PATH, \"raw\", \"aclImdb\", \"train\")\n",
    "TEST_DATASET_PATH = os.path.join(DATASET_PATH, \"raw\", \"aclImdb\", \"test\")"
   ]
  },
  {
   "cell_type": "markdown",
   "metadata": {},
   "source": [
    "## Introduction"
   ]
  },
  {
   "cell_type": "markdown",
   "metadata": {},
   "source": [
    "This project aims to classify the sentiment of movie reviews as either positive or negative using a dataset containing labeled reviews with binary sentiment labels. The main task is to build a custom Naïve Bayes classifier to predict sentiment by analyzing the frequency and co-occurrence of words (unigrams, bigrams, etc.) using the Bag of Words (BoW) approach. The classifier will be implemented from scratch, without relying on pre-built libraries for the main assignment, although we will later explore additional libraries for comparative analysis in a bonus section.\n",
    "\n",
    "The dataset is split into 25,000 training and 25,000 testing samples, with balanced positive and negative reviews in each set. The training and testing sets contain unique movie reviews, ensuring that the model cannot rely on memorizing terms specific to a movie across datasets. This approach helps benchmark sentiment classification in a supervised learning context and also offers an unsupervised learning component with an additional 50,000 unlabeled reviews, although this component will not be used directly.\n",
    "\n",
    "### Methods\n",
    "\n",
    "1. **Data Preprocessing**  \n",
    "   - Clean and prepare the text data, removing stopwords, punctuation, and other non-essential elements.\n",
    "   - Tokenize text into different n-grams (unigrams, bigrams, trigrams) to capture varying levels of word context.\n",
    "\n",
    "2. **Bag of Words (BoW) Representation**  \n",
    "   - Build a custom BoW dictionary for unigrams, bigrams, and possibly trigrams.\n",
    "   - Use this dictionary to create feature vectors for each review, encoding word occurrences.\n",
    "   - Apply Laplace smoothing to handle words not seen in the training set and treat rare words as unknown.\n",
    "\n",
    "3. **Naïve Bayes Classifier**  \n",
    "   - Implement a Naïve Bayes model from scratch using the BoW vectors.\n",
    "   - Use logarithmic probabilities to prevent underflow and simplify multiplication calculations.\n",
    "   - Implement model prediction based on word probabilities.\n",
    "\n",
    "4. **Bonus: Word Embedding and Logistic Regression**  \n",
    "   - For comparative analysis, build a model using word embeddings (Word2Vec or GloVe) with Logistic Regression.\n",
    "   - This allows for the comparison of traditional n-gram BoW and embedding-based representations.\n",
    "\n",
    "### Performance Metrics\n",
    "\n",
    "We will assess the model's performance using the following metrics:\n",
    "\n",
    "1. **Accuracy**  \n",
    "   Measures the proportion of correctly classified reviews:\n",
    "    Accuracy =  (TP + TN) / (TP + TN + FP + FN)\n",
    "\n",
    "2. **Precision**  \n",
    "   The fraction of true positive reviews out of all predicted positives:\n",
    "    Precision =  TP / (TP + FP)\n",
    "\n",
    "3. **Recall**  \n",
    "   The fraction of true positive reviews out of all actual positives:\n",
    "    Recall =  TP / (TP + FN)\n",
    "\n",
    "4. **F1-Score**  \n",
    "   A harmonic mean of precision and recall, useful for imbalanced data:\n",
    "    F1-Score = 2 x (Precision x Recall) / (Precision +  Recall)\n",
    "\n",
    "These metrics will be computed and compared for each n-gram setting (unigram, bigram, etc.) and for the bonus method. The goal is to optimize both the precision and recall, which are critical for sentiment analysis tasks where false positives and false negatives can both lead to significant interpretative errors."
   ]
  },
  {
   "cell_type": "markdown",
   "metadata": {},
   "source": [
    "## Dataset Exploration"
   ]
  },
  {
   "cell_type": "code",
   "execution_count": 41,
   "metadata": {},
   "outputs": [],
   "source": [
    "def load_dataset(path):\n",
    "    data = []\n",
    "    labels = []\n",
    "    for label in [\"pos\", \"neg\"]:\n",
    "        labeled_path = os.path.join(path, label)\n",
    "        for file_name in os.listdir(labeled_path):\n",
    "            with open(\n",
    "                os.path.join(labeled_path, file_name), \"r\", encoding=\"utf-8\"\n",
    "            ) as file:\n",
    "                data.append(file.read())\n",
    "                labels.append(1 if label == \"pos\" else 0)\n",
    "    return pd.DataFrame({\"review\": data, \"sentiment\": labels})"
   ]
  },
  {
   "cell_type": "code",
   "execution_count": 42,
   "metadata": {},
   "outputs": [],
   "source": [
    "train_data = load_dataset(TRAIN_DATASET_PATH)\n",
    "test_data = load_dataset(TEST_DATASET_PATH)\n",
    "\n",
    "# takes sample from the dataset\n",
    "train_data = train_data.sample(1000)\n",
    "test_data = test_data.sample(1000)"
   ]
  },
  {
   "cell_type": "code",
   "execution_count": 43,
   "metadata": {},
   "outputs": [
    {
     "name": "stdout",
     "output_type": "stream",
     "text": [
      "Training Data Shape: (1000, 2)\n",
      "Testing Data Shape: (1000, 2)\n",
      "Positive Reviews in Training Set: 496\n",
      "Negative Reviews in Training Set: 504\n"
     ]
    }
   ],
   "source": [
    "print(\"Training Data Shape:\", train_data.shape)\n",
    "print(\"Testing Data Shape:\", test_data.shape)\n",
    "print(\n",
    "    \"Positive Reviews in Training Set:\",\n",
    "    train_data[train_data[\"sentiment\"] == 1].shape[0],\n",
    ")\n",
    "print(\n",
    "    \"Negative Reviews in Training Set:\",\n",
    "    train_data[train_data[\"sentiment\"] == 0].shape[0],\n",
    ")"
   ]
  },
  {
   "cell_type": "code",
   "execution_count": 44,
   "metadata": {},
   "outputs": [
    {
     "name": "stdout",
     "output_type": "stream",
     "text": [
      "\n",
      "Example Positive Review:\n",
      " Probably Jackie Chan's best film in the 1980s, and the one that put him on the map. The scale of this self-directed police drama is evident from the opening and closing scenes, during which a squatters' village and shopping mall are demolished. There are, clearly, differences between the original Chinese and dubbed English versions, with many of the jokes failing to make their way into the latter. The latter is also hampered by stars who sound nothing like their Chinese originals. In fact, the only thing the dubbing has corrected is the court trialat the time, trials in colonial Hong Kong were conducted in English, while the original has this scene in Cantonese!<br /><br />Nonetheless, Chan's fighting style and the martial arts choreography inject humour where possible, so non-Cantonese audiences don't miss much. It's not, after all, the dialogue that makes a Chan flick, but the action and the painful out-takes. The story is easy to follow: Chan plays an incorruptible Hong Kong detective pursuing a gangland godfather (Cho Yeun), and assigned to protect a star witness (Brigitte Lin). The action is superb from beginning to end, and there's not much time to breathe in between. It'll never get you thinking, but what an entertaining, and well strung-together, film. Arguably, this is one of the best martial arts films out there.\n",
      "\n",
      "Example Negative Review:\n",
      " Sure, I like short cartoons, but I didn't like this one. Naturally, kids would love it. But then again, I'm not a kid anymore (although I still consider myself young).<br /><br />I will not tell you anything about the story, for the simple reason there is no story. How is it possible this dragon of a cartoon was nominated for an Oscar?! Well... I guess it's because people in the 30's were more happy with not much than now. In the present where we live, everything must happen fast. Look at the movies nowadays, and you will come to the same conclusion: we live in a society that doesn't allow men to be slow. That's really a shame. I wish I lived in the 30's, because it seems so peaceful. But every time has got its ups and downs, I guess...<br /><br />To conclude: if you like music (and frogs), you'll have to see this cartoon. Otherwise, don't spill your time on it.\n"
     ]
    }
   ],
   "source": [
    "# Display Example Reviews\n",
    "print(\n",
    "    \"\\nExample Positive Review:\\n\",\n",
    "    train_data[train_data[\"sentiment\"] == 1][\"review\"].iloc[0],\n",
    ")\n",
    "print(\n",
    "    \"\\nExample Negative Review:\\n\",\n",
    "    train_data[train_data[\"sentiment\"] == 0][\"review\"].iloc[0],\n",
    ")"
   ]
  },
  {
   "cell_type": "code",
   "execution_count": 45,
   "metadata": {},
   "outputs": [
    {
     "data": {
      "application/vnd.plotly.v1+json": {
       "config": {
        "plotlyServerURL": "https://plot.ly"
       },
       "data": [
        {
         "marker": {
          "color": "blue"
         },
         "nbinsx": 50,
         "opacity": 0.7,
         "type": "histogram",
         "x": [
          163,
          276,
          221,
          120,
          146,
          102,
          121,
          364,
          194,
          120,
          154,
          61,
          472,
          129,
          139,
          175,
          323,
          513,
          113,
          302,
          126,
          152,
          572,
          121,
          109,
          159,
          121,
          385,
          170,
          103,
          142,
          138,
          146,
          244,
          263,
          117,
          131,
          259,
          156,
          217,
          297,
          164,
          820,
          130,
          107,
          52,
          320,
          283,
          172,
          271,
          410,
          90,
          739,
          146,
          234,
          295,
          163,
          662,
          586,
          163,
          173,
          292,
          393,
          157,
          245,
          140,
          106,
          251,
          139,
          49,
          152,
          84,
          280,
          461,
          142,
          35,
          180,
          187,
          134,
          72,
          159,
          147,
          314,
          162,
          180,
          117,
          375,
          588,
          57,
          109,
          51,
          457,
          201,
          151,
          100,
          131,
          116,
          152,
          152,
          108,
          62,
          113,
          204,
          414,
          331,
          143,
          131,
          268,
          145,
          165,
          158,
          341,
          137,
          231,
          99,
          138,
          198,
          454,
          37,
          141,
          132,
          163,
          134,
          168,
          226,
          173,
          131,
          158,
          119,
          133,
          214,
          101,
          148,
          123,
          134,
          137,
          100,
          136,
          663,
          362,
          335,
          977,
          160,
          129,
          118,
          470,
          296,
          180,
          317,
          133,
          128,
          899,
          279,
          64,
          213,
          129,
          313,
          410,
          119,
          438,
          143,
          92,
          53,
          94,
          157,
          358,
          293,
          239,
          135,
          117,
          187,
          128,
          283,
          177,
          613,
          141,
          110,
          135,
          152,
          993,
          412,
          454,
          122,
          140,
          131,
          563,
          130,
          126,
          209,
          756,
          177,
          746,
          349,
          190,
          173,
          286,
          124,
          617,
          110,
          393,
          67,
          152,
          430,
          536,
          113,
          268,
          69,
          126,
          447,
          188,
          108,
          127,
          154,
          104,
          158,
          166,
          153,
          89,
          201,
          249,
          231,
          388,
          197,
          111,
          70,
          57,
          201,
          188,
          185,
          61,
          150,
          253,
          1006,
          130,
          343,
          162,
          186,
          119,
          186,
          185,
          843,
          173,
          120,
          211,
          215,
          311,
          134,
          261,
          150,
          95,
          301,
          198,
          315,
          73,
          170,
          105,
          105,
          125,
          138,
          126,
          491,
          244,
          159,
          191,
          428,
          299,
          398,
          127,
          114,
          186,
          140,
          293,
          126,
          114,
          118,
          123,
          380,
          150,
          72,
          56,
          238,
          131,
          179,
          79,
          122,
          137,
          319,
          305,
          137,
          361,
          98,
          143,
          118,
          123,
          132,
          194,
          131,
          132,
          95,
          141,
          126,
          130,
          278,
          245,
          50,
          136,
          141,
          583,
          284,
          181,
          405,
          362,
          125,
          123,
          253,
          164,
          131,
          199,
          509,
          423,
          216,
          162,
          286,
          125,
          126,
          137,
          217,
          72,
          122,
          180,
          247,
          482,
          205,
          123,
          193,
          468,
          81,
          126,
          140,
          242,
          127,
          102,
          149,
          312,
          303,
          335,
          193,
          295,
          135,
          235,
          177,
          177,
          229,
          360,
          148,
          118,
          632,
          410,
          46,
          229,
          391,
          248,
          147,
          134,
          157,
          145,
          165,
          373,
          199,
          253,
          170,
          102,
          390,
          171,
          249,
          235,
          416,
          534,
          187,
          339,
          160,
          275,
          135,
          85,
          199,
          143,
          170,
          145,
          334,
          471,
          124,
          61,
          121,
          299,
          108,
          181,
          431,
          343,
          856,
          476,
          261,
          112,
          114,
          128,
          441,
          252,
          228,
          209,
          372,
          311,
          242,
          129,
          192,
          141,
          283,
          122,
          114,
          56,
          221,
          307,
          157,
          379,
          799,
          236,
          272,
          236,
          205,
          161,
          142,
          146,
          72,
          285,
          126,
          273,
          96,
          287,
          82,
          117,
          160,
          255,
          54,
          242,
          240,
          203,
          108,
          401,
          87,
          612,
          439,
          142,
          53,
          885,
          129,
          113,
          340,
          132,
          42,
          146,
          101,
          124,
          486,
          164,
          154,
          585,
          632,
          390,
          113,
          240,
          135,
          152,
          158,
          78,
          104,
          383,
          98,
          213,
          108,
          128,
          380,
          111,
          61,
          361,
          86,
          67,
          168,
          138,
          158,
          196,
          399,
          234,
          857,
          141,
          296,
          122,
          154,
          271,
          215,
          106,
          278,
          440,
          263,
          225,
          82,
          140,
          220,
          233,
          263,
          300,
          131,
          349,
          287,
          70,
          49,
          144,
          394,
          199,
          179,
          134,
          128,
          85,
          495,
          248,
          128,
          158,
          151,
          281,
          169,
          75,
          528,
          211,
          793,
          40,
          427,
          184,
          109,
          230,
          269,
          222,
          360,
          152,
          189,
          107,
          236,
          104,
          96,
          361,
          193,
          212,
          480,
          156,
          105,
          247,
          529,
          141,
          560,
          192,
          110,
          154,
          219,
          242,
          326,
          459,
          151,
          164,
          71,
          766,
          193,
          176,
          129,
          258,
          195,
          475,
          77,
          164,
          164,
          171,
          351,
          123,
          119,
          297,
          238,
          150,
          173,
          382,
          181,
          123,
          101,
          50,
          136,
          144,
          153,
          773,
          152,
          275,
          237,
          109,
          429,
          371,
          255,
          158,
          339,
          117,
          338,
          255,
          101,
          201,
          495,
          259,
          273,
          309,
          80,
          136,
          132,
          268,
          274,
          874,
          243,
          139,
          142,
          89,
          135,
          174,
          316,
          117,
          49,
          290,
          95,
          357,
          151,
          90,
          407,
          193,
          140,
          164,
          110,
          109,
          411,
          129,
          129,
          61,
          135,
          133,
          599,
          393,
          157,
          150,
          129,
          183,
          124,
          156,
          444,
          138,
          748,
          124,
          346,
          216,
          295,
          146,
          139,
          572,
          169,
          145,
          383,
          179,
          118,
          179,
          180,
          305,
          44,
          215,
          226,
          392,
          115,
          134,
          76,
          90,
          199,
          481,
          161,
          92,
          748,
          127,
          133,
          80,
          190,
          275,
          119,
          249,
          303,
          161,
          127,
          220,
          159,
          537,
          177,
          283,
          166,
          153,
          141,
          102,
          487,
          188,
          377,
          171,
          144,
          136,
          123,
          205,
          93,
          301,
          266,
          67,
          263,
          108,
          122,
          92,
          279,
          200,
          136,
          105,
          126,
          128,
          117,
          156,
          60,
          224,
          212,
          131,
          728,
          71,
          480,
          441,
          172,
          283,
          168,
          127,
          79,
          50,
          333,
          163,
          154,
          155,
          115,
          42,
          132,
          108,
          55,
          53,
          54,
          137,
          265,
          713,
          130,
          150,
          120,
          183,
          178,
          163,
          76,
          135,
          569,
          221,
          120,
          459,
          152,
          58,
          102,
          407,
          225,
          78,
          476,
          123,
          209,
          108,
          270,
          203,
          392,
          441,
          195,
          99,
          140,
          272,
          75,
          303,
          963,
          200,
          168,
          423,
          176,
          100,
          150,
          121,
          127,
          77,
          59,
          127,
          128,
          172,
          132,
          497,
          374,
          156,
          165,
          88,
          111,
          146,
          229,
          119,
          675,
          310,
          151,
          221,
          248,
          319,
          143,
          318,
          152,
          415,
          79,
          174,
          179,
          161,
          124,
          300,
          190,
          100,
          221,
          475,
          201,
          81,
          211,
          152,
          125,
          130,
          126,
          132,
          119,
          187,
          159,
          714,
          172,
          137,
          393,
          58,
          112,
          266,
          177,
          131,
          147,
          173,
          160,
          103,
          606,
          138,
          199,
          335,
          635,
          743,
          114,
          201,
          467,
          185,
          120,
          993,
          449,
          57,
          160,
          206,
          328,
          120,
          162,
          254,
          130,
          684,
          531,
          47,
          279,
          152,
          86,
          438,
          131,
          239,
          188,
          122,
          233,
          350,
          120,
          366,
          197,
          140,
          115,
          111,
          181,
          145,
          102,
          646,
          675,
          441,
          88,
          117,
          44,
          639,
          111,
          212,
          246,
          118,
          179,
          142,
          183,
          135,
          428,
          204,
          146,
          228,
          878,
          309,
          131,
          211,
          138,
          272,
          478,
          141,
          108,
          188,
          79,
          39,
          286,
          142,
          123,
          266,
          112,
          377,
          179,
          57,
          389,
          236,
          327,
          568,
          104,
          157,
          146,
          246,
          273,
          126,
          164,
          113,
          844,
          130,
          128,
          585,
          162,
          147,
          270,
          338,
          277,
          412,
          90,
          247,
          306,
          200,
          88,
          122,
          143,
          82,
          160,
          983,
          274,
          135,
          275,
          129,
          106,
          231,
          107,
          173,
          171,
          137,
          123,
          306,
          457,
          360,
          10,
          102,
          253,
          88,
          69,
          329,
          158,
          92,
          123,
          62,
          156,
          264,
          346,
          193,
          891,
          209,
          466,
          167,
          142,
          122
         ]
        }
       ],
       "layout": {
        "bargap": 0.1,
        "template": {
         "data": {
          "bar": [
           {
            "error_x": {
             "color": "#2a3f5f"
            },
            "error_y": {
             "color": "#2a3f5f"
            },
            "marker": {
             "line": {
              "color": "#E5ECF6",
              "width": 0.5
             },
             "pattern": {
              "fillmode": "overlay",
              "size": 10,
              "solidity": 0.2
             }
            },
            "type": "bar"
           }
          ],
          "barpolar": [
           {
            "marker": {
             "line": {
              "color": "#E5ECF6",
              "width": 0.5
             },
             "pattern": {
              "fillmode": "overlay",
              "size": 10,
              "solidity": 0.2
             }
            },
            "type": "barpolar"
           }
          ],
          "carpet": [
           {
            "aaxis": {
             "endlinecolor": "#2a3f5f",
             "gridcolor": "white",
             "linecolor": "white",
             "minorgridcolor": "white",
             "startlinecolor": "#2a3f5f"
            },
            "baxis": {
             "endlinecolor": "#2a3f5f",
             "gridcolor": "white",
             "linecolor": "white",
             "minorgridcolor": "white",
             "startlinecolor": "#2a3f5f"
            },
            "type": "carpet"
           }
          ],
          "choropleth": [
           {
            "colorbar": {
             "outlinewidth": 0,
             "ticks": ""
            },
            "type": "choropleth"
           }
          ],
          "contour": [
           {
            "colorbar": {
             "outlinewidth": 0,
             "ticks": ""
            },
            "colorscale": [
             [
              0,
              "#0d0887"
             ],
             [
              0.1111111111111111,
              "#46039f"
             ],
             [
              0.2222222222222222,
              "#7201a8"
             ],
             [
              0.3333333333333333,
              "#9c179e"
             ],
             [
              0.4444444444444444,
              "#bd3786"
             ],
             [
              0.5555555555555556,
              "#d8576b"
             ],
             [
              0.6666666666666666,
              "#ed7953"
             ],
             [
              0.7777777777777778,
              "#fb9f3a"
             ],
             [
              0.8888888888888888,
              "#fdca26"
             ],
             [
              1,
              "#f0f921"
             ]
            ],
            "type": "contour"
           }
          ],
          "contourcarpet": [
           {
            "colorbar": {
             "outlinewidth": 0,
             "ticks": ""
            },
            "type": "contourcarpet"
           }
          ],
          "heatmap": [
           {
            "colorbar": {
             "outlinewidth": 0,
             "ticks": ""
            },
            "colorscale": [
             [
              0,
              "#0d0887"
             ],
             [
              0.1111111111111111,
              "#46039f"
             ],
             [
              0.2222222222222222,
              "#7201a8"
             ],
             [
              0.3333333333333333,
              "#9c179e"
             ],
             [
              0.4444444444444444,
              "#bd3786"
             ],
             [
              0.5555555555555556,
              "#d8576b"
             ],
             [
              0.6666666666666666,
              "#ed7953"
             ],
             [
              0.7777777777777778,
              "#fb9f3a"
             ],
             [
              0.8888888888888888,
              "#fdca26"
             ],
             [
              1,
              "#f0f921"
             ]
            ],
            "type": "heatmap"
           }
          ],
          "heatmapgl": [
           {
            "colorbar": {
             "outlinewidth": 0,
             "ticks": ""
            },
            "colorscale": [
             [
              0,
              "#0d0887"
             ],
             [
              0.1111111111111111,
              "#46039f"
             ],
             [
              0.2222222222222222,
              "#7201a8"
             ],
             [
              0.3333333333333333,
              "#9c179e"
             ],
             [
              0.4444444444444444,
              "#bd3786"
             ],
             [
              0.5555555555555556,
              "#d8576b"
             ],
             [
              0.6666666666666666,
              "#ed7953"
             ],
             [
              0.7777777777777778,
              "#fb9f3a"
             ],
             [
              0.8888888888888888,
              "#fdca26"
             ],
             [
              1,
              "#f0f921"
             ]
            ],
            "type": "heatmapgl"
           }
          ],
          "histogram": [
           {
            "marker": {
             "pattern": {
              "fillmode": "overlay",
              "size": 10,
              "solidity": 0.2
             }
            },
            "type": "histogram"
           }
          ],
          "histogram2d": [
           {
            "colorbar": {
             "outlinewidth": 0,
             "ticks": ""
            },
            "colorscale": [
             [
              0,
              "#0d0887"
             ],
             [
              0.1111111111111111,
              "#46039f"
             ],
             [
              0.2222222222222222,
              "#7201a8"
             ],
             [
              0.3333333333333333,
              "#9c179e"
             ],
             [
              0.4444444444444444,
              "#bd3786"
             ],
             [
              0.5555555555555556,
              "#d8576b"
             ],
             [
              0.6666666666666666,
              "#ed7953"
             ],
             [
              0.7777777777777778,
              "#fb9f3a"
             ],
             [
              0.8888888888888888,
              "#fdca26"
             ],
             [
              1,
              "#f0f921"
             ]
            ],
            "type": "histogram2d"
           }
          ],
          "histogram2dcontour": [
           {
            "colorbar": {
             "outlinewidth": 0,
             "ticks": ""
            },
            "colorscale": [
             [
              0,
              "#0d0887"
             ],
             [
              0.1111111111111111,
              "#46039f"
             ],
             [
              0.2222222222222222,
              "#7201a8"
             ],
             [
              0.3333333333333333,
              "#9c179e"
             ],
             [
              0.4444444444444444,
              "#bd3786"
             ],
             [
              0.5555555555555556,
              "#d8576b"
             ],
             [
              0.6666666666666666,
              "#ed7953"
             ],
             [
              0.7777777777777778,
              "#fb9f3a"
             ],
             [
              0.8888888888888888,
              "#fdca26"
             ],
             [
              1,
              "#f0f921"
             ]
            ],
            "type": "histogram2dcontour"
           }
          ],
          "mesh3d": [
           {
            "colorbar": {
             "outlinewidth": 0,
             "ticks": ""
            },
            "type": "mesh3d"
           }
          ],
          "parcoords": [
           {
            "line": {
             "colorbar": {
              "outlinewidth": 0,
              "ticks": ""
             }
            },
            "type": "parcoords"
           }
          ],
          "pie": [
           {
            "automargin": true,
            "type": "pie"
           }
          ],
          "scatter": [
           {
            "fillpattern": {
             "fillmode": "overlay",
             "size": 10,
             "solidity": 0.2
            },
            "type": "scatter"
           }
          ],
          "scatter3d": [
           {
            "line": {
             "colorbar": {
              "outlinewidth": 0,
              "ticks": ""
             }
            },
            "marker": {
             "colorbar": {
              "outlinewidth": 0,
              "ticks": ""
             }
            },
            "type": "scatter3d"
           }
          ],
          "scattercarpet": [
           {
            "marker": {
             "colorbar": {
              "outlinewidth": 0,
              "ticks": ""
             }
            },
            "type": "scattercarpet"
           }
          ],
          "scattergeo": [
           {
            "marker": {
             "colorbar": {
              "outlinewidth": 0,
              "ticks": ""
             }
            },
            "type": "scattergeo"
           }
          ],
          "scattergl": [
           {
            "marker": {
             "colorbar": {
              "outlinewidth": 0,
              "ticks": ""
             }
            },
            "type": "scattergl"
           }
          ],
          "scattermapbox": [
           {
            "marker": {
             "colorbar": {
              "outlinewidth": 0,
              "ticks": ""
             }
            },
            "type": "scattermapbox"
           }
          ],
          "scatterpolar": [
           {
            "marker": {
             "colorbar": {
              "outlinewidth": 0,
              "ticks": ""
             }
            },
            "type": "scatterpolar"
           }
          ],
          "scatterpolargl": [
           {
            "marker": {
             "colorbar": {
              "outlinewidth": 0,
              "ticks": ""
             }
            },
            "type": "scatterpolargl"
           }
          ],
          "scatterternary": [
           {
            "marker": {
             "colorbar": {
              "outlinewidth": 0,
              "ticks": ""
             }
            },
            "type": "scatterternary"
           }
          ],
          "surface": [
           {
            "colorbar": {
             "outlinewidth": 0,
             "ticks": ""
            },
            "colorscale": [
             [
              0,
              "#0d0887"
             ],
             [
              0.1111111111111111,
              "#46039f"
             ],
             [
              0.2222222222222222,
              "#7201a8"
             ],
             [
              0.3333333333333333,
              "#9c179e"
             ],
             [
              0.4444444444444444,
              "#bd3786"
             ],
             [
              0.5555555555555556,
              "#d8576b"
             ],
             [
              0.6666666666666666,
              "#ed7953"
             ],
             [
              0.7777777777777778,
              "#fb9f3a"
             ],
             [
              0.8888888888888888,
              "#fdca26"
             ],
             [
              1,
              "#f0f921"
             ]
            ],
            "type": "surface"
           }
          ],
          "table": [
           {
            "cells": {
             "fill": {
              "color": "#EBF0F8"
             },
             "line": {
              "color": "white"
             }
            },
            "header": {
             "fill": {
              "color": "#C8D4E3"
             },
             "line": {
              "color": "white"
             }
            },
            "type": "table"
           }
          ]
         },
         "layout": {
          "annotationdefaults": {
           "arrowcolor": "#2a3f5f",
           "arrowhead": 0,
           "arrowwidth": 1
          },
          "autotypenumbers": "strict",
          "coloraxis": {
           "colorbar": {
            "outlinewidth": 0,
            "ticks": ""
           }
          },
          "colorscale": {
           "diverging": [
            [
             0,
             "#8e0152"
            ],
            [
             0.1,
             "#c51b7d"
            ],
            [
             0.2,
             "#de77ae"
            ],
            [
             0.3,
             "#f1b6da"
            ],
            [
             0.4,
             "#fde0ef"
            ],
            [
             0.5,
             "#f7f7f7"
            ],
            [
             0.6,
             "#e6f5d0"
            ],
            [
             0.7,
             "#b8e186"
            ],
            [
             0.8,
             "#7fbc41"
            ],
            [
             0.9,
             "#4d9221"
            ],
            [
             1,
             "#276419"
            ]
           ],
           "sequential": [
            [
             0,
             "#0d0887"
            ],
            [
             0.1111111111111111,
             "#46039f"
            ],
            [
             0.2222222222222222,
             "#7201a8"
            ],
            [
             0.3333333333333333,
             "#9c179e"
            ],
            [
             0.4444444444444444,
             "#bd3786"
            ],
            [
             0.5555555555555556,
             "#d8576b"
            ],
            [
             0.6666666666666666,
             "#ed7953"
            ],
            [
             0.7777777777777778,
             "#fb9f3a"
            ],
            [
             0.8888888888888888,
             "#fdca26"
            ],
            [
             1,
             "#f0f921"
            ]
           ],
           "sequentialminus": [
            [
             0,
             "#0d0887"
            ],
            [
             0.1111111111111111,
             "#46039f"
            ],
            [
             0.2222222222222222,
             "#7201a8"
            ],
            [
             0.3333333333333333,
             "#9c179e"
            ],
            [
             0.4444444444444444,
             "#bd3786"
            ],
            [
             0.5555555555555556,
             "#d8576b"
            ],
            [
             0.6666666666666666,
             "#ed7953"
            ],
            [
             0.7777777777777778,
             "#fb9f3a"
            ],
            [
             0.8888888888888888,
             "#fdca26"
            ],
            [
             1,
             "#f0f921"
            ]
           ]
          },
          "colorway": [
           "#636efa",
           "#EF553B",
           "#00cc96",
           "#ab63fa",
           "#FFA15A",
           "#19d3f3",
           "#FF6692",
           "#B6E880",
           "#FF97FF",
           "#FECB52"
          ],
          "font": {
           "color": "#2a3f5f"
          },
          "geo": {
           "bgcolor": "white",
           "lakecolor": "white",
           "landcolor": "#E5ECF6",
           "showlakes": true,
           "showland": true,
           "subunitcolor": "white"
          },
          "hoverlabel": {
           "align": "left"
          },
          "hovermode": "closest",
          "mapbox": {
           "style": "light"
          },
          "paper_bgcolor": "white",
          "plot_bgcolor": "#E5ECF6",
          "polar": {
           "angularaxis": {
            "gridcolor": "white",
            "linecolor": "white",
            "ticks": ""
           },
           "bgcolor": "#E5ECF6",
           "radialaxis": {
            "gridcolor": "white",
            "linecolor": "white",
            "ticks": ""
           }
          },
          "scene": {
           "xaxis": {
            "backgroundcolor": "#E5ECF6",
            "gridcolor": "white",
            "gridwidth": 2,
            "linecolor": "white",
            "showbackground": true,
            "ticks": "",
            "zerolinecolor": "white"
           },
           "yaxis": {
            "backgroundcolor": "#E5ECF6",
            "gridcolor": "white",
            "gridwidth": 2,
            "linecolor": "white",
            "showbackground": true,
            "ticks": "",
            "zerolinecolor": "white"
           },
           "zaxis": {
            "backgroundcolor": "#E5ECF6",
            "gridcolor": "white",
            "gridwidth": 2,
            "linecolor": "white",
            "showbackground": true,
            "ticks": "",
            "zerolinecolor": "white"
           }
          },
          "shapedefaults": {
           "line": {
            "color": "#2a3f5f"
           }
          },
          "ternary": {
           "aaxis": {
            "gridcolor": "white",
            "linecolor": "white",
            "ticks": ""
           },
           "baxis": {
            "gridcolor": "white",
            "linecolor": "white",
            "ticks": ""
           },
           "bgcolor": "#E5ECF6",
           "caxis": {
            "gridcolor": "white",
            "linecolor": "white",
            "ticks": ""
           }
          },
          "title": {
           "x": 0.05
          },
          "xaxis": {
           "automargin": true,
           "gridcolor": "white",
           "linecolor": "white",
           "ticks": "",
           "title": {
            "standoff": 15
           },
           "zerolinecolor": "white",
           "zerolinewidth": 2
          },
          "yaxis": {
           "automargin": true,
           "gridcolor": "white",
           "linecolor": "white",
           "ticks": "",
           "title": {
            "standoff": 15
           },
           "zerolinecolor": "white",
           "zerolinewidth": 2
          }
         }
        },
        "title": {
         "text": "Word Count Distribution per Review"
        },
        "xaxis": {
         "title": {
          "text": "Word Count"
         }
        },
        "yaxis": {
         "title": {
          "text": "Frequency"
         }
        }
       }
      }
     },
     "metadata": {},
     "output_type": "display_data"
    }
   ],
   "source": [
    "# Visualize Data Characteristics\n",
    "# 1. Word Count Distribution per Review\n",
    "train_data[\"word_count\"] = train_data[\"review\"].apply(lambda x: len(x.split()))\n",
    "\n",
    "# Plotting with Plotly\n",
    "fig = go.Figure()\n",
    "fig.add_trace(\n",
    "    go.Histogram(\n",
    "        x=train_data[\"word_count\"], nbinsx=50, marker_color=\"blue\", opacity=0.7\n",
    "    )\n",
    ")\n",
    "\n",
    "# Setting titles and labels\n",
    "fig.update_layout(\n",
    "    title=\"Word Count Distribution per Review\",\n",
    "    xaxis_title=\"Word Count\",\n",
    "    yaxis_title=\"Frequency\",\n",
    "    bargap=0.1,\n",
    ")\n",
    "\n",
    "fig.show()"
   ]
  },
  {
   "cell_type": "code",
   "execution_count": 46,
   "metadata": {},
   "outputs": [
    {
     "name": "stdout",
     "output_type": "stream",
     "text": [
      "Average Word Count in Positive Reviews: 226.33064516129033\n",
      "Average Word Count in Negative Reviews: 226.15674603174602\n"
     ]
    }
   ],
   "source": [
    "# 2. Average Sentiment Polarity per Review Length\n",
    "avg_word_count_pos = train_data[train_data[\"sentiment\"] == 1][\"word_count\"].mean()\n",
    "avg_word_count_neg = train_data[train_data[\"sentiment\"] == 0][\"word_count\"].mean()\n",
    "print(f\"Average Word Count in Positive Reviews: {avg_word_count_pos}\")\n",
    "print(f\"Average Word Count in Negative Reviews: {avg_word_count_neg}\")"
   ]
  },
  {
   "cell_type": "code",
   "execution_count": 47,
   "metadata": {},
   "outputs": [],
   "source": [
    "# Define custom stopwords\n",
    "custom_stopwords = set(\n",
    "    [\n",
    "        \"i\",\n",
    "        \"me\",\n",
    "        \"my\",\n",
    "        \"myself\",\n",
    "        \"we\",\n",
    "        \"our\",\n",
    "        \"ours\",\n",
    "        \"ourselves\",\n",
    "        \"you\",\n",
    "        \"your\",\n",
    "        \"yours\",\n",
    "        \"yourself\",\n",
    "        \"yourselves\",\n",
    "        \"he\",\n",
    "        \"him\",\n",
    "        \"his\",\n",
    "        \"himself\",\n",
    "        \"she\",\n",
    "        \"her\",\n",
    "        \"hers\",\n",
    "        \"herself\",\n",
    "        \"it\",\n",
    "        \"its\",\n",
    "        \"itself\",\n",
    "        \"they\",\n",
    "        \"them\",\n",
    "        \"their\",\n",
    "        \"theirs\",\n",
    "        \"themselves\",\n",
    "        \"what\",\n",
    "        \"which\",\n",
    "        \"who\",\n",
    "        \"whom\",\n",
    "        \"this\",\n",
    "        \"that\",\n",
    "        \"these\",\n",
    "        \"those\",\n",
    "        \"am\",\n",
    "        \"is\",\n",
    "        \"are\",\n",
    "        \"was\",\n",
    "        \"were\",\n",
    "        \"be\",\n",
    "        \"been\",\n",
    "        \"being\",\n",
    "        \"have\",\n",
    "        \"has\",\n",
    "        \"had\",\n",
    "        \"having\",\n",
    "        \"do\",\n",
    "        \"does\",\n",
    "        \"did\",\n",
    "        \"doing\",\n",
    "        \"a\",\n",
    "        \"an\",\n",
    "        \"the\",\n",
    "        \"and\",\n",
    "        \"but\",\n",
    "        \"if\",\n",
    "        \"or\",\n",
    "        \"because\",\n",
    "        \"as\",\n",
    "        \"until\",\n",
    "        \"while\",\n",
    "        \"of\",\n",
    "        \"at\",\n",
    "        \"by\",\n",
    "        \"for\",\n",
    "        \"with\",\n",
    "        \"about\",\n",
    "        \"against\",\n",
    "        \"between\",\n",
    "        \"into\",\n",
    "        \"through\",\n",
    "        \"during\",\n",
    "        \"before\",\n",
    "        \"after\",\n",
    "        \"above\",\n",
    "        \"below\",\n",
    "        \"to\",\n",
    "        \"from\",\n",
    "        \"up\",\n",
    "        \"down\",\n",
    "        \"in\",\n",
    "        \"out\",\n",
    "        \"on\",\n",
    "        \"off\",\n",
    "        \"over\",\n",
    "        \"under\",\n",
    "        \"again\",\n",
    "        \"further\",\n",
    "        \"then\",\n",
    "        \"once\",\n",
    "        \"here\",\n",
    "        \"there\",\n",
    "        \"when\",\n",
    "        \"where\",\n",
    "        \"why\",\n",
    "        \"how\",\n",
    "        \"all\",\n",
    "        \"any\",\n",
    "        \"both\",\n",
    "        \"each\",\n",
    "        \"few\",\n",
    "        \"more\",\n",
    "        \"most\",\n",
    "        \"other\",\n",
    "        \"some\",\n",
    "        \"such\",\n",
    "        \"no\",\n",
    "        \"nor\",\n",
    "        \"not\",\n",
    "        \"only\",\n",
    "        \"own\",\n",
    "        \"same\",\n",
    "        \"so\",\n",
    "        \"than\",\n",
    "        \"too\",\n",
    "        \"very\",\n",
    "        \"s\",\n",
    "        \"t\",\n",
    "        \"can\",\n",
    "        \"will\",\n",
    "        \"just\",\n",
    "        \"don\",\n",
    "        \"should\",\n",
    "        \"now\",\n",
    "    ]\n",
    ")"
   ]
  },
  {
   "cell_type": "code",
   "execution_count": 48,
   "metadata": {},
   "outputs": [],
   "source": [
    "# 3. Frequency Distribution of Words (Unigrams and Bigrams)\n",
    "# Preprocess text\n",
    "def preprocess_text(text):\n",
    "    text = re.sub(r\"[^\\w\\s]\", \"\", text.lower())\n",
    "    words = text.split()\n",
    "    return [word for word in words if word not in custom_stopwords]"
   ]
  },
  {
   "cell_type": "code",
   "execution_count": 49,
   "metadata": {},
   "outputs": [],
   "source": [
    "# Extract Unigrams and Bigrams\n",
    "all_words = []\n",
    "all_bigrams = []\n",
    "for review in train_data[\"review\"]:\n",
    "    words = preprocess_text(review)\n",
    "    all_words.extend(words)\n",
    "    all_bigrams.extend([(words[i], words[i + 1]) for i in range(len(words) - 1)])"
   ]
  },
  {
   "cell_type": "code",
   "execution_count": 50,
   "metadata": {},
   "outputs": [
    {
     "name": "stdout",
     "output_type": "stream",
     "text": [
      "Top 10 Unigrams: [('br', 2183), ('movie', 1685), ('film', 1418), ('one', 1074), ('like', 752), ('good', 564), ('would', 525), ('even', 481), ('time', 472), ('story', 452)]\n",
      "Top 10 Bigrams: [(('br', 'br'), 239), (('special', 'effects'), 52), (('br', 'movie'), 46), (('even', 'though'), 45), (('ever', 'seen'), 45), (('br', 'film'), 45), (('moviebr', 'br'), 44), (('one', 'best'), 43), (('ive', 'seen'), 40), (('waste', 'time'), 35)]\n"
     ]
    }
   ],
   "source": [
    "# Frequency Counts\n",
    "unigram_counts = Counter(all_words)\n",
    "bigram_counts = Counter(all_bigrams)\n",
    "\n",
    "# Display top 10 most common unigrams and bigrams\n",
    "print(\"Top 10 Unigrams:\", unigram_counts.most_common(10))\n",
    "print(\"Top 10 Bigrams:\", bigram_counts.most_common(10))"
   ]
  },
  {
   "cell_type": "code",
   "execution_count": 51,
   "metadata": {},
   "outputs": [
    {
     "data": {
      "application/vnd.plotly.v1+json": {
       "config": {
        "plotlyServerURL": "https://plot.ly"
       },
       "data": [
        {
         "alignmentgroup": "True",
         "hovertemplate": "Unigram=%{x}<br>Frequency=%{y}<extra></extra>",
         "legendgroup": "",
         "marker": {
          "color": "#636efa",
          "pattern": {
           "shape": ""
          }
         },
         "name": "",
         "offsetgroup": "",
         "orientation": "v",
         "showlegend": false,
         "textposition": "auto",
         "type": "bar",
         "x": [
          "br",
          "movie",
          "film",
          "one",
          "like",
          "good",
          "would",
          "even",
          "time",
          "story",
          "really",
          "see",
          "well",
          "bad",
          "much",
          "great",
          "also",
          "get",
          "first",
          "movies"
         ],
         "xaxis": "x",
         "y": [
          2183,
          1685,
          1418,
          1074,
          752,
          564,
          525,
          481,
          472,
          452,
          420,
          411,
          401,
          384,
          371,
          366,
          361,
          340,
          339,
          333
         ],
         "yaxis": "y"
        }
       ],
       "layout": {
        "barmode": "relative",
        "legend": {
         "tracegroupgap": 0
        },
        "template": {
         "data": {
          "bar": [
           {
            "error_x": {
             "color": "#2a3f5f"
            },
            "error_y": {
             "color": "#2a3f5f"
            },
            "marker": {
             "line": {
              "color": "#E5ECF6",
              "width": 0.5
             },
             "pattern": {
              "fillmode": "overlay",
              "size": 10,
              "solidity": 0.2
             }
            },
            "type": "bar"
           }
          ],
          "barpolar": [
           {
            "marker": {
             "line": {
              "color": "#E5ECF6",
              "width": 0.5
             },
             "pattern": {
              "fillmode": "overlay",
              "size": 10,
              "solidity": 0.2
             }
            },
            "type": "barpolar"
           }
          ],
          "carpet": [
           {
            "aaxis": {
             "endlinecolor": "#2a3f5f",
             "gridcolor": "white",
             "linecolor": "white",
             "minorgridcolor": "white",
             "startlinecolor": "#2a3f5f"
            },
            "baxis": {
             "endlinecolor": "#2a3f5f",
             "gridcolor": "white",
             "linecolor": "white",
             "minorgridcolor": "white",
             "startlinecolor": "#2a3f5f"
            },
            "type": "carpet"
           }
          ],
          "choropleth": [
           {
            "colorbar": {
             "outlinewidth": 0,
             "ticks": ""
            },
            "type": "choropleth"
           }
          ],
          "contour": [
           {
            "colorbar": {
             "outlinewidth": 0,
             "ticks": ""
            },
            "colorscale": [
             [
              0,
              "#0d0887"
             ],
             [
              0.1111111111111111,
              "#46039f"
             ],
             [
              0.2222222222222222,
              "#7201a8"
             ],
             [
              0.3333333333333333,
              "#9c179e"
             ],
             [
              0.4444444444444444,
              "#bd3786"
             ],
             [
              0.5555555555555556,
              "#d8576b"
             ],
             [
              0.6666666666666666,
              "#ed7953"
             ],
             [
              0.7777777777777778,
              "#fb9f3a"
             ],
             [
              0.8888888888888888,
              "#fdca26"
             ],
             [
              1,
              "#f0f921"
             ]
            ],
            "type": "contour"
           }
          ],
          "contourcarpet": [
           {
            "colorbar": {
             "outlinewidth": 0,
             "ticks": ""
            },
            "type": "contourcarpet"
           }
          ],
          "heatmap": [
           {
            "colorbar": {
             "outlinewidth": 0,
             "ticks": ""
            },
            "colorscale": [
             [
              0,
              "#0d0887"
             ],
             [
              0.1111111111111111,
              "#46039f"
             ],
             [
              0.2222222222222222,
              "#7201a8"
             ],
             [
              0.3333333333333333,
              "#9c179e"
             ],
             [
              0.4444444444444444,
              "#bd3786"
             ],
             [
              0.5555555555555556,
              "#d8576b"
             ],
             [
              0.6666666666666666,
              "#ed7953"
             ],
             [
              0.7777777777777778,
              "#fb9f3a"
             ],
             [
              0.8888888888888888,
              "#fdca26"
             ],
             [
              1,
              "#f0f921"
             ]
            ],
            "type": "heatmap"
           }
          ],
          "heatmapgl": [
           {
            "colorbar": {
             "outlinewidth": 0,
             "ticks": ""
            },
            "colorscale": [
             [
              0,
              "#0d0887"
             ],
             [
              0.1111111111111111,
              "#46039f"
             ],
             [
              0.2222222222222222,
              "#7201a8"
             ],
             [
              0.3333333333333333,
              "#9c179e"
             ],
             [
              0.4444444444444444,
              "#bd3786"
             ],
             [
              0.5555555555555556,
              "#d8576b"
             ],
             [
              0.6666666666666666,
              "#ed7953"
             ],
             [
              0.7777777777777778,
              "#fb9f3a"
             ],
             [
              0.8888888888888888,
              "#fdca26"
             ],
             [
              1,
              "#f0f921"
             ]
            ],
            "type": "heatmapgl"
           }
          ],
          "histogram": [
           {
            "marker": {
             "pattern": {
              "fillmode": "overlay",
              "size": 10,
              "solidity": 0.2
             }
            },
            "type": "histogram"
           }
          ],
          "histogram2d": [
           {
            "colorbar": {
             "outlinewidth": 0,
             "ticks": ""
            },
            "colorscale": [
             [
              0,
              "#0d0887"
             ],
             [
              0.1111111111111111,
              "#46039f"
             ],
             [
              0.2222222222222222,
              "#7201a8"
             ],
             [
              0.3333333333333333,
              "#9c179e"
             ],
             [
              0.4444444444444444,
              "#bd3786"
             ],
             [
              0.5555555555555556,
              "#d8576b"
             ],
             [
              0.6666666666666666,
              "#ed7953"
             ],
             [
              0.7777777777777778,
              "#fb9f3a"
             ],
             [
              0.8888888888888888,
              "#fdca26"
             ],
             [
              1,
              "#f0f921"
             ]
            ],
            "type": "histogram2d"
           }
          ],
          "histogram2dcontour": [
           {
            "colorbar": {
             "outlinewidth": 0,
             "ticks": ""
            },
            "colorscale": [
             [
              0,
              "#0d0887"
             ],
             [
              0.1111111111111111,
              "#46039f"
             ],
             [
              0.2222222222222222,
              "#7201a8"
             ],
             [
              0.3333333333333333,
              "#9c179e"
             ],
             [
              0.4444444444444444,
              "#bd3786"
             ],
             [
              0.5555555555555556,
              "#d8576b"
             ],
             [
              0.6666666666666666,
              "#ed7953"
             ],
             [
              0.7777777777777778,
              "#fb9f3a"
             ],
             [
              0.8888888888888888,
              "#fdca26"
             ],
             [
              1,
              "#f0f921"
             ]
            ],
            "type": "histogram2dcontour"
           }
          ],
          "mesh3d": [
           {
            "colorbar": {
             "outlinewidth": 0,
             "ticks": ""
            },
            "type": "mesh3d"
           }
          ],
          "parcoords": [
           {
            "line": {
             "colorbar": {
              "outlinewidth": 0,
              "ticks": ""
             }
            },
            "type": "parcoords"
           }
          ],
          "pie": [
           {
            "automargin": true,
            "type": "pie"
           }
          ],
          "scatter": [
           {
            "fillpattern": {
             "fillmode": "overlay",
             "size": 10,
             "solidity": 0.2
            },
            "type": "scatter"
           }
          ],
          "scatter3d": [
           {
            "line": {
             "colorbar": {
              "outlinewidth": 0,
              "ticks": ""
             }
            },
            "marker": {
             "colorbar": {
              "outlinewidth": 0,
              "ticks": ""
             }
            },
            "type": "scatter3d"
           }
          ],
          "scattercarpet": [
           {
            "marker": {
             "colorbar": {
              "outlinewidth": 0,
              "ticks": ""
             }
            },
            "type": "scattercarpet"
           }
          ],
          "scattergeo": [
           {
            "marker": {
             "colorbar": {
              "outlinewidth": 0,
              "ticks": ""
             }
            },
            "type": "scattergeo"
           }
          ],
          "scattergl": [
           {
            "marker": {
             "colorbar": {
              "outlinewidth": 0,
              "ticks": ""
             }
            },
            "type": "scattergl"
           }
          ],
          "scattermapbox": [
           {
            "marker": {
             "colorbar": {
              "outlinewidth": 0,
              "ticks": ""
             }
            },
            "type": "scattermapbox"
           }
          ],
          "scatterpolar": [
           {
            "marker": {
             "colorbar": {
              "outlinewidth": 0,
              "ticks": ""
             }
            },
            "type": "scatterpolar"
           }
          ],
          "scatterpolargl": [
           {
            "marker": {
             "colorbar": {
              "outlinewidth": 0,
              "ticks": ""
             }
            },
            "type": "scatterpolargl"
           }
          ],
          "scatterternary": [
           {
            "marker": {
             "colorbar": {
              "outlinewidth": 0,
              "ticks": ""
             }
            },
            "type": "scatterternary"
           }
          ],
          "surface": [
           {
            "colorbar": {
             "outlinewidth": 0,
             "ticks": ""
            },
            "colorscale": [
             [
              0,
              "#0d0887"
             ],
             [
              0.1111111111111111,
              "#46039f"
             ],
             [
              0.2222222222222222,
              "#7201a8"
             ],
             [
              0.3333333333333333,
              "#9c179e"
             ],
             [
              0.4444444444444444,
              "#bd3786"
             ],
             [
              0.5555555555555556,
              "#d8576b"
             ],
             [
              0.6666666666666666,
              "#ed7953"
             ],
             [
              0.7777777777777778,
              "#fb9f3a"
             ],
             [
              0.8888888888888888,
              "#fdca26"
             ],
             [
              1,
              "#f0f921"
             ]
            ],
            "type": "surface"
           }
          ],
          "table": [
           {
            "cells": {
             "fill": {
              "color": "#EBF0F8"
             },
             "line": {
              "color": "white"
             }
            },
            "header": {
             "fill": {
              "color": "#C8D4E3"
             },
             "line": {
              "color": "white"
             }
            },
            "type": "table"
           }
          ]
         },
         "layout": {
          "annotationdefaults": {
           "arrowcolor": "#2a3f5f",
           "arrowhead": 0,
           "arrowwidth": 1
          },
          "autotypenumbers": "strict",
          "coloraxis": {
           "colorbar": {
            "outlinewidth": 0,
            "ticks": ""
           }
          },
          "colorscale": {
           "diverging": [
            [
             0,
             "#8e0152"
            ],
            [
             0.1,
             "#c51b7d"
            ],
            [
             0.2,
             "#de77ae"
            ],
            [
             0.3,
             "#f1b6da"
            ],
            [
             0.4,
             "#fde0ef"
            ],
            [
             0.5,
             "#f7f7f7"
            ],
            [
             0.6,
             "#e6f5d0"
            ],
            [
             0.7,
             "#b8e186"
            ],
            [
             0.8,
             "#7fbc41"
            ],
            [
             0.9,
             "#4d9221"
            ],
            [
             1,
             "#276419"
            ]
           ],
           "sequential": [
            [
             0,
             "#0d0887"
            ],
            [
             0.1111111111111111,
             "#46039f"
            ],
            [
             0.2222222222222222,
             "#7201a8"
            ],
            [
             0.3333333333333333,
             "#9c179e"
            ],
            [
             0.4444444444444444,
             "#bd3786"
            ],
            [
             0.5555555555555556,
             "#d8576b"
            ],
            [
             0.6666666666666666,
             "#ed7953"
            ],
            [
             0.7777777777777778,
             "#fb9f3a"
            ],
            [
             0.8888888888888888,
             "#fdca26"
            ],
            [
             1,
             "#f0f921"
            ]
           ],
           "sequentialminus": [
            [
             0,
             "#0d0887"
            ],
            [
             0.1111111111111111,
             "#46039f"
            ],
            [
             0.2222222222222222,
             "#7201a8"
            ],
            [
             0.3333333333333333,
             "#9c179e"
            ],
            [
             0.4444444444444444,
             "#bd3786"
            ],
            [
             0.5555555555555556,
             "#d8576b"
            ],
            [
             0.6666666666666666,
             "#ed7953"
            ],
            [
             0.7777777777777778,
             "#fb9f3a"
            ],
            [
             0.8888888888888888,
             "#fdca26"
            ],
            [
             1,
             "#f0f921"
            ]
           ]
          },
          "colorway": [
           "#636efa",
           "#EF553B",
           "#00cc96",
           "#ab63fa",
           "#FFA15A",
           "#19d3f3",
           "#FF6692",
           "#B6E880",
           "#FF97FF",
           "#FECB52"
          ],
          "font": {
           "color": "#2a3f5f"
          },
          "geo": {
           "bgcolor": "white",
           "lakecolor": "white",
           "landcolor": "#E5ECF6",
           "showlakes": true,
           "showland": true,
           "subunitcolor": "white"
          },
          "hoverlabel": {
           "align": "left"
          },
          "hovermode": "closest",
          "mapbox": {
           "style": "light"
          },
          "paper_bgcolor": "white",
          "plot_bgcolor": "#E5ECF6",
          "polar": {
           "angularaxis": {
            "gridcolor": "white",
            "linecolor": "white",
            "ticks": ""
           },
           "bgcolor": "#E5ECF6",
           "radialaxis": {
            "gridcolor": "white",
            "linecolor": "white",
            "ticks": ""
           }
          },
          "scene": {
           "xaxis": {
            "backgroundcolor": "#E5ECF6",
            "gridcolor": "white",
            "gridwidth": 2,
            "linecolor": "white",
            "showbackground": true,
            "ticks": "",
            "zerolinecolor": "white"
           },
           "yaxis": {
            "backgroundcolor": "#E5ECF6",
            "gridcolor": "white",
            "gridwidth": 2,
            "linecolor": "white",
            "showbackground": true,
            "ticks": "",
            "zerolinecolor": "white"
           },
           "zaxis": {
            "backgroundcolor": "#E5ECF6",
            "gridcolor": "white",
            "gridwidth": 2,
            "linecolor": "white",
            "showbackground": true,
            "ticks": "",
            "zerolinecolor": "white"
           }
          },
          "shapedefaults": {
           "line": {
            "color": "#2a3f5f"
           }
          },
          "ternary": {
           "aaxis": {
            "gridcolor": "white",
            "linecolor": "white",
            "ticks": ""
           },
           "baxis": {
            "gridcolor": "white",
            "linecolor": "white",
            "ticks": ""
           },
           "bgcolor": "#E5ECF6",
           "caxis": {
            "gridcolor": "white",
            "linecolor": "white",
            "ticks": ""
           }
          },
          "title": {
           "x": 0.05
          },
          "xaxis": {
           "automargin": true,
           "gridcolor": "white",
           "linecolor": "white",
           "ticks": "",
           "title": {
            "standoff": 15
           },
           "zerolinecolor": "white",
           "zerolinewidth": 2
          },
          "yaxis": {
           "automargin": true,
           "gridcolor": "white",
           "linecolor": "white",
           "ticks": "",
           "title": {
            "standoff": 15
           },
           "zerolinecolor": "white",
           "zerolinewidth": 2
          }
         }
        },
        "title": {
         "text": "Top 20 Unigrams"
        },
        "xaxis": {
         "anchor": "y",
         "domain": [
          0,
          1
         ],
         "tickangle": 45,
         "title": {
          "text": "Unigram"
         }
        },
        "yaxis": {
         "anchor": "x",
         "domain": [
          0,
          1
         ],
         "title": {
          "text": "Frequency"
         }
        }
       }
      }
     },
     "metadata": {},
     "output_type": "display_data"
    }
   ],
   "source": [
    "# Unigram Frequency Distribution\n",
    "unigram_counts = Counter(all_words)\n",
    "unigram_df = pd.DataFrame(\n",
    "    unigram_counts.most_common(20), columns=[\"Unigram\", \"Frequency\"]\n",
    ")\n",
    "\n",
    "# Plot Unigram Frequency Distribution with Plotly\n",
    "fig_unigram = px.bar(unigram_df, x=\"Unigram\", y=\"Frequency\", title=\"Top 20 Unigrams\")\n",
    "fig_unigram.update_xaxes(tickangle=45)\n",
    "fig_unigram.show()"
   ]
  },
  {
   "cell_type": "code",
   "execution_count": 52,
   "metadata": {},
   "outputs": [
    {
     "data": {
      "application/vnd.plotly.v1+json": {
       "config": {
        "plotlyServerURL": "https://plot.ly"
       },
       "data": [
        {
         "alignmentgroup": "True",
         "hovertemplate": "Bigram=%{x}<br>Frequency=%{y}<extra></extra>",
         "legendgroup": "",
         "marker": {
          "color": "#636efa",
          "pattern": {
           "shape": ""
          }
         },
         "name": "",
         "offsetgroup": "",
         "orientation": "v",
         "showlegend": false,
         "textposition": "auto",
         "type": "bar",
         "x": [
          "br br",
          "special effects",
          "br movie",
          "even though",
          "ever seen",
          "br film",
          "moviebr br",
          "one best",
          "ive seen",
          "waste time",
          "dont know",
          "first time",
          "watch movie",
          "filmbr br",
          "much better",
          "itbr br",
          "new york",
          "years ago",
          "im sure",
          "looks like"
         ],
         "xaxis": "x",
         "y": [
          239,
          52,
          46,
          45,
          45,
          45,
          44,
          43,
          40,
          35,
          35,
          33,
          33,
          33,
          33,
          33,
          31,
          30,
          29,
          29
         ],
         "yaxis": "y"
        }
       ],
       "layout": {
        "barmode": "relative",
        "legend": {
         "tracegroupgap": 0
        },
        "template": {
         "data": {
          "bar": [
           {
            "error_x": {
             "color": "#2a3f5f"
            },
            "error_y": {
             "color": "#2a3f5f"
            },
            "marker": {
             "line": {
              "color": "#E5ECF6",
              "width": 0.5
             },
             "pattern": {
              "fillmode": "overlay",
              "size": 10,
              "solidity": 0.2
             }
            },
            "type": "bar"
           }
          ],
          "barpolar": [
           {
            "marker": {
             "line": {
              "color": "#E5ECF6",
              "width": 0.5
             },
             "pattern": {
              "fillmode": "overlay",
              "size": 10,
              "solidity": 0.2
             }
            },
            "type": "barpolar"
           }
          ],
          "carpet": [
           {
            "aaxis": {
             "endlinecolor": "#2a3f5f",
             "gridcolor": "white",
             "linecolor": "white",
             "minorgridcolor": "white",
             "startlinecolor": "#2a3f5f"
            },
            "baxis": {
             "endlinecolor": "#2a3f5f",
             "gridcolor": "white",
             "linecolor": "white",
             "minorgridcolor": "white",
             "startlinecolor": "#2a3f5f"
            },
            "type": "carpet"
           }
          ],
          "choropleth": [
           {
            "colorbar": {
             "outlinewidth": 0,
             "ticks": ""
            },
            "type": "choropleth"
           }
          ],
          "contour": [
           {
            "colorbar": {
             "outlinewidth": 0,
             "ticks": ""
            },
            "colorscale": [
             [
              0,
              "#0d0887"
             ],
             [
              0.1111111111111111,
              "#46039f"
             ],
             [
              0.2222222222222222,
              "#7201a8"
             ],
             [
              0.3333333333333333,
              "#9c179e"
             ],
             [
              0.4444444444444444,
              "#bd3786"
             ],
             [
              0.5555555555555556,
              "#d8576b"
             ],
             [
              0.6666666666666666,
              "#ed7953"
             ],
             [
              0.7777777777777778,
              "#fb9f3a"
             ],
             [
              0.8888888888888888,
              "#fdca26"
             ],
             [
              1,
              "#f0f921"
             ]
            ],
            "type": "contour"
           }
          ],
          "contourcarpet": [
           {
            "colorbar": {
             "outlinewidth": 0,
             "ticks": ""
            },
            "type": "contourcarpet"
           }
          ],
          "heatmap": [
           {
            "colorbar": {
             "outlinewidth": 0,
             "ticks": ""
            },
            "colorscale": [
             [
              0,
              "#0d0887"
             ],
             [
              0.1111111111111111,
              "#46039f"
             ],
             [
              0.2222222222222222,
              "#7201a8"
             ],
             [
              0.3333333333333333,
              "#9c179e"
             ],
             [
              0.4444444444444444,
              "#bd3786"
             ],
             [
              0.5555555555555556,
              "#d8576b"
             ],
             [
              0.6666666666666666,
              "#ed7953"
             ],
             [
              0.7777777777777778,
              "#fb9f3a"
             ],
             [
              0.8888888888888888,
              "#fdca26"
             ],
             [
              1,
              "#f0f921"
             ]
            ],
            "type": "heatmap"
           }
          ],
          "heatmapgl": [
           {
            "colorbar": {
             "outlinewidth": 0,
             "ticks": ""
            },
            "colorscale": [
             [
              0,
              "#0d0887"
             ],
             [
              0.1111111111111111,
              "#46039f"
             ],
             [
              0.2222222222222222,
              "#7201a8"
             ],
             [
              0.3333333333333333,
              "#9c179e"
             ],
             [
              0.4444444444444444,
              "#bd3786"
             ],
             [
              0.5555555555555556,
              "#d8576b"
             ],
             [
              0.6666666666666666,
              "#ed7953"
             ],
             [
              0.7777777777777778,
              "#fb9f3a"
             ],
             [
              0.8888888888888888,
              "#fdca26"
             ],
             [
              1,
              "#f0f921"
             ]
            ],
            "type": "heatmapgl"
           }
          ],
          "histogram": [
           {
            "marker": {
             "pattern": {
              "fillmode": "overlay",
              "size": 10,
              "solidity": 0.2
             }
            },
            "type": "histogram"
           }
          ],
          "histogram2d": [
           {
            "colorbar": {
             "outlinewidth": 0,
             "ticks": ""
            },
            "colorscale": [
             [
              0,
              "#0d0887"
             ],
             [
              0.1111111111111111,
              "#46039f"
             ],
             [
              0.2222222222222222,
              "#7201a8"
             ],
             [
              0.3333333333333333,
              "#9c179e"
             ],
             [
              0.4444444444444444,
              "#bd3786"
             ],
             [
              0.5555555555555556,
              "#d8576b"
             ],
             [
              0.6666666666666666,
              "#ed7953"
             ],
             [
              0.7777777777777778,
              "#fb9f3a"
             ],
             [
              0.8888888888888888,
              "#fdca26"
             ],
             [
              1,
              "#f0f921"
             ]
            ],
            "type": "histogram2d"
           }
          ],
          "histogram2dcontour": [
           {
            "colorbar": {
             "outlinewidth": 0,
             "ticks": ""
            },
            "colorscale": [
             [
              0,
              "#0d0887"
             ],
             [
              0.1111111111111111,
              "#46039f"
             ],
             [
              0.2222222222222222,
              "#7201a8"
             ],
             [
              0.3333333333333333,
              "#9c179e"
             ],
             [
              0.4444444444444444,
              "#bd3786"
             ],
             [
              0.5555555555555556,
              "#d8576b"
             ],
             [
              0.6666666666666666,
              "#ed7953"
             ],
             [
              0.7777777777777778,
              "#fb9f3a"
             ],
             [
              0.8888888888888888,
              "#fdca26"
             ],
             [
              1,
              "#f0f921"
             ]
            ],
            "type": "histogram2dcontour"
           }
          ],
          "mesh3d": [
           {
            "colorbar": {
             "outlinewidth": 0,
             "ticks": ""
            },
            "type": "mesh3d"
           }
          ],
          "parcoords": [
           {
            "line": {
             "colorbar": {
              "outlinewidth": 0,
              "ticks": ""
             }
            },
            "type": "parcoords"
           }
          ],
          "pie": [
           {
            "automargin": true,
            "type": "pie"
           }
          ],
          "scatter": [
           {
            "fillpattern": {
             "fillmode": "overlay",
             "size": 10,
             "solidity": 0.2
            },
            "type": "scatter"
           }
          ],
          "scatter3d": [
           {
            "line": {
             "colorbar": {
              "outlinewidth": 0,
              "ticks": ""
             }
            },
            "marker": {
             "colorbar": {
              "outlinewidth": 0,
              "ticks": ""
             }
            },
            "type": "scatter3d"
           }
          ],
          "scattercarpet": [
           {
            "marker": {
             "colorbar": {
              "outlinewidth": 0,
              "ticks": ""
             }
            },
            "type": "scattercarpet"
           }
          ],
          "scattergeo": [
           {
            "marker": {
             "colorbar": {
              "outlinewidth": 0,
              "ticks": ""
             }
            },
            "type": "scattergeo"
           }
          ],
          "scattergl": [
           {
            "marker": {
             "colorbar": {
              "outlinewidth": 0,
              "ticks": ""
             }
            },
            "type": "scattergl"
           }
          ],
          "scattermapbox": [
           {
            "marker": {
             "colorbar": {
              "outlinewidth": 0,
              "ticks": ""
             }
            },
            "type": "scattermapbox"
           }
          ],
          "scatterpolar": [
           {
            "marker": {
             "colorbar": {
              "outlinewidth": 0,
              "ticks": ""
             }
            },
            "type": "scatterpolar"
           }
          ],
          "scatterpolargl": [
           {
            "marker": {
             "colorbar": {
              "outlinewidth": 0,
              "ticks": ""
             }
            },
            "type": "scatterpolargl"
           }
          ],
          "scatterternary": [
           {
            "marker": {
             "colorbar": {
              "outlinewidth": 0,
              "ticks": ""
             }
            },
            "type": "scatterternary"
           }
          ],
          "surface": [
           {
            "colorbar": {
             "outlinewidth": 0,
             "ticks": ""
            },
            "colorscale": [
             [
              0,
              "#0d0887"
             ],
             [
              0.1111111111111111,
              "#46039f"
             ],
             [
              0.2222222222222222,
              "#7201a8"
             ],
             [
              0.3333333333333333,
              "#9c179e"
             ],
             [
              0.4444444444444444,
              "#bd3786"
             ],
             [
              0.5555555555555556,
              "#d8576b"
             ],
             [
              0.6666666666666666,
              "#ed7953"
             ],
             [
              0.7777777777777778,
              "#fb9f3a"
             ],
             [
              0.8888888888888888,
              "#fdca26"
             ],
             [
              1,
              "#f0f921"
             ]
            ],
            "type": "surface"
           }
          ],
          "table": [
           {
            "cells": {
             "fill": {
              "color": "#EBF0F8"
             },
             "line": {
              "color": "white"
             }
            },
            "header": {
             "fill": {
              "color": "#C8D4E3"
             },
             "line": {
              "color": "white"
             }
            },
            "type": "table"
           }
          ]
         },
         "layout": {
          "annotationdefaults": {
           "arrowcolor": "#2a3f5f",
           "arrowhead": 0,
           "arrowwidth": 1
          },
          "autotypenumbers": "strict",
          "coloraxis": {
           "colorbar": {
            "outlinewidth": 0,
            "ticks": ""
           }
          },
          "colorscale": {
           "diverging": [
            [
             0,
             "#8e0152"
            ],
            [
             0.1,
             "#c51b7d"
            ],
            [
             0.2,
             "#de77ae"
            ],
            [
             0.3,
             "#f1b6da"
            ],
            [
             0.4,
             "#fde0ef"
            ],
            [
             0.5,
             "#f7f7f7"
            ],
            [
             0.6,
             "#e6f5d0"
            ],
            [
             0.7,
             "#b8e186"
            ],
            [
             0.8,
             "#7fbc41"
            ],
            [
             0.9,
             "#4d9221"
            ],
            [
             1,
             "#276419"
            ]
           ],
           "sequential": [
            [
             0,
             "#0d0887"
            ],
            [
             0.1111111111111111,
             "#46039f"
            ],
            [
             0.2222222222222222,
             "#7201a8"
            ],
            [
             0.3333333333333333,
             "#9c179e"
            ],
            [
             0.4444444444444444,
             "#bd3786"
            ],
            [
             0.5555555555555556,
             "#d8576b"
            ],
            [
             0.6666666666666666,
             "#ed7953"
            ],
            [
             0.7777777777777778,
             "#fb9f3a"
            ],
            [
             0.8888888888888888,
             "#fdca26"
            ],
            [
             1,
             "#f0f921"
            ]
           ],
           "sequentialminus": [
            [
             0,
             "#0d0887"
            ],
            [
             0.1111111111111111,
             "#46039f"
            ],
            [
             0.2222222222222222,
             "#7201a8"
            ],
            [
             0.3333333333333333,
             "#9c179e"
            ],
            [
             0.4444444444444444,
             "#bd3786"
            ],
            [
             0.5555555555555556,
             "#d8576b"
            ],
            [
             0.6666666666666666,
             "#ed7953"
            ],
            [
             0.7777777777777778,
             "#fb9f3a"
            ],
            [
             0.8888888888888888,
             "#fdca26"
            ],
            [
             1,
             "#f0f921"
            ]
           ]
          },
          "colorway": [
           "#636efa",
           "#EF553B",
           "#00cc96",
           "#ab63fa",
           "#FFA15A",
           "#19d3f3",
           "#FF6692",
           "#B6E880",
           "#FF97FF",
           "#FECB52"
          ],
          "font": {
           "color": "#2a3f5f"
          },
          "geo": {
           "bgcolor": "white",
           "lakecolor": "white",
           "landcolor": "#E5ECF6",
           "showlakes": true,
           "showland": true,
           "subunitcolor": "white"
          },
          "hoverlabel": {
           "align": "left"
          },
          "hovermode": "closest",
          "mapbox": {
           "style": "light"
          },
          "paper_bgcolor": "white",
          "plot_bgcolor": "#E5ECF6",
          "polar": {
           "angularaxis": {
            "gridcolor": "white",
            "linecolor": "white",
            "ticks": ""
           },
           "bgcolor": "#E5ECF6",
           "radialaxis": {
            "gridcolor": "white",
            "linecolor": "white",
            "ticks": ""
           }
          },
          "scene": {
           "xaxis": {
            "backgroundcolor": "#E5ECF6",
            "gridcolor": "white",
            "gridwidth": 2,
            "linecolor": "white",
            "showbackground": true,
            "ticks": "",
            "zerolinecolor": "white"
           },
           "yaxis": {
            "backgroundcolor": "#E5ECF6",
            "gridcolor": "white",
            "gridwidth": 2,
            "linecolor": "white",
            "showbackground": true,
            "ticks": "",
            "zerolinecolor": "white"
           },
           "zaxis": {
            "backgroundcolor": "#E5ECF6",
            "gridcolor": "white",
            "gridwidth": 2,
            "linecolor": "white",
            "showbackground": true,
            "ticks": "",
            "zerolinecolor": "white"
           }
          },
          "shapedefaults": {
           "line": {
            "color": "#2a3f5f"
           }
          },
          "ternary": {
           "aaxis": {
            "gridcolor": "white",
            "linecolor": "white",
            "ticks": ""
           },
           "baxis": {
            "gridcolor": "white",
            "linecolor": "white",
            "ticks": ""
           },
           "bgcolor": "#E5ECF6",
           "caxis": {
            "gridcolor": "white",
            "linecolor": "white",
            "ticks": ""
           }
          },
          "title": {
           "x": 0.05
          },
          "xaxis": {
           "automargin": true,
           "gridcolor": "white",
           "linecolor": "white",
           "ticks": "",
           "title": {
            "standoff": 15
           },
           "zerolinecolor": "white",
           "zerolinewidth": 2
          },
          "yaxis": {
           "automargin": true,
           "gridcolor": "white",
           "linecolor": "white",
           "ticks": "",
           "title": {
            "standoff": 15
           },
           "zerolinecolor": "white",
           "zerolinewidth": 2
          }
         }
        },
        "title": {
         "text": "Top 20 Bigrams"
        },
        "xaxis": {
         "anchor": "y",
         "domain": [
          0,
          1
         ],
         "tickangle": 45,
         "title": {
          "text": "Bigram"
         }
        },
        "yaxis": {
         "anchor": "x",
         "domain": [
          0,
          1
         ],
         "title": {
          "text": "Frequency"
         }
        }
       }
      }
     },
     "metadata": {},
     "output_type": "display_data"
    }
   ],
   "source": [
    "# Bigram Frequency Distribution\n",
    "bigram_counts = Counter(all_bigrams)\n",
    "bigram_df = pd.DataFrame(bigram_counts.most_common(20), columns=[\"Bigram\", \"Frequency\"])\n",
    "bigram_df[\"Bigram\"] = bigram_df[\"Bigram\"].apply(\n",
    "    lambda x: \" \".join(x)\n",
    ")  # Convert tuples to strings\n",
    "\n",
    "# Plot Bigram Frequency Distribution with Plotly\n",
    "fig_bigram = px.bar(bigram_df, x=\"Bigram\", y=\"Frequency\", title=\"Top 20 Bigrams\")\n",
    "fig_bigram.update_xaxes(tickangle=45)\n",
    "fig_bigram.show()"
   ]
  },
  {
   "cell_type": "markdown",
   "metadata": {},
   "source": [
    "## Preprocessing"
   ]
  },
  {
   "cell_type": "code",
   "execution_count": 53,
   "metadata": {},
   "outputs": [],
   "source": [
    "# Define text preprocessing function\n",
    "def preprocess_text(text, remove_stopwords=True):\n",
    "    # Remove punctuation and convert text to lowercase\n",
    "    text = re.sub(r\"[^\\w\\s]\", \"\", text.lower())\n",
    "\n",
    "    # Split text into words\n",
    "    words = text.split()\n",
    "\n",
    "    # Remove stopwords if specified\n",
    "    if remove_stopwords:\n",
    "        words = [word for word in words if word not in custom_stopwords]\n",
    "\n",
    "    return words\n",
    "\n",
    "\n",
    "# Apply preprocessing to the dataset\n",
    "train_data[\"processed_text\"] = train_data[\"review\"].apply(lambda x: preprocess_text(x))"
   ]
  },
  {
   "cell_type": "code",
   "execution_count": 54,
   "metadata": {},
   "outputs": [],
   "source": [
    "# Generate Unigrams, Bigrams, and Trigrams without using nltk\n",
    "def generate_ngrams(words, n):\n",
    "    return [tuple(words[i : i + n]) for i in range(len(words) - n + 1)]\n",
    "\n",
    "\n",
    "train_data[\"unigrams\"] = train_data[\"processed_text\"]\n",
    "train_data[\"bigrams\"] = train_data[\"processed_text\"].apply(\n",
    "    lambda x: generate_ngrams(x, 2)\n",
    ")\n",
    "train_data[\"trigrams\"] = train_data[\"processed_text\"].apply(\n",
    "    lambda x: generate_ngrams(x, 3)\n",
    ")"
   ]
  },
  {
   "cell_type": "code",
   "execution_count": 55,
   "metadata": {},
   "outputs": [
    {
     "name": "stdout",
     "output_type": "stream",
     "text": [
      "Example Processed Review (Unigrams): ['sure', 'like', 'short', 'cartoons', 'didnt', 'like', 'one', 'naturally', 'kids', 'would', 'love', 'im', 'kid', 'anymore', 'although', 'still', 'consider', 'youngbr', 'br', 'tell', 'anything', 'story', 'simple', 'reason', 'story', 'possible', 'dragon', 'cartoon', 'nominated', 'oscar', 'well', 'guess', 'people', '30s', 'happy', 'much', 'present', 'live', 'everything', 'must', 'happen', 'fast', 'look', 'movies', 'nowadays', 'come', 'conclusion', 'live', 'society', 'doesnt', 'allow', 'men', 'slow', 'thats', 'really', 'shame', 'wish', 'lived', '30s', 'seems', 'peaceful', 'every', 'time', 'got', 'ups', 'downs', 'guessbr', 'br', 'conclude', 'like', 'music', 'frogs', 'youll', 'see', 'cartoon', 'otherwise', 'dont', 'spill', 'time']\n",
      "Example Processed Review (Bigrams): [('sure', 'like'), ('like', 'short'), ('short', 'cartoons'), ('cartoons', 'didnt'), ('didnt', 'like'), ('like', 'one'), ('one', 'naturally'), ('naturally', 'kids'), ('kids', 'would'), ('would', 'love'), ('love', 'im'), ('im', 'kid'), ('kid', 'anymore'), ('anymore', 'although'), ('although', 'still'), ('still', 'consider'), ('consider', 'youngbr'), ('youngbr', 'br'), ('br', 'tell'), ('tell', 'anything'), ('anything', 'story'), ('story', 'simple'), ('simple', 'reason'), ('reason', 'story'), ('story', 'possible'), ('possible', 'dragon'), ('dragon', 'cartoon'), ('cartoon', 'nominated'), ('nominated', 'oscar'), ('oscar', 'well'), ('well', 'guess'), ('guess', 'people'), ('people', '30s'), ('30s', 'happy'), ('happy', 'much'), ('much', 'present'), ('present', 'live'), ('live', 'everything'), ('everything', 'must'), ('must', 'happen'), ('happen', 'fast'), ('fast', 'look'), ('look', 'movies'), ('movies', 'nowadays'), ('nowadays', 'come'), ('come', 'conclusion'), ('conclusion', 'live'), ('live', 'society'), ('society', 'doesnt'), ('doesnt', 'allow'), ('allow', 'men'), ('men', 'slow'), ('slow', 'thats'), ('thats', 'really'), ('really', 'shame'), ('shame', 'wish'), ('wish', 'lived'), ('lived', '30s'), ('30s', 'seems'), ('seems', 'peaceful'), ('peaceful', 'every'), ('every', 'time'), ('time', 'got'), ('got', 'ups'), ('ups', 'downs'), ('downs', 'guessbr'), ('guessbr', 'br'), ('br', 'conclude'), ('conclude', 'like'), ('like', 'music'), ('music', 'frogs'), ('frogs', 'youll'), ('youll', 'see'), ('see', 'cartoon'), ('cartoon', 'otherwise'), ('otherwise', 'dont'), ('dont', 'spill'), ('spill', 'time')]\n",
      "Example Processed Review (Trigrams): [('sure', 'like', 'short'), ('like', 'short', 'cartoons'), ('short', 'cartoons', 'didnt'), ('cartoons', 'didnt', 'like'), ('didnt', 'like', 'one'), ('like', 'one', 'naturally'), ('one', 'naturally', 'kids'), ('naturally', 'kids', 'would'), ('kids', 'would', 'love'), ('would', 'love', 'im'), ('love', 'im', 'kid'), ('im', 'kid', 'anymore'), ('kid', 'anymore', 'although'), ('anymore', 'although', 'still'), ('although', 'still', 'consider'), ('still', 'consider', 'youngbr'), ('consider', 'youngbr', 'br'), ('youngbr', 'br', 'tell'), ('br', 'tell', 'anything'), ('tell', 'anything', 'story'), ('anything', 'story', 'simple'), ('story', 'simple', 'reason'), ('simple', 'reason', 'story'), ('reason', 'story', 'possible'), ('story', 'possible', 'dragon'), ('possible', 'dragon', 'cartoon'), ('dragon', 'cartoon', 'nominated'), ('cartoon', 'nominated', 'oscar'), ('nominated', 'oscar', 'well'), ('oscar', 'well', 'guess'), ('well', 'guess', 'people'), ('guess', 'people', '30s'), ('people', '30s', 'happy'), ('30s', 'happy', 'much'), ('happy', 'much', 'present'), ('much', 'present', 'live'), ('present', 'live', 'everything'), ('live', 'everything', 'must'), ('everything', 'must', 'happen'), ('must', 'happen', 'fast'), ('happen', 'fast', 'look'), ('fast', 'look', 'movies'), ('look', 'movies', 'nowadays'), ('movies', 'nowadays', 'come'), ('nowadays', 'come', 'conclusion'), ('come', 'conclusion', 'live'), ('conclusion', 'live', 'society'), ('live', 'society', 'doesnt'), ('society', 'doesnt', 'allow'), ('doesnt', 'allow', 'men'), ('allow', 'men', 'slow'), ('men', 'slow', 'thats'), ('slow', 'thats', 'really'), ('thats', 'really', 'shame'), ('really', 'shame', 'wish'), ('shame', 'wish', 'lived'), ('wish', 'lived', '30s'), ('lived', '30s', 'seems'), ('30s', 'seems', 'peaceful'), ('seems', 'peaceful', 'every'), ('peaceful', 'every', 'time'), ('every', 'time', 'got'), ('time', 'got', 'ups'), ('got', 'ups', 'downs'), ('ups', 'downs', 'guessbr'), ('downs', 'guessbr', 'br'), ('guessbr', 'br', 'conclude'), ('br', 'conclude', 'like'), ('conclude', 'like', 'music'), ('like', 'music', 'frogs'), ('music', 'frogs', 'youll'), ('frogs', 'youll', 'see'), ('youll', 'see', 'cartoon'), ('see', 'cartoon', 'otherwise'), ('cartoon', 'otherwise', 'dont'), ('otherwise', 'dont', 'spill'), ('dont', 'spill', 'time')]\n"
     ]
    }
   ],
   "source": [
    "# Display example processed text structure\n",
    "print(\"Example Processed Review (Unigrams):\", train_data[\"unigrams\"].iloc[0])\n",
    "print(\"Example Processed Review (Bigrams):\", train_data[\"bigrams\"].iloc[0])\n",
    "print(\"Example Processed Review (Trigrams):\", train_data[\"trigrams\"].iloc[0])"
   ]
  },
  {
   "cell_type": "code",
   "execution_count": 56,
   "metadata": {},
   "outputs": [],
   "source": [
    "# Visualizing Processed Text Structure\n",
    "# 1. Unigram Frequency Distribution\n",
    "all_unigrams = [word for review in train_data[\"unigrams\"] for word in review]\n",
    "unigram_counts = Counter(all_unigrams)\n",
    "unigram_df = pd.DataFrame(\n",
    "    unigram_counts.most_common(20), columns=[\"Unigram\", \"Frequency\"]\n",
    ")"
   ]
  },
  {
   "cell_type": "code",
   "execution_count": 57,
   "metadata": {},
   "outputs": [
    {
     "data": {
      "application/vnd.plotly.v1+json": {
       "config": {
        "plotlyServerURL": "https://plot.ly"
       },
       "data": [
        {
         "alignmentgroup": "True",
         "hovertemplate": "Unigram=%{x}<br>Frequency=%{y}<extra></extra>",
         "legendgroup": "",
         "marker": {
          "color": "purple",
          "pattern": {
           "shape": ""
          }
         },
         "name": "",
         "offsetgroup": "",
         "orientation": "v",
         "showlegend": false,
         "textposition": "auto",
         "type": "bar",
         "x": [
          "br",
          "movie",
          "film",
          "one",
          "like",
          "good",
          "would",
          "even",
          "time",
          "story",
          "really",
          "see",
          "well",
          "bad",
          "much",
          "great",
          "also",
          "get",
          "first",
          "movies"
         ],
         "xaxis": "x",
         "y": [
          2183,
          1685,
          1418,
          1074,
          752,
          564,
          525,
          481,
          472,
          452,
          420,
          411,
          401,
          384,
          371,
          366,
          361,
          340,
          339,
          333
         ],
         "yaxis": "y"
        }
       ],
       "layout": {
        "bargap": 0.1,
        "barmode": "relative",
        "legend": {
         "tracegroupgap": 0
        },
        "template": {
         "data": {
          "bar": [
           {
            "error_x": {
             "color": "#2a3f5f"
            },
            "error_y": {
             "color": "#2a3f5f"
            },
            "marker": {
             "line": {
              "color": "#E5ECF6",
              "width": 0.5
             },
             "pattern": {
              "fillmode": "overlay",
              "size": 10,
              "solidity": 0.2
             }
            },
            "type": "bar"
           }
          ],
          "barpolar": [
           {
            "marker": {
             "line": {
              "color": "#E5ECF6",
              "width": 0.5
             },
             "pattern": {
              "fillmode": "overlay",
              "size": 10,
              "solidity": 0.2
             }
            },
            "type": "barpolar"
           }
          ],
          "carpet": [
           {
            "aaxis": {
             "endlinecolor": "#2a3f5f",
             "gridcolor": "white",
             "linecolor": "white",
             "minorgridcolor": "white",
             "startlinecolor": "#2a3f5f"
            },
            "baxis": {
             "endlinecolor": "#2a3f5f",
             "gridcolor": "white",
             "linecolor": "white",
             "minorgridcolor": "white",
             "startlinecolor": "#2a3f5f"
            },
            "type": "carpet"
           }
          ],
          "choropleth": [
           {
            "colorbar": {
             "outlinewidth": 0,
             "ticks": ""
            },
            "type": "choropleth"
           }
          ],
          "contour": [
           {
            "colorbar": {
             "outlinewidth": 0,
             "ticks": ""
            },
            "colorscale": [
             [
              0,
              "#0d0887"
             ],
             [
              0.1111111111111111,
              "#46039f"
             ],
             [
              0.2222222222222222,
              "#7201a8"
             ],
             [
              0.3333333333333333,
              "#9c179e"
             ],
             [
              0.4444444444444444,
              "#bd3786"
             ],
             [
              0.5555555555555556,
              "#d8576b"
             ],
             [
              0.6666666666666666,
              "#ed7953"
             ],
             [
              0.7777777777777778,
              "#fb9f3a"
             ],
             [
              0.8888888888888888,
              "#fdca26"
             ],
             [
              1,
              "#f0f921"
             ]
            ],
            "type": "contour"
           }
          ],
          "contourcarpet": [
           {
            "colorbar": {
             "outlinewidth": 0,
             "ticks": ""
            },
            "type": "contourcarpet"
           }
          ],
          "heatmap": [
           {
            "colorbar": {
             "outlinewidth": 0,
             "ticks": ""
            },
            "colorscale": [
             [
              0,
              "#0d0887"
             ],
             [
              0.1111111111111111,
              "#46039f"
             ],
             [
              0.2222222222222222,
              "#7201a8"
             ],
             [
              0.3333333333333333,
              "#9c179e"
             ],
             [
              0.4444444444444444,
              "#bd3786"
             ],
             [
              0.5555555555555556,
              "#d8576b"
             ],
             [
              0.6666666666666666,
              "#ed7953"
             ],
             [
              0.7777777777777778,
              "#fb9f3a"
             ],
             [
              0.8888888888888888,
              "#fdca26"
             ],
             [
              1,
              "#f0f921"
             ]
            ],
            "type": "heatmap"
           }
          ],
          "heatmapgl": [
           {
            "colorbar": {
             "outlinewidth": 0,
             "ticks": ""
            },
            "colorscale": [
             [
              0,
              "#0d0887"
             ],
             [
              0.1111111111111111,
              "#46039f"
             ],
             [
              0.2222222222222222,
              "#7201a8"
             ],
             [
              0.3333333333333333,
              "#9c179e"
             ],
             [
              0.4444444444444444,
              "#bd3786"
             ],
             [
              0.5555555555555556,
              "#d8576b"
             ],
             [
              0.6666666666666666,
              "#ed7953"
             ],
             [
              0.7777777777777778,
              "#fb9f3a"
             ],
             [
              0.8888888888888888,
              "#fdca26"
             ],
             [
              1,
              "#f0f921"
             ]
            ],
            "type": "heatmapgl"
           }
          ],
          "histogram": [
           {
            "marker": {
             "pattern": {
              "fillmode": "overlay",
              "size": 10,
              "solidity": 0.2
             }
            },
            "type": "histogram"
           }
          ],
          "histogram2d": [
           {
            "colorbar": {
             "outlinewidth": 0,
             "ticks": ""
            },
            "colorscale": [
             [
              0,
              "#0d0887"
             ],
             [
              0.1111111111111111,
              "#46039f"
             ],
             [
              0.2222222222222222,
              "#7201a8"
             ],
             [
              0.3333333333333333,
              "#9c179e"
             ],
             [
              0.4444444444444444,
              "#bd3786"
             ],
             [
              0.5555555555555556,
              "#d8576b"
             ],
             [
              0.6666666666666666,
              "#ed7953"
             ],
             [
              0.7777777777777778,
              "#fb9f3a"
             ],
             [
              0.8888888888888888,
              "#fdca26"
             ],
             [
              1,
              "#f0f921"
             ]
            ],
            "type": "histogram2d"
           }
          ],
          "histogram2dcontour": [
           {
            "colorbar": {
             "outlinewidth": 0,
             "ticks": ""
            },
            "colorscale": [
             [
              0,
              "#0d0887"
             ],
             [
              0.1111111111111111,
              "#46039f"
             ],
             [
              0.2222222222222222,
              "#7201a8"
             ],
             [
              0.3333333333333333,
              "#9c179e"
             ],
             [
              0.4444444444444444,
              "#bd3786"
             ],
             [
              0.5555555555555556,
              "#d8576b"
             ],
             [
              0.6666666666666666,
              "#ed7953"
             ],
             [
              0.7777777777777778,
              "#fb9f3a"
             ],
             [
              0.8888888888888888,
              "#fdca26"
             ],
             [
              1,
              "#f0f921"
             ]
            ],
            "type": "histogram2dcontour"
           }
          ],
          "mesh3d": [
           {
            "colorbar": {
             "outlinewidth": 0,
             "ticks": ""
            },
            "type": "mesh3d"
           }
          ],
          "parcoords": [
           {
            "line": {
             "colorbar": {
              "outlinewidth": 0,
              "ticks": ""
             }
            },
            "type": "parcoords"
           }
          ],
          "pie": [
           {
            "automargin": true,
            "type": "pie"
           }
          ],
          "scatter": [
           {
            "fillpattern": {
             "fillmode": "overlay",
             "size": 10,
             "solidity": 0.2
            },
            "type": "scatter"
           }
          ],
          "scatter3d": [
           {
            "line": {
             "colorbar": {
              "outlinewidth": 0,
              "ticks": ""
             }
            },
            "marker": {
             "colorbar": {
              "outlinewidth": 0,
              "ticks": ""
             }
            },
            "type": "scatter3d"
           }
          ],
          "scattercarpet": [
           {
            "marker": {
             "colorbar": {
              "outlinewidth": 0,
              "ticks": ""
             }
            },
            "type": "scattercarpet"
           }
          ],
          "scattergeo": [
           {
            "marker": {
             "colorbar": {
              "outlinewidth": 0,
              "ticks": ""
             }
            },
            "type": "scattergeo"
           }
          ],
          "scattergl": [
           {
            "marker": {
             "colorbar": {
              "outlinewidth": 0,
              "ticks": ""
             }
            },
            "type": "scattergl"
           }
          ],
          "scattermapbox": [
           {
            "marker": {
             "colorbar": {
              "outlinewidth": 0,
              "ticks": ""
             }
            },
            "type": "scattermapbox"
           }
          ],
          "scatterpolar": [
           {
            "marker": {
             "colorbar": {
              "outlinewidth": 0,
              "ticks": ""
             }
            },
            "type": "scatterpolar"
           }
          ],
          "scatterpolargl": [
           {
            "marker": {
             "colorbar": {
              "outlinewidth": 0,
              "ticks": ""
             }
            },
            "type": "scatterpolargl"
           }
          ],
          "scatterternary": [
           {
            "marker": {
             "colorbar": {
              "outlinewidth": 0,
              "ticks": ""
             }
            },
            "type": "scatterternary"
           }
          ],
          "surface": [
           {
            "colorbar": {
             "outlinewidth": 0,
             "ticks": ""
            },
            "colorscale": [
             [
              0,
              "#0d0887"
             ],
             [
              0.1111111111111111,
              "#46039f"
             ],
             [
              0.2222222222222222,
              "#7201a8"
             ],
             [
              0.3333333333333333,
              "#9c179e"
             ],
             [
              0.4444444444444444,
              "#bd3786"
             ],
             [
              0.5555555555555556,
              "#d8576b"
             ],
             [
              0.6666666666666666,
              "#ed7953"
             ],
             [
              0.7777777777777778,
              "#fb9f3a"
             ],
             [
              0.8888888888888888,
              "#fdca26"
             ],
             [
              1,
              "#f0f921"
             ]
            ],
            "type": "surface"
           }
          ],
          "table": [
           {
            "cells": {
             "fill": {
              "color": "#EBF0F8"
             },
             "line": {
              "color": "white"
             }
            },
            "header": {
             "fill": {
              "color": "#C8D4E3"
             },
             "line": {
              "color": "white"
             }
            },
            "type": "table"
           }
          ]
         },
         "layout": {
          "annotationdefaults": {
           "arrowcolor": "#2a3f5f",
           "arrowhead": 0,
           "arrowwidth": 1
          },
          "autotypenumbers": "strict",
          "coloraxis": {
           "colorbar": {
            "outlinewidth": 0,
            "ticks": ""
           }
          },
          "colorscale": {
           "diverging": [
            [
             0,
             "#8e0152"
            ],
            [
             0.1,
             "#c51b7d"
            ],
            [
             0.2,
             "#de77ae"
            ],
            [
             0.3,
             "#f1b6da"
            ],
            [
             0.4,
             "#fde0ef"
            ],
            [
             0.5,
             "#f7f7f7"
            ],
            [
             0.6,
             "#e6f5d0"
            ],
            [
             0.7,
             "#b8e186"
            ],
            [
             0.8,
             "#7fbc41"
            ],
            [
             0.9,
             "#4d9221"
            ],
            [
             1,
             "#276419"
            ]
           ],
           "sequential": [
            [
             0,
             "#0d0887"
            ],
            [
             0.1111111111111111,
             "#46039f"
            ],
            [
             0.2222222222222222,
             "#7201a8"
            ],
            [
             0.3333333333333333,
             "#9c179e"
            ],
            [
             0.4444444444444444,
             "#bd3786"
            ],
            [
             0.5555555555555556,
             "#d8576b"
            ],
            [
             0.6666666666666666,
             "#ed7953"
            ],
            [
             0.7777777777777778,
             "#fb9f3a"
            ],
            [
             0.8888888888888888,
             "#fdca26"
            ],
            [
             1,
             "#f0f921"
            ]
           ],
           "sequentialminus": [
            [
             0,
             "#0d0887"
            ],
            [
             0.1111111111111111,
             "#46039f"
            ],
            [
             0.2222222222222222,
             "#7201a8"
            ],
            [
             0.3333333333333333,
             "#9c179e"
            ],
            [
             0.4444444444444444,
             "#bd3786"
            ],
            [
             0.5555555555555556,
             "#d8576b"
            ],
            [
             0.6666666666666666,
             "#ed7953"
            ],
            [
             0.7777777777777778,
             "#fb9f3a"
            ],
            [
             0.8888888888888888,
             "#fdca26"
            ],
            [
             1,
             "#f0f921"
            ]
           ]
          },
          "colorway": [
           "#636efa",
           "#EF553B",
           "#00cc96",
           "#ab63fa",
           "#FFA15A",
           "#19d3f3",
           "#FF6692",
           "#B6E880",
           "#FF97FF",
           "#FECB52"
          ],
          "font": {
           "color": "#2a3f5f"
          },
          "geo": {
           "bgcolor": "white",
           "lakecolor": "white",
           "landcolor": "#E5ECF6",
           "showlakes": true,
           "showland": true,
           "subunitcolor": "white"
          },
          "hoverlabel": {
           "align": "left"
          },
          "hovermode": "closest",
          "mapbox": {
           "style": "light"
          },
          "paper_bgcolor": "white",
          "plot_bgcolor": "#E5ECF6",
          "polar": {
           "angularaxis": {
            "gridcolor": "white",
            "linecolor": "white",
            "ticks": ""
           },
           "bgcolor": "#E5ECF6",
           "radialaxis": {
            "gridcolor": "white",
            "linecolor": "white",
            "ticks": ""
           }
          },
          "scene": {
           "xaxis": {
            "backgroundcolor": "#E5ECF6",
            "gridcolor": "white",
            "gridwidth": 2,
            "linecolor": "white",
            "showbackground": true,
            "ticks": "",
            "zerolinecolor": "white"
           },
           "yaxis": {
            "backgroundcolor": "#E5ECF6",
            "gridcolor": "white",
            "gridwidth": 2,
            "linecolor": "white",
            "showbackground": true,
            "ticks": "",
            "zerolinecolor": "white"
           },
           "zaxis": {
            "backgroundcolor": "#E5ECF6",
            "gridcolor": "white",
            "gridwidth": 2,
            "linecolor": "white",
            "showbackground": true,
            "ticks": "",
            "zerolinecolor": "white"
           }
          },
          "shapedefaults": {
           "line": {
            "color": "#2a3f5f"
           }
          },
          "ternary": {
           "aaxis": {
            "gridcolor": "white",
            "linecolor": "white",
            "ticks": ""
           },
           "baxis": {
            "gridcolor": "white",
            "linecolor": "white",
            "ticks": ""
           },
           "bgcolor": "#E5ECF6",
           "caxis": {
            "gridcolor": "white",
            "linecolor": "white",
            "ticks": ""
           }
          },
          "title": {
           "x": 0.05
          },
          "xaxis": {
           "automargin": true,
           "gridcolor": "white",
           "linecolor": "white",
           "ticks": "",
           "title": {
            "standoff": 15
           },
           "zerolinecolor": "white",
           "zerolinewidth": 2
          },
          "yaxis": {
           "automargin": true,
           "gridcolor": "white",
           "linecolor": "white",
           "ticks": "",
           "title": {
            "standoff": 15
           },
           "zerolinecolor": "white",
           "zerolinewidth": 2
          }
         }
        },
        "title": {
         "text": "Top Unigrams after Preprocessing"
        },
        "xaxis": {
         "anchor": "y",
         "domain": [
          0,
          1
         ],
         "tickangle": 45,
         "title": {
          "text": "Unigram"
         }
        },
        "yaxis": {
         "anchor": "x",
         "domain": [
          0,
          1
         ],
         "title": {
          "text": "Frequency"
         }
        }
       }
      }
     },
     "metadata": {},
     "output_type": "display_data"
    }
   ],
   "source": [
    "# Plotting Unigram Frequency Distribution with Plotly\n",
    "fig = px.bar(\n",
    "    unigram_df,\n",
    "    x=\"Unigram\",\n",
    "    y=\"Frequency\",\n",
    "    title=\"Top Unigrams after Preprocessing\",\n",
    "    color_discrete_sequence=[\"purple\"],\n",
    ")\n",
    "fig.update_xaxes(tickangle=45)\n",
    "fig.update_layout(xaxis_title=\"Unigram\", yaxis_title=\"Frequency\", bargap=0.1)\n",
    "fig.show()"
   ]
  },
  {
   "cell_type": "code",
   "execution_count": 58,
   "metadata": {},
   "outputs": [
    {
     "data": {
      "application/vnd.plotly.v1+json": {
       "config": {
        "plotlyServerURL": "https://plot.ly"
       },
       "data": [
        {
         "alignmentgroup": "True",
         "hovertemplate": "Bigram=%{x}<br>Frequency=%{y}<extra></extra>",
         "legendgroup": "",
         "marker": {
          "color": "green",
          "pattern": {
           "shape": ""
          }
         },
         "name": "",
         "offsetgroup": "",
         "orientation": "v",
         "showlegend": false,
         "textposition": "auto",
         "type": "bar",
         "x": [
          [
           "br",
           "br"
          ],
          [
           "special",
           "effects"
          ],
          [
           "br",
           "movie"
          ],
          [
           "even",
           "though"
          ],
          [
           "ever",
           "seen"
          ],
          [
           "br",
           "film"
          ],
          [
           "moviebr",
           "br"
          ],
          [
           "one",
           "best"
          ],
          [
           "ive",
           "seen"
          ],
          [
           "waste",
           "time"
          ],
          [
           "dont",
           "know"
          ],
          [
           "first",
           "time"
          ],
          [
           "watch",
           "movie"
          ],
          [
           "filmbr",
           "br"
          ],
          [
           "much",
           "better"
          ],
          [
           "itbr",
           "br"
          ],
          [
           "new",
           "york"
          ],
          [
           "years",
           "ago"
          ],
          [
           "im",
           "sure"
          ],
          [
           "looks",
           "like"
          ]
         ],
         "xaxis": "x",
         "y": [
          239,
          52,
          46,
          45,
          45,
          45,
          44,
          43,
          40,
          35,
          35,
          33,
          33,
          33,
          33,
          33,
          31,
          30,
          29,
          29
         ],
         "yaxis": "y"
        }
       ],
       "layout": {
        "bargap": 0.1,
        "barmode": "relative",
        "legend": {
         "tracegroupgap": 0
        },
        "template": {
         "data": {
          "bar": [
           {
            "error_x": {
             "color": "#2a3f5f"
            },
            "error_y": {
             "color": "#2a3f5f"
            },
            "marker": {
             "line": {
              "color": "#E5ECF6",
              "width": 0.5
             },
             "pattern": {
              "fillmode": "overlay",
              "size": 10,
              "solidity": 0.2
             }
            },
            "type": "bar"
           }
          ],
          "barpolar": [
           {
            "marker": {
             "line": {
              "color": "#E5ECF6",
              "width": 0.5
             },
             "pattern": {
              "fillmode": "overlay",
              "size": 10,
              "solidity": 0.2
             }
            },
            "type": "barpolar"
           }
          ],
          "carpet": [
           {
            "aaxis": {
             "endlinecolor": "#2a3f5f",
             "gridcolor": "white",
             "linecolor": "white",
             "minorgridcolor": "white",
             "startlinecolor": "#2a3f5f"
            },
            "baxis": {
             "endlinecolor": "#2a3f5f",
             "gridcolor": "white",
             "linecolor": "white",
             "minorgridcolor": "white",
             "startlinecolor": "#2a3f5f"
            },
            "type": "carpet"
           }
          ],
          "choropleth": [
           {
            "colorbar": {
             "outlinewidth": 0,
             "ticks": ""
            },
            "type": "choropleth"
           }
          ],
          "contour": [
           {
            "colorbar": {
             "outlinewidth": 0,
             "ticks": ""
            },
            "colorscale": [
             [
              0,
              "#0d0887"
             ],
             [
              0.1111111111111111,
              "#46039f"
             ],
             [
              0.2222222222222222,
              "#7201a8"
             ],
             [
              0.3333333333333333,
              "#9c179e"
             ],
             [
              0.4444444444444444,
              "#bd3786"
             ],
             [
              0.5555555555555556,
              "#d8576b"
             ],
             [
              0.6666666666666666,
              "#ed7953"
             ],
             [
              0.7777777777777778,
              "#fb9f3a"
             ],
             [
              0.8888888888888888,
              "#fdca26"
             ],
             [
              1,
              "#f0f921"
             ]
            ],
            "type": "contour"
           }
          ],
          "contourcarpet": [
           {
            "colorbar": {
             "outlinewidth": 0,
             "ticks": ""
            },
            "type": "contourcarpet"
           }
          ],
          "heatmap": [
           {
            "colorbar": {
             "outlinewidth": 0,
             "ticks": ""
            },
            "colorscale": [
             [
              0,
              "#0d0887"
             ],
             [
              0.1111111111111111,
              "#46039f"
             ],
             [
              0.2222222222222222,
              "#7201a8"
             ],
             [
              0.3333333333333333,
              "#9c179e"
             ],
             [
              0.4444444444444444,
              "#bd3786"
             ],
             [
              0.5555555555555556,
              "#d8576b"
             ],
             [
              0.6666666666666666,
              "#ed7953"
             ],
             [
              0.7777777777777778,
              "#fb9f3a"
             ],
             [
              0.8888888888888888,
              "#fdca26"
             ],
             [
              1,
              "#f0f921"
             ]
            ],
            "type": "heatmap"
           }
          ],
          "heatmapgl": [
           {
            "colorbar": {
             "outlinewidth": 0,
             "ticks": ""
            },
            "colorscale": [
             [
              0,
              "#0d0887"
             ],
             [
              0.1111111111111111,
              "#46039f"
             ],
             [
              0.2222222222222222,
              "#7201a8"
             ],
             [
              0.3333333333333333,
              "#9c179e"
             ],
             [
              0.4444444444444444,
              "#bd3786"
             ],
             [
              0.5555555555555556,
              "#d8576b"
             ],
             [
              0.6666666666666666,
              "#ed7953"
             ],
             [
              0.7777777777777778,
              "#fb9f3a"
             ],
             [
              0.8888888888888888,
              "#fdca26"
             ],
             [
              1,
              "#f0f921"
             ]
            ],
            "type": "heatmapgl"
           }
          ],
          "histogram": [
           {
            "marker": {
             "pattern": {
              "fillmode": "overlay",
              "size": 10,
              "solidity": 0.2
             }
            },
            "type": "histogram"
           }
          ],
          "histogram2d": [
           {
            "colorbar": {
             "outlinewidth": 0,
             "ticks": ""
            },
            "colorscale": [
             [
              0,
              "#0d0887"
             ],
             [
              0.1111111111111111,
              "#46039f"
             ],
             [
              0.2222222222222222,
              "#7201a8"
             ],
             [
              0.3333333333333333,
              "#9c179e"
             ],
             [
              0.4444444444444444,
              "#bd3786"
             ],
             [
              0.5555555555555556,
              "#d8576b"
             ],
             [
              0.6666666666666666,
              "#ed7953"
             ],
             [
              0.7777777777777778,
              "#fb9f3a"
             ],
             [
              0.8888888888888888,
              "#fdca26"
             ],
             [
              1,
              "#f0f921"
             ]
            ],
            "type": "histogram2d"
           }
          ],
          "histogram2dcontour": [
           {
            "colorbar": {
             "outlinewidth": 0,
             "ticks": ""
            },
            "colorscale": [
             [
              0,
              "#0d0887"
             ],
             [
              0.1111111111111111,
              "#46039f"
             ],
             [
              0.2222222222222222,
              "#7201a8"
             ],
             [
              0.3333333333333333,
              "#9c179e"
             ],
             [
              0.4444444444444444,
              "#bd3786"
             ],
             [
              0.5555555555555556,
              "#d8576b"
             ],
             [
              0.6666666666666666,
              "#ed7953"
             ],
             [
              0.7777777777777778,
              "#fb9f3a"
             ],
             [
              0.8888888888888888,
              "#fdca26"
             ],
             [
              1,
              "#f0f921"
             ]
            ],
            "type": "histogram2dcontour"
           }
          ],
          "mesh3d": [
           {
            "colorbar": {
             "outlinewidth": 0,
             "ticks": ""
            },
            "type": "mesh3d"
           }
          ],
          "parcoords": [
           {
            "line": {
             "colorbar": {
              "outlinewidth": 0,
              "ticks": ""
             }
            },
            "type": "parcoords"
           }
          ],
          "pie": [
           {
            "automargin": true,
            "type": "pie"
           }
          ],
          "scatter": [
           {
            "fillpattern": {
             "fillmode": "overlay",
             "size": 10,
             "solidity": 0.2
            },
            "type": "scatter"
           }
          ],
          "scatter3d": [
           {
            "line": {
             "colorbar": {
              "outlinewidth": 0,
              "ticks": ""
             }
            },
            "marker": {
             "colorbar": {
              "outlinewidth": 0,
              "ticks": ""
             }
            },
            "type": "scatter3d"
           }
          ],
          "scattercarpet": [
           {
            "marker": {
             "colorbar": {
              "outlinewidth": 0,
              "ticks": ""
             }
            },
            "type": "scattercarpet"
           }
          ],
          "scattergeo": [
           {
            "marker": {
             "colorbar": {
              "outlinewidth": 0,
              "ticks": ""
             }
            },
            "type": "scattergeo"
           }
          ],
          "scattergl": [
           {
            "marker": {
             "colorbar": {
              "outlinewidth": 0,
              "ticks": ""
             }
            },
            "type": "scattergl"
           }
          ],
          "scattermapbox": [
           {
            "marker": {
             "colorbar": {
              "outlinewidth": 0,
              "ticks": ""
             }
            },
            "type": "scattermapbox"
           }
          ],
          "scatterpolar": [
           {
            "marker": {
             "colorbar": {
              "outlinewidth": 0,
              "ticks": ""
             }
            },
            "type": "scatterpolar"
           }
          ],
          "scatterpolargl": [
           {
            "marker": {
             "colorbar": {
              "outlinewidth": 0,
              "ticks": ""
             }
            },
            "type": "scatterpolargl"
           }
          ],
          "scatterternary": [
           {
            "marker": {
             "colorbar": {
              "outlinewidth": 0,
              "ticks": ""
             }
            },
            "type": "scatterternary"
           }
          ],
          "surface": [
           {
            "colorbar": {
             "outlinewidth": 0,
             "ticks": ""
            },
            "colorscale": [
             [
              0,
              "#0d0887"
             ],
             [
              0.1111111111111111,
              "#46039f"
             ],
             [
              0.2222222222222222,
              "#7201a8"
             ],
             [
              0.3333333333333333,
              "#9c179e"
             ],
             [
              0.4444444444444444,
              "#bd3786"
             ],
             [
              0.5555555555555556,
              "#d8576b"
             ],
             [
              0.6666666666666666,
              "#ed7953"
             ],
             [
              0.7777777777777778,
              "#fb9f3a"
             ],
             [
              0.8888888888888888,
              "#fdca26"
             ],
             [
              1,
              "#f0f921"
             ]
            ],
            "type": "surface"
           }
          ],
          "table": [
           {
            "cells": {
             "fill": {
              "color": "#EBF0F8"
             },
             "line": {
              "color": "white"
             }
            },
            "header": {
             "fill": {
              "color": "#C8D4E3"
             },
             "line": {
              "color": "white"
             }
            },
            "type": "table"
           }
          ]
         },
         "layout": {
          "annotationdefaults": {
           "arrowcolor": "#2a3f5f",
           "arrowhead": 0,
           "arrowwidth": 1
          },
          "autotypenumbers": "strict",
          "coloraxis": {
           "colorbar": {
            "outlinewidth": 0,
            "ticks": ""
           }
          },
          "colorscale": {
           "diverging": [
            [
             0,
             "#8e0152"
            ],
            [
             0.1,
             "#c51b7d"
            ],
            [
             0.2,
             "#de77ae"
            ],
            [
             0.3,
             "#f1b6da"
            ],
            [
             0.4,
             "#fde0ef"
            ],
            [
             0.5,
             "#f7f7f7"
            ],
            [
             0.6,
             "#e6f5d0"
            ],
            [
             0.7,
             "#b8e186"
            ],
            [
             0.8,
             "#7fbc41"
            ],
            [
             0.9,
             "#4d9221"
            ],
            [
             1,
             "#276419"
            ]
           ],
           "sequential": [
            [
             0,
             "#0d0887"
            ],
            [
             0.1111111111111111,
             "#46039f"
            ],
            [
             0.2222222222222222,
             "#7201a8"
            ],
            [
             0.3333333333333333,
             "#9c179e"
            ],
            [
             0.4444444444444444,
             "#bd3786"
            ],
            [
             0.5555555555555556,
             "#d8576b"
            ],
            [
             0.6666666666666666,
             "#ed7953"
            ],
            [
             0.7777777777777778,
             "#fb9f3a"
            ],
            [
             0.8888888888888888,
             "#fdca26"
            ],
            [
             1,
             "#f0f921"
            ]
           ],
           "sequentialminus": [
            [
             0,
             "#0d0887"
            ],
            [
             0.1111111111111111,
             "#46039f"
            ],
            [
             0.2222222222222222,
             "#7201a8"
            ],
            [
             0.3333333333333333,
             "#9c179e"
            ],
            [
             0.4444444444444444,
             "#bd3786"
            ],
            [
             0.5555555555555556,
             "#d8576b"
            ],
            [
             0.6666666666666666,
             "#ed7953"
            ],
            [
             0.7777777777777778,
             "#fb9f3a"
            ],
            [
             0.8888888888888888,
             "#fdca26"
            ],
            [
             1,
             "#f0f921"
            ]
           ]
          },
          "colorway": [
           "#636efa",
           "#EF553B",
           "#00cc96",
           "#ab63fa",
           "#FFA15A",
           "#19d3f3",
           "#FF6692",
           "#B6E880",
           "#FF97FF",
           "#FECB52"
          ],
          "font": {
           "color": "#2a3f5f"
          },
          "geo": {
           "bgcolor": "white",
           "lakecolor": "white",
           "landcolor": "#E5ECF6",
           "showlakes": true,
           "showland": true,
           "subunitcolor": "white"
          },
          "hoverlabel": {
           "align": "left"
          },
          "hovermode": "closest",
          "mapbox": {
           "style": "light"
          },
          "paper_bgcolor": "white",
          "plot_bgcolor": "#E5ECF6",
          "polar": {
           "angularaxis": {
            "gridcolor": "white",
            "linecolor": "white",
            "ticks": ""
           },
           "bgcolor": "#E5ECF6",
           "radialaxis": {
            "gridcolor": "white",
            "linecolor": "white",
            "ticks": ""
           }
          },
          "scene": {
           "xaxis": {
            "backgroundcolor": "#E5ECF6",
            "gridcolor": "white",
            "gridwidth": 2,
            "linecolor": "white",
            "showbackground": true,
            "ticks": "",
            "zerolinecolor": "white"
           },
           "yaxis": {
            "backgroundcolor": "#E5ECF6",
            "gridcolor": "white",
            "gridwidth": 2,
            "linecolor": "white",
            "showbackground": true,
            "ticks": "",
            "zerolinecolor": "white"
           },
           "zaxis": {
            "backgroundcolor": "#E5ECF6",
            "gridcolor": "white",
            "gridwidth": 2,
            "linecolor": "white",
            "showbackground": true,
            "ticks": "",
            "zerolinecolor": "white"
           }
          },
          "shapedefaults": {
           "line": {
            "color": "#2a3f5f"
           }
          },
          "ternary": {
           "aaxis": {
            "gridcolor": "white",
            "linecolor": "white",
            "ticks": ""
           },
           "baxis": {
            "gridcolor": "white",
            "linecolor": "white",
            "ticks": ""
           },
           "bgcolor": "#E5ECF6",
           "caxis": {
            "gridcolor": "white",
            "linecolor": "white",
            "ticks": ""
           }
          },
          "title": {
           "x": 0.05
          },
          "xaxis": {
           "automargin": true,
           "gridcolor": "white",
           "linecolor": "white",
           "ticks": "",
           "title": {
            "standoff": 15
           },
           "zerolinecolor": "white",
           "zerolinewidth": 2
          },
          "yaxis": {
           "automargin": true,
           "gridcolor": "white",
           "linecolor": "white",
           "ticks": "",
           "title": {
            "standoff": 15
           },
           "zerolinecolor": "white",
           "zerolinewidth": 2
          }
         }
        },
        "title": {
         "text": "Top Bigrams after Preprocessing"
        },
        "xaxis": {
         "anchor": "y",
         "domain": [
          0,
          1
         ],
         "tickangle": 45,
         "title": {
          "text": "Bigram"
         }
        },
        "yaxis": {
         "anchor": "x",
         "domain": [
          0,
          1
         ],
         "title": {
          "text": "Frequency"
         }
        }
       }
      }
     },
     "metadata": {},
     "output_type": "display_data"
    }
   ],
   "source": [
    "# 2. Bigram Frequency Distribution\n",
    "all_bigrams = [bigram for review in train_data[\"bigrams\"] for bigram in review]\n",
    "bigram_counts = Counter(all_bigrams)\n",
    "bigram_df = pd.DataFrame(bigram_counts.most_common(20), columns=[\"Bigram\", \"Frequency\"])\n",
    "\n",
    "\n",
    "# Plotting Bigram Frequency Distribution with Plotly\n",
    "fig = px.bar(\n",
    "    bigram_df,\n",
    "    x=\"Bigram\",\n",
    "    y=\"Frequency\",\n",
    "    title=\"Top Bigrams after Preprocessing\",\n",
    "    color_discrete_sequence=[\"green\"],\n",
    ")\n",
    "fig.update_xaxes(tickangle=45)\n",
    "fig.update_layout(xaxis_title=\"Bigram\", yaxis_title=\"Frequency\", bargap=0.1)\n",
    "fig.show()"
   ]
  },
  {
   "cell_type": "code",
   "execution_count": 59,
   "metadata": {},
   "outputs": [],
   "source": [
    "all_trigrams = [trigram for review in train_data[\"trigrams\"] for trigram in review]\n",
    "trigram_counts = Counter(all_trigrams)\n",
    "trigram_df = pd.DataFrame(\n",
    "    trigram_counts.most_common(20), columns=[\"Trigram\", \"Frequency\"]\n",
    ")"
   ]
  },
  {
   "cell_type": "code",
   "execution_count": 60,
   "metadata": {},
   "outputs": [
    {
     "data": {
      "application/vnd.plotly.v1+json": {
       "config": {
        "plotlyServerURL": "https://plot.ly"
       },
       "data": [
        {
         "alignmentgroup": "True",
         "hovertemplate": "Trigram=%{x}<br>Frequency=%{y}<extra></extra>",
         "legendgroup": "",
         "marker": {
          "color": "blue",
          "pattern": {
           "shape": ""
          }
         },
         "name": "",
         "offsetgroup": "",
         "orientation": "v",
         "showlegend": false,
         "textposition": "auto",
         "type": "bar",
         "x": [
          [
           "ive",
           "ever",
           "seen"
          ],
          [
           "dont",
           "waste",
           "time"
          ],
          [
           "five",
           "across",
           "eyes"
          ],
          [
           "br",
           "br",
           "br"
          ],
          [
           "movies",
           "ever",
           "made"
          ],
          [
           "br",
           "br",
           "one"
          ],
          [
           "movie",
           "ive",
           "ever"
          ],
          [
           "new",
           "york",
           "city"
          ],
          [
           "movie",
           "br",
           "br"
          ],
          [
           "worst",
           "film",
           "ever"
          ],
          [
           "movies",
           "ive",
           "ever"
          ],
          [
           "night",
           "living",
           "dead"
          ],
          [
           "br",
           "even",
           "though"
          ],
          [
           "dont",
           "get",
           "wrong"
          ],
          [
           "movie",
           "takes",
           "place"
          ],
          [
           "one",
           "worst",
           "films"
          ],
          [
           "br",
           "one",
           "thing"
          ],
          [
           "movie",
           "ever",
           "made"
          ],
          [
           "ever",
           "seen",
           "movie"
          ],
          [
           "br",
           "special",
           "effects"
          ]
         ],
         "xaxis": "x",
         "y": [
          15,
          12,
          9,
          7,
          6,
          6,
          6,
          6,
          6,
          6,
          5,
          5,
          5,
          5,
          5,
          5,
          5,
          4,
          4,
          4
         ],
         "yaxis": "y"
        }
       ],
       "layout": {
        "bargap": 0.1,
        "barmode": "relative",
        "legend": {
         "tracegroupgap": 0
        },
        "template": {
         "data": {
          "bar": [
           {
            "error_x": {
             "color": "#2a3f5f"
            },
            "error_y": {
             "color": "#2a3f5f"
            },
            "marker": {
             "line": {
              "color": "#E5ECF6",
              "width": 0.5
             },
             "pattern": {
              "fillmode": "overlay",
              "size": 10,
              "solidity": 0.2
             }
            },
            "type": "bar"
           }
          ],
          "barpolar": [
           {
            "marker": {
             "line": {
              "color": "#E5ECF6",
              "width": 0.5
             },
             "pattern": {
              "fillmode": "overlay",
              "size": 10,
              "solidity": 0.2
             }
            },
            "type": "barpolar"
           }
          ],
          "carpet": [
           {
            "aaxis": {
             "endlinecolor": "#2a3f5f",
             "gridcolor": "white",
             "linecolor": "white",
             "minorgridcolor": "white",
             "startlinecolor": "#2a3f5f"
            },
            "baxis": {
             "endlinecolor": "#2a3f5f",
             "gridcolor": "white",
             "linecolor": "white",
             "minorgridcolor": "white",
             "startlinecolor": "#2a3f5f"
            },
            "type": "carpet"
           }
          ],
          "choropleth": [
           {
            "colorbar": {
             "outlinewidth": 0,
             "ticks": ""
            },
            "type": "choropleth"
           }
          ],
          "contour": [
           {
            "colorbar": {
             "outlinewidth": 0,
             "ticks": ""
            },
            "colorscale": [
             [
              0,
              "#0d0887"
             ],
             [
              0.1111111111111111,
              "#46039f"
             ],
             [
              0.2222222222222222,
              "#7201a8"
             ],
             [
              0.3333333333333333,
              "#9c179e"
             ],
             [
              0.4444444444444444,
              "#bd3786"
             ],
             [
              0.5555555555555556,
              "#d8576b"
             ],
             [
              0.6666666666666666,
              "#ed7953"
             ],
             [
              0.7777777777777778,
              "#fb9f3a"
             ],
             [
              0.8888888888888888,
              "#fdca26"
             ],
             [
              1,
              "#f0f921"
             ]
            ],
            "type": "contour"
           }
          ],
          "contourcarpet": [
           {
            "colorbar": {
             "outlinewidth": 0,
             "ticks": ""
            },
            "type": "contourcarpet"
           }
          ],
          "heatmap": [
           {
            "colorbar": {
             "outlinewidth": 0,
             "ticks": ""
            },
            "colorscale": [
             [
              0,
              "#0d0887"
             ],
             [
              0.1111111111111111,
              "#46039f"
             ],
             [
              0.2222222222222222,
              "#7201a8"
             ],
             [
              0.3333333333333333,
              "#9c179e"
             ],
             [
              0.4444444444444444,
              "#bd3786"
             ],
             [
              0.5555555555555556,
              "#d8576b"
             ],
             [
              0.6666666666666666,
              "#ed7953"
             ],
             [
              0.7777777777777778,
              "#fb9f3a"
             ],
             [
              0.8888888888888888,
              "#fdca26"
             ],
             [
              1,
              "#f0f921"
             ]
            ],
            "type": "heatmap"
           }
          ],
          "heatmapgl": [
           {
            "colorbar": {
             "outlinewidth": 0,
             "ticks": ""
            },
            "colorscale": [
             [
              0,
              "#0d0887"
             ],
             [
              0.1111111111111111,
              "#46039f"
             ],
             [
              0.2222222222222222,
              "#7201a8"
             ],
             [
              0.3333333333333333,
              "#9c179e"
             ],
             [
              0.4444444444444444,
              "#bd3786"
             ],
             [
              0.5555555555555556,
              "#d8576b"
             ],
             [
              0.6666666666666666,
              "#ed7953"
             ],
             [
              0.7777777777777778,
              "#fb9f3a"
             ],
             [
              0.8888888888888888,
              "#fdca26"
             ],
             [
              1,
              "#f0f921"
             ]
            ],
            "type": "heatmapgl"
           }
          ],
          "histogram": [
           {
            "marker": {
             "pattern": {
              "fillmode": "overlay",
              "size": 10,
              "solidity": 0.2
             }
            },
            "type": "histogram"
           }
          ],
          "histogram2d": [
           {
            "colorbar": {
             "outlinewidth": 0,
             "ticks": ""
            },
            "colorscale": [
             [
              0,
              "#0d0887"
             ],
             [
              0.1111111111111111,
              "#46039f"
             ],
             [
              0.2222222222222222,
              "#7201a8"
             ],
             [
              0.3333333333333333,
              "#9c179e"
             ],
             [
              0.4444444444444444,
              "#bd3786"
             ],
             [
              0.5555555555555556,
              "#d8576b"
             ],
             [
              0.6666666666666666,
              "#ed7953"
             ],
             [
              0.7777777777777778,
              "#fb9f3a"
             ],
             [
              0.8888888888888888,
              "#fdca26"
             ],
             [
              1,
              "#f0f921"
             ]
            ],
            "type": "histogram2d"
           }
          ],
          "histogram2dcontour": [
           {
            "colorbar": {
             "outlinewidth": 0,
             "ticks": ""
            },
            "colorscale": [
             [
              0,
              "#0d0887"
             ],
             [
              0.1111111111111111,
              "#46039f"
             ],
             [
              0.2222222222222222,
              "#7201a8"
             ],
             [
              0.3333333333333333,
              "#9c179e"
             ],
             [
              0.4444444444444444,
              "#bd3786"
             ],
             [
              0.5555555555555556,
              "#d8576b"
             ],
             [
              0.6666666666666666,
              "#ed7953"
             ],
             [
              0.7777777777777778,
              "#fb9f3a"
             ],
             [
              0.8888888888888888,
              "#fdca26"
             ],
             [
              1,
              "#f0f921"
             ]
            ],
            "type": "histogram2dcontour"
           }
          ],
          "mesh3d": [
           {
            "colorbar": {
             "outlinewidth": 0,
             "ticks": ""
            },
            "type": "mesh3d"
           }
          ],
          "parcoords": [
           {
            "line": {
             "colorbar": {
              "outlinewidth": 0,
              "ticks": ""
             }
            },
            "type": "parcoords"
           }
          ],
          "pie": [
           {
            "automargin": true,
            "type": "pie"
           }
          ],
          "scatter": [
           {
            "fillpattern": {
             "fillmode": "overlay",
             "size": 10,
             "solidity": 0.2
            },
            "type": "scatter"
           }
          ],
          "scatter3d": [
           {
            "line": {
             "colorbar": {
              "outlinewidth": 0,
              "ticks": ""
             }
            },
            "marker": {
             "colorbar": {
              "outlinewidth": 0,
              "ticks": ""
             }
            },
            "type": "scatter3d"
           }
          ],
          "scattercarpet": [
           {
            "marker": {
             "colorbar": {
              "outlinewidth": 0,
              "ticks": ""
             }
            },
            "type": "scattercarpet"
           }
          ],
          "scattergeo": [
           {
            "marker": {
             "colorbar": {
              "outlinewidth": 0,
              "ticks": ""
             }
            },
            "type": "scattergeo"
           }
          ],
          "scattergl": [
           {
            "marker": {
             "colorbar": {
              "outlinewidth": 0,
              "ticks": ""
             }
            },
            "type": "scattergl"
           }
          ],
          "scattermapbox": [
           {
            "marker": {
             "colorbar": {
              "outlinewidth": 0,
              "ticks": ""
             }
            },
            "type": "scattermapbox"
           }
          ],
          "scatterpolar": [
           {
            "marker": {
             "colorbar": {
              "outlinewidth": 0,
              "ticks": ""
             }
            },
            "type": "scatterpolar"
           }
          ],
          "scatterpolargl": [
           {
            "marker": {
             "colorbar": {
              "outlinewidth": 0,
              "ticks": ""
             }
            },
            "type": "scatterpolargl"
           }
          ],
          "scatterternary": [
           {
            "marker": {
             "colorbar": {
              "outlinewidth": 0,
              "ticks": ""
             }
            },
            "type": "scatterternary"
           }
          ],
          "surface": [
           {
            "colorbar": {
             "outlinewidth": 0,
             "ticks": ""
            },
            "colorscale": [
             [
              0,
              "#0d0887"
             ],
             [
              0.1111111111111111,
              "#46039f"
             ],
             [
              0.2222222222222222,
              "#7201a8"
             ],
             [
              0.3333333333333333,
              "#9c179e"
             ],
             [
              0.4444444444444444,
              "#bd3786"
             ],
             [
              0.5555555555555556,
              "#d8576b"
             ],
             [
              0.6666666666666666,
              "#ed7953"
             ],
             [
              0.7777777777777778,
              "#fb9f3a"
             ],
             [
              0.8888888888888888,
              "#fdca26"
             ],
             [
              1,
              "#f0f921"
             ]
            ],
            "type": "surface"
           }
          ],
          "table": [
           {
            "cells": {
             "fill": {
              "color": "#EBF0F8"
             },
             "line": {
              "color": "white"
             }
            },
            "header": {
             "fill": {
              "color": "#C8D4E3"
             },
             "line": {
              "color": "white"
             }
            },
            "type": "table"
           }
          ]
         },
         "layout": {
          "annotationdefaults": {
           "arrowcolor": "#2a3f5f",
           "arrowhead": 0,
           "arrowwidth": 1
          },
          "autotypenumbers": "strict",
          "coloraxis": {
           "colorbar": {
            "outlinewidth": 0,
            "ticks": ""
           }
          },
          "colorscale": {
           "diverging": [
            [
             0,
             "#8e0152"
            ],
            [
             0.1,
             "#c51b7d"
            ],
            [
             0.2,
             "#de77ae"
            ],
            [
             0.3,
             "#f1b6da"
            ],
            [
             0.4,
             "#fde0ef"
            ],
            [
             0.5,
             "#f7f7f7"
            ],
            [
             0.6,
             "#e6f5d0"
            ],
            [
             0.7,
             "#b8e186"
            ],
            [
             0.8,
             "#7fbc41"
            ],
            [
             0.9,
             "#4d9221"
            ],
            [
             1,
             "#276419"
            ]
           ],
           "sequential": [
            [
             0,
             "#0d0887"
            ],
            [
             0.1111111111111111,
             "#46039f"
            ],
            [
             0.2222222222222222,
             "#7201a8"
            ],
            [
             0.3333333333333333,
             "#9c179e"
            ],
            [
             0.4444444444444444,
             "#bd3786"
            ],
            [
             0.5555555555555556,
             "#d8576b"
            ],
            [
             0.6666666666666666,
             "#ed7953"
            ],
            [
             0.7777777777777778,
             "#fb9f3a"
            ],
            [
             0.8888888888888888,
             "#fdca26"
            ],
            [
             1,
             "#f0f921"
            ]
           ],
           "sequentialminus": [
            [
             0,
             "#0d0887"
            ],
            [
             0.1111111111111111,
             "#46039f"
            ],
            [
             0.2222222222222222,
             "#7201a8"
            ],
            [
             0.3333333333333333,
             "#9c179e"
            ],
            [
             0.4444444444444444,
             "#bd3786"
            ],
            [
             0.5555555555555556,
             "#d8576b"
            ],
            [
             0.6666666666666666,
             "#ed7953"
            ],
            [
             0.7777777777777778,
             "#fb9f3a"
            ],
            [
             0.8888888888888888,
             "#fdca26"
            ],
            [
             1,
             "#f0f921"
            ]
           ]
          },
          "colorway": [
           "#636efa",
           "#EF553B",
           "#00cc96",
           "#ab63fa",
           "#FFA15A",
           "#19d3f3",
           "#FF6692",
           "#B6E880",
           "#FF97FF",
           "#FECB52"
          ],
          "font": {
           "color": "#2a3f5f"
          },
          "geo": {
           "bgcolor": "white",
           "lakecolor": "white",
           "landcolor": "#E5ECF6",
           "showlakes": true,
           "showland": true,
           "subunitcolor": "white"
          },
          "hoverlabel": {
           "align": "left"
          },
          "hovermode": "closest",
          "mapbox": {
           "style": "light"
          },
          "paper_bgcolor": "white",
          "plot_bgcolor": "#E5ECF6",
          "polar": {
           "angularaxis": {
            "gridcolor": "white",
            "linecolor": "white",
            "ticks": ""
           },
           "bgcolor": "#E5ECF6",
           "radialaxis": {
            "gridcolor": "white",
            "linecolor": "white",
            "ticks": ""
           }
          },
          "scene": {
           "xaxis": {
            "backgroundcolor": "#E5ECF6",
            "gridcolor": "white",
            "gridwidth": 2,
            "linecolor": "white",
            "showbackground": true,
            "ticks": "",
            "zerolinecolor": "white"
           },
           "yaxis": {
            "backgroundcolor": "#E5ECF6",
            "gridcolor": "white",
            "gridwidth": 2,
            "linecolor": "white",
            "showbackground": true,
            "ticks": "",
            "zerolinecolor": "white"
           },
           "zaxis": {
            "backgroundcolor": "#E5ECF6",
            "gridcolor": "white",
            "gridwidth": 2,
            "linecolor": "white",
            "showbackground": true,
            "ticks": "",
            "zerolinecolor": "white"
           }
          },
          "shapedefaults": {
           "line": {
            "color": "#2a3f5f"
           }
          },
          "ternary": {
           "aaxis": {
            "gridcolor": "white",
            "linecolor": "white",
            "ticks": ""
           },
           "baxis": {
            "gridcolor": "white",
            "linecolor": "white",
            "ticks": ""
           },
           "bgcolor": "#E5ECF6",
           "caxis": {
            "gridcolor": "white",
            "linecolor": "white",
            "ticks": ""
           }
          },
          "title": {
           "x": 0.05
          },
          "xaxis": {
           "automargin": true,
           "gridcolor": "white",
           "linecolor": "white",
           "ticks": "",
           "title": {
            "standoff": 15
           },
           "zerolinecolor": "white",
           "zerolinewidth": 2
          },
          "yaxis": {
           "automargin": true,
           "gridcolor": "white",
           "linecolor": "white",
           "ticks": "",
           "title": {
            "standoff": 15
           },
           "zerolinecolor": "white",
           "zerolinewidth": 2
          }
         }
        },
        "title": {
         "text": "Top Trigrams after Preprocessing"
        },
        "xaxis": {
         "anchor": "y",
         "domain": [
          0,
          1
         ],
         "tickangle": 45,
         "title": {
          "text": "Trigram"
         }
        },
        "yaxis": {
         "anchor": "x",
         "domain": [
          0,
          1
         ],
         "title": {
          "text": "Frequency"
         }
        }
       }
      }
     },
     "metadata": {},
     "output_type": "display_data"
    }
   ],
   "source": [
    "# Plotting Trigram Frequency Distribution with Plotly\n",
    "fig = px.bar(\n",
    "    trigram_df,\n",
    "    x=\"Trigram\",\n",
    "    y=\"Frequency\",\n",
    "    title=\"Top Trigrams after Preprocessing\",\n",
    "    color_discrete_sequence=[\"blue\"],\n",
    ")\n",
    "fig.update_xaxes(tickangle=45)\n",
    "fig.update_layout(xaxis_title=\"Trigram\", yaxis_title=\"Frequency\", bargap=0.1)\n",
    "fig.show()"
   ]
  },
  {
   "cell_type": "markdown",
   "metadata": {},
   "source": [
    "## Bag of Words Implementation"
   ]
  },
  {
   "cell_type": "code",
   "execution_count": 61,
   "metadata": {},
   "outputs": [],
   "source": [
    "MIN_FREQ = 5\n",
    "\n",
    "\n",
    "class CustomBoW:\n",
    "    def __init__(self):\n",
    "        self.vocab = defaultdict(int)  # Unigram vocabulary\n",
    "        self.bigram_vocab = defaultdict(int)  # Bigram vocabulary\n",
    "        self.trigram_vocab = defaultdict(int)  # Trigram vocabulary\n",
    "        self.unknown_token = \"<UNK>\"\n",
    "        self.vocab_size = 0\n",
    "        self.bigram_vocab_size = 0\n",
    "        self.trigram_vocab_size = 0\n",
    "\n",
    "    def build_vocab(self, data):\n",
    "        # Count unigrams\n",
    "        for review in data[\"unigrams\"]:\n",
    "            for word in review:\n",
    "                self.vocab[word] += 1\n",
    "\n",
    "        # Count bigrams\n",
    "        for review in data[\"bigrams\"]:\n",
    "            for bigram in review:\n",
    "                self.bigram_vocab[bigram] += 1\n",
    "\n",
    "        # Count trigrams\n",
    "        for review in data[\"trigrams\"]:\n",
    "            for trigram in review:\n",
    "                self.trigram_vocab[trigram] += 1\n",
    "\n",
    "        # Handle rare words as unknowns\n",
    "        self.vocab = {\n",
    "            word: count for word, count in self.vocab.items() if count >= MIN_FREQ\n",
    "        }\n",
    "        self.vocab[self.unknown_token] = 1\n",
    "        self.vocab_size = len(self.vocab)\n",
    "\n",
    "        self.bigram_vocab = {\n",
    "            bigram: count\n",
    "            for bigram, count in self.bigram_vocab.items()\n",
    "            if count >= MIN_FREQ\n",
    "        }\n",
    "        self.bigram_vocab[(self.unknown_token, self.unknown_token)] = 1\n",
    "        self.bigram_vocab_size = len(self.bigram_vocab)\n",
    "\n",
    "        self.trigram_vocab = {\n",
    "            trigram: count\n",
    "            for trigram, count in self.trigram_vocab.items()\n",
    "            if count >= MIN_FREQ\n",
    "        }\n",
    "        self.trigram_vocab[\n",
    "            (self.unknown_token, self.unknown_token, self.unknown_token)\n",
    "        ] = 1\n",
    "        self.trigram_vocab_size = len(self.trigram_vocab)\n",
    "\n",
    "    def get_unigram_vector(self, review):\n",
    "        vector = np.zeros(self.vocab_size)\n",
    "        for word in review:\n",
    "            index = (\n",
    "                list(self.vocab.keys()).index(word)\n",
    "                if word in self.vocab\n",
    "                else list(self.vocab.keys()).index(self.unknown_token)\n",
    "            )\n",
    "            vector[index] += 1\n",
    "        return vector\n",
    "\n",
    "    def get_bigram_vector(self, review):\n",
    "        vector = np.zeros(self.bigram_vocab_size)\n",
    "        for bigram in review:\n",
    "            index = (\n",
    "                list(self.bigram_vocab.keys()).index(bigram)\n",
    "                if bigram in self.bigram_vocab\n",
    "                else list(self.bigram_vocab.keys()).index(\n",
    "                    (self.unknown_token, self.unknown_token)\n",
    "                )\n",
    "            )\n",
    "            vector[index] += 1\n",
    "        return vector\n",
    "\n",
    "    def get_trigram_vector(self, review):\n",
    "        vector = np.zeros(self.trigram_vocab_size)\n",
    "        for trigram in review:\n",
    "            index = (\n",
    "                list(self.trigram_vocab.keys()).index(trigram)\n",
    "                if trigram in self.trigram_vocab\n",
    "                else list(self.trigram_vocab.keys()).index(\n",
    "                    (self.unknown_token, self.unknown_token, self.unknown_token)\n",
    "                )\n",
    "            )\n",
    "            vector[index] += 1\n",
    "        return vector\n",
    "\n",
    "    def get_laplace_smoothed_prob(self, word, ngram_type=\"unigram\"):\n",
    "        if ngram_type == \"unigram\":\n",
    "            count = self.vocab.get(word, self.vocab[self.unknown_token])\n",
    "            return (count + 1) / (sum(self.vocab.values()) + self.vocab_size)\n",
    "        elif ngram_type == \"bigram\":\n",
    "            count = self.bigram_vocab.get(\n",
    "                word, self.bigram_vocab[(self.unknown_token, self.unknown_token)]\n",
    "            )\n",
    "            return (count + 1) / (\n",
    "                sum(self.bigram_vocab.values()) + self.bigram_vocab_size\n",
    "            )\n",
    "        elif ngram_type == \"trigram\":\n",
    "            count = self.trigram_vocab.get(\n",
    "                word,\n",
    "                self.trigram_vocab[\n",
    "                    (self.unknown_token, self.unknown_token, self.unknown_token)\n",
    "                ],\n",
    "            )\n",
    "            return (count + 1) / (\n",
    "                sum(self.trigram_vocab.values()) + self.trigram_vocab_size\n",
    "            )"
   ]
  },
  {
   "cell_type": "code",
   "execution_count": 62,
   "metadata": {},
   "outputs": [],
   "source": [
    "# Instantiate and build the BoW dictionary\n",
    "bow_model = CustomBoW()\n",
    "bow_model.build_vocab(train_data)"
   ]
  },
  {
   "cell_type": "code",
   "execution_count": 63,
   "metadata": {},
   "outputs": [
    {
     "name": "stdout",
     "output_type": "stream",
     "text": [
      "Unigram Vector for Sample Review: [1. 3. 1. ... 0. 0. 7.]\n",
      "Bigram Vector for Sample Review: [ 1.  1.  1.  1.  0.  0.  0.  0.  0.  0.  0.  0.  0.  0.  0.  0.  0.  0.\n",
      "  0.  0.  0.  0.  0.  0.  0.  0.  0.  0.  0.  0.  0.  0.  0.  0.  0.  0.\n",
      "  0.  0.  0.  0.  0.  0.  0.  0.  0.  0.  0.  0.  0.  0.  0.  0.  0.  0.\n",
      "  0.  0.  0.  0.  0.  0.  0.  0.  0.  0.  0.  0.  0.  0.  0.  0.  0.  0.\n",
      "  0.  0.  0.  0.  0.  0.  0.  0.  0.  0.  0.  0.  0.  0.  0.  0.  0.  0.\n",
      "  0.  0.  0.  0.  0.  0.  0.  0.  0.  0.  0.  0.  0.  0.  0.  0.  0.  0.\n",
      "  0.  0.  0.  0.  0.  0.  0.  0.  0.  0.  0.  0.  0.  0.  0.  0.  0.  0.\n",
      "  0.  0.  0.  0.  0.  0.  0.  0.  0.  0.  0.  0.  0.  0.  0.  0.  0.  0.\n",
      "  0.  0.  0.  0.  0.  0.  0.  0.  0.  0.  0.  0.  0.  0.  0.  0.  0.  0.\n",
      "  0.  0.  0.  0.  0.  0.  0.  0.  0.  0.  0.  0.  0.  0.  0.  0.  0.  0.\n",
      "  0.  0.  0.  0.  0.  0.  0.  0.  0.  0.  0.  0.  0.  0.  0.  0.  0.  0.\n",
      "  0.  0.  0.  0.  0.  0.  0.  0.  0.  0.  0.  0.  0.  0.  0.  0.  0.  0.\n",
      "  0.  0.  0.  0.  0.  0.  0.  0.  0.  0.  0.  0.  0.  0.  0.  0.  0.  0.\n",
      "  0.  0.  0.  0.  0.  0.  0.  0.  0.  0.  0.  0.  0.  0.  0.  0.  0.  0.\n",
      "  0.  0.  0.  0.  0.  0.  0.  0.  0.  0.  0.  0.  0.  0.  0.  0.  0.  0.\n",
      "  0.  0.  0.  0.  0.  0.  0.  0.  0.  0.  0.  0.  0.  0.  0.  0.  0.  0.\n",
      "  0.  0.  0.  0.  0.  0.  0.  0.  0.  0.  0.  0.  0.  0.  0.  0.  0.  0.\n",
      "  0.  0.  0.  0.  0.  0.  0.  0.  0.  0.  0.  0.  0.  0.  0.  0.  0.  0.\n",
      "  0.  0.  0.  0.  0.  0.  0.  0.  0.  0.  0.  0.  0.  0.  0.  0.  0.  0.\n",
      "  0.  0.  0.  0.  0.  0.  0.  0.  0.  0.  0.  0.  0.  0.  0.  0.  0.  0.\n",
      "  0.  0.  0.  0.  0.  0.  0.  0.  0.  0.  0.  0.  0.  0.  0.  0.  0.  0.\n",
      "  0.  0.  0.  0.  0.  0.  0.  0.  0.  0.  0.  0.  0.  0.  0.  0.  0.  0.\n",
      "  0.  0.  0.  0.  0.  0.  0.  0.  0.  0.  0.  0.  0.  0.  0.  0.  0.  0.\n",
      "  0.  0.  0.  0.  0.  0.  0.  0.  0.  0.  0.  0.  0.  0.  0.  0.  0.  0.\n",
      "  0.  0.  0.  0.  0.  0.  0.  0.  0.  0.  0.  0.  0.  0.  0.  0.  0.  0.\n",
      "  0.  0.  0.  0.  0.  0.  0.  0.  0.  0.  0.  0.  0.  0.  0.  0.  0.  0.\n",
      "  0.  0.  0.  0.  0.  0.  0.  0.  0.  0.  0.  0.  0.  0.  0.  0.  0.  0.\n",
      "  0.  0.  0.  0.  0.  0.  0.  0.  0.  0.  0.  0.  0.  0.  0.  0.  0.  0.\n",
      "  0.  0.  0.  0.  0.  0.  0.  0.  0.  0.  0.  0.  0.  0.  0.  0.  0.  0.\n",
      "  0.  0.  0.  0.  0.  0.  0.  0.  0.  0.  0.  0.  0.  0.  0.  0.  0.  0.\n",
      "  0.  0.  0.  0.  0.  0.  0.  0.  0.  0.  0.  0.  0.  0.  0.  0.  0.  0.\n",
      "  0.  0.  0.  0.  0.  0.  0.  0.  0.  0.  0.  0.  0.  0.  0.  0.  0.  0.\n",
      "  0.  0.  0.  0.  0.  0.  0.  0.  0.  0.  0.  0.  0.  0.  0.  0.  0.  0.\n",
      "  0.  0.  0.  0.  0.  0.  0.  0.  0.  0.  0.  0.  0.  0.  0.  0.  0.  0.\n",
      "  0.  0.  0.  0.  0.  0.  0.  0.  0.  0.  0.  0.  0.  0.  0.  0.  0.  0.\n",
      "  0.  0.  0.  0.  0.  0.  0.  0.  0.  0.  0.  0.  0.  0.  0.  0.  0.  0.\n",
      "  0.  0.  0.  0.  0.  0.  0.  0.  0.  0.  0.  0.  0.  0.  0.  0.  0.  0.\n",
      "  0.  0.  0.  0.  0.  0.  0.  0.  0.  0.  0.  0.  0.  0.  0.  0.  0.  0.\n",
      "  0.  0.  0.  0.  0.  0.  0.  0.  0.  0.  0.  0.  0.  0.  0.  0.  0.  0.\n",
      "  0.  0.  0.  0.  0.  0.  0.  0.  0.  0.  0.  0.  0.  0.  0.  0.  0.  0.\n",
      "  0.  0.  0.  0.  0.  0.  0.  0.  0.  0.  0.  0.  0.  0.  0.  0.  0.  0.\n",
      "  0.  0.  0.  0.  0.  0.  0.  0.  0.  0.  0.  0.  0.  0.  0.  0.  0.  0.\n",
      "  0.  0.  0.  0.  0.  0.  0.  0.  0.  0.  0.  0.  0.  0.  0.  0.  0.  0.\n",
      "  0.  0.  0.  0.  0.  0.  0.  0.  0.  0.  0.  0.  0.  0.  0.  0.  0.  0.\n",
      "  0.  0.  0.  0.  0.  0.  0.  0.  0.  0.  0.  0.  0.  0.  0.  0.  0.  0.\n",
      "  0.  0.  0.  0.  0.  0.  0.  0.  0.  0.  0.  0.  0.  0.  0.  0.  0.  0.\n",
      "  0.  0.  0.  0.  0.  0.  0.  0.  0.  0.  0.  0.  0.  0.  0.  0.  0.  0.\n",
      "  0.  0.  0.  0.  0.  0.  0.  0.  0.  0.  0.  0.  0.  0.  0.  0.  0.  0.\n",
      "  0.  0.  0.  0.  0.  0.  0.  0.  0.  0.  0.  0.  0.  0.  0.  0.  0.  0.\n",
      "  0.  0.  0.  0.  0.  0.  0.  0.  0.  0.  0.  0.  0.  0.  0.  0.  0.  0.\n",
      "  0.  0.  0.  0.  0.  0.  0.  0.  0.  0.  0.  0.  0.  0.  0.  0. 74.]\n",
      "Trigram Vector for Sample Review: [ 0.  0.  0.  0.  0.  0.  0.  0.  0.  0.  0.  0.  0.  0.  0.  0.  0. 77.]\n"
     ]
    }
   ],
   "source": [
    "# Example: Generate unigram and bigram vectors for the first review\n",
    "sample_review_unigram = train_data[\"unigrams\"].iloc[0]\n",
    "sample_review_bigram = train_data[\"bigrams\"].iloc[0]\n",
    "sample_review_trigram = train_data[\"trigrams\"].iloc[0]\n",
    "\n",
    "unigram_vector = bow_model.get_unigram_vector(sample_review_unigram)\n",
    "bigram_vector = bow_model.get_bigram_vector(sample_review_bigram)\n",
    "trigram_vector = bow_model.get_trigram_vector(sample_review_trigram)\n",
    "\n",
    "print(\"Unigram Vector for Sample Review:\", unigram_vector)\n",
    "print(\"Bigram Vector for Sample Review:\", bigram_vector)\n",
    "print(\"Trigram Vector for Sample Review:\", trigram_vector)"
   ]
  },
  {
   "cell_type": "code",
   "execution_count": 64,
   "metadata": {},
   "outputs": [
    {
     "name": "stdout",
     "output_type": "stream",
     "text": [
      "Laplace-Smoothed Probability of 'excellent' (Unigram): 0.0008810126582278481\n",
      "Laplace-Smoothed Probability of ('very', 'good') (Bigram): 0.00022568269013766644\n",
      "Laplace-Smoothed Probability of ('very', 'good', 'movie') (Trigram): 0.015037593984962405\n"
     ]
    }
   ],
   "source": [
    "# Example: Calculate Laplace-smoothed probability for a word/unigram and a bigram\n",
    "word_prob = bow_model.get_laplace_smoothed_prob(\"excellent\", ngram_type=\"unigram\")\n",
    "bigram_prob = bow_model.get_laplace_smoothed_prob((\"very\", \"good\"), ngram_type=\"bigram\")\n",
    "tri_prob = bow_model.get_laplace_smoothed_prob(\n",
    "    (\"very\", \"good\", \"movie\"), ngram_type=\"trigram\"\n",
    ")\n",
    "\n",
    "print(f\"Laplace-Smoothed Probability of 'excellent' (Unigram): {word_prob}\")\n",
    "print(f\"Laplace-Smoothed Probability of ('very', 'good') (Bigram): {bigram_prob}\")\n",
    "print(\n",
    "    f\"Laplace-Smoothed Probability of ('very', 'good', 'movie') (Trigram): {tri_prob}\"\n",
    ")"
   ]
  },
  {
   "cell_type": "markdown",
   "metadata": {},
   "source": [
    "## Naive Bayes Classifier Implementation"
   ]
  },
  {
   "cell_type": "code",
   "execution_count": 65,
   "metadata": {},
   "outputs": [],
   "source": [
    "class NaiveBayesClassifier:\n",
    "    def __init__(self, bow_model, ngram_type=\"unigram\"):\n",
    "        self.bow_model = bow_model  # Custom BoW model\n",
    "        self.ngram_type = ngram_type  # \"unigram\" or \"bigram\"\n",
    "        self.class_probs = {}  # Log probability of each class\n",
    "        self.word_probs = {}  # Log probabilities of each word given class\n",
    "\n",
    "    def train(self, data):\n",
    "        # Separate positive and negative reviews\n",
    "        pos_reviews = data[data[\"sentiment\"] == 1]\n",
    "        neg_reviews = data[data[\"sentiment\"] == 0]\n",
    "\n",
    "        # Compute log probabilities of each class\n",
    "        total_reviews = len(data)\n",
    "        self.class_probs[\"pos\"] = np.log(len(pos_reviews) / total_reviews)\n",
    "        self.class_probs[\"neg\"] = np.log(len(neg_reviews) / total_reviews)\n",
    "\n",
    "        # Calculate word probabilities with Laplace smoothing for each class\n",
    "        self.word_probs[\"pos\"] = self.calculate_word_probs(pos_reviews)\n",
    "        self.word_probs[\"neg\"] = self.calculate_word_probs(neg_reviews)\n",
    "\n",
    "    def calculate_word_probs(self, reviews):\n",
    "        # Calculate total word count in class and initialize word probabilities\n",
    "        word_count = 0\n",
    "        word_probs = defaultdict(\n",
    "            lambda: 1\n",
    "        )  # Initialize with Laplace smoothing (count of 1)\n",
    "\n",
    "        # Get unigrams or bigrams based on ngram_type\n",
    "        if self.ngram_type == \"unigram\":\n",
    "            all_words = [word for review in reviews[\"unigrams\"] for word in review]\n",
    "            vocab = self.bow_model.vocab\n",
    "        elif self.ngram_type == \"bigram\":\n",
    "            all_words = [bigram for review in reviews[\"bigrams\"] for bigram in review]\n",
    "            vocab = self.bow_model.bigram_vocab\n",
    "        else:\n",
    "            raise ValueError(\"ngram_type must be 'unigram' or 'bigram'\")\n",
    "\n",
    "        # Count word occurrences\n",
    "        word_counts = Counter(all_words)\n",
    "\n",
    "        # Calculate log probabilities with Laplace smoothing\n",
    "        word_count = sum(word_counts.values())\n",
    "        vocab_size = len(vocab)\n",
    "\n",
    "        for word in vocab:\n",
    "            word_probs[word] = np.log(\n",
    "                (word_counts[word] + 1) / (word_count + vocab_size)\n",
    "            )\n",
    "\n",
    "        return word_probs\n",
    "\n",
    "    def predict(self, review):\n",
    "        # Calculate log probability for each class\n",
    "        log_prob_pos = self.class_probs[\"pos\"]\n",
    "        log_prob_neg = self.class_probs[\"neg\"]\n",
    "\n",
    "        # Get the appropriate n-grams for the review\n",
    "        if self.ngram_type == \"unigram\":\n",
    "            words = self.bow_model.get_unigram_vector(review)\n",
    "        elif self.ngram_type == \"bigram\":\n",
    "            words = self.bow_model.get_bigram_vector(review)\n",
    "        else:\n",
    "            raise ValueError(\"ngram_type must be 'unigram' or 'bigram'\")\n",
    "\n",
    "        # Sum log probabilities for each word in the review\n",
    "        for word in words:\n",
    "            log_prob_pos += self.word_probs[\"pos\"].get(\n",
    "                word,\n",
    "                np.log(\n",
    "                    1\n",
    "                    / (\n",
    "                        sum(self.word_probs[\"pos\"].values())\n",
    "                        + len(self.word_probs[\"pos\"])\n",
    "                    )\n",
    "                ),\n",
    "            )\n",
    "            log_prob_neg += self.word_probs[\"neg\"].get(\n",
    "                word,\n",
    "                np.log(\n",
    "                    1\n",
    "                    / (\n",
    "                        sum(self.word_probs[\"neg\"].values())\n",
    "                        + len(self.word_probs[\"neg\"])\n",
    "                    )\n",
    "                ),\n",
    "            )\n",
    "\n",
    "        # Return prediction (1 for positive, 0 for negative)\n",
    "        return 1 if log_prob_pos > log_prob_neg else 0\n",
    "\n",
    "    def evaluate(self, data):\n",
    "        # Evaluate the classifier on test data\n",
    "        predictions = data[\"review\"].apply(self.predict)\n",
    "        accuracy = np.mean(predictions == data[\"sentiment\"])\n",
    "        return accuracy"
   ]
  },
  {
   "cell_type": "markdown",
   "metadata": {},
   "source": [
    "## Model Evaluation on Test Data"
   ]
  },
  {
   "cell_type": "code",
   "execution_count": 66,
   "metadata": {},
   "outputs": [],
   "source": [
    "def evaluate_model(classifier, test_data):\n",
    "    # Predict sentiment for each review in the test set\n",
    "    predictions = test_data[\"review\"].apply(classifier.predict)\n",
    "\n",
    "    # Calculate evaluation metrics\n",
    "    accuracy = accuracy_score(test_data[\"sentiment\"], predictions)\n",
    "    precision = precision_score(test_data[\"sentiment\"], predictions)\n",
    "    recall = recall_score(test_data[\"sentiment\"], predictions)\n",
    "    f1 = f1_score(test_data[\"sentiment\"], predictions)\n",
    "\n",
    "    return accuracy, precision, recall, f1"
   ]
  },
  {
   "cell_type": "code",
   "execution_count": null,
   "metadata": {},
   "outputs": [],
   "source": [
    "# Evaluate models with unigram and bigram settings\n",
    "results = []\n",
    "\n",
    "# Unigram Model Evaluation\n",
    "nb_classifier_unigram = NaiveBayesClassifier(bow_model, ngram_type=\"unigram\")\n",
    "nb_classifier_unigram.train(train_data)\n",
    "accuracy, precision, recall, f1 = evaluate_model(nb_classifier_unigram, test_data)\n",
    "results.append(\n",
    "    {\n",
    "        \"N-gram\": \"Unigram\",\n",
    "        \"Accuracy\": accuracy,\n",
    "        \"Precision\": precision,\n",
    "        \"Recall\": recall,\n",
    "        \"F1-Score\": f1,\n",
    "    }\n",
    ")"
   ]
  },
  {
   "cell_type": "code",
   "execution_count": null,
   "metadata": {},
   "outputs": [],
   "source": [
    "# Bigram Model Evaluation\n",
    "nb_classifier_bigram = NaiveBayesClassifier(bow_model, ngram_type=\"bigram\")\n",
    "nb_classifier_bigram.train(train_data)\n",
    "accuracy, precision, recall, f1 = evaluate_model(nb_classifier_bigram, test_data)\n",
    "results.append(\n",
    "    {\n",
    "        \"N-gram\": \"Bigram\",\n",
    "        \"Accuracy\": accuracy,\n",
    "        \"Precision\": precision,\n",
    "        \"Recall\": recall,\n",
    "        \"F1-Score\": f1,\n",
    "    }\n",
    ")"
   ]
  },
  {
   "cell_type": "code",
   "execution_count": null,
   "metadata": {},
   "outputs": [],
   "source": [
    "# Optional: Trigram Model Evaluation if implemented\n",
    "nb_classifier_trigram = NaiveBayesClassifier(bow_model, ngram_type=\"trigram\")\n",
    "nb_classifier_trigram.train(train_data)\n",
    "accuracy, precision, recall, f1 = evaluate_model(nb_classifier_trigram, test_data)\n",
    "results.append(\n",
    "    {\n",
    "        \"N-gram\": \"Trigram\",\n",
    "        \"Accuracy\": accuracy,\n",
    "        \"Precision\": precision,\n",
    "        \"Recall\": recall,\n",
    "        \"F1-Score\": f1,\n",
    "    }\n",
    ")"
   ]
  },
  {
   "cell_type": "code",
   "execution_count": null,
   "metadata": {},
   "outputs": [],
   "source": [
    "# Summarize results in a DataFrame\n",
    "results_df = pd.DataFrame(results)\n",
    "print(\"\\nModel Evaluation Results:\")\n",
    "print(results_df)"
   ]
  },
  {
   "cell_type": "markdown",
   "metadata": {},
   "source": [
    "## Bonus: Comparison woth Word Embedding and Logistic Regression"
   ]
  },
  {
   "cell_type": "code",
   "execution_count": null,
   "metadata": {},
   "outputs": [],
   "source": [
    "# Train Word2Vec model on the training dataset\n",
    "def train_word2vec(data, vector_size=100, window=5, min_count=2):\n",
    "    sentences = data[\n",
    "        \"processed_text\"\n",
    "    ].tolist()  # Assuming text is tokenized as a list of words in 'processed_text'\n",
    "    w2v_model = Word2Vec(\n",
    "        sentences, vector_size=vector_size, window=window, min_count=min_count, sg=1\n",
    "    )\n",
    "    return w2v_model\n",
    "\n",
    "\n",
    "w2v_model = train_word2vec(train_data)"
   ]
  },
  {
   "cell_type": "code",
   "execution_count": null,
   "metadata": {},
   "outputs": [],
   "source": [
    "# Helper function to average Word2Vec embeddings for a document\n",
    "def get_review_embedding(review, model, vector_size=100):\n",
    "    embedding = np.zeros(vector_size)\n",
    "    count = 0\n",
    "    for word in review:\n",
    "        if word in model.wv:\n",
    "            embedding += model.wv[word]\n",
    "            count += 1\n",
    "    return embedding / count if count != 0 else embedding"
   ]
  },
  {
   "cell_type": "code",
   "execution_count": null,
   "metadata": {},
   "outputs": [],
   "source": [
    "# Generate averaged embeddings for each review in the training and test sets\n",
    "train_embeddings = np.array(\n",
    "    [get_review_embedding(review, w2v_model) for review in train_data[\"processed_text\"]]\n",
    ")\n",
    "test_embeddings = np.array(\n",
    "    [get_review_embedding(review, w2v_model) for review in test_data[\"processed_text\"]]\n",
    ")\n",
    "\n",
    "# Extract labels\n",
    "train_labels = train_data[\"sentiment\"]\n",
    "test_labels = test_data[\"sentiment\"]"
   ]
  },
  {
   "cell_type": "code",
   "execution_count": null,
   "metadata": {},
   "outputs": [],
   "source": [
    "# Initialize and train Logistic Regression model\n",
    "log_reg_model = LogisticRegression(max_iter=1000)\n",
    "log_reg_model.fit(train_embeddings, train_labels)"
   ]
  },
  {
   "cell_type": "code",
   "execution_count": null,
   "metadata": {},
   "outputs": [],
   "source": [
    "# Predict sentiments on the test set\n",
    "test_predictions = log_reg_model.predict(test_embeddings)\n",
    "\n",
    "# Compute performance metrics\n",
    "accuracy = accuracy_score(test_labels, test_predictions)\n",
    "precision = precision_score(test_labels, test_predictions)\n",
    "recall = recall_score(test_labels, test_predictions)\n",
    "f1 = f1_score(test_labels, test_predictions)\n",
    "\n",
    "# Display results\n",
    "print(\"Logistic Regression with Word2Vec Embeddings - Performance Metrics\")\n",
    "print(f\"Accuracy: {accuracy:.4f}\")\n",
    "print(f\"Precision: {precision:.4f}\")\n",
    "print(f\"Recall: {recall:.4f}\")\n",
    "print(f\"F1-Score: {f1:.4f}\")"
   ]
  },
  {
   "cell_type": "code",
   "execution_count": null,
   "metadata": {},
   "outputs": [],
   "source": [
    "# Add Word2Vec + Logistic Regression results to the comparison table\n",
    "word2vec_results = {\n",
    "    \"N-gram\": \"Word2Vec Embedding + Logistic Regression\",\n",
    "    \"Accuracy\": accuracy,\n",
    "    \"Precision\": precision,\n",
    "    \"Recall\": recall,\n",
    "    \"F1-Score\": f1,\n",
    "}"
   ]
  },
  {
   "cell_type": "code",
   "execution_count": null,
   "metadata": {},
   "outputs": [],
   "source": [
    "# Append to existing results\n",
    "results_df = results_df.append(word2vec_results, ignore_index=True)\n",
    "\n",
    "# Display comparison table\n",
    "print(\"\\nComparison of Model Performance:\")\n",
    "print(results_df)"
   ]
  },
  {
   "cell_type": "markdown",
   "metadata": {},
   "source": [
    "## Conclusion"
   ]
  },
  {
   "cell_type": "code",
   "execution_count": null,
   "metadata": {},
   "outputs": [],
   "source": [
    "# Melt the DataFrame to make it suitable for Plotly\n",
    "results_melted = results_df.melt(\n",
    "    id_vars=\"N-gram\", var_name=\"Metric\", value_name=\"Score\"\n",
    ")"
   ]
  },
  {
   "cell_type": "code",
   "execution_count": null,
   "metadata": {},
   "outputs": [],
   "source": [
    "# Create a bar chart with Plotly\n",
    "fig = px.bar(\n",
    "    results_melted,\n",
    "    x=\"N-gram\",\n",
    "    y=\"Score\",\n",
    "    color=\"Metric\",\n",
    "    barmode=\"group\",\n",
    "    title=\"Comparison of Model Performance Metrics\",\n",
    "    labels={\"Score\": \"Performance Metric Score\", \"N-gram\": \"Model Type\"},\n",
    ")\n",
    "\n",
    "# Customize the layout for readability\n",
    "fig.update_layout(\n",
    "    xaxis_title=\"Model Type\",\n",
    "    yaxis_title=\"Score\",\n",
    "    legend_title=\"Metric\",\n",
    "    template=\"plotly_white\",\n",
    ")\n",
    "\n",
    "fig.show()"
   ]
  }
 ],
 "metadata": {
  "kernelspec": {
   "display_name": "jupyterold",
   "language": "python",
   "name": "python3"
  },
  "language_info": {
   "codemirror_mode": {
    "name": "ipython",
    "version": 3
   },
   "file_extension": ".py",
   "mimetype": "text/x-python",
   "name": "python",
   "nbconvert_exporter": "python",
   "pygments_lexer": "ipython3",
   "version": "3.11.10"
  }
 },
 "nbformat": 4,
 "nbformat_minor": 2
}
