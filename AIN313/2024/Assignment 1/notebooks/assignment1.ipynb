{
 "cells": [
  {
   "cell_type": "markdown",
   "metadata": {},
   "source": [
    "# Ahmet Emre Usta\n",
    "# 2200765036"
   ]
  },
  {
   "cell_type": "markdown",
   "metadata": {},
   "source": [
    "# Part 1"
   ]
  },
  {
   "cell_type": "markdown",
   "metadata": {},
   "source": [
    "## k-Nearest Neighbor Classification Section Answers"
   ]
  },
  {
   "cell_type": "markdown",
   "metadata": {},
   "source": [
    "**1.** The **high computational cost** of the k-Nearest Neighbor (k-NN) approach is a disadvantage when testing on a large dataset. \n",
    "\n",
    "**Reason:** In order to determine the k nearest neighbors, k-NN compares the test instance to every instance in the training set. The O(n) complexity for each query, where n is the size of the training data, causes testing to perform slowly with a large dataset. Additionally, because every query requires the complete dataset to be saved and referenced, memory consumption increases.\n"
   ]
  },
  {
   "cell_type": "markdown",
   "metadata": {},
   "source": [
    "**2.** The ideal k-value, based on the graphs, would be approximately **10**.\n",
    "\n",
    "Reason: The error in the test error graph reduces as k increases until it reaches its minimum at about k = 10. The test error begins to rise once more after k = 10, which suggests over-smoothing. As a result, k = 10 strikes a balance between preventing underfitting and overfitting and decreasing test error."
   ]
  },
  {
   "cell_type": "markdown",
   "metadata": {},
   "source": [
    "**3.**\n",
    "![1.3](image1.png)"
   ]
  },
  {
   "cell_type": "markdown",
   "metadata": {},
   "source": [
    "**4.** \n",
    "- F\n",
    "- T\n",
    "- T\n",
    "- F"
   ]
  },
  {
   "cell_type": "markdown",
   "metadata": {},
   "source": [
    "## Linear Regression Section Answers"
   ]
  },
  {
   "cell_type": "markdown",
   "metadata": {},
   "source": [
    "**1.**\n",
    "\n",
    "**Model equation:**\n",
    "\\( y = 1.5x + 1.0 \\)\n",
    "\n",
    "**Step 1: Predict the output for each data point using the model equation:**\n",
    "1. For \\( x = 1.0 \\):\n",
    "   \\( y_pred = 1.5(1.0) + 1.0 = 2.5 \\)\n",
    "   \n",
    "2. For \\( x = 1.5 \\):\n",
    "   \\( y_pred = 1.5(1.5) + 1.0 = 3.25 \\)\n",
    "   \n",
    "3. For \\( x = 3.0 \\):\n",
    "   \\( y_pred = 1.5(3.0) + 1.0 = 5.5 \\)\n",
    "\n",
    "**Step 2: Calculate the squared error for each data point:**\n",
    "1. \\( Squared Error = (1.5 - 2.5)^2 = (-1.0)^2 = 1.0 \\)\n",
    "   \n",
    "2. \\( Squared Error = (3.25 - 3.25)^2 = (0)^2 = 0.0 \\)\n",
    "   \n",
    "3. \\( Squared Error = (4.0 - 5.5)^2 = (-1.5)^2 = 2.25 \\)\n",
    "\n",
    "**Step 3: Compute the Mean Squared Error (MSE):**\n",
    "\n",
    "MSE = (1.0 + 0.0 + 2.25)/3 = (3.25)/3 = 1.083\n",
    "\n",
    "**Mean Squared Error (MSE)** is **1.083**."
   ]
  },
  {
   "cell_type": "markdown",
   "metadata": {},
   "source": [
    "**2.**\n",
    "\n",
    "- Line 2.\n",
    "- **Comparison of actual vs. predicted scores for students A, B, C, and D**:\n",
    "   - **Student A**: Their actual score is **below** the predicted score (since A lies below Line 2).\n",
    "   - **Student B**: Their actual score is **below** the predicted score (B is below Line 2, and even further below Line 1).\n",
    "   - **Student C**: Their actual score is **above** the predicted score (C is slightly above Line 2).\n",
    "   - **Student D**: Their actual score is **above** the predicted score (D is well above Line 2, close to Line 1).\n",
    "\n",
    "- Since the regression line is Line 2, and considering the overall trend between midterm and final scores, students tend to score higher on the midterm than on the final exam. Therefore, I would expect to see the final exam scores generally lower than the midterm scores. Or we can except around the mean final score which is approximatelly 75."
   ]
  },
  {
   "cell_type": "markdown",
   "metadata": {},
   "source": [
    "**3.** The least squares method of linear regression uses **vertical offsets**.\n",
    "\n",
    "The goal of least squares linear regression is to reduce the vertical error (difference) between the actual data points and the regression line's predicted values. The difference between the predicted values (from the regression model) and the observed dependent variable (y-values) is shown by these vertical offsets."
   ]
  },
  {
   "cell_type": "markdown",
   "metadata": {},
   "source": [
    "**4.**\n",
    "![2.4](image2.png)"
   ]
  },
  {
   "cell_type": "markdown",
   "metadata": {},
   "source": [
    "**5.**\n",
    "   \n",
    "- **Balanced influence**: Without scaling, features with larger values dominate, leading to biased predictions. Scaling keeps them balanced.\n",
    "\n",
    "- **Better coefficient interpretation**: Scaled features make the model’s weights more meaningful and easier to interpret.\n",
    "\n",
    "- **Avoids numerical issues**: Large or small feature values can cause calculation errors. Scaling prevents this.\n",
    "\n",
    "- **Effective regularization**: Scaling ensures that regularization impacts all features equally, improving model performance."
   ]
  },
  {
   "cell_type": "markdown",
   "metadata": {},
   "source": [
    "# Part 2"
   ]
  },
  {
   "cell_type": "markdown",
   "metadata": {},
   "source": [
    "## Install Necessary Libaries"
   ]
  },
  {
   "cell_type": "code",
   "execution_count": 1,
   "metadata": {},
   "outputs": [],
   "source": [
    "!pip install pandas numpy scikit-learn plotly statsmodels >> /dev/null"
   ]
  },
  {
   "cell_type": "markdown",
   "metadata": {},
   "source": [
    "## Import Libaries"
   ]
  },
  {
   "cell_type": "code",
   "execution_count": 2,
   "metadata": {},
   "outputs": [],
   "source": [
    "import os\n",
    "import numpy as np\n",
    "import pandas as pd\n",
    "import plotly.express as px\n",
    "import plotly.graph_objects as go\n",
    "from sklearn.model_selection import train_test_split\n",
    "from collections import Counter\n",
    "\n",
    "# close warnings\n",
    "import warnings\n",
    "\n",
    "warnings.filterwarnings(\"ignore\")"
   ]
  },
  {
   "cell_type": "markdown",
   "metadata": {},
   "source": [
    "## Set the Paths and Read the Dataset"
   ]
  },
  {
   "cell_type": "code",
   "execution_count": 3,
   "metadata": {},
   "outputs": [],
   "source": [
    "DATASET_PATH = \"/Users/emre/GitHub/HU-AI/AIN313/2024/Assignment 1/dataset/\"\n",
    "PROCESSED_DATASET_PATH = os.path.join(DATASET_PATH, \"processed\")\n",
    "RAW_DATASET_FILE = os.path.join(\n",
    "    DATASET_PATH, \"raw\", \"telecommunicaton_classification.csv\"\n",
    ")"
   ]
  },
  {
   "cell_type": "code",
   "execution_count": 4,
   "metadata": {},
   "outputs": [
    {
     "data": {
      "text/html": [
       "<div>\n",
       "<style scoped>\n",
       "    .dataframe tbody tr th:only-of-type {\n",
       "        vertical-align: middle;\n",
       "    }\n",
       "\n",
       "    .dataframe tbody tr th {\n",
       "        vertical-align: top;\n",
       "    }\n",
       "\n",
       "    .dataframe thead th {\n",
       "        text-align: right;\n",
       "    }\n",
       "</style>\n",
       "<table border=\"1\" class=\"dataframe\">\n",
       "  <thead>\n",
       "    <tr style=\"text-align: right;\">\n",
       "      <th></th>\n",
       "      <th>district</th>\n",
       "      <th>customer_since</th>\n",
       "      <th>age</th>\n",
       "      <th>is_married</th>\n",
       "      <th>address</th>\n",
       "      <th>salary</th>\n",
       "      <th>ed</th>\n",
       "      <th>employment_status</th>\n",
       "      <th>is_retired</th>\n",
       "      <th>gender</th>\n",
       "      <th>reside</th>\n",
       "      <th>service</th>\n",
       "    </tr>\n",
       "  </thead>\n",
       "  <tbody>\n",
       "    <tr>\n",
       "      <th>0</th>\n",
       "      <td>2</td>\n",
       "      <td>13</td>\n",
       "      <td>44</td>\n",
       "      <td>Yes</td>\n",
       "      <td>9</td>\n",
       "      <td>64.0</td>\n",
       "      <td>4</td>\n",
       "      <td>5</td>\n",
       "      <td>No</td>\n",
       "      <td>F</td>\n",
       "      <td>2</td>\n",
       "      <td>Fundamental Service</td>\n",
       "    </tr>\n",
       "    <tr>\n",
       "      <th>1</th>\n",
       "      <td>3</td>\n",
       "      <td>11</td>\n",
       "      <td>33</td>\n",
       "      <td>Yes</td>\n",
       "      <td>7</td>\n",
       "      <td>136.0</td>\n",
       "      <td>5</td>\n",
       "      <td>5</td>\n",
       "      <td>No</td>\n",
       "      <td>F</td>\n",
       "      <td>6</td>\n",
       "      <td>Complete Service</td>\n",
       "    </tr>\n",
       "    <tr>\n",
       "      <th>2</th>\n",
       "      <td>3</td>\n",
       "      <td>68</td>\n",
       "      <td>52</td>\n",
       "      <td>Yes</td>\n",
       "      <td>24</td>\n",
       "      <td>116.0</td>\n",
       "      <td>1</td>\n",
       "      <td>29</td>\n",
       "      <td>No</td>\n",
       "      <td>M</td>\n",
       "      <td>2</td>\n",
       "      <td>Advanced Service</td>\n",
       "    </tr>\n",
       "    <tr>\n",
       "      <th>3</th>\n",
       "      <td>2</td>\n",
       "      <td>33</td>\n",
       "      <td>33</td>\n",
       "      <td>No</td>\n",
       "      <td>12</td>\n",
       "      <td>33.0</td>\n",
       "      <td>2</td>\n",
       "      <td>0</td>\n",
       "      <td>No</td>\n",
       "      <td>M</td>\n",
       "      <td>1</td>\n",
       "      <td>Fundamental Service</td>\n",
       "    </tr>\n",
       "    <tr>\n",
       "      <th>4</th>\n",
       "      <td>2</td>\n",
       "      <td>23</td>\n",
       "      <td>30</td>\n",
       "      <td>Yes</td>\n",
       "      <td>9</td>\n",
       "      <td>30.0</td>\n",
       "      <td>1</td>\n",
       "      <td>2</td>\n",
       "      <td>No</td>\n",
       "      <td>F</td>\n",
       "      <td>4</td>\n",
       "      <td>Advanced Service</td>\n",
       "    </tr>\n",
       "  </tbody>\n",
       "</table>\n",
       "</div>"
      ],
      "text/plain": [
       "   district  customer_since  age is_married  address  salary  ed  \\\n",
       "0         2              13   44        Yes        9    64.0   4   \n",
       "1         3              11   33        Yes        7   136.0   5   \n",
       "2         3              68   52        Yes       24   116.0   1   \n",
       "3         2              33   33         No       12    33.0   2   \n",
       "4         2              23   30        Yes        9    30.0   1   \n",
       "\n",
       "   employment_status is_retired gender  reside              service  \n",
       "0                  5         No      F       2  Fundamental Service  \n",
       "1                  5         No      F       6     Complete Service  \n",
       "2                 29         No      M       2     Advanced Service  \n",
       "3                  0         No      M       1  Fundamental Service  \n",
       "4                  2         No      F       4     Advanced Service  "
      ]
     },
     "execution_count": 4,
     "metadata": {},
     "output_type": "execute_result"
    }
   ],
   "source": [
    "# read the dataset\n",
    "df = pd.read_csv(RAW_DATASET_FILE)\n",
    "df.head()"
   ]
  },
  {
   "cell_type": "code",
   "execution_count": 5,
   "metadata": {},
   "outputs": [
    {
     "name": "stdout",
     "output_type": "stream",
     "text": [
      "<class 'pandas.core.frame.DataFrame'>\n",
      "RangeIndex: 1000 entries, 0 to 999\n",
      "Data columns (total 12 columns):\n",
      " #   Column             Non-Null Count  Dtype  \n",
      "---  ------             --------------  -----  \n",
      " 0   district           1000 non-null   int64  \n",
      " 1   customer_since     1000 non-null   int64  \n",
      " 2   age                1000 non-null   int64  \n",
      " 3   is_married         1000 non-null   object \n",
      " 4   address            1000 non-null   int64  \n",
      " 5   salary             1000 non-null   float64\n",
      " 6   ed                 1000 non-null   int64  \n",
      " 7   employment_status  1000 non-null   int64  \n",
      " 8   is_retired         1000 non-null   object \n",
      " 9   gender             1000 non-null   object \n",
      " 10  reside             1000 non-null   int64  \n",
      " 11  service            1000 non-null   object \n",
      "dtypes: float64(1), int64(7), object(4)\n",
      "memory usage: 93.9+ KB\n"
     ]
    }
   ],
   "source": [
    "# show the dataset info\n",
    "df.info()"
   ]
  },
  {
   "cell_type": "markdown",
   "metadata": {},
   "source": [
    "## Explotary Data Analysis"
   ]
  },
  {
   "cell_type": "code",
   "execution_count": 6,
   "metadata": {},
   "outputs": [
    {
     "data": {
      "application/vnd.plotly.v1+json": {
       "config": {
        "plotlyServerURL": "https://plot.ly"
       },
       "data": [
        {
         "alignmentgroup": "True",
         "bingroup": "x",
         "hovertemplate": "district=%{x}<br>count=%{y}<extra></extra>",
         "legendgroup": "",
         "marker": {
          "color": "#636efa",
          "pattern": {
           "shape": ""
          }
         },
         "name": "",
         "offsetgroup": "",
         "orientation": "v",
         "showlegend": false,
         "texttemplate": "%{value}",
         "type": "histogram",
         "x": [
          2,
          3,
          3,
          2,
          2,
          2,
          3,
          2,
          3,
          1,
          2,
          3,
          1,
          2,
          2,
          1,
          3,
          3,
          2,
          1,
          3,
          1,
          3,
          3,
          3,
          2,
          2,
          3,
          1,
          2,
          1,
          1,
          1,
          1,
          2,
          3,
          2,
          1,
          1,
          2,
          3,
          2,
          2,
          1,
          1,
          1,
          1,
          3,
          3,
          1,
          2,
          1,
          3,
          1,
          1,
          2,
          3,
          1,
          2,
          2,
          2,
          2,
          3,
          2,
          2,
          3,
          3,
          1,
          1,
          3,
          1,
          3,
          1,
          2,
          2,
          1,
          1,
          2,
          1,
          1,
          3,
          2,
          3,
          2,
          2,
          2,
          1,
          2,
          2,
          1,
          3,
          2,
          3,
          3,
          3,
          2,
          1,
          3,
          2,
          3,
          1,
          3,
          2,
          1,
          2,
          2,
          1,
          3,
          1,
          2,
          3,
          2,
          2,
          2,
          1,
          1,
          3,
          1,
          1,
          3,
          2,
          3,
          3,
          1,
          3,
          2,
          3,
          2,
          3,
          2,
          1,
          2,
          1,
          1,
          2,
          3,
          2,
          2,
          3,
          3,
          1,
          1,
          1,
          2,
          1,
          3,
          2,
          3,
          3,
          1,
          2,
          1,
          3,
          3,
          3,
          1,
          2,
          2,
          1,
          3,
          3,
          2,
          2,
          3,
          1,
          1,
          3,
          3,
          3,
          1,
          2,
          1,
          2,
          2,
          3,
          3,
          1,
          3,
          3,
          1,
          2,
          2,
          3,
          2,
          3,
          3,
          3,
          1,
          3,
          1,
          2,
          3,
          1,
          1,
          3,
          1,
          2,
          2,
          3,
          3,
          1,
          1,
          1,
          2,
          1,
          2,
          1,
          1,
          3,
          3,
          3,
          1,
          3,
          2,
          2,
          2,
          2,
          3,
          2,
          3,
          1,
          3,
          3,
          3,
          2,
          1,
          2,
          2,
          3,
          2,
          1,
          1,
          1,
          2,
          1,
          2,
          2,
          2,
          3,
          3,
          3,
          2,
          3,
          3,
          3,
          3,
          2,
          1,
          3,
          2,
          1,
          2,
          1,
          1,
          3,
          2,
          2,
          3,
          2,
          3,
          1,
          2,
          2,
          3,
          2,
          3,
          1,
          2,
          1,
          2,
          2,
          1,
          1,
          2,
          3,
          2,
          1,
          1,
          2,
          3,
          1,
          2,
          1,
          1,
          1,
          2,
          1,
          1,
          2,
          2,
          3,
          1,
          1,
          1,
          2,
          2,
          2,
          3,
          1,
          2,
          3,
          1,
          1,
          3,
          2,
          1,
          1,
          2,
          3,
          2,
          3,
          1,
          1,
          1,
          2,
          2,
          1,
          2,
          3,
          1,
          3,
          1,
          3,
          1,
          3,
          1,
          3,
          1,
          2,
          3,
          3,
          3,
          3,
          1,
          2,
          1,
          1,
          2,
          2,
          1,
          1,
          3,
          2,
          3,
          2,
          1,
          2,
          2,
          3,
          2,
          3,
          2,
          3,
          3,
          2,
          2,
          3,
          1,
          1,
          3,
          3,
          2,
          3,
          1,
          1,
          3,
          1,
          3,
          3,
          1,
          1,
          3,
          2,
          2,
          2,
          3,
          2,
          1,
          2,
          2,
          3,
          1,
          2,
          1,
          1,
          2,
          2,
          3,
          3,
          3,
          2,
          2,
          1,
          3,
          3,
          2,
          2,
          2,
          1,
          3,
          1,
          1,
          2,
          3,
          3,
          3,
          3,
          3,
          3,
          2,
          2,
          3,
          2,
          1,
          2,
          3,
          3,
          1,
          3,
          2,
          3,
          1,
          3,
          2,
          1,
          1,
          1,
          2,
          1,
          1,
          2,
          2,
          2,
          1,
          2,
          3,
          1,
          1,
          2,
          3,
          3,
          3,
          3,
          2,
          3,
          1,
          2,
          1,
          2,
          1,
          1,
          1,
          2,
          3,
          1,
          2,
          1,
          3,
          2,
          2,
          3,
          1,
          3,
          3,
          1,
          1,
          3,
          1,
          1,
          1,
          3,
          1,
          1,
          1,
          1,
          2,
          3,
          2,
          2,
          3,
          1,
          3,
          2,
          1,
          2,
          1,
          2,
          2,
          1,
          1,
          3,
          1,
          3,
          2,
          2,
          2,
          3,
          3,
          2,
          1,
          2,
          3,
          2,
          2,
          1,
          2,
          1,
          2,
          1,
          1,
          1,
          2,
          3,
          1,
          2,
          2,
          2,
          1,
          1,
          1,
          1,
          1,
          3,
          1,
          1,
          3,
          3,
          3,
          2,
          3,
          3,
          1,
          2,
          1,
          1,
          3,
          2,
          3,
          3,
          1,
          2,
          3,
          2,
          3,
          2,
          2,
          2,
          3,
          1,
          3,
          3,
          2,
          2,
          2,
          1,
          2,
          1,
          1,
          2,
          2,
          1,
          3,
          1,
          3,
          3,
          3,
          3,
          3,
          1,
          3,
          3,
          1,
          3,
          1,
          1,
          2,
          2,
          1,
          1,
          1,
          2,
          1,
          2,
          1,
          3,
          3,
          1,
          2,
          2,
          1,
          3,
          1,
          2,
          1,
          2,
          3,
          2,
          1,
          2,
          2,
          3,
          3,
          2,
          1,
          2,
          2,
          1,
          1,
          1,
          1,
          3,
          2,
          2,
          3,
          3,
          3,
          3,
          3,
          2,
          1,
          3,
          1,
          2,
          1,
          3,
          2,
          2,
          2,
          3,
          2,
          3,
          1,
          2,
          2,
          2,
          2,
          1,
          1,
          2,
          2,
          2,
          1,
          2,
          3,
          1,
          2,
          3,
          1,
          3,
          3,
          2,
          3,
          2,
          3,
          3,
          3,
          3,
          1,
          3,
          3,
          2,
          3,
          1,
          3,
          1,
          3,
          1,
          1,
          2,
          2,
          3,
          3,
          1,
          3,
          1,
          3,
          1,
          1,
          1,
          3,
          1,
          1,
          2,
          3,
          3,
          3,
          3,
          2,
          3,
          2,
          1,
          2,
          3,
          1,
          1,
          1,
          2,
          2,
          1,
          1,
          1,
          2,
          1,
          1,
          2,
          3,
          2,
          2,
          2,
          2,
          3,
          2,
          1,
          1,
          2,
          1,
          1,
          1,
          1,
          2,
          3,
          1,
          1,
          3,
          3,
          1,
          3,
          1,
          1,
          2,
          2,
          1,
          1,
          3,
          2,
          1,
          3,
          1,
          3,
          3,
          3,
          3,
          3,
          1,
          3,
          3,
          3,
          3,
          2,
          1,
          1,
          3,
          3,
          3,
          2,
          3,
          2,
          1,
          2,
          3,
          3,
          1,
          3,
          1,
          3,
          2,
          3,
          2,
          1,
          2,
          1,
          1,
          2,
          3,
          3,
          3,
          1,
          2,
          1,
          2,
          2,
          1,
          1,
          3,
          3,
          3,
          1,
          2,
          3,
          3,
          1,
          2,
          1,
          2,
          3,
          1,
          2,
          2,
          2,
          1,
          3,
          2,
          2,
          1,
          3,
          3,
          1,
          2,
          3,
          2,
          3,
          3,
          2,
          3,
          3,
          3,
          1,
          3,
          3,
          3,
          2,
          2,
          1,
          2,
          3,
          2,
          2,
          2,
          3,
          1,
          1,
          2,
          1,
          1,
          3,
          2,
          1,
          2,
          2,
          3,
          2,
          2,
          2,
          3,
          3,
          2,
          2,
          1,
          3,
          3,
          1,
          3,
          1,
          2,
          3,
          1,
          1,
          3,
          3,
          3,
          3,
          2,
          3,
          3,
          3,
          3,
          2,
          3,
          2,
          3,
          1,
          3,
          2,
          3,
          3,
          3,
          1,
          1,
          1,
          3,
          1,
          1,
          2,
          2,
          2,
          2,
          2,
          2,
          2,
          3,
          1,
          3,
          2,
          3,
          1,
          2,
          2,
          1,
          2,
          2,
          3,
          3,
          1,
          2,
          2,
          2,
          2,
          1,
          3,
          2,
          3,
          3,
          2,
          2,
          2,
          1,
          1,
          3,
          1,
          1,
          3,
          3,
          3,
          2,
          2,
          1,
          2,
          3,
          2,
          3,
          2,
          2,
          2,
          2,
          1,
          1,
          3,
          1,
          2,
          3,
          1,
          2,
          2,
          2,
          1,
          1,
          1,
          3,
          1,
          2,
          3,
          3,
          1,
          3,
          2,
          3,
          3,
          3,
          2,
          3,
          3,
          2,
          3,
          1,
          3,
          3,
          1,
          1,
          3,
          2,
          3,
          2,
          1,
          3,
          3,
          2,
          1,
          3,
          3,
          2,
          2,
          3,
          2,
          3,
          3,
          3,
          2,
          1,
          1,
          1,
          1,
          2,
          1,
          3,
          1,
          3,
          1,
          3,
          3,
          3
         ],
         "xaxis": "x",
         "yaxis": "y"
        }
       ],
       "layout": {
        "barmode": "relative",
        "legend": {
         "tracegroupgap": 0
        },
        "template": {
         "data": {
          "bar": [
           {
            "error_x": {
             "color": "#2a3f5f"
            },
            "error_y": {
             "color": "#2a3f5f"
            },
            "marker": {
             "line": {
              "color": "#E5ECF6",
              "width": 0.5
             },
             "pattern": {
              "fillmode": "overlay",
              "size": 10,
              "solidity": 0.2
             }
            },
            "type": "bar"
           }
          ],
          "barpolar": [
           {
            "marker": {
             "line": {
              "color": "#E5ECF6",
              "width": 0.5
             },
             "pattern": {
              "fillmode": "overlay",
              "size": 10,
              "solidity": 0.2
             }
            },
            "type": "barpolar"
           }
          ],
          "carpet": [
           {
            "aaxis": {
             "endlinecolor": "#2a3f5f",
             "gridcolor": "white",
             "linecolor": "white",
             "minorgridcolor": "white",
             "startlinecolor": "#2a3f5f"
            },
            "baxis": {
             "endlinecolor": "#2a3f5f",
             "gridcolor": "white",
             "linecolor": "white",
             "minorgridcolor": "white",
             "startlinecolor": "#2a3f5f"
            },
            "type": "carpet"
           }
          ],
          "choropleth": [
           {
            "colorbar": {
             "outlinewidth": 0,
             "ticks": ""
            },
            "type": "choropleth"
           }
          ],
          "contour": [
           {
            "colorbar": {
             "outlinewidth": 0,
             "ticks": ""
            },
            "colorscale": [
             [
              0,
              "#0d0887"
             ],
             [
              0.1111111111111111,
              "#46039f"
             ],
             [
              0.2222222222222222,
              "#7201a8"
             ],
             [
              0.3333333333333333,
              "#9c179e"
             ],
             [
              0.4444444444444444,
              "#bd3786"
             ],
             [
              0.5555555555555556,
              "#d8576b"
             ],
             [
              0.6666666666666666,
              "#ed7953"
             ],
             [
              0.7777777777777778,
              "#fb9f3a"
             ],
             [
              0.8888888888888888,
              "#fdca26"
             ],
             [
              1,
              "#f0f921"
             ]
            ],
            "type": "contour"
           }
          ],
          "contourcarpet": [
           {
            "colorbar": {
             "outlinewidth": 0,
             "ticks": ""
            },
            "type": "contourcarpet"
           }
          ],
          "heatmap": [
           {
            "colorbar": {
             "outlinewidth": 0,
             "ticks": ""
            },
            "colorscale": [
             [
              0,
              "#0d0887"
             ],
             [
              0.1111111111111111,
              "#46039f"
             ],
             [
              0.2222222222222222,
              "#7201a8"
             ],
             [
              0.3333333333333333,
              "#9c179e"
             ],
             [
              0.4444444444444444,
              "#bd3786"
             ],
             [
              0.5555555555555556,
              "#d8576b"
             ],
             [
              0.6666666666666666,
              "#ed7953"
             ],
             [
              0.7777777777777778,
              "#fb9f3a"
             ],
             [
              0.8888888888888888,
              "#fdca26"
             ],
             [
              1,
              "#f0f921"
             ]
            ],
            "type": "heatmap"
           }
          ],
          "heatmapgl": [
           {
            "colorbar": {
             "outlinewidth": 0,
             "ticks": ""
            },
            "colorscale": [
             [
              0,
              "#0d0887"
             ],
             [
              0.1111111111111111,
              "#46039f"
             ],
             [
              0.2222222222222222,
              "#7201a8"
             ],
             [
              0.3333333333333333,
              "#9c179e"
             ],
             [
              0.4444444444444444,
              "#bd3786"
             ],
             [
              0.5555555555555556,
              "#d8576b"
             ],
             [
              0.6666666666666666,
              "#ed7953"
             ],
             [
              0.7777777777777778,
              "#fb9f3a"
             ],
             [
              0.8888888888888888,
              "#fdca26"
             ],
             [
              1,
              "#f0f921"
             ]
            ],
            "type": "heatmapgl"
           }
          ],
          "histogram": [
           {
            "marker": {
             "pattern": {
              "fillmode": "overlay",
              "size": 10,
              "solidity": 0.2
             }
            },
            "type": "histogram"
           }
          ],
          "histogram2d": [
           {
            "colorbar": {
             "outlinewidth": 0,
             "ticks": ""
            },
            "colorscale": [
             [
              0,
              "#0d0887"
             ],
             [
              0.1111111111111111,
              "#46039f"
             ],
             [
              0.2222222222222222,
              "#7201a8"
             ],
             [
              0.3333333333333333,
              "#9c179e"
             ],
             [
              0.4444444444444444,
              "#bd3786"
             ],
             [
              0.5555555555555556,
              "#d8576b"
             ],
             [
              0.6666666666666666,
              "#ed7953"
             ],
             [
              0.7777777777777778,
              "#fb9f3a"
             ],
             [
              0.8888888888888888,
              "#fdca26"
             ],
             [
              1,
              "#f0f921"
             ]
            ],
            "type": "histogram2d"
           }
          ],
          "histogram2dcontour": [
           {
            "colorbar": {
             "outlinewidth": 0,
             "ticks": ""
            },
            "colorscale": [
             [
              0,
              "#0d0887"
             ],
             [
              0.1111111111111111,
              "#46039f"
             ],
             [
              0.2222222222222222,
              "#7201a8"
             ],
             [
              0.3333333333333333,
              "#9c179e"
             ],
             [
              0.4444444444444444,
              "#bd3786"
             ],
             [
              0.5555555555555556,
              "#d8576b"
             ],
             [
              0.6666666666666666,
              "#ed7953"
             ],
             [
              0.7777777777777778,
              "#fb9f3a"
             ],
             [
              0.8888888888888888,
              "#fdca26"
             ],
             [
              1,
              "#f0f921"
             ]
            ],
            "type": "histogram2dcontour"
           }
          ],
          "mesh3d": [
           {
            "colorbar": {
             "outlinewidth": 0,
             "ticks": ""
            },
            "type": "mesh3d"
           }
          ],
          "parcoords": [
           {
            "line": {
             "colorbar": {
              "outlinewidth": 0,
              "ticks": ""
             }
            },
            "type": "parcoords"
           }
          ],
          "pie": [
           {
            "automargin": true,
            "type": "pie"
           }
          ],
          "scatter": [
           {
            "fillpattern": {
             "fillmode": "overlay",
             "size": 10,
             "solidity": 0.2
            },
            "type": "scatter"
           }
          ],
          "scatter3d": [
           {
            "line": {
             "colorbar": {
              "outlinewidth": 0,
              "ticks": ""
             }
            },
            "marker": {
             "colorbar": {
              "outlinewidth": 0,
              "ticks": ""
             }
            },
            "type": "scatter3d"
           }
          ],
          "scattercarpet": [
           {
            "marker": {
             "colorbar": {
              "outlinewidth": 0,
              "ticks": ""
             }
            },
            "type": "scattercarpet"
           }
          ],
          "scattergeo": [
           {
            "marker": {
             "colorbar": {
              "outlinewidth": 0,
              "ticks": ""
             }
            },
            "type": "scattergeo"
           }
          ],
          "scattergl": [
           {
            "marker": {
             "colorbar": {
              "outlinewidth": 0,
              "ticks": ""
             }
            },
            "type": "scattergl"
           }
          ],
          "scattermapbox": [
           {
            "marker": {
             "colorbar": {
              "outlinewidth": 0,
              "ticks": ""
             }
            },
            "type": "scattermapbox"
           }
          ],
          "scatterpolar": [
           {
            "marker": {
             "colorbar": {
              "outlinewidth": 0,
              "ticks": ""
             }
            },
            "type": "scatterpolar"
           }
          ],
          "scatterpolargl": [
           {
            "marker": {
             "colorbar": {
              "outlinewidth": 0,
              "ticks": ""
             }
            },
            "type": "scatterpolargl"
           }
          ],
          "scatterternary": [
           {
            "marker": {
             "colorbar": {
              "outlinewidth": 0,
              "ticks": ""
             }
            },
            "type": "scatterternary"
           }
          ],
          "surface": [
           {
            "colorbar": {
             "outlinewidth": 0,
             "ticks": ""
            },
            "colorscale": [
             [
              0,
              "#0d0887"
             ],
             [
              0.1111111111111111,
              "#46039f"
             ],
             [
              0.2222222222222222,
              "#7201a8"
             ],
             [
              0.3333333333333333,
              "#9c179e"
             ],
             [
              0.4444444444444444,
              "#bd3786"
             ],
             [
              0.5555555555555556,
              "#d8576b"
             ],
             [
              0.6666666666666666,
              "#ed7953"
             ],
             [
              0.7777777777777778,
              "#fb9f3a"
             ],
             [
              0.8888888888888888,
              "#fdca26"
             ],
             [
              1,
              "#f0f921"
             ]
            ],
            "type": "surface"
           }
          ],
          "table": [
           {
            "cells": {
             "fill": {
              "color": "#EBF0F8"
             },
             "line": {
              "color": "white"
             }
            },
            "header": {
             "fill": {
              "color": "#C8D4E3"
             },
             "line": {
              "color": "white"
             }
            },
            "type": "table"
           }
          ]
         },
         "layout": {
          "annotationdefaults": {
           "arrowcolor": "#2a3f5f",
           "arrowhead": 0,
           "arrowwidth": 1
          },
          "autotypenumbers": "strict",
          "coloraxis": {
           "colorbar": {
            "outlinewidth": 0,
            "ticks": ""
           }
          },
          "colorscale": {
           "diverging": [
            [
             0,
             "#8e0152"
            ],
            [
             0.1,
             "#c51b7d"
            ],
            [
             0.2,
             "#de77ae"
            ],
            [
             0.3,
             "#f1b6da"
            ],
            [
             0.4,
             "#fde0ef"
            ],
            [
             0.5,
             "#f7f7f7"
            ],
            [
             0.6,
             "#e6f5d0"
            ],
            [
             0.7,
             "#b8e186"
            ],
            [
             0.8,
             "#7fbc41"
            ],
            [
             0.9,
             "#4d9221"
            ],
            [
             1,
             "#276419"
            ]
           ],
           "sequential": [
            [
             0,
             "#0d0887"
            ],
            [
             0.1111111111111111,
             "#46039f"
            ],
            [
             0.2222222222222222,
             "#7201a8"
            ],
            [
             0.3333333333333333,
             "#9c179e"
            ],
            [
             0.4444444444444444,
             "#bd3786"
            ],
            [
             0.5555555555555556,
             "#d8576b"
            ],
            [
             0.6666666666666666,
             "#ed7953"
            ],
            [
             0.7777777777777778,
             "#fb9f3a"
            ],
            [
             0.8888888888888888,
             "#fdca26"
            ],
            [
             1,
             "#f0f921"
            ]
           ],
           "sequentialminus": [
            [
             0,
             "#0d0887"
            ],
            [
             0.1111111111111111,
             "#46039f"
            ],
            [
             0.2222222222222222,
             "#7201a8"
            ],
            [
             0.3333333333333333,
             "#9c179e"
            ],
            [
             0.4444444444444444,
             "#bd3786"
            ],
            [
             0.5555555555555556,
             "#d8576b"
            ],
            [
             0.6666666666666666,
             "#ed7953"
            ],
            [
             0.7777777777777778,
             "#fb9f3a"
            ],
            [
             0.8888888888888888,
             "#fdca26"
            ],
            [
             1,
             "#f0f921"
            ]
           ]
          },
          "colorway": [
           "#636efa",
           "#EF553B",
           "#00cc96",
           "#ab63fa",
           "#FFA15A",
           "#19d3f3",
           "#FF6692",
           "#B6E880",
           "#FF97FF",
           "#FECB52"
          ],
          "font": {
           "color": "#2a3f5f"
          },
          "geo": {
           "bgcolor": "white",
           "lakecolor": "white",
           "landcolor": "#E5ECF6",
           "showlakes": true,
           "showland": true,
           "subunitcolor": "white"
          },
          "hoverlabel": {
           "align": "left"
          },
          "hovermode": "closest",
          "mapbox": {
           "style": "light"
          },
          "paper_bgcolor": "white",
          "plot_bgcolor": "#E5ECF6",
          "polar": {
           "angularaxis": {
            "gridcolor": "white",
            "linecolor": "white",
            "ticks": ""
           },
           "bgcolor": "#E5ECF6",
           "radialaxis": {
            "gridcolor": "white",
            "linecolor": "white",
            "ticks": ""
           }
          },
          "scene": {
           "xaxis": {
            "backgroundcolor": "#E5ECF6",
            "gridcolor": "white",
            "gridwidth": 2,
            "linecolor": "white",
            "showbackground": true,
            "ticks": "",
            "zerolinecolor": "white"
           },
           "yaxis": {
            "backgroundcolor": "#E5ECF6",
            "gridcolor": "white",
            "gridwidth": 2,
            "linecolor": "white",
            "showbackground": true,
            "ticks": "",
            "zerolinecolor": "white"
           },
           "zaxis": {
            "backgroundcolor": "#E5ECF6",
            "gridcolor": "white",
            "gridwidth": 2,
            "linecolor": "white",
            "showbackground": true,
            "ticks": "",
            "zerolinecolor": "white"
           }
          },
          "shapedefaults": {
           "line": {
            "color": "#2a3f5f"
           }
          },
          "ternary": {
           "aaxis": {
            "gridcolor": "white",
            "linecolor": "white",
            "ticks": ""
           },
           "baxis": {
            "gridcolor": "white",
            "linecolor": "white",
            "ticks": ""
           },
           "bgcolor": "#E5ECF6",
           "caxis": {
            "gridcolor": "white",
            "linecolor": "white",
            "ticks": ""
           }
          },
          "title": {
           "x": 0.05
          },
          "xaxis": {
           "automargin": true,
           "gridcolor": "white",
           "linecolor": "white",
           "ticks": "",
           "title": {
            "standoff": 15
           },
           "zerolinecolor": "white",
           "zerolinewidth": 2
          },
          "yaxis": {
           "automargin": true,
           "gridcolor": "white",
           "linecolor": "white",
           "ticks": "",
           "title": {
            "standoff": 15
           },
           "zerolinecolor": "white",
           "zerolinewidth": 2
          }
         }
        },
        "title": {
         "text": "District Distribution",
         "x": 0.5,
         "xanchor": "center",
         "y": 0.9,
         "yanchor": "top"
        },
        "xaxis": {
         "anchor": "y",
         "domain": [
          0,
          1
         ],
         "showgrid": false,
         "showticklabels": true,
         "tickmode": "array",
         "title": {
          "text": "District"
         },
         "zeroline": false
        },
        "yaxis": {
         "anchor": "x",
         "domain": [
          0,
          1
         ],
         "title": {
          "text": "Count"
         }
        }
       }
      }
     },
     "metadata": {},
     "output_type": "display_data"
    }
   ],
   "source": [
    "# Create a histogram to show the distribution of the 'district' column\n",
    "district_distribution_fig = px.histogram(\n",
    "    df,\n",
    "    x=\"district\",\n",
    "    title=\"District Distribution\",\n",
    "    text_auto=True,  # Add text labels to show the count over each bar\n",
    ")\n",
    "\n",
    "# Customize the layout for better readability\n",
    "district_distribution_fig.update_layout(\n",
    "    xaxis_title=\"District\",\n",
    "    yaxis_title=\"Count\",\n",
    "    title={\n",
    "        \"text\": \"District Distribution\",\n",
    "        \"y\": 0.9,\n",
    "        \"x\": 0.5,\n",
    "        \"xanchor\": \"center\",\n",
    "        \"yanchor\": \"top\",\n",
    "    },\n",
    "    xaxis=dict(\n",
    "        tickmode=\"array\",  # Show only labels without ticks\n",
    "        showticklabels=True,\n",
    "        showgrid=False,\n",
    "        zeroline=False,\n",
    "    ),\n",
    ")\n",
    "\n",
    "# Display the histogram\n",
    "district_distribution_fig.show()"
   ]
  },
  {
   "cell_type": "markdown",
   "metadata": {},
   "source": [
    "Almost equal which is good for the KNN"
   ]
  },
  {
   "cell_type": "code",
   "execution_count": 7,
   "metadata": {},
   "outputs": [
    {
     "data": {
      "application/vnd.plotly.v1+json": {
       "config": {
        "plotlyServerURL": "https://plot.ly"
       },
       "data": [
        {
         "alignmentgroup": "True",
         "bingroup": "x",
         "hovertemplate": "Age: %{x}<br>Count: %{y}<extra></extra>",
         "legendgroup": "",
         "marker": {
          "color": "#636efa",
          "pattern": {
           "shape": ""
          }
         },
         "name": "",
         "nbinsx": 30,
         "offsetgroup": "",
         "orientation": "v",
         "showlegend": false,
         "texttemplate": "%{value}",
         "type": "histogram",
         "x": [
          44,
          33,
          52,
          33,
          30,
          39,
          22,
          35,
          59,
          41,
          33,
          35,
          38,
          54,
          46,
          38,
          57,
          48,
          24,
          29,
          30,
          52,
          33,
          48,
          43,
          21,
          40,
          33,
          21,
          33,
          37,
          53,
          50,
          27,
          46,
          35,
          60,
          57,
          41,
          57,
          41,
          28,
          28,
          36,
          43,
          41,
          51,
          41,
          34,
          36,
          34,
          52,
          22,
          26,
          27,
          45,
          34,
          62,
          52,
          40,
          39,
          50,
          55,
          51,
          39,
          47,
          51,
          67,
          27,
          43,
          57,
          39,
          42,
          43,
          48,
          46,
          38,
          71,
          68,
          42,
          34,
          31,
          48,
          53,
          52,
          27,
          26,
          54,
          35,
          47,
          51,
          42,
          61,
          33,
          20,
          33,
          53,
          36,
          25,
          58,
          20,
          25,
          24,
          32,
          47,
          35,
          61,
          39,
          54,
          40,
          50,
          22,
          37,
          22,
          42,
          34,
          31,
          29,
          55,
          31,
          48,
          41,
          47,
          42,
          29,
          36,
          23,
          31,
          22,
          64,
          52,
          35,
          47,
          50,
          39,
          40,
          38,
          43,
          25,
          32,
          37,
          44,
          34,
          60,
          36,
          25,
          51,
          25,
          43,
          37,
          27,
          37,
          48,
          54,
          53,
          24,
          47,
          35,
          29,
          44,
          37,
          64,
          52,
          26,
          46,
          45,
          27,
          34,
          31,
          53,
          56,
          48,
          46,
          33,
          58,
          24,
          55,
          22,
          26,
          33,
          42,
          33,
          34,
          63,
          53,
          26,
          22,
          39,
          28,
          54,
          54,
          33,
          21,
          39,
          69,
          51,
          43,
          65,
          40,
          66,
          43,
          39,
          24,
          63,
          31,
          37,
          69,
          27,
          64,
          23,
          55,
          33,
          24,
          29,
          42,
          46,
          33,
          25,
          61,
          60,
          30,
          36,
          37,
          53,
          30,
          47,
          43,
          29,
          33,
          51,
          33,
          40,
          47,
          37,
          29,
          57,
          52,
          31,
          19,
          51,
          31,
          66,
          76,
          21,
          39,
          45,
          38,
          26,
          55,
          33,
          40,
          48,
          54,
          66,
          25,
          53,
          57,
          63,
          33,
          27,
          56,
          46,
          40,
          53,
          55,
          45,
          63,
          58,
          24,
          33,
          25,
          51,
          34,
          55,
          62,
          33,
          58,
          46,
          42,
          45,
          28,
          51,
          39,
          70,
          35,
          39,
          37,
          66,
          50,
          43,
          43,
          63,
          27,
          43,
          51,
          52,
          40,
          51,
          32,
          36,
          65,
          41,
          38,
          61,
          21,
          33,
          35,
          64,
          49,
          25,
          26,
          52,
          39,
          44,
          68,
          45,
          45,
          26,
          31,
          27,
          42,
          51,
          30,
          27,
          22,
          54,
          25,
          43,
          26,
          36,
          51,
          47,
          45,
          37,
          60,
          55,
          54,
          23,
          69,
          31,
          41,
          41,
          43,
          52,
          44,
          29,
          65,
          47,
          45,
          32,
          60,
          63,
          66,
          31,
          38,
          55,
          57,
          33,
          52,
          50,
          57,
          24,
          23,
          33,
          35,
          76,
          35,
          59,
          56,
          34,
          38,
          57,
          45,
          26,
          43,
          31,
          38,
          37,
          25,
          28,
          34,
          31,
          33,
          20,
          31,
          57,
          33,
          40,
          38,
          31,
          49,
          60,
          43,
          27,
          36,
          38,
          43,
          46,
          62,
          42,
          43,
          52,
          27,
          60,
          52,
          39,
          32,
          45,
          34,
          59,
          29,
          31,
          34,
          69,
          60,
          28,
          44,
          45,
          45,
          20,
          58,
          25,
          35,
          24,
          37,
          46,
          57,
          57,
          32,
          46,
          59,
          42,
          35,
          44,
          20,
          30,
          62,
          56,
          35,
          31,
          64,
          59,
          30,
          30,
          36,
          32,
          51,
          39,
          20,
          35,
          31,
          41,
          56,
          41,
          65,
          54,
          32,
          44,
          63,
          27,
          33,
          30,
          30,
          23,
          39,
          46,
          48,
          30,
          59,
          34,
          51,
          30,
          55,
          32,
          44,
          37,
          40,
          41,
          36,
          68,
          31,
          28,
          45,
          23,
          45,
          23,
          58,
          56,
          55,
          29,
          29,
          62,
          37,
          50,
          64,
          38,
          31,
          42,
          24,
          46,
          39,
          35,
          39,
          22,
          31,
          54,
          54,
          28,
          47,
          33,
          36,
          46,
          50,
          40,
          38,
          42,
          36,
          23,
          35,
          49,
          29,
          41,
          61,
          34,
          29,
          52,
          60,
          26,
          25,
          50,
          63,
          29,
          48,
          34,
          20,
          34,
          40,
          45,
          50,
          34,
          35,
          37,
          62,
          58,
          35,
          31,
          57,
          32,
          32,
          37,
          27,
          35,
          44,
          44,
          28,
          57,
          30,
          23,
          76,
          36,
          48,
          33,
          35,
          30,
          55,
          27,
          28,
          32,
          40,
          44,
          32,
          39,
          47,
          24,
          26,
          23,
          29,
          40,
          63,
          34,
          40,
          30,
          70,
          40,
          41,
          45,
          41,
          46,
          47,
          24,
          63,
          23,
          49,
          34,
          22,
          34,
          26,
          54,
          33,
          19,
          32,
          42,
          27,
          65,
          34,
          51,
          38,
          34,
          31,
          48,
          21,
          39,
          41,
          52,
          42,
          32,
          47,
          50,
          30,
          64,
          47,
          56,
          22,
          57,
          23,
          49,
          27,
          48,
          66,
          24,
          39,
          52,
          40,
          42,
          24,
          46,
          37,
          41,
          41,
          59,
          38,
          33,
          61,
          64,
          36,
          44,
          48,
          26,
          28,
          50,
          38,
          42,
          42,
          58,
          24,
          33,
          49,
          28,
          35,
          31,
          54,
          55,
          21,
          35,
          59,
          33,
          49,
          28,
          19,
          43,
          75,
          61,
          44,
          25,
          25,
          54,
          42,
          52,
          27,
          36,
          59,
          40,
          24,
          46,
          67,
          44,
          58,
          40,
          64,
          43,
          29,
          47,
          42,
          28,
          46,
          75,
          35,
          72,
          30,
          33,
          43,
          45,
          48,
          54,
          33,
          30,
          50,
          34,
          36,
          42,
          31,
          55,
          69,
          62,
          35,
          51,
          70,
          44,
          53,
          32,
          25,
          37,
          34,
          28,
          34,
          28,
          39,
          67,
          41,
          41,
          36,
          42,
          25,
          57,
          37,
          62,
          50,
          38,
          34,
          33,
          29,
          57,
          65,
          42,
          37,
          50,
          37,
          27,
          42,
          29,
          57,
          68,
          38,
          51,
          35,
          47,
          52,
          25,
          61,
          59,
          38,
          35,
          43,
          61,
          35,
          40,
          48,
          74,
          42,
          50,
          34,
          22,
          49,
          63,
          36,
          50,
          57,
          48,
          28,
          35,
          39,
          37,
          23,
          40,
          77,
          48,
          54,
          54,
          32,
          37,
          31,
          46,
          53,
          33,
          36,
          53,
          49,
          39,
          45,
          54,
          37,
          28,
          26,
          49,
          30,
          66,
          40,
          26,
          67,
          54,
          50,
          22,
          39,
          39,
          31,
          36,
          18,
          52,
          35,
          35,
          26,
          28,
          24,
          51,
          31,
          49,
          26,
          68,
          25,
          19,
          62,
          57,
          42,
          24,
          30,
          20,
          59,
          24,
          49,
          37,
          27,
          42,
          25,
          41,
          73,
          21,
          22,
          43,
          32,
          56,
          37,
          30,
          45,
          35,
          37,
          28,
          47,
          28,
          56,
          31,
          40,
          23,
          37,
          64,
          61,
          42,
          40,
          34,
          31,
          36,
          38,
          59,
          48,
          32,
          48,
          53,
          41,
          45,
          27,
          30,
          45,
          48,
          46,
          31,
          56,
          54,
          49,
          34,
          52,
          47,
          55,
          26,
          55,
          40,
          67,
          44,
          55,
          47,
          32,
          46,
          52,
          53,
          28,
          39,
          30,
          46,
          33,
          35,
          39,
          69,
          29,
          50,
          33,
          39,
          46,
          55,
          53,
          68,
          53,
          52,
          31,
          26,
          55,
          47,
          44,
          25,
          54,
          49,
          22,
          55,
          44,
          53,
          39,
          50,
          40,
          25,
          49,
          59,
          24,
          48,
          41,
          37,
          36,
          38,
          61,
          33,
          48,
          50,
          58,
          49,
          35,
          39,
          50,
          23,
          41,
          48,
          39,
          20,
          55,
          49,
          34,
          54,
          51,
          30,
          39,
          45,
          27,
          36,
          25,
          63,
          45,
          53,
          52,
          53,
          60,
          51,
          60,
          51,
          39,
          44,
          27,
          20,
          23,
          37,
          32,
          30,
          26,
          30,
          40,
          56,
          43,
          50,
          52,
          54,
          46,
          39,
          34,
          59,
          49,
          36
         ],
         "xaxis": "x",
         "yaxis": "y"
        }
       ],
       "layout": {
        "annotations": [
         {
          "font": {
           "color": "green"
          },
          "showarrow": false,
          "text": "Median",
          "textangle": -45,
          "x": 40,
          "xshift": 15,
          "y": 37.05,
          "yshift": 120
         },
         {
          "font": {
           "color": "blue"
          },
          "showarrow": false,
          "text": "Mean",
          "textangle": -45,
          "x": 41.684,
          "xshift": 15,
          "y": 37.05,
          "yshift": 120
         },
         {
          "font": {
           "color": "red"
          },
          "showarrow": false,
          "text": "Q1",
          "textangle": -45,
          "x": 32,
          "xshift": 15,
          "y": 37.05,
          "yshift": 120
         },
         {
          "font": {
           "color": "red"
          },
          "showarrow": false,
          "text": "Q3",
          "textangle": -45,
          "x": 51,
          "xshift": 15,
          "y": 37.05,
          "yshift": 120
         }
        ],
        "bargap": 0.1,
        "barmode": "relative",
        "legend": {
         "tracegroupgap": 0
        },
        "shapes": [
         {
          "line": {
           "color": "green",
           "dash": "dash"
          },
          "type": "line",
          "x0": 40,
          "x1": 40,
          "xref": "x",
          "y0": 0,
          "y1": 1,
          "yref": "y domain"
         },
         {
          "line": {
           "color": "blue",
           "dash": "dash"
          },
          "type": "line",
          "x0": 41.684,
          "x1": 41.684,
          "xref": "x",
          "y0": 0,
          "y1": 1,
          "yref": "y domain"
         },
         {
          "line": {
           "color": "red",
           "dash": "dash"
          },
          "type": "line",
          "x0": 32,
          "x1": 32,
          "xref": "x",
          "y0": 0,
          "y1": 1,
          "yref": "y domain"
         },
         {
          "line": {
           "color": "red",
           "dash": "dash"
          },
          "type": "line",
          "x0": 51,
          "x1": 51,
          "xref": "x",
          "y0": 0,
          "y1": 1,
          "yref": "y domain"
         }
        ],
        "template": {
         "data": {
          "bar": [
           {
            "error_x": {
             "color": "#2a3f5f"
            },
            "error_y": {
             "color": "#2a3f5f"
            },
            "marker": {
             "line": {
              "color": "#E5ECF6",
              "width": 0.5
             },
             "pattern": {
              "fillmode": "overlay",
              "size": 10,
              "solidity": 0.2
             }
            },
            "type": "bar"
           }
          ],
          "barpolar": [
           {
            "marker": {
             "line": {
              "color": "#E5ECF6",
              "width": 0.5
             },
             "pattern": {
              "fillmode": "overlay",
              "size": 10,
              "solidity": 0.2
             }
            },
            "type": "barpolar"
           }
          ],
          "carpet": [
           {
            "aaxis": {
             "endlinecolor": "#2a3f5f",
             "gridcolor": "white",
             "linecolor": "white",
             "minorgridcolor": "white",
             "startlinecolor": "#2a3f5f"
            },
            "baxis": {
             "endlinecolor": "#2a3f5f",
             "gridcolor": "white",
             "linecolor": "white",
             "minorgridcolor": "white",
             "startlinecolor": "#2a3f5f"
            },
            "type": "carpet"
           }
          ],
          "choropleth": [
           {
            "colorbar": {
             "outlinewidth": 0,
             "ticks": ""
            },
            "type": "choropleth"
           }
          ],
          "contour": [
           {
            "colorbar": {
             "outlinewidth": 0,
             "ticks": ""
            },
            "colorscale": [
             [
              0,
              "#0d0887"
             ],
             [
              0.1111111111111111,
              "#46039f"
             ],
             [
              0.2222222222222222,
              "#7201a8"
             ],
             [
              0.3333333333333333,
              "#9c179e"
             ],
             [
              0.4444444444444444,
              "#bd3786"
             ],
             [
              0.5555555555555556,
              "#d8576b"
             ],
             [
              0.6666666666666666,
              "#ed7953"
             ],
             [
              0.7777777777777778,
              "#fb9f3a"
             ],
             [
              0.8888888888888888,
              "#fdca26"
             ],
             [
              1,
              "#f0f921"
             ]
            ],
            "type": "contour"
           }
          ],
          "contourcarpet": [
           {
            "colorbar": {
             "outlinewidth": 0,
             "ticks": ""
            },
            "type": "contourcarpet"
           }
          ],
          "heatmap": [
           {
            "colorbar": {
             "outlinewidth": 0,
             "ticks": ""
            },
            "colorscale": [
             [
              0,
              "#0d0887"
             ],
             [
              0.1111111111111111,
              "#46039f"
             ],
             [
              0.2222222222222222,
              "#7201a8"
             ],
             [
              0.3333333333333333,
              "#9c179e"
             ],
             [
              0.4444444444444444,
              "#bd3786"
             ],
             [
              0.5555555555555556,
              "#d8576b"
             ],
             [
              0.6666666666666666,
              "#ed7953"
             ],
             [
              0.7777777777777778,
              "#fb9f3a"
             ],
             [
              0.8888888888888888,
              "#fdca26"
             ],
             [
              1,
              "#f0f921"
             ]
            ],
            "type": "heatmap"
           }
          ],
          "heatmapgl": [
           {
            "colorbar": {
             "outlinewidth": 0,
             "ticks": ""
            },
            "colorscale": [
             [
              0,
              "#0d0887"
             ],
             [
              0.1111111111111111,
              "#46039f"
             ],
             [
              0.2222222222222222,
              "#7201a8"
             ],
             [
              0.3333333333333333,
              "#9c179e"
             ],
             [
              0.4444444444444444,
              "#bd3786"
             ],
             [
              0.5555555555555556,
              "#d8576b"
             ],
             [
              0.6666666666666666,
              "#ed7953"
             ],
             [
              0.7777777777777778,
              "#fb9f3a"
             ],
             [
              0.8888888888888888,
              "#fdca26"
             ],
             [
              1,
              "#f0f921"
             ]
            ],
            "type": "heatmapgl"
           }
          ],
          "histogram": [
           {
            "marker": {
             "pattern": {
              "fillmode": "overlay",
              "size": 10,
              "solidity": 0.2
             }
            },
            "type": "histogram"
           }
          ],
          "histogram2d": [
           {
            "colorbar": {
             "outlinewidth": 0,
             "ticks": ""
            },
            "colorscale": [
             [
              0,
              "#0d0887"
             ],
             [
              0.1111111111111111,
              "#46039f"
             ],
             [
              0.2222222222222222,
              "#7201a8"
             ],
             [
              0.3333333333333333,
              "#9c179e"
             ],
             [
              0.4444444444444444,
              "#bd3786"
             ],
             [
              0.5555555555555556,
              "#d8576b"
             ],
             [
              0.6666666666666666,
              "#ed7953"
             ],
             [
              0.7777777777777778,
              "#fb9f3a"
             ],
             [
              0.8888888888888888,
              "#fdca26"
             ],
             [
              1,
              "#f0f921"
             ]
            ],
            "type": "histogram2d"
           }
          ],
          "histogram2dcontour": [
           {
            "colorbar": {
             "outlinewidth": 0,
             "ticks": ""
            },
            "colorscale": [
             [
              0,
              "#0d0887"
             ],
             [
              0.1111111111111111,
              "#46039f"
             ],
             [
              0.2222222222222222,
              "#7201a8"
             ],
             [
              0.3333333333333333,
              "#9c179e"
             ],
             [
              0.4444444444444444,
              "#bd3786"
             ],
             [
              0.5555555555555556,
              "#d8576b"
             ],
             [
              0.6666666666666666,
              "#ed7953"
             ],
             [
              0.7777777777777778,
              "#fb9f3a"
             ],
             [
              0.8888888888888888,
              "#fdca26"
             ],
             [
              1,
              "#f0f921"
             ]
            ],
            "type": "histogram2dcontour"
           }
          ],
          "mesh3d": [
           {
            "colorbar": {
             "outlinewidth": 0,
             "ticks": ""
            },
            "type": "mesh3d"
           }
          ],
          "parcoords": [
           {
            "line": {
             "colorbar": {
              "outlinewidth": 0,
              "ticks": ""
             }
            },
            "type": "parcoords"
           }
          ],
          "pie": [
           {
            "automargin": true,
            "type": "pie"
           }
          ],
          "scatter": [
           {
            "fillpattern": {
             "fillmode": "overlay",
             "size": 10,
             "solidity": 0.2
            },
            "type": "scatter"
           }
          ],
          "scatter3d": [
           {
            "line": {
             "colorbar": {
              "outlinewidth": 0,
              "ticks": ""
             }
            },
            "marker": {
             "colorbar": {
              "outlinewidth": 0,
              "ticks": ""
             }
            },
            "type": "scatter3d"
           }
          ],
          "scattercarpet": [
           {
            "marker": {
             "colorbar": {
              "outlinewidth": 0,
              "ticks": ""
             }
            },
            "type": "scattercarpet"
           }
          ],
          "scattergeo": [
           {
            "marker": {
             "colorbar": {
              "outlinewidth": 0,
              "ticks": ""
             }
            },
            "type": "scattergeo"
           }
          ],
          "scattergl": [
           {
            "marker": {
             "colorbar": {
              "outlinewidth": 0,
              "ticks": ""
             }
            },
            "type": "scattergl"
           }
          ],
          "scattermapbox": [
           {
            "marker": {
             "colorbar": {
              "outlinewidth": 0,
              "ticks": ""
             }
            },
            "type": "scattermapbox"
           }
          ],
          "scatterpolar": [
           {
            "marker": {
             "colorbar": {
              "outlinewidth": 0,
              "ticks": ""
             }
            },
            "type": "scatterpolar"
           }
          ],
          "scatterpolargl": [
           {
            "marker": {
             "colorbar": {
              "outlinewidth": 0,
              "ticks": ""
             }
            },
            "type": "scatterpolargl"
           }
          ],
          "scatterternary": [
           {
            "marker": {
             "colorbar": {
              "outlinewidth": 0,
              "ticks": ""
             }
            },
            "type": "scatterternary"
           }
          ],
          "surface": [
           {
            "colorbar": {
             "outlinewidth": 0,
             "ticks": ""
            },
            "colorscale": [
             [
              0,
              "#0d0887"
             ],
             [
              0.1111111111111111,
              "#46039f"
             ],
             [
              0.2222222222222222,
              "#7201a8"
             ],
             [
              0.3333333333333333,
              "#9c179e"
             ],
             [
              0.4444444444444444,
              "#bd3786"
             ],
             [
              0.5555555555555556,
              "#d8576b"
             ],
             [
              0.6666666666666666,
              "#ed7953"
             ],
             [
              0.7777777777777778,
              "#fb9f3a"
             ],
             [
              0.8888888888888888,
              "#fdca26"
             ],
             [
              1,
              "#f0f921"
             ]
            ],
            "type": "surface"
           }
          ],
          "table": [
           {
            "cells": {
             "fill": {
              "color": "#EBF0F8"
             },
             "line": {
              "color": "white"
             }
            },
            "header": {
             "fill": {
              "color": "#C8D4E3"
             },
             "line": {
              "color": "white"
             }
            },
            "type": "table"
           }
          ]
         },
         "layout": {
          "annotationdefaults": {
           "arrowcolor": "#2a3f5f",
           "arrowhead": 0,
           "arrowwidth": 1
          },
          "autotypenumbers": "strict",
          "coloraxis": {
           "colorbar": {
            "outlinewidth": 0,
            "ticks": ""
           }
          },
          "colorscale": {
           "diverging": [
            [
             0,
             "#8e0152"
            ],
            [
             0.1,
             "#c51b7d"
            ],
            [
             0.2,
             "#de77ae"
            ],
            [
             0.3,
             "#f1b6da"
            ],
            [
             0.4,
             "#fde0ef"
            ],
            [
             0.5,
             "#f7f7f7"
            ],
            [
             0.6,
             "#e6f5d0"
            ],
            [
             0.7,
             "#b8e186"
            ],
            [
             0.8,
             "#7fbc41"
            ],
            [
             0.9,
             "#4d9221"
            ],
            [
             1,
             "#276419"
            ]
           ],
           "sequential": [
            [
             0,
             "#0d0887"
            ],
            [
             0.1111111111111111,
             "#46039f"
            ],
            [
             0.2222222222222222,
             "#7201a8"
            ],
            [
             0.3333333333333333,
             "#9c179e"
            ],
            [
             0.4444444444444444,
             "#bd3786"
            ],
            [
             0.5555555555555556,
             "#d8576b"
            ],
            [
             0.6666666666666666,
             "#ed7953"
            ],
            [
             0.7777777777777778,
             "#fb9f3a"
            ],
            [
             0.8888888888888888,
             "#fdca26"
            ],
            [
             1,
             "#f0f921"
            ]
           ],
           "sequentialminus": [
            [
             0,
             "#0d0887"
            ],
            [
             0.1111111111111111,
             "#46039f"
            ],
            [
             0.2222222222222222,
             "#7201a8"
            ],
            [
             0.3333333333333333,
             "#9c179e"
            ],
            [
             0.4444444444444444,
             "#bd3786"
            ],
            [
             0.5555555555555556,
             "#d8576b"
            ],
            [
             0.6666666666666666,
             "#ed7953"
            ],
            [
             0.7777777777777778,
             "#fb9f3a"
            ],
            [
             0.8888888888888888,
             "#fdca26"
            ],
            [
             1,
             "#f0f921"
            ]
           ]
          },
          "colorway": [
           "#636efa",
           "#EF553B",
           "#00cc96",
           "#ab63fa",
           "#FFA15A",
           "#19d3f3",
           "#FF6692",
           "#B6E880",
           "#FF97FF",
           "#FECB52"
          ],
          "font": {
           "color": "#2a3f5f"
          },
          "geo": {
           "bgcolor": "white",
           "lakecolor": "white",
           "landcolor": "#E5ECF6",
           "showlakes": true,
           "showland": true,
           "subunitcolor": "white"
          },
          "hoverlabel": {
           "align": "left"
          },
          "hovermode": "closest",
          "mapbox": {
           "style": "light"
          },
          "paper_bgcolor": "white",
          "plot_bgcolor": "#E5ECF6",
          "polar": {
           "angularaxis": {
            "gridcolor": "white",
            "linecolor": "white",
            "ticks": ""
           },
           "bgcolor": "#E5ECF6",
           "radialaxis": {
            "gridcolor": "white",
            "linecolor": "white",
            "ticks": ""
           }
          },
          "scene": {
           "xaxis": {
            "backgroundcolor": "#E5ECF6",
            "gridcolor": "white",
            "gridwidth": 2,
            "linecolor": "white",
            "showbackground": true,
            "ticks": "",
            "zerolinecolor": "white"
           },
           "yaxis": {
            "backgroundcolor": "#E5ECF6",
            "gridcolor": "white",
            "gridwidth": 2,
            "linecolor": "white",
            "showbackground": true,
            "ticks": "",
            "zerolinecolor": "white"
           },
           "zaxis": {
            "backgroundcolor": "#E5ECF6",
            "gridcolor": "white",
            "gridwidth": 2,
            "linecolor": "white",
            "showbackground": true,
            "ticks": "",
            "zerolinecolor": "white"
           }
          },
          "shapedefaults": {
           "line": {
            "color": "#2a3f5f"
           }
          },
          "ternary": {
           "aaxis": {
            "gridcolor": "white",
            "linecolor": "white",
            "ticks": ""
           },
           "baxis": {
            "gridcolor": "white",
            "linecolor": "white",
            "ticks": ""
           },
           "bgcolor": "#E5ECF6",
           "caxis": {
            "gridcolor": "white",
            "linecolor": "white",
            "ticks": ""
           }
          },
          "title": {
           "x": 0.05
          },
          "xaxis": {
           "automargin": true,
           "gridcolor": "white",
           "linecolor": "white",
           "ticks": "",
           "title": {
            "standoff": 15
           },
           "zerolinecolor": "white",
           "zerolinewidth": 2
          },
          "yaxis": {
           "automargin": true,
           "gridcolor": "white",
           "linecolor": "white",
           "ticks": "",
           "title": {
            "standoff": 15
           },
           "zerolinecolor": "white",
           "zerolinewidth": 2
          }
         }
        },
        "title": {
         "text": "Age Distribution",
         "x": 0.5,
         "xanchor": "center",
         "y": 0.95,
         "yanchor": "top"
        },
        "xaxis": {
         "anchor": "y",
         "domain": [
          0,
          1
         ],
         "showgrid": false,
         "tickmode": "linear",
         "title": {
          "text": "Age"
         },
         "zeroline": false
        },
        "yaxis": {
         "anchor": "x",
         "domain": [
          0,
          1
         ],
         "showgrid": true,
         "title": {
          "text": "Frequency"
         }
        }
       }
      }
     },
     "metadata": {},
     "output_type": "display_data"
    }
   ],
   "source": [
    "# Create histogram\n",
    "age_distribution_fig = px.histogram(\n",
    "    df,\n",
    "    x=\"age\",\n",
    "    title=\"Age Distribution\",\n",
    "    text_auto=True,  # Show text labels on bars\n",
    "    nbins=30,  # Customize number of bins for better granularity\n",
    ")\n",
    "\n",
    "# Calculate statistics\n",
    "median_age = df[\"age\"].median()\n",
    "mean_age = df[\"age\"].mean()\n",
    "first_quartile = df[\"age\"].quantile(0.25)\n",
    "third_quartile = df[\"age\"].quantile(0.75)\n",
    "\n",
    "# Add vertical lines for statistical markers without annotation_text\n",
    "stat_lines = [\n",
    "    {\"x\": median_age, \"color\": \"green\", \"text\": \"Median\"},\n",
    "    {\"x\": mean_age, \"color\": \"blue\", \"text\": \"Mean\"},\n",
    "    {\"x\": first_quartile, \"color\": \"red\", \"text\": \"Q1\"},\n",
    "    {\"x\": third_quartile, \"color\": \"red\", \"text\": \"Q3\"},\n",
    "]\n",
    "\n",
    "for line in stat_lines:\n",
    "    age_distribution_fig.add_vline(\n",
    "        x=line[\"x\"],\n",
    "        line_dash=\"dash\",\n",
    "        line_color=line[\"color\"],\n",
    "    )\n",
    "    # Add text annotations at top of the chart\n",
    "    age_distribution_fig.add_annotation(\n",
    "        x=line[\"x\"],\n",
    "        y=max(df[\"age\"].value_counts()) * 0.95,\n",
    "        text=line[\"text\"],\n",
    "        showarrow=False,\n",
    "        textangle=-45,\n",
    "        font=dict(color=line[\"color\"]),\n",
    "        yshift=120,\n",
    "        xshift=15,\n",
    "    )\n",
    "\n",
    "# Customize layout for readability and presentation\n",
    "age_distribution_fig.update_layout(\n",
    "    title={\n",
    "        \"text\": \"Age Distribution\",\n",
    "        \"y\": 0.95,\n",
    "        \"x\": 0.5,\n",
    "        \"xanchor\": \"center\",\n",
    "        \"yanchor\": \"top\",\n",
    "    },\n",
    "    xaxis_title=\"Age\",\n",
    "    yaxis_title=\"Frequency\",\n",
    "    xaxis=dict(\n",
    "        tickmode=\"linear\", showgrid=False, zeroline=False\n",
    "    ),  # Linear ticks for age axis\n",
    "    yaxis=dict(showgrid=True),  # Y-axis grid for readability\n",
    "    bargap=0.1,  # Adjust bar gap for aesthetic\n",
    ")\n",
    "\n",
    "# Customize hover labels\n",
    "age_distribution_fig.update_traces(\n",
    "    hovertemplate=\"Age: %{x}<br>Count: %{y}<extra></extra>\",  # Custom tooltip format\n",
    ")\n",
    "\n",
    "# Display the improved histogram\n",
    "age_distribution_fig.show()"
   ]
  },
  {
   "cell_type": "markdown",
   "metadata": {},
   "source": [
    "Has huge varience but relately younger dataset."
   ]
  },
  {
   "cell_type": "code",
   "execution_count": 8,
   "metadata": {},
   "outputs": [
    {
     "data": {
      "application/vnd.plotly.v1+json": {
       "config": {
        "plotlyServerURL": "https://plot.ly"
       },
       "data": [
        {
         "domain": {
          "x": [
           0,
           1
          ],
          "y": [
           0,
           1
          ]
         },
         "hole": 0.3,
         "hovertemplate": "is_married=%{label}<extra></extra>",
         "labels": [
          "Yes",
          "Yes",
          "Yes",
          "No",
          "Yes",
          "No",
          "Yes",
          "No",
          "Yes",
          "Yes",
          "No",
          "No",
          "Yes",
          "Yes",
          "No",
          "Yes",
          "No",
          "No",
          "No",
          "Yes",
          "No",
          "Yes",
          "No",
          "Yes",
          "Yes",
          "No",
          "No",
          "Yes",
          "Yes",
          "Yes",
          "Yes",
          "Yes",
          "Yes",
          "Yes",
          "Yes",
          "Yes",
          "No",
          "Yes",
          "Yes",
          "No",
          "No",
          "No",
          "Yes",
          "Yes",
          "Yes",
          "Yes",
          "Yes",
          "Yes",
          "Yes",
          "No",
          "Yes",
          "Yes",
          "No",
          "Yes",
          "No",
          "Yes",
          "No",
          "Yes",
          "No",
          "Yes",
          "Yes",
          "Yes",
          "No",
          "Yes",
          "No",
          "Yes",
          "Yes",
          "Yes",
          "No",
          "No",
          "Yes",
          "No",
          "No",
          "No",
          "Yes",
          "No",
          "Yes",
          "No",
          "No",
          "No",
          "Yes",
          "No",
          "Yes",
          "No",
          "Yes",
          "Yes",
          "No",
          "Yes",
          "No",
          "Yes",
          "Yes",
          "No",
          "Yes",
          "No",
          "Yes",
          "No",
          "Yes",
          "Yes",
          "Yes",
          "No",
          "No",
          "Yes",
          "No",
          "Yes",
          "No",
          "No",
          "No",
          "No",
          "No",
          "Yes",
          "Yes",
          "Yes",
          "No",
          "No",
          "No",
          "No",
          "No",
          "Yes",
          "No",
          "No",
          "No",
          "No",
          "Yes",
          "Yes",
          "Yes",
          "No",
          "No",
          "Yes",
          "Yes",
          "Yes",
          "Yes",
          "Yes",
          "Yes",
          "Yes",
          "No",
          "No",
          "No",
          "No",
          "Yes",
          "No",
          "Yes",
          "Yes",
          "Yes",
          "Yes",
          "No",
          "No",
          "Yes",
          "Yes",
          "Yes",
          "No",
          "Yes",
          "No",
          "No",
          "No",
          "No",
          "Yes",
          "No",
          "No",
          "Yes",
          "No",
          "Yes",
          "Yes",
          "Yes",
          "No",
          "No",
          "Yes",
          "Yes",
          "Yes",
          "No",
          "No",
          "Yes",
          "Yes",
          "Yes",
          "No",
          "No",
          "No",
          "No",
          "Yes",
          "No",
          "No",
          "Yes",
          "No",
          "Yes",
          "Yes",
          "No",
          "No",
          "Yes",
          "Yes",
          "Yes",
          "Yes",
          "Yes",
          "No",
          "No",
          "No",
          "Yes",
          "Yes",
          "No",
          "Yes",
          "No",
          "No",
          "No",
          "No",
          "Yes",
          "Yes",
          "Yes",
          "Yes",
          "Yes",
          "Yes",
          "No",
          "Yes",
          "No",
          "No",
          "Yes",
          "No",
          "No",
          "No",
          "Yes",
          "Yes",
          "Yes",
          "No",
          "No",
          "No",
          "No",
          "Yes",
          "No",
          "No",
          "Yes",
          "No",
          "No",
          "No",
          "No",
          "Yes",
          "Yes",
          "No",
          "No",
          "No",
          "Yes",
          "Yes",
          "No",
          "Yes",
          "No",
          "Yes",
          "No",
          "Yes",
          "No",
          "No",
          "No",
          "No",
          "Yes",
          "Yes",
          "No",
          "Yes",
          "Yes",
          "No",
          "No",
          "Yes",
          "No",
          "Yes",
          "No",
          "No",
          "No",
          "No",
          "No",
          "Yes",
          "Yes",
          "Yes",
          "Yes",
          "Yes",
          "Yes",
          "No",
          "No",
          "No",
          "No",
          "No",
          "No",
          "Yes",
          "No",
          "No",
          "No",
          "No",
          "No",
          "Yes",
          "Yes",
          "No",
          "Yes",
          "Yes",
          "Yes",
          "Yes",
          "No",
          "Yes",
          "Yes",
          "Yes",
          "No",
          "No",
          "Yes",
          "No",
          "No",
          "No",
          "No",
          "Yes",
          "Yes",
          "Yes",
          "Yes",
          "No",
          "No",
          "Yes",
          "Yes",
          "No",
          "No",
          "Yes",
          "Yes",
          "No",
          "Yes",
          "Yes",
          "Yes",
          "No",
          "Yes",
          "Yes",
          "Yes",
          "Yes",
          "No",
          "Yes",
          "No",
          "Yes",
          "No",
          "Yes",
          "Yes",
          "No",
          "No",
          "No",
          "No",
          "Yes",
          "No",
          "No",
          "Yes",
          "No",
          "Yes",
          "Yes",
          "No",
          "Yes",
          "Yes",
          "No",
          "No",
          "No",
          "No",
          "Yes",
          "No",
          "No",
          "Yes",
          "Yes",
          "Yes",
          "Yes",
          "No",
          "No",
          "Yes",
          "No",
          "Yes",
          "No",
          "Yes",
          "No",
          "Yes",
          "No",
          "Yes",
          "No",
          "No",
          "No",
          "Yes",
          "No",
          "No",
          "Yes",
          "Yes",
          "Yes",
          "No",
          "No",
          "No",
          "Yes",
          "No",
          "Yes",
          "No",
          "Yes",
          "No",
          "No",
          "Yes",
          "No",
          "No",
          "Yes",
          "No",
          "Yes",
          "Yes",
          "Yes",
          "Yes",
          "Yes",
          "Yes",
          "No",
          "No",
          "No",
          "No",
          "No",
          "No",
          "Yes",
          "No",
          "No",
          "Yes",
          "No",
          "Yes",
          "Yes",
          "Yes",
          "No",
          "No",
          "No",
          "Yes",
          "No",
          "No",
          "No",
          "No",
          "No",
          "Yes",
          "Yes",
          "No",
          "No",
          "No",
          "Yes",
          "No",
          "Yes",
          "Yes",
          "Yes",
          "Yes",
          "Yes",
          "No",
          "Yes",
          "No",
          "Yes",
          "No",
          "Yes",
          "No",
          "Yes",
          "No",
          "No",
          "No",
          "No",
          "Yes",
          "No",
          "Yes",
          "No",
          "Yes",
          "No",
          "Yes",
          "No",
          "Yes",
          "Yes",
          "Yes",
          "Yes",
          "No",
          "No",
          "No",
          "No",
          "Yes",
          "No",
          "No",
          "Yes",
          "Yes",
          "No",
          "No",
          "Yes",
          "Yes",
          "No",
          "Yes",
          "Yes",
          "Yes",
          "Yes",
          "Yes",
          "No",
          "Yes",
          "No",
          "Yes",
          "Yes",
          "No",
          "No",
          "No",
          "No",
          "Yes",
          "Yes",
          "Yes",
          "No",
          "No",
          "No",
          "Yes",
          "No",
          "Yes",
          "No",
          "No",
          "No",
          "No",
          "Yes",
          "Yes",
          "Yes",
          "Yes",
          "Yes",
          "No",
          "No",
          "No",
          "No",
          "No",
          "No",
          "Yes",
          "No",
          "No",
          "No",
          "No",
          "No",
          "No",
          "Yes",
          "Yes",
          "No",
          "No",
          "Yes",
          "No",
          "Yes",
          "No",
          "Yes",
          "Yes",
          "No",
          "Yes",
          "Yes",
          "No",
          "No",
          "Yes",
          "No",
          "Yes",
          "Yes",
          "No",
          "No",
          "No",
          "Yes",
          "No",
          "No",
          "Yes",
          "No",
          "No",
          "Yes",
          "Yes",
          "Yes",
          "No",
          "No",
          "No",
          "Yes",
          "No",
          "Yes",
          "Yes",
          "Yes",
          "Yes",
          "No",
          "No",
          "Yes",
          "No",
          "Yes",
          "No",
          "No",
          "No",
          "No",
          "No",
          "No",
          "No",
          "No",
          "No",
          "Yes",
          "Yes",
          "Yes",
          "No",
          "No",
          "No",
          "Yes",
          "Yes",
          "Yes",
          "No",
          "Yes",
          "Yes",
          "No",
          "Yes",
          "Yes",
          "Yes",
          "Yes",
          "No",
          "No",
          "No",
          "Yes",
          "Yes",
          "Yes",
          "Yes",
          "Yes",
          "No",
          "Yes",
          "Yes",
          "Yes",
          "Yes",
          "No",
          "No",
          "No",
          "No",
          "No",
          "No",
          "No",
          "No",
          "No",
          "Yes",
          "No",
          "No",
          "No",
          "Yes",
          "No",
          "Yes",
          "No",
          "Yes",
          "Yes",
          "Yes",
          "No",
          "No",
          "No",
          "No",
          "No",
          "No",
          "No",
          "No",
          "Yes",
          "Yes",
          "Yes",
          "No",
          "Yes",
          "Yes",
          "Yes",
          "No",
          "Yes",
          "Yes",
          "No",
          "Yes",
          "No",
          "Yes",
          "No",
          "Yes",
          "Yes",
          "No",
          "Yes",
          "Yes",
          "No",
          "No",
          "No",
          "Yes",
          "No",
          "Yes",
          "No",
          "Yes",
          "No",
          "No",
          "Yes",
          "No",
          "No",
          "No",
          "No",
          "Yes",
          "No",
          "No",
          "Yes",
          "Yes",
          "No",
          "No",
          "No",
          "No",
          "Yes",
          "Yes",
          "Yes",
          "No",
          "No",
          "Yes",
          "No",
          "No",
          "No",
          "Yes",
          "Yes",
          "Yes",
          "Yes",
          "No",
          "Yes",
          "Yes",
          "No",
          "Yes",
          "Yes",
          "No",
          "No",
          "No",
          "Yes",
          "Yes",
          "Yes",
          "Yes",
          "No",
          "No",
          "No",
          "No",
          "No",
          "Yes",
          "No",
          "No",
          "No",
          "No",
          "No",
          "No",
          "Yes",
          "No",
          "No",
          "Yes",
          "Yes",
          "Yes",
          "No",
          "Yes",
          "Yes",
          "Yes",
          "Yes",
          "Yes",
          "Yes",
          "No",
          "No",
          "No",
          "Yes",
          "Yes",
          "Yes",
          "Yes",
          "Yes",
          "No",
          "No",
          "No",
          "Yes",
          "No",
          "Yes",
          "No",
          "No",
          "No",
          "No",
          "Yes",
          "Yes",
          "Yes",
          "No",
          "No",
          "Yes",
          "Yes",
          "Yes",
          "No",
          "Yes",
          "Yes",
          "Yes",
          "No",
          "Yes",
          "Yes",
          "Yes",
          "Yes",
          "Yes",
          "Yes",
          "No",
          "Yes",
          "Yes",
          "Yes",
          "No",
          "Yes",
          "No",
          "No",
          "Yes",
          "Yes",
          "No",
          "Yes",
          "Yes",
          "Yes",
          "Yes",
          "No",
          "Yes",
          "Yes",
          "No",
          "Yes",
          "Yes",
          "Yes",
          "No",
          "Yes",
          "No",
          "No",
          "Yes",
          "Yes",
          "Yes",
          "No",
          "Yes",
          "Yes",
          "No",
          "No",
          "Yes",
          "Yes",
          "Yes",
          "Yes",
          "No",
          "No",
          "No",
          "Yes",
          "No",
          "Yes",
          "Yes",
          "Yes",
          "Yes",
          "Yes",
          "No",
          "Yes",
          "No",
          "Yes",
          "No",
          "No",
          "No",
          "Yes",
          "Yes",
          "No",
          "Yes",
          "No",
          "No",
          "No",
          "No",
          "Yes",
          "No",
          "Yes",
          "No",
          "Yes",
          "No",
          "No",
          "No",
          "No",
          "Yes",
          "Yes",
          "No",
          "Yes",
          "Yes",
          "Yes",
          "Yes",
          "No",
          "Yes",
          "Yes",
          "Yes",
          "Yes",
          "Yes",
          "Yes",
          "No",
          "No",
          "Yes",
          "No",
          "No",
          "No",
          "No",
          "No",
          "Yes",
          "No",
          "No",
          "Yes",
          "No",
          "Yes",
          "No",
          "Yes",
          "No",
          "No",
          "Yes",
          "No",
          "Yes",
          "Yes",
          "No",
          "Yes",
          "No",
          "Yes",
          "Yes",
          "Yes",
          "No",
          "No",
          "No",
          "Yes",
          "Yes",
          "No",
          "Yes",
          "No",
          "Yes",
          "No",
          "Yes",
          "Yes",
          "Yes",
          "No",
          "No",
          "Yes",
          "No",
          "No",
          "Yes",
          "No",
          "Yes",
          "Yes",
          "Yes",
          "No",
          "No",
          "Yes",
          "No",
          "Yes",
          "No",
          "No",
          "No",
          "Yes",
          "No",
          "Yes",
          "No",
          "Yes",
          "No",
          "Yes",
          "Yes",
          "No",
          "No",
          "No",
          "No",
          "No",
          "No",
          "Yes",
          "Yes",
          "Yes",
          "No",
          "No",
          "Yes",
          "No",
          "No",
          "Yes",
          "Yes",
          "No",
          "Yes",
          "No",
          "No",
          "Yes",
          "Yes",
          "Yes",
          "No",
          "No",
          "Yes",
          "Yes",
          "Yes",
          "No",
          "No",
          "No",
          "No",
          "No",
          "Yes",
          "Yes",
          "Yes",
          "Yes",
          "Yes",
          "Yes",
          "Yes",
          "Yes",
          "Yes",
          "No",
          "Yes",
          "No",
          "No",
          "No",
          "No",
          "Yes",
          "No",
          "No",
          "Yes",
          "No",
          "Yes",
          "Yes",
          "Yes",
          "No",
          "Yes",
          "Yes",
          "No",
          "Yes",
          "No",
          "No",
          "Yes",
          "No",
          "No",
          "No",
          "No",
          "Yes",
          "No",
          "Yes",
          "No",
          "No",
          "No",
          "Yes",
          "Yes",
          "No",
          "No",
          "Yes",
          "No",
          "Yes",
          "No",
          "No",
          "Yes",
          "Yes",
          "Yes",
          "Yes",
          "No",
          "No",
          "No",
          "No",
          "Yes"
         ],
         "legendgroup": "",
         "name": "",
         "showlegend": true,
         "type": "pie"
        }
       ],
       "layout": {
        "legend": {
         "tracegroupgap": 0
        },
        "template": {
         "data": {
          "bar": [
           {
            "error_x": {
             "color": "#2a3f5f"
            },
            "error_y": {
             "color": "#2a3f5f"
            },
            "marker": {
             "line": {
              "color": "#E5ECF6",
              "width": 0.5
             },
             "pattern": {
              "fillmode": "overlay",
              "size": 10,
              "solidity": 0.2
             }
            },
            "type": "bar"
           }
          ],
          "barpolar": [
           {
            "marker": {
             "line": {
              "color": "#E5ECF6",
              "width": 0.5
             },
             "pattern": {
              "fillmode": "overlay",
              "size": 10,
              "solidity": 0.2
             }
            },
            "type": "barpolar"
           }
          ],
          "carpet": [
           {
            "aaxis": {
             "endlinecolor": "#2a3f5f",
             "gridcolor": "white",
             "linecolor": "white",
             "minorgridcolor": "white",
             "startlinecolor": "#2a3f5f"
            },
            "baxis": {
             "endlinecolor": "#2a3f5f",
             "gridcolor": "white",
             "linecolor": "white",
             "minorgridcolor": "white",
             "startlinecolor": "#2a3f5f"
            },
            "type": "carpet"
           }
          ],
          "choropleth": [
           {
            "colorbar": {
             "outlinewidth": 0,
             "ticks": ""
            },
            "type": "choropleth"
           }
          ],
          "contour": [
           {
            "colorbar": {
             "outlinewidth": 0,
             "ticks": ""
            },
            "colorscale": [
             [
              0,
              "#0d0887"
             ],
             [
              0.1111111111111111,
              "#46039f"
             ],
             [
              0.2222222222222222,
              "#7201a8"
             ],
             [
              0.3333333333333333,
              "#9c179e"
             ],
             [
              0.4444444444444444,
              "#bd3786"
             ],
             [
              0.5555555555555556,
              "#d8576b"
             ],
             [
              0.6666666666666666,
              "#ed7953"
             ],
             [
              0.7777777777777778,
              "#fb9f3a"
             ],
             [
              0.8888888888888888,
              "#fdca26"
             ],
             [
              1,
              "#f0f921"
             ]
            ],
            "type": "contour"
           }
          ],
          "contourcarpet": [
           {
            "colorbar": {
             "outlinewidth": 0,
             "ticks": ""
            },
            "type": "contourcarpet"
           }
          ],
          "heatmap": [
           {
            "colorbar": {
             "outlinewidth": 0,
             "ticks": ""
            },
            "colorscale": [
             [
              0,
              "#0d0887"
             ],
             [
              0.1111111111111111,
              "#46039f"
             ],
             [
              0.2222222222222222,
              "#7201a8"
             ],
             [
              0.3333333333333333,
              "#9c179e"
             ],
             [
              0.4444444444444444,
              "#bd3786"
             ],
             [
              0.5555555555555556,
              "#d8576b"
             ],
             [
              0.6666666666666666,
              "#ed7953"
             ],
             [
              0.7777777777777778,
              "#fb9f3a"
             ],
             [
              0.8888888888888888,
              "#fdca26"
             ],
             [
              1,
              "#f0f921"
             ]
            ],
            "type": "heatmap"
           }
          ],
          "heatmapgl": [
           {
            "colorbar": {
             "outlinewidth": 0,
             "ticks": ""
            },
            "colorscale": [
             [
              0,
              "#0d0887"
             ],
             [
              0.1111111111111111,
              "#46039f"
             ],
             [
              0.2222222222222222,
              "#7201a8"
             ],
             [
              0.3333333333333333,
              "#9c179e"
             ],
             [
              0.4444444444444444,
              "#bd3786"
             ],
             [
              0.5555555555555556,
              "#d8576b"
             ],
             [
              0.6666666666666666,
              "#ed7953"
             ],
             [
              0.7777777777777778,
              "#fb9f3a"
             ],
             [
              0.8888888888888888,
              "#fdca26"
             ],
             [
              1,
              "#f0f921"
             ]
            ],
            "type": "heatmapgl"
           }
          ],
          "histogram": [
           {
            "marker": {
             "pattern": {
              "fillmode": "overlay",
              "size": 10,
              "solidity": 0.2
             }
            },
            "type": "histogram"
           }
          ],
          "histogram2d": [
           {
            "colorbar": {
             "outlinewidth": 0,
             "ticks": ""
            },
            "colorscale": [
             [
              0,
              "#0d0887"
             ],
             [
              0.1111111111111111,
              "#46039f"
             ],
             [
              0.2222222222222222,
              "#7201a8"
             ],
             [
              0.3333333333333333,
              "#9c179e"
             ],
             [
              0.4444444444444444,
              "#bd3786"
             ],
             [
              0.5555555555555556,
              "#d8576b"
             ],
             [
              0.6666666666666666,
              "#ed7953"
             ],
             [
              0.7777777777777778,
              "#fb9f3a"
             ],
             [
              0.8888888888888888,
              "#fdca26"
             ],
             [
              1,
              "#f0f921"
             ]
            ],
            "type": "histogram2d"
           }
          ],
          "histogram2dcontour": [
           {
            "colorbar": {
             "outlinewidth": 0,
             "ticks": ""
            },
            "colorscale": [
             [
              0,
              "#0d0887"
             ],
             [
              0.1111111111111111,
              "#46039f"
             ],
             [
              0.2222222222222222,
              "#7201a8"
             ],
             [
              0.3333333333333333,
              "#9c179e"
             ],
             [
              0.4444444444444444,
              "#bd3786"
             ],
             [
              0.5555555555555556,
              "#d8576b"
             ],
             [
              0.6666666666666666,
              "#ed7953"
             ],
             [
              0.7777777777777778,
              "#fb9f3a"
             ],
             [
              0.8888888888888888,
              "#fdca26"
             ],
             [
              1,
              "#f0f921"
             ]
            ],
            "type": "histogram2dcontour"
           }
          ],
          "mesh3d": [
           {
            "colorbar": {
             "outlinewidth": 0,
             "ticks": ""
            },
            "type": "mesh3d"
           }
          ],
          "parcoords": [
           {
            "line": {
             "colorbar": {
              "outlinewidth": 0,
              "ticks": ""
             }
            },
            "type": "parcoords"
           }
          ],
          "pie": [
           {
            "automargin": true,
            "type": "pie"
           }
          ],
          "scatter": [
           {
            "fillpattern": {
             "fillmode": "overlay",
             "size": 10,
             "solidity": 0.2
            },
            "type": "scatter"
           }
          ],
          "scatter3d": [
           {
            "line": {
             "colorbar": {
              "outlinewidth": 0,
              "ticks": ""
             }
            },
            "marker": {
             "colorbar": {
              "outlinewidth": 0,
              "ticks": ""
             }
            },
            "type": "scatter3d"
           }
          ],
          "scattercarpet": [
           {
            "marker": {
             "colorbar": {
              "outlinewidth": 0,
              "ticks": ""
             }
            },
            "type": "scattercarpet"
           }
          ],
          "scattergeo": [
           {
            "marker": {
             "colorbar": {
              "outlinewidth": 0,
              "ticks": ""
             }
            },
            "type": "scattergeo"
           }
          ],
          "scattergl": [
           {
            "marker": {
             "colorbar": {
              "outlinewidth": 0,
              "ticks": ""
             }
            },
            "type": "scattergl"
           }
          ],
          "scattermapbox": [
           {
            "marker": {
             "colorbar": {
              "outlinewidth": 0,
              "ticks": ""
             }
            },
            "type": "scattermapbox"
           }
          ],
          "scatterpolar": [
           {
            "marker": {
             "colorbar": {
              "outlinewidth": 0,
              "ticks": ""
             }
            },
            "type": "scatterpolar"
           }
          ],
          "scatterpolargl": [
           {
            "marker": {
             "colorbar": {
              "outlinewidth": 0,
              "ticks": ""
             }
            },
            "type": "scatterpolargl"
           }
          ],
          "scatterternary": [
           {
            "marker": {
             "colorbar": {
              "outlinewidth": 0,
              "ticks": ""
             }
            },
            "type": "scatterternary"
           }
          ],
          "surface": [
           {
            "colorbar": {
             "outlinewidth": 0,
             "ticks": ""
            },
            "colorscale": [
             [
              0,
              "#0d0887"
             ],
             [
              0.1111111111111111,
              "#46039f"
             ],
             [
              0.2222222222222222,
              "#7201a8"
             ],
             [
              0.3333333333333333,
              "#9c179e"
             ],
             [
              0.4444444444444444,
              "#bd3786"
             ],
             [
              0.5555555555555556,
              "#d8576b"
             ],
             [
              0.6666666666666666,
              "#ed7953"
             ],
             [
              0.7777777777777778,
              "#fb9f3a"
             ],
             [
              0.8888888888888888,
              "#fdca26"
             ],
             [
              1,
              "#f0f921"
             ]
            ],
            "type": "surface"
           }
          ],
          "table": [
           {
            "cells": {
             "fill": {
              "color": "#EBF0F8"
             },
             "line": {
              "color": "white"
             }
            },
            "header": {
             "fill": {
              "color": "#C8D4E3"
             },
             "line": {
              "color": "white"
             }
            },
            "type": "table"
           }
          ]
         },
         "layout": {
          "annotationdefaults": {
           "arrowcolor": "#2a3f5f",
           "arrowhead": 0,
           "arrowwidth": 1
          },
          "autotypenumbers": "strict",
          "coloraxis": {
           "colorbar": {
            "outlinewidth": 0,
            "ticks": ""
           }
          },
          "colorscale": {
           "diverging": [
            [
             0,
             "#8e0152"
            ],
            [
             0.1,
             "#c51b7d"
            ],
            [
             0.2,
             "#de77ae"
            ],
            [
             0.3,
             "#f1b6da"
            ],
            [
             0.4,
             "#fde0ef"
            ],
            [
             0.5,
             "#f7f7f7"
            ],
            [
             0.6,
             "#e6f5d0"
            ],
            [
             0.7,
             "#b8e186"
            ],
            [
             0.8,
             "#7fbc41"
            ],
            [
             0.9,
             "#4d9221"
            ],
            [
             1,
             "#276419"
            ]
           ],
           "sequential": [
            [
             0,
             "#0d0887"
            ],
            [
             0.1111111111111111,
             "#46039f"
            ],
            [
             0.2222222222222222,
             "#7201a8"
            ],
            [
             0.3333333333333333,
             "#9c179e"
            ],
            [
             0.4444444444444444,
             "#bd3786"
            ],
            [
             0.5555555555555556,
             "#d8576b"
            ],
            [
             0.6666666666666666,
             "#ed7953"
            ],
            [
             0.7777777777777778,
             "#fb9f3a"
            ],
            [
             0.8888888888888888,
             "#fdca26"
            ],
            [
             1,
             "#f0f921"
            ]
           ],
           "sequentialminus": [
            [
             0,
             "#0d0887"
            ],
            [
             0.1111111111111111,
             "#46039f"
            ],
            [
             0.2222222222222222,
             "#7201a8"
            ],
            [
             0.3333333333333333,
             "#9c179e"
            ],
            [
             0.4444444444444444,
             "#bd3786"
            ],
            [
             0.5555555555555556,
             "#d8576b"
            ],
            [
             0.6666666666666666,
             "#ed7953"
            ],
            [
             0.7777777777777778,
             "#fb9f3a"
            ],
            [
             0.8888888888888888,
             "#fdca26"
            ],
            [
             1,
             "#f0f921"
            ]
           ]
          },
          "colorway": [
           "#636efa",
           "#EF553B",
           "#00cc96",
           "#ab63fa",
           "#FFA15A",
           "#19d3f3",
           "#FF6692",
           "#B6E880",
           "#FF97FF",
           "#FECB52"
          ],
          "font": {
           "color": "#2a3f5f"
          },
          "geo": {
           "bgcolor": "white",
           "lakecolor": "white",
           "landcolor": "#E5ECF6",
           "showlakes": true,
           "showland": true,
           "subunitcolor": "white"
          },
          "hoverlabel": {
           "align": "left"
          },
          "hovermode": "closest",
          "mapbox": {
           "style": "light"
          },
          "paper_bgcolor": "white",
          "plot_bgcolor": "#E5ECF6",
          "polar": {
           "angularaxis": {
            "gridcolor": "white",
            "linecolor": "white",
            "ticks": ""
           },
           "bgcolor": "#E5ECF6",
           "radialaxis": {
            "gridcolor": "white",
            "linecolor": "white",
            "ticks": ""
           }
          },
          "scene": {
           "xaxis": {
            "backgroundcolor": "#E5ECF6",
            "gridcolor": "white",
            "gridwidth": 2,
            "linecolor": "white",
            "showbackground": true,
            "ticks": "",
            "zerolinecolor": "white"
           },
           "yaxis": {
            "backgroundcolor": "#E5ECF6",
            "gridcolor": "white",
            "gridwidth": 2,
            "linecolor": "white",
            "showbackground": true,
            "ticks": "",
            "zerolinecolor": "white"
           },
           "zaxis": {
            "backgroundcolor": "#E5ECF6",
            "gridcolor": "white",
            "gridwidth": 2,
            "linecolor": "white",
            "showbackground": true,
            "ticks": "",
            "zerolinecolor": "white"
           }
          },
          "shapedefaults": {
           "line": {
            "color": "#2a3f5f"
           }
          },
          "ternary": {
           "aaxis": {
            "gridcolor": "white",
            "linecolor": "white",
            "ticks": ""
           },
           "baxis": {
            "gridcolor": "white",
            "linecolor": "white",
            "ticks": ""
           },
           "bgcolor": "#E5ECF6",
           "caxis": {
            "gridcolor": "white",
            "linecolor": "white",
            "ticks": ""
           }
          },
          "title": {
           "x": 0.05
          },
          "xaxis": {
           "automargin": true,
           "gridcolor": "white",
           "linecolor": "white",
           "ticks": "",
           "title": {
            "standoff": 15
           },
           "zerolinecolor": "white",
           "zerolinewidth": 2
          },
          "yaxis": {
           "automargin": true,
           "gridcolor": "white",
           "linecolor": "white",
           "ticks": "",
           "title": {
            "standoff": 15
           },
           "zerolinecolor": "white",
           "zerolinewidth": 2
          }
         }
        },
        "title": {
         "text": "Marital Status Distribution",
         "x": 0.5,
         "xanchor": "center",
         "y": 0.95,
         "yanchor": "top"
        }
       }
      }
     },
     "metadata": {},
     "output_type": "display_data"
    }
   ],
   "source": [
    "# show is_married distribution\n",
    "is_married_distribution_fig = px.pie(\n",
    "    df,\n",
    "    names=\"is_married\",\n",
    "    title=\"Marital Status Distribution\",\n",
    "    hole=0.3,  # Set the size of the hole in the pie chart\n",
    "    labels=[\"Not Married\", \"Married\"],  # Custom labels for the pie chart\n",
    ")\n",
    "\n",
    "# Customize layout for better presentation\n",
    "is_married_distribution_fig.update_layout(\n",
    "    title={\n",
    "        \"text\": \"Marital Status Distribution\",\n",
    "        \"y\": 0.95,\n",
    "        \"x\": 0.5,\n",
    "        \"xanchor\": \"center\",\n",
    "        \"yanchor\": \"top\",\n",
    "    },\n",
    ")\n",
    "\n",
    "# Display the pie chart\n",
    "is_married_distribution_fig.show()"
   ]
  },
  {
   "cell_type": "markdown",
   "metadata": {},
   "source": [
    "Almost equal again."
   ]
  },
  {
   "cell_type": "code",
   "execution_count": 9,
   "metadata": {},
   "outputs": [
    {
     "data": {
      "application/vnd.plotly.v1+json": {
       "config": {
        "plotlyServerURL": "https://plot.ly"
       },
       "data": [
        {
         "domain": {
          "x": [
           0,
           1
          ],
          "y": [
           0,
           1
          ]
         },
         "hole": 0.3,
         "hovertemplate": "gender=%{label}<extra></extra>",
         "labels": [
          "F",
          "F",
          "M",
          "M",
          "F",
          "M",
          "M",
          "F",
          "F",
          "F",
          "M",
          "M",
          "M",
          "M",
          "M",
          "F",
          "F",
          "M",
          "F",
          "F",
          "M",
          "F",
          "M",
          "F",
          "F",
          "M",
          "M",
          "F",
          "M",
          "M",
          "M",
          "F",
          "M",
          "F",
          "F",
          "F",
          "F",
          "F",
          "M",
          "M",
          "F",
          "M",
          "F",
          "F",
          "M",
          "F",
          "F",
          "F",
          "M",
          "M",
          "F",
          "F",
          "F",
          "F",
          "F",
          "M",
          "M",
          "F",
          "M",
          "M",
          "M",
          "M",
          "F",
          "M",
          "F",
          "F",
          "M",
          "F",
          "F",
          "M",
          "F",
          "M",
          "F",
          "M",
          "F",
          "F",
          "F",
          "F",
          "M",
          "M",
          "M",
          "F",
          "F",
          "M",
          "M",
          "F",
          "F",
          "F",
          "M",
          "F",
          "F",
          "M",
          "M",
          "M",
          "M",
          "F",
          "F",
          "M",
          "M",
          "M",
          "F",
          "M",
          "F",
          "M",
          "M",
          "M",
          "F",
          "M",
          "F",
          "F",
          "M",
          "M",
          "M",
          "F",
          "M",
          "M",
          "F",
          "M",
          "F",
          "F",
          "M",
          "F",
          "F",
          "F",
          "F",
          "M",
          "M",
          "F",
          "M",
          "M",
          "F",
          "F",
          "F",
          "M",
          "F",
          "M",
          "M",
          "F",
          "M",
          "F",
          "M",
          "F",
          "M",
          "F",
          "M",
          "M",
          "F",
          "M",
          "M",
          "F",
          "M",
          "M",
          "M",
          "F",
          "F",
          "M",
          "F",
          "F",
          "M",
          "M",
          "M",
          "M",
          "F",
          "M",
          "M",
          "F",
          "F",
          "M",
          "F",
          "F",
          "F",
          "M",
          "M",
          "M",
          "M",
          "F",
          "M",
          "F",
          "M",
          "M",
          "F",
          "F",
          "F",
          "F",
          "F",
          "F",
          "M",
          "F",
          "M",
          "M",
          "M",
          "M",
          "M",
          "F",
          "F",
          "M",
          "F",
          "F",
          "M",
          "M",
          "F",
          "F",
          "M",
          "F",
          "F",
          "F",
          "M",
          "M",
          "M",
          "M",
          "M",
          "F",
          "F",
          "F",
          "F",
          "M",
          "F",
          "F",
          "F",
          "F",
          "M",
          "M",
          "F",
          "F",
          "M",
          "F",
          "M",
          "M",
          "F",
          "F",
          "F",
          "M",
          "F",
          "F",
          "F",
          "F",
          "F",
          "F",
          "M",
          "F",
          "M",
          "M",
          "F",
          "F",
          "M",
          "M",
          "F",
          "M",
          "M",
          "M",
          "F",
          "M",
          "F",
          "M",
          "F",
          "M",
          "M",
          "F",
          "F",
          "F",
          "M",
          "M",
          "M",
          "M",
          "M",
          "M",
          "F",
          "F",
          "F",
          "M",
          "M",
          "F",
          "F",
          "F",
          "M",
          "F",
          "M",
          "M",
          "F",
          "F",
          "F",
          "F",
          "M",
          "M",
          "F",
          "M",
          "M",
          "M",
          "M",
          "F",
          "F",
          "F",
          "M",
          "M",
          "F",
          "F",
          "F",
          "F",
          "F",
          "M",
          "M",
          "F",
          "F",
          "M",
          "M",
          "F",
          "F",
          "M",
          "M",
          "F",
          "F",
          "M",
          "M",
          "F",
          "M",
          "F",
          "M",
          "M",
          "M",
          "M",
          "F",
          "F",
          "F",
          "M",
          "F",
          "F",
          "M",
          "F",
          "M",
          "M",
          "F",
          "M",
          "F",
          "M",
          "F",
          "F",
          "F",
          "F",
          "F",
          "M",
          "M",
          "F",
          "F",
          "F",
          "F",
          "F",
          "M",
          "M",
          "F",
          "M",
          "F",
          "M",
          "M",
          "F",
          "M",
          "F",
          "M",
          "M",
          "F",
          "F",
          "M",
          "F",
          "M",
          "F",
          "M",
          "M",
          "M",
          "F",
          "M",
          "M",
          "F",
          "F",
          "M",
          "F",
          "M",
          "M",
          "F",
          "M",
          "F",
          "M",
          "F",
          "M",
          "M",
          "M",
          "F",
          "M",
          "F",
          "M",
          "F",
          "M",
          "F",
          "F",
          "F",
          "M",
          "M",
          "F",
          "M",
          "M",
          "M",
          "M",
          "F",
          "F",
          "M",
          "M",
          "M",
          "M",
          "M",
          "F",
          "F",
          "M",
          "M",
          "M",
          "M",
          "M",
          "M",
          "M",
          "M",
          "M",
          "F",
          "M",
          "M",
          "M",
          "M",
          "M",
          "M",
          "F",
          "F",
          "M",
          "F",
          "F",
          "F",
          "F",
          "F",
          "M",
          "M",
          "F",
          "F",
          "M",
          "F",
          "F",
          "M",
          "F",
          "F",
          "F",
          "F",
          "M",
          "M",
          "F",
          "F",
          "F",
          "F",
          "F",
          "F",
          "M",
          "M",
          "F",
          "M",
          "M",
          "M",
          "F",
          "M",
          "F",
          "M",
          "F",
          "F",
          "M",
          "F",
          "M",
          "F",
          "M",
          "F",
          "F",
          "M",
          "F",
          "F",
          "M",
          "M",
          "M",
          "F",
          "M",
          "M",
          "F",
          "M",
          "M",
          "F",
          "F",
          "F",
          "M",
          "F",
          "F",
          "F",
          "M",
          "F",
          "F",
          "M",
          "F",
          "F",
          "M",
          "F",
          "M",
          "F",
          "F",
          "F",
          "F",
          "F",
          "F",
          "F",
          "M",
          "M",
          "F",
          "F",
          "F",
          "F",
          "M",
          "M",
          "M",
          "M",
          "M",
          "F",
          "M",
          "F",
          "F",
          "F",
          "F",
          "F",
          "M",
          "M",
          "M",
          "M",
          "F",
          "F",
          "M",
          "F",
          "M",
          "F",
          "M",
          "M",
          "F",
          "M",
          "M",
          "F",
          "M",
          "M",
          "M",
          "F",
          "F",
          "M",
          "F",
          "F",
          "M",
          "M",
          "F",
          "F",
          "F",
          "M",
          "F",
          "M",
          "F",
          "M",
          "F",
          "F",
          "F",
          "F",
          "F",
          "M",
          "M",
          "M",
          "F",
          "M",
          "M",
          "F",
          "F",
          "F",
          "M",
          "M",
          "M",
          "M",
          "F",
          "M",
          "F",
          "F",
          "F",
          "M",
          "M",
          "F",
          "F",
          "M",
          "M",
          "F",
          "F",
          "F",
          "M",
          "M",
          "M",
          "F",
          "M",
          "F",
          "F",
          "F",
          "F",
          "F",
          "F",
          "F",
          "F",
          "F",
          "F",
          "M",
          "M",
          "F",
          "F",
          "M",
          "M",
          "M",
          "M",
          "F",
          "M",
          "M",
          "M",
          "M",
          "F",
          "F",
          "F",
          "M",
          "F",
          "M",
          "M",
          "M",
          "F",
          "F",
          "M",
          "F",
          "M",
          "M",
          "F",
          "M",
          "M",
          "M",
          "F",
          "M",
          "F",
          "F",
          "F",
          "F",
          "F",
          "F",
          "M",
          "M",
          "F",
          "F",
          "M",
          "F",
          "M",
          "M",
          "F",
          "F",
          "M",
          "M",
          "F",
          "M",
          "F",
          "M",
          "M",
          "M",
          "F",
          "M",
          "M",
          "M",
          "F",
          "M",
          "F",
          "M",
          "M",
          "F",
          "M",
          "M",
          "F",
          "M",
          "F",
          "F",
          "M",
          "M",
          "F",
          "F",
          "M",
          "M",
          "M",
          "M",
          "M",
          "F",
          "F",
          "F",
          "F",
          "F",
          "M",
          "F",
          "M",
          "F",
          "F",
          "F",
          "M",
          "M",
          "M",
          "M",
          "F",
          "M",
          "F",
          "F",
          "M",
          "F",
          "F",
          "M",
          "M",
          "M",
          "F",
          "M",
          "M",
          "M",
          "F",
          "F",
          "M",
          "M",
          "M",
          "M",
          "M",
          "F",
          "M",
          "M",
          "M",
          "F",
          "F",
          "F",
          "M",
          "M",
          "M",
          "M",
          "M",
          "F",
          "F",
          "M",
          "M",
          "M",
          "F",
          "M",
          "F",
          "F",
          "M",
          "M",
          "F",
          "F",
          "M",
          "M",
          "M",
          "M",
          "F",
          "F",
          "M",
          "F",
          "F",
          "M",
          "F",
          "M",
          "M",
          "M",
          "M",
          "M",
          "M",
          "M",
          "M",
          "F",
          "M",
          "M",
          "M",
          "M",
          "F",
          "M",
          "F",
          "F",
          "M",
          "F",
          "M",
          "M",
          "M",
          "M",
          "M",
          "M",
          "M",
          "M",
          "M",
          "F",
          "M",
          "F",
          "M",
          "F",
          "F",
          "F",
          "M",
          "M",
          "M",
          "M",
          "M",
          "M",
          "F",
          "M",
          "M",
          "F",
          "M",
          "M",
          "M",
          "F",
          "M",
          "M",
          "F",
          "F",
          "F",
          "M",
          "M",
          "F",
          "M",
          "M",
          "F",
          "M",
          "M",
          "M",
          "F",
          "F",
          "M",
          "F",
          "F",
          "M",
          "M",
          "F",
          "M",
          "M",
          "M",
          "F",
          "M",
          "M",
          "M",
          "F",
          "F",
          "F",
          "F",
          "F",
          "M",
          "F",
          "M",
          "F",
          "M",
          "F",
          "M",
          "M",
          "F",
          "M",
          "F",
          "M",
          "M",
          "F",
          "M",
          "F",
          "M",
          "M",
          "M",
          "M",
          "M",
          "F",
          "F",
          "F",
          "M",
          "F",
          "M",
          "F",
          "M",
          "M",
          "F",
          "F",
          "M",
          "F",
          "F",
          "M",
          "M",
          "M",
          "F",
          "F",
          "F",
          "M",
          "M",
          "F",
          "M",
          "M",
          "M",
          "F",
          "M",
          "F",
          "M",
          "M",
          "M",
          "M",
          "F",
          "F",
          "M",
          "F",
          "M",
          "F",
          "M",
          "M",
          "F",
          "F",
          "F",
          "M",
          "F",
          "M",
          "F",
          "M",
          "M",
          "M",
          "M",
          "M",
          "F",
          "M",
          "M",
          "M",
          "F",
          "M",
          "F",
          "F",
          "M",
          "M",
          "F",
          "M",
          "F",
          "F",
          "M",
          "F",
          "F",
          "M",
          "M",
          "F",
          "M",
          "F",
          "F",
          "M",
          "M",
          "M",
          "M",
          "F",
          "M",
          "F",
          "F",
          "M",
          "F",
          "F",
          "F",
          "F",
          "M",
          "F",
          "F",
          "M",
          "M",
          "F",
          "F",
          "F",
          "M",
          "F",
          "F",
          "M",
          "F",
          "F",
          "M",
          "M",
          "F",
          "M",
          "M",
          "F",
          "F",
          "M",
          "F",
          "F",
          "F",
          "M",
          "M",
          "F",
          "F",
          "M",
          "M",
          "F",
          "F",
          "M",
          "F",
          "F",
          "M",
          "F",
          "M",
          "F",
          "M",
          "F",
          "M",
          "M",
          "M",
          "M",
          "M"
         ],
         "legendgroup": "",
         "name": "",
         "showlegend": true,
         "type": "pie"
        }
       ],
       "layout": {
        "legend": {
         "tracegroupgap": 0
        },
        "template": {
         "data": {
          "bar": [
           {
            "error_x": {
             "color": "#2a3f5f"
            },
            "error_y": {
             "color": "#2a3f5f"
            },
            "marker": {
             "line": {
              "color": "#E5ECF6",
              "width": 0.5
             },
             "pattern": {
              "fillmode": "overlay",
              "size": 10,
              "solidity": 0.2
             }
            },
            "type": "bar"
           }
          ],
          "barpolar": [
           {
            "marker": {
             "line": {
              "color": "#E5ECF6",
              "width": 0.5
             },
             "pattern": {
              "fillmode": "overlay",
              "size": 10,
              "solidity": 0.2
             }
            },
            "type": "barpolar"
           }
          ],
          "carpet": [
           {
            "aaxis": {
             "endlinecolor": "#2a3f5f",
             "gridcolor": "white",
             "linecolor": "white",
             "minorgridcolor": "white",
             "startlinecolor": "#2a3f5f"
            },
            "baxis": {
             "endlinecolor": "#2a3f5f",
             "gridcolor": "white",
             "linecolor": "white",
             "minorgridcolor": "white",
             "startlinecolor": "#2a3f5f"
            },
            "type": "carpet"
           }
          ],
          "choropleth": [
           {
            "colorbar": {
             "outlinewidth": 0,
             "ticks": ""
            },
            "type": "choropleth"
           }
          ],
          "contour": [
           {
            "colorbar": {
             "outlinewidth": 0,
             "ticks": ""
            },
            "colorscale": [
             [
              0,
              "#0d0887"
             ],
             [
              0.1111111111111111,
              "#46039f"
             ],
             [
              0.2222222222222222,
              "#7201a8"
             ],
             [
              0.3333333333333333,
              "#9c179e"
             ],
             [
              0.4444444444444444,
              "#bd3786"
             ],
             [
              0.5555555555555556,
              "#d8576b"
             ],
             [
              0.6666666666666666,
              "#ed7953"
             ],
             [
              0.7777777777777778,
              "#fb9f3a"
             ],
             [
              0.8888888888888888,
              "#fdca26"
             ],
             [
              1,
              "#f0f921"
             ]
            ],
            "type": "contour"
           }
          ],
          "contourcarpet": [
           {
            "colorbar": {
             "outlinewidth": 0,
             "ticks": ""
            },
            "type": "contourcarpet"
           }
          ],
          "heatmap": [
           {
            "colorbar": {
             "outlinewidth": 0,
             "ticks": ""
            },
            "colorscale": [
             [
              0,
              "#0d0887"
             ],
             [
              0.1111111111111111,
              "#46039f"
             ],
             [
              0.2222222222222222,
              "#7201a8"
             ],
             [
              0.3333333333333333,
              "#9c179e"
             ],
             [
              0.4444444444444444,
              "#bd3786"
             ],
             [
              0.5555555555555556,
              "#d8576b"
             ],
             [
              0.6666666666666666,
              "#ed7953"
             ],
             [
              0.7777777777777778,
              "#fb9f3a"
             ],
             [
              0.8888888888888888,
              "#fdca26"
             ],
             [
              1,
              "#f0f921"
             ]
            ],
            "type": "heatmap"
           }
          ],
          "heatmapgl": [
           {
            "colorbar": {
             "outlinewidth": 0,
             "ticks": ""
            },
            "colorscale": [
             [
              0,
              "#0d0887"
             ],
             [
              0.1111111111111111,
              "#46039f"
             ],
             [
              0.2222222222222222,
              "#7201a8"
             ],
             [
              0.3333333333333333,
              "#9c179e"
             ],
             [
              0.4444444444444444,
              "#bd3786"
             ],
             [
              0.5555555555555556,
              "#d8576b"
             ],
             [
              0.6666666666666666,
              "#ed7953"
             ],
             [
              0.7777777777777778,
              "#fb9f3a"
             ],
             [
              0.8888888888888888,
              "#fdca26"
             ],
             [
              1,
              "#f0f921"
             ]
            ],
            "type": "heatmapgl"
           }
          ],
          "histogram": [
           {
            "marker": {
             "pattern": {
              "fillmode": "overlay",
              "size": 10,
              "solidity": 0.2
             }
            },
            "type": "histogram"
           }
          ],
          "histogram2d": [
           {
            "colorbar": {
             "outlinewidth": 0,
             "ticks": ""
            },
            "colorscale": [
             [
              0,
              "#0d0887"
             ],
             [
              0.1111111111111111,
              "#46039f"
             ],
             [
              0.2222222222222222,
              "#7201a8"
             ],
             [
              0.3333333333333333,
              "#9c179e"
             ],
             [
              0.4444444444444444,
              "#bd3786"
             ],
             [
              0.5555555555555556,
              "#d8576b"
             ],
             [
              0.6666666666666666,
              "#ed7953"
             ],
             [
              0.7777777777777778,
              "#fb9f3a"
             ],
             [
              0.8888888888888888,
              "#fdca26"
             ],
             [
              1,
              "#f0f921"
             ]
            ],
            "type": "histogram2d"
           }
          ],
          "histogram2dcontour": [
           {
            "colorbar": {
             "outlinewidth": 0,
             "ticks": ""
            },
            "colorscale": [
             [
              0,
              "#0d0887"
             ],
             [
              0.1111111111111111,
              "#46039f"
             ],
             [
              0.2222222222222222,
              "#7201a8"
             ],
             [
              0.3333333333333333,
              "#9c179e"
             ],
             [
              0.4444444444444444,
              "#bd3786"
             ],
             [
              0.5555555555555556,
              "#d8576b"
             ],
             [
              0.6666666666666666,
              "#ed7953"
             ],
             [
              0.7777777777777778,
              "#fb9f3a"
             ],
             [
              0.8888888888888888,
              "#fdca26"
             ],
             [
              1,
              "#f0f921"
             ]
            ],
            "type": "histogram2dcontour"
           }
          ],
          "mesh3d": [
           {
            "colorbar": {
             "outlinewidth": 0,
             "ticks": ""
            },
            "type": "mesh3d"
           }
          ],
          "parcoords": [
           {
            "line": {
             "colorbar": {
              "outlinewidth": 0,
              "ticks": ""
             }
            },
            "type": "parcoords"
           }
          ],
          "pie": [
           {
            "automargin": true,
            "type": "pie"
           }
          ],
          "scatter": [
           {
            "fillpattern": {
             "fillmode": "overlay",
             "size": 10,
             "solidity": 0.2
            },
            "type": "scatter"
           }
          ],
          "scatter3d": [
           {
            "line": {
             "colorbar": {
              "outlinewidth": 0,
              "ticks": ""
             }
            },
            "marker": {
             "colorbar": {
              "outlinewidth": 0,
              "ticks": ""
             }
            },
            "type": "scatter3d"
           }
          ],
          "scattercarpet": [
           {
            "marker": {
             "colorbar": {
              "outlinewidth": 0,
              "ticks": ""
             }
            },
            "type": "scattercarpet"
           }
          ],
          "scattergeo": [
           {
            "marker": {
             "colorbar": {
              "outlinewidth": 0,
              "ticks": ""
             }
            },
            "type": "scattergeo"
           }
          ],
          "scattergl": [
           {
            "marker": {
             "colorbar": {
              "outlinewidth": 0,
              "ticks": ""
             }
            },
            "type": "scattergl"
           }
          ],
          "scattermapbox": [
           {
            "marker": {
             "colorbar": {
              "outlinewidth": 0,
              "ticks": ""
             }
            },
            "type": "scattermapbox"
           }
          ],
          "scatterpolar": [
           {
            "marker": {
             "colorbar": {
              "outlinewidth": 0,
              "ticks": ""
             }
            },
            "type": "scatterpolar"
           }
          ],
          "scatterpolargl": [
           {
            "marker": {
             "colorbar": {
              "outlinewidth": 0,
              "ticks": ""
             }
            },
            "type": "scatterpolargl"
           }
          ],
          "scatterternary": [
           {
            "marker": {
             "colorbar": {
              "outlinewidth": 0,
              "ticks": ""
             }
            },
            "type": "scatterternary"
           }
          ],
          "surface": [
           {
            "colorbar": {
             "outlinewidth": 0,
             "ticks": ""
            },
            "colorscale": [
             [
              0,
              "#0d0887"
             ],
             [
              0.1111111111111111,
              "#46039f"
             ],
             [
              0.2222222222222222,
              "#7201a8"
             ],
             [
              0.3333333333333333,
              "#9c179e"
             ],
             [
              0.4444444444444444,
              "#bd3786"
             ],
             [
              0.5555555555555556,
              "#d8576b"
             ],
             [
              0.6666666666666666,
              "#ed7953"
             ],
             [
              0.7777777777777778,
              "#fb9f3a"
             ],
             [
              0.8888888888888888,
              "#fdca26"
             ],
             [
              1,
              "#f0f921"
             ]
            ],
            "type": "surface"
           }
          ],
          "table": [
           {
            "cells": {
             "fill": {
              "color": "#EBF0F8"
             },
             "line": {
              "color": "white"
             }
            },
            "header": {
             "fill": {
              "color": "#C8D4E3"
             },
             "line": {
              "color": "white"
             }
            },
            "type": "table"
           }
          ]
         },
         "layout": {
          "annotationdefaults": {
           "arrowcolor": "#2a3f5f",
           "arrowhead": 0,
           "arrowwidth": 1
          },
          "autotypenumbers": "strict",
          "coloraxis": {
           "colorbar": {
            "outlinewidth": 0,
            "ticks": ""
           }
          },
          "colorscale": {
           "diverging": [
            [
             0,
             "#8e0152"
            ],
            [
             0.1,
             "#c51b7d"
            ],
            [
             0.2,
             "#de77ae"
            ],
            [
             0.3,
             "#f1b6da"
            ],
            [
             0.4,
             "#fde0ef"
            ],
            [
             0.5,
             "#f7f7f7"
            ],
            [
             0.6,
             "#e6f5d0"
            ],
            [
             0.7,
             "#b8e186"
            ],
            [
             0.8,
             "#7fbc41"
            ],
            [
             0.9,
             "#4d9221"
            ],
            [
             1,
             "#276419"
            ]
           ],
           "sequential": [
            [
             0,
             "#0d0887"
            ],
            [
             0.1111111111111111,
             "#46039f"
            ],
            [
             0.2222222222222222,
             "#7201a8"
            ],
            [
             0.3333333333333333,
             "#9c179e"
            ],
            [
             0.4444444444444444,
             "#bd3786"
            ],
            [
             0.5555555555555556,
             "#d8576b"
            ],
            [
             0.6666666666666666,
             "#ed7953"
            ],
            [
             0.7777777777777778,
             "#fb9f3a"
            ],
            [
             0.8888888888888888,
             "#fdca26"
            ],
            [
             1,
             "#f0f921"
            ]
           ],
           "sequentialminus": [
            [
             0,
             "#0d0887"
            ],
            [
             0.1111111111111111,
             "#46039f"
            ],
            [
             0.2222222222222222,
             "#7201a8"
            ],
            [
             0.3333333333333333,
             "#9c179e"
            ],
            [
             0.4444444444444444,
             "#bd3786"
            ],
            [
             0.5555555555555556,
             "#d8576b"
            ],
            [
             0.6666666666666666,
             "#ed7953"
            ],
            [
             0.7777777777777778,
             "#fb9f3a"
            ],
            [
             0.8888888888888888,
             "#fdca26"
            ],
            [
             1,
             "#f0f921"
            ]
           ]
          },
          "colorway": [
           "#636efa",
           "#EF553B",
           "#00cc96",
           "#ab63fa",
           "#FFA15A",
           "#19d3f3",
           "#FF6692",
           "#B6E880",
           "#FF97FF",
           "#FECB52"
          ],
          "font": {
           "color": "#2a3f5f"
          },
          "geo": {
           "bgcolor": "white",
           "lakecolor": "white",
           "landcolor": "#E5ECF6",
           "showlakes": true,
           "showland": true,
           "subunitcolor": "white"
          },
          "hoverlabel": {
           "align": "left"
          },
          "hovermode": "closest",
          "mapbox": {
           "style": "light"
          },
          "paper_bgcolor": "white",
          "plot_bgcolor": "#E5ECF6",
          "polar": {
           "angularaxis": {
            "gridcolor": "white",
            "linecolor": "white",
            "ticks": ""
           },
           "bgcolor": "#E5ECF6",
           "radialaxis": {
            "gridcolor": "white",
            "linecolor": "white",
            "ticks": ""
           }
          },
          "scene": {
           "xaxis": {
            "backgroundcolor": "#E5ECF6",
            "gridcolor": "white",
            "gridwidth": 2,
            "linecolor": "white",
            "showbackground": true,
            "ticks": "",
            "zerolinecolor": "white"
           },
           "yaxis": {
            "backgroundcolor": "#E5ECF6",
            "gridcolor": "white",
            "gridwidth": 2,
            "linecolor": "white",
            "showbackground": true,
            "ticks": "",
            "zerolinecolor": "white"
           },
           "zaxis": {
            "backgroundcolor": "#E5ECF6",
            "gridcolor": "white",
            "gridwidth": 2,
            "linecolor": "white",
            "showbackground": true,
            "ticks": "",
            "zerolinecolor": "white"
           }
          },
          "shapedefaults": {
           "line": {
            "color": "#2a3f5f"
           }
          },
          "ternary": {
           "aaxis": {
            "gridcolor": "white",
            "linecolor": "white",
            "ticks": ""
           },
           "baxis": {
            "gridcolor": "white",
            "linecolor": "white",
            "ticks": ""
           },
           "bgcolor": "#E5ECF6",
           "caxis": {
            "gridcolor": "white",
            "linecolor": "white",
            "ticks": ""
           }
          },
          "title": {
           "x": 0.05
          },
          "xaxis": {
           "automargin": true,
           "gridcolor": "white",
           "linecolor": "white",
           "ticks": "",
           "title": {
            "standoff": 15
           },
           "zerolinecolor": "white",
           "zerolinewidth": 2
          },
          "yaxis": {
           "automargin": true,
           "gridcolor": "white",
           "linecolor": "white",
           "ticks": "",
           "title": {
            "standoff": 15
           },
           "zerolinecolor": "white",
           "zerolinewidth": 2
          }
         }
        },
        "title": {
         "text": "Gender Distribution",
         "x": 0.5,
         "xanchor": "center",
         "y": 0.95,
         "yanchor": "top"
        }
       }
      }
     },
     "metadata": {},
     "output_type": "display_data"
    }
   ],
   "source": [
    "# show gender distribution\n",
    "gender_distribution_fig = px.pie(\n",
    "    df,\n",
    "    names=\"gender\",\n",
    "    title=\"Gender Distribution\",\n",
    "    hole=0.3,\n",
    "    labels=[\"Male\", \"Female\"],\n",
    ")\n",
    "\n",
    "# Customize layout for better presentation\n",
    "gender_distribution_fig.update_layout(\n",
    "    title={\n",
    "        \"text\": \"Gender Distribution\",\n",
    "        \"y\": 0.95,\n",
    "        \"x\": 0.5,\n",
    "        \"xanchor\": \"center\",\n",
    "        \"yanchor\": \"top\",\n",
    "    },\n",
    ")\n",
    "\n",
    "# Display the pie chart\n",
    "gender_distribution_fig.show()"
   ]
  },
  {
   "cell_type": "markdown",
   "metadata": {},
   "source": [
    "We can see little shift to male. But nothing considered as a problem to fix."
   ]
  },
  {
   "cell_type": "code",
   "execution_count": 10,
   "metadata": {},
   "outputs": [
    {
     "data": {
      "application/vnd.plotly.v1+json": {
       "config": {
        "plotlyServerURL": "https://plot.ly"
       },
       "data": [
        {
         "alignmentgroup": "True",
         "bingroup": "x",
         "hovertemplate": "reside=%{x}<br>count=%{y}<extra></extra>",
         "legendgroup": "",
         "marker": {
          "color": "#636efa",
          "pattern": {
           "shape": ""
          }
         },
         "name": "",
         "offsetgroup": "",
         "orientation": "v",
         "showlegend": false,
         "texttemplate": "%{value}",
         "type": "histogram",
         "x": [
          2,
          6,
          2,
          1,
          4,
          1,
          5,
          3,
          5,
          3,
          1,
          1,
          3,
          3,
          2,
          4,
          1,
          3,
          1,
          4,
          1,
          2,
          2,
          3,
          5,
          3,
          1,
          4,
          3,
          2,
          2,
          2,
          4,
          3,
          2,
          2,
          1,
          2,
          2,
          1,
          1,
          1,
          5,
          6,
          4,
          2,
          5,
          2,
          4,
          1,
          5,
          4,
          1,
          5,
          2,
          5,
          1,
          2,
          1,
          4,
          2,
          4,
          1,
          2,
          1,
          2,
          6,
          2,
          4,
          1,
          2,
          1,
          1,
          3,
          2,
          1,
          2,
          1,
          1,
          1,
          2,
          1,
          2,
          1,
          4,
          4,
          1,
          2,
          1,
          2,
          3,
          1,
          2,
          1,
          4,
          1,
          2,
          3,
          2,
          1,
          5,
          6,
          1,
          3,
          1,
          1,
          1,
          1,
          1,
          3,
          3,
          5,
          1,
          2,
          1,
          1,
          1,
          5,
          1,
          1,
          1,
          1,
          2,
          3,
          3,
          1,
          3,
          5,
          4,
          2,
          2,
          5,
          3,
          4,
          1,
          1,
          1,
          2,
          3,
          1,
          4,
          3,
          3,
          2,
          1,
          2,
          6,
          2,
          5,
          1,
          3,
          1,
          1,
          1,
          1,
          5,
          1,
          1,
          5,
          2,
          2,
          3,
          2,
          2,
          1,
          2,
          4,
          5,
          1,
          1,
          2,
          2,
          2,
          3,
          2,
          3,
          1,
          2,
          3,
          1,
          2,
          2,
          4,
          2,
          1,
          3,
          2,
          4,
          6,
          3,
          3,
          1,
          1,
          1,
          2,
          2,
          1,
          2,
          1,
          1,
          1,
          3,
          5,
          2,
          3,
          3,
          2,
          2,
          1,
          2,
          2,
          2,
          4,
          2,
          3,
          1,
          2,
          3,
          2,
          1,
          1,
          3,
          1,
          3,
          1,
          5,
          4,
          4,
          1,
          4,
          1,
          3,
          2,
          1,
          2,
          1,
          4,
          2,
          1,
          2,
          3,
          2,
          1,
          4,
          1,
          1,
          2,
          1,
          3,
          5,
          1,
          5,
          2,
          1,
          2,
          4,
          1,
          2,
          1,
          5,
          1,
          1,
          1,
          2,
          2,
          2,
          2,
          4,
          5,
          1,
          1,
          2,
          1,
          1,
          1,
          5,
          1,
          1,
          1,
          1,
          5,
          2,
          3,
          1,
          5,
          2,
          4,
          2,
          1,
          2,
          5,
          2,
          2,
          1,
          2,
          1,
          1,
          1,
          1,
          2,
          2,
          3,
          2,
          1,
          1,
          3,
          2,
          1,
          1,
          4,
          2,
          1,
          4,
          2,
          3,
          1,
          2,
          5,
          3,
          2,
          1,
          3,
          1,
          3,
          2,
          2,
          2,
          1,
          1,
          1,
          1,
          4,
          1,
          4,
          4,
          1,
          3,
          4,
          1,
          3,
          4,
          1,
          1,
          1,
          1,
          2,
          1,
          2,
          3,
          6,
          4,
          2,
          1,
          1,
          4,
          1,
          2,
          1,
          3,
          1,
          2,
          2,
          6,
          1,
          1,
          1,
          2,
          1,
          1,
          3,
          2,
          2,
          1,
          6,
          1,
          2,
          4,
          2,
          1,
          6,
          1,
          2,
          3,
          1,
          2,
          2,
          1,
          4,
          3,
          4,
          2,
          3,
          3,
          5,
          1,
          3,
          1,
          3,
          1,
          2,
          1,
          3,
          3,
          1,
          2,
          4,
          4,
          1,
          1,
          1,
          4,
          2,
          1,
          1,
          1,
          1,
          7,
          2,
          1,
          2,
          1,
          5,
          1,
          5,
          2,
          2,
          2,
          4,
          2,
          4,
          2,
          2,
          1,
          3,
          1,
          4,
          1,
          1,
          3,
          2,
          2,
          1,
          3,
          1,
          3,
          2,
          3,
          1,
          3,
          4,
          5,
          4,
          2,
          1,
          1,
          1,
          3,
          1,
          2,
          6,
          4,
          3,
          1,
          4,
          4,
          1,
          4,
          2,
          2,
          3,
          2,
          1,
          2,
          2,
          2,
          3,
          2,
          4,
          2,
          1,
          7,
          4,
          4,
          3,
          1,
          1,
          3,
          1,
          5,
          1,
          1,
          1,
          1,
          2,
          2,
          7,
          4,
          5,
          1,
          1,
          1,
          1,
          1,
          1,
          2,
          1,
          1,
          1,
          2,
          2,
          1,
          5,
          2,
          1,
          4,
          2,
          3,
          4,
          1,
          2,
          4,
          1,
          2,
          4,
          2,
          3,
          2,
          1,
          5,
          2,
          1,
          1,
          1,
          3,
          2,
          4,
          2,
          3,
          1,
          4,
          2,
          5,
          1,
          1,
          2,
          3,
          3,
          3,
          4,
          5,
          3,
          1,
          1,
          5,
          6,
          3,
          3,
          3,
          1,
          2,
          1,
          2,
          1,
          3,
          1,
          2,
          5,
          4,
          1,
          1,
          1,
          3,
          4,
          4,
          2,
          4,
          6,
          1,
          2,
          4,
          5,
          6,
          1,
          1,
          1,
          2,
          6,
          3,
          3,
          4,
          1,
          8,
          4,
          4,
          5,
          1,
          2,
          1,
          3,
          1,
          1,
          1,
          1,
          3,
          4,
          1,
          1,
          1,
          5,
          1,
          3,
          1,
          2,
          4,
          2,
          1,
          1,
          3,
          1,
          1,
          1,
          1,
          3,
          2,
          2,
          2,
          1,
          2,
          2,
          4,
          1,
          2,
          2,
          1,
          3,
          2,
          3,
          1,
          2,
          2,
          1,
          5,
          2,
          1,
          1,
          1,
          3,
          1,
          2,
          1,
          2,
          1,
          1,
          2,
          3,
          2,
          1,
          1,
          2,
          1,
          1,
          2,
          4,
          1,
          2,
          1,
          1,
          3,
          4,
          6,
          1,
          1,
          3,
          1,
          1,
          1,
          6,
          2,
          6,
          4,
          1,
          2,
          2,
          1,
          2,
          3,
          3,
          1,
          1,
          3,
          4,
          3,
          4,
          1,
          1,
          1,
          1,
          1,
          5,
          1,
          1,
          1,
          1,
          4,
          1,
          4,
          1,
          1,
          2,
          5,
          4,
          1,
          4,
          2,
          3,
          2,
          2,
          2,
          1,
          1,
          3,
          6,
          2,
          3,
          4,
          4,
          1,
          1,
          1,
          6,
          1,
          3,
          1,
          1,
          1,
          1,
          2,
          3,
          4,
          2,
          2,
          2,
          4,
          8,
          1,
          2,
          6,
          4,
          1,
          2,
          2,
          2,
          4,
          3,
          3,
          1,
          2,
          3,
          2,
          1,
          3,
          1,
          1,
          4,
          2,
          1,
          3,
          2,
          4,
          4,
          1,
          3,
          4,
          1,
          2,
          4,
          4,
          1,
          6,
          1,
          1,
          5,
          4,
          2,
          1,
          2,
          2,
          1,
          1,
          6,
          3,
          2,
          2,
          4,
          1,
          1,
          6,
          1,
          2,
          2,
          6,
          4,
          3,
          2,
          2,
          1,
          4,
          1,
          1,
          1,
          2,
          5,
          1,
          4,
          1,
          2,
          1,
          3,
          5,
          1,
          3,
          1,
          5,
          2,
          1,
          2,
          1,
          2,
          5,
          2,
          2,
          2,
          2,
          5,
          1,
          4,
          6,
          2,
          4,
          3,
          5,
          1,
          3,
          2,
          1,
          1,
          1,
          1,
          2,
          2,
          1,
          2,
          2,
          2,
          2,
          1,
          2,
          1,
          1,
          6,
          1,
          4,
          2,
          1,
          3,
          1,
          2,
          5,
          5,
          1,
          1,
          1,
          2,
          2,
          1,
          2,
          1,
          3,
          1,
          2,
          3,
          6,
          1,
          2,
          3,
          1,
          1,
          2,
          1,
          3,
          4,
          3,
          1,
          1,
          2,
          2,
          2,
          1,
          4,
          2,
          2,
          1,
          4,
          1,
          4,
          1,
          4,
          5,
          2,
          1,
          4,
          1,
          3,
          1,
          6,
          3,
          2,
          1,
          2,
          2,
          3,
          2,
          2,
          4,
          1,
          2,
          1,
          1,
          4,
          2,
          2,
          1,
          2,
          3,
          3,
          3,
          1,
          1,
          1,
          2,
          3,
          2,
          7,
          2,
          2,
          4,
          2,
          2,
          3,
          4,
          1,
          4,
          1,
          1,
          1,
          1,
          5,
          2,
          1,
          4,
          2,
          4,
          2,
          2,
          1,
          2,
          4,
          5,
          2,
          1,
          2,
          2,
          1,
          1,
          1,
          1,
          3,
          2,
          5,
          1,
          5,
          1,
          4,
          4,
          1,
          2,
          3,
          3,
          2,
          1,
          1,
          2,
          2,
          2,
          2,
          3,
          1,
          1,
          1,
          3
         ],
         "xaxis": "x",
         "yaxis": "y"
        }
       ],
       "layout": {
        "barmode": "relative",
        "legend": {
         "tracegroupgap": 0
        },
        "template": {
         "data": {
          "bar": [
           {
            "error_x": {
             "color": "#2a3f5f"
            },
            "error_y": {
             "color": "#2a3f5f"
            },
            "marker": {
             "line": {
              "color": "#E5ECF6",
              "width": 0.5
             },
             "pattern": {
              "fillmode": "overlay",
              "size": 10,
              "solidity": 0.2
             }
            },
            "type": "bar"
           }
          ],
          "barpolar": [
           {
            "marker": {
             "line": {
              "color": "#E5ECF6",
              "width": 0.5
             },
             "pattern": {
              "fillmode": "overlay",
              "size": 10,
              "solidity": 0.2
             }
            },
            "type": "barpolar"
           }
          ],
          "carpet": [
           {
            "aaxis": {
             "endlinecolor": "#2a3f5f",
             "gridcolor": "white",
             "linecolor": "white",
             "minorgridcolor": "white",
             "startlinecolor": "#2a3f5f"
            },
            "baxis": {
             "endlinecolor": "#2a3f5f",
             "gridcolor": "white",
             "linecolor": "white",
             "minorgridcolor": "white",
             "startlinecolor": "#2a3f5f"
            },
            "type": "carpet"
           }
          ],
          "choropleth": [
           {
            "colorbar": {
             "outlinewidth": 0,
             "ticks": ""
            },
            "type": "choropleth"
           }
          ],
          "contour": [
           {
            "colorbar": {
             "outlinewidth": 0,
             "ticks": ""
            },
            "colorscale": [
             [
              0,
              "#0d0887"
             ],
             [
              0.1111111111111111,
              "#46039f"
             ],
             [
              0.2222222222222222,
              "#7201a8"
             ],
             [
              0.3333333333333333,
              "#9c179e"
             ],
             [
              0.4444444444444444,
              "#bd3786"
             ],
             [
              0.5555555555555556,
              "#d8576b"
             ],
             [
              0.6666666666666666,
              "#ed7953"
             ],
             [
              0.7777777777777778,
              "#fb9f3a"
             ],
             [
              0.8888888888888888,
              "#fdca26"
             ],
             [
              1,
              "#f0f921"
             ]
            ],
            "type": "contour"
           }
          ],
          "contourcarpet": [
           {
            "colorbar": {
             "outlinewidth": 0,
             "ticks": ""
            },
            "type": "contourcarpet"
           }
          ],
          "heatmap": [
           {
            "colorbar": {
             "outlinewidth": 0,
             "ticks": ""
            },
            "colorscale": [
             [
              0,
              "#0d0887"
             ],
             [
              0.1111111111111111,
              "#46039f"
             ],
             [
              0.2222222222222222,
              "#7201a8"
             ],
             [
              0.3333333333333333,
              "#9c179e"
             ],
             [
              0.4444444444444444,
              "#bd3786"
             ],
             [
              0.5555555555555556,
              "#d8576b"
             ],
             [
              0.6666666666666666,
              "#ed7953"
             ],
             [
              0.7777777777777778,
              "#fb9f3a"
             ],
             [
              0.8888888888888888,
              "#fdca26"
             ],
             [
              1,
              "#f0f921"
             ]
            ],
            "type": "heatmap"
           }
          ],
          "heatmapgl": [
           {
            "colorbar": {
             "outlinewidth": 0,
             "ticks": ""
            },
            "colorscale": [
             [
              0,
              "#0d0887"
             ],
             [
              0.1111111111111111,
              "#46039f"
             ],
             [
              0.2222222222222222,
              "#7201a8"
             ],
             [
              0.3333333333333333,
              "#9c179e"
             ],
             [
              0.4444444444444444,
              "#bd3786"
             ],
             [
              0.5555555555555556,
              "#d8576b"
             ],
             [
              0.6666666666666666,
              "#ed7953"
             ],
             [
              0.7777777777777778,
              "#fb9f3a"
             ],
             [
              0.8888888888888888,
              "#fdca26"
             ],
             [
              1,
              "#f0f921"
             ]
            ],
            "type": "heatmapgl"
           }
          ],
          "histogram": [
           {
            "marker": {
             "pattern": {
              "fillmode": "overlay",
              "size": 10,
              "solidity": 0.2
             }
            },
            "type": "histogram"
           }
          ],
          "histogram2d": [
           {
            "colorbar": {
             "outlinewidth": 0,
             "ticks": ""
            },
            "colorscale": [
             [
              0,
              "#0d0887"
             ],
             [
              0.1111111111111111,
              "#46039f"
             ],
             [
              0.2222222222222222,
              "#7201a8"
             ],
             [
              0.3333333333333333,
              "#9c179e"
             ],
             [
              0.4444444444444444,
              "#bd3786"
             ],
             [
              0.5555555555555556,
              "#d8576b"
             ],
             [
              0.6666666666666666,
              "#ed7953"
             ],
             [
              0.7777777777777778,
              "#fb9f3a"
             ],
             [
              0.8888888888888888,
              "#fdca26"
             ],
             [
              1,
              "#f0f921"
             ]
            ],
            "type": "histogram2d"
           }
          ],
          "histogram2dcontour": [
           {
            "colorbar": {
             "outlinewidth": 0,
             "ticks": ""
            },
            "colorscale": [
             [
              0,
              "#0d0887"
             ],
             [
              0.1111111111111111,
              "#46039f"
             ],
             [
              0.2222222222222222,
              "#7201a8"
             ],
             [
              0.3333333333333333,
              "#9c179e"
             ],
             [
              0.4444444444444444,
              "#bd3786"
             ],
             [
              0.5555555555555556,
              "#d8576b"
             ],
             [
              0.6666666666666666,
              "#ed7953"
             ],
             [
              0.7777777777777778,
              "#fb9f3a"
             ],
             [
              0.8888888888888888,
              "#fdca26"
             ],
             [
              1,
              "#f0f921"
             ]
            ],
            "type": "histogram2dcontour"
           }
          ],
          "mesh3d": [
           {
            "colorbar": {
             "outlinewidth": 0,
             "ticks": ""
            },
            "type": "mesh3d"
           }
          ],
          "parcoords": [
           {
            "line": {
             "colorbar": {
              "outlinewidth": 0,
              "ticks": ""
             }
            },
            "type": "parcoords"
           }
          ],
          "pie": [
           {
            "automargin": true,
            "type": "pie"
           }
          ],
          "scatter": [
           {
            "fillpattern": {
             "fillmode": "overlay",
             "size": 10,
             "solidity": 0.2
            },
            "type": "scatter"
           }
          ],
          "scatter3d": [
           {
            "line": {
             "colorbar": {
              "outlinewidth": 0,
              "ticks": ""
             }
            },
            "marker": {
             "colorbar": {
              "outlinewidth": 0,
              "ticks": ""
             }
            },
            "type": "scatter3d"
           }
          ],
          "scattercarpet": [
           {
            "marker": {
             "colorbar": {
              "outlinewidth": 0,
              "ticks": ""
             }
            },
            "type": "scattercarpet"
           }
          ],
          "scattergeo": [
           {
            "marker": {
             "colorbar": {
              "outlinewidth": 0,
              "ticks": ""
             }
            },
            "type": "scattergeo"
           }
          ],
          "scattergl": [
           {
            "marker": {
             "colorbar": {
              "outlinewidth": 0,
              "ticks": ""
             }
            },
            "type": "scattergl"
           }
          ],
          "scattermapbox": [
           {
            "marker": {
             "colorbar": {
              "outlinewidth": 0,
              "ticks": ""
             }
            },
            "type": "scattermapbox"
           }
          ],
          "scatterpolar": [
           {
            "marker": {
             "colorbar": {
              "outlinewidth": 0,
              "ticks": ""
             }
            },
            "type": "scatterpolar"
           }
          ],
          "scatterpolargl": [
           {
            "marker": {
             "colorbar": {
              "outlinewidth": 0,
              "ticks": ""
             }
            },
            "type": "scatterpolargl"
           }
          ],
          "scatterternary": [
           {
            "marker": {
             "colorbar": {
              "outlinewidth": 0,
              "ticks": ""
             }
            },
            "type": "scatterternary"
           }
          ],
          "surface": [
           {
            "colorbar": {
             "outlinewidth": 0,
             "ticks": ""
            },
            "colorscale": [
             [
              0,
              "#0d0887"
             ],
             [
              0.1111111111111111,
              "#46039f"
             ],
             [
              0.2222222222222222,
              "#7201a8"
             ],
             [
              0.3333333333333333,
              "#9c179e"
             ],
             [
              0.4444444444444444,
              "#bd3786"
             ],
             [
              0.5555555555555556,
              "#d8576b"
             ],
             [
              0.6666666666666666,
              "#ed7953"
             ],
             [
              0.7777777777777778,
              "#fb9f3a"
             ],
             [
              0.8888888888888888,
              "#fdca26"
             ],
             [
              1,
              "#f0f921"
             ]
            ],
            "type": "surface"
           }
          ],
          "table": [
           {
            "cells": {
             "fill": {
              "color": "#EBF0F8"
             },
             "line": {
              "color": "white"
             }
            },
            "header": {
             "fill": {
              "color": "#C8D4E3"
             },
             "line": {
              "color": "white"
             }
            },
            "type": "table"
           }
          ]
         },
         "layout": {
          "annotationdefaults": {
           "arrowcolor": "#2a3f5f",
           "arrowhead": 0,
           "arrowwidth": 1
          },
          "autotypenumbers": "strict",
          "coloraxis": {
           "colorbar": {
            "outlinewidth": 0,
            "ticks": ""
           }
          },
          "colorscale": {
           "diverging": [
            [
             0,
             "#8e0152"
            ],
            [
             0.1,
             "#c51b7d"
            ],
            [
             0.2,
             "#de77ae"
            ],
            [
             0.3,
             "#f1b6da"
            ],
            [
             0.4,
             "#fde0ef"
            ],
            [
             0.5,
             "#f7f7f7"
            ],
            [
             0.6,
             "#e6f5d0"
            ],
            [
             0.7,
             "#b8e186"
            ],
            [
             0.8,
             "#7fbc41"
            ],
            [
             0.9,
             "#4d9221"
            ],
            [
             1,
             "#276419"
            ]
           ],
           "sequential": [
            [
             0,
             "#0d0887"
            ],
            [
             0.1111111111111111,
             "#46039f"
            ],
            [
             0.2222222222222222,
             "#7201a8"
            ],
            [
             0.3333333333333333,
             "#9c179e"
            ],
            [
             0.4444444444444444,
             "#bd3786"
            ],
            [
             0.5555555555555556,
             "#d8576b"
            ],
            [
             0.6666666666666666,
             "#ed7953"
            ],
            [
             0.7777777777777778,
             "#fb9f3a"
            ],
            [
             0.8888888888888888,
             "#fdca26"
            ],
            [
             1,
             "#f0f921"
            ]
           ],
           "sequentialminus": [
            [
             0,
             "#0d0887"
            ],
            [
             0.1111111111111111,
             "#46039f"
            ],
            [
             0.2222222222222222,
             "#7201a8"
            ],
            [
             0.3333333333333333,
             "#9c179e"
            ],
            [
             0.4444444444444444,
             "#bd3786"
            ],
            [
             0.5555555555555556,
             "#d8576b"
            ],
            [
             0.6666666666666666,
             "#ed7953"
            ],
            [
             0.7777777777777778,
             "#fb9f3a"
            ],
            [
             0.8888888888888888,
             "#fdca26"
            ],
            [
             1,
             "#f0f921"
            ]
           ]
          },
          "colorway": [
           "#636efa",
           "#EF553B",
           "#00cc96",
           "#ab63fa",
           "#FFA15A",
           "#19d3f3",
           "#FF6692",
           "#B6E880",
           "#FF97FF",
           "#FECB52"
          ],
          "font": {
           "color": "#2a3f5f"
          },
          "geo": {
           "bgcolor": "white",
           "lakecolor": "white",
           "landcolor": "#E5ECF6",
           "showlakes": true,
           "showland": true,
           "subunitcolor": "white"
          },
          "hoverlabel": {
           "align": "left"
          },
          "hovermode": "closest",
          "mapbox": {
           "style": "light"
          },
          "paper_bgcolor": "white",
          "plot_bgcolor": "#E5ECF6",
          "polar": {
           "angularaxis": {
            "gridcolor": "white",
            "linecolor": "white",
            "ticks": ""
           },
           "bgcolor": "#E5ECF6",
           "radialaxis": {
            "gridcolor": "white",
            "linecolor": "white",
            "ticks": ""
           }
          },
          "scene": {
           "xaxis": {
            "backgroundcolor": "#E5ECF6",
            "gridcolor": "white",
            "gridwidth": 2,
            "linecolor": "white",
            "showbackground": true,
            "ticks": "",
            "zerolinecolor": "white"
           },
           "yaxis": {
            "backgroundcolor": "#E5ECF6",
            "gridcolor": "white",
            "gridwidth": 2,
            "linecolor": "white",
            "showbackground": true,
            "ticks": "",
            "zerolinecolor": "white"
           },
           "zaxis": {
            "backgroundcolor": "#E5ECF6",
            "gridcolor": "white",
            "gridwidth": 2,
            "linecolor": "white",
            "showbackground": true,
            "ticks": "",
            "zerolinecolor": "white"
           }
          },
          "shapedefaults": {
           "line": {
            "color": "#2a3f5f"
           }
          },
          "ternary": {
           "aaxis": {
            "gridcolor": "white",
            "linecolor": "white",
            "ticks": ""
           },
           "baxis": {
            "gridcolor": "white",
            "linecolor": "white",
            "ticks": ""
           },
           "bgcolor": "#E5ECF6",
           "caxis": {
            "gridcolor": "white",
            "linecolor": "white",
            "ticks": ""
           }
          },
          "title": {
           "x": 0.05
          },
          "xaxis": {
           "automargin": true,
           "gridcolor": "white",
           "linecolor": "white",
           "ticks": "",
           "title": {
            "standoff": 15
           },
           "zerolinecolor": "white",
           "zerolinewidth": 2
          },
          "yaxis": {
           "automargin": true,
           "gridcolor": "white",
           "linecolor": "white",
           "ticks": "",
           "title": {
            "standoff": 15
           },
           "zerolinecolor": "white",
           "zerolinewidth": 2
          }
         }
        },
        "title": {
         "text": "Reside Distribution",
         "x": 0.5,
         "xanchor": "center",
         "y": 0.9,
         "yanchor": "top"
        },
        "xaxis": {
         "anchor": "y",
         "domain": [
          0,
          1
         ],
         "showgrid": false,
         "showticklabels": true,
         "tickmode": "array",
         "title": {
          "text": "Reside"
         },
         "zeroline": false
        },
        "yaxis": {
         "anchor": "x",
         "domain": [
          0,
          1
         ],
         "title": {
          "text": "Count"
         }
        }
       }
      }
     },
     "metadata": {},
     "output_type": "display_data"
    }
   ],
   "source": [
    "# show distribution of the 'reside' column\n",
    "reside_distribution_fig = px.histogram(\n",
    "    df,\n",
    "    x=\"reside\",\n",
    "    title=\"Reside Distribution\",\n",
    "    text_auto=True,\n",
    ")\n",
    "\n",
    "# Customize layout for better readability\n",
    "reside_distribution_fig.update_layout(\n",
    "    xaxis_title=\"Reside\",\n",
    "    yaxis_title=\"Count\",\n",
    "    title={\n",
    "        \"text\": \"Reside Distribution\",\n",
    "        \"y\": 0.9,\n",
    "        \"x\": 0.5,\n",
    "        \"xanchor\": \"center\",\n",
    "        \"yanchor\": \"top\",\n",
    "    },\n",
    "    xaxis=dict(\n",
    "        tickmode=\"array\",\n",
    "        showticklabels=True,\n",
    "        showgrid=False,\n",
    "        zeroline=False,\n",
    "    ),\n",
    ")\n",
    "\n",
    "# Display the histogram\n",
    "reside_distribution_fig.show()"
   ]
  },
  {
   "cell_type": "code",
   "execution_count": 11,
   "metadata": {},
   "outputs": [
    {
     "data": {
      "application/vnd.plotly.v1+json": {
       "config": {
        "plotlyServerURL": "https://plot.ly"
       },
       "data": [
        {
         "alignmentgroup": "True",
         "bingroup": "x",
         "hovertemplate": "Customer Since: %{x}<br>Count: %{y}<extra></extra>",
         "legendgroup": "",
         "marker": {
          "color": "#636efa",
          "pattern": {
           "shape": ""
          }
         },
         "name": "",
         "nbinsx": 30,
         "offsetgroup": "",
         "orientation": "v",
         "showlegend": false,
         "texttemplate": "%{value}",
         "type": "histogram",
         "x": [
          13,
          11,
          68,
          33,
          23,
          41,
          45,
          38,
          45,
          68,
          5,
          7,
          41,
          57,
          9,
          29,
          60,
          34,
          1,
          26,
          6,
          68,
          53,
          55,
          14,
          1,
          42,
          25,
          9,
          13,
          56,
          71,
          35,
          11,
          60,
          20,
          54,
          44,
          11,
          72,
          10,
          15,
          27,
          9,
          64,
          65,
          49,
          47,
          9,
          5,
          30,
          56,
          10,
          7,
          52,
          36,
          27,
          58,
          41,
          47,
          55,
          56,
          35,
          69,
          44,
          36,
          28,
          72,
          16,
          3,
          40,
          16,
          20,
          48,
          64,
          8,
          40,
          38,
          67,
          26,
          41,
          2,
          20,
          31,
          45,
          33,
          10,
          62,
          4,
          42,
          27,
          38,
          52,
          35,
          3,
          17,
          55,
          43,
          47,
          65,
          13,
          64,
          12,
          29,
          23,
          14,
          35,
          26,
          13,
          69,
          61,
          45,
          3,
          53,
          59,
          13,
          31,
          40,
          48,
          3,
          51,
          33,
          14,
          17,
          19,
          58,
          22,
          29,
          14,
          70,
          62,
          7,
          56,
          50,
          57,
          2,
          40,
          6,
          23,
          11,
          29,
          42,
          20,
          72,
          2,
          46,
          39,
          24,
          59,
          65,
          50,
          57,
          61,
          34,
          38,
          3,
          4,
          15,
          25,
          21,
          50,
          65,
          59,
          29,
          60,
          71,
          38,
          16,
          7,
          59,
          22,
          18,
          64,
          7,
          65,
          7,
          64,
          42,
          33,
          3,
          69,
          9,
          22,
          53,
          71,
          24,
          12,
          25,
          63,
          33,
          57,
          13,
          13,
          71,
          18,
          17,
          22,
          65,
          7,
          72,
          35,
          24,
          64,
          63,
          38,
          29,
          72,
          10,
          72,
          52,
          13,
          3,
          39,
          28,
          46,
          62,
          23,
          23,
          72,
          56,
          8,
          3,
          37,
          37,
          6,
          48,
          43,
          21,
          6,
          69,
          22,
          28,
          71,
          7,
          63,
          53,
          50,
          39,
          16,
          43,
          44,
          72,
          61,
          43,
          24,
          64,
          64,
          24,
          33,
          33,
          2,
          42,
          52,
          45,
          3,
          37,
          28,
          40,
          37,
          7,
          71,
          19,
          61,
          70,
          60,
          48,
          8,
          58,
          16,
          33,
          39,
          62,
          50,
          48,
          31,
          65,
          36,
          61,
          48,
          35,
          51,
          49,
          35,
          58,
          23,
          26,
          38,
          35,
          37,
          48,
          13,
          72,
          30,
          24,
          25,
          50,
          28,
          34,
          48,
          42,
          67,
          17,
          29,
          66,
          1,
          28,
          15,
          12,
          48,
          59,
          8,
          45,
          25,
          21,
          17,
          41,
          13,
          1,
          3,
          23,
          26,
          37,
          5,
          32,
          12,
          72,
          3,
          54,
          26,
          14,
          22,
          65,
          26,
          20,
          67,
          34,
          37,
          22,
          5,
          28,
          20,
          72,
          30,
          71,
          56,
          8,
          32,
          46,
          60,
          42,
          71,
          72,
          45,
          5,
          17,
          70,
          57,
          20,
          72,
          32,
          22,
          6,
          32,
          38,
          53,
          37,
          47,
          69,
          63,
          61,
          56,
          40,
          61,
          16,
          7,
          20,
          35,
          60,
          47,
          33,
          12,
          10,
          69,
          23,
          53,
          60,
          33,
          67,
          15,
          64,
          46,
          72,
          61,
          54,
          28,
          28,
          32,
          52,
          48,
          52,
          37,
          41,
          43,
          67,
          61,
          70,
          44,
          46,
          39,
          39,
          50,
          5,
          10,
          72,
          68,
          58,
          18,
          65,
          8,
          1,
          42,
          4,
          17,
          8,
          49,
          56,
          62,
          42,
          13,
          69,
          45,
          66,
          15,
          41,
          11,
          45,
          52,
          42,
          48,
          4,
          53,
          1,
          19,
          33,
          42,
          60,
          57,
          64,
          28,
          29,
          46,
          22,
          10,
          50,
          55,
          15,
          31,
          5,
          69,
          26,
          10,
          26,
          25,
          30,
          21,
          71,
          11,
          24,
          65,
          16,
          37,
          5,
          3,
          5,
          60,
          19,
          54,
          25,
          1,
          54,
          14,
          14,
          10,
          7,
          33,
          3,
          56,
          54,
          72,
          18,
          25,
          42,
          4,
          12,
          53,
          13,
          18,
          67,
          6,
          25,
          15,
          32,
          22,
          8,
          3,
          32,
          49,
          2,
          39,
          42,
          28,
          41,
          67,
          38,
          18,
          6,
          4,
          13,
          20,
          34,
          46,
          48,
          69,
          32,
          29,
          55,
          72,
          29,
          50,
          35,
          11,
          9,
          51,
          33,
          25,
          31,
          67,
          55,
          19,
          39,
          52,
          55,
          25,
          33,
          48,
          48,
          49,
          54,
          45,
          4,
          49,
          23,
          31,
          55,
          9,
          55,
          34,
          10,
          62,
          51,
          65,
          53,
          23,
          1,
          66,
          8,
          18,
          36,
          13,
          4,
          20,
          66,
          67,
          11,
          6,
          13,
          2,
          4,
          34,
          13,
          37,
          45,
          71,
          35,
          44,
          44,
          26,
          42,
          41,
          31,
          62,
          12,
          45,
          47,
          23,
          39,
          19,
          13,
          5,
          11,
          4,
          17,
          7,
          19,
          32,
          53,
          51,
          35,
          3,
          22,
          17,
          68,
          27,
          68,
          56,
          11,
          5,
          16,
          59,
          60,
          55,
          18,
          16,
          35,
          31,
          20,
          16,
          69,
          69,
          27,
          48,
          18,
          24,
          17,
          9,
          15,
          62,
          9,
          71,
          62,
          20,
          19,
          49,
          3,
          33,
          38,
          42,
          11,
          27,
          23,
          4,
          36,
          37,
          24,
          4,
          54,
          7,
          10,
          24,
          12,
          45,
          59,
          3,
          8,
          16,
          32,
          8,
          9,
          12,
          24,
          72,
          58,
          70,
          9,
          49,
          52,
          10,
          14,
          19,
          12,
          65,
          67,
          29,
          55,
          71,
          5,
          60,
          10,
          52,
          61,
          61,
          67,
          41,
          30,
          24,
          72,
          17,
          65,
          15,
          34,
          26,
          36,
          60,
          16,
          1,
          56,
          6,
          48,
          34,
          54,
          38,
          25,
          47,
          72,
          6,
          30,
          65,
          22,
          60,
          19,
          18,
          9,
          1,
          10,
          45,
          25,
          66,
          27,
          19,
          17,
          16,
          8,
          3,
          59,
          45,
          66,
          28,
          15,
          39,
          38,
          34,
          60,
          72,
          42,
          32,
          48,
          63,
          45,
          68,
          6,
          68,
          72,
          53,
          20,
          70,
          32,
          61,
          24,
          56,
          54,
          43,
          19,
          5,
          24,
          62,
          14,
          60,
          30,
          40,
          42,
          20,
          4,
          44,
          49,
          5,
          70,
          30,
          28,
          5,
          27,
          17,
          4,
          30,
          71,
          67,
          24,
          24,
          59,
          59,
          44,
          19,
          58,
          41,
          16,
          13,
          60,
          72,
          33,
          72,
          66,
          53,
          22,
          14,
          52,
          33,
          72,
          40,
          29,
          63,
          56,
          60,
          28,
          39,
          65,
          29,
          28,
          2,
          67,
          5,
          48,
          10,
          17,
          21,
          25,
          44,
          59,
          11,
          50,
          23,
          17,
          15,
          68,
          69,
          30,
          22,
          10,
          72,
          34,
          43,
          31,
          6,
          48,
          50,
          20,
          61,
          6,
          1,
          21,
          7,
          65,
          64,
          4,
          67,
          22,
          51,
          50,
          31,
          4,
          60,
          7,
          20,
          19,
          58,
          65,
          72,
          8,
          33,
          18,
          24,
          70,
          7,
          70,
          20,
          54,
          36,
          71,
          17,
          18,
          16,
          38,
          52,
          46,
          31,
          23,
          38,
          50,
          16,
          14,
          30,
          22,
          38,
          59,
          54,
          9,
          67,
          24,
          12,
          26,
          3,
          20,
          5,
          58,
          54,
          52,
          38,
          19,
          22,
          49,
          5,
          18,
          43,
          17,
          37,
          8,
          51,
          71,
          56,
          70,
          62,
          50,
          1,
          15,
          72,
          69,
          32,
          19,
          42,
          51,
          32,
          26,
          39,
          72,
          4,
          54,
          34,
          20,
          14,
          61,
          4,
          16,
          13,
          53,
          58,
          25,
          71,
          22,
          46,
          66,
          69,
          38,
          16,
          44,
          50,
          10,
          7,
          71,
          16,
          6,
          46,
          51,
          5,
          49,
          49,
          26,
          22,
          51,
          19,
          9,
          15,
          57,
          48,
          9,
          61,
          72,
          57,
          57,
          37,
          45,
          45,
          55,
          24,
          1,
          34,
          14,
          6,
          24,
          3,
          4,
          72,
          44,
          50,
          61,
          34,
          26,
          15,
          10,
          7,
          67,
          70,
          50
         ],
         "xaxis": "x",
         "yaxis": "y"
        }
       ],
       "layout": {
        "annotations": [
         {
          "font": {
           "color": "green"
          },
          "showarrow": false,
          "text": "Median",
          "textangle": -45,
          "x": 34,
          "xshift": 15,
          "y": 37.05,
          "yshift": 120
         },
         {
          "font": {
           "color": "blue"
          },
          "showarrow": false,
          "text": "Mean",
          "textangle": -45,
          "x": 35.526,
          "xshift": 15,
          "y": 37.05,
          "yshift": 120
         },
         {
          "font": {
           "color": "red"
          },
          "showarrow": false,
          "text": "Q1",
          "textangle": -45,
          "x": 17,
          "xshift": 15,
          "y": 37.05,
          "yshift": 120
         },
         {
          "font": {
           "color": "red"
          },
          "showarrow": false,
          "text": "Q3",
          "textangle": -45,
          "x": 54,
          "xshift": 15,
          "y": 37.05,
          "yshift": 120
         }
        ],
        "bargap": 0.1,
        "barmode": "relative",
        "legend": {
         "tracegroupgap": 0
        },
        "shapes": [
         {
          "line": {
           "color": "green",
           "dash": "dash"
          },
          "type": "line",
          "x0": 34,
          "x1": 34,
          "xref": "x",
          "y0": 0,
          "y1": 1,
          "yref": "y domain"
         },
         {
          "line": {
           "color": "blue",
           "dash": "dash"
          },
          "type": "line",
          "x0": 35.526,
          "x1": 35.526,
          "xref": "x",
          "y0": 0,
          "y1": 1,
          "yref": "y domain"
         },
         {
          "line": {
           "color": "red",
           "dash": "dash"
          },
          "type": "line",
          "x0": 17,
          "x1": 17,
          "xref": "x",
          "y0": 0,
          "y1": 1,
          "yref": "y domain"
         },
         {
          "line": {
           "color": "red",
           "dash": "dash"
          },
          "type": "line",
          "x0": 54,
          "x1": 54,
          "xref": "x",
          "y0": 0,
          "y1": 1,
          "yref": "y domain"
         }
        ],
        "template": {
         "data": {
          "bar": [
           {
            "error_x": {
             "color": "#2a3f5f"
            },
            "error_y": {
             "color": "#2a3f5f"
            },
            "marker": {
             "line": {
              "color": "#E5ECF6",
              "width": 0.5
             },
             "pattern": {
              "fillmode": "overlay",
              "size": 10,
              "solidity": 0.2
             }
            },
            "type": "bar"
           }
          ],
          "barpolar": [
           {
            "marker": {
             "line": {
              "color": "#E5ECF6",
              "width": 0.5
             },
             "pattern": {
              "fillmode": "overlay",
              "size": 10,
              "solidity": 0.2
             }
            },
            "type": "barpolar"
           }
          ],
          "carpet": [
           {
            "aaxis": {
             "endlinecolor": "#2a3f5f",
             "gridcolor": "white",
             "linecolor": "white",
             "minorgridcolor": "white",
             "startlinecolor": "#2a3f5f"
            },
            "baxis": {
             "endlinecolor": "#2a3f5f",
             "gridcolor": "white",
             "linecolor": "white",
             "minorgridcolor": "white",
             "startlinecolor": "#2a3f5f"
            },
            "type": "carpet"
           }
          ],
          "choropleth": [
           {
            "colorbar": {
             "outlinewidth": 0,
             "ticks": ""
            },
            "type": "choropleth"
           }
          ],
          "contour": [
           {
            "colorbar": {
             "outlinewidth": 0,
             "ticks": ""
            },
            "colorscale": [
             [
              0,
              "#0d0887"
             ],
             [
              0.1111111111111111,
              "#46039f"
             ],
             [
              0.2222222222222222,
              "#7201a8"
             ],
             [
              0.3333333333333333,
              "#9c179e"
             ],
             [
              0.4444444444444444,
              "#bd3786"
             ],
             [
              0.5555555555555556,
              "#d8576b"
             ],
             [
              0.6666666666666666,
              "#ed7953"
             ],
             [
              0.7777777777777778,
              "#fb9f3a"
             ],
             [
              0.8888888888888888,
              "#fdca26"
             ],
             [
              1,
              "#f0f921"
             ]
            ],
            "type": "contour"
           }
          ],
          "contourcarpet": [
           {
            "colorbar": {
             "outlinewidth": 0,
             "ticks": ""
            },
            "type": "contourcarpet"
           }
          ],
          "heatmap": [
           {
            "colorbar": {
             "outlinewidth": 0,
             "ticks": ""
            },
            "colorscale": [
             [
              0,
              "#0d0887"
             ],
             [
              0.1111111111111111,
              "#46039f"
             ],
             [
              0.2222222222222222,
              "#7201a8"
             ],
             [
              0.3333333333333333,
              "#9c179e"
             ],
             [
              0.4444444444444444,
              "#bd3786"
             ],
             [
              0.5555555555555556,
              "#d8576b"
             ],
             [
              0.6666666666666666,
              "#ed7953"
             ],
             [
              0.7777777777777778,
              "#fb9f3a"
             ],
             [
              0.8888888888888888,
              "#fdca26"
             ],
             [
              1,
              "#f0f921"
             ]
            ],
            "type": "heatmap"
           }
          ],
          "heatmapgl": [
           {
            "colorbar": {
             "outlinewidth": 0,
             "ticks": ""
            },
            "colorscale": [
             [
              0,
              "#0d0887"
             ],
             [
              0.1111111111111111,
              "#46039f"
             ],
             [
              0.2222222222222222,
              "#7201a8"
             ],
             [
              0.3333333333333333,
              "#9c179e"
             ],
             [
              0.4444444444444444,
              "#bd3786"
             ],
             [
              0.5555555555555556,
              "#d8576b"
             ],
             [
              0.6666666666666666,
              "#ed7953"
             ],
             [
              0.7777777777777778,
              "#fb9f3a"
             ],
             [
              0.8888888888888888,
              "#fdca26"
             ],
             [
              1,
              "#f0f921"
             ]
            ],
            "type": "heatmapgl"
           }
          ],
          "histogram": [
           {
            "marker": {
             "pattern": {
              "fillmode": "overlay",
              "size": 10,
              "solidity": 0.2
             }
            },
            "type": "histogram"
           }
          ],
          "histogram2d": [
           {
            "colorbar": {
             "outlinewidth": 0,
             "ticks": ""
            },
            "colorscale": [
             [
              0,
              "#0d0887"
             ],
             [
              0.1111111111111111,
              "#46039f"
             ],
             [
              0.2222222222222222,
              "#7201a8"
             ],
             [
              0.3333333333333333,
              "#9c179e"
             ],
             [
              0.4444444444444444,
              "#bd3786"
             ],
             [
              0.5555555555555556,
              "#d8576b"
             ],
             [
              0.6666666666666666,
              "#ed7953"
             ],
             [
              0.7777777777777778,
              "#fb9f3a"
             ],
             [
              0.8888888888888888,
              "#fdca26"
             ],
             [
              1,
              "#f0f921"
             ]
            ],
            "type": "histogram2d"
           }
          ],
          "histogram2dcontour": [
           {
            "colorbar": {
             "outlinewidth": 0,
             "ticks": ""
            },
            "colorscale": [
             [
              0,
              "#0d0887"
             ],
             [
              0.1111111111111111,
              "#46039f"
             ],
             [
              0.2222222222222222,
              "#7201a8"
             ],
             [
              0.3333333333333333,
              "#9c179e"
             ],
             [
              0.4444444444444444,
              "#bd3786"
             ],
             [
              0.5555555555555556,
              "#d8576b"
             ],
             [
              0.6666666666666666,
              "#ed7953"
             ],
             [
              0.7777777777777778,
              "#fb9f3a"
             ],
             [
              0.8888888888888888,
              "#fdca26"
             ],
             [
              1,
              "#f0f921"
             ]
            ],
            "type": "histogram2dcontour"
           }
          ],
          "mesh3d": [
           {
            "colorbar": {
             "outlinewidth": 0,
             "ticks": ""
            },
            "type": "mesh3d"
           }
          ],
          "parcoords": [
           {
            "line": {
             "colorbar": {
              "outlinewidth": 0,
              "ticks": ""
             }
            },
            "type": "parcoords"
           }
          ],
          "pie": [
           {
            "automargin": true,
            "type": "pie"
           }
          ],
          "scatter": [
           {
            "fillpattern": {
             "fillmode": "overlay",
             "size": 10,
             "solidity": 0.2
            },
            "type": "scatter"
           }
          ],
          "scatter3d": [
           {
            "line": {
             "colorbar": {
              "outlinewidth": 0,
              "ticks": ""
             }
            },
            "marker": {
             "colorbar": {
              "outlinewidth": 0,
              "ticks": ""
             }
            },
            "type": "scatter3d"
           }
          ],
          "scattercarpet": [
           {
            "marker": {
             "colorbar": {
              "outlinewidth": 0,
              "ticks": ""
             }
            },
            "type": "scattercarpet"
           }
          ],
          "scattergeo": [
           {
            "marker": {
             "colorbar": {
              "outlinewidth": 0,
              "ticks": ""
             }
            },
            "type": "scattergeo"
           }
          ],
          "scattergl": [
           {
            "marker": {
             "colorbar": {
              "outlinewidth": 0,
              "ticks": ""
             }
            },
            "type": "scattergl"
           }
          ],
          "scattermapbox": [
           {
            "marker": {
             "colorbar": {
              "outlinewidth": 0,
              "ticks": ""
             }
            },
            "type": "scattermapbox"
           }
          ],
          "scatterpolar": [
           {
            "marker": {
             "colorbar": {
              "outlinewidth": 0,
              "ticks": ""
             }
            },
            "type": "scatterpolar"
           }
          ],
          "scatterpolargl": [
           {
            "marker": {
             "colorbar": {
              "outlinewidth": 0,
              "ticks": ""
             }
            },
            "type": "scatterpolargl"
           }
          ],
          "scatterternary": [
           {
            "marker": {
             "colorbar": {
              "outlinewidth": 0,
              "ticks": ""
             }
            },
            "type": "scatterternary"
           }
          ],
          "surface": [
           {
            "colorbar": {
             "outlinewidth": 0,
             "ticks": ""
            },
            "colorscale": [
             [
              0,
              "#0d0887"
             ],
             [
              0.1111111111111111,
              "#46039f"
             ],
             [
              0.2222222222222222,
              "#7201a8"
             ],
             [
              0.3333333333333333,
              "#9c179e"
             ],
             [
              0.4444444444444444,
              "#bd3786"
             ],
             [
              0.5555555555555556,
              "#d8576b"
             ],
             [
              0.6666666666666666,
              "#ed7953"
             ],
             [
              0.7777777777777778,
              "#fb9f3a"
             ],
             [
              0.8888888888888888,
              "#fdca26"
             ],
             [
              1,
              "#f0f921"
             ]
            ],
            "type": "surface"
           }
          ],
          "table": [
           {
            "cells": {
             "fill": {
              "color": "#EBF0F8"
             },
             "line": {
              "color": "white"
             }
            },
            "header": {
             "fill": {
              "color": "#C8D4E3"
             },
             "line": {
              "color": "white"
             }
            },
            "type": "table"
           }
          ]
         },
         "layout": {
          "annotationdefaults": {
           "arrowcolor": "#2a3f5f",
           "arrowhead": 0,
           "arrowwidth": 1
          },
          "autotypenumbers": "strict",
          "coloraxis": {
           "colorbar": {
            "outlinewidth": 0,
            "ticks": ""
           }
          },
          "colorscale": {
           "diverging": [
            [
             0,
             "#8e0152"
            ],
            [
             0.1,
             "#c51b7d"
            ],
            [
             0.2,
             "#de77ae"
            ],
            [
             0.3,
             "#f1b6da"
            ],
            [
             0.4,
             "#fde0ef"
            ],
            [
             0.5,
             "#f7f7f7"
            ],
            [
             0.6,
             "#e6f5d0"
            ],
            [
             0.7,
             "#b8e186"
            ],
            [
             0.8,
             "#7fbc41"
            ],
            [
             0.9,
             "#4d9221"
            ],
            [
             1,
             "#276419"
            ]
           ],
           "sequential": [
            [
             0,
             "#0d0887"
            ],
            [
             0.1111111111111111,
             "#46039f"
            ],
            [
             0.2222222222222222,
             "#7201a8"
            ],
            [
             0.3333333333333333,
             "#9c179e"
            ],
            [
             0.4444444444444444,
             "#bd3786"
            ],
            [
             0.5555555555555556,
             "#d8576b"
            ],
            [
             0.6666666666666666,
             "#ed7953"
            ],
            [
             0.7777777777777778,
             "#fb9f3a"
            ],
            [
             0.8888888888888888,
             "#fdca26"
            ],
            [
             1,
             "#f0f921"
            ]
           ],
           "sequentialminus": [
            [
             0,
             "#0d0887"
            ],
            [
             0.1111111111111111,
             "#46039f"
            ],
            [
             0.2222222222222222,
             "#7201a8"
            ],
            [
             0.3333333333333333,
             "#9c179e"
            ],
            [
             0.4444444444444444,
             "#bd3786"
            ],
            [
             0.5555555555555556,
             "#d8576b"
            ],
            [
             0.6666666666666666,
             "#ed7953"
            ],
            [
             0.7777777777777778,
             "#fb9f3a"
            ],
            [
             0.8888888888888888,
             "#fdca26"
            ],
            [
             1,
             "#f0f921"
            ]
           ]
          },
          "colorway": [
           "#636efa",
           "#EF553B",
           "#00cc96",
           "#ab63fa",
           "#FFA15A",
           "#19d3f3",
           "#FF6692",
           "#B6E880",
           "#FF97FF",
           "#FECB52"
          ],
          "font": {
           "color": "#2a3f5f"
          },
          "geo": {
           "bgcolor": "white",
           "lakecolor": "white",
           "landcolor": "#E5ECF6",
           "showlakes": true,
           "showland": true,
           "subunitcolor": "white"
          },
          "hoverlabel": {
           "align": "left"
          },
          "hovermode": "closest",
          "mapbox": {
           "style": "light"
          },
          "paper_bgcolor": "white",
          "plot_bgcolor": "#E5ECF6",
          "polar": {
           "angularaxis": {
            "gridcolor": "white",
            "linecolor": "white",
            "ticks": ""
           },
           "bgcolor": "#E5ECF6",
           "radialaxis": {
            "gridcolor": "white",
            "linecolor": "white",
            "ticks": ""
           }
          },
          "scene": {
           "xaxis": {
            "backgroundcolor": "#E5ECF6",
            "gridcolor": "white",
            "gridwidth": 2,
            "linecolor": "white",
            "showbackground": true,
            "ticks": "",
            "zerolinecolor": "white"
           },
           "yaxis": {
            "backgroundcolor": "#E5ECF6",
            "gridcolor": "white",
            "gridwidth": 2,
            "linecolor": "white",
            "showbackground": true,
            "ticks": "",
            "zerolinecolor": "white"
           },
           "zaxis": {
            "backgroundcolor": "#E5ECF6",
            "gridcolor": "white",
            "gridwidth": 2,
            "linecolor": "white",
            "showbackground": true,
            "ticks": "",
            "zerolinecolor": "white"
           }
          },
          "shapedefaults": {
           "line": {
            "color": "#2a3f5f"
           }
          },
          "ternary": {
           "aaxis": {
            "gridcolor": "white",
            "linecolor": "white",
            "ticks": ""
           },
           "baxis": {
            "gridcolor": "white",
            "linecolor": "white",
            "ticks": ""
           },
           "bgcolor": "#E5ECF6",
           "caxis": {
            "gridcolor": "white",
            "linecolor": "white",
            "ticks": ""
           }
          },
          "title": {
           "x": 0.05
          },
          "xaxis": {
           "automargin": true,
           "gridcolor": "white",
           "linecolor": "white",
           "ticks": "",
           "title": {
            "standoff": 15
           },
           "zerolinecolor": "white",
           "zerolinewidth": 2
          },
          "yaxis": {
           "automargin": true,
           "gridcolor": "white",
           "linecolor": "white",
           "ticks": "",
           "title": {
            "standoff": 15
           },
           "zerolinecolor": "white",
           "zerolinewidth": 2
          }
         }
        },
        "title": {
         "text": "Customer Since Distribution",
         "x": 0.5,
         "xanchor": "center",
         "y": 0.95,
         "yanchor": "top"
        },
        "xaxis": {
         "anchor": "y",
         "domain": [
          0,
          1
         ],
         "showgrid": false,
         "tickmode": "linear",
         "title": {
          "text": "Customer Since"
         },
         "zeroline": false
        },
        "yaxis": {
         "anchor": "x",
         "domain": [
          0,
          1
         ],
         "showgrid": true,
         "title": {
          "text": "Frequency"
         }
        }
       }
      }
     },
     "metadata": {},
     "output_type": "display_data"
    }
   ],
   "source": [
    "# Create the histogram for customer_since distribution\n",
    "customer_since_distribution_fig = px.histogram(\n",
    "    df,\n",
    "    x=\"customer_since\",\n",
    "    title=\"Customer Since Distribution\",\n",
    "    text_auto=True,  # Show text labels on bars\n",
    "    nbins=30,  # Customize number of bins if needed\n",
    ")\n",
    "\n",
    "# Calculate statistics\n",
    "median_since = df[\"customer_since\"].median()\n",
    "mean_since = df[\"customer_since\"].mean()\n",
    "first_quartile_since = df[\"customer_since\"].quantile(0.25)\n",
    "third_quartile_since = df[\"customer_since\"].quantile(0.75)\n",
    "\n",
    "# Add vertical lines for statistical markers without annotation_text\n",
    "stat_lines_since = [\n",
    "    {\"x\": median_since, \"color\": \"green\", \"text\": \"Median\"},\n",
    "    {\"x\": mean_since, \"color\": \"blue\", \"text\": \"Mean\"},\n",
    "    {\"x\": first_quartile_since, \"color\": \"red\", \"text\": \"Q1\"},\n",
    "    {\"x\": third_quartile_since, \"color\": \"red\", \"text\": \"Q3\"},\n",
    "]\n",
    "\n",
    "for line in stat_lines_since:\n",
    "    customer_since_distribution_fig.add_vline(\n",
    "        x=line[\"x\"],\n",
    "        line_dash=\"dash\",\n",
    "        line_color=line[\"color\"],\n",
    "    )\n",
    "    # Add text annotations at top of the chart\n",
    "    customer_since_distribution_fig.add_annotation(\n",
    "        x=line[\"x\"],\n",
    "        y=max(df[\"age\"].value_counts()) * 0.95,\n",
    "        text=line[\"text\"],\n",
    "        showarrow=False,\n",
    "        textangle=-45,\n",
    "        font=dict(color=line[\"color\"]),\n",
    "        yshift=120,\n",
    "        xshift=15,\n",
    "    )\n",
    "\n",
    "# Customize layout for readability and presentation\n",
    "customer_since_distribution_fig.update_layout(\n",
    "    title={\n",
    "        \"text\": \"Customer Since Distribution\",\n",
    "        \"y\": 0.95,\n",
    "        \"x\": 0.5,\n",
    "        \"xanchor\": \"center\",\n",
    "        \"yanchor\": \"top\",\n",
    "    },\n",
    "    xaxis_title=\"Customer Since\",\n",
    "    yaxis_title=\"Frequency\",\n",
    "    xaxis=dict(\n",
    "        tickmode=\"linear\", showgrid=False, zeroline=False\n",
    "    ),  # Linear ticks for year axis\n",
    "    yaxis=dict(showgrid=True),  # Y-axis grid for readability\n",
    "    bargap=0.1,  # Adjust bar gap for aesthetic\n",
    ")\n",
    "\n",
    "# Customize hover labels\n",
    "customer_since_distribution_fig.update_traces(\n",
    "    hovertemplate=\"Customer Since: %{x}<br>Count: %{y}<extra></extra>\",  # Custom tooltip format\n",
    ")\n",
    "\n",
    "# Display the improved histogram\n",
    "customer_since_distribution_fig.show()"
   ]
  },
  {
   "cell_type": "markdown",
   "metadata": {},
   "source": [
    "We can see the right shift clearly. Note that to consider future."
   ]
  },
  {
   "cell_type": "code",
   "execution_count": 12,
   "metadata": {},
   "outputs": [
    {
     "data": {
      "application/vnd.plotly.v1+json": {
       "config": {
        "plotlyServerURL": "https://plot.ly"
       },
       "data": [
        {
         "alignmentgroup": "True",
         "bingroup": "x",
         "hovertemplate": "service=%{x}<br>count=%{y}<extra></extra>",
         "legendgroup": "",
         "marker": {
          "color": "#636efa",
          "pattern": {
           "shape": ""
          }
         },
         "name": "",
         "offsetgroup": "",
         "orientation": "v",
         "showlegend": false,
         "texttemplate": "%{value}",
         "type": "histogram",
         "x": [
          "Fundamental Service",
          "Complete Service",
          "Advanced Service",
          "Fundamental Service",
          "Advanced Service",
          "Advanced Service",
          "E-Service",
          "Complete Service",
          "Advanced Service",
          "E-Service",
          "Fundamental Service",
          "Advanced Service",
          "Fundamental Service",
          "Complete Service",
          "Fundamental Service",
          "E-Service",
          "Advanced Service",
          "Advanced Service",
          "Fundamental Service",
          "Complete Service",
          "E-Service",
          "Fundamental Service",
          "Complete Service",
          "Fundamental Service",
          "Advanced Service",
          "Advanced Service",
          "Complete Service",
          "Advanced Service",
          "Fundamental Service",
          "E-Service",
          "E-Service",
          "Complete Service",
          "Advanced Service",
          "E-Service",
          "Complete Service",
          "E-Service",
          "Complete Service",
          "Advanced Service",
          "Advanced Service",
          "Advanced Service",
          "Advanced Service",
          "Advanced Service",
          "Fundamental Service",
          "Complete Service",
          "Advanced Service",
          "E-Service",
          "E-Service",
          "Complete Service",
          "Fundamental Service",
          "Advanced Service",
          "Fundamental Service",
          "E-Service",
          "Complete Service",
          "Fundamental Service",
          "Fundamental Service",
          "Fundamental Service",
          "E-Service",
          "Fundamental Service",
          "Advanced Service",
          "E-Service",
          "Advanced Service",
          "Complete Service",
          "Fundamental Service",
          "Complete Service",
          "Complete Service",
          "Fundamental Service",
          "Advanced Service",
          "Advanced Service",
          "Fundamental Service",
          "Fundamental Service",
          "Fundamental Service",
          "E-Service",
          "Fundamental Service",
          "E-Service",
          "Advanced Service",
          "Fundamental Service",
          "Advanced Service",
          "Fundamental Service",
          "Advanced Service",
          "Complete Service",
          "Complete Service",
          "Fundamental Service",
          "Complete Service",
          "Advanced Service",
          "E-Service",
          "Fundamental Service",
          "E-Service",
          "Complete Service",
          "Complete Service",
          "Advanced Service",
          "E-Service",
          "Fundamental Service",
          "E-Service",
          "Complete Service",
          "Fundamental Service",
          "Complete Service",
          "Advanced Service",
          "E-Service",
          "Advanced Service",
          "E-Service",
          "Complete Service",
          "Advanced Service",
          "Advanced Service",
          "E-Service",
          "E-Service",
          "E-Service",
          "Fundamental Service",
          "Complete Service",
          "Fundamental Service",
          "E-Service",
          "E-Service",
          "E-Service",
          "Fundamental Service",
          "E-Service",
          "Advanced Service",
          "Fundamental Service",
          "Advanced Service",
          "Advanced Service",
          "Advanced Service",
          "Fundamental Service",
          "Fundamental Service",
          "Fundamental Service",
          "Fundamental Service",
          "E-Service",
          "Fundamental Service",
          "E-Service",
          "Complete Service",
          "E-Service",
          "E-Service",
          "Complete Service",
          "Advanced Service",
          "Fundamental Service",
          "Complete Service",
          "E-Service",
          "Advanced Service",
          "Fundamental Service",
          "Fundamental Service",
          "Advanced Service",
          "Advanced Service",
          "Complete Service",
          "Complete Service",
          "Advanced Service",
          "Complete Service",
          "E-Service",
          "Advanced Service",
          "Fundamental Service",
          "Complete Service",
          "E-Service",
          "E-Service",
          "E-Service",
          "Fundamental Service",
          "Advanced Service",
          "Complete Service",
          "Complete Service",
          "Complete Service",
          "Advanced Service",
          "Fundamental Service",
          "Fundamental Service",
          "E-Service",
          "Advanced Service",
          "Advanced Service",
          "Advanced Service",
          "Fundamental Service",
          "Advanced Service",
          "E-Service",
          "E-Service",
          "Complete Service",
          "Fundamental Service",
          "Fundamental Service",
          "E-Service",
          "Complete Service",
          "Fundamental Service",
          "Complete Service",
          "Fundamental Service",
          "E-Service",
          "Fundamental Service",
          "Advanced Service",
          "Complete Service",
          "Complete Service",
          "Fundamental Service",
          "Complete Service",
          "Fundamental Service",
          "E-Service",
          "E-Service",
          "E-Service",
          "Fundamental Service",
          "Fundamental Service",
          "E-Service",
          "Advanced Service",
          "Advanced Service",
          "Fundamental Service",
          "Complete Service",
          "E-Service",
          "Advanced Service",
          "Complete Service",
          "Fundamental Service",
          "Fundamental Service",
          "Advanced Service",
          "Fundamental Service",
          "Complete Service",
          "Fundamental Service",
          "Complete Service",
          "E-Service",
          "E-Service",
          "Complete Service",
          "Fundamental Service",
          "Advanced Service",
          "Complete Service",
          "Advanced Service",
          "Advanced Service",
          "Fundamental Service",
          "Fundamental Service",
          "Fundamental Service",
          "E-Service",
          "E-Service",
          "Fundamental Service",
          "Advanced Service",
          "Complete Service",
          "Complete Service",
          "Fundamental Service",
          "Advanced Service",
          "Complete Service",
          "Fundamental Service",
          "Advanced Service",
          "Fundamental Service",
          "Complete Service",
          "Complete Service",
          "Fundamental Service",
          "Advanced Service",
          "Advanced Service",
          "Advanced Service",
          "Advanced Service",
          "E-Service",
          "Fundamental Service",
          "Complete Service",
          "E-Service",
          "Complete Service",
          "Complete Service",
          "Fundamental Service",
          "Complete Service",
          "Fundamental Service",
          "Complete Service",
          "Advanced Service",
          "E-Service",
          "Fundamental Service",
          "Advanced Service",
          "E-Service",
          "Fundamental Service",
          "Fundamental Service",
          "E-Service",
          "Fundamental Service",
          "Complete Service",
          "E-Service",
          "E-Service",
          "Complete Service",
          "Advanced Service",
          "E-Service",
          "Fundamental Service",
          "Complete Service",
          "Complete Service",
          "Complete Service",
          "Fundamental Service",
          "Advanced Service",
          "E-Service",
          "Fundamental Service",
          "Fundamental Service",
          "Advanced Service",
          "Advanced Service",
          "Advanced Service",
          "Fundamental Service",
          "Advanced Service",
          "E-Service",
          "Complete Service",
          "Fundamental Service",
          "Advanced Service",
          "E-Service",
          "E-Service",
          "Advanced Service",
          "Advanced Service",
          "Fundamental Service",
          "Complete Service",
          "Complete Service",
          "Advanced Service",
          "E-Service",
          "Advanced Service",
          "Advanced Service",
          "Complete Service",
          "Advanced Service",
          "Advanced Service",
          "E-Service",
          "Complete Service",
          "Advanced Service",
          "E-Service",
          "Advanced Service",
          "Complete Service",
          "Complete Service",
          "Advanced Service",
          "Fundamental Service",
          "Complete Service",
          "E-Service",
          "Advanced Service",
          "Advanced Service",
          "E-Service",
          "E-Service",
          "Fundamental Service",
          "Complete Service",
          "E-Service",
          "Advanced Service",
          "Complete Service",
          "Fundamental Service",
          "Fundamental Service",
          "E-Service",
          "E-Service",
          "Complete Service",
          "Complete Service",
          "Fundamental Service",
          "Advanced Service",
          "Fundamental Service",
          "Complete Service",
          "Fundamental Service",
          "Complete Service",
          "Advanced Service",
          "E-Service",
          "Complete Service",
          "Fundamental Service",
          "Advanced Service",
          "Fundamental Service",
          "Advanced Service",
          "Complete Service",
          "Fundamental Service",
          "Fundamental Service",
          "Fundamental Service",
          "Fundamental Service",
          "Complete Service",
          "E-Service",
          "Fundamental Service",
          "Advanced Service",
          "Fundamental Service",
          "Fundamental Service",
          "Advanced Service",
          "Fundamental Service",
          "Complete Service",
          "Fundamental Service",
          "Complete Service",
          "Advanced Service",
          "Fundamental Service",
          "E-Service",
          "Advanced Service",
          "Complete Service",
          "Complete Service",
          "Complete Service",
          "Advanced Service",
          "Fundamental Service",
          "Advanced Service",
          "E-Service",
          "Advanced Service",
          "E-Service",
          "E-Service",
          "Advanced Service",
          "Advanced Service",
          "Advanced Service",
          "Advanced Service",
          "Complete Service",
          "E-Service",
          "Advanced Service",
          "Fundamental Service",
          "Complete Service",
          "Advanced Service",
          "Fundamental Service",
          "Complete Service",
          "Complete Service",
          "Advanced Service",
          "E-Service",
          "Complete Service",
          "Fundamental Service",
          "Fundamental Service",
          "E-Service",
          "E-Service",
          "Complete Service",
          "Fundamental Service",
          "Fundamental Service",
          "E-Service",
          "Advanced Service",
          "E-Service",
          "E-Service",
          "Advanced Service",
          "Fundamental Service",
          "Complete Service",
          "Advanced Service",
          "E-Service",
          "Fundamental Service",
          "Complete Service",
          "Complete Service",
          "Complete Service",
          "Advanced Service",
          "Complete Service",
          "Advanced Service",
          "E-Service",
          "Advanced Service",
          "Advanced Service",
          "E-Service",
          "Advanced Service",
          "E-Service",
          "Advanced Service",
          "Fundamental Service",
          "Advanced Service",
          "Complete Service",
          "E-Service",
          "Fundamental Service",
          "E-Service",
          "Complete Service",
          "Fundamental Service",
          "E-Service",
          "E-Service",
          "Advanced Service",
          "E-Service",
          "Fundamental Service",
          "Advanced Service",
          "E-Service",
          "Fundamental Service",
          "E-Service",
          "Fundamental Service",
          "Advanced Service",
          "Complete Service",
          "E-Service",
          "E-Service",
          "Complete Service",
          "Fundamental Service",
          "Advanced Service",
          "E-Service",
          "Fundamental Service",
          "E-Service",
          "Fundamental Service",
          "E-Service",
          "Complete Service",
          "Complete Service",
          "Fundamental Service",
          "Complete Service",
          "Advanced Service",
          "Complete Service",
          "Complete Service",
          "Advanced Service",
          "Complete Service",
          "Fundamental Service",
          "Advanced Service",
          "E-Service",
          "Advanced Service",
          "Fundamental Service",
          "Complete Service",
          "Advanced Service",
          "Advanced Service",
          "Fundamental Service",
          "Fundamental Service",
          "E-Service",
          "Complete Service",
          "Fundamental Service",
          "Complete Service",
          "E-Service",
          "Advanced Service",
          "Complete Service",
          "Fundamental Service",
          "Complete Service",
          "Advanced Service",
          "E-Service",
          "Advanced Service",
          "Complete Service",
          "Advanced Service",
          "Fundamental Service",
          "E-Service",
          "Fundamental Service",
          "E-Service",
          "Advanced Service",
          "E-Service",
          "Fundamental Service",
          "Complete Service",
          "E-Service",
          "Complete Service",
          "Advanced Service",
          "E-Service",
          "Fundamental Service",
          "Fundamental Service",
          "Fundamental Service",
          "E-Service",
          "Fundamental Service",
          "Advanced Service",
          "Fundamental Service",
          "Fundamental Service",
          "Advanced Service",
          "E-Service",
          "Advanced Service",
          "Fundamental Service",
          "Fundamental Service",
          "Fundamental Service",
          "Fundamental Service",
          "Advanced Service",
          "Complete Service",
          "E-Service",
          "Complete Service",
          "Advanced Service",
          "Advanced Service",
          "E-Service",
          "E-Service",
          "E-Service",
          "Advanced Service",
          "Fundamental Service",
          "Fundamental Service",
          "E-Service",
          "Complete Service",
          "E-Service",
          "E-Service",
          "Complete Service",
          "Complete Service",
          "E-Service",
          "E-Service",
          "Complete Service",
          "Complete Service",
          "Fundamental Service",
          "Complete Service",
          "Complete Service",
          "Advanced Service",
          "Complete Service",
          "E-Service",
          "Advanced Service",
          "Fundamental Service",
          "E-Service",
          "E-Service",
          "Advanced Service",
          "Fundamental Service",
          "Complete Service",
          "Fundamental Service",
          "Fundamental Service",
          "Fundamental Service",
          "Advanced Service",
          "E-Service",
          "Advanced Service",
          "Advanced Service",
          "Complete Service",
          "Advanced Service",
          "Complete Service",
          "Complete Service",
          "Advanced Service",
          "Advanced Service",
          "Complete Service",
          "Fundamental Service",
          "Advanced Service",
          "Complete Service",
          "Fundamental Service",
          "Advanced Service",
          "Fundamental Service",
          "Fundamental Service",
          "E-Service",
          "Complete Service",
          "E-Service",
          "Advanced Service",
          "Fundamental Service",
          "Fundamental Service",
          "Advanced Service",
          "Advanced Service",
          "E-Service",
          "Complete Service",
          "E-Service",
          "Complete Service",
          "Fundamental Service",
          "Fundamental Service",
          "Advanced Service",
          "E-Service",
          "Fundamental Service",
          "E-Service",
          "Fundamental Service",
          "Advanced Service",
          "E-Service",
          "Complete Service",
          "Advanced Service",
          "Complete Service",
          "Fundamental Service",
          "Fundamental Service",
          "Complete Service",
          "Fundamental Service",
          "Complete Service",
          "Advanced Service",
          "E-Service",
          "Advanced Service",
          "Advanced Service",
          "Fundamental Service",
          "Fundamental Service",
          "Advanced Service",
          "Fundamental Service",
          "Fundamental Service",
          "Fundamental Service",
          "Fundamental Service",
          "Advanced Service",
          "Complete Service",
          "Advanced Service",
          "Fundamental Service",
          "Advanced Service",
          "Complete Service",
          "Advanced Service",
          "Advanced Service",
          "Complete Service",
          "Fundamental Service",
          "Fundamental Service",
          "E-Service",
          "Fundamental Service",
          "Advanced Service",
          "E-Service",
          "E-Service",
          "Advanced Service",
          "Fundamental Service",
          "Complete Service",
          "Fundamental Service",
          "Advanced Service",
          "E-Service",
          "Advanced Service",
          "Advanced Service",
          "Advanced Service",
          "Fundamental Service",
          "Fundamental Service",
          "Advanced Service",
          "E-Service",
          "Complete Service",
          "Advanced Service",
          "Fundamental Service",
          "E-Service",
          "E-Service",
          "Complete Service",
          "Fundamental Service",
          "Complete Service",
          "Advanced Service",
          "Fundamental Service",
          "Fundamental Service",
          "Advanced Service",
          "Fundamental Service",
          "Advanced Service",
          "Complete Service",
          "Fundamental Service",
          "Complete Service",
          "E-Service",
          "Fundamental Service",
          "Advanced Service",
          "Advanced Service",
          "Complete Service",
          "Advanced Service",
          "Advanced Service",
          "Fundamental Service",
          "Fundamental Service",
          "E-Service",
          "Complete Service",
          "Complete Service",
          "Advanced Service",
          "Fundamental Service",
          "Advanced Service",
          "Fundamental Service",
          "Advanced Service",
          "Fundamental Service",
          "Fundamental Service",
          "Advanced Service",
          "Advanced Service",
          "Complete Service",
          "E-Service",
          "Fundamental Service",
          "Advanced Service",
          "E-Service",
          "Fundamental Service",
          "Complete Service",
          "Complete Service",
          "Fundamental Service",
          "Complete Service",
          "E-Service",
          "E-Service",
          "Complete Service",
          "E-Service",
          "E-Service",
          "Advanced Service",
          "Fundamental Service",
          "E-Service",
          "Advanced Service",
          "Complete Service",
          "Advanced Service",
          "Complete Service",
          "E-Service",
          "E-Service",
          "Advanced Service",
          "Advanced Service",
          "Fundamental Service",
          "Advanced Service",
          "Advanced Service",
          "E-Service",
          "Fundamental Service",
          "Complete Service",
          "E-Service",
          "E-Service",
          "Advanced Service",
          "E-Service",
          "Fundamental Service",
          "Complete Service",
          "E-Service",
          "Complete Service",
          "Advanced Service",
          "Complete Service",
          "E-Service",
          "E-Service",
          "E-Service",
          "Advanced Service",
          "Advanced Service",
          "Fundamental Service",
          "E-Service",
          "E-Service",
          "E-Service",
          "Advanced Service",
          "Complete Service",
          "Complete Service",
          "Fundamental Service",
          "Complete Service",
          "Complete Service",
          "Complete Service",
          "Fundamental Service",
          "Complete Service",
          "Advanced Service",
          "Advanced Service",
          "Complete Service",
          "Fundamental Service",
          "Fundamental Service",
          "Fundamental Service",
          "Complete Service",
          "E-Service",
          "Advanced Service",
          "E-Service",
          "Advanced Service",
          "Fundamental Service",
          "Fundamental Service",
          "Fundamental Service",
          "Fundamental Service",
          "Complete Service",
          "Fundamental Service",
          "E-Service",
          "E-Service",
          "Fundamental Service",
          "Fundamental Service",
          "Complete Service",
          "Advanced Service",
          "E-Service",
          "Complete Service",
          "Advanced Service",
          "Advanced Service",
          "Fundamental Service",
          "Complete Service",
          "E-Service",
          "E-Service",
          "E-Service",
          "Fundamental Service",
          "Complete Service",
          "Complete Service",
          "E-Service",
          "Advanced Service",
          "E-Service",
          "Fundamental Service",
          "Advanced Service",
          "E-Service",
          "Fundamental Service",
          "E-Service",
          "Complete Service",
          "Complete Service",
          "Advanced Service",
          "Fundamental Service",
          "E-Service",
          "Complete Service",
          "Complete Service",
          "Advanced Service",
          "E-Service",
          "Fundamental Service",
          "E-Service",
          "Advanced Service",
          "Complete Service",
          "Advanced Service",
          "Advanced Service",
          "E-Service",
          "Fundamental Service",
          "Complete Service",
          "Complete Service",
          "Complete Service",
          "Fundamental Service",
          "Fundamental Service",
          "Advanced Service",
          "Complete Service",
          "Fundamental Service",
          "Fundamental Service",
          "Fundamental Service",
          "Advanced Service",
          "E-Service",
          "E-Service",
          "E-Service",
          "Fundamental Service",
          "E-Service",
          "Advanced Service",
          "Fundamental Service",
          "Advanced Service",
          "E-Service",
          "Complete Service",
          "Complete Service",
          "Complete Service",
          "Advanced Service",
          "Complete Service",
          "Advanced Service",
          "Advanced Service",
          "Advanced Service",
          "Advanced Service",
          "Advanced Service",
          "Complete Service",
          "Advanced Service",
          "E-Service",
          "Complete Service",
          "Fundamental Service",
          "E-Service",
          "Advanced Service",
          "Advanced Service",
          "Advanced Service",
          "Advanced Service",
          "Advanced Service",
          "Complete Service",
          "Advanced Service",
          "Fundamental Service",
          "Advanced Service",
          "Complete Service",
          "Complete Service",
          "Fundamental Service",
          "Complete Service",
          "Fundamental Service",
          "Advanced Service",
          "E-Service",
          "E-Service",
          "Advanced Service",
          "E-Service",
          "Fundamental Service",
          "Fundamental Service",
          "Advanced Service",
          "Fundamental Service",
          "E-Service",
          "Advanced Service",
          "Advanced Service",
          "Complete Service",
          "Fundamental Service",
          "Advanced Service",
          "Fundamental Service",
          "E-Service",
          "Fundamental Service",
          "Fundamental Service",
          "Fundamental Service",
          "Complete Service",
          "Complete Service",
          "Complete Service",
          "E-Service",
          "Advanced Service",
          "E-Service",
          "E-Service",
          "Advanced Service",
          "Advanced Service",
          "Fundamental Service",
          "Advanced Service",
          "Complete Service",
          "Fundamental Service",
          "E-Service",
          "Advanced Service",
          "Complete Service",
          "Complete Service",
          "E-Service",
          "Complete Service",
          "Fundamental Service",
          "Complete Service",
          "Advanced Service",
          "E-Service",
          "Complete Service",
          "Advanced Service",
          "Advanced Service",
          "E-Service",
          "Fundamental Service",
          "Advanced Service",
          "Advanced Service",
          "Advanced Service",
          "Complete Service",
          "E-Service",
          "Complete Service",
          "Complete Service",
          "Advanced Service",
          "E-Service",
          "Advanced Service",
          "Advanced Service",
          "Complete Service",
          "Complete Service",
          "E-Service",
          "Complete Service",
          "Complete Service",
          "E-Service",
          "Advanced Service",
          "Complete Service",
          "E-Service",
          "Fundamental Service",
          "E-Service",
          "E-Service",
          "Complete Service",
          "Complete Service",
          "Complete Service",
          "Complete Service",
          "Fundamental Service",
          "Fundamental Service",
          "Fundamental Service",
          "Fundamental Service",
          "Fundamental Service",
          "E-Service",
          "Advanced Service",
          "Fundamental Service",
          "Advanced Service",
          "Complete Service",
          "E-Service",
          "Fundamental Service",
          "Advanced Service",
          "Advanced Service",
          "E-Service",
          "Advanced Service",
          "Advanced Service",
          "Complete Service",
          "Fundamental Service",
          "Complete Service",
          "E-Service",
          "Advanced Service",
          "Advanced Service",
          "Advanced Service",
          "Complete Service",
          "Fundamental Service",
          "Advanced Service",
          "Advanced Service",
          "Complete Service",
          "Complete Service",
          "Complete Service",
          "Advanced Service",
          "Complete Service",
          "Fundamental Service",
          "Fundamental Service",
          "Advanced Service",
          "Fundamental Service",
          "Advanced Service",
          "Fundamental Service",
          "E-Service",
          "Complete Service",
          "Advanced Service",
          "Advanced Service",
          "Complete Service",
          "Advanced Service",
          "E-Service",
          "Complete Service",
          "E-Service",
          "Fundamental Service",
          "Complete Service",
          "Advanced Service",
          "Complete Service",
          "Complete Service",
          "Fundamental Service",
          "Fundamental Service",
          "Advanced Service",
          "Advanced Service",
          "Advanced Service",
          "Fundamental Service",
          "Fundamental Service",
          "E-Service",
          "Fundamental Service",
          "Complete Service",
          "Complete Service",
          "Complete Service",
          "Advanced Service",
          "Fundamental Service",
          "Advanced Service",
          "Fundamental Service",
          "Fundamental Service",
          "Advanced Service",
          "Advanced Service",
          "Advanced Service",
          "E-Service",
          "Advanced Service",
          "Fundamental Service",
          "Fundamental Service",
          "Advanced Service",
          "E-Service",
          "Fundamental Service",
          "Advanced Service",
          "Fundamental Service",
          "Advanced Service",
          "Complete Service",
          "Complete Service",
          "Complete Service",
          "E-Service",
          "Advanced Service",
          "Advanced Service",
          "E-Service",
          "Advanced Service",
          "Complete Service",
          "Complete Service",
          "Fundamental Service",
          "Fundamental Service",
          "Complete Service",
          "Advanced Service",
          "E-Service"
         ],
         "xaxis": "x",
         "yaxis": "y"
        }
       ],
       "layout": {
        "barmode": "relative",
        "legend": {
         "tracegroupgap": 0
        },
        "template": {
         "data": {
          "bar": [
           {
            "error_x": {
             "color": "#2a3f5f"
            },
            "error_y": {
             "color": "#2a3f5f"
            },
            "marker": {
             "line": {
              "color": "#E5ECF6",
              "width": 0.5
             },
             "pattern": {
              "fillmode": "overlay",
              "size": 10,
              "solidity": 0.2
             }
            },
            "type": "bar"
           }
          ],
          "barpolar": [
           {
            "marker": {
             "line": {
              "color": "#E5ECF6",
              "width": 0.5
             },
             "pattern": {
              "fillmode": "overlay",
              "size": 10,
              "solidity": 0.2
             }
            },
            "type": "barpolar"
           }
          ],
          "carpet": [
           {
            "aaxis": {
             "endlinecolor": "#2a3f5f",
             "gridcolor": "white",
             "linecolor": "white",
             "minorgridcolor": "white",
             "startlinecolor": "#2a3f5f"
            },
            "baxis": {
             "endlinecolor": "#2a3f5f",
             "gridcolor": "white",
             "linecolor": "white",
             "minorgridcolor": "white",
             "startlinecolor": "#2a3f5f"
            },
            "type": "carpet"
           }
          ],
          "choropleth": [
           {
            "colorbar": {
             "outlinewidth": 0,
             "ticks": ""
            },
            "type": "choropleth"
           }
          ],
          "contour": [
           {
            "colorbar": {
             "outlinewidth": 0,
             "ticks": ""
            },
            "colorscale": [
             [
              0,
              "#0d0887"
             ],
             [
              0.1111111111111111,
              "#46039f"
             ],
             [
              0.2222222222222222,
              "#7201a8"
             ],
             [
              0.3333333333333333,
              "#9c179e"
             ],
             [
              0.4444444444444444,
              "#bd3786"
             ],
             [
              0.5555555555555556,
              "#d8576b"
             ],
             [
              0.6666666666666666,
              "#ed7953"
             ],
             [
              0.7777777777777778,
              "#fb9f3a"
             ],
             [
              0.8888888888888888,
              "#fdca26"
             ],
             [
              1,
              "#f0f921"
             ]
            ],
            "type": "contour"
           }
          ],
          "contourcarpet": [
           {
            "colorbar": {
             "outlinewidth": 0,
             "ticks": ""
            },
            "type": "contourcarpet"
           }
          ],
          "heatmap": [
           {
            "colorbar": {
             "outlinewidth": 0,
             "ticks": ""
            },
            "colorscale": [
             [
              0,
              "#0d0887"
             ],
             [
              0.1111111111111111,
              "#46039f"
             ],
             [
              0.2222222222222222,
              "#7201a8"
             ],
             [
              0.3333333333333333,
              "#9c179e"
             ],
             [
              0.4444444444444444,
              "#bd3786"
             ],
             [
              0.5555555555555556,
              "#d8576b"
             ],
             [
              0.6666666666666666,
              "#ed7953"
             ],
             [
              0.7777777777777778,
              "#fb9f3a"
             ],
             [
              0.8888888888888888,
              "#fdca26"
             ],
             [
              1,
              "#f0f921"
             ]
            ],
            "type": "heatmap"
           }
          ],
          "heatmapgl": [
           {
            "colorbar": {
             "outlinewidth": 0,
             "ticks": ""
            },
            "colorscale": [
             [
              0,
              "#0d0887"
             ],
             [
              0.1111111111111111,
              "#46039f"
             ],
             [
              0.2222222222222222,
              "#7201a8"
             ],
             [
              0.3333333333333333,
              "#9c179e"
             ],
             [
              0.4444444444444444,
              "#bd3786"
             ],
             [
              0.5555555555555556,
              "#d8576b"
             ],
             [
              0.6666666666666666,
              "#ed7953"
             ],
             [
              0.7777777777777778,
              "#fb9f3a"
             ],
             [
              0.8888888888888888,
              "#fdca26"
             ],
             [
              1,
              "#f0f921"
             ]
            ],
            "type": "heatmapgl"
           }
          ],
          "histogram": [
           {
            "marker": {
             "pattern": {
              "fillmode": "overlay",
              "size": 10,
              "solidity": 0.2
             }
            },
            "type": "histogram"
           }
          ],
          "histogram2d": [
           {
            "colorbar": {
             "outlinewidth": 0,
             "ticks": ""
            },
            "colorscale": [
             [
              0,
              "#0d0887"
             ],
             [
              0.1111111111111111,
              "#46039f"
             ],
             [
              0.2222222222222222,
              "#7201a8"
             ],
             [
              0.3333333333333333,
              "#9c179e"
             ],
             [
              0.4444444444444444,
              "#bd3786"
             ],
             [
              0.5555555555555556,
              "#d8576b"
             ],
             [
              0.6666666666666666,
              "#ed7953"
             ],
             [
              0.7777777777777778,
              "#fb9f3a"
             ],
             [
              0.8888888888888888,
              "#fdca26"
             ],
             [
              1,
              "#f0f921"
             ]
            ],
            "type": "histogram2d"
           }
          ],
          "histogram2dcontour": [
           {
            "colorbar": {
             "outlinewidth": 0,
             "ticks": ""
            },
            "colorscale": [
             [
              0,
              "#0d0887"
             ],
             [
              0.1111111111111111,
              "#46039f"
             ],
             [
              0.2222222222222222,
              "#7201a8"
             ],
             [
              0.3333333333333333,
              "#9c179e"
             ],
             [
              0.4444444444444444,
              "#bd3786"
             ],
             [
              0.5555555555555556,
              "#d8576b"
             ],
             [
              0.6666666666666666,
              "#ed7953"
             ],
             [
              0.7777777777777778,
              "#fb9f3a"
             ],
             [
              0.8888888888888888,
              "#fdca26"
             ],
             [
              1,
              "#f0f921"
             ]
            ],
            "type": "histogram2dcontour"
           }
          ],
          "mesh3d": [
           {
            "colorbar": {
             "outlinewidth": 0,
             "ticks": ""
            },
            "type": "mesh3d"
           }
          ],
          "parcoords": [
           {
            "line": {
             "colorbar": {
              "outlinewidth": 0,
              "ticks": ""
             }
            },
            "type": "parcoords"
           }
          ],
          "pie": [
           {
            "automargin": true,
            "type": "pie"
           }
          ],
          "scatter": [
           {
            "fillpattern": {
             "fillmode": "overlay",
             "size": 10,
             "solidity": 0.2
            },
            "type": "scatter"
           }
          ],
          "scatter3d": [
           {
            "line": {
             "colorbar": {
              "outlinewidth": 0,
              "ticks": ""
             }
            },
            "marker": {
             "colorbar": {
              "outlinewidth": 0,
              "ticks": ""
             }
            },
            "type": "scatter3d"
           }
          ],
          "scattercarpet": [
           {
            "marker": {
             "colorbar": {
              "outlinewidth": 0,
              "ticks": ""
             }
            },
            "type": "scattercarpet"
           }
          ],
          "scattergeo": [
           {
            "marker": {
             "colorbar": {
              "outlinewidth": 0,
              "ticks": ""
             }
            },
            "type": "scattergeo"
           }
          ],
          "scattergl": [
           {
            "marker": {
             "colorbar": {
              "outlinewidth": 0,
              "ticks": ""
             }
            },
            "type": "scattergl"
           }
          ],
          "scattermapbox": [
           {
            "marker": {
             "colorbar": {
              "outlinewidth": 0,
              "ticks": ""
             }
            },
            "type": "scattermapbox"
           }
          ],
          "scatterpolar": [
           {
            "marker": {
             "colorbar": {
              "outlinewidth": 0,
              "ticks": ""
             }
            },
            "type": "scatterpolar"
           }
          ],
          "scatterpolargl": [
           {
            "marker": {
             "colorbar": {
              "outlinewidth": 0,
              "ticks": ""
             }
            },
            "type": "scatterpolargl"
           }
          ],
          "scatterternary": [
           {
            "marker": {
             "colorbar": {
              "outlinewidth": 0,
              "ticks": ""
             }
            },
            "type": "scatterternary"
           }
          ],
          "surface": [
           {
            "colorbar": {
             "outlinewidth": 0,
             "ticks": ""
            },
            "colorscale": [
             [
              0,
              "#0d0887"
             ],
             [
              0.1111111111111111,
              "#46039f"
             ],
             [
              0.2222222222222222,
              "#7201a8"
             ],
             [
              0.3333333333333333,
              "#9c179e"
             ],
             [
              0.4444444444444444,
              "#bd3786"
             ],
             [
              0.5555555555555556,
              "#d8576b"
             ],
             [
              0.6666666666666666,
              "#ed7953"
             ],
             [
              0.7777777777777778,
              "#fb9f3a"
             ],
             [
              0.8888888888888888,
              "#fdca26"
             ],
             [
              1,
              "#f0f921"
             ]
            ],
            "type": "surface"
           }
          ],
          "table": [
           {
            "cells": {
             "fill": {
              "color": "#EBF0F8"
             },
             "line": {
              "color": "white"
             }
            },
            "header": {
             "fill": {
              "color": "#C8D4E3"
             },
             "line": {
              "color": "white"
             }
            },
            "type": "table"
           }
          ]
         },
         "layout": {
          "annotationdefaults": {
           "arrowcolor": "#2a3f5f",
           "arrowhead": 0,
           "arrowwidth": 1
          },
          "autotypenumbers": "strict",
          "coloraxis": {
           "colorbar": {
            "outlinewidth": 0,
            "ticks": ""
           }
          },
          "colorscale": {
           "diverging": [
            [
             0,
             "#8e0152"
            ],
            [
             0.1,
             "#c51b7d"
            ],
            [
             0.2,
             "#de77ae"
            ],
            [
             0.3,
             "#f1b6da"
            ],
            [
             0.4,
             "#fde0ef"
            ],
            [
             0.5,
             "#f7f7f7"
            ],
            [
             0.6,
             "#e6f5d0"
            ],
            [
             0.7,
             "#b8e186"
            ],
            [
             0.8,
             "#7fbc41"
            ],
            [
             0.9,
             "#4d9221"
            ],
            [
             1,
             "#276419"
            ]
           ],
           "sequential": [
            [
             0,
             "#0d0887"
            ],
            [
             0.1111111111111111,
             "#46039f"
            ],
            [
             0.2222222222222222,
             "#7201a8"
            ],
            [
             0.3333333333333333,
             "#9c179e"
            ],
            [
             0.4444444444444444,
             "#bd3786"
            ],
            [
             0.5555555555555556,
             "#d8576b"
            ],
            [
             0.6666666666666666,
             "#ed7953"
            ],
            [
             0.7777777777777778,
             "#fb9f3a"
            ],
            [
             0.8888888888888888,
             "#fdca26"
            ],
            [
             1,
             "#f0f921"
            ]
           ],
           "sequentialminus": [
            [
             0,
             "#0d0887"
            ],
            [
             0.1111111111111111,
             "#46039f"
            ],
            [
             0.2222222222222222,
             "#7201a8"
            ],
            [
             0.3333333333333333,
             "#9c179e"
            ],
            [
             0.4444444444444444,
             "#bd3786"
            ],
            [
             0.5555555555555556,
             "#d8576b"
            ],
            [
             0.6666666666666666,
             "#ed7953"
            ],
            [
             0.7777777777777778,
             "#fb9f3a"
            ],
            [
             0.8888888888888888,
             "#fdca26"
            ],
            [
             1,
             "#f0f921"
            ]
           ]
          },
          "colorway": [
           "#636efa",
           "#EF553B",
           "#00cc96",
           "#ab63fa",
           "#FFA15A",
           "#19d3f3",
           "#FF6692",
           "#B6E880",
           "#FF97FF",
           "#FECB52"
          ],
          "font": {
           "color": "#2a3f5f"
          },
          "geo": {
           "bgcolor": "white",
           "lakecolor": "white",
           "landcolor": "#E5ECF6",
           "showlakes": true,
           "showland": true,
           "subunitcolor": "white"
          },
          "hoverlabel": {
           "align": "left"
          },
          "hovermode": "closest",
          "mapbox": {
           "style": "light"
          },
          "paper_bgcolor": "white",
          "plot_bgcolor": "#E5ECF6",
          "polar": {
           "angularaxis": {
            "gridcolor": "white",
            "linecolor": "white",
            "ticks": ""
           },
           "bgcolor": "#E5ECF6",
           "radialaxis": {
            "gridcolor": "white",
            "linecolor": "white",
            "ticks": ""
           }
          },
          "scene": {
           "xaxis": {
            "backgroundcolor": "#E5ECF6",
            "gridcolor": "white",
            "gridwidth": 2,
            "linecolor": "white",
            "showbackground": true,
            "ticks": "",
            "zerolinecolor": "white"
           },
           "yaxis": {
            "backgroundcolor": "#E5ECF6",
            "gridcolor": "white",
            "gridwidth": 2,
            "linecolor": "white",
            "showbackground": true,
            "ticks": "",
            "zerolinecolor": "white"
           },
           "zaxis": {
            "backgroundcolor": "#E5ECF6",
            "gridcolor": "white",
            "gridwidth": 2,
            "linecolor": "white",
            "showbackground": true,
            "ticks": "",
            "zerolinecolor": "white"
           }
          },
          "shapedefaults": {
           "line": {
            "color": "#2a3f5f"
           }
          },
          "ternary": {
           "aaxis": {
            "gridcolor": "white",
            "linecolor": "white",
            "ticks": ""
           },
           "baxis": {
            "gridcolor": "white",
            "linecolor": "white",
            "ticks": ""
           },
           "bgcolor": "#E5ECF6",
           "caxis": {
            "gridcolor": "white",
            "linecolor": "white",
            "ticks": ""
           }
          },
          "title": {
           "x": 0.05
          },
          "xaxis": {
           "automargin": true,
           "gridcolor": "white",
           "linecolor": "white",
           "ticks": "",
           "title": {
            "standoff": 15
           },
           "zerolinecolor": "white",
           "zerolinewidth": 2
          },
          "yaxis": {
           "automargin": true,
           "gridcolor": "white",
           "linecolor": "white",
           "ticks": "",
           "title": {
            "standoff": 15
           },
           "zerolinecolor": "white",
           "zerolinewidth": 2
          }
         }
        },
        "title": {
         "text": "Service Distribution",
         "x": 0.5,
         "xanchor": "center",
         "y": 0.9,
         "yanchor": "top"
        },
        "xaxis": {
         "anchor": "y",
         "domain": [
          0,
          1
         ],
         "showgrid": false,
         "showticklabels": true,
         "tickmode": "array",
         "title": {
          "text": "Service"
         },
         "zeroline": false
        },
        "yaxis": {
         "anchor": "x",
         "domain": [
          0,
          1
         ],
         "title": {
          "text": "Count"
         }
        }
       }
      }
     },
     "metadata": {},
     "output_type": "display_data"
    }
   ],
   "source": [
    "# show distrubution of the service column\n",
    "service_distribution_fig = px.histogram(\n",
    "    df,\n",
    "    x=\"service\",\n",
    "    title=\"Service Distribution\",\n",
    "    text_auto=True,\n",
    ")\n",
    "\n",
    "# Customize layout for better readability\n",
    "service_distribution_fig.update_layout(\n",
    "    xaxis_title=\"Service\",\n",
    "    yaxis_title=\"Count\",\n",
    "    title={\n",
    "        \"text\": \"Service Distribution\",\n",
    "        \"y\": 0.9,\n",
    "        \"x\": 0.5,\n",
    "        \"xanchor\": \"center\",\n",
    "        \"yanchor\": \"top\",\n",
    "    },\n",
    "    xaxis=dict(\n",
    "        tickmode=\"array\",\n",
    "        showticklabels=True,\n",
    "        showgrid=False,\n",
    "        zeroline=False,\n",
    "    ),\n",
    ")\n",
    "\n",
    "# Display the histogram\n",
    "service_distribution_fig.show()"
   ]
  },
  {
   "cell_type": "markdown",
   "metadata": {},
   "source": [
    "Very close. Nothing sharp to think about it."
   ]
  },
  {
   "cell_type": "code",
   "execution_count": 13,
   "metadata": {},
   "outputs": [
    {
     "data": {
      "application/vnd.plotly.v1+json": {
       "config": {
        "plotlyServerURL": "https://plot.ly"
       },
       "data": [
        {
         "alignmentgroup": "True",
         "boxpoints": "all",
         "hovertemplate": "Service: %{x}<br>Income: %{y:$,.0f}<extra></extra>",
         "legendgroup": "",
         "marker": {
          "color": "#636efa"
         },
         "name": "",
         "notched": true,
         "offsetgroup": "",
         "orientation": "v",
         "showlegend": false,
         "type": "box",
         "x": [
          "Fundamental Service",
          "Complete Service",
          "Advanced Service",
          "Fundamental Service",
          "Advanced Service",
          "Advanced Service",
          "E-Service",
          "Complete Service",
          "Advanced Service",
          "E-Service",
          "Fundamental Service",
          "Advanced Service",
          "Fundamental Service",
          "Complete Service",
          "Fundamental Service",
          "E-Service",
          "Advanced Service",
          "Advanced Service",
          "Fundamental Service",
          "Complete Service",
          "E-Service",
          "Fundamental Service",
          "Complete Service",
          "Fundamental Service",
          "Advanced Service",
          "Advanced Service",
          "Complete Service",
          "Advanced Service",
          "Fundamental Service",
          "E-Service",
          "E-Service",
          "Complete Service",
          "Advanced Service",
          "E-Service",
          "Complete Service",
          "E-Service",
          "Complete Service",
          "Advanced Service",
          "Advanced Service",
          "Advanced Service",
          "Advanced Service",
          "Advanced Service",
          "Fundamental Service",
          "Complete Service",
          "Advanced Service",
          "E-Service",
          "E-Service",
          "Complete Service",
          "Fundamental Service",
          "Advanced Service",
          "Fundamental Service",
          "E-Service",
          "Complete Service",
          "Fundamental Service",
          "Fundamental Service",
          "Fundamental Service",
          "E-Service",
          "Fundamental Service",
          "Advanced Service",
          "E-Service",
          "Advanced Service",
          "Complete Service",
          "Fundamental Service",
          "Complete Service",
          "Complete Service",
          "Fundamental Service",
          "Advanced Service",
          "Advanced Service",
          "Fundamental Service",
          "Fundamental Service",
          "Fundamental Service",
          "E-Service",
          "Fundamental Service",
          "E-Service",
          "Advanced Service",
          "Fundamental Service",
          "Advanced Service",
          "Fundamental Service",
          "Advanced Service",
          "Complete Service",
          "Complete Service",
          "Fundamental Service",
          "Complete Service",
          "Advanced Service",
          "E-Service",
          "Fundamental Service",
          "E-Service",
          "Complete Service",
          "Complete Service",
          "Advanced Service",
          "E-Service",
          "Fundamental Service",
          "E-Service",
          "Complete Service",
          "Fundamental Service",
          "Complete Service",
          "Advanced Service",
          "E-Service",
          "Advanced Service",
          "E-Service",
          "Complete Service",
          "Advanced Service",
          "Advanced Service",
          "E-Service",
          "E-Service",
          "E-Service",
          "Fundamental Service",
          "Complete Service",
          "Fundamental Service",
          "E-Service",
          "E-Service",
          "E-Service",
          "Fundamental Service",
          "E-Service",
          "Advanced Service",
          "Fundamental Service",
          "Advanced Service",
          "Advanced Service",
          "Advanced Service",
          "Fundamental Service",
          "Fundamental Service",
          "Fundamental Service",
          "Fundamental Service",
          "E-Service",
          "Fundamental Service",
          "E-Service",
          "Complete Service",
          "E-Service",
          "E-Service",
          "Complete Service",
          "Advanced Service",
          "Fundamental Service",
          "Complete Service",
          "E-Service",
          "Advanced Service",
          "Fundamental Service",
          "Fundamental Service",
          "Advanced Service",
          "Advanced Service",
          "Complete Service",
          "Complete Service",
          "Advanced Service",
          "Complete Service",
          "E-Service",
          "Advanced Service",
          "Fundamental Service",
          "Complete Service",
          "E-Service",
          "E-Service",
          "E-Service",
          "Fundamental Service",
          "Advanced Service",
          "Complete Service",
          "Complete Service",
          "Complete Service",
          "Advanced Service",
          "Fundamental Service",
          "Fundamental Service",
          "E-Service",
          "Advanced Service",
          "Advanced Service",
          "Advanced Service",
          "Fundamental Service",
          "Advanced Service",
          "E-Service",
          "E-Service",
          "Complete Service",
          "Fundamental Service",
          "Fundamental Service",
          "E-Service",
          "Complete Service",
          "Fundamental Service",
          "Complete Service",
          "Fundamental Service",
          "E-Service",
          "Fundamental Service",
          "Advanced Service",
          "Complete Service",
          "Complete Service",
          "Fundamental Service",
          "Complete Service",
          "Fundamental Service",
          "E-Service",
          "E-Service",
          "E-Service",
          "Fundamental Service",
          "Fundamental Service",
          "E-Service",
          "Advanced Service",
          "Advanced Service",
          "Fundamental Service",
          "Complete Service",
          "E-Service",
          "Advanced Service",
          "Complete Service",
          "Fundamental Service",
          "Fundamental Service",
          "Advanced Service",
          "Fundamental Service",
          "Complete Service",
          "Fundamental Service",
          "Complete Service",
          "E-Service",
          "E-Service",
          "Complete Service",
          "Fundamental Service",
          "Advanced Service",
          "Complete Service",
          "Advanced Service",
          "Advanced Service",
          "Fundamental Service",
          "Fundamental Service",
          "Fundamental Service",
          "E-Service",
          "E-Service",
          "Fundamental Service",
          "Advanced Service",
          "Complete Service",
          "Complete Service",
          "Fundamental Service",
          "Advanced Service",
          "Complete Service",
          "Fundamental Service",
          "Advanced Service",
          "Fundamental Service",
          "Complete Service",
          "Complete Service",
          "Fundamental Service",
          "Advanced Service",
          "Advanced Service",
          "Advanced Service",
          "Advanced Service",
          "E-Service",
          "Fundamental Service",
          "Complete Service",
          "E-Service",
          "Complete Service",
          "Complete Service",
          "Fundamental Service",
          "Complete Service",
          "Fundamental Service",
          "Complete Service",
          "Advanced Service",
          "E-Service",
          "Fundamental Service",
          "Advanced Service",
          "E-Service",
          "Fundamental Service",
          "Fundamental Service",
          "E-Service",
          "Fundamental Service",
          "Complete Service",
          "E-Service",
          "E-Service",
          "Complete Service",
          "Advanced Service",
          "E-Service",
          "Fundamental Service",
          "Complete Service",
          "Complete Service",
          "Complete Service",
          "Fundamental Service",
          "Advanced Service",
          "E-Service",
          "Fundamental Service",
          "Fundamental Service",
          "Advanced Service",
          "Advanced Service",
          "Advanced Service",
          "Fundamental Service",
          "Advanced Service",
          "E-Service",
          "Complete Service",
          "Fundamental Service",
          "Advanced Service",
          "E-Service",
          "E-Service",
          "Advanced Service",
          "Advanced Service",
          "Fundamental Service",
          "Complete Service",
          "Complete Service",
          "Advanced Service",
          "E-Service",
          "Advanced Service",
          "Advanced Service",
          "Complete Service",
          "Advanced Service",
          "Advanced Service",
          "E-Service",
          "Complete Service",
          "Advanced Service",
          "E-Service",
          "Advanced Service",
          "Complete Service",
          "Complete Service",
          "Advanced Service",
          "Fundamental Service",
          "Complete Service",
          "E-Service",
          "Advanced Service",
          "Advanced Service",
          "E-Service",
          "E-Service",
          "Fundamental Service",
          "Complete Service",
          "E-Service",
          "Advanced Service",
          "Complete Service",
          "Fundamental Service",
          "Fundamental Service",
          "E-Service",
          "E-Service",
          "Complete Service",
          "Complete Service",
          "Fundamental Service",
          "Advanced Service",
          "Fundamental Service",
          "Complete Service",
          "Fundamental Service",
          "Complete Service",
          "Advanced Service",
          "E-Service",
          "Complete Service",
          "Fundamental Service",
          "Advanced Service",
          "Fundamental Service",
          "Advanced Service",
          "Complete Service",
          "Fundamental Service",
          "Fundamental Service",
          "Fundamental Service",
          "Fundamental Service",
          "Complete Service",
          "E-Service",
          "Fundamental Service",
          "Advanced Service",
          "Fundamental Service",
          "Fundamental Service",
          "Advanced Service",
          "Fundamental Service",
          "Complete Service",
          "Fundamental Service",
          "Complete Service",
          "Advanced Service",
          "Fundamental Service",
          "E-Service",
          "Advanced Service",
          "Complete Service",
          "Complete Service",
          "Complete Service",
          "Advanced Service",
          "Fundamental Service",
          "Advanced Service",
          "E-Service",
          "Advanced Service",
          "E-Service",
          "E-Service",
          "Advanced Service",
          "Advanced Service",
          "Advanced Service",
          "Advanced Service",
          "Complete Service",
          "E-Service",
          "Advanced Service",
          "Fundamental Service",
          "Complete Service",
          "Advanced Service",
          "Fundamental Service",
          "Complete Service",
          "Complete Service",
          "Advanced Service",
          "E-Service",
          "Complete Service",
          "Fundamental Service",
          "Fundamental Service",
          "E-Service",
          "E-Service",
          "Complete Service",
          "Fundamental Service",
          "Fundamental Service",
          "E-Service",
          "Advanced Service",
          "E-Service",
          "E-Service",
          "Advanced Service",
          "Fundamental Service",
          "Complete Service",
          "Advanced Service",
          "E-Service",
          "Fundamental Service",
          "Complete Service",
          "Complete Service",
          "Complete Service",
          "Advanced Service",
          "Complete Service",
          "Advanced Service",
          "E-Service",
          "Advanced Service",
          "Advanced Service",
          "E-Service",
          "Advanced Service",
          "E-Service",
          "Advanced Service",
          "Fundamental Service",
          "Advanced Service",
          "Complete Service",
          "E-Service",
          "Fundamental Service",
          "E-Service",
          "Complete Service",
          "Fundamental Service",
          "E-Service",
          "E-Service",
          "Advanced Service",
          "E-Service",
          "Fundamental Service",
          "Advanced Service",
          "E-Service",
          "Fundamental Service",
          "E-Service",
          "Fundamental Service",
          "Advanced Service",
          "Complete Service",
          "E-Service",
          "E-Service",
          "Complete Service",
          "Fundamental Service",
          "Advanced Service",
          "E-Service",
          "Fundamental Service",
          "E-Service",
          "Fundamental Service",
          "E-Service",
          "Complete Service",
          "Complete Service",
          "Fundamental Service",
          "Complete Service",
          "Advanced Service",
          "Complete Service",
          "Complete Service",
          "Advanced Service",
          "Complete Service",
          "Fundamental Service",
          "Advanced Service",
          "E-Service",
          "Advanced Service",
          "Fundamental Service",
          "Complete Service",
          "Advanced Service",
          "Advanced Service",
          "Fundamental Service",
          "Fundamental Service",
          "E-Service",
          "Complete Service",
          "Fundamental Service",
          "Complete Service",
          "E-Service",
          "Advanced Service",
          "Complete Service",
          "Fundamental Service",
          "Complete Service",
          "Advanced Service",
          "E-Service",
          "Advanced Service",
          "Complete Service",
          "Advanced Service",
          "Fundamental Service",
          "E-Service",
          "Fundamental Service",
          "E-Service",
          "Advanced Service",
          "E-Service",
          "Fundamental Service",
          "Complete Service",
          "E-Service",
          "Complete Service",
          "Advanced Service",
          "E-Service",
          "Fundamental Service",
          "Fundamental Service",
          "Fundamental Service",
          "E-Service",
          "Fundamental Service",
          "Advanced Service",
          "Fundamental Service",
          "Fundamental Service",
          "Advanced Service",
          "E-Service",
          "Advanced Service",
          "Fundamental Service",
          "Fundamental Service",
          "Fundamental Service",
          "Fundamental Service",
          "Advanced Service",
          "Complete Service",
          "E-Service",
          "Complete Service",
          "Advanced Service",
          "Advanced Service",
          "E-Service",
          "E-Service",
          "E-Service",
          "Advanced Service",
          "Fundamental Service",
          "Fundamental Service",
          "E-Service",
          "Complete Service",
          "E-Service",
          "E-Service",
          "Complete Service",
          "Complete Service",
          "E-Service",
          "E-Service",
          "Complete Service",
          "Complete Service",
          "Fundamental Service",
          "Complete Service",
          "Complete Service",
          "Advanced Service",
          "Complete Service",
          "E-Service",
          "Advanced Service",
          "Fundamental Service",
          "E-Service",
          "E-Service",
          "Advanced Service",
          "Fundamental Service",
          "Complete Service",
          "Fundamental Service",
          "Fundamental Service",
          "Fundamental Service",
          "Advanced Service",
          "E-Service",
          "Advanced Service",
          "Advanced Service",
          "Complete Service",
          "Advanced Service",
          "Complete Service",
          "Complete Service",
          "Advanced Service",
          "Advanced Service",
          "Complete Service",
          "Fundamental Service",
          "Advanced Service",
          "Complete Service",
          "Fundamental Service",
          "Advanced Service",
          "Fundamental Service",
          "Fundamental Service",
          "E-Service",
          "Complete Service",
          "E-Service",
          "Advanced Service",
          "Fundamental Service",
          "Fundamental Service",
          "Advanced Service",
          "Advanced Service",
          "E-Service",
          "Complete Service",
          "E-Service",
          "Complete Service",
          "Fundamental Service",
          "Fundamental Service",
          "Advanced Service",
          "E-Service",
          "Fundamental Service",
          "E-Service",
          "Fundamental Service",
          "Advanced Service",
          "E-Service",
          "Complete Service",
          "Advanced Service",
          "Complete Service",
          "Fundamental Service",
          "Fundamental Service",
          "Complete Service",
          "Fundamental Service",
          "Complete Service",
          "Advanced Service",
          "E-Service",
          "Advanced Service",
          "Advanced Service",
          "Fundamental Service",
          "Fundamental Service",
          "Advanced Service",
          "Fundamental Service",
          "Fundamental Service",
          "Fundamental Service",
          "Fundamental Service",
          "Advanced Service",
          "Complete Service",
          "Advanced Service",
          "Fundamental Service",
          "Advanced Service",
          "Complete Service",
          "Advanced Service",
          "Advanced Service",
          "Complete Service",
          "Fundamental Service",
          "Fundamental Service",
          "E-Service",
          "Fundamental Service",
          "Advanced Service",
          "E-Service",
          "E-Service",
          "Advanced Service",
          "Fundamental Service",
          "Complete Service",
          "Fundamental Service",
          "Advanced Service",
          "E-Service",
          "Advanced Service",
          "Advanced Service",
          "Advanced Service",
          "Fundamental Service",
          "Fundamental Service",
          "Advanced Service",
          "E-Service",
          "Complete Service",
          "Advanced Service",
          "Fundamental Service",
          "E-Service",
          "E-Service",
          "Complete Service",
          "Fundamental Service",
          "Complete Service",
          "Advanced Service",
          "Fundamental Service",
          "Fundamental Service",
          "Advanced Service",
          "Fundamental Service",
          "Advanced Service",
          "Complete Service",
          "Fundamental Service",
          "Complete Service",
          "E-Service",
          "Fundamental Service",
          "Advanced Service",
          "Advanced Service",
          "Complete Service",
          "Advanced Service",
          "Advanced Service",
          "Fundamental Service",
          "Fundamental Service",
          "E-Service",
          "Complete Service",
          "Complete Service",
          "Advanced Service",
          "Fundamental Service",
          "Advanced Service",
          "Fundamental Service",
          "Advanced Service",
          "Fundamental Service",
          "Fundamental Service",
          "Advanced Service",
          "Advanced Service",
          "Complete Service",
          "E-Service",
          "Fundamental Service",
          "Advanced Service",
          "E-Service",
          "Fundamental Service",
          "Complete Service",
          "Complete Service",
          "Fundamental Service",
          "Complete Service",
          "E-Service",
          "E-Service",
          "Complete Service",
          "E-Service",
          "E-Service",
          "Advanced Service",
          "Fundamental Service",
          "E-Service",
          "Advanced Service",
          "Complete Service",
          "Advanced Service",
          "Complete Service",
          "E-Service",
          "E-Service",
          "Advanced Service",
          "Advanced Service",
          "Fundamental Service",
          "Advanced Service",
          "Advanced Service",
          "E-Service",
          "Fundamental Service",
          "Complete Service",
          "E-Service",
          "E-Service",
          "Advanced Service",
          "E-Service",
          "Fundamental Service",
          "Complete Service",
          "E-Service",
          "Complete Service",
          "Advanced Service",
          "Complete Service",
          "E-Service",
          "E-Service",
          "E-Service",
          "Advanced Service",
          "Advanced Service",
          "Fundamental Service",
          "E-Service",
          "E-Service",
          "E-Service",
          "Advanced Service",
          "Complete Service",
          "Complete Service",
          "Fundamental Service",
          "Complete Service",
          "Complete Service",
          "Complete Service",
          "Fundamental Service",
          "Complete Service",
          "Advanced Service",
          "Advanced Service",
          "Complete Service",
          "Fundamental Service",
          "Fundamental Service",
          "Fundamental Service",
          "Complete Service",
          "E-Service",
          "Advanced Service",
          "E-Service",
          "Advanced Service",
          "Fundamental Service",
          "Fundamental Service",
          "Fundamental Service",
          "Fundamental Service",
          "Complete Service",
          "Fundamental Service",
          "E-Service",
          "E-Service",
          "Fundamental Service",
          "Fundamental Service",
          "Complete Service",
          "Advanced Service",
          "E-Service",
          "Complete Service",
          "Advanced Service",
          "Advanced Service",
          "Fundamental Service",
          "Complete Service",
          "E-Service",
          "E-Service",
          "E-Service",
          "Fundamental Service",
          "Complete Service",
          "Complete Service",
          "E-Service",
          "Advanced Service",
          "E-Service",
          "Fundamental Service",
          "Advanced Service",
          "E-Service",
          "Fundamental Service",
          "E-Service",
          "Complete Service",
          "Complete Service",
          "Advanced Service",
          "Fundamental Service",
          "E-Service",
          "Complete Service",
          "Complete Service",
          "Advanced Service",
          "E-Service",
          "Fundamental Service",
          "E-Service",
          "Advanced Service",
          "Complete Service",
          "Advanced Service",
          "Advanced Service",
          "E-Service",
          "Fundamental Service",
          "Complete Service",
          "Complete Service",
          "Complete Service",
          "Fundamental Service",
          "Fundamental Service",
          "Advanced Service",
          "Complete Service",
          "Fundamental Service",
          "Fundamental Service",
          "Fundamental Service",
          "Advanced Service",
          "E-Service",
          "E-Service",
          "E-Service",
          "Fundamental Service",
          "E-Service",
          "Advanced Service",
          "Fundamental Service",
          "Advanced Service",
          "E-Service",
          "Complete Service",
          "Complete Service",
          "Complete Service",
          "Advanced Service",
          "Complete Service",
          "Advanced Service",
          "Advanced Service",
          "Advanced Service",
          "Advanced Service",
          "Advanced Service",
          "Complete Service",
          "Advanced Service",
          "E-Service",
          "Complete Service",
          "Fundamental Service",
          "E-Service",
          "Advanced Service",
          "Advanced Service",
          "Advanced Service",
          "Advanced Service",
          "Advanced Service",
          "Complete Service",
          "Advanced Service",
          "Fundamental Service",
          "Advanced Service",
          "Complete Service",
          "Complete Service",
          "Fundamental Service",
          "Complete Service",
          "Fundamental Service",
          "Advanced Service",
          "E-Service",
          "E-Service",
          "Advanced Service",
          "E-Service",
          "Fundamental Service",
          "Fundamental Service",
          "Advanced Service",
          "Fundamental Service",
          "E-Service",
          "Advanced Service",
          "Advanced Service",
          "Complete Service",
          "Fundamental Service",
          "Advanced Service",
          "Fundamental Service",
          "E-Service",
          "Fundamental Service",
          "Fundamental Service",
          "Fundamental Service",
          "Complete Service",
          "Complete Service",
          "Complete Service",
          "E-Service",
          "Advanced Service",
          "E-Service",
          "E-Service",
          "Advanced Service",
          "Advanced Service",
          "Fundamental Service",
          "Advanced Service",
          "Complete Service",
          "Fundamental Service",
          "E-Service",
          "Advanced Service",
          "Complete Service",
          "Complete Service",
          "E-Service",
          "Complete Service",
          "Fundamental Service",
          "Complete Service",
          "Advanced Service",
          "E-Service",
          "Complete Service",
          "Advanced Service",
          "Advanced Service",
          "E-Service",
          "Fundamental Service",
          "Advanced Service",
          "Advanced Service",
          "Advanced Service",
          "Complete Service",
          "E-Service",
          "Complete Service",
          "Complete Service",
          "Advanced Service",
          "E-Service",
          "Advanced Service",
          "Advanced Service",
          "Complete Service",
          "Complete Service",
          "E-Service",
          "Complete Service",
          "Complete Service",
          "E-Service",
          "Advanced Service",
          "Complete Service",
          "E-Service",
          "Fundamental Service",
          "E-Service",
          "E-Service",
          "Complete Service",
          "Complete Service",
          "Complete Service",
          "Complete Service",
          "Fundamental Service",
          "Fundamental Service",
          "Fundamental Service",
          "Fundamental Service",
          "Fundamental Service",
          "E-Service",
          "Advanced Service",
          "Fundamental Service",
          "Advanced Service",
          "Complete Service",
          "E-Service",
          "Fundamental Service",
          "Advanced Service",
          "Advanced Service",
          "E-Service",
          "Advanced Service",
          "Advanced Service",
          "Complete Service",
          "Fundamental Service",
          "Complete Service",
          "E-Service",
          "Advanced Service",
          "Advanced Service",
          "Advanced Service",
          "Complete Service",
          "Fundamental Service",
          "Advanced Service",
          "Advanced Service",
          "Complete Service",
          "Complete Service",
          "Complete Service",
          "Advanced Service",
          "Complete Service",
          "Fundamental Service",
          "Fundamental Service",
          "Advanced Service",
          "Fundamental Service",
          "Advanced Service",
          "Fundamental Service",
          "E-Service",
          "Complete Service",
          "Advanced Service",
          "Advanced Service",
          "Complete Service",
          "Advanced Service",
          "E-Service",
          "Complete Service",
          "E-Service",
          "Fundamental Service",
          "Complete Service",
          "Advanced Service",
          "Complete Service",
          "Complete Service",
          "Fundamental Service",
          "Fundamental Service",
          "Advanced Service",
          "Advanced Service",
          "Advanced Service",
          "Fundamental Service",
          "Fundamental Service",
          "E-Service",
          "Fundamental Service",
          "Complete Service",
          "Complete Service",
          "Complete Service",
          "Advanced Service",
          "Fundamental Service",
          "Advanced Service",
          "Fundamental Service",
          "Fundamental Service",
          "Advanced Service",
          "Advanced Service",
          "Advanced Service",
          "E-Service",
          "Advanced Service",
          "Fundamental Service",
          "Fundamental Service",
          "Advanced Service",
          "E-Service",
          "Fundamental Service",
          "Advanced Service",
          "Fundamental Service",
          "Advanced Service",
          "Complete Service",
          "Complete Service",
          "Complete Service",
          "E-Service",
          "Advanced Service",
          "Advanced Service",
          "E-Service",
          "Advanced Service",
          "Complete Service",
          "Complete Service",
          "Fundamental Service",
          "Fundamental Service",
          "Complete Service",
          "Advanced Service",
          "E-Service"
         ],
         "x0": " ",
         "xaxis": "x",
         "y": [
          64,
          136,
          116,
          33,
          30,
          78,
          19,
          76,
          166,
          72,
          125,
          80,
          37,
          115,
          25,
          75,
          162,
          49,
          20,
          77,
          16,
          120,
          101,
          67,
          36,
          33,
          37,
          31,
          17,
          19,
          36,
          155,
          140,
          55,
          163,
          52,
          211,
          186,
          39,
          22,
          30,
          29,
          23,
          62,
          76,
          74,
          63,
          36,
          33,
          29,
          27,
          49,
          24,
          26,
          47,
          94,
          21,
          27,
          30,
          127,
          137,
          80,
          30,
          438,
          79,
          63,
          40,
          51,
          37,
          61,
          22,
          44,
          17,
          110,
          91,
          46,
          85,
          10,
          244,
          80,
          83,
          21,
          24,
          351,
          169,
          46,
          34,
          50,
          161,
          212,
          80,
          30,
          53,
          73,
          17,
          23,
          34,
          107,
          21,
          83,
          17,
          76,
          19,
          49,
          173,
          47,
          41,
          105,
          31,
          41,
          102,
          36,
          24,
          25,
          68,
          20,
          48,
          40,
          79,
          28,
          64,
          37,
          48,
          131,
          18,
          38,
          37,
          60,
          13,
          98,
          195,
          47,
          65,
          150,
          106,
          51,
          96,
          33,
          38,
          125,
          145,
          99,
          22,
          31,
          25,
          57,
          41,
          20,
          101,
          56,
          22,
          108,
          115,
          53,
          242,
          20,
          123,
          34,
          31,
          47,
          48,
          13,
          78,
          34,
          81,
          86,
          26,
          51,
          59,
          112,
          57,
          41,
          168,
          29,
          167,
          29,
          104,
          46,
          46,
          51,
          65,
          48,
          46,
          43,
          110,
          32,
          18,
          26,
          34,
          57,
          21,
          38,
          19,
          40,
          58,
          95,
          114,
          128,
          33,
          460,
          224,
          122,
          23,
          191,
          187,
          119,
          44,
          15,
          674,
          33,
          250,
          64,
          26,
          23,
          52,
          200,
          28,
          19,
          76,
          70,
          34,
          34,
          172,
          48,
          45,
          72,
          55,
          40,
          26,
          96,
          54,
          47,
          142,
          57,
          20,
          37,
          36,
          24,
          21,
          186,
          30,
          96,
          15,
          25,
          49,
          38,
          29,
          55,
          64,
          42,
          134,
          82,
          153,
          144,
          22,
          35,
          82,
          61,
          102,
          31,
          170,
          26,
          85,
          183,
          67,
          42,
          31,
          96,
          24,
          53,
          18,
          43,
          104,
          26,
          56,
          49,
          80,
          318,
          35,
          29,
          43,
          80,
          30,
          9,
          23,
          58,
          52,
          14,
          110,
          60,
          123,
          15,
          47,
          138,
          359,
          214,
          64,
          50,
          88,
          86,
          17,
          25,
          46,
          361,
          18,
          14,
          34,
          9,
          39,
          18,
          25,
          46,
          94,
          26,
          335,
          25,
          99,
          30,
          35,
          51,
          49,
          54,
          46,
          91,
          23,
          345,
          45,
          53,
          14,
          67,
          49,
          37,
          33,
          46,
          93,
          48,
          183,
          16,
          11,
          42,
          67,
          181,
          53,
          172,
          87,
          21,
          9,
          144,
          117,
          59,
          508,
          222,
          87,
          34,
          18,
          65,
          130,
          44,
          63,
          57,
          264,
          28,
          26,
          38,
          59,
          117,
          70,
          104,
          71,
          70,
          56,
          68,
          80,
          21,
          69,
          39,
          90,
          64,
          28,
          24,
          44,
          32,
          52,
          15,
          46,
          107,
          56,
          40,
          56,
          46,
          51,
          12,
          34,
          27,
          42,
          119,
          146,
          51,
          86,
          27,
          38,
          928,
          21,
          24,
          91,
          38,
          96,
          96,
          54,
          1668,
          53,
          21,
          52,
          17,
          262,
          34,
          107,
          67,
          37,
          21,
          22,
          71,
          77,
          18,
          50,
          33,
          94,
          209,
          31,
          66,
          51,
          118,
          25,
          59,
          20,
          63,
          36,
          72,
          50,
          39,
          54,
          9,
          33,
          28,
          44,
          34,
          68,
          37,
          18,
          55,
          21,
          29,
          9,
          138,
          28,
          62,
          37,
          83,
          168,
          33,
          66,
          18,
          20,
          19,
          25,
          119,
          323,
          45,
          197,
          56,
          24,
          25,
          26,
          33,
          150,
          99,
          50,
          81,
          21,
          273,
          39,
          17,
          115,
          27,
          35,
          20,
          92,
          207,
          40,
          40,
          55,
          26,
          41,
          203,
          380,
          104,
          24,
          81,
          17,
          45,
          32,
          57,
          63,
          25,
          22,
          155,
          30,
          46,
          68,
          67,
          69,
          47,
          83,
          34,
          45,
          29,
          21,
          30,
          78,
          61,
          90,
          43,
          301,
          32,
          41,
          127,
          271,
          32,
          36,
          293,
          41,
          39,
          58,
          28,
          15,
          105,
          80,
          36,
          112,
          55,
          40,
          23,
          28,
          21,
          63,
          52,
          189,
          50,
          23,
          33,
          29,
          96,
          80,
          68,
          30,
          34,
          35,
          36,
          35,
          62,
          94,
          60,
          118,
          135,
          80,
          21,
          22,
          63,
          142,
          32,
          19,
          60,
          97,
          31,
          30,
          31,
          44,
          38,
          23,
          37,
          26,
          38,
          153,
          49,
          51,
          88,
          19,
          31,
          90,
          14,
          341,
          24,
          81,
          63,
          27,
          20,
          48,
          121,
          39,
          21,
          53,
          58,
          39,
          108,
          38,
          245,
          51,
          78,
          23,
          88,
          25,
          73,
          62,
          456,
          24,
          23,
          46,
          263,
          34,
          33,
          37,
          296,
          26,
          47,
          31,
          264,
          41,
          55,
          49,
          26,
          110,
          66,
          39,
          31,
          26,
          232,
          43,
          39,
          73,
          74,
          237,
          22,
          21,
          9,
          41,
          50,
          27,
          53,
          58,
          151,
          54,
          31,
          115,
          24,
          17,
          47,
          36,
          75,
          41,
          18,
          171,
          42,
          36,
          31,
          207,
          38,
          134,
          28,
          15,
          48,
          14,
          101,
          87,
          27,
          27,
          59,
          294,
          44,
          35,
          205,
          732,
          59,
          23,
          87,
          110,
          83,
          63,
          22,
          43,
          35,
          48,
          69,
          26,
          20,
          43,
          33,
          66,
          12,
          90,
          35,
          51,
          117,
          100,
          147,
          53,
          57,
          37,
          42,
          50,
          55,
          42,
          37,
          228,
          163,
          28,
          118,
          115,
          37,
          93,
          71,
          26,
          14,
          18,
          36,
          43,
          41,
          66,
          33,
          53,
          28,
          58,
          129,
          65,
          311,
          57,
          47,
          25,
          46,
          51,
          19,
          26,
          72,
          71,
          41,
          44,
          208,
          45,
          39,
          89,
          19,
          15,
          59,
          20,
          27,
          48,
          135,
          19,
          28,
          12,
          28,
          18,
          58,
          72,
          112,
          28,
          398,
          106,
          10,
          108,
          85,
          51,
          22,
          66,
          10,
          34,
          67,
          19,
          128,
          39,
          56,
          45,
          25,
          24,
          53,
          49,
          38,
          84,
          126,
          73,
          41,
          22,
          23,
          94,
          30,
          31,
          171,
          102,
          27,
          98,
          591,
          25,
          36,
          25,
          69,
          22,
          67,
          73,
          22,
          9,
          147,
          239,
          23,
          29,
          32,
          30,
          57,
          20,
          248,
          59,
          24,
          25,
          37,
          30,
          66,
          16,
          429,
          20,
          262,
          28,
          18,
          144,
          33,
          19,
          30,
          41,
          20,
          65,
          17,
          66,
          18,
          26,
          46,
          19,
          58,
          25,
          15,
          35,
          41,
          71,
          608,
          44,
          41,
          83,
          28,
          101,
          28,
          35,
          39,
          51,
          31,
          209,
          37,
          64,
          88,
          61,
          66,
          19,
          42,
          41,
          50,
          70,
          85,
          45,
          27,
          29,
          48,
          32,
          43,
          16,
          22,
          40,
          256,
          144,
          45,
          34,
          248,
          41,
          27,
          17,
          44,
          135,
          41,
          587,
          38,
          49,
          33,
          36,
          54,
          58,
          23,
          97,
          207,
          21,
          119,
          25,
          59,
          24,
          113,
          22,
          11,
          33,
          205,
          41,
          39,
          107,
          198,
          100,
          1131,
          360,
          162,
          29,
          38,
          82,
          159,
          201,
          27,
          57,
          45,
          17,
          61,
          418,
          152,
          38,
          151,
          23,
          33,
          26,
          89,
          25,
          59,
          55,
          25,
          39,
          56,
          155,
          119,
          64,
          333,
          26,
          33,
          46,
          41,
          31,
          29,
          94,
          288,
          31,
          25,
          269,
          203,
          22,
          25,
          222,
          76,
          55,
          46,
          56,
          79,
          51,
          61,
          41,
          50,
          82,
          108,
          14,
          46,
          46,
          146,
          36,
          83,
          17,
          18,
          24,
          48,
          47,
          25,
          59,
          45,
          163,
          63,
          27,
          190,
          106,
          26,
          63,
          27,
          22,
          944,
          87,
          39
         ],
         "y0": " ",
         "yaxis": "y"
        }
       ],
       "layout": {
        "boxmode": "group",
        "legend": {
         "tracegroupgap": 0
        },
        "template": {
         "data": {
          "bar": [
           {
            "error_x": {
             "color": "#2a3f5f"
            },
            "error_y": {
             "color": "#2a3f5f"
            },
            "marker": {
             "line": {
              "color": "#E5ECF6",
              "width": 0.5
             },
             "pattern": {
              "fillmode": "overlay",
              "size": 10,
              "solidity": 0.2
             }
            },
            "type": "bar"
           }
          ],
          "barpolar": [
           {
            "marker": {
             "line": {
              "color": "#E5ECF6",
              "width": 0.5
             },
             "pattern": {
              "fillmode": "overlay",
              "size": 10,
              "solidity": 0.2
             }
            },
            "type": "barpolar"
           }
          ],
          "carpet": [
           {
            "aaxis": {
             "endlinecolor": "#2a3f5f",
             "gridcolor": "white",
             "linecolor": "white",
             "minorgridcolor": "white",
             "startlinecolor": "#2a3f5f"
            },
            "baxis": {
             "endlinecolor": "#2a3f5f",
             "gridcolor": "white",
             "linecolor": "white",
             "minorgridcolor": "white",
             "startlinecolor": "#2a3f5f"
            },
            "type": "carpet"
           }
          ],
          "choropleth": [
           {
            "colorbar": {
             "outlinewidth": 0,
             "ticks": ""
            },
            "type": "choropleth"
           }
          ],
          "contour": [
           {
            "colorbar": {
             "outlinewidth": 0,
             "ticks": ""
            },
            "colorscale": [
             [
              0,
              "#0d0887"
             ],
             [
              0.1111111111111111,
              "#46039f"
             ],
             [
              0.2222222222222222,
              "#7201a8"
             ],
             [
              0.3333333333333333,
              "#9c179e"
             ],
             [
              0.4444444444444444,
              "#bd3786"
             ],
             [
              0.5555555555555556,
              "#d8576b"
             ],
             [
              0.6666666666666666,
              "#ed7953"
             ],
             [
              0.7777777777777778,
              "#fb9f3a"
             ],
             [
              0.8888888888888888,
              "#fdca26"
             ],
             [
              1,
              "#f0f921"
             ]
            ],
            "type": "contour"
           }
          ],
          "contourcarpet": [
           {
            "colorbar": {
             "outlinewidth": 0,
             "ticks": ""
            },
            "type": "contourcarpet"
           }
          ],
          "heatmap": [
           {
            "colorbar": {
             "outlinewidth": 0,
             "ticks": ""
            },
            "colorscale": [
             [
              0,
              "#0d0887"
             ],
             [
              0.1111111111111111,
              "#46039f"
             ],
             [
              0.2222222222222222,
              "#7201a8"
             ],
             [
              0.3333333333333333,
              "#9c179e"
             ],
             [
              0.4444444444444444,
              "#bd3786"
             ],
             [
              0.5555555555555556,
              "#d8576b"
             ],
             [
              0.6666666666666666,
              "#ed7953"
             ],
             [
              0.7777777777777778,
              "#fb9f3a"
             ],
             [
              0.8888888888888888,
              "#fdca26"
             ],
             [
              1,
              "#f0f921"
             ]
            ],
            "type": "heatmap"
           }
          ],
          "heatmapgl": [
           {
            "colorbar": {
             "outlinewidth": 0,
             "ticks": ""
            },
            "colorscale": [
             [
              0,
              "#0d0887"
             ],
             [
              0.1111111111111111,
              "#46039f"
             ],
             [
              0.2222222222222222,
              "#7201a8"
             ],
             [
              0.3333333333333333,
              "#9c179e"
             ],
             [
              0.4444444444444444,
              "#bd3786"
             ],
             [
              0.5555555555555556,
              "#d8576b"
             ],
             [
              0.6666666666666666,
              "#ed7953"
             ],
             [
              0.7777777777777778,
              "#fb9f3a"
             ],
             [
              0.8888888888888888,
              "#fdca26"
             ],
             [
              1,
              "#f0f921"
             ]
            ],
            "type": "heatmapgl"
           }
          ],
          "histogram": [
           {
            "marker": {
             "pattern": {
              "fillmode": "overlay",
              "size": 10,
              "solidity": 0.2
             }
            },
            "type": "histogram"
           }
          ],
          "histogram2d": [
           {
            "colorbar": {
             "outlinewidth": 0,
             "ticks": ""
            },
            "colorscale": [
             [
              0,
              "#0d0887"
             ],
             [
              0.1111111111111111,
              "#46039f"
             ],
             [
              0.2222222222222222,
              "#7201a8"
             ],
             [
              0.3333333333333333,
              "#9c179e"
             ],
             [
              0.4444444444444444,
              "#bd3786"
             ],
             [
              0.5555555555555556,
              "#d8576b"
             ],
             [
              0.6666666666666666,
              "#ed7953"
             ],
             [
              0.7777777777777778,
              "#fb9f3a"
             ],
             [
              0.8888888888888888,
              "#fdca26"
             ],
             [
              1,
              "#f0f921"
             ]
            ],
            "type": "histogram2d"
           }
          ],
          "histogram2dcontour": [
           {
            "colorbar": {
             "outlinewidth": 0,
             "ticks": ""
            },
            "colorscale": [
             [
              0,
              "#0d0887"
             ],
             [
              0.1111111111111111,
              "#46039f"
             ],
             [
              0.2222222222222222,
              "#7201a8"
             ],
             [
              0.3333333333333333,
              "#9c179e"
             ],
             [
              0.4444444444444444,
              "#bd3786"
             ],
             [
              0.5555555555555556,
              "#d8576b"
             ],
             [
              0.6666666666666666,
              "#ed7953"
             ],
             [
              0.7777777777777778,
              "#fb9f3a"
             ],
             [
              0.8888888888888888,
              "#fdca26"
             ],
             [
              1,
              "#f0f921"
             ]
            ],
            "type": "histogram2dcontour"
           }
          ],
          "mesh3d": [
           {
            "colorbar": {
             "outlinewidth": 0,
             "ticks": ""
            },
            "type": "mesh3d"
           }
          ],
          "parcoords": [
           {
            "line": {
             "colorbar": {
              "outlinewidth": 0,
              "ticks": ""
             }
            },
            "type": "parcoords"
           }
          ],
          "pie": [
           {
            "automargin": true,
            "type": "pie"
           }
          ],
          "scatter": [
           {
            "fillpattern": {
             "fillmode": "overlay",
             "size": 10,
             "solidity": 0.2
            },
            "type": "scatter"
           }
          ],
          "scatter3d": [
           {
            "line": {
             "colorbar": {
              "outlinewidth": 0,
              "ticks": ""
             }
            },
            "marker": {
             "colorbar": {
              "outlinewidth": 0,
              "ticks": ""
             }
            },
            "type": "scatter3d"
           }
          ],
          "scattercarpet": [
           {
            "marker": {
             "colorbar": {
              "outlinewidth": 0,
              "ticks": ""
             }
            },
            "type": "scattercarpet"
           }
          ],
          "scattergeo": [
           {
            "marker": {
             "colorbar": {
              "outlinewidth": 0,
              "ticks": ""
             }
            },
            "type": "scattergeo"
           }
          ],
          "scattergl": [
           {
            "marker": {
             "colorbar": {
              "outlinewidth": 0,
              "ticks": ""
             }
            },
            "type": "scattergl"
           }
          ],
          "scattermapbox": [
           {
            "marker": {
             "colorbar": {
              "outlinewidth": 0,
              "ticks": ""
             }
            },
            "type": "scattermapbox"
           }
          ],
          "scatterpolar": [
           {
            "marker": {
             "colorbar": {
              "outlinewidth": 0,
              "ticks": ""
             }
            },
            "type": "scatterpolar"
           }
          ],
          "scatterpolargl": [
           {
            "marker": {
             "colorbar": {
              "outlinewidth": 0,
              "ticks": ""
             }
            },
            "type": "scatterpolargl"
           }
          ],
          "scatterternary": [
           {
            "marker": {
             "colorbar": {
              "outlinewidth": 0,
              "ticks": ""
             }
            },
            "type": "scatterternary"
           }
          ],
          "surface": [
           {
            "colorbar": {
             "outlinewidth": 0,
             "ticks": ""
            },
            "colorscale": [
             [
              0,
              "#0d0887"
             ],
             [
              0.1111111111111111,
              "#46039f"
             ],
             [
              0.2222222222222222,
              "#7201a8"
             ],
             [
              0.3333333333333333,
              "#9c179e"
             ],
             [
              0.4444444444444444,
              "#bd3786"
             ],
             [
              0.5555555555555556,
              "#d8576b"
             ],
             [
              0.6666666666666666,
              "#ed7953"
             ],
             [
              0.7777777777777778,
              "#fb9f3a"
             ],
             [
              0.8888888888888888,
              "#fdca26"
             ],
             [
              1,
              "#f0f921"
             ]
            ],
            "type": "surface"
           }
          ],
          "table": [
           {
            "cells": {
             "fill": {
              "color": "#EBF0F8"
             },
             "line": {
              "color": "white"
             }
            },
            "header": {
             "fill": {
              "color": "#C8D4E3"
             },
             "line": {
              "color": "white"
             }
            },
            "type": "table"
           }
          ]
         },
         "layout": {
          "annotationdefaults": {
           "arrowcolor": "#2a3f5f",
           "arrowhead": 0,
           "arrowwidth": 1
          },
          "autotypenumbers": "strict",
          "coloraxis": {
           "colorbar": {
            "outlinewidth": 0,
            "ticks": ""
           }
          },
          "colorscale": {
           "diverging": [
            [
             0,
             "#8e0152"
            ],
            [
             0.1,
             "#c51b7d"
            ],
            [
             0.2,
             "#de77ae"
            ],
            [
             0.3,
             "#f1b6da"
            ],
            [
             0.4,
             "#fde0ef"
            ],
            [
             0.5,
             "#f7f7f7"
            ],
            [
             0.6,
             "#e6f5d0"
            ],
            [
             0.7,
             "#b8e186"
            ],
            [
             0.8,
             "#7fbc41"
            ],
            [
             0.9,
             "#4d9221"
            ],
            [
             1,
             "#276419"
            ]
           ],
           "sequential": [
            [
             0,
             "#0d0887"
            ],
            [
             0.1111111111111111,
             "#46039f"
            ],
            [
             0.2222222222222222,
             "#7201a8"
            ],
            [
             0.3333333333333333,
             "#9c179e"
            ],
            [
             0.4444444444444444,
             "#bd3786"
            ],
            [
             0.5555555555555556,
             "#d8576b"
            ],
            [
             0.6666666666666666,
             "#ed7953"
            ],
            [
             0.7777777777777778,
             "#fb9f3a"
            ],
            [
             0.8888888888888888,
             "#fdca26"
            ],
            [
             1,
             "#f0f921"
            ]
           ],
           "sequentialminus": [
            [
             0,
             "#0d0887"
            ],
            [
             0.1111111111111111,
             "#46039f"
            ],
            [
             0.2222222222222222,
             "#7201a8"
            ],
            [
             0.3333333333333333,
             "#9c179e"
            ],
            [
             0.4444444444444444,
             "#bd3786"
            ],
            [
             0.5555555555555556,
             "#d8576b"
            ],
            [
             0.6666666666666666,
             "#ed7953"
            ],
            [
             0.7777777777777778,
             "#fb9f3a"
            ],
            [
             0.8888888888888888,
             "#fdca26"
            ],
            [
             1,
             "#f0f921"
            ]
           ]
          },
          "colorway": [
           "#636efa",
           "#EF553B",
           "#00cc96",
           "#ab63fa",
           "#FFA15A",
           "#19d3f3",
           "#FF6692",
           "#B6E880",
           "#FF97FF",
           "#FECB52"
          ],
          "font": {
           "color": "#2a3f5f"
          },
          "geo": {
           "bgcolor": "white",
           "lakecolor": "white",
           "landcolor": "#E5ECF6",
           "showlakes": true,
           "showland": true,
           "subunitcolor": "white"
          },
          "hoverlabel": {
           "align": "left"
          },
          "hovermode": "closest",
          "mapbox": {
           "style": "light"
          },
          "paper_bgcolor": "white",
          "plot_bgcolor": "#E5ECF6",
          "polar": {
           "angularaxis": {
            "gridcolor": "white",
            "linecolor": "white",
            "ticks": ""
           },
           "bgcolor": "#E5ECF6",
           "radialaxis": {
            "gridcolor": "white",
            "linecolor": "white",
            "ticks": ""
           }
          },
          "scene": {
           "xaxis": {
            "backgroundcolor": "#E5ECF6",
            "gridcolor": "white",
            "gridwidth": 2,
            "linecolor": "white",
            "showbackground": true,
            "ticks": "",
            "zerolinecolor": "white"
           },
           "yaxis": {
            "backgroundcolor": "#E5ECF6",
            "gridcolor": "white",
            "gridwidth": 2,
            "linecolor": "white",
            "showbackground": true,
            "ticks": "",
            "zerolinecolor": "white"
           },
           "zaxis": {
            "backgroundcolor": "#E5ECF6",
            "gridcolor": "white",
            "gridwidth": 2,
            "linecolor": "white",
            "showbackground": true,
            "ticks": "",
            "zerolinecolor": "white"
           }
          },
          "shapedefaults": {
           "line": {
            "color": "#2a3f5f"
           }
          },
          "ternary": {
           "aaxis": {
            "gridcolor": "white",
            "linecolor": "white",
            "ticks": ""
           },
           "baxis": {
            "gridcolor": "white",
            "linecolor": "white",
            "ticks": ""
           },
           "bgcolor": "#E5ECF6",
           "caxis": {
            "gridcolor": "white",
            "linecolor": "white",
            "ticks": ""
           }
          },
          "title": {
           "x": 0.05
          },
          "xaxis": {
           "automargin": true,
           "gridcolor": "white",
           "linecolor": "white",
           "ticks": "",
           "title": {
            "standoff": 15
           },
           "zerolinecolor": "white",
           "zerolinewidth": 2
          },
          "yaxis": {
           "automargin": true,
           "gridcolor": "white",
           "linecolor": "white",
           "ticks": "",
           "title": {
            "standoff": 15
           },
           "zerolinecolor": "white",
           "zerolinewidth": 2
          }
         }
        },
        "title": {
         "text": "Income Distribution by Service",
         "x": 0.5,
         "xanchor": "center",
         "y": 0.95,
         "yanchor": "top"
        },
        "xaxis": {
         "anchor": "y",
         "domain": [
          0,
          1
         ],
         "showgrid": false,
         "showticklabels": true,
         "tickmode": "array",
         "title": {
          "text": "Service"
         },
         "zeroline": false
        },
        "yaxis": {
         "anchor": "x",
         "domain": [
          0,
          1
         ],
         "gridcolor": "lightgrey",
         "showgrid": true,
         "tickformat": ",.0f",
         "title": {
          "text": "Income"
         }
        }
       }
      }
     },
     "metadata": {},
     "output_type": "display_data"
    }
   ],
   "source": [
    "# Create box plot for income distribution by service\n",
    "income_service_distribution_fig = px.box(\n",
    "    df,\n",
    "    x=\"service\",\n",
    "    y=\"salary\",\n",
    "    title=\"Income Distribution by Service\",\n",
    "    points=\"all\",  # Show all data points\n",
    "    notched=True,  # Add notches for median confidence intervals\n",
    ")\n",
    "\n",
    "# Customize layout for better readability and presentation\n",
    "income_service_distribution_fig.update_layout(\n",
    "    xaxis_title=\"Service\",\n",
    "    yaxis_title=\"Income\",\n",
    "    title={\n",
    "        \"text\": \"Income Distribution by Service\",\n",
    "        \"y\": 0.95,\n",
    "        \"x\": 0.5,\n",
    "        \"xanchor\": \"center\",\n",
    "        \"yanchor\": \"top\",\n",
    "    },\n",
    "    xaxis=dict(\n",
    "        tickmode=\"array\",\n",
    "        showticklabels=True,\n",
    "        showgrid=False,\n",
    "        zeroline=False,\n",
    "    ),\n",
    "    yaxis=dict(\n",
    "        showgrid=True,\n",
    "        gridcolor=\"lightgrey\",\n",
    "        tickformat=\",.0f\",  # Format numbers with commas (e.g., 100,000)\n",
    "    ),\n",
    ")\n",
    "\n",
    "# Customize hover labels for clarity\n",
    "income_service_distribution_fig.update_traces(\n",
    "    hovertemplate=\"Service: %{x}<br>Income: %{y:$,.0f}<extra></extra>\"  # Format hover to show salary with commas\n",
    ")\n",
    "\n",
    "# Display the improved box plot\n",
    "income_service_distribution_fig.show()"
   ]
  },
  {
   "cell_type": "markdown",
   "metadata": {},
   "source": [
    "There are some outlier values which we need to consider."
   ]
  },
  {
   "cell_type": "code",
   "execution_count": 14,
   "metadata": {},
   "outputs": [
    {
     "data": {
      "application/vnd.plotly.v1+json": {
       "config": {
        "plotlyServerURL": "https://plot.ly"
       },
       "data": [
        {
         "alignmentgroup": "True",
         "bingroup": "x",
         "hovertemplate": "ed=%{x}<br>count=%{y}<extra></extra>",
         "legendgroup": "",
         "marker": {
          "color": "#636efa",
          "pattern": {
           "shape": ""
          }
         },
         "name": "",
         "offsetgroup": "",
         "orientation": "v",
         "showlegend": false,
         "texttemplate": "%{value}",
         "type": "histogram",
         "x": [
          4,
          5,
          1,
          2,
          1,
          2,
          2,
          2,
          4,
          1,
          4,
          2,
          2,
          4,
          1,
          5,
          2,
          2,
          1,
          4,
          3,
          1,
          5,
          1,
          1,
          2,
          2,
          1,
          2,
          4,
          1,
          5,
          2,
          5,
          3,
          4,
          4,
          2,
          1,
          2,
          1,
          2,
          2,
          4,
          4,
          4,
          4,
          4,
          2,
          2,
          2,
          2,
          4,
          2,
          3,
          2,
          3,
          1,
          2,
          4,
          2,
          2,
          2,
          4,
          2,
          1,
          3,
          1,
          3,
          4,
          2,
          4,
          3,
          5,
          2,
          2,
          3,
          2,
          1,
          4,
          5,
          1,
          2,
          3,
          4,
          2,
          3,
          4,
          5,
          4,
          5,
          4,
          5,
          5,
          2,
          5,
          1,
          1,
          1,
          2,
          3,
          3,
          1,
          4,
          3,
          3,
          2,
          3,
          4,
          2,
          4,
          4,
          1,
          4,
          2,
          3,
          1,
          2,
          1,
          1,
          2,
          2,
          1,
          5,
          2,
          2,
          2,
          4,
          3,
          1,
          1,
          1,
          2,
          5,
          5,
          4,
          4,
          5,
          2,
          4,
          5,
          2,
          4,
          1,
          1,
          5,
          5,
          3,
          2,
          2,
          2,
          4,
          4,
          4,
          4,
          2,
          4,
          1,
          4,
          1,
          3,
          2,
          1,
          1,
          5,
          2,
          4,
          2,
          3,
          4,
          4,
          1,
          2,
          4,
          2,
          2,
          1,
          4,
          4,
          4,
          2,
          2,
          3,
          2,
          1,
          3,
          3,
          4,
          2,
          4,
          2,
          3,
          3,
          3,
          3,
          2,
          2,
          3,
          4,
          4,
          3,
          4,
          3,
          3,
          4,
          3,
          2,
          3,
          4,
          4,
          2,
          4,
          2,
          3,
          4,
          3,
          1,
          5,
          3,
          2,
          2,
          5,
          3,
          1,
          2,
          3,
          4,
          4,
          3,
          1,
          1,
          2,
          1,
          4,
          3,
          1,
          4,
          4,
          2,
          3,
          1,
          2,
          1,
          1,
          3,
          2,
          2,
          2,
          3,
          4,
          4,
          1,
          5,
          2,
          4,
          1,
          4,
          1,
          2,
          3,
          1,
          2,
          3,
          2,
          1,
          1,
          1,
          2,
          3,
          2,
          1,
          4,
          3,
          1,
          2,
          2,
          1,
          3,
          4,
          1,
          5,
          5,
          3,
          3,
          2,
          4,
          1,
          3,
          2,
          2,
          3,
          5,
          4,
          4,
          3,
          3,
          1,
          4,
          3,
          2,
          1,
          2,
          2,
          1,
          3,
          4,
          3,
          2,
          2,
          3,
          4,
          5,
          4,
          3,
          1,
          3,
          3,
          2,
          2,
          5,
          3,
          1,
          4,
          4,
          4,
          1,
          4,
          2,
          2,
          5,
          3,
          1,
          1,
          3,
          1,
          2,
          2,
          1,
          2,
          4,
          4,
          4,
          4,
          2,
          2,
          5,
          2,
          3,
          4,
          4,
          4,
          2,
          3,
          1,
          4,
          3,
          3,
          3,
          1,
          4,
          1,
          1,
          3,
          4,
          3,
          4,
          4,
          2,
          3,
          3,
          4,
          1,
          2,
          4,
          3,
          2,
          2,
          5,
          2,
          2,
          2,
          4,
          4,
          3,
          3,
          2,
          2,
          4,
          3,
          2,
          2,
          1,
          5,
          2,
          3,
          5,
          1,
          2,
          1,
          3,
          3,
          3,
          2,
          1,
          1,
          2,
          4,
          3,
          3,
          4,
          4,
          3,
          5,
          3,
          2,
          5,
          1,
          5,
          4,
          2,
          1,
          3,
          3,
          4,
          2,
          4,
          1,
          1,
          4,
          2,
          1,
          2,
          2,
          3,
          2,
          5,
          4,
          4,
          1,
          2,
          2,
          1,
          4,
          1,
          2,
          4,
          4,
          1,
          3,
          2,
          1,
          3,
          2,
          2,
          4,
          1,
          3,
          1,
          1,
          4,
          3,
          4,
          1,
          3,
          2,
          5,
          4,
          1,
          4,
          3,
          4,
          3,
          5,
          4,
          2,
          2,
          4,
          3,
          1,
          3,
          3,
          2,
          3,
          2,
          1,
          2,
          1,
          2,
          1,
          2,
          4,
          1,
          2,
          4,
          2,
          4,
          3,
          3,
          1,
          1,
          2,
          4,
          4,
          4,
          1,
          2,
          2,
          3,
          4,
          2,
          3,
          2,
          2,
          2,
          2,
          2,
          2,
          3,
          4,
          3,
          5,
          2,
          2,
          2,
          2,
          1,
          1,
          3,
          4,
          3,
          3,
          3,
          1,
          1,
          2,
          4,
          4,
          2,
          4,
          4,
          4,
          2,
          4,
          2,
          4,
          4,
          1,
          1,
          1,
          2,
          3,
          3,
          5,
          2,
          1,
          2,
          2,
          2,
          3,
          3,
          1,
          1,
          2,
          4,
          2,
          3,
          1,
          4,
          2,
          3,
          3,
          4,
          1,
          2,
          3,
          1,
          2,
          2,
          2,
          3,
          2,
          2,
          3,
          1,
          3,
          1,
          1,
          1,
          2,
          1,
          2,
          4,
          2,
          2,
          1,
          5,
          3,
          4,
          3,
          2,
          4,
          1,
          3,
          1,
          1,
          4,
          1,
          4,
          4,
          4,
          2,
          2,
          4,
          3,
          2,
          2,
          1,
          2,
          4,
          2,
          1,
          2,
          3,
          4,
          3,
          2,
          4,
          2,
          2,
          1,
          4,
          1,
          3,
          2,
          4,
          4,
          4,
          4,
          2,
          1,
          4,
          1,
          1,
          2,
          5,
          4,
          3,
          3,
          3,
          4,
          2,
          1,
          1,
          1,
          2,
          2,
          1,
          4,
          5,
          4,
          3,
          3,
          3,
          5,
          2,
          1,
          4,
          3,
          2,
          4,
          2,
          4,
          2,
          1,
          5,
          3,
          4,
          3,
          2,
          4,
          3,
          3,
          1,
          2,
          1,
          3,
          4,
          3,
          3,
          2,
          2,
          3,
          4,
          1,
          2,
          1,
          2,
          2,
          2,
          3,
          5,
          3,
          2,
          1,
          4,
          5,
          2,
          3,
          1,
          4,
          2,
          1,
          3,
          5,
          4,
          5,
          2,
          4,
          1,
          4,
          2,
          4,
          1,
          4,
          4,
          4,
          2,
          4,
          4,
          4,
          4,
          4,
          4,
          3,
          3,
          2,
          1,
          5,
          3,
          2,
          3,
          5,
          1,
          2,
          2,
          4,
          4,
          3,
          4,
          2,
          2,
          2,
          3,
          4,
          2,
          2,
          1,
          4,
          1,
          2,
          3,
          3,
          3,
          4,
          2,
          5,
          3,
          1,
          3,
          2,
          3,
          2,
          2,
          2,
          1,
          1,
          1,
          4,
          5,
          1,
          4,
          1,
          2,
          4,
          1,
          1,
          3,
          1,
          4,
          4,
          4,
          1,
          2,
          3,
          2,
          1,
          1,
          4,
          4,
          4,
          1,
          4,
          2,
          2,
          1,
          2,
          4,
          4,
          2,
          3,
          2,
          3,
          4,
          2,
          3,
          2,
          2,
          2,
          3,
          2,
          1,
          3,
          4,
          4,
          1,
          4,
          2,
          3,
          3,
          2,
          3,
          1,
          3,
          1,
          2,
          2,
          3,
          4,
          1,
          4,
          4,
          4,
          1,
          2,
          1,
          2,
          2,
          2,
          4,
          3,
          4,
          2,
          3,
          2,
          2,
          1,
          2,
          2,
          4,
          2,
          4,
          3,
          4,
          3,
          1,
          3,
          3,
          2,
          2,
          1,
          4,
          1,
          3,
          1,
          1,
          4,
          2,
          1,
          5,
          2,
          3,
          3,
          4,
          4,
          2,
          3,
          2,
          4,
          3,
          4,
          2,
          4,
          3,
          4,
          2,
          3,
          1,
          3,
          2,
          5,
          5,
          3,
          3,
          3,
          1,
          3,
          1,
          4,
          1,
          1,
          1,
          5,
          3,
          1,
          2,
          1,
          5,
          2,
          3,
          2,
          5,
          4,
          3,
          2,
          2,
          4,
          3,
          1,
          2,
          1,
          4,
          2,
          4,
          4,
          4,
          4,
          1,
          1,
          4,
          2,
          2,
          3,
          2,
          1,
          3,
          5,
          3,
          5,
          2,
          4,
          3,
          2,
          1,
          4,
          2,
          3,
          1,
          2,
          2,
          3,
          2,
          2,
          5,
          3,
          2,
          3,
          4,
          3,
          3,
          1,
          1,
          2,
          1,
          1,
          2,
          1,
          1,
          4,
          1,
          1,
          3,
          3,
          1,
          3,
          1,
          4,
          4,
          4,
          4,
          2,
          3,
          2,
          2,
          3,
          5,
          3,
          5,
          5,
          2,
          3
         ],
         "xaxis": "x",
         "yaxis": "y"
        }
       ],
       "layout": {
        "barmode": "relative",
        "legend": {
         "tracegroupgap": 0
        },
        "template": {
         "data": {
          "bar": [
           {
            "error_x": {
             "color": "#2a3f5f"
            },
            "error_y": {
             "color": "#2a3f5f"
            },
            "marker": {
             "line": {
              "color": "#E5ECF6",
              "width": 0.5
             },
             "pattern": {
              "fillmode": "overlay",
              "size": 10,
              "solidity": 0.2
             }
            },
            "type": "bar"
           }
          ],
          "barpolar": [
           {
            "marker": {
             "line": {
              "color": "#E5ECF6",
              "width": 0.5
             },
             "pattern": {
              "fillmode": "overlay",
              "size": 10,
              "solidity": 0.2
             }
            },
            "type": "barpolar"
           }
          ],
          "carpet": [
           {
            "aaxis": {
             "endlinecolor": "#2a3f5f",
             "gridcolor": "white",
             "linecolor": "white",
             "minorgridcolor": "white",
             "startlinecolor": "#2a3f5f"
            },
            "baxis": {
             "endlinecolor": "#2a3f5f",
             "gridcolor": "white",
             "linecolor": "white",
             "minorgridcolor": "white",
             "startlinecolor": "#2a3f5f"
            },
            "type": "carpet"
           }
          ],
          "choropleth": [
           {
            "colorbar": {
             "outlinewidth": 0,
             "ticks": ""
            },
            "type": "choropleth"
           }
          ],
          "contour": [
           {
            "colorbar": {
             "outlinewidth": 0,
             "ticks": ""
            },
            "colorscale": [
             [
              0,
              "#0d0887"
             ],
             [
              0.1111111111111111,
              "#46039f"
             ],
             [
              0.2222222222222222,
              "#7201a8"
             ],
             [
              0.3333333333333333,
              "#9c179e"
             ],
             [
              0.4444444444444444,
              "#bd3786"
             ],
             [
              0.5555555555555556,
              "#d8576b"
             ],
             [
              0.6666666666666666,
              "#ed7953"
             ],
             [
              0.7777777777777778,
              "#fb9f3a"
             ],
             [
              0.8888888888888888,
              "#fdca26"
             ],
             [
              1,
              "#f0f921"
             ]
            ],
            "type": "contour"
           }
          ],
          "contourcarpet": [
           {
            "colorbar": {
             "outlinewidth": 0,
             "ticks": ""
            },
            "type": "contourcarpet"
           }
          ],
          "heatmap": [
           {
            "colorbar": {
             "outlinewidth": 0,
             "ticks": ""
            },
            "colorscale": [
             [
              0,
              "#0d0887"
             ],
             [
              0.1111111111111111,
              "#46039f"
             ],
             [
              0.2222222222222222,
              "#7201a8"
             ],
             [
              0.3333333333333333,
              "#9c179e"
             ],
             [
              0.4444444444444444,
              "#bd3786"
             ],
             [
              0.5555555555555556,
              "#d8576b"
             ],
             [
              0.6666666666666666,
              "#ed7953"
             ],
             [
              0.7777777777777778,
              "#fb9f3a"
             ],
             [
              0.8888888888888888,
              "#fdca26"
             ],
             [
              1,
              "#f0f921"
             ]
            ],
            "type": "heatmap"
           }
          ],
          "heatmapgl": [
           {
            "colorbar": {
             "outlinewidth": 0,
             "ticks": ""
            },
            "colorscale": [
             [
              0,
              "#0d0887"
             ],
             [
              0.1111111111111111,
              "#46039f"
             ],
             [
              0.2222222222222222,
              "#7201a8"
             ],
             [
              0.3333333333333333,
              "#9c179e"
             ],
             [
              0.4444444444444444,
              "#bd3786"
             ],
             [
              0.5555555555555556,
              "#d8576b"
             ],
             [
              0.6666666666666666,
              "#ed7953"
             ],
             [
              0.7777777777777778,
              "#fb9f3a"
             ],
             [
              0.8888888888888888,
              "#fdca26"
             ],
             [
              1,
              "#f0f921"
             ]
            ],
            "type": "heatmapgl"
           }
          ],
          "histogram": [
           {
            "marker": {
             "pattern": {
              "fillmode": "overlay",
              "size": 10,
              "solidity": 0.2
             }
            },
            "type": "histogram"
           }
          ],
          "histogram2d": [
           {
            "colorbar": {
             "outlinewidth": 0,
             "ticks": ""
            },
            "colorscale": [
             [
              0,
              "#0d0887"
             ],
             [
              0.1111111111111111,
              "#46039f"
             ],
             [
              0.2222222222222222,
              "#7201a8"
             ],
             [
              0.3333333333333333,
              "#9c179e"
             ],
             [
              0.4444444444444444,
              "#bd3786"
             ],
             [
              0.5555555555555556,
              "#d8576b"
             ],
             [
              0.6666666666666666,
              "#ed7953"
             ],
             [
              0.7777777777777778,
              "#fb9f3a"
             ],
             [
              0.8888888888888888,
              "#fdca26"
             ],
             [
              1,
              "#f0f921"
             ]
            ],
            "type": "histogram2d"
           }
          ],
          "histogram2dcontour": [
           {
            "colorbar": {
             "outlinewidth": 0,
             "ticks": ""
            },
            "colorscale": [
             [
              0,
              "#0d0887"
             ],
             [
              0.1111111111111111,
              "#46039f"
             ],
             [
              0.2222222222222222,
              "#7201a8"
             ],
             [
              0.3333333333333333,
              "#9c179e"
             ],
             [
              0.4444444444444444,
              "#bd3786"
             ],
             [
              0.5555555555555556,
              "#d8576b"
             ],
             [
              0.6666666666666666,
              "#ed7953"
             ],
             [
              0.7777777777777778,
              "#fb9f3a"
             ],
             [
              0.8888888888888888,
              "#fdca26"
             ],
             [
              1,
              "#f0f921"
             ]
            ],
            "type": "histogram2dcontour"
           }
          ],
          "mesh3d": [
           {
            "colorbar": {
             "outlinewidth": 0,
             "ticks": ""
            },
            "type": "mesh3d"
           }
          ],
          "parcoords": [
           {
            "line": {
             "colorbar": {
              "outlinewidth": 0,
              "ticks": ""
             }
            },
            "type": "parcoords"
           }
          ],
          "pie": [
           {
            "automargin": true,
            "type": "pie"
           }
          ],
          "scatter": [
           {
            "fillpattern": {
             "fillmode": "overlay",
             "size": 10,
             "solidity": 0.2
            },
            "type": "scatter"
           }
          ],
          "scatter3d": [
           {
            "line": {
             "colorbar": {
              "outlinewidth": 0,
              "ticks": ""
             }
            },
            "marker": {
             "colorbar": {
              "outlinewidth": 0,
              "ticks": ""
             }
            },
            "type": "scatter3d"
           }
          ],
          "scattercarpet": [
           {
            "marker": {
             "colorbar": {
              "outlinewidth": 0,
              "ticks": ""
             }
            },
            "type": "scattercarpet"
           }
          ],
          "scattergeo": [
           {
            "marker": {
             "colorbar": {
              "outlinewidth": 0,
              "ticks": ""
             }
            },
            "type": "scattergeo"
           }
          ],
          "scattergl": [
           {
            "marker": {
             "colorbar": {
              "outlinewidth": 0,
              "ticks": ""
             }
            },
            "type": "scattergl"
           }
          ],
          "scattermapbox": [
           {
            "marker": {
             "colorbar": {
              "outlinewidth": 0,
              "ticks": ""
             }
            },
            "type": "scattermapbox"
           }
          ],
          "scatterpolar": [
           {
            "marker": {
             "colorbar": {
              "outlinewidth": 0,
              "ticks": ""
             }
            },
            "type": "scatterpolar"
           }
          ],
          "scatterpolargl": [
           {
            "marker": {
             "colorbar": {
              "outlinewidth": 0,
              "ticks": ""
             }
            },
            "type": "scatterpolargl"
           }
          ],
          "scatterternary": [
           {
            "marker": {
             "colorbar": {
              "outlinewidth": 0,
              "ticks": ""
             }
            },
            "type": "scatterternary"
           }
          ],
          "surface": [
           {
            "colorbar": {
             "outlinewidth": 0,
             "ticks": ""
            },
            "colorscale": [
             [
              0,
              "#0d0887"
             ],
             [
              0.1111111111111111,
              "#46039f"
             ],
             [
              0.2222222222222222,
              "#7201a8"
             ],
             [
              0.3333333333333333,
              "#9c179e"
             ],
             [
              0.4444444444444444,
              "#bd3786"
             ],
             [
              0.5555555555555556,
              "#d8576b"
             ],
             [
              0.6666666666666666,
              "#ed7953"
             ],
             [
              0.7777777777777778,
              "#fb9f3a"
             ],
             [
              0.8888888888888888,
              "#fdca26"
             ],
             [
              1,
              "#f0f921"
             ]
            ],
            "type": "surface"
           }
          ],
          "table": [
           {
            "cells": {
             "fill": {
              "color": "#EBF0F8"
             },
             "line": {
              "color": "white"
             }
            },
            "header": {
             "fill": {
              "color": "#C8D4E3"
             },
             "line": {
              "color": "white"
             }
            },
            "type": "table"
           }
          ]
         },
         "layout": {
          "annotationdefaults": {
           "arrowcolor": "#2a3f5f",
           "arrowhead": 0,
           "arrowwidth": 1
          },
          "autotypenumbers": "strict",
          "coloraxis": {
           "colorbar": {
            "outlinewidth": 0,
            "ticks": ""
           }
          },
          "colorscale": {
           "diverging": [
            [
             0,
             "#8e0152"
            ],
            [
             0.1,
             "#c51b7d"
            ],
            [
             0.2,
             "#de77ae"
            ],
            [
             0.3,
             "#f1b6da"
            ],
            [
             0.4,
             "#fde0ef"
            ],
            [
             0.5,
             "#f7f7f7"
            ],
            [
             0.6,
             "#e6f5d0"
            ],
            [
             0.7,
             "#b8e186"
            ],
            [
             0.8,
             "#7fbc41"
            ],
            [
             0.9,
             "#4d9221"
            ],
            [
             1,
             "#276419"
            ]
           ],
           "sequential": [
            [
             0,
             "#0d0887"
            ],
            [
             0.1111111111111111,
             "#46039f"
            ],
            [
             0.2222222222222222,
             "#7201a8"
            ],
            [
             0.3333333333333333,
             "#9c179e"
            ],
            [
             0.4444444444444444,
             "#bd3786"
            ],
            [
             0.5555555555555556,
             "#d8576b"
            ],
            [
             0.6666666666666666,
             "#ed7953"
            ],
            [
             0.7777777777777778,
             "#fb9f3a"
            ],
            [
             0.8888888888888888,
             "#fdca26"
            ],
            [
             1,
             "#f0f921"
            ]
           ],
           "sequentialminus": [
            [
             0,
             "#0d0887"
            ],
            [
             0.1111111111111111,
             "#46039f"
            ],
            [
             0.2222222222222222,
             "#7201a8"
            ],
            [
             0.3333333333333333,
             "#9c179e"
            ],
            [
             0.4444444444444444,
             "#bd3786"
            ],
            [
             0.5555555555555556,
             "#d8576b"
            ],
            [
             0.6666666666666666,
             "#ed7953"
            ],
            [
             0.7777777777777778,
             "#fb9f3a"
            ],
            [
             0.8888888888888888,
             "#fdca26"
            ],
            [
             1,
             "#f0f921"
            ]
           ]
          },
          "colorway": [
           "#636efa",
           "#EF553B",
           "#00cc96",
           "#ab63fa",
           "#FFA15A",
           "#19d3f3",
           "#FF6692",
           "#B6E880",
           "#FF97FF",
           "#FECB52"
          ],
          "font": {
           "color": "#2a3f5f"
          },
          "geo": {
           "bgcolor": "white",
           "lakecolor": "white",
           "landcolor": "#E5ECF6",
           "showlakes": true,
           "showland": true,
           "subunitcolor": "white"
          },
          "hoverlabel": {
           "align": "left"
          },
          "hovermode": "closest",
          "mapbox": {
           "style": "light"
          },
          "paper_bgcolor": "white",
          "plot_bgcolor": "#E5ECF6",
          "polar": {
           "angularaxis": {
            "gridcolor": "white",
            "linecolor": "white",
            "ticks": ""
           },
           "bgcolor": "#E5ECF6",
           "radialaxis": {
            "gridcolor": "white",
            "linecolor": "white",
            "ticks": ""
           }
          },
          "scene": {
           "xaxis": {
            "backgroundcolor": "#E5ECF6",
            "gridcolor": "white",
            "gridwidth": 2,
            "linecolor": "white",
            "showbackground": true,
            "ticks": "",
            "zerolinecolor": "white"
           },
           "yaxis": {
            "backgroundcolor": "#E5ECF6",
            "gridcolor": "white",
            "gridwidth": 2,
            "linecolor": "white",
            "showbackground": true,
            "ticks": "",
            "zerolinecolor": "white"
           },
           "zaxis": {
            "backgroundcolor": "#E5ECF6",
            "gridcolor": "white",
            "gridwidth": 2,
            "linecolor": "white",
            "showbackground": true,
            "ticks": "",
            "zerolinecolor": "white"
           }
          },
          "shapedefaults": {
           "line": {
            "color": "#2a3f5f"
           }
          },
          "ternary": {
           "aaxis": {
            "gridcolor": "white",
            "linecolor": "white",
            "ticks": ""
           },
           "baxis": {
            "gridcolor": "white",
            "linecolor": "white",
            "ticks": ""
           },
           "bgcolor": "#E5ECF6",
           "caxis": {
            "gridcolor": "white",
            "linecolor": "white",
            "ticks": ""
           }
          },
          "title": {
           "x": 0.05
          },
          "xaxis": {
           "automargin": true,
           "gridcolor": "white",
           "linecolor": "white",
           "ticks": "",
           "title": {
            "standoff": 15
           },
           "zerolinecolor": "white",
           "zerolinewidth": 2
          },
          "yaxis": {
           "automargin": true,
           "gridcolor": "white",
           "linecolor": "white",
           "ticks": "",
           "title": {
            "standoff": 15
           },
           "zerolinecolor": "white",
           "zerolinewidth": 2
          }
         }
        },
        "title": {
         "text": "Education Distribution",
         "x": 0.5,
         "xanchor": "center",
         "y": 0.9,
         "yanchor": "top"
        },
        "xaxis": {
         "anchor": "y",
         "domain": [
          0,
          1
         ],
         "showgrid": false,
         "showticklabels": true,
         "tickmode": "array",
         "title": {
          "text": "Education"
         },
         "zeroline": false
        },
        "yaxis": {
         "anchor": "x",
         "domain": [
          0,
          1
         ],
         "title": {
          "text": "Count"
         }
        }
       }
      }
     },
     "metadata": {},
     "output_type": "display_data"
    }
   ],
   "source": [
    "# show ed column distribution\n",
    "ed_distribution_fig = px.histogram(\n",
    "    df,\n",
    "    x=\"ed\",\n",
    "    title=\"Education Distribution\",\n",
    "    text_auto=True,\n",
    ")\n",
    "\n",
    "# Customize layout for better readability\n",
    "ed_distribution_fig.update_layout(\n",
    "    xaxis_title=\"Education\",\n",
    "    yaxis_title=\"Count\",\n",
    "    title={\n",
    "        \"text\": \"Education Distribution\",\n",
    "        \"y\": 0.9,\n",
    "        \"x\": 0.5,\n",
    "        \"xanchor\": \"center\",\n",
    "        \"yanchor\": \"top\",\n",
    "    },\n",
    "    xaxis=dict(\n",
    "        tickmode=\"array\",\n",
    "        showticklabels=True,\n",
    "        showgrid=False,\n",
    "        zeroline=False,\n",
    "    ),\n",
    ")\n",
    "\n",
    "# Display the histogram\n",
    "ed_distribution_fig.show()"
   ]
  },
  {
   "cell_type": "code",
   "execution_count": 15,
   "metadata": {},
   "outputs": [
    {
     "data": {
      "application/vnd.plotly.v1+json": {
       "config": {
        "plotlyServerURL": "https://plot.ly"
       },
       "data": [
        {
         "hovertemplate": "Education: %{x}<br>Service: %{marker.color}<extra></extra>",
         "legendgroup": "Fundamental Service",
         "marker": {
          "color": "#636efa",
          "symbol": "circle"
         },
         "mode": "markers",
         "name": "Fundamental Service",
         "orientation": "v",
         "showlegend": true,
         "type": "scatter",
         "x": [
          4,
          2,
          4,
          2,
          1,
          1,
          1,
          1,
          2,
          2,
          2,
          2,
          2,
          3,
          2,
          1,
          2,
          1,
          3,
          4,
          2,
          3,
          2,
          2,
          1,
          2,
          4,
          2,
          2,
          4,
          1,
          3,
          1,
          2,
          2,
          1,
          2,
          1,
          4,
          4,
          5,
          2,
          4,
          1,
          1,
          2,
          3,
          1,
          4,
          2,
          4,
          2,
          3,
          3,
          2,
          2,
          2,
          4,
          3,
          3,
          2,
          4,
          2,
          3,
          2,
          3,
          2,
          4,
          4,
          2,
          1,
          3,
          2,
          3,
          4,
          1,
          2,
          1,
          1,
          2,
          1,
          1,
          4,
          3,
          3,
          4,
          3,
          2,
          5,
          4,
          4,
          5,
          3,
          1,
          1,
          2,
          1,
          2,
          4,
          4,
          5,
          3,
          4,
          3,
          3,
          2,
          2,
          2,
          2,
          2,
          1,
          3,
          3,
          1,
          2,
          3,
          1,
          1,
          2,
          4,
          1,
          1,
          3,
          2,
          1,
          3,
          1,
          3,
          4,
          3,
          3,
          2,
          2,
          2,
          1,
          4,
          1,
          2,
          4,
          1,
          2,
          2,
          2,
          3,
          3,
          3,
          3,
          2,
          1,
          1,
          2,
          1,
          2,
          2,
          4,
          1,
          2,
          3,
          1,
          2,
          1,
          3,
          1,
          1,
          2,
          1,
          2,
          2,
          4,
          3,
          4,
          4,
          2,
          1,
          2,
          2,
          2,
          1,
          1,
          4,
          4,
          2,
          5,
          4,
          1,
          1,
          2,
          4,
          3,
          1,
          1,
          2,
          3,
          1,
          4,
          1,
          5,
          2,
          4,
          1,
          4,
          4,
          4,
          4,
          3,
          1,
          5,
          2,
          2,
          2,
          1,
          4,
          2,
          1,
          4,
          1,
          1,
          1,
          3,
          1,
          2,
          3,
          1,
          1,
          2,
          3,
          1,
          2,
          4,
          1,
          1,
          2,
          2,
          2,
          2,
          3,
          1,
          3,
          3,
          3,
          1,
          3,
          1,
          1,
          1,
          5,
          1,
          4,
          1,
          4,
          2,
          3,
          3,
          1,
          2,
          2,
          3,
          3,
          1,
          2,
          4,
          1,
          3,
          3,
          3,
          5
         ],
         "xaxis": "x",
         "y": [
          3,
          3,
          3,
          3,
          3,
          3,
          3,
          3,
          3,
          3,
          3,
          3,
          3,
          3,
          3,
          3,
          3,
          3,
          3,
          3,
          3,
          3,
          3,
          3,
          3,
          3,
          3,
          3,
          3,
          3,
          3,
          3,
          3,
          3,
          3,
          3,
          3,
          3,
          3,
          3,
          3,
          3,
          3,
          3,
          3,
          3,
          3,
          3,
          3,
          3,
          3,
          3,
          3,
          3,
          3,
          3,
          3,
          3,
          3,
          3,
          3,
          3,
          3,
          3,
          3,
          3,
          3,
          3,
          3,
          3,
          3,
          3,
          3,
          3,
          3,
          3,
          3,
          3,
          3,
          3,
          3,
          3,
          3,
          3,
          3,
          3,
          3,
          3,
          3,
          3,
          3,
          3,
          3,
          3,
          3,
          3,
          3,
          3,
          3,
          3,
          3,
          3,
          3,
          3,
          3,
          3,
          3,
          3,
          3,
          3,
          3,
          3,
          3,
          3,
          3,
          3,
          3,
          3,
          3,
          3,
          3,
          3,
          3,
          3,
          3,
          3,
          3,
          3,
          3,
          3,
          3,
          3,
          3,
          3,
          3,
          3,
          3,
          3,
          3,
          3,
          3,
          3,
          3,
          3,
          3,
          3,
          3,
          3,
          3,
          3,
          3,
          3,
          3,
          3,
          3,
          3,
          3,
          3,
          3,
          3,
          3,
          3,
          3,
          3,
          3,
          3,
          3,
          3,
          3,
          3,
          3,
          3,
          3,
          3,
          3,
          3,
          3,
          3,
          3,
          3,
          3,
          3,
          3,
          3,
          3,
          3,
          3,
          3,
          3,
          3,
          3,
          3,
          3,
          3,
          3,
          3,
          3,
          3,
          3,
          3,
          3,
          3,
          3,
          3,
          3,
          3,
          3,
          3,
          3,
          3,
          3,
          3,
          3,
          3,
          3,
          3,
          3,
          3,
          3,
          3,
          3,
          3,
          3,
          3,
          3,
          3,
          3,
          3,
          3,
          3,
          3,
          3,
          3,
          3,
          3,
          3,
          3,
          3,
          3,
          3,
          3,
          3,
          3,
          3,
          3,
          3,
          3,
          3,
          3,
          3,
          3,
          3,
          3,
          3,
          3,
          3,
          3,
          3,
          3,
          3,
          3,
          3,
          3,
          3,
          3,
          3
         ],
         "yaxis": "y"
        },
        {
         "alignmentgroup": "True",
         "hovertemplate": "Education: %{x}<br>Service: %{marker.color}<extra></extra>",
         "legendgroup": "Fundamental Service",
         "marker": {
          "color": "#636efa",
          "symbol": "circle"
         },
         "name": "Fundamental Service",
         "notched": true,
         "offsetgroup": "Fundamental Service",
         "showlegend": false,
         "type": "box",
         "x": [
          4,
          2,
          4,
          2,
          1,
          1,
          1,
          1,
          2,
          2,
          2,
          2,
          2,
          3,
          2,
          1,
          2,
          1,
          3,
          4,
          2,
          3,
          2,
          2,
          1,
          2,
          4,
          2,
          2,
          4,
          1,
          3,
          1,
          2,
          2,
          1,
          2,
          1,
          4,
          4,
          5,
          2,
          4,
          1,
          1,
          2,
          3,
          1,
          4,
          2,
          4,
          2,
          3,
          3,
          2,
          2,
          2,
          4,
          3,
          3,
          2,
          4,
          2,
          3,
          2,
          3,
          2,
          4,
          4,
          2,
          1,
          3,
          2,
          3,
          4,
          1,
          2,
          1,
          1,
          2,
          1,
          1,
          4,
          3,
          3,
          4,
          3,
          2,
          5,
          4,
          4,
          5,
          3,
          1,
          1,
          2,
          1,
          2,
          4,
          4,
          5,
          3,
          4,
          3,
          3,
          2,
          2,
          2,
          2,
          2,
          1,
          3,
          3,
          1,
          2,
          3,
          1,
          1,
          2,
          4,
          1,
          1,
          3,
          2,
          1,
          3,
          1,
          3,
          4,
          3,
          3,
          2,
          2,
          2,
          1,
          4,
          1,
          2,
          4,
          1,
          2,
          2,
          2,
          3,
          3,
          3,
          3,
          2,
          1,
          1,
          2,
          1,
          2,
          2,
          4,
          1,
          2,
          3,
          1,
          2,
          1,
          3,
          1,
          1,
          2,
          1,
          2,
          2,
          4,
          3,
          4,
          4,
          2,
          1,
          2,
          2,
          2,
          1,
          1,
          4,
          4,
          2,
          5,
          4,
          1,
          1,
          2,
          4,
          3,
          1,
          1,
          2,
          3,
          1,
          4,
          1,
          5,
          2,
          4,
          1,
          4,
          4,
          4,
          4,
          3,
          1,
          5,
          2,
          2,
          2,
          1,
          4,
          2,
          1,
          4,
          1,
          1,
          1,
          3,
          1,
          2,
          3,
          1,
          1,
          2,
          3,
          1,
          2,
          4,
          1,
          1,
          2,
          2,
          2,
          2,
          3,
          1,
          3,
          3,
          3,
          1,
          3,
          1,
          1,
          1,
          5,
          1,
          4,
          1,
          4,
          2,
          3,
          3,
          1,
          2,
          2,
          3,
          3,
          1,
          2,
          4,
          1,
          3,
          3,
          3,
          5
         ],
         "xaxis": "x3",
         "yaxis": "y3"
        },
        {
         "alignmentgroup": "True",
         "hovertemplate": "Education: %{x}<br>Service: %{marker.color}<extra></extra>",
         "legendgroup": "Fundamental Service",
         "marker": {
          "color": "#636efa",
          "symbol": "circle"
         },
         "name": "Fundamental Service",
         "notched": true,
         "offsetgroup": "Fundamental Service",
         "showlegend": false,
         "type": "box",
         "xaxis": "x2",
         "y": [
          3,
          3,
          3,
          3,
          3,
          3,
          3,
          3,
          3,
          3,
          3,
          3,
          3,
          3,
          3,
          3,
          3,
          3,
          3,
          3,
          3,
          3,
          3,
          3,
          3,
          3,
          3,
          3,
          3,
          3,
          3,
          3,
          3,
          3,
          3,
          3,
          3,
          3,
          3,
          3,
          3,
          3,
          3,
          3,
          3,
          3,
          3,
          3,
          3,
          3,
          3,
          3,
          3,
          3,
          3,
          3,
          3,
          3,
          3,
          3,
          3,
          3,
          3,
          3,
          3,
          3,
          3,
          3,
          3,
          3,
          3,
          3,
          3,
          3,
          3,
          3,
          3,
          3,
          3,
          3,
          3,
          3,
          3,
          3,
          3,
          3,
          3,
          3,
          3,
          3,
          3,
          3,
          3,
          3,
          3,
          3,
          3,
          3,
          3,
          3,
          3,
          3,
          3,
          3,
          3,
          3,
          3,
          3,
          3,
          3,
          3,
          3,
          3,
          3,
          3,
          3,
          3,
          3,
          3,
          3,
          3,
          3,
          3,
          3,
          3,
          3,
          3,
          3,
          3,
          3,
          3,
          3,
          3,
          3,
          3,
          3,
          3,
          3,
          3,
          3,
          3,
          3,
          3,
          3,
          3,
          3,
          3,
          3,
          3,
          3,
          3,
          3,
          3,
          3,
          3,
          3,
          3,
          3,
          3,
          3,
          3,
          3,
          3,
          3,
          3,
          3,
          3,
          3,
          3,
          3,
          3,
          3,
          3,
          3,
          3,
          3,
          3,
          3,
          3,
          3,
          3,
          3,
          3,
          3,
          3,
          3,
          3,
          3,
          3,
          3,
          3,
          3,
          3,
          3,
          3,
          3,
          3,
          3,
          3,
          3,
          3,
          3,
          3,
          3,
          3,
          3,
          3,
          3,
          3,
          3,
          3,
          3,
          3,
          3,
          3,
          3,
          3,
          3,
          3,
          3,
          3,
          3,
          3,
          3,
          3,
          3,
          3,
          3,
          3,
          3,
          3,
          3,
          3,
          3,
          3,
          3,
          3,
          3,
          3,
          3,
          3,
          3,
          3,
          3,
          3,
          3,
          3,
          3,
          3,
          3,
          3,
          3,
          3,
          3,
          3,
          3,
          3,
          3,
          3,
          3,
          3,
          3,
          3,
          3,
          3,
          3
         ],
         "yaxis": "y2"
        },
        {
         "hovertemplate": "Education: %{x}<br>Service: %{marker.color}<extra></extra>",
         "legendgroup": "Fundamental Service",
         "line": {
          "color": "black"
         },
         "marker": {
          "color": "#636efa",
          "symbol": "circle"
         },
         "mode": "lines",
         "name": "Fundamental Service",
         "showlegend": false,
         "type": "scatter",
         "x": [
          1,
          1,
          1,
          1,
          1,
          1,
          1,
          1,
          1,
          1,
          1,
          1,
          1,
          1,
          1,
          1,
          1,
          1,
          1,
          1,
          1,
          1,
          1,
          1,
          1,
          1,
          1,
          1,
          1,
          1,
          1,
          1,
          1,
          1,
          1,
          1,
          1,
          1,
          1,
          1,
          1,
          1,
          1,
          1,
          1,
          1,
          1,
          1,
          1,
          1,
          1,
          1,
          1,
          1,
          1,
          1,
          1,
          1,
          1,
          1,
          1,
          1,
          1,
          1,
          1,
          1,
          1,
          1,
          1,
          1,
          1,
          1,
          1,
          1,
          1,
          2,
          2,
          2,
          2,
          2,
          2,
          2,
          2,
          2,
          2,
          2,
          2,
          2,
          2,
          2,
          2,
          2,
          2,
          2,
          2,
          2,
          2,
          2,
          2,
          2,
          2,
          2,
          2,
          2,
          2,
          2,
          2,
          2,
          2,
          2,
          2,
          2,
          2,
          2,
          2,
          2,
          2,
          2,
          2,
          2,
          2,
          2,
          2,
          2,
          2,
          2,
          2,
          2,
          2,
          2,
          2,
          2,
          2,
          2,
          2,
          2,
          2,
          2,
          2,
          2,
          2,
          2,
          2,
          2,
          2,
          2,
          2,
          2,
          2,
          2,
          2,
          2,
          2,
          2,
          2,
          2,
          2,
          2,
          3,
          3,
          3,
          3,
          3,
          3,
          3,
          3,
          3,
          3,
          3,
          3,
          3,
          3,
          3,
          3,
          3,
          3,
          3,
          3,
          3,
          3,
          3,
          3,
          3,
          3,
          3,
          3,
          3,
          3,
          3,
          3,
          3,
          3,
          3,
          3,
          3,
          3,
          3,
          3,
          3,
          3,
          3,
          3,
          3,
          3,
          3,
          3,
          3,
          3,
          3,
          3,
          3,
          4,
          4,
          4,
          4,
          4,
          4,
          4,
          4,
          4,
          4,
          4,
          4,
          4,
          4,
          4,
          4,
          4,
          4,
          4,
          4,
          4,
          4,
          4,
          4,
          4,
          4,
          4,
          4,
          4,
          4,
          4,
          4,
          4,
          4,
          4,
          4,
          4,
          4,
          4,
          4,
          4,
          4,
          4,
          4,
          4,
          4,
          5,
          5,
          5,
          5,
          5,
          5,
          5,
          5,
          5
         ],
         "xaxis": "x",
         "y": [
          3.0000000000000036,
          3.0000000000000036,
          3.0000000000000036,
          3.0000000000000036,
          3.0000000000000036,
          3.0000000000000036,
          3.0000000000000036,
          3.0000000000000036,
          3.0000000000000036,
          3.0000000000000036,
          3.0000000000000036,
          3.0000000000000036,
          3.0000000000000036,
          3.0000000000000036,
          3.0000000000000036,
          3.0000000000000036,
          3.0000000000000036,
          3.0000000000000036,
          3.0000000000000036,
          3.0000000000000036,
          3.0000000000000036,
          3.0000000000000036,
          3.0000000000000036,
          3.0000000000000036,
          3.0000000000000036,
          3.0000000000000036,
          3.0000000000000036,
          3.0000000000000036,
          3.0000000000000036,
          3.0000000000000036,
          3.0000000000000036,
          3.0000000000000036,
          3.0000000000000036,
          3.0000000000000036,
          3.0000000000000036,
          3.0000000000000036,
          3.0000000000000036,
          3.0000000000000036,
          3.0000000000000036,
          3.0000000000000036,
          3.0000000000000036,
          3.0000000000000036,
          3.0000000000000036,
          3.0000000000000036,
          3.0000000000000036,
          3.0000000000000036,
          3.0000000000000036,
          3.0000000000000036,
          3.0000000000000036,
          3.0000000000000036,
          3.0000000000000036,
          3.0000000000000036,
          3.0000000000000036,
          3.0000000000000036,
          3.0000000000000036,
          3.0000000000000036,
          3.0000000000000036,
          3.0000000000000036,
          3.0000000000000036,
          3.0000000000000036,
          3.0000000000000036,
          3.0000000000000036,
          3.0000000000000036,
          3.0000000000000036,
          3.0000000000000036,
          3.0000000000000036,
          3.0000000000000036,
          3.0000000000000036,
          3.0000000000000036,
          3.0000000000000036,
          3.0000000000000036,
          3.0000000000000036,
          3.0000000000000036,
          3.0000000000000036,
          3.0000000000000036,
          3.0000000000000044,
          3.0000000000000044,
          3.0000000000000044,
          3.0000000000000044,
          3.0000000000000044,
          3.0000000000000044,
          3.0000000000000044,
          3.0000000000000044,
          3.0000000000000044,
          3.0000000000000044,
          3.0000000000000044,
          3.0000000000000044,
          3.0000000000000044,
          3.0000000000000044,
          3.0000000000000044,
          3.0000000000000044,
          3.0000000000000044,
          3.0000000000000044,
          3.0000000000000044,
          3.0000000000000044,
          3.0000000000000044,
          3.0000000000000044,
          3.0000000000000044,
          3.0000000000000044,
          3.0000000000000044,
          3.0000000000000044,
          3.0000000000000044,
          3.0000000000000044,
          3.0000000000000044,
          3.0000000000000044,
          3.0000000000000044,
          3.0000000000000044,
          3.0000000000000044,
          3.0000000000000044,
          3.0000000000000044,
          3.0000000000000044,
          3.0000000000000044,
          3.0000000000000044,
          3.0000000000000044,
          3.0000000000000044,
          3.0000000000000044,
          3.0000000000000044,
          3.0000000000000044,
          3.0000000000000044,
          3.0000000000000044,
          3.0000000000000044,
          3.0000000000000044,
          3.0000000000000044,
          3.0000000000000044,
          3.0000000000000044,
          3.0000000000000044,
          3.0000000000000044,
          3.0000000000000044,
          3.0000000000000044,
          3.0000000000000044,
          3.0000000000000044,
          3.0000000000000044,
          3.0000000000000044,
          3.0000000000000044,
          3.0000000000000044,
          3.0000000000000044,
          3.0000000000000044,
          3.0000000000000044,
          3.0000000000000044,
          3.0000000000000044,
          3.0000000000000044,
          3.0000000000000044,
          3.0000000000000044,
          3.0000000000000044,
          3.0000000000000044,
          3.0000000000000044,
          3.0000000000000044,
          3.0000000000000044,
          3.0000000000000044,
          3.0000000000000044,
          3.0000000000000044,
          3.0000000000000044,
          3.0000000000000044,
          3.0000000000000044,
          3.0000000000000044,
          3.0000000000000044,
          3.0000000000000044,
          3.0000000000000044,
          3.0000000000000053,
          3.0000000000000053,
          3.0000000000000053,
          3.0000000000000053,
          3.0000000000000053,
          3.0000000000000053,
          3.0000000000000053,
          3.0000000000000053,
          3.0000000000000053,
          3.0000000000000053,
          3.0000000000000053,
          3.0000000000000053,
          3.0000000000000053,
          3.0000000000000053,
          3.0000000000000053,
          3.0000000000000053,
          3.0000000000000053,
          3.0000000000000053,
          3.0000000000000053,
          3.0000000000000053,
          3.0000000000000053,
          3.0000000000000053,
          3.0000000000000053,
          3.0000000000000053,
          3.0000000000000053,
          3.0000000000000053,
          3.0000000000000053,
          3.0000000000000053,
          3.0000000000000053,
          3.0000000000000053,
          3.0000000000000053,
          3.0000000000000053,
          3.0000000000000053,
          3.0000000000000053,
          3.0000000000000053,
          3.0000000000000053,
          3.0000000000000053,
          3.0000000000000053,
          3.0000000000000053,
          3.0000000000000053,
          3.0000000000000053,
          3.0000000000000053,
          3.0000000000000053,
          3.0000000000000053,
          3.0000000000000053,
          3.0000000000000053,
          3.0000000000000053,
          3.0000000000000053,
          3.0000000000000053,
          3.0000000000000053,
          3.0000000000000053,
          3.0000000000000053,
          3.0000000000000053,
          3.0000000000000067,
          3.0000000000000067,
          3.0000000000000067,
          3.0000000000000067,
          3.0000000000000067,
          3.0000000000000067,
          3.0000000000000067,
          3.0000000000000067,
          3.0000000000000067,
          3.0000000000000067,
          3.0000000000000067,
          3.0000000000000067,
          3.0000000000000067,
          3.0000000000000067,
          3.0000000000000067,
          3.0000000000000067,
          3.0000000000000067,
          3.0000000000000067,
          3.0000000000000067,
          3.0000000000000067,
          3.0000000000000067,
          3.0000000000000067,
          3.0000000000000067,
          3.0000000000000067,
          3.0000000000000067,
          3.0000000000000067,
          3.0000000000000067,
          3.0000000000000067,
          3.0000000000000067,
          3.0000000000000067,
          3.0000000000000067,
          3.0000000000000067,
          3.0000000000000067,
          3.0000000000000067,
          3.0000000000000067,
          3.0000000000000067,
          3.0000000000000067,
          3.0000000000000067,
          3.0000000000000067,
          3.0000000000000067,
          3.0000000000000067,
          3.0000000000000067,
          3.0000000000000067,
          3.0000000000000067,
          3.0000000000000067,
          3.0000000000000067,
          3.000000000000008,
          3.000000000000008,
          3.000000000000008,
          3.000000000000008,
          3.000000000000008,
          3.000000000000008,
          3.000000000000008,
          3.000000000000008,
          3.000000000000008
         ],
         "yaxis": "y"
        },
        {
         "hovertemplate": "Education: %{x}<br>Service: %{marker.color}<extra></extra>",
         "legendgroup": "Complete Service",
         "marker": {
          "color": "#EF553B",
          "symbol": "circle"
         },
         "mode": "markers",
         "name": "Complete Service",
         "orientation": "v",
         "showlegend": true,
         "type": "scatter",
         "x": [
          5,
          2,
          4,
          4,
          5,
          2,
          5,
          3,
          4,
          4,
          4,
          4,
          2,
          4,
          2,
          4,
          5,
          2,
          4,
          5,
          5,
          5,
          3,
          3,
          2,
          1,
          2,
          4,
          5,
          4,
          5,
          4,
          4,
          4,
          4,
          4,
          2,
          4,
          4,
          2,
          3,
          3,
          4,
          4,
          4,
          3,
          5,
          3,
          5,
          3,
          4,
          3,
          4,
          4,
          3,
          2,
          1,
          4,
          2,
          3,
          1,
          3,
          5,
          5,
          1,
          3,
          3,
          3,
          3,
          4,
          2,
          3,
          1,
          2,
          3,
          4,
          2,
          3,
          4,
          2,
          4,
          4,
          4,
          3,
          4,
          3,
          4,
          4,
          2,
          4,
          1,
          5,
          2,
          5,
          4,
          4,
          4,
          1,
          2,
          5,
          4,
          2,
          2,
          4,
          3,
          4,
          3,
          4,
          4,
          5,
          2,
          4,
          4,
          3,
          3,
          3,
          2,
          2,
          2,
          3,
          4,
          5,
          4,
          4,
          4,
          4,
          4,
          4,
          3,
          3,
          1,
          4,
          2,
          2,
          2,
          4,
          5,
          3,
          4,
          2,
          3,
          4,
          2,
          4,
          4,
          3,
          3,
          4,
          5,
          2,
          4,
          4,
          4,
          2,
          3,
          2,
          2,
          2,
          4,
          2,
          3,
          5,
          4,
          2,
          4,
          4,
          4,
          3,
          5,
          4,
          2,
          2,
          3,
          3,
          5,
          3,
          2,
          4,
          5,
          1,
          4,
          4,
          4,
          4,
          4,
          4,
          2,
          3,
          4,
          4,
          4,
          4,
          2,
          4,
          3,
          4,
          4,
          3,
          3,
          2,
          4,
          5,
          3,
          3,
          2,
          4,
          4,
          2,
          4,
          2,
          5,
          5,
          3,
          5,
          2,
          4,
          3,
          4,
          2,
          4,
          4,
          2,
          5,
          2,
          2,
          4,
          2,
          2,
          3,
          4,
          4,
          4,
          4,
          3,
          5,
          5
         ],
         "xaxis": "x",
         "y": [
          1,
          1,
          1,
          1,
          1,
          1,
          1,
          1,
          1,
          1,
          1,
          1,
          1,
          1,
          1,
          1,
          1,
          1,
          1,
          1,
          1,
          1,
          1,
          1,
          1,
          1,
          1,
          1,
          1,
          1,
          1,
          1,
          1,
          1,
          1,
          1,
          1,
          1,
          1,
          1,
          1,
          1,
          1,
          1,
          1,
          1,
          1,
          1,
          1,
          1,
          1,
          1,
          1,
          1,
          1,
          1,
          1,
          1,
          1,
          1,
          1,
          1,
          1,
          1,
          1,
          1,
          1,
          1,
          1,
          1,
          1,
          1,
          1,
          1,
          1,
          1,
          1,
          1,
          1,
          1,
          1,
          1,
          1,
          1,
          1,
          1,
          1,
          1,
          1,
          1,
          1,
          1,
          1,
          1,
          1,
          1,
          1,
          1,
          1,
          1,
          1,
          1,
          1,
          1,
          1,
          1,
          1,
          1,
          1,
          1,
          1,
          1,
          1,
          1,
          1,
          1,
          1,
          1,
          1,
          1,
          1,
          1,
          1,
          1,
          1,
          1,
          1,
          1,
          1,
          1,
          1,
          1,
          1,
          1,
          1,
          1,
          1,
          1,
          1,
          1,
          1,
          1,
          1,
          1,
          1,
          1,
          1,
          1,
          1,
          1,
          1,
          1,
          1,
          1,
          1,
          1,
          1,
          1,
          1,
          1,
          1,
          1,
          1,
          1,
          1,
          1,
          1,
          1,
          1,
          1,
          1,
          1,
          1,
          1,
          1,
          1,
          1,
          1,
          1,
          1,
          1,
          1,
          1,
          1,
          1,
          1,
          1,
          1,
          1,
          1,
          1,
          1,
          1,
          1,
          1,
          1,
          1,
          1,
          1,
          1,
          1,
          1,
          1,
          1,
          1,
          1,
          1,
          1,
          1,
          1,
          1,
          1,
          1,
          1,
          1,
          1,
          1,
          1,
          1,
          1,
          1,
          1,
          1,
          1,
          1,
          1,
          1,
          1,
          1,
          1,
          1,
          1,
          1,
          1,
          1,
          1
         ],
         "yaxis": "y"
        },
        {
         "alignmentgroup": "True",
         "hovertemplate": "Education: %{x}<br>Service: %{marker.color}<extra></extra>",
         "legendgroup": "Complete Service",
         "marker": {
          "color": "#EF553B",
          "symbol": "circle"
         },
         "name": "Complete Service",
         "notched": true,
         "offsetgroup": "Complete Service",
         "showlegend": false,
         "type": "box",
         "x": [
          5,
          2,
          4,
          4,
          5,
          2,
          5,
          3,
          4,
          4,
          4,
          4,
          2,
          4,
          2,
          4,
          5,
          2,
          4,
          5,
          5,
          5,
          3,
          3,
          2,
          1,
          2,
          4,
          5,
          4,
          5,
          4,
          4,
          4,
          4,
          4,
          2,
          4,
          4,
          2,
          3,
          3,
          4,
          4,
          4,
          3,
          5,
          3,
          5,
          3,
          4,
          3,
          4,
          4,
          3,
          2,
          1,
          4,
          2,
          3,
          1,
          3,
          5,
          5,
          1,
          3,
          3,
          3,
          3,
          4,
          2,
          3,
          1,
          2,
          3,
          4,
          2,
          3,
          4,
          2,
          4,
          4,
          4,
          3,
          4,
          3,
          4,
          4,
          2,
          4,
          1,
          5,
          2,
          5,
          4,
          4,
          4,
          1,
          2,
          5,
          4,
          2,
          2,
          4,
          3,
          4,
          3,
          4,
          4,
          5,
          2,
          4,
          4,
          3,
          3,
          3,
          2,
          2,
          2,
          3,
          4,
          5,
          4,
          4,
          4,
          4,
          4,
          4,
          3,
          3,
          1,
          4,
          2,
          2,
          2,
          4,
          5,
          3,
          4,
          2,
          3,
          4,
          2,
          4,
          4,
          3,
          3,
          4,
          5,
          2,
          4,
          4,
          4,
          2,
          3,
          2,
          2,
          2,
          4,
          2,
          3,
          5,
          4,
          2,
          4,
          4,
          4,
          3,
          5,
          4,
          2,
          2,
          3,
          3,
          5,
          3,
          2,
          4,
          5,
          1,
          4,
          4,
          4,
          4,
          4,
          4,
          2,
          3,
          4,
          4,
          4,
          4,
          2,
          4,
          3,
          4,
          4,
          3,
          3,
          2,
          4,
          5,
          3,
          3,
          2,
          4,
          4,
          2,
          4,
          2,
          5,
          5,
          3,
          5,
          2,
          4,
          3,
          4,
          2,
          4,
          4,
          2,
          5,
          2,
          2,
          4,
          2,
          2,
          3,
          4,
          4,
          4,
          4,
          3,
          5,
          5
         ],
         "xaxis": "x3",
         "yaxis": "y3"
        },
        {
         "alignmentgroup": "True",
         "hovertemplate": "Education: %{x}<br>Service: %{marker.color}<extra></extra>",
         "legendgroup": "Complete Service",
         "marker": {
          "color": "#EF553B",
          "symbol": "circle"
         },
         "name": "Complete Service",
         "notched": true,
         "offsetgroup": "Complete Service",
         "showlegend": false,
         "type": "box",
         "xaxis": "x2",
         "y": [
          1,
          1,
          1,
          1,
          1,
          1,
          1,
          1,
          1,
          1,
          1,
          1,
          1,
          1,
          1,
          1,
          1,
          1,
          1,
          1,
          1,
          1,
          1,
          1,
          1,
          1,
          1,
          1,
          1,
          1,
          1,
          1,
          1,
          1,
          1,
          1,
          1,
          1,
          1,
          1,
          1,
          1,
          1,
          1,
          1,
          1,
          1,
          1,
          1,
          1,
          1,
          1,
          1,
          1,
          1,
          1,
          1,
          1,
          1,
          1,
          1,
          1,
          1,
          1,
          1,
          1,
          1,
          1,
          1,
          1,
          1,
          1,
          1,
          1,
          1,
          1,
          1,
          1,
          1,
          1,
          1,
          1,
          1,
          1,
          1,
          1,
          1,
          1,
          1,
          1,
          1,
          1,
          1,
          1,
          1,
          1,
          1,
          1,
          1,
          1,
          1,
          1,
          1,
          1,
          1,
          1,
          1,
          1,
          1,
          1,
          1,
          1,
          1,
          1,
          1,
          1,
          1,
          1,
          1,
          1,
          1,
          1,
          1,
          1,
          1,
          1,
          1,
          1,
          1,
          1,
          1,
          1,
          1,
          1,
          1,
          1,
          1,
          1,
          1,
          1,
          1,
          1,
          1,
          1,
          1,
          1,
          1,
          1,
          1,
          1,
          1,
          1,
          1,
          1,
          1,
          1,
          1,
          1,
          1,
          1,
          1,
          1,
          1,
          1,
          1,
          1,
          1,
          1,
          1,
          1,
          1,
          1,
          1,
          1,
          1,
          1,
          1,
          1,
          1,
          1,
          1,
          1,
          1,
          1,
          1,
          1,
          1,
          1,
          1,
          1,
          1,
          1,
          1,
          1,
          1,
          1,
          1,
          1,
          1,
          1,
          1,
          1,
          1,
          1,
          1,
          1,
          1,
          1,
          1,
          1,
          1,
          1,
          1,
          1,
          1,
          1,
          1,
          1,
          1,
          1,
          1,
          1,
          1,
          1,
          1,
          1,
          1,
          1,
          1,
          1,
          1,
          1,
          1,
          1,
          1,
          1
         ],
         "yaxis": "y2"
        },
        {
         "hovertemplate": "Education: %{x}<br>Service: %{marker.color}<extra></extra>",
         "legendgroup": "Complete Service",
         "line": {
          "color": "black"
         },
         "marker": {
          "color": "#EF553B",
          "symbol": "circle"
         },
         "mode": "lines",
         "name": "Complete Service",
         "showlegend": false,
         "type": "scatter",
         "x": [
          1,
          1,
          1,
          1,
          1,
          1,
          1,
          1,
          1,
          2,
          2,
          2,
          2,
          2,
          2,
          2,
          2,
          2,
          2,
          2,
          2,
          2,
          2,
          2,
          2,
          2,
          2,
          2,
          2,
          2,
          2,
          2,
          2,
          2,
          2,
          2,
          2,
          2,
          2,
          2,
          2,
          2,
          2,
          2,
          2,
          2,
          2,
          2,
          2,
          2,
          2,
          2,
          2,
          2,
          2,
          2,
          2,
          2,
          2,
          2,
          2,
          3,
          3,
          3,
          3,
          3,
          3,
          3,
          3,
          3,
          3,
          3,
          3,
          3,
          3,
          3,
          3,
          3,
          3,
          3,
          3,
          3,
          3,
          3,
          3,
          3,
          3,
          3,
          3,
          3,
          3,
          3,
          3,
          3,
          3,
          3,
          3,
          3,
          3,
          3,
          3,
          3,
          3,
          3,
          3,
          3,
          3,
          3,
          3,
          3,
          4,
          4,
          4,
          4,
          4,
          4,
          4,
          4,
          4,
          4,
          4,
          4,
          4,
          4,
          4,
          4,
          4,
          4,
          4,
          4,
          4,
          4,
          4,
          4,
          4,
          4,
          4,
          4,
          4,
          4,
          4,
          4,
          4,
          4,
          4,
          4,
          4,
          4,
          4,
          4,
          4,
          4,
          4,
          4,
          4,
          4,
          4,
          4,
          4,
          4,
          4,
          4,
          4,
          4,
          4,
          4,
          4,
          4,
          4,
          4,
          4,
          4,
          4,
          4,
          4,
          4,
          4,
          4,
          4,
          4,
          4,
          4,
          4,
          4,
          4,
          4,
          4,
          4,
          4,
          4,
          4,
          4,
          4,
          4,
          4,
          4,
          4,
          4,
          4,
          4,
          4,
          4,
          4,
          4,
          4,
          5,
          5,
          5,
          5,
          5,
          5,
          5,
          5,
          5,
          5,
          5,
          5,
          5,
          5,
          5,
          5,
          5,
          5,
          5,
          5,
          5,
          5,
          5,
          5,
          5,
          5,
          5,
          5,
          5,
          5,
          5
         ],
         "xaxis": "x",
         "y": [
          1.0000000000000049,
          1.0000000000000049,
          1.0000000000000049,
          1.0000000000000049,
          1.0000000000000049,
          1.0000000000000049,
          1.0000000000000049,
          1.0000000000000049,
          1.0000000000000049,
          1.0000000000000042,
          1.0000000000000042,
          1.0000000000000042,
          1.0000000000000042,
          1.0000000000000042,
          1.0000000000000042,
          1.0000000000000042,
          1.0000000000000042,
          1.0000000000000042,
          1.0000000000000042,
          1.0000000000000042,
          1.0000000000000042,
          1.0000000000000042,
          1.0000000000000042,
          1.0000000000000042,
          1.0000000000000042,
          1.0000000000000042,
          1.0000000000000042,
          1.0000000000000042,
          1.0000000000000042,
          1.0000000000000042,
          1.0000000000000042,
          1.0000000000000042,
          1.0000000000000042,
          1.0000000000000042,
          1.0000000000000042,
          1.0000000000000042,
          1.0000000000000042,
          1.0000000000000042,
          1.0000000000000042,
          1.0000000000000042,
          1.0000000000000042,
          1.0000000000000042,
          1.0000000000000042,
          1.0000000000000042,
          1.0000000000000042,
          1.0000000000000042,
          1.0000000000000042,
          1.0000000000000042,
          1.0000000000000042,
          1.0000000000000042,
          1.0000000000000042,
          1.0000000000000042,
          1.0000000000000042,
          1.0000000000000042,
          1.0000000000000042,
          1.0000000000000042,
          1.0000000000000042,
          1.0000000000000042,
          1.0000000000000042,
          1.0000000000000042,
          1.0000000000000042,
          1.0000000000000038,
          1.0000000000000038,
          1.0000000000000038,
          1.0000000000000038,
          1.0000000000000038,
          1.0000000000000038,
          1.0000000000000038,
          1.0000000000000038,
          1.0000000000000038,
          1.0000000000000038,
          1.0000000000000038,
          1.0000000000000038,
          1.0000000000000038,
          1.0000000000000038,
          1.0000000000000038,
          1.0000000000000038,
          1.0000000000000038,
          1.0000000000000038,
          1.0000000000000038,
          1.0000000000000038,
          1.0000000000000038,
          1.0000000000000038,
          1.0000000000000038,
          1.0000000000000038,
          1.0000000000000038,
          1.0000000000000038,
          1.0000000000000038,
          1.0000000000000038,
          1.0000000000000038,
          1.0000000000000038,
          1.0000000000000038,
          1.0000000000000038,
          1.0000000000000038,
          1.0000000000000038,
          1.0000000000000038,
          1.0000000000000038,
          1.0000000000000038,
          1.0000000000000038,
          1.0000000000000038,
          1.0000000000000038,
          1.0000000000000038,
          1.0000000000000038,
          1.0000000000000038,
          1.0000000000000038,
          1.0000000000000038,
          1.0000000000000038,
          1.0000000000000038,
          1.0000000000000038,
          1.0000000000000038,
          1.000000000000003,
          1.000000000000003,
          1.000000000000003,
          1.000000000000003,
          1.000000000000003,
          1.000000000000003,
          1.000000000000003,
          1.000000000000003,
          1.000000000000003,
          1.000000000000003,
          1.000000000000003,
          1.000000000000003,
          1.000000000000003,
          1.000000000000003,
          1.000000000000003,
          1.000000000000003,
          1.000000000000003,
          1.000000000000003,
          1.000000000000003,
          1.000000000000003,
          1.000000000000003,
          1.000000000000003,
          1.000000000000003,
          1.000000000000003,
          1.000000000000003,
          1.000000000000003,
          1.000000000000003,
          1.000000000000003,
          1.000000000000003,
          1.000000000000003,
          1.000000000000003,
          1.000000000000003,
          1.000000000000003,
          1.000000000000003,
          1.000000000000003,
          1.000000000000003,
          1.000000000000003,
          1.000000000000003,
          1.000000000000003,
          1.000000000000003,
          1.000000000000003,
          1.000000000000003,
          1.000000000000003,
          1.000000000000003,
          1.000000000000003,
          1.000000000000003,
          1.000000000000003,
          1.000000000000003,
          1.000000000000003,
          1.000000000000003,
          1.000000000000003,
          1.000000000000003,
          1.000000000000003,
          1.000000000000003,
          1.000000000000003,
          1.000000000000003,
          1.000000000000003,
          1.000000000000003,
          1.000000000000003,
          1.000000000000003,
          1.000000000000003,
          1.000000000000003,
          1.000000000000003,
          1.000000000000003,
          1.000000000000003,
          1.000000000000003,
          1.000000000000003,
          1.000000000000003,
          1.000000000000003,
          1.000000000000003,
          1.000000000000003,
          1.000000000000003,
          1.000000000000003,
          1.000000000000003,
          1.000000000000003,
          1.000000000000003,
          1.000000000000003,
          1.000000000000003,
          1.000000000000003,
          1.000000000000003,
          1.000000000000003,
          1.000000000000003,
          1.000000000000003,
          1.000000000000003,
          1.000000000000003,
          1.000000000000003,
          1.000000000000003,
          1.000000000000003,
          1.000000000000003,
          1.000000000000003,
          1.000000000000003,
          1.000000000000003,
          1.000000000000003,
          1.000000000000003,
          1.000000000000003,
          1.0000000000000029,
          1.0000000000000029,
          1.0000000000000029,
          1.0000000000000029,
          1.0000000000000029,
          1.0000000000000029,
          1.0000000000000029,
          1.0000000000000029,
          1.0000000000000029,
          1.0000000000000029,
          1.0000000000000029,
          1.0000000000000029,
          1.0000000000000029,
          1.0000000000000029,
          1.0000000000000029,
          1.0000000000000029,
          1.0000000000000029,
          1.0000000000000029,
          1.0000000000000029,
          1.0000000000000029,
          1.0000000000000029,
          1.0000000000000029,
          1.0000000000000029,
          1.0000000000000029,
          1.0000000000000029,
          1.0000000000000029,
          1.0000000000000029,
          1.0000000000000029,
          1.0000000000000029,
          1.0000000000000029,
          1.0000000000000029
         ],
         "yaxis": "y"
        },
        {
         "hovertemplate": "Education: %{x}<br>Service: %{marker.color}<extra></extra>",
         "legendgroup": "Advanced Service",
         "marker": {
          "color": "#00cc96",
          "symbol": "circle"
         },
         "mode": "markers",
         "name": "Advanced Service",
         "orientation": "v",
         "showlegend": true,
         "type": "scatter",
         "x": [
          1,
          1,
          2,
          4,
          2,
          2,
          2,
          1,
          2,
          1,
          2,
          2,
          1,
          2,
          1,
          2,
          4,
          2,
          2,
          2,
          3,
          1,
          2,
          3,
          1,
          3,
          4,
          1,
          1,
          3,
          1,
          2,
          1,
          2,
          1,
          1,
          5,
          5,
          2,
          2,
          1,
          4,
          2,
          1,
          3,
          2,
          1,
          1,
          2,
          4,
          3,
          3,
          2,
          4,
          4,
          1,
          2,
          1,
          3,
          1,
          1,
          2,
          1,
          2,
          1,
          3,
          1,
          2,
          3,
          1,
          2,
          3,
          4,
          3,
          2,
          4,
          3,
          2,
          5,
          4,
          1,
          1,
          2,
          2,
          3,
          1,
          1,
          2,
          2,
          4,
          2,
          3,
          2,
          1,
          3,
          1,
          4,
          1,
          1,
          3,
          2,
          1,
          4,
          2,
          3,
          3,
          1,
          1,
          3,
          3,
          1,
          2,
          2,
          5,
          3,
          4,
          1,
          1,
          2,
          4,
          2,
          1,
          1,
          1,
          2,
          4,
          3,
          3,
          1,
          2,
          2,
          2,
          1,
          1,
          4,
          3,
          2,
          1,
          1,
          2,
          4,
          2,
          4,
          2,
          4,
          1,
          2,
          2,
          2,
          2,
          3,
          1,
          3,
          2,
          3,
          1,
          2,
          2,
          1,
          3,
          4,
          1,
          1,
          2,
          4,
          3,
          2,
          2,
          1,
          2,
          4,
          3,
          2,
          1,
          1,
          1,
          3,
          2,
          1,
          2,
          1,
          3,
          2,
          3,
          3,
          3,
          1,
          1,
          3,
          3,
          2,
          2,
          1,
          1,
          4,
          1,
          4,
          4,
          2,
          1,
          2,
          4,
          1,
          3,
          1,
          2,
          2,
          1,
          2,
          1,
          3,
          1,
          1,
          2,
          2,
          1,
          2,
          4,
          2,
          2,
          3,
          2,
          2,
          2,
          2,
          3,
          3,
          3,
          2,
          4,
          1,
          4,
          2,
          2,
          1,
          2,
          3,
          2,
          1,
          3,
          4,
          2,
          1,
          4,
          2,
          3,
          3,
          1,
          1,
          2,
          1,
          2,
          3,
          2,
          2,
          4,
          2,
          1,
          4,
          1,
          2,
          1,
          3,
          3,
          1,
          2,
          2,
          3,
          3,
          1,
          1,
          1,
          2,
          1,
          1,
          1,
          1,
          2,
          3,
          2,
          2
         ],
         "xaxis": "x",
         "y": [
          0,
          0,
          0,
          0,
          0,
          0,
          0,
          0,
          0,
          0,
          0,
          0,
          0,
          0,
          0,
          0,
          0,
          0,
          0,
          0,
          0,
          0,
          0,
          0,
          0,
          0,
          0,
          0,
          0,
          0,
          0,
          0,
          0,
          0,
          0,
          0,
          0,
          0,
          0,
          0,
          0,
          0,
          0,
          0,
          0,
          0,
          0,
          0,
          0,
          0,
          0,
          0,
          0,
          0,
          0,
          0,
          0,
          0,
          0,
          0,
          0,
          0,
          0,
          0,
          0,
          0,
          0,
          0,
          0,
          0,
          0,
          0,
          0,
          0,
          0,
          0,
          0,
          0,
          0,
          0,
          0,
          0,
          0,
          0,
          0,
          0,
          0,
          0,
          0,
          0,
          0,
          0,
          0,
          0,
          0,
          0,
          0,
          0,
          0,
          0,
          0,
          0,
          0,
          0,
          0,
          0,
          0,
          0,
          0,
          0,
          0,
          0,
          0,
          0,
          0,
          0,
          0,
          0,
          0,
          0,
          0,
          0,
          0,
          0,
          0,
          0,
          0,
          0,
          0,
          0,
          0,
          0,
          0,
          0,
          0,
          0,
          0,
          0,
          0,
          0,
          0,
          0,
          0,
          0,
          0,
          0,
          0,
          0,
          0,
          0,
          0,
          0,
          0,
          0,
          0,
          0,
          0,
          0,
          0,
          0,
          0,
          0,
          0,
          0,
          0,
          0,
          0,
          0,
          0,
          0,
          0,
          0,
          0,
          0,
          0,
          0,
          0,
          0,
          0,
          0,
          0,
          0,
          0,
          0,
          0,
          0,
          0,
          0,
          0,
          0,
          0,
          0,
          0,
          0,
          0,
          0,
          0,
          0,
          0,
          0,
          0,
          0,
          0,
          0,
          0,
          0,
          0,
          0,
          0,
          0,
          0,
          0,
          0,
          0,
          0,
          0,
          0,
          0,
          0,
          0,
          0,
          0,
          0,
          0,
          0,
          0,
          0,
          0,
          0,
          0,
          0,
          0,
          0,
          0,
          0,
          0,
          0,
          0,
          0,
          0,
          0,
          0,
          0,
          0,
          0,
          0,
          0,
          0,
          0,
          0,
          0,
          0,
          0,
          0,
          0,
          0,
          0,
          0,
          0,
          0,
          0,
          0,
          0,
          0,
          0,
          0,
          0,
          0,
          0,
          0,
          0,
          0,
          0,
          0,
          0,
          0,
          0,
          0,
          0,
          0,
          0
         ],
         "yaxis": "y"
        },
        {
         "alignmentgroup": "True",
         "hovertemplate": "Education: %{x}<br>Service: %{marker.color}<extra></extra>",
         "legendgroup": "Advanced Service",
         "marker": {
          "color": "#00cc96",
          "symbol": "circle"
         },
         "name": "Advanced Service",
         "notched": true,
         "offsetgroup": "Advanced Service",
         "showlegend": false,
         "type": "box",
         "x": [
          1,
          1,
          2,
          4,
          2,
          2,
          2,
          1,
          2,
          1,
          2,
          2,
          1,
          2,
          1,
          2,
          4,
          2,
          2,
          2,
          3,
          1,
          2,
          3,
          1,
          3,
          4,
          1,
          1,
          3,
          1,
          2,
          1,
          2,
          1,
          1,
          5,
          5,
          2,
          2,
          1,
          4,
          2,
          1,
          3,
          2,
          1,
          1,
          2,
          4,
          3,
          3,
          2,
          4,
          4,
          1,
          2,
          1,
          3,
          1,
          1,
          2,
          1,
          2,
          1,
          3,
          1,
          2,
          3,
          1,
          2,
          3,
          4,
          3,
          2,
          4,
          3,
          2,
          5,
          4,
          1,
          1,
          2,
          2,
          3,
          1,
          1,
          2,
          2,
          4,
          2,
          3,
          2,
          1,
          3,
          1,
          4,
          1,
          1,
          3,
          2,
          1,
          4,
          2,
          3,
          3,
          1,
          1,
          3,
          3,
          1,
          2,
          2,
          5,
          3,
          4,
          1,
          1,
          2,
          4,
          2,
          1,
          1,
          1,
          2,
          4,
          3,
          3,
          1,
          2,
          2,
          2,
          1,
          1,
          4,
          3,
          2,
          1,
          1,
          2,
          4,
          2,
          4,
          2,
          4,
          1,
          2,
          2,
          2,
          2,
          3,
          1,
          3,
          2,
          3,
          1,
          2,
          2,
          1,
          3,
          4,
          1,
          1,
          2,
          4,
          3,
          2,
          2,
          1,
          2,
          4,
          3,
          2,
          1,
          1,
          1,
          3,
          2,
          1,
          2,
          1,
          3,
          2,
          3,
          3,
          3,
          1,
          1,
          3,
          3,
          2,
          2,
          1,
          1,
          4,
          1,
          4,
          4,
          2,
          1,
          2,
          4,
          1,
          3,
          1,
          2,
          2,
          1,
          2,
          1,
          3,
          1,
          1,
          2,
          2,
          1,
          2,
          4,
          2,
          2,
          3,
          2,
          2,
          2,
          2,
          3,
          3,
          3,
          2,
          4,
          1,
          4,
          2,
          2,
          1,
          2,
          3,
          2,
          1,
          3,
          4,
          2,
          1,
          4,
          2,
          3,
          3,
          1,
          1,
          2,
          1,
          2,
          3,
          2,
          2,
          4,
          2,
          1,
          4,
          1,
          2,
          1,
          3,
          3,
          1,
          2,
          2,
          3,
          3,
          1,
          1,
          1,
          2,
          1,
          1,
          1,
          1,
          2,
          3,
          2,
          2
         ],
         "xaxis": "x3",
         "yaxis": "y3"
        },
        {
         "alignmentgroup": "True",
         "hovertemplate": "Education: %{x}<br>Service: %{marker.color}<extra></extra>",
         "legendgroup": "Advanced Service",
         "marker": {
          "color": "#00cc96",
          "symbol": "circle"
         },
         "name": "Advanced Service",
         "notched": true,
         "offsetgroup": "Advanced Service",
         "showlegend": false,
         "type": "box",
         "xaxis": "x2",
         "y": [
          0,
          0,
          0,
          0,
          0,
          0,
          0,
          0,
          0,
          0,
          0,
          0,
          0,
          0,
          0,
          0,
          0,
          0,
          0,
          0,
          0,
          0,
          0,
          0,
          0,
          0,
          0,
          0,
          0,
          0,
          0,
          0,
          0,
          0,
          0,
          0,
          0,
          0,
          0,
          0,
          0,
          0,
          0,
          0,
          0,
          0,
          0,
          0,
          0,
          0,
          0,
          0,
          0,
          0,
          0,
          0,
          0,
          0,
          0,
          0,
          0,
          0,
          0,
          0,
          0,
          0,
          0,
          0,
          0,
          0,
          0,
          0,
          0,
          0,
          0,
          0,
          0,
          0,
          0,
          0,
          0,
          0,
          0,
          0,
          0,
          0,
          0,
          0,
          0,
          0,
          0,
          0,
          0,
          0,
          0,
          0,
          0,
          0,
          0,
          0,
          0,
          0,
          0,
          0,
          0,
          0,
          0,
          0,
          0,
          0,
          0,
          0,
          0,
          0,
          0,
          0,
          0,
          0,
          0,
          0,
          0,
          0,
          0,
          0,
          0,
          0,
          0,
          0,
          0,
          0,
          0,
          0,
          0,
          0,
          0,
          0,
          0,
          0,
          0,
          0,
          0,
          0,
          0,
          0,
          0,
          0,
          0,
          0,
          0,
          0,
          0,
          0,
          0,
          0,
          0,
          0,
          0,
          0,
          0,
          0,
          0,
          0,
          0,
          0,
          0,
          0,
          0,
          0,
          0,
          0,
          0,
          0,
          0,
          0,
          0,
          0,
          0,
          0,
          0,
          0,
          0,
          0,
          0,
          0,
          0,
          0,
          0,
          0,
          0,
          0,
          0,
          0,
          0,
          0,
          0,
          0,
          0,
          0,
          0,
          0,
          0,
          0,
          0,
          0,
          0,
          0,
          0,
          0,
          0,
          0,
          0,
          0,
          0,
          0,
          0,
          0,
          0,
          0,
          0,
          0,
          0,
          0,
          0,
          0,
          0,
          0,
          0,
          0,
          0,
          0,
          0,
          0,
          0,
          0,
          0,
          0,
          0,
          0,
          0,
          0,
          0,
          0,
          0,
          0,
          0,
          0,
          0,
          0,
          0,
          0,
          0,
          0,
          0,
          0,
          0,
          0,
          0,
          0,
          0,
          0,
          0,
          0,
          0,
          0,
          0,
          0,
          0,
          0,
          0,
          0,
          0,
          0,
          0,
          0,
          0,
          0,
          0,
          0,
          0,
          0,
          0
         ],
         "yaxis": "y2"
        },
        {
         "hovertemplate": "Education: %{x}<br>Service: %{marker.color}<extra></extra>",
         "legendgroup": "Advanced Service",
         "line": {
          "color": "black"
         },
         "marker": {
          "color": "#00cc96",
          "symbol": "circle"
         },
         "mode": "lines",
         "name": "Advanced Service",
         "showlegend": false,
         "type": "scatter",
         "x": [
          1,
          1,
          1,
          1,
          1,
          1,
          1,
          1,
          1,
          1,
          1,
          1,
          1,
          1,
          1,
          1,
          1,
          1,
          1,
          1,
          1,
          1,
          1,
          1,
          1,
          1,
          1,
          1,
          1,
          1,
          1,
          1,
          1,
          1,
          1,
          1,
          1,
          1,
          1,
          1,
          1,
          1,
          1,
          1,
          1,
          1,
          1,
          1,
          1,
          1,
          1,
          1,
          1,
          1,
          1,
          1,
          1,
          1,
          1,
          1,
          1,
          1,
          1,
          1,
          1,
          1,
          1,
          1,
          1,
          1,
          1,
          1,
          1,
          1,
          1,
          1,
          1,
          1,
          1,
          1,
          1,
          1,
          1,
          1,
          1,
          1,
          1,
          1,
          1,
          1,
          1,
          2,
          2,
          2,
          2,
          2,
          2,
          2,
          2,
          2,
          2,
          2,
          2,
          2,
          2,
          2,
          2,
          2,
          2,
          2,
          2,
          2,
          2,
          2,
          2,
          2,
          2,
          2,
          2,
          2,
          2,
          2,
          2,
          2,
          2,
          2,
          2,
          2,
          2,
          2,
          2,
          2,
          2,
          2,
          2,
          2,
          2,
          2,
          2,
          2,
          2,
          2,
          2,
          2,
          2,
          2,
          2,
          2,
          2,
          2,
          2,
          2,
          2,
          2,
          2,
          2,
          2,
          2,
          2,
          2,
          2,
          2,
          2,
          2,
          2,
          2,
          2,
          2,
          2,
          2,
          2,
          2,
          2,
          2,
          2,
          2,
          2,
          2,
          2,
          2,
          2,
          2,
          2,
          2,
          2,
          2,
          2,
          2,
          2,
          3,
          3,
          3,
          3,
          3,
          3,
          3,
          3,
          3,
          3,
          3,
          3,
          3,
          3,
          3,
          3,
          3,
          3,
          3,
          3,
          3,
          3,
          3,
          3,
          3,
          3,
          3,
          3,
          3,
          3,
          3,
          3,
          3,
          3,
          3,
          3,
          3,
          3,
          3,
          3,
          3,
          3,
          3,
          3,
          3,
          3,
          3,
          3,
          3,
          3,
          3,
          3,
          3,
          3,
          4,
          4,
          4,
          4,
          4,
          4,
          4,
          4,
          4,
          4,
          4,
          4,
          4,
          4,
          4,
          4,
          4,
          4,
          4,
          4,
          4,
          4,
          4,
          4,
          4,
          4,
          4,
          4,
          4,
          4,
          4,
          4,
          4,
          4,
          5,
          5,
          5,
          5
         ],
         "xaxis": "x",
         "y": [
          0,
          0,
          0,
          0,
          0,
          0,
          0,
          0,
          0,
          0,
          0,
          0,
          0,
          0,
          0,
          0,
          0,
          0,
          0,
          0,
          0,
          0,
          0,
          0,
          0,
          0,
          0,
          0,
          0,
          0,
          0,
          0,
          0,
          0,
          0,
          0,
          0,
          0,
          0,
          0,
          0,
          0,
          0,
          0,
          0,
          0,
          0,
          0,
          0,
          0,
          0,
          0,
          0,
          0,
          0,
          0,
          0,
          0,
          0,
          0,
          0,
          0,
          0,
          0,
          0,
          0,
          0,
          0,
          0,
          0,
          0,
          0,
          0,
          0,
          0,
          0,
          0,
          0,
          0,
          0,
          0,
          0,
          0,
          0,
          0,
          0,
          0,
          0,
          0,
          0,
          0,
          0,
          0,
          0,
          0,
          0,
          0,
          0,
          0,
          0,
          0,
          0,
          0,
          0,
          0,
          0,
          0,
          0,
          0,
          0,
          0,
          0,
          0,
          0,
          0,
          0,
          0,
          0,
          0,
          0,
          0,
          0,
          0,
          0,
          0,
          0,
          0,
          0,
          0,
          0,
          0,
          0,
          0,
          0,
          0,
          0,
          0,
          0,
          0,
          0,
          0,
          0,
          0,
          0,
          0,
          0,
          0,
          0,
          0,
          0,
          0,
          0,
          0,
          0,
          0,
          0,
          0,
          0,
          0,
          0,
          0,
          0,
          0,
          0,
          0,
          0,
          0,
          0,
          0,
          0,
          0,
          0,
          0,
          0,
          0,
          0,
          0,
          0,
          0,
          0,
          0,
          0,
          0,
          0,
          0,
          0,
          0,
          0,
          0,
          0,
          0,
          0,
          0,
          0,
          0,
          0,
          0,
          0,
          0,
          0,
          0,
          0,
          0,
          0,
          0,
          0,
          0,
          0,
          0,
          0,
          0,
          0,
          0,
          0,
          0,
          0,
          0,
          0,
          0,
          0,
          0,
          0,
          0,
          0,
          0,
          0,
          0,
          0,
          0,
          0,
          0,
          0,
          0,
          0,
          0,
          0,
          0,
          0,
          0,
          0,
          0,
          0,
          0,
          0,
          0,
          0,
          0,
          0,
          0,
          0,
          0,
          0,
          0,
          0,
          0,
          0,
          0,
          0,
          0,
          0,
          0,
          0,
          0,
          0,
          0,
          0,
          0,
          0,
          0,
          0,
          0,
          0,
          0,
          0,
          0,
          0,
          0,
          0,
          0,
          0,
          0
         ],
         "yaxis": "y"
        },
        {
         "hovertemplate": "Education: %{x}<br>Service: %{marker.color}<extra></extra>",
         "legendgroup": "E-Service",
         "marker": {
          "color": "#ab63fa",
          "symbol": "circle"
         },
         "mode": "markers",
         "name": "E-Service",
         "orientation": "v",
         "showlegend": true,
         "type": "scatter",
         "x": [
          2,
          1,
          5,
          3,
          4,
          1,
          5,
          4,
          4,
          4,
          2,
          3,
          4,
          4,
          5,
          4,
          3,
          5,
          5,
          1,
          2,
          4,
          3,
          3,
          2,
          4,
          4,
          4,
          5,
          2,
          4,
          3,
          5,
          1,
          3,
          2,
          2,
          4,
          5,
          2,
          4,
          2,
          3,
          2,
          1,
          4,
          3,
          3,
          3,
          3,
          4,
          1,
          1,
          1,
          2,
          4,
          5,
          2,
          4,
          2,
          4,
          2,
          1,
          3,
          2,
          4,
          2,
          2,
          1,
          3,
          5,
          4,
          4,
          1,
          2,
          4,
          3,
          3,
          4,
          2,
          2,
          5,
          4,
          3,
          3,
          2,
          2,
          3,
          2,
          3,
          4,
          5,
          3,
          5,
          4,
          1,
          2,
          4,
          2,
          2,
          3,
          4,
          2,
          1,
          3,
          4,
          4,
          5,
          2,
          1,
          3,
          1,
          3,
          2,
          4,
          4,
          2,
          4,
          2,
          2,
          2,
          2,
          2,
          1,
          1,
          3,
          5,
          3,
          1,
          3,
          4,
          3,
          2,
          1,
          1,
          4,
          2,
          4,
          3,
          4,
          4,
          4,
          5,
          3,
          3,
          2,
          2,
          4,
          5,
          4,
          3,
          4,
          2,
          2,
          4,
          1,
          3,
          5,
          3,
          5,
          2,
          3,
          4,
          2,
          3,
          2,
          3,
          4,
          3,
          4,
          3,
          2,
          4,
          2,
          2,
          3,
          3,
          1,
          4,
          4,
          4,
          2,
          1,
          3,
          4,
          3,
          2,
          1,
          3,
          2,
          4,
          3,
          2,
          4,
          1,
          1,
          1,
          2,
          4,
          3,
          4,
          2,
          1,
          3,
          4,
          3,
          5,
          3,
          3,
          5,
          4,
          5,
          1,
          3,
          4,
          2,
          3
         ],
         "xaxis": "x",
         "y": [
          2,
          2,
          2,
          2,
          2,
          2,
          2,
          2,
          2,
          2,
          2,
          2,
          2,
          2,
          2,
          2,
          2,
          2,
          2,
          2,
          2,
          2,
          2,
          2,
          2,
          2,
          2,
          2,
          2,
          2,
          2,
          2,
          2,
          2,
          2,
          2,
          2,
          2,
          2,
          2,
          2,
          2,
          2,
          2,
          2,
          2,
          2,
          2,
          2,
          2,
          2,
          2,
          2,
          2,
          2,
          2,
          2,
          2,
          2,
          2,
          2,
          2,
          2,
          2,
          2,
          2,
          2,
          2,
          2,
          2,
          2,
          2,
          2,
          2,
          2,
          2,
          2,
          2,
          2,
          2,
          2,
          2,
          2,
          2,
          2,
          2,
          2,
          2,
          2,
          2,
          2,
          2,
          2,
          2,
          2,
          2,
          2,
          2,
          2,
          2,
          2,
          2,
          2,
          2,
          2,
          2,
          2,
          2,
          2,
          2,
          2,
          2,
          2,
          2,
          2,
          2,
          2,
          2,
          2,
          2,
          2,
          2,
          2,
          2,
          2,
          2,
          2,
          2,
          2,
          2,
          2,
          2,
          2,
          2,
          2,
          2,
          2,
          2,
          2,
          2,
          2,
          2,
          2,
          2,
          2,
          2,
          2,
          2,
          2,
          2,
          2,
          2,
          2,
          2,
          2,
          2,
          2,
          2,
          2,
          2,
          2,
          2,
          2,
          2,
          2,
          2,
          2,
          2,
          2,
          2,
          2,
          2,
          2,
          2,
          2,
          2,
          2,
          2,
          2,
          2,
          2,
          2,
          2,
          2,
          2,
          2,
          2,
          2,
          2,
          2,
          2,
          2,
          2,
          2,
          2,
          2,
          2,
          2,
          2,
          2,
          2,
          2,
          2,
          2,
          2,
          2,
          2,
          2,
          2,
          2,
          2,
          2,
          2,
          2,
          2,
          2,
          2
         ],
         "yaxis": "y"
        },
        {
         "alignmentgroup": "True",
         "hovertemplate": "Education: %{x}<br>Service: %{marker.color}<extra></extra>",
         "legendgroup": "E-Service",
         "marker": {
          "color": "#ab63fa",
          "symbol": "circle"
         },
         "name": "E-Service",
         "notched": true,
         "offsetgroup": "E-Service",
         "showlegend": false,
         "type": "box",
         "x": [
          2,
          1,
          5,
          3,
          4,
          1,
          5,
          4,
          4,
          4,
          2,
          3,
          4,
          4,
          5,
          4,
          3,
          5,
          5,
          1,
          2,
          4,
          3,
          3,
          2,
          4,
          4,
          4,
          5,
          2,
          4,
          3,
          5,
          1,
          3,
          2,
          2,
          4,
          5,
          2,
          4,
          2,
          3,
          2,
          1,
          4,
          3,
          3,
          3,
          3,
          4,
          1,
          1,
          1,
          2,
          4,
          5,
          2,
          4,
          2,
          4,
          2,
          1,
          3,
          2,
          4,
          2,
          2,
          1,
          3,
          5,
          4,
          4,
          1,
          2,
          4,
          3,
          3,
          4,
          2,
          2,
          5,
          4,
          3,
          3,
          2,
          2,
          3,
          2,
          3,
          4,
          5,
          3,
          5,
          4,
          1,
          2,
          4,
          2,
          2,
          3,
          4,
          2,
          1,
          3,
          4,
          4,
          5,
          2,
          1,
          3,
          1,
          3,
          2,
          4,
          4,
          2,
          4,
          2,
          2,
          2,
          2,
          2,
          1,
          1,
          3,
          5,
          3,
          1,
          3,
          4,
          3,
          2,
          1,
          1,
          4,
          2,
          4,
          3,
          4,
          4,
          4,
          5,
          3,
          3,
          2,
          2,
          4,
          5,
          4,
          3,
          4,
          2,
          2,
          4,
          1,
          3,
          5,
          3,
          5,
          2,
          3,
          4,
          2,
          3,
          2,
          3,
          4,
          3,
          4,
          3,
          2,
          4,
          2,
          2,
          3,
          3,
          1,
          4,
          4,
          4,
          2,
          1,
          3,
          4,
          3,
          2,
          1,
          3,
          2,
          4,
          3,
          2,
          4,
          1,
          1,
          1,
          2,
          4,
          3,
          4,
          2,
          1,
          3,
          4,
          3,
          5,
          3,
          3,
          5,
          4,
          5,
          1,
          3,
          4,
          2,
          3
         ],
         "xaxis": "x3",
         "yaxis": "y3"
        },
        {
         "alignmentgroup": "True",
         "hovertemplate": "Education: %{x}<br>Service: %{marker.color}<extra></extra>",
         "legendgroup": "E-Service",
         "marker": {
          "color": "#ab63fa",
          "symbol": "circle"
         },
         "name": "E-Service",
         "notched": true,
         "offsetgroup": "E-Service",
         "showlegend": false,
         "type": "box",
         "xaxis": "x2",
         "y": [
          2,
          2,
          2,
          2,
          2,
          2,
          2,
          2,
          2,
          2,
          2,
          2,
          2,
          2,
          2,
          2,
          2,
          2,
          2,
          2,
          2,
          2,
          2,
          2,
          2,
          2,
          2,
          2,
          2,
          2,
          2,
          2,
          2,
          2,
          2,
          2,
          2,
          2,
          2,
          2,
          2,
          2,
          2,
          2,
          2,
          2,
          2,
          2,
          2,
          2,
          2,
          2,
          2,
          2,
          2,
          2,
          2,
          2,
          2,
          2,
          2,
          2,
          2,
          2,
          2,
          2,
          2,
          2,
          2,
          2,
          2,
          2,
          2,
          2,
          2,
          2,
          2,
          2,
          2,
          2,
          2,
          2,
          2,
          2,
          2,
          2,
          2,
          2,
          2,
          2,
          2,
          2,
          2,
          2,
          2,
          2,
          2,
          2,
          2,
          2,
          2,
          2,
          2,
          2,
          2,
          2,
          2,
          2,
          2,
          2,
          2,
          2,
          2,
          2,
          2,
          2,
          2,
          2,
          2,
          2,
          2,
          2,
          2,
          2,
          2,
          2,
          2,
          2,
          2,
          2,
          2,
          2,
          2,
          2,
          2,
          2,
          2,
          2,
          2,
          2,
          2,
          2,
          2,
          2,
          2,
          2,
          2,
          2,
          2,
          2,
          2,
          2,
          2,
          2,
          2,
          2,
          2,
          2,
          2,
          2,
          2,
          2,
          2,
          2,
          2,
          2,
          2,
          2,
          2,
          2,
          2,
          2,
          2,
          2,
          2,
          2,
          2,
          2,
          2,
          2,
          2,
          2,
          2,
          2,
          2,
          2,
          2,
          2,
          2,
          2,
          2,
          2,
          2,
          2,
          2,
          2,
          2,
          2,
          2,
          2,
          2,
          2,
          2,
          2,
          2,
          2,
          2,
          2,
          2,
          2,
          2,
          2,
          2,
          2,
          2,
          2,
          2
         ],
         "yaxis": "y2"
        },
        {
         "hovertemplate": "Education: %{x}<br>Service: %{marker.color}<extra></extra>",
         "legendgroup": "E-Service",
         "line": {
          "color": "black"
         },
         "marker": {
          "color": "#ab63fa",
          "symbol": "circle"
         },
         "mode": "lines",
         "name": "E-Service",
         "showlegend": false,
         "type": "scatter",
         "x": [
          1,
          1,
          1,
          1,
          1,
          1,
          1,
          1,
          1,
          1,
          1,
          1,
          1,
          1,
          1,
          1,
          1,
          1,
          1,
          1,
          1,
          1,
          1,
          1,
          1,
          1,
          1,
          1,
          1,
          2,
          2,
          2,
          2,
          2,
          2,
          2,
          2,
          2,
          2,
          2,
          2,
          2,
          2,
          2,
          2,
          2,
          2,
          2,
          2,
          2,
          2,
          2,
          2,
          2,
          2,
          2,
          2,
          2,
          2,
          2,
          2,
          2,
          2,
          2,
          2,
          2,
          2,
          2,
          2,
          2,
          2,
          2,
          2,
          2,
          2,
          2,
          2,
          2,
          2,
          2,
          2,
          2,
          2,
          3,
          3,
          3,
          3,
          3,
          3,
          3,
          3,
          3,
          3,
          3,
          3,
          3,
          3,
          3,
          3,
          3,
          3,
          3,
          3,
          3,
          3,
          3,
          3,
          3,
          3,
          3,
          3,
          3,
          3,
          3,
          3,
          3,
          3,
          3,
          3,
          3,
          3,
          3,
          3,
          3,
          3,
          3,
          3,
          3,
          3,
          3,
          3,
          3,
          3,
          3,
          3,
          3,
          4,
          4,
          4,
          4,
          4,
          4,
          4,
          4,
          4,
          4,
          4,
          4,
          4,
          4,
          4,
          4,
          4,
          4,
          4,
          4,
          4,
          4,
          4,
          4,
          4,
          4,
          4,
          4,
          4,
          4,
          4,
          4,
          4,
          4,
          4,
          4,
          4,
          4,
          4,
          4,
          4,
          4,
          4,
          4,
          4,
          4,
          4,
          4,
          4,
          4,
          4,
          4,
          4,
          4,
          4,
          4,
          4,
          4,
          4,
          5,
          5,
          5,
          5,
          5,
          5,
          5,
          5,
          5,
          5,
          5,
          5,
          5,
          5,
          5,
          5,
          5,
          5,
          5,
          5,
          5,
          5
         ],
         "xaxis": "x",
         "y": [
          1.9999999999999991,
          1.9999999999999991,
          1.9999999999999991,
          1.9999999999999991,
          1.9999999999999991,
          1.9999999999999991,
          1.9999999999999991,
          1.9999999999999991,
          1.9999999999999991,
          1.9999999999999991,
          1.9999999999999991,
          1.9999999999999991,
          1.9999999999999991,
          1.9999999999999991,
          1.9999999999999991,
          1.9999999999999991,
          1.9999999999999991,
          1.9999999999999991,
          1.9999999999999991,
          1.9999999999999991,
          1.9999999999999991,
          1.9999999999999991,
          1.9999999999999991,
          1.9999999999999991,
          1.9999999999999991,
          1.9999999999999991,
          1.9999999999999991,
          1.9999999999999991,
          1.9999999999999991,
          1.9999999999999991,
          1.9999999999999991,
          1.9999999999999991,
          1.9999999999999991,
          1.9999999999999991,
          1.9999999999999991,
          1.9999999999999991,
          1.9999999999999991,
          1.9999999999999991,
          1.9999999999999991,
          1.9999999999999991,
          1.9999999999999991,
          1.9999999999999991,
          1.9999999999999991,
          1.9999999999999991,
          1.9999999999999991,
          1.9999999999999991,
          1.9999999999999991,
          1.9999999999999991,
          1.9999999999999991,
          1.9999999999999991,
          1.9999999999999991,
          1.9999999999999991,
          1.9999999999999991,
          1.9999999999999991,
          1.9999999999999991,
          1.9999999999999991,
          1.9999999999999991,
          1.9999999999999991,
          1.9999999999999991,
          1.9999999999999991,
          1.9999999999999991,
          1.9999999999999991,
          1.9999999999999991,
          1.9999999999999991,
          1.9999999999999991,
          1.9999999999999991,
          1.9999999999999991,
          1.9999999999999991,
          1.9999999999999991,
          1.9999999999999991,
          1.9999999999999991,
          1.9999999999999991,
          1.9999999999999991,
          1.9999999999999991,
          1.9999999999999991,
          1.9999999999999991,
          1.9999999999999991,
          1.9999999999999991,
          1.9999999999999991,
          1.9999999999999991,
          1.9999999999999991,
          1.9999999999999991,
          1.9999999999999991,
          1.9999999999999991,
          1.9999999999999991,
          1.9999999999999991,
          1.9999999999999991,
          1.9999999999999991,
          1.9999999999999991,
          1.9999999999999991,
          1.9999999999999991,
          1.9999999999999991,
          1.9999999999999991,
          1.9999999999999991,
          1.9999999999999991,
          1.9999999999999991,
          1.9999999999999991,
          1.9999999999999991,
          1.9999999999999991,
          1.9999999999999991,
          1.9999999999999991,
          1.9999999999999991,
          1.9999999999999991,
          1.9999999999999991,
          1.9999999999999991,
          1.9999999999999991,
          1.9999999999999991,
          1.9999999999999991,
          1.9999999999999991,
          1.9999999999999991,
          1.9999999999999991,
          1.9999999999999991,
          1.9999999999999991,
          1.9999999999999991,
          1.9999999999999991,
          1.9999999999999991,
          1.9999999999999991,
          1.9999999999999991,
          1.9999999999999991,
          1.9999999999999991,
          1.9999999999999991,
          1.9999999999999991,
          1.9999999999999991,
          1.9999999999999991,
          1.9999999999999991,
          1.9999999999999991,
          1.9999999999999991,
          1.9999999999999991,
          1.9999999999999991,
          1.9999999999999991,
          1.9999999999999991,
          1.9999999999999991,
          1.9999999999999991,
          1.9999999999999991,
          1.9999999999999991,
          1.9999999999999991,
          1.9999999999999991,
          1.9999999999999991,
          1.9999999999999991,
          1.9999999999999991,
          1.9999999999999991,
          1.9999999999999991,
          1.9999999999999991,
          1.9999999999999991,
          1.9999999999999991,
          1.9999999999999991,
          1.9999999999999991,
          1.9999999999999991,
          1.9999999999999991,
          1.9999999999999991,
          1.9999999999999991,
          1.9999999999999991,
          1.9999999999999991,
          1.9999999999999991,
          1.9999999999999991,
          1.9999999999999991,
          1.9999999999999991,
          1.9999999999999991,
          1.9999999999999991,
          1.9999999999999991,
          1.9999999999999991,
          1.9999999999999991,
          1.9999999999999991,
          1.9999999999999991,
          1.9999999999999991,
          1.9999999999999991,
          1.9999999999999991,
          1.9999999999999991,
          1.9999999999999991,
          1.9999999999999991,
          1.9999999999999991,
          1.9999999999999991,
          1.9999999999999991,
          1.9999999999999991,
          1.9999999999999991,
          1.9999999999999991,
          1.9999999999999991,
          1.9999999999999991,
          1.9999999999999991,
          1.9999999999999991,
          1.9999999999999991,
          1.9999999999999991,
          1.9999999999999991,
          1.9999999999999991,
          1.9999999999999991,
          1.9999999999999991,
          1.9999999999999991,
          1.9999999999999991,
          1.9999999999999991,
          1.9999999999999991,
          1.9999999999999991,
          1.9999999999999991,
          1.9999999999999991,
          1.9999999999999991,
          1.9999999999999991,
          1.9999999999999996,
          1.9999999999999996,
          1.9999999999999996,
          1.9999999999999996,
          1.9999999999999996,
          1.9999999999999996,
          1.9999999999999996,
          1.9999999999999996,
          1.9999999999999996,
          1.9999999999999996,
          1.9999999999999996,
          1.9999999999999996,
          1.9999999999999996,
          1.9999999999999996,
          1.9999999999999996,
          1.9999999999999996,
          1.9999999999999996,
          1.9999999999999996,
          1.9999999999999996,
          1.9999999999999996,
          1.9999999999999996,
          1.9999999999999996
         ],
         "yaxis": "y"
        }
       ],
       "layout": {
        "legend": {
         "title": {
          "text": "service"
         },
         "tracegroupgap": 0
        },
        "template": {
         "data": {
          "bar": [
           {
            "error_x": {
             "color": "#2a3f5f"
            },
            "error_y": {
             "color": "#2a3f5f"
            },
            "marker": {
             "line": {
              "color": "#E5ECF6",
              "width": 0.5
             },
             "pattern": {
              "fillmode": "overlay",
              "size": 10,
              "solidity": 0.2
             }
            },
            "type": "bar"
           }
          ],
          "barpolar": [
           {
            "marker": {
             "line": {
              "color": "#E5ECF6",
              "width": 0.5
             },
             "pattern": {
              "fillmode": "overlay",
              "size": 10,
              "solidity": 0.2
             }
            },
            "type": "barpolar"
           }
          ],
          "carpet": [
           {
            "aaxis": {
             "endlinecolor": "#2a3f5f",
             "gridcolor": "white",
             "linecolor": "white",
             "minorgridcolor": "white",
             "startlinecolor": "#2a3f5f"
            },
            "baxis": {
             "endlinecolor": "#2a3f5f",
             "gridcolor": "white",
             "linecolor": "white",
             "minorgridcolor": "white",
             "startlinecolor": "#2a3f5f"
            },
            "type": "carpet"
           }
          ],
          "choropleth": [
           {
            "colorbar": {
             "outlinewidth": 0,
             "ticks": ""
            },
            "type": "choropleth"
           }
          ],
          "contour": [
           {
            "colorbar": {
             "outlinewidth": 0,
             "ticks": ""
            },
            "colorscale": [
             [
              0,
              "#0d0887"
             ],
             [
              0.1111111111111111,
              "#46039f"
             ],
             [
              0.2222222222222222,
              "#7201a8"
             ],
             [
              0.3333333333333333,
              "#9c179e"
             ],
             [
              0.4444444444444444,
              "#bd3786"
             ],
             [
              0.5555555555555556,
              "#d8576b"
             ],
             [
              0.6666666666666666,
              "#ed7953"
             ],
             [
              0.7777777777777778,
              "#fb9f3a"
             ],
             [
              0.8888888888888888,
              "#fdca26"
             ],
             [
              1,
              "#f0f921"
             ]
            ],
            "type": "contour"
           }
          ],
          "contourcarpet": [
           {
            "colorbar": {
             "outlinewidth": 0,
             "ticks": ""
            },
            "type": "contourcarpet"
           }
          ],
          "heatmap": [
           {
            "colorbar": {
             "outlinewidth": 0,
             "ticks": ""
            },
            "colorscale": [
             [
              0,
              "#0d0887"
             ],
             [
              0.1111111111111111,
              "#46039f"
             ],
             [
              0.2222222222222222,
              "#7201a8"
             ],
             [
              0.3333333333333333,
              "#9c179e"
             ],
             [
              0.4444444444444444,
              "#bd3786"
             ],
             [
              0.5555555555555556,
              "#d8576b"
             ],
             [
              0.6666666666666666,
              "#ed7953"
             ],
             [
              0.7777777777777778,
              "#fb9f3a"
             ],
             [
              0.8888888888888888,
              "#fdca26"
             ],
             [
              1,
              "#f0f921"
             ]
            ],
            "type": "heatmap"
           }
          ],
          "heatmapgl": [
           {
            "colorbar": {
             "outlinewidth": 0,
             "ticks": ""
            },
            "colorscale": [
             [
              0,
              "#0d0887"
             ],
             [
              0.1111111111111111,
              "#46039f"
             ],
             [
              0.2222222222222222,
              "#7201a8"
             ],
             [
              0.3333333333333333,
              "#9c179e"
             ],
             [
              0.4444444444444444,
              "#bd3786"
             ],
             [
              0.5555555555555556,
              "#d8576b"
             ],
             [
              0.6666666666666666,
              "#ed7953"
             ],
             [
              0.7777777777777778,
              "#fb9f3a"
             ],
             [
              0.8888888888888888,
              "#fdca26"
             ],
             [
              1,
              "#f0f921"
             ]
            ],
            "type": "heatmapgl"
           }
          ],
          "histogram": [
           {
            "marker": {
             "pattern": {
              "fillmode": "overlay",
              "size": 10,
              "solidity": 0.2
             }
            },
            "type": "histogram"
           }
          ],
          "histogram2d": [
           {
            "colorbar": {
             "outlinewidth": 0,
             "ticks": ""
            },
            "colorscale": [
             [
              0,
              "#0d0887"
             ],
             [
              0.1111111111111111,
              "#46039f"
             ],
             [
              0.2222222222222222,
              "#7201a8"
             ],
             [
              0.3333333333333333,
              "#9c179e"
             ],
             [
              0.4444444444444444,
              "#bd3786"
             ],
             [
              0.5555555555555556,
              "#d8576b"
             ],
             [
              0.6666666666666666,
              "#ed7953"
             ],
             [
              0.7777777777777778,
              "#fb9f3a"
             ],
             [
              0.8888888888888888,
              "#fdca26"
             ],
             [
              1,
              "#f0f921"
             ]
            ],
            "type": "histogram2d"
           }
          ],
          "histogram2dcontour": [
           {
            "colorbar": {
             "outlinewidth": 0,
             "ticks": ""
            },
            "colorscale": [
             [
              0,
              "#0d0887"
             ],
             [
              0.1111111111111111,
              "#46039f"
             ],
             [
              0.2222222222222222,
              "#7201a8"
             ],
             [
              0.3333333333333333,
              "#9c179e"
             ],
             [
              0.4444444444444444,
              "#bd3786"
             ],
             [
              0.5555555555555556,
              "#d8576b"
             ],
             [
              0.6666666666666666,
              "#ed7953"
             ],
             [
              0.7777777777777778,
              "#fb9f3a"
             ],
             [
              0.8888888888888888,
              "#fdca26"
             ],
             [
              1,
              "#f0f921"
             ]
            ],
            "type": "histogram2dcontour"
           }
          ],
          "mesh3d": [
           {
            "colorbar": {
             "outlinewidth": 0,
             "ticks": ""
            },
            "type": "mesh3d"
           }
          ],
          "parcoords": [
           {
            "line": {
             "colorbar": {
              "outlinewidth": 0,
              "ticks": ""
             }
            },
            "type": "parcoords"
           }
          ],
          "pie": [
           {
            "automargin": true,
            "type": "pie"
           }
          ],
          "scatter": [
           {
            "fillpattern": {
             "fillmode": "overlay",
             "size": 10,
             "solidity": 0.2
            },
            "type": "scatter"
           }
          ],
          "scatter3d": [
           {
            "line": {
             "colorbar": {
              "outlinewidth": 0,
              "ticks": ""
             }
            },
            "marker": {
             "colorbar": {
              "outlinewidth": 0,
              "ticks": ""
             }
            },
            "type": "scatter3d"
           }
          ],
          "scattercarpet": [
           {
            "marker": {
             "colorbar": {
              "outlinewidth": 0,
              "ticks": ""
             }
            },
            "type": "scattercarpet"
           }
          ],
          "scattergeo": [
           {
            "marker": {
             "colorbar": {
              "outlinewidth": 0,
              "ticks": ""
             }
            },
            "type": "scattergeo"
           }
          ],
          "scattergl": [
           {
            "marker": {
             "colorbar": {
              "outlinewidth": 0,
              "ticks": ""
             }
            },
            "type": "scattergl"
           }
          ],
          "scattermapbox": [
           {
            "marker": {
             "colorbar": {
              "outlinewidth": 0,
              "ticks": ""
             }
            },
            "type": "scattermapbox"
           }
          ],
          "scatterpolar": [
           {
            "marker": {
             "colorbar": {
              "outlinewidth": 0,
              "ticks": ""
             }
            },
            "type": "scatterpolar"
           }
          ],
          "scatterpolargl": [
           {
            "marker": {
             "colorbar": {
              "outlinewidth": 0,
              "ticks": ""
             }
            },
            "type": "scatterpolargl"
           }
          ],
          "scatterternary": [
           {
            "marker": {
             "colorbar": {
              "outlinewidth": 0,
              "ticks": ""
             }
            },
            "type": "scatterternary"
           }
          ],
          "surface": [
           {
            "colorbar": {
             "outlinewidth": 0,
             "ticks": ""
            },
            "colorscale": [
             [
              0,
              "#0d0887"
             ],
             [
              0.1111111111111111,
              "#46039f"
             ],
             [
              0.2222222222222222,
              "#7201a8"
             ],
             [
              0.3333333333333333,
              "#9c179e"
             ],
             [
              0.4444444444444444,
              "#bd3786"
             ],
             [
              0.5555555555555556,
              "#d8576b"
             ],
             [
              0.6666666666666666,
              "#ed7953"
             ],
             [
              0.7777777777777778,
              "#fb9f3a"
             ],
             [
              0.8888888888888888,
              "#fdca26"
             ],
             [
              1,
              "#f0f921"
             ]
            ],
            "type": "surface"
           }
          ],
          "table": [
           {
            "cells": {
             "fill": {
              "color": "#EBF0F8"
             },
             "line": {
              "color": "white"
             }
            },
            "header": {
             "fill": {
              "color": "#C8D4E3"
             },
             "line": {
              "color": "white"
             }
            },
            "type": "table"
           }
          ]
         },
         "layout": {
          "annotationdefaults": {
           "arrowcolor": "#2a3f5f",
           "arrowhead": 0,
           "arrowwidth": 1
          },
          "autotypenumbers": "strict",
          "coloraxis": {
           "colorbar": {
            "outlinewidth": 0,
            "ticks": ""
           }
          },
          "colorscale": {
           "diverging": [
            [
             0,
             "#8e0152"
            ],
            [
             0.1,
             "#c51b7d"
            ],
            [
             0.2,
             "#de77ae"
            ],
            [
             0.3,
             "#f1b6da"
            ],
            [
             0.4,
             "#fde0ef"
            ],
            [
             0.5,
             "#f7f7f7"
            ],
            [
             0.6,
             "#e6f5d0"
            ],
            [
             0.7,
             "#b8e186"
            ],
            [
             0.8,
             "#7fbc41"
            ],
            [
             0.9,
             "#4d9221"
            ],
            [
             1,
             "#276419"
            ]
           ],
           "sequential": [
            [
             0,
             "#0d0887"
            ],
            [
             0.1111111111111111,
             "#46039f"
            ],
            [
             0.2222222222222222,
             "#7201a8"
            ],
            [
             0.3333333333333333,
             "#9c179e"
            ],
            [
             0.4444444444444444,
             "#bd3786"
            ],
            [
             0.5555555555555556,
             "#d8576b"
            ],
            [
             0.6666666666666666,
             "#ed7953"
            ],
            [
             0.7777777777777778,
             "#fb9f3a"
            ],
            [
             0.8888888888888888,
             "#fdca26"
            ],
            [
             1,
             "#f0f921"
            ]
           ],
           "sequentialminus": [
            [
             0,
             "#0d0887"
            ],
            [
             0.1111111111111111,
             "#46039f"
            ],
            [
             0.2222222222222222,
             "#7201a8"
            ],
            [
             0.3333333333333333,
             "#9c179e"
            ],
            [
             0.4444444444444444,
             "#bd3786"
            ],
            [
             0.5555555555555556,
             "#d8576b"
            ],
            [
             0.6666666666666666,
             "#ed7953"
            ],
            [
             0.7777777777777778,
             "#fb9f3a"
            ],
            [
             0.8888888888888888,
             "#fdca26"
            ],
            [
             1,
             "#f0f921"
            ]
           ]
          },
          "colorway": [
           "#636efa",
           "#EF553B",
           "#00cc96",
           "#ab63fa",
           "#FFA15A",
           "#19d3f3",
           "#FF6692",
           "#B6E880",
           "#FF97FF",
           "#FECB52"
          ],
          "font": {
           "color": "#2a3f5f"
          },
          "geo": {
           "bgcolor": "white",
           "lakecolor": "white",
           "landcolor": "#E5ECF6",
           "showlakes": true,
           "showland": true,
           "subunitcolor": "white"
          },
          "hoverlabel": {
           "align": "left"
          },
          "hovermode": "closest",
          "mapbox": {
           "style": "light"
          },
          "paper_bgcolor": "white",
          "plot_bgcolor": "#E5ECF6",
          "polar": {
           "angularaxis": {
            "gridcolor": "white",
            "linecolor": "white",
            "ticks": ""
           },
           "bgcolor": "#E5ECF6",
           "radialaxis": {
            "gridcolor": "white",
            "linecolor": "white",
            "ticks": ""
           }
          },
          "scene": {
           "xaxis": {
            "backgroundcolor": "#E5ECF6",
            "gridcolor": "white",
            "gridwidth": 2,
            "linecolor": "white",
            "showbackground": true,
            "ticks": "",
            "zerolinecolor": "white"
           },
           "yaxis": {
            "backgroundcolor": "#E5ECF6",
            "gridcolor": "white",
            "gridwidth": 2,
            "linecolor": "white",
            "showbackground": true,
            "ticks": "",
            "zerolinecolor": "white"
           },
           "zaxis": {
            "backgroundcolor": "#E5ECF6",
            "gridcolor": "white",
            "gridwidth": 2,
            "linecolor": "white",
            "showbackground": true,
            "ticks": "",
            "zerolinecolor": "white"
           }
          },
          "shapedefaults": {
           "line": {
            "color": "#2a3f5f"
           }
          },
          "ternary": {
           "aaxis": {
            "gridcolor": "white",
            "linecolor": "white",
            "ticks": ""
           },
           "baxis": {
            "gridcolor": "white",
            "linecolor": "white",
            "ticks": ""
           },
           "bgcolor": "#E5ECF6",
           "caxis": {
            "gridcolor": "white",
            "linecolor": "white",
            "ticks": ""
           }
          },
          "title": {
           "x": 0.05
          },
          "xaxis": {
           "automargin": true,
           "gridcolor": "white",
           "linecolor": "white",
           "ticks": "",
           "title": {
            "standoff": 15
           },
           "zerolinecolor": "white",
           "zerolinewidth": 2
          },
          "yaxis": {
           "automargin": true,
           "gridcolor": "white",
           "linecolor": "white",
           "ticks": "",
           "title": {
            "standoff": 15
           },
           "zerolinecolor": "white",
           "zerolinewidth": 2
          }
         }
        },
        "title": {
         "text": "Education and Service Relation",
         "x": 0.5,
         "xanchor": "center",
         "y": 0.95,
         "yanchor": "top"
        },
        "xaxis": {
         "anchor": "y",
         "domain": [
          0,
          0.7363
         ],
         "showgrid": false,
         "title": {
          "standoff": 15,
          "text": "Education"
         },
         "zeroline": false
        },
        "xaxis2": {
         "anchor": "y2",
         "domain": [
          0.7413,
          1
         ],
         "matches": "x2",
         "showgrid": false,
         "showline": false,
         "showticklabels": false,
         "ticks": ""
        },
        "xaxis3": {
         "anchor": "y3",
         "domain": [
          0,
          0.7363
         ],
         "matches": "x",
         "showgrid": true,
         "showticklabels": false
        },
        "xaxis4": {
         "anchor": "y4",
         "domain": [
          0.7413,
          1
         ],
         "matches": "x2",
         "showgrid": false,
         "showline": false,
         "showticklabels": false,
         "ticks": ""
        },
        "yaxis": {
         "anchor": "x",
         "domain": [
          0,
          0.7326
         ],
         "gridcolor": "lightgrey",
         "showgrid": true,
         "ticktext": [
          "Fundamental Service",
          "Complete Service",
          "Advanced Service",
          "E-Service"
         ],
         "tickvals": [
          3,
          1,
          0,
          2
         ],
         "title": {
          "standoff": 15,
          "text": "Service"
         },
         "zeroline": false
        },
        "yaxis2": {
         "anchor": "x2",
         "domain": [
          0,
          0.7326
         ],
         "matches": "y",
         "showgrid": true,
         "showticklabels": false
        },
        "yaxis3": {
         "anchor": "x3",
         "domain": [
          0.7426,
          1
         ],
         "matches": "y3",
         "showgrid": false,
         "showline": false,
         "showticklabels": false,
         "ticks": ""
        },
        "yaxis4": {
         "anchor": "x4",
         "domain": [
          0.7426,
          1
         ],
         "matches": "y3",
         "showgrid": true,
         "showline": false,
         "showticklabels": false,
         "ticks": ""
        }
       }
      }
     },
     "metadata": {},
     "output_type": "display_data"
    }
   ],
   "source": [
    "# Convert 'service' column to numeric by mapping categories to numbers\n",
    "df[\"service_numeric\"] = df[\"service\"].astype(\"category\").cat.codes\n",
    "\n",
    "# Create scatter plot for education and service relation\n",
    "ed_service_relation_fig = px.scatter(\n",
    "    df,\n",
    "    x=\"ed\",\n",
    "    y=\"service_numeric\",  # Use the numeric version of 'service'\n",
    "    title=\"Education and Service Relation\",\n",
    "    color=\"service\",  # Color points by the original 'service' categories\n",
    "    marginal_y=\"box\",  # Add box plot on y-axis\n",
    "    marginal_x=\"box\",  # Add box plot on x-axis\n",
    "    trendline=\"ols\",  # Add linear trendline\n",
    "    trendline_color_override=\"black\",  # Make the trendline stand out\n",
    ")\n",
    "\n",
    "# Customize layout for better readability and presentation\n",
    "ed_service_relation_fig.update_layout(\n",
    "    xaxis_title=\"Education\",\n",
    "    yaxis_title=\"Service\",\n",
    "    title={\n",
    "        \"text\": \"Education and Service Relation\",\n",
    "        \"y\": 0.95,\n",
    "        \"x\": 0.5,\n",
    "        \"xanchor\": \"center\",\n",
    "        \"yanchor\": \"top\",\n",
    "    },\n",
    "    xaxis=dict(\n",
    "        showgrid=False,\n",
    "        zeroline=False,\n",
    "        title_standoff=15,\n",
    "    ),\n",
    "    yaxis=dict(\n",
    "        showgrid=True,\n",
    "        zeroline=False,\n",
    "        gridcolor=\"lightgrey\",\n",
    "        title_standoff=15,\n",
    "        tickvals=df[\"service_numeric\"].unique(),\n",
    "        ticktext=df[\n",
    "            \"service\"\n",
    "        ].unique(),  # Map numeric values back to original service names\n",
    "    ),\n",
    ")\n",
    "\n",
    "# Customize hover labels for clarity\n",
    "ed_service_relation_fig.update_traces(\n",
    "    hovertemplate=\"Education: %{x}<br>Service: %{marker.color}<extra></extra>\"\n",
    ")\n",
    "\n",
    "# Display the scatter plot\n",
    "ed_service_relation_fig.show()\n",
    "\n",
    "# Drop the 'service_numeric' column to avoid confusion\n",
    "df = df.drop(\"service_numeric\", axis=1)"
   ]
  },
  {
   "cell_type": "markdown",
   "metadata": {},
   "source": [
    "### Encode categorical variables"
   ]
  },
  {
   "cell_type": "code",
   "execution_count": 16,
   "metadata": {},
   "outputs": [],
   "source": [
    "# Map the 'is_married' column using the dictionary\n",
    "df[\"is_married\"] = df[\"is_married\"].map({\"Yes\": 1, \"No\": 0})\n",
    "\n",
    "# map is_retired column to numeric\n",
    "df[\"is_retired\"] = df[\"is_retired\"].map({\"Yes\": 1, \"No\": 0})\n",
    "\n",
    "# map gender column to numeric\n",
    "df[\"gender\"] = df[\"gender\"].map({\"M\": 1, \"F\": 0})\n",
    "\n",
    "# map service column to numeric values according to above graph show us relation to is income ordinally\n",
    "df[\"service\"] = df[\"service\"].map(\n",
    "    {\n",
    "        \"Fundamental Service\": 1,\n",
    "        \"Complete Service\": 2,\n",
    "        \"Advanced Service\": 3,\n",
    "        \"E-Service\": 4,\n",
    "    }\n",
    ")"
   ]
  },
  {
   "cell_type": "code",
   "execution_count": 17,
   "metadata": {},
   "outputs": [
    {
     "data": {
      "application/vnd.plotly.v1+json": {
       "config": {
        "plotlyServerURL": "https://plot.ly"
       },
       "data": [
        {
         "colorscale": [
          [
           0,
           "#440154"
          ],
          [
           0.1111111111111111,
           "#482878"
          ],
          [
           0.2222222222222222,
           "#3e4989"
          ],
          [
           0.3333333333333333,
           "#31688e"
          ],
          [
           0.4444444444444444,
           "#26828e"
          ],
          [
           0.5555555555555556,
           "#1f9e89"
          ],
          [
           0.6666666666666666,
           "#35b779"
          ],
          [
           0.7777777777777778,
           "#6ece58"
          ],
          [
           0.8888888888888888,
           "#b5de2b"
          ],
          [
           1,
           "#fde725"
          ]
         ],
         "hoverinfo": "text",
         "text": [
          [
           1,
           0.013761092799462329,
           0.009084669250142938,
           -0.08020144318066366,
           -0.0002604469544161274,
           -0.020532669866439424,
           -0.05540882552586479,
           0.01397998842779919,
           0.005469420183548144,
           0.05065244527150317,
           -0.06672068892637323,
           -0.05637356432993531
          ],
          [
           0.013761092799462329,
           1,
           0.4895531770681617,
           0.15722858920019647,
           0.5030082444837845,
           0.34141335221781444,
           -0.11116393873449004,
           0.5128784784298538,
           0.1680630893009834,
           0.022303731803359313,
           -0.0014327770142875211,
           0.32312153783631803
          ],
          [
           0.009084669250142938,
           0.4895531770681617,
           1,
           -0.006528602871687069,
           0.6365584364846374,
           0.4386000484440713,
           -0.15199048073936924,
           0.6640253387523518,
           0.34929675330706944,
           -0.01962042899159354,
           -0.2342031918995407,
           0.10340793168321924
          ],
          [
           -0.08020144318066366,
           0.15722858920019647,
           -0.006528602871687069,
           1,
           0.0002392671540469853,
           -0.006953335873055625,
           -0.0017456024389640855,
           -0.005494650179259359,
           -0.07810866050394696,
           0.008345241975951935,
           0.7187895963439882,
           0.06455948127237912
          ],
          [
           -0.0002604469544161274,
           0.5030082444837845,
           0.6365584364846374,
           0.0002392671540469853,
           1,
           0.29931991812841524,
           -0.11632053855262352,
           0.43459775562658814,
           0.21113912946440172,
           -0.00932247250636147,
           -0.185507962436452,
           0.1201112635077789
          ],
          [
           -0.020532669866439424,
           0.34141335221781444,
           0.4386000484440713,
           -0.006953335873055625,
           0.29931991812841524,
           1,
           0.15304400769229945,
           0.6373227425508932,
           -0.18655213996322817,
           0.015127251557673,
           -0.08987261046887925,
           0.10774048675481793
          ],
          [
           -0.05540882552586479,
           -0.11116393873449004,
           -0.15199048073936924,
           -0.0017456024389640855,
           -0.11632053855262352,
           0.15304400769229945,
           1,
           -0.2253224707368139,
           -0.1171497603549556,
           0.009210245805972824,
           0.02187687304425605,
           0.04207511798345216
          ],
          [
           0.01397998842779919,
           0.5128784784298538,
           0.6640253387523518,
           -0.005494650179259359,
           0.43459775562658814,
           0.6373227425508932,
           -0.2253224707368139,
           1,
           0.20713148874710605,
           0.006403400901748146,
           -0.12091807914221192,
           0.12603389038369409
          ],
          [
           0.005469420183548144,
           0.1680630893009834,
           0.34929675330706944,
           -0.07810866050394696,
           0.21113912946440172,
           -0.18655213996322817,
           -0.1171497603549556,
           0.20713148874710605,
           1,
           0.05390596497605776,
           -0.14940912903327247,
           0.017370108215513935
          ],
          [
           0.05065244527150317,
           0.022303731803359313,
           -0.01962042899159354,
           0.008345241975951935,
           -0.00932247250636147,
           0.015127251557673,
           0.009210245805972824,
           0.006403400901748146,
           0.05390596497605776,
           1,
           0.008880951941613827,
           0.02323807224310401
          ],
          [
           -0.06672068892637323,
           -0.0014327770142875211,
           -0.2342031918995407,
           0.7187895963439882,
           -0.185507962436452,
           -0.08987261046887925,
           0.02187687304425605,
           -0.12091807914221192,
           -0.14940912903327247,
           0.008880951941613827,
           1,
           0.028443890339099952
          ],
          [
           -0.05637356432993531,
           0.32312153783631803,
           0.10340793168321924,
           0.06455948127237912,
           0.1201112635077789,
           0.10774048675481793,
           0.04207511798345216,
           0.12603389038369409,
           0.017370108215513935,
           0.02323807224310401,
           0.028443890339099952,
           1
          ]
         ],
         "type": "heatmap",
         "x": [
          "district",
          "customer_since",
          "age",
          "is_married",
          "address",
          "salary",
          "ed",
          "employment_status",
          "is_retired",
          "gender",
          "reside",
          "service"
         ],
         "y": [
          "district",
          "customer_since",
          "age",
          "is_married",
          "address",
          "salary",
          "ed",
          "employment_status",
          "is_retired",
          "gender",
          "reside",
          "service"
         ],
         "z": [
          [
           1,
           0.013761092799462329,
           0.009084669250142938,
           -0.08020144318066366,
           -0.0002604469544161274,
           -0.020532669866439424,
           -0.05540882552586479,
           0.01397998842779919,
           0.005469420183548144,
           0.05065244527150317,
           -0.06672068892637323,
           -0.05637356432993531
          ],
          [
           0.013761092799462329,
           1,
           0.4895531770681617,
           0.15722858920019647,
           0.5030082444837845,
           0.34141335221781444,
           -0.11116393873449004,
           0.5128784784298538,
           0.1680630893009834,
           0.022303731803359313,
           -0.0014327770142875211,
           0.32312153783631803
          ],
          [
           0.009084669250142938,
           0.4895531770681617,
           1,
           -0.006528602871687069,
           0.6365584364846374,
           0.4386000484440713,
           -0.15199048073936924,
           0.6640253387523518,
           0.34929675330706944,
           -0.01962042899159354,
           -0.2342031918995407,
           0.10340793168321924
          ],
          [
           -0.08020144318066366,
           0.15722858920019647,
           -0.006528602871687069,
           1,
           0.0002392671540469853,
           -0.006953335873055625,
           -0.0017456024389640855,
           -0.005494650179259359,
           -0.07810866050394696,
           0.008345241975951935,
           0.7187895963439882,
           0.06455948127237912
          ],
          [
           -0.0002604469544161274,
           0.5030082444837845,
           0.6365584364846374,
           0.0002392671540469853,
           1,
           0.29931991812841524,
           -0.11632053855262352,
           0.43459775562658814,
           0.21113912946440172,
           -0.00932247250636147,
           -0.185507962436452,
           0.1201112635077789
          ],
          [
           -0.020532669866439424,
           0.34141335221781444,
           0.4386000484440713,
           -0.006953335873055625,
           0.29931991812841524,
           1,
           0.15304400769229945,
           0.6373227425508932,
           -0.18655213996322817,
           0.015127251557673,
           -0.08987261046887925,
           0.10774048675481793
          ],
          [
           -0.05540882552586479,
           -0.11116393873449004,
           -0.15199048073936924,
           -0.0017456024389640855,
           -0.11632053855262352,
           0.15304400769229945,
           1,
           -0.2253224707368139,
           -0.1171497603549556,
           0.009210245805972824,
           0.02187687304425605,
           0.04207511798345216
          ],
          [
           0.01397998842779919,
           0.5128784784298538,
           0.6640253387523518,
           -0.005494650179259359,
           0.43459775562658814,
           0.6373227425508932,
           -0.2253224707368139,
           1,
           0.20713148874710605,
           0.006403400901748146,
           -0.12091807914221192,
           0.12603389038369409
          ],
          [
           0.005469420183548144,
           0.1680630893009834,
           0.34929675330706944,
           -0.07810866050394696,
           0.21113912946440172,
           -0.18655213996322817,
           -0.1171497603549556,
           0.20713148874710605,
           1,
           0.05390596497605776,
           -0.14940912903327247,
           0.017370108215513935
          ],
          [
           0.05065244527150317,
           0.022303731803359313,
           -0.01962042899159354,
           0.008345241975951935,
           -0.00932247250636147,
           0.015127251557673,
           0.009210245805972824,
           0.006403400901748146,
           0.05390596497605776,
           1,
           0.008880951941613827,
           0.02323807224310401
          ],
          [
           -0.06672068892637323,
           -0.0014327770142875211,
           -0.2342031918995407,
           0.7187895963439882,
           -0.185507962436452,
           -0.08987261046887925,
           0.02187687304425605,
           -0.12091807914221192,
           -0.14940912903327247,
           0.008880951941613827,
           1,
           0.028443890339099952
          ],
          [
           -0.05637356432993531,
           0.32312153783631803,
           0.10340793168321924,
           0.06455948127237912,
           0.1201112635077789,
           0.10774048675481793,
           0.04207511798345216,
           0.12603389038369409,
           0.017370108215513935,
           0.02323807224310401,
           0.028443890339099952,
           1
          ]
         ]
        }
       ],
       "layout": {
        "annotations": [
         {
          "font": {
           "color": "black",
           "size": 8
          },
          "showarrow": false,
          "text": "1.0",
          "x": "district",
          "y": "district"
         },
         {
          "font": {
           "color": "white",
           "size": 8
          },
          "showarrow": false,
          "text": "0.01",
          "x": "district",
          "y": "customer_since"
         },
         {
          "font": {
           "color": "white",
           "size": 8
          },
          "showarrow": false,
          "text": "0.01",
          "x": "district",
          "y": "age"
         },
         {
          "font": {
           "color": "white",
           "size": 8
          },
          "showarrow": false,
          "text": "-0.08",
          "x": "district",
          "y": "is_married"
         },
         {
          "font": {
           "color": "white",
           "size": 8
          },
          "showarrow": false,
          "text": "-0.0",
          "x": "district",
          "y": "address"
         },
         {
          "font": {
           "color": "white",
           "size": 8
          },
          "showarrow": false,
          "text": "-0.02",
          "x": "district",
          "y": "salary"
         },
         {
          "font": {
           "color": "white",
           "size": 8
          },
          "showarrow": false,
          "text": "-0.06",
          "x": "district",
          "y": "ed"
         },
         {
          "font": {
           "color": "white",
           "size": 8
          },
          "showarrow": false,
          "text": "0.01",
          "x": "district",
          "y": "employment_status"
         },
         {
          "font": {
           "color": "white",
           "size": 8
          },
          "showarrow": false,
          "text": "0.01",
          "x": "district",
          "y": "is_retired"
         },
         {
          "font": {
           "color": "white",
           "size": 8
          },
          "showarrow": false,
          "text": "0.05",
          "x": "district",
          "y": "gender"
         },
         {
          "font": {
           "color": "white",
           "size": 8
          },
          "showarrow": false,
          "text": "-0.07",
          "x": "district",
          "y": "reside"
         },
         {
          "font": {
           "color": "white",
           "size": 8
          },
          "showarrow": false,
          "text": "-0.06",
          "x": "district",
          "y": "service"
         },
         {
          "font": {
           "color": "white",
           "size": 8
          },
          "showarrow": false,
          "text": "0.01",
          "x": "customer_since",
          "y": "district"
         },
         {
          "font": {
           "color": "black",
           "size": 8
          },
          "showarrow": false,
          "text": "1.0",
          "x": "customer_since",
          "y": "customer_since"
         },
         {
          "font": {
           "color": "white",
           "size": 8
          },
          "showarrow": false,
          "text": "0.49",
          "x": "customer_since",
          "y": "age"
         },
         {
          "font": {
           "color": "white",
           "size": 8
          },
          "showarrow": false,
          "text": "0.16",
          "x": "customer_since",
          "y": "is_married"
         },
         {
          "font": {
           "color": "black",
           "size": 8
          },
          "showarrow": false,
          "text": "0.5",
          "x": "customer_since",
          "y": "address"
         },
         {
          "font": {
           "color": "white",
           "size": 8
          },
          "showarrow": false,
          "text": "0.34",
          "x": "customer_since",
          "y": "salary"
         },
         {
          "font": {
           "color": "white",
           "size": 8
          },
          "showarrow": false,
          "text": "-0.11",
          "x": "customer_since",
          "y": "ed"
         },
         {
          "font": {
           "color": "black",
           "size": 8
          },
          "showarrow": false,
          "text": "0.51",
          "x": "customer_since",
          "y": "employment_status"
         },
         {
          "font": {
           "color": "white",
           "size": 8
          },
          "showarrow": false,
          "text": "0.17",
          "x": "customer_since",
          "y": "is_retired"
         },
         {
          "font": {
           "color": "white",
           "size": 8
          },
          "showarrow": false,
          "text": "0.02",
          "x": "customer_since",
          "y": "gender"
         },
         {
          "font": {
           "color": "white",
           "size": 8
          },
          "showarrow": false,
          "text": "-0.0",
          "x": "customer_since",
          "y": "reside"
         },
         {
          "font": {
           "color": "white",
           "size": 8
          },
          "showarrow": false,
          "text": "0.32",
          "x": "customer_since",
          "y": "service"
         },
         {
          "font": {
           "color": "white",
           "size": 8
          },
          "showarrow": false,
          "text": "0.01",
          "x": "age",
          "y": "district"
         },
         {
          "font": {
           "color": "white",
           "size": 8
          },
          "showarrow": false,
          "text": "0.49",
          "x": "age",
          "y": "customer_since"
         },
         {
          "font": {
           "color": "black",
           "size": 8
          },
          "showarrow": false,
          "text": "1.0",
          "x": "age",
          "y": "age"
         },
         {
          "font": {
           "color": "white",
           "size": 8
          },
          "showarrow": false,
          "text": "-0.01",
          "x": "age",
          "y": "is_married"
         },
         {
          "font": {
           "color": "black",
           "size": 8
          },
          "showarrow": false,
          "text": "0.64",
          "x": "age",
          "y": "address"
         },
         {
          "font": {
           "color": "white",
           "size": 8
          },
          "showarrow": false,
          "text": "0.44",
          "x": "age",
          "y": "salary"
         },
         {
          "font": {
           "color": "white",
           "size": 8
          },
          "showarrow": false,
          "text": "-0.15",
          "x": "age",
          "y": "ed"
         },
         {
          "font": {
           "color": "black",
           "size": 8
          },
          "showarrow": false,
          "text": "0.66",
          "x": "age",
          "y": "employment_status"
         },
         {
          "font": {
           "color": "white",
           "size": 8
          },
          "showarrow": false,
          "text": "0.35",
          "x": "age",
          "y": "is_retired"
         },
         {
          "font": {
           "color": "white",
           "size": 8
          },
          "showarrow": false,
          "text": "-0.02",
          "x": "age",
          "y": "gender"
         },
         {
          "font": {
           "color": "white",
           "size": 8
          },
          "showarrow": false,
          "text": "-0.23",
          "x": "age",
          "y": "reside"
         },
         {
          "font": {
           "color": "white",
           "size": 8
          },
          "showarrow": false,
          "text": "0.1",
          "x": "age",
          "y": "service"
         },
         {
          "font": {
           "color": "white",
           "size": 8
          },
          "showarrow": false,
          "text": "-0.08",
          "x": "is_married",
          "y": "district"
         },
         {
          "font": {
           "color": "white",
           "size": 8
          },
          "showarrow": false,
          "text": "0.16",
          "x": "is_married",
          "y": "customer_since"
         },
         {
          "font": {
           "color": "white",
           "size": 8
          },
          "showarrow": false,
          "text": "-0.01",
          "x": "is_married",
          "y": "age"
         },
         {
          "font": {
           "color": "black",
           "size": 8
          },
          "showarrow": false,
          "text": "1.0",
          "x": "is_married",
          "y": "is_married"
         },
         {
          "font": {
           "color": "white",
           "size": 8
          },
          "showarrow": false,
          "text": "0.0",
          "x": "is_married",
          "y": "address"
         },
         {
          "font": {
           "color": "white",
           "size": 8
          },
          "showarrow": false,
          "text": "-0.01",
          "x": "is_married",
          "y": "salary"
         },
         {
          "font": {
           "color": "white",
           "size": 8
          },
          "showarrow": false,
          "text": "-0.0",
          "x": "is_married",
          "y": "ed"
         },
         {
          "font": {
           "color": "white",
           "size": 8
          },
          "showarrow": false,
          "text": "-0.01",
          "x": "is_married",
          "y": "employment_status"
         },
         {
          "font": {
           "color": "white",
           "size": 8
          },
          "showarrow": false,
          "text": "-0.08",
          "x": "is_married",
          "y": "is_retired"
         },
         {
          "font": {
           "color": "white",
           "size": 8
          },
          "showarrow": false,
          "text": "0.01",
          "x": "is_married",
          "y": "gender"
         },
         {
          "font": {
           "color": "black",
           "size": 8
          },
          "showarrow": false,
          "text": "0.72",
          "x": "is_married",
          "y": "reside"
         },
         {
          "font": {
           "color": "white",
           "size": 8
          },
          "showarrow": false,
          "text": "0.06",
          "x": "is_married",
          "y": "service"
         },
         {
          "font": {
           "color": "white",
           "size": 8
          },
          "showarrow": false,
          "text": "-0.0",
          "x": "address",
          "y": "district"
         },
         {
          "font": {
           "color": "black",
           "size": 8
          },
          "showarrow": false,
          "text": "0.5",
          "x": "address",
          "y": "customer_since"
         },
         {
          "font": {
           "color": "black",
           "size": 8
          },
          "showarrow": false,
          "text": "0.64",
          "x": "address",
          "y": "age"
         },
         {
          "font": {
           "color": "white",
           "size": 8
          },
          "showarrow": false,
          "text": "0.0",
          "x": "address",
          "y": "is_married"
         },
         {
          "font": {
           "color": "black",
           "size": 8
          },
          "showarrow": false,
          "text": "1.0",
          "x": "address",
          "y": "address"
         },
         {
          "font": {
           "color": "white",
           "size": 8
          },
          "showarrow": false,
          "text": "0.3",
          "x": "address",
          "y": "salary"
         },
         {
          "font": {
           "color": "white",
           "size": 8
          },
          "showarrow": false,
          "text": "-0.12",
          "x": "address",
          "y": "ed"
         },
         {
          "font": {
           "color": "white",
           "size": 8
          },
          "showarrow": false,
          "text": "0.43",
          "x": "address",
          "y": "employment_status"
         },
         {
          "font": {
           "color": "white",
           "size": 8
          },
          "showarrow": false,
          "text": "0.21",
          "x": "address",
          "y": "is_retired"
         },
         {
          "font": {
           "color": "white",
           "size": 8
          },
          "showarrow": false,
          "text": "-0.01",
          "x": "address",
          "y": "gender"
         },
         {
          "font": {
           "color": "white",
           "size": 8
          },
          "showarrow": false,
          "text": "-0.19",
          "x": "address",
          "y": "reside"
         },
         {
          "font": {
           "color": "white",
           "size": 8
          },
          "showarrow": false,
          "text": "0.12",
          "x": "address",
          "y": "service"
         },
         {
          "font": {
           "color": "white",
           "size": 8
          },
          "showarrow": false,
          "text": "-0.02",
          "x": "salary",
          "y": "district"
         },
         {
          "font": {
           "color": "white",
           "size": 8
          },
          "showarrow": false,
          "text": "0.34",
          "x": "salary",
          "y": "customer_since"
         },
         {
          "font": {
           "color": "white",
           "size": 8
          },
          "showarrow": false,
          "text": "0.44",
          "x": "salary",
          "y": "age"
         },
         {
          "font": {
           "color": "white",
           "size": 8
          },
          "showarrow": false,
          "text": "-0.01",
          "x": "salary",
          "y": "is_married"
         },
         {
          "font": {
           "color": "white",
           "size": 8
          },
          "showarrow": false,
          "text": "0.3",
          "x": "salary",
          "y": "address"
         },
         {
          "font": {
           "color": "black",
           "size": 8
          },
          "showarrow": false,
          "text": "1.0",
          "x": "salary",
          "y": "salary"
         },
         {
          "font": {
           "color": "white",
           "size": 8
          },
          "showarrow": false,
          "text": "0.15",
          "x": "salary",
          "y": "ed"
         },
         {
          "font": {
           "color": "black",
           "size": 8
          },
          "showarrow": false,
          "text": "0.64",
          "x": "salary",
          "y": "employment_status"
         },
         {
          "font": {
           "color": "white",
           "size": 8
          },
          "showarrow": false,
          "text": "-0.19",
          "x": "salary",
          "y": "is_retired"
         },
         {
          "font": {
           "color": "white",
           "size": 8
          },
          "showarrow": false,
          "text": "0.02",
          "x": "salary",
          "y": "gender"
         },
         {
          "font": {
           "color": "white",
           "size": 8
          },
          "showarrow": false,
          "text": "-0.09",
          "x": "salary",
          "y": "reside"
         },
         {
          "font": {
           "color": "white",
           "size": 8
          },
          "showarrow": false,
          "text": "0.11",
          "x": "salary",
          "y": "service"
         },
         {
          "font": {
           "color": "white",
           "size": 8
          },
          "showarrow": false,
          "text": "-0.06",
          "x": "ed",
          "y": "district"
         },
         {
          "font": {
           "color": "white",
           "size": 8
          },
          "showarrow": false,
          "text": "-0.11",
          "x": "ed",
          "y": "customer_since"
         },
         {
          "font": {
           "color": "white",
           "size": 8
          },
          "showarrow": false,
          "text": "-0.15",
          "x": "ed",
          "y": "age"
         },
         {
          "font": {
           "color": "white",
           "size": 8
          },
          "showarrow": false,
          "text": "-0.0",
          "x": "ed",
          "y": "is_married"
         },
         {
          "font": {
           "color": "white",
           "size": 8
          },
          "showarrow": false,
          "text": "-0.12",
          "x": "ed",
          "y": "address"
         },
         {
          "font": {
           "color": "white",
           "size": 8
          },
          "showarrow": false,
          "text": "0.15",
          "x": "ed",
          "y": "salary"
         },
         {
          "font": {
           "color": "black",
           "size": 8
          },
          "showarrow": false,
          "text": "1.0",
          "x": "ed",
          "y": "ed"
         },
         {
          "font": {
           "color": "white",
           "size": 8
          },
          "showarrow": false,
          "text": "-0.23",
          "x": "ed",
          "y": "employment_status"
         },
         {
          "font": {
           "color": "white",
           "size": 8
          },
          "showarrow": false,
          "text": "-0.12",
          "x": "ed",
          "y": "is_retired"
         },
         {
          "font": {
           "color": "white",
           "size": 8
          },
          "showarrow": false,
          "text": "0.01",
          "x": "ed",
          "y": "gender"
         },
         {
          "font": {
           "color": "white",
           "size": 8
          },
          "showarrow": false,
          "text": "0.02",
          "x": "ed",
          "y": "reside"
         },
         {
          "font": {
           "color": "white",
           "size": 8
          },
          "showarrow": false,
          "text": "0.04",
          "x": "ed",
          "y": "service"
         },
         {
          "font": {
           "color": "white",
           "size": 8
          },
          "showarrow": false,
          "text": "0.01",
          "x": "employment_status",
          "y": "district"
         },
         {
          "font": {
           "color": "black",
           "size": 8
          },
          "showarrow": false,
          "text": "0.51",
          "x": "employment_status",
          "y": "customer_since"
         },
         {
          "font": {
           "color": "black",
           "size": 8
          },
          "showarrow": false,
          "text": "0.66",
          "x": "employment_status",
          "y": "age"
         },
         {
          "font": {
           "color": "white",
           "size": 8
          },
          "showarrow": false,
          "text": "-0.01",
          "x": "employment_status",
          "y": "is_married"
         },
         {
          "font": {
           "color": "white",
           "size": 8
          },
          "showarrow": false,
          "text": "0.43",
          "x": "employment_status",
          "y": "address"
         },
         {
          "font": {
           "color": "black",
           "size": 8
          },
          "showarrow": false,
          "text": "0.64",
          "x": "employment_status",
          "y": "salary"
         },
         {
          "font": {
           "color": "white",
           "size": 8
          },
          "showarrow": false,
          "text": "-0.23",
          "x": "employment_status",
          "y": "ed"
         },
         {
          "font": {
           "color": "black",
           "size": 8
          },
          "showarrow": false,
          "text": "1.0",
          "x": "employment_status",
          "y": "employment_status"
         },
         {
          "font": {
           "color": "white",
           "size": 8
          },
          "showarrow": false,
          "text": "0.21",
          "x": "employment_status",
          "y": "is_retired"
         },
         {
          "font": {
           "color": "white",
           "size": 8
          },
          "showarrow": false,
          "text": "0.01",
          "x": "employment_status",
          "y": "gender"
         },
         {
          "font": {
           "color": "white",
           "size": 8
          },
          "showarrow": false,
          "text": "-0.12",
          "x": "employment_status",
          "y": "reside"
         },
         {
          "font": {
           "color": "white",
           "size": 8
          },
          "showarrow": false,
          "text": "0.13",
          "x": "employment_status",
          "y": "service"
         },
         {
          "font": {
           "color": "white",
           "size": 8
          },
          "showarrow": false,
          "text": "0.01",
          "x": "is_retired",
          "y": "district"
         },
         {
          "font": {
           "color": "white",
           "size": 8
          },
          "showarrow": false,
          "text": "0.17",
          "x": "is_retired",
          "y": "customer_since"
         },
         {
          "font": {
           "color": "white",
           "size": 8
          },
          "showarrow": false,
          "text": "0.35",
          "x": "is_retired",
          "y": "age"
         },
         {
          "font": {
           "color": "white",
           "size": 8
          },
          "showarrow": false,
          "text": "-0.08",
          "x": "is_retired",
          "y": "is_married"
         },
         {
          "font": {
           "color": "white",
           "size": 8
          },
          "showarrow": false,
          "text": "0.21",
          "x": "is_retired",
          "y": "address"
         },
         {
          "font": {
           "color": "white",
           "size": 8
          },
          "showarrow": false,
          "text": "-0.19",
          "x": "is_retired",
          "y": "salary"
         },
         {
          "font": {
           "color": "white",
           "size": 8
          },
          "showarrow": false,
          "text": "-0.12",
          "x": "is_retired",
          "y": "ed"
         },
         {
          "font": {
           "color": "white",
           "size": 8
          },
          "showarrow": false,
          "text": "0.21",
          "x": "is_retired",
          "y": "employment_status"
         },
         {
          "font": {
           "color": "black",
           "size": 8
          },
          "showarrow": false,
          "text": "1.0",
          "x": "is_retired",
          "y": "is_retired"
         },
         {
          "font": {
           "color": "white",
           "size": 8
          },
          "showarrow": false,
          "text": "0.05",
          "x": "is_retired",
          "y": "gender"
         },
         {
          "font": {
           "color": "white",
           "size": 8
          },
          "showarrow": false,
          "text": "-0.15",
          "x": "is_retired",
          "y": "reside"
         },
         {
          "font": {
           "color": "white",
           "size": 8
          },
          "showarrow": false,
          "text": "0.02",
          "x": "is_retired",
          "y": "service"
         },
         {
          "font": {
           "color": "white",
           "size": 8
          },
          "showarrow": false,
          "text": "0.05",
          "x": "gender",
          "y": "district"
         },
         {
          "font": {
           "color": "white",
           "size": 8
          },
          "showarrow": false,
          "text": "0.02",
          "x": "gender",
          "y": "customer_since"
         },
         {
          "font": {
           "color": "white",
           "size": 8
          },
          "showarrow": false,
          "text": "-0.02",
          "x": "gender",
          "y": "age"
         },
         {
          "font": {
           "color": "white",
           "size": 8
          },
          "showarrow": false,
          "text": "0.01",
          "x": "gender",
          "y": "is_married"
         },
         {
          "font": {
           "color": "white",
           "size": 8
          },
          "showarrow": false,
          "text": "-0.01",
          "x": "gender",
          "y": "address"
         },
         {
          "font": {
           "color": "white",
           "size": 8
          },
          "showarrow": false,
          "text": "0.02",
          "x": "gender",
          "y": "salary"
         },
         {
          "font": {
           "color": "white",
           "size": 8
          },
          "showarrow": false,
          "text": "0.01",
          "x": "gender",
          "y": "ed"
         },
         {
          "font": {
           "color": "white",
           "size": 8
          },
          "showarrow": false,
          "text": "0.01",
          "x": "gender",
          "y": "employment_status"
         },
         {
          "font": {
           "color": "white",
           "size": 8
          },
          "showarrow": false,
          "text": "0.05",
          "x": "gender",
          "y": "is_retired"
         },
         {
          "font": {
           "color": "black",
           "size": 8
          },
          "showarrow": false,
          "text": "1.0",
          "x": "gender",
          "y": "gender"
         },
         {
          "font": {
           "color": "white",
           "size": 8
          },
          "showarrow": false,
          "text": "0.01",
          "x": "gender",
          "y": "reside"
         },
         {
          "font": {
           "color": "white",
           "size": 8
          },
          "showarrow": false,
          "text": "0.02",
          "x": "gender",
          "y": "service"
         },
         {
          "font": {
           "color": "white",
           "size": 8
          },
          "showarrow": false,
          "text": "-0.07",
          "x": "reside",
          "y": "district"
         },
         {
          "font": {
           "color": "white",
           "size": 8
          },
          "showarrow": false,
          "text": "-0.0",
          "x": "reside",
          "y": "customer_since"
         },
         {
          "font": {
           "color": "white",
           "size": 8
          },
          "showarrow": false,
          "text": "-0.23",
          "x": "reside",
          "y": "age"
         },
         {
          "font": {
           "color": "black",
           "size": 8
          },
          "showarrow": false,
          "text": "0.72",
          "x": "reside",
          "y": "is_married"
         },
         {
          "font": {
           "color": "white",
           "size": 8
          },
          "showarrow": false,
          "text": "-0.19",
          "x": "reside",
          "y": "address"
         },
         {
          "font": {
           "color": "white",
           "size": 8
          },
          "showarrow": false,
          "text": "-0.09",
          "x": "reside",
          "y": "salary"
         },
         {
          "font": {
           "color": "white",
           "size": 8
          },
          "showarrow": false,
          "text": "0.02",
          "x": "reside",
          "y": "ed"
         },
         {
          "font": {
           "color": "white",
           "size": 8
          },
          "showarrow": false,
          "text": "-0.12",
          "x": "reside",
          "y": "employment_status"
         },
         {
          "font": {
           "color": "white",
           "size": 8
          },
          "showarrow": false,
          "text": "-0.15",
          "x": "reside",
          "y": "is_retired"
         },
         {
          "font": {
           "color": "white",
           "size": 8
          },
          "showarrow": false,
          "text": "0.01",
          "x": "reside",
          "y": "gender"
         },
         {
          "font": {
           "color": "black",
           "size": 8
          },
          "showarrow": false,
          "text": "1.0",
          "x": "reside",
          "y": "reside"
         },
         {
          "font": {
           "color": "white",
           "size": 8
          },
          "showarrow": false,
          "text": "0.03",
          "x": "reside",
          "y": "service"
         },
         {
          "font": {
           "color": "white",
           "size": 8
          },
          "showarrow": false,
          "text": "-0.06",
          "x": "service",
          "y": "district"
         },
         {
          "font": {
           "color": "white",
           "size": 8
          },
          "showarrow": false,
          "text": "0.32",
          "x": "service",
          "y": "customer_since"
         },
         {
          "font": {
           "color": "white",
           "size": 8
          },
          "showarrow": false,
          "text": "0.1",
          "x": "service",
          "y": "age"
         },
         {
          "font": {
           "color": "white",
           "size": 8
          },
          "showarrow": false,
          "text": "0.06",
          "x": "service",
          "y": "is_married"
         },
         {
          "font": {
           "color": "white",
           "size": 8
          },
          "showarrow": false,
          "text": "0.12",
          "x": "service",
          "y": "address"
         },
         {
          "font": {
           "color": "white",
           "size": 8
          },
          "showarrow": false,
          "text": "0.11",
          "x": "service",
          "y": "salary"
         },
         {
          "font": {
           "color": "white",
           "size": 8
          },
          "showarrow": false,
          "text": "0.04",
          "x": "service",
          "y": "ed"
         },
         {
          "font": {
           "color": "white",
           "size": 8
          },
          "showarrow": false,
          "text": "0.13",
          "x": "service",
          "y": "employment_status"
         },
         {
          "font": {
           "color": "white",
           "size": 8
          },
          "showarrow": false,
          "text": "0.02",
          "x": "service",
          "y": "is_retired"
         },
         {
          "font": {
           "color": "white",
           "size": 8
          },
          "showarrow": false,
          "text": "0.02",
          "x": "service",
          "y": "gender"
         },
         {
          "font": {
           "color": "white",
           "size": 8
          },
          "showarrow": false,
          "text": "0.03",
          "x": "service",
          "y": "reside"
         },
         {
          "font": {
           "color": "black",
           "size": 8
          },
          "showarrow": false,
          "text": "1.0",
          "x": "service",
          "y": "service"
         }
        ],
        "template": {
         "data": {
          "bar": [
           {
            "error_x": {
             "color": "#2a3f5f"
            },
            "error_y": {
             "color": "#2a3f5f"
            },
            "marker": {
             "line": {
              "color": "#E5ECF6",
              "width": 0.5
             },
             "pattern": {
              "fillmode": "overlay",
              "size": 10,
              "solidity": 0.2
             }
            },
            "type": "bar"
           }
          ],
          "barpolar": [
           {
            "marker": {
             "line": {
              "color": "#E5ECF6",
              "width": 0.5
             },
             "pattern": {
              "fillmode": "overlay",
              "size": 10,
              "solidity": 0.2
             }
            },
            "type": "barpolar"
           }
          ],
          "carpet": [
           {
            "aaxis": {
             "endlinecolor": "#2a3f5f",
             "gridcolor": "white",
             "linecolor": "white",
             "minorgridcolor": "white",
             "startlinecolor": "#2a3f5f"
            },
            "baxis": {
             "endlinecolor": "#2a3f5f",
             "gridcolor": "white",
             "linecolor": "white",
             "minorgridcolor": "white",
             "startlinecolor": "#2a3f5f"
            },
            "type": "carpet"
           }
          ],
          "choropleth": [
           {
            "colorbar": {
             "outlinewidth": 0,
             "ticks": ""
            },
            "type": "choropleth"
           }
          ],
          "contour": [
           {
            "colorbar": {
             "outlinewidth": 0,
             "ticks": ""
            },
            "colorscale": [
             [
              0,
              "#0d0887"
             ],
             [
              0.1111111111111111,
              "#46039f"
             ],
             [
              0.2222222222222222,
              "#7201a8"
             ],
             [
              0.3333333333333333,
              "#9c179e"
             ],
             [
              0.4444444444444444,
              "#bd3786"
             ],
             [
              0.5555555555555556,
              "#d8576b"
             ],
             [
              0.6666666666666666,
              "#ed7953"
             ],
             [
              0.7777777777777778,
              "#fb9f3a"
             ],
             [
              0.8888888888888888,
              "#fdca26"
             ],
             [
              1,
              "#f0f921"
             ]
            ],
            "type": "contour"
           }
          ],
          "contourcarpet": [
           {
            "colorbar": {
             "outlinewidth": 0,
             "ticks": ""
            },
            "type": "contourcarpet"
           }
          ],
          "heatmap": [
           {
            "colorbar": {
             "outlinewidth": 0,
             "ticks": ""
            },
            "colorscale": [
             [
              0,
              "#0d0887"
             ],
             [
              0.1111111111111111,
              "#46039f"
             ],
             [
              0.2222222222222222,
              "#7201a8"
             ],
             [
              0.3333333333333333,
              "#9c179e"
             ],
             [
              0.4444444444444444,
              "#bd3786"
             ],
             [
              0.5555555555555556,
              "#d8576b"
             ],
             [
              0.6666666666666666,
              "#ed7953"
             ],
             [
              0.7777777777777778,
              "#fb9f3a"
             ],
             [
              0.8888888888888888,
              "#fdca26"
             ],
             [
              1,
              "#f0f921"
             ]
            ],
            "type": "heatmap"
           }
          ],
          "heatmapgl": [
           {
            "colorbar": {
             "outlinewidth": 0,
             "ticks": ""
            },
            "colorscale": [
             [
              0,
              "#0d0887"
             ],
             [
              0.1111111111111111,
              "#46039f"
             ],
             [
              0.2222222222222222,
              "#7201a8"
             ],
             [
              0.3333333333333333,
              "#9c179e"
             ],
             [
              0.4444444444444444,
              "#bd3786"
             ],
             [
              0.5555555555555556,
              "#d8576b"
             ],
             [
              0.6666666666666666,
              "#ed7953"
             ],
             [
              0.7777777777777778,
              "#fb9f3a"
             ],
             [
              0.8888888888888888,
              "#fdca26"
             ],
             [
              1,
              "#f0f921"
             ]
            ],
            "type": "heatmapgl"
           }
          ],
          "histogram": [
           {
            "marker": {
             "pattern": {
              "fillmode": "overlay",
              "size": 10,
              "solidity": 0.2
             }
            },
            "type": "histogram"
           }
          ],
          "histogram2d": [
           {
            "colorbar": {
             "outlinewidth": 0,
             "ticks": ""
            },
            "colorscale": [
             [
              0,
              "#0d0887"
             ],
             [
              0.1111111111111111,
              "#46039f"
             ],
             [
              0.2222222222222222,
              "#7201a8"
             ],
             [
              0.3333333333333333,
              "#9c179e"
             ],
             [
              0.4444444444444444,
              "#bd3786"
             ],
             [
              0.5555555555555556,
              "#d8576b"
             ],
             [
              0.6666666666666666,
              "#ed7953"
             ],
             [
              0.7777777777777778,
              "#fb9f3a"
             ],
             [
              0.8888888888888888,
              "#fdca26"
             ],
             [
              1,
              "#f0f921"
             ]
            ],
            "type": "histogram2d"
           }
          ],
          "histogram2dcontour": [
           {
            "colorbar": {
             "outlinewidth": 0,
             "ticks": ""
            },
            "colorscale": [
             [
              0,
              "#0d0887"
             ],
             [
              0.1111111111111111,
              "#46039f"
             ],
             [
              0.2222222222222222,
              "#7201a8"
             ],
             [
              0.3333333333333333,
              "#9c179e"
             ],
             [
              0.4444444444444444,
              "#bd3786"
             ],
             [
              0.5555555555555556,
              "#d8576b"
             ],
             [
              0.6666666666666666,
              "#ed7953"
             ],
             [
              0.7777777777777778,
              "#fb9f3a"
             ],
             [
              0.8888888888888888,
              "#fdca26"
             ],
             [
              1,
              "#f0f921"
             ]
            ],
            "type": "histogram2dcontour"
           }
          ],
          "mesh3d": [
           {
            "colorbar": {
             "outlinewidth": 0,
             "ticks": ""
            },
            "type": "mesh3d"
           }
          ],
          "parcoords": [
           {
            "line": {
             "colorbar": {
              "outlinewidth": 0,
              "ticks": ""
             }
            },
            "type": "parcoords"
           }
          ],
          "pie": [
           {
            "automargin": true,
            "type": "pie"
           }
          ],
          "scatter": [
           {
            "fillpattern": {
             "fillmode": "overlay",
             "size": 10,
             "solidity": 0.2
            },
            "type": "scatter"
           }
          ],
          "scatter3d": [
           {
            "line": {
             "colorbar": {
              "outlinewidth": 0,
              "ticks": ""
             }
            },
            "marker": {
             "colorbar": {
              "outlinewidth": 0,
              "ticks": ""
             }
            },
            "type": "scatter3d"
           }
          ],
          "scattercarpet": [
           {
            "marker": {
             "colorbar": {
              "outlinewidth": 0,
              "ticks": ""
             }
            },
            "type": "scattercarpet"
           }
          ],
          "scattergeo": [
           {
            "marker": {
             "colorbar": {
              "outlinewidth": 0,
              "ticks": ""
             }
            },
            "type": "scattergeo"
           }
          ],
          "scattergl": [
           {
            "marker": {
             "colorbar": {
              "outlinewidth": 0,
              "ticks": ""
             }
            },
            "type": "scattergl"
           }
          ],
          "scattermapbox": [
           {
            "marker": {
             "colorbar": {
              "outlinewidth": 0,
              "ticks": ""
             }
            },
            "type": "scattermapbox"
           }
          ],
          "scatterpolar": [
           {
            "marker": {
             "colorbar": {
              "outlinewidth": 0,
              "ticks": ""
             }
            },
            "type": "scatterpolar"
           }
          ],
          "scatterpolargl": [
           {
            "marker": {
             "colorbar": {
              "outlinewidth": 0,
              "ticks": ""
             }
            },
            "type": "scatterpolargl"
           }
          ],
          "scatterternary": [
           {
            "marker": {
             "colorbar": {
              "outlinewidth": 0,
              "ticks": ""
             }
            },
            "type": "scatterternary"
           }
          ],
          "surface": [
           {
            "colorbar": {
             "outlinewidth": 0,
             "ticks": ""
            },
            "colorscale": [
             [
              0,
              "#0d0887"
             ],
             [
              0.1111111111111111,
              "#46039f"
             ],
             [
              0.2222222222222222,
              "#7201a8"
             ],
             [
              0.3333333333333333,
              "#9c179e"
             ],
             [
              0.4444444444444444,
              "#bd3786"
             ],
             [
              0.5555555555555556,
              "#d8576b"
             ],
             [
              0.6666666666666666,
              "#ed7953"
             ],
             [
              0.7777777777777778,
              "#fb9f3a"
             ],
             [
              0.8888888888888888,
              "#fdca26"
             ],
             [
              1,
              "#f0f921"
             ]
            ],
            "type": "surface"
           }
          ],
          "table": [
           {
            "cells": {
             "fill": {
              "color": "#EBF0F8"
             },
             "line": {
              "color": "white"
             }
            },
            "header": {
             "fill": {
              "color": "#C8D4E3"
             },
             "line": {
              "color": "white"
             }
            },
            "type": "table"
           }
          ]
         },
         "layout": {
          "annotationdefaults": {
           "arrowcolor": "#2a3f5f",
           "arrowhead": 0,
           "arrowwidth": 1
          },
          "autotypenumbers": "strict",
          "coloraxis": {
           "colorbar": {
            "outlinewidth": 0,
            "ticks": ""
           }
          },
          "colorscale": {
           "diverging": [
            [
             0,
             "#8e0152"
            ],
            [
             0.1,
             "#c51b7d"
            ],
            [
             0.2,
             "#de77ae"
            ],
            [
             0.3,
             "#f1b6da"
            ],
            [
             0.4,
             "#fde0ef"
            ],
            [
             0.5,
             "#f7f7f7"
            ],
            [
             0.6,
             "#e6f5d0"
            ],
            [
             0.7,
             "#b8e186"
            ],
            [
             0.8,
             "#7fbc41"
            ],
            [
             0.9,
             "#4d9221"
            ],
            [
             1,
             "#276419"
            ]
           ],
           "sequential": [
            [
             0,
             "#0d0887"
            ],
            [
             0.1111111111111111,
             "#46039f"
            ],
            [
             0.2222222222222222,
             "#7201a8"
            ],
            [
             0.3333333333333333,
             "#9c179e"
            ],
            [
             0.4444444444444444,
             "#bd3786"
            ],
            [
             0.5555555555555556,
             "#d8576b"
            ],
            [
             0.6666666666666666,
             "#ed7953"
            ],
            [
             0.7777777777777778,
             "#fb9f3a"
            ],
            [
             0.8888888888888888,
             "#fdca26"
            ],
            [
             1,
             "#f0f921"
            ]
           ],
           "sequentialminus": [
            [
             0,
             "#0d0887"
            ],
            [
             0.1111111111111111,
             "#46039f"
            ],
            [
             0.2222222222222222,
             "#7201a8"
            ],
            [
             0.3333333333333333,
             "#9c179e"
            ],
            [
             0.4444444444444444,
             "#bd3786"
            ],
            [
             0.5555555555555556,
             "#d8576b"
            ],
            [
             0.6666666666666666,
             "#ed7953"
            ],
            [
             0.7777777777777778,
             "#fb9f3a"
            ],
            [
             0.8888888888888888,
             "#fdca26"
            ],
            [
             1,
             "#f0f921"
            ]
           ]
          },
          "colorway": [
           "#636efa",
           "#EF553B",
           "#00cc96",
           "#ab63fa",
           "#FFA15A",
           "#19d3f3",
           "#FF6692",
           "#B6E880",
           "#FF97FF",
           "#FECB52"
          ],
          "font": {
           "color": "#2a3f5f"
          },
          "geo": {
           "bgcolor": "white",
           "lakecolor": "white",
           "landcolor": "#E5ECF6",
           "showlakes": true,
           "showland": true,
           "subunitcolor": "white"
          },
          "hoverlabel": {
           "align": "left"
          },
          "hovermode": "closest",
          "mapbox": {
           "style": "light"
          },
          "paper_bgcolor": "white",
          "plot_bgcolor": "#E5ECF6",
          "polar": {
           "angularaxis": {
            "gridcolor": "white",
            "linecolor": "white",
            "ticks": ""
           },
           "bgcolor": "#E5ECF6",
           "radialaxis": {
            "gridcolor": "white",
            "linecolor": "white",
            "ticks": ""
           }
          },
          "scene": {
           "xaxis": {
            "backgroundcolor": "#E5ECF6",
            "gridcolor": "white",
            "gridwidth": 2,
            "linecolor": "white",
            "showbackground": true,
            "ticks": "",
            "zerolinecolor": "white"
           },
           "yaxis": {
            "backgroundcolor": "#E5ECF6",
            "gridcolor": "white",
            "gridwidth": 2,
            "linecolor": "white",
            "showbackground": true,
            "ticks": "",
            "zerolinecolor": "white"
           },
           "zaxis": {
            "backgroundcolor": "#E5ECF6",
            "gridcolor": "white",
            "gridwidth": 2,
            "linecolor": "white",
            "showbackground": true,
            "ticks": "",
            "zerolinecolor": "white"
           }
          },
          "shapedefaults": {
           "line": {
            "color": "#2a3f5f"
           }
          },
          "ternary": {
           "aaxis": {
            "gridcolor": "white",
            "linecolor": "white",
            "ticks": ""
           },
           "baxis": {
            "gridcolor": "white",
            "linecolor": "white",
            "ticks": ""
           },
           "bgcolor": "#E5ECF6",
           "caxis": {
            "gridcolor": "white",
            "linecolor": "white",
            "ticks": ""
           }
          },
          "title": {
           "x": 0.05
          },
          "xaxis": {
           "automargin": true,
           "gridcolor": "white",
           "linecolor": "white",
           "ticks": "",
           "title": {
            "standoff": 15
           },
           "zerolinecolor": "white",
           "zerolinewidth": 2
          },
          "yaxis": {
           "automargin": true,
           "gridcolor": "white",
           "linecolor": "white",
           "ticks": "",
           "title": {
            "standoff": 15
           },
           "zerolinecolor": "white",
           "zerolinewidth": 2
          }
         }
        },
        "title": {
         "text": "Correlation Matrix Heatmap",
         "x": 0.5,
         "y": 0.9
        },
        "xaxis": {
         "showgrid": true,
         "title": {
          "text": "Features"
         },
         "zeroline": false
        },
        "yaxis": {
         "showgrid": true,
         "title": {
          "text": "Features"
         },
         "zeroline": false
        }
       }
      }
     },
     "metadata": {},
     "output_type": "display_data"
    }
   ],
   "source": [
    "# Calculate the correlation matrix\n",
    "correlation_matrix = df.corr(method=\"spearman\")\n",
    "\n",
    "# Create a heatmap to show the correlation matrix\n",
    "heatmap = go.Figure(\n",
    "    data=go.Heatmap(\n",
    "        z=correlation_matrix.values,\n",
    "        x=correlation_matrix.columns,\n",
    "        y=correlation_matrix.columns,\n",
    "        colorscale=\"Viridis\",\n",
    "        text=correlation_matrix.values,  # Add text annotations\n",
    "        hoverinfo=\"text\",\n",
    "    )\n",
    ")\n",
    "\n",
    "# Add text annotations for each cell with smaller font size\n",
    "for i in range(len(correlation_matrix.columns)):\n",
    "    for j in range(len(correlation_matrix.columns)):\n",
    "        heatmap.add_annotation(\n",
    "            x=correlation_matrix.columns[i],\n",
    "            y=correlation_matrix.columns[j],\n",
    "            text=str(round(correlation_matrix.values[j][i], 2)),\n",
    "            showarrow=False,\n",
    "            font=dict(\n",
    "                size=8,  # Smaller font size\n",
    "                color=\"white\" if correlation_matrix.values[j][i] < 0.5 else \"black\",\n",
    "            ),\n",
    "        )\n",
    "\n",
    "# Customize the layout for better readability\n",
    "heatmap.update_layout(\n",
    "    title=\"Correlation Matrix Heatmap\",\n",
    "    xaxis_title=\"Features\",\n",
    "    yaxis_title=\"Features\",\n",
    "    title_x=0.5,\n",
    "    title_y=0.9,\n",
    "    xaxis=dict(showgrid=True, zeroline=False),\n",
    "    yaxis=dict(showgrid=True, zeroline=False),\n",
    ")\n",
    "\n",
    "# Display the heatmap\n",
    "heatmap.show()"
   ]
  },
  {
   "cell_type": "markdown",
   "metadata": {},
   "source": [
    "Choose spearman correlation since we looking for a service(categorical). And clearly seen above not many positive relation between service and dataset."
   ]
  },
  {
   "cell_type": "markdown",
   "metadata": {},
   "source": [
    "## Creating Datasets and Train-Test Split"
   ]
  },
  {
   "cell_type": "markdown",
   "metadata": {},
   "source": [
    "Create 4 different dataset which is:\n",
    "- Raw\n",
    "- Scaled\n",
    "- Eliminated\n",
    "- Eliminated / Scaled"
   ]
  },
  {
   "cell_type": "markdown",
   "metadata": {},
   "source": [
    "### Raw Dataset"
   ]
  },
  {
   "cell_type": "code",
   "execution_count": 18,
   "metadata": {},
   "outputs": [
    {
     "data": {
      "text/html": [
       "<div>\n",
       "<style scoped>\n",
       "    .dataframe tbody tr th:only-of-type {\n",
       "        vertical-align: middle;\n",
       "    }\n",
       "\n",
       "    .dataframe tbody tr th {\n",
       "        vertical-align: top;\n",
       "    }\n",
       "\n",
       "    .dataframe thead th {\n",
       "        text-align: right;\n",
       "    }\n",
       "</style>\n",
       "<table border=\"1\" class=\"dataframe\">\n",
       "  <thead>\n",
       "    <tr style=\"text-align: right;\">\n",
       "      <th></th>\n",
       "      <th>district</th>\n",
       "      <th>customer_since</th>\n",
       "      <th>age</th>\n",
       "      <th>is_married</th>\n",
       "      <th>address</th>\n",
       "      <th>salary</th>\n",
       "      <th>ed</th>\n",
       "      <th>employment_status</th>\n",
       "      <th>is_retired</th>\n",
       "      <th>gender</th>\n",
       "      <th>reside</th>\n",
       "      <th>service</th>\n",
       "    </tr>\n",
       "  </thead>\n",
       "  <tbody>\n",
       "    <tr>\n",
       "      <th>742</th>\n",
       "      <td>3</td>\n",
       "      <td>72</td>\n",
       "      <td>65</td>\n",
       "      <td>1</td>\n",
       "      <td>33</td>\n",
       "      <td>71.0</td>\n",
       "      <td>1</td>\n",
       "      <td>41</td>\n",
       "      <td>1</td>\n",
       "      <td>1</td>\n",
       "      <td>4</td>\n",
       "      <td>3</td>\n",
       "    </tr>\n",
       "    <tr>\n",
       "      <th>329</th>\n",
       "      <td>3</td>\n",
       "      <td>14</td>\n",
       "      <td>36</td>\n",
       "      <td>0</td>\n",
       "      <td>13</td>\n",
       "      <td>67.0</td>\n",
       "      <td>5</td>\n",
       "      <td>4</td>\n",
       "      <td>0</td>\n",
       "      <td>1</td>\n",
       "      <td>1</td>\n",
       "      <td>1</td>\n",
       "    </tr>\n",
       "    <tr>\n",
       "      <th>180</th>\n",
       "      <td>2</td>\n",
       "      <td>69</td>\n",
       "      <td>42</td>\n",
       "      <td>1</td>\n",
       "      <td>11</td>\n",
       "      <td>65.0</td>\n",
       "      <td>2</td>\n",
       "      <td>18</td>\n",
       "      <td>0</td>\n",
       "      <td>0</td>\n",
       "      <td>2</td>\n",
       "      <td>2</td>\n",
       "    </tr>\n",
       "    <tr>\n",
       "      <th>164</th>\n",
       "      <td>1</td>\n",
       "      <td>60</td>\n",
       "      <td>46</td>\n",
       "      <td>0</td>\n",
       "      <td>17</td>\n",
       "      <td>81.0</td>\n",
       "      <td>5</td>\n",
       "      <td>9</td>\n",
       "      <td>0</td>\n",
       "      <td>1</td>\n",
       "      <td>1</td>\n",
       "      <td>4</td>\n",
       "    </tr>\n",
       "    <tr>\n",
       "      <th>54</th>\n",
       "      <td>1</td>\n",
       "      <td>52</td>\n",
       "      <td>27</td>\n",
       "      <td>0</td>\n",
       "      <td>6</td>\n",
       "      <td>47.0</td>\n",
       "      <td>3</td>\n",
       "      <td>5</td>\n",
       "      <td>0</td>\n",
       "      <td>0</td>\n",
       "      <td>2</td>\n",
       "      <td>1</td>\n",
       "    </tr>\n",
       "  </tbody>\n",
       "</table>\n",
       "</div>"
      ],
      "text/plain": [
       "     district  customer_since  age  is_married  address  salary  ed  \\\n",
       "742         3              72   65           1       33    71.0   1   \n",
       "329         3              14   36           0       13    67.0   5   \n",
       "180         2              69   42           1       11    65.0   2   \n",
       "164         1              60   46           0       17    81.0   5   \n",
       "54          1              52   27           0        6    47.0   3   \n",
       "\n",
       "     employment_status  is_retired  gender  reside  service  \n",
       "742                 41           1       1       4        3  \n",
       "329                  4           0       1       1        1  \n",
       "180                 18           0       0       2        2  \n",
       "164                  9           0       1       1        4  \n",
       "54                   5           0       0       2        1  "
      ]
     },
     "metadata": {},
     "output_type": "display_data"
    },
    {
     "data": {
      "text/html": [
       "<div>\n",
       "<style scoped>\n",
       "    .dataframe tbody tr th:only-of-type {\n",
       "        vertical-align: middle;\n",
       "    }\n",
       "\n",
       "    .dataframe tbody tr th {\n",
       "        vertical-align: top;\n",
       "    }\n",
       "\n",
       "    .dataframe thead th {\n",
       "        text-align: right;\n",
       "    }\n",
       "</style>\n",
       "<table border=\"1\" class=\"dataframe\">\n",
       "  <thead>\n",
       "    <tr style=\"text-align: right;\">\n",
       "      <th></th>\n",
       "      <th>district</th>\n",
       "      <th>customer_since</th>\n",
       "      <th>age</th>\n",
       "      <th>is_married</th>\n",
       "      <th>address</th>\n",
       "      <th>salary</th>\n",
       "      <th>ed</th>\n",
       "      <th>employment_status</th>\n",
       "      <th>is_retired</th>\n",
       "      <th>gender</th>\n",
       "      <th>reside</th>\n",
       "      <th>service</th>\n",
       "    </tr>\n",
       "  </thead>\n",
       "  <tbody>\n",
       "    <tr>\n",
       "      <th>508</th>\n",
       "      <td>1</td>\n",
       "      <td>39</td>\n",
       "      <td>47</td>\n",
       "      <td>0</td>\n",
       "      <td>1</td>\n",
       "      <td>68.0</td>\n",
       "      <td>4</td>\n",
       "      <td>10</td>\n",
       "      <td>0</td>\n",
       "      <td>1</td>\n",
       "      <td>2</td>\n",
       "      <td>4</td>\n",
       "    </tr>\n",
       "    <tr>\n",
       "      <th>940</th>\n",
       "      <td>1</td>\n",
       "      <td>13</td>\n",
       "      <td>41</td>\n",
       "      <td>0</td>\n",
       "      <td>9</td>\n",
       "      <td>55.0</td>\n",
       "      <td>2</td>\n",
       "      <td>12</td>\n",
       "      <td>0</td>\n",
       "      <td>1</td>\n",
       "      <td>3</td>\n",
       "      <td>1</td>\n",
       "    </tr>\n",
       "    <tr>\n",
       "      <th>897</th>\n",
       "      <td>1</td>\n",
       "      <td>26</td>\n",
       "      <td>47</td>\n",
       "      <td>0</td>\n",
       "      <td>13</td>\n",
       "      <td>54.0</td>\n",
       "      <td>3</td>\n",
       "      <td>0</td>\n",
       "      <td>0</td>\n",
       "      <td>0</td>\n",
       "      <td>1</td>\n",
       "      <td>4</td>\n",
       "    </tr>\n",
       "    <tr>\n",
       "      <th>731</th>\n",
       "      <td>1</td>\n",
       "      <td>8</td>\n",
       "      <td>42</td>\n",
       "      <td>1</td>\n",
       "      <td>2</td>\n",
       "      <td>129.0</td>\n",
       "      <td>4</td>\n",
       "      <td>17</td>\n",
       "      <td>0</td>\n",
       "      <td>1</td>\n",
       "      <td>3</td>\n",
       "      <td>1</td>\n",
       "    </tr>\n",
       "    <tr>\n",
       "      <th>570</th>\n",
       "      <td>3</td>\n",
       "      <td>20</td>\n",
       "      <td>32</td>\n",
       "      <td>0</td>\n",
       "      <td>10</td>\n",
       "      <td>19.0</td>\n",
       "      <td>3</td>\n",
       "      <td>5</td>\n",
       "      <td>0</td>\n",
       "      <td>0</td>\n",
       "      <td>1</td>\n",
       "      <td>4</td>\n",
       "    </tr>\n",
       "  </tbody>\n",
       "</table>\n",
       "</div>"
      ],
      "text/plain": [
       "     district  customer_since  age  is_married  address  salary  ed  \\\n",
       "508         1              39   47           0        1    68.0   4   \n",
       "940         1              13   41           0        9    55.0   2   \n",
       "897         1              26   47           0       13    54.0   3   \n",
       "731         1               8   42           1        2   129.0   4   \n",
       "570         3              20   32           0       10    19.0   3   \n",
       "\n",
       "     employment_status  is_retired  gender  reside  service  \n",
       "508                 10           0       1       2        4  \n",
       "940                 12           0       1       3        1  \n",
       "897                  0           0       0       1        4  \n",
       "731                 17           0       1       3        1  \n",
       "570                  5           0       0       1        4  "
      ]
     },
     "metadata": {},
     "output_type": "display_data"
    }
   ],
   "source": [
    "X_train, X_test, y_train, y_test = train_test_split(\n",
    "    df,\n",
    "    df[\"service\"],\n",
    "    test_size=0.2,\n",
    "    random_state=42,\n",
    "    stratify=df[\"service\"],\n",
    "    shuffle=True,\n",
    ")\n",
    "\n",
    "display(X_train.head())\n",
    "display(X_test.head())"
   ]
  },
  {
   "cell_type": "code",
   "execution_count": 19,
   "metadata": {},
   "outputs": [],
   "source": [
    "# Define a function to perform Min-Max scaling\n",
    "def min_max_scale(column):\n",
    "    return (column - np.min(column)) / (np.max(column) - np.min(column))\n",
    "\n",
    "\n",
    "# Define a function to perform one-hot encoding using NumPy\n",
    "def one_hot_encode(column):\n",
    "    unique_values = np.unique(column)\n",
    "    one_hot_encoded = np.zeros((column.shape[0], unique_values.shape[0]))\n",
    "    for i, unique_value in enumerate(unique_values):\n",
    "        one_hot_encoded[:, i] = (column == unique_value).astype(int)\n",
    "    return one_hot_encoded, unique_values"
   ]
  },
  {
   "cell_type": "code",
   "execution_count": 20,
   "metadata": {},
   "outputs": [],
   "source": [
    "# List of continuous columns to scale\n",
    "continuous_columns = [\n",
    "    \"customer_since\",\n",
    "    \"age\",\n",
    "    \"salary\",\n",
    "]\n",
    "\n",
    "categorical_columns = [\n",
    "    \"district\",\n",
    "    \"address\",\n",
    "    \"ed\",\n",
    "    \"employment_status\",\n",
    "    \"reside\",\n",
    "]"
   ]
  },
  {
   "cell_type": "markdown",
   "metadata": {},
   "source": [
    "### Scaled Dataset"
   ]
  },
  {
   "cell_type": "markdown",
   "metadata": {},
   "source": [
    "Train test data(information) leak considered."
   ]
  },
  {
   "cell_type": "code",
   "execution_count": 21,
   "metadata": {},
   "outputs": [
    {
     "data": {
      "text/html": [
       "<div>\n",
       "<style scoped>\n",
       "    .dataframe tbody tr th:only-of-type {\n",
       "        vertical-align: middle;\n",
       "    }\n",
       "\n",
       "    .dataframe tbody tr th {\n",
       "        vertical-align: top;\n",
       "    }\n",
       "\n",
       "    .dataframe thead th {\n",
       "        text-align: right;\n",
       "    }\n",
       "</style>\n",
       "<table border=\"1\" class=\"dataframe\">\n",
       "  <thead>\n",
       "    <tr style=\"text-align: right;\">\n",
       "      <th></th>\n",
       "      <th>customer_since</th>\n",
       "      <th>age</th>\n",
       "      <th>is_married</th>\n",
       "      <th>salary</th>\n",
       "      <th>is_retired</th>\n",
       "      <th>gender</th>\n",
       "      <th>service</th>\n",
       "      <th>district_3</th>\n",
       "      <th>district_2</th>\n",
       "      <th>district_1</th>\n",
       "      <th>...</th>\n",
       "      <th>employment_status_40</th>\n",
       "      <th>employment_status_44</th>\n",
       "      <th>reside_4</th>\n",
       "      <th>reside_1</th>\n",
       "      <th>reside_2</th>\n",
       "      <th>reside_5</th>\n",
       "      <th>reside_3</th>\n",
       "      <th>reside_6</th>\n",
       "      <th>reside_7</th>\n",
       "      <th>reside_8</th>\n",
       "    </tr>\n",
       "  </thead>\n",
       "  <tbody>\n",
       "    <tr>\n",
       "      <th>742</th>\n",
       "      <td>1.000000</td>\n",
       "      <td>0.796610</td>\n",
       "      <td>1</td>\n",
       "      <td>0.055258</td>\n",
       "      <td>1</td>\n",
       "      <td>1</td>\n",
       "      <td>3</td>\n",
       "      <td>0.0</td>\n",
       "      <td>0.0</td>\n",
       "      <td>1.0</td>\n",
       "      <td>...</td>\n",
       "      <td>0.0</td>\n",
       "      <td>0.0</td>\n",
       "      <td>0.0</td>\n",
       "      <td>0.0</td>\n",
       "      <td>0.0</td>\n",
       "      <td>1.0</td>\n",
       "      <td>0.0</td>\n",
       "      <td>0.0</td>\n",
       "      <td>0.0</td>\n",
       "      <td>0.0</td>\n",
       "    </tr>\n",
       "    <tr>\n",
       "      <th>329</th>\n",
       "      <td>0.183099</td>\n",
       "      <td>0.305085</td>\n",
       "      <td>0</td>\n",
       "      <td>0.051693</td>\n",
       "      <td>0</td>\n",
       "      <td>1</td>\n",
       "      <td>1</td>\n",
       "      <td>0.0</td>\n",
       "      <td>0.0</td>\n",
       "      <td>1.0</td>\n",
       "      <td>...</td>\n",
       "      <td>0.0</td>\n",
       "      <td>0.0</td>\n",
       "      <td>1.0</td>\n",
       "      <td>0.0</td>\n",
       "      <td>0.0</td>\n",
       "      <td>0.0</td>\n",
       "      <td>0.0</td>\n",
       "      <td>0.0</td>\n",
       "      <td>0.0</td>\n",
       "      <td>0.0</td>\n",
       "    </tr>\n",
       "    <tr>\n",
       "      <th>180</th>\n",
       "      <td>0.957746</td>\n",
       "      <td>0.406780</td>\n",
       "      <td>1</td>\n",
       "      <td>0.049911</td>\n",
       "      <td>0</td>\n",
       "      <td>0</td>\n",
       "      <td>2</td>\n",
       "      <td>0.0</td>\n",
       "      <td>1.0</td>\n",
       "      <td>0.0</td>\n",
       "      <td>...</td>\n",
       "      <td>0.0</td>\n",
       "      <td>0.0</td>\n",
       "      <td>0.0</td>\n",
       "      <td>1.0</td>\n",
       "      <td>0.0</td>\n",
       "      <td>0.0</td>\n",
       "      <td>0.0</td>\n",
       "      <td>0.0</td>\n",
       "      <td>0.0</td>\n",
       "      <td>0.0</td>\n",
       "    </tr>\n",
       "    <tr>\n",
       "      <th>164</th>\n",
       "      <td>0.830986</td>\n",
       "      <td>0.474576</td>\n",
       "      <td>0</td>\n",
       "      <td>0.064171</td>\n",
       "      <td>0</td>\n",
       "      <td>1</td>\n",
       "      <td>4</td>\n",
       "      <td>1.0</td>\n",
       "      <td>0.0</td>\n",
       "      <td>0.0</td>\n",
       "      <td>...</td>\n",
       "      <td>0.0</td>\n",
       "      <td>0.0</td>\n",
       "      <td>1.0</td>\n",
       "      <td>0.0</td>\n",
       "      <td>0.0</td>\n",
       "      <td>0.0</td>\n",
       "      <td>0.0</td>\n",
       "      <td>0.0</td>\n",
       "      <td>0.0</td>\n",
       "      <td>0.0</td>\n",
       "    </tr>\n",
       "    <tr>\n",
       "      <th>54</th>\n",
       "      <td>0.718310</td>\n",
       "      <td>0.152542</td>\n",
       "      <td>0</td>\n",
       "      <td>0.033868</td>\n",
       "      <td>0</td>\n",
       "      <td>0</td>\n",
       "      <td>1</td>\n",
       "      <td>1.0</td>\n",
       "      <td>0.0</td>\n",
       "      <td>0.0</td>\n",
       "      <td>...</td>\n",
       "      <td>0.0</td>\n",
       "      <td>0.0</td>\n",
       "      <td>0.0</td>\n",
       "      <td>1.0</td>\n",
       "      <td>0.0</td>\n",
       "      <td>0.0</td>\n",
       "      <td>0.0</td>\n",
       "      <td>0.0</td>\n",
       "      <td>0.0</td>\n",
       "      <td>0.0</td>\n",
       "    </tr>\n",
       "  </tbody>\n",
       "</table>\n",
       "<p>5 rows × 115 columns</p>\n",
       "</div>"
      ],
      "text/plain": [
       "     customer_since       age  is_married    salary  is_retired  gender  \\\n",
       "742        1.000000  0.796610           1  0.055258           1       1   \n",
       "329        0.183099  0.305085           0  0.051693           0       1   \n",
       "180        0.957746  0.406780           1  0.049911           0       0   \n",
       "164        0.830986  0.474576           0  0.064171           0       1   \n",
       "54         0.718310  0.152542           0  0.033868           0       0   \n",
       "\n",
       "     service  district_3  district_2  district_1  ...  employment_status_40  \\\n",
       "742        3         0.0         0.0         1.0  ...                   0.0   \n",
       "329        1         0.0         0.0         1.0  ...                   0.0   \n",
       "180        2         0.0         1.0         0.0  ...                   0.0   \n",
       "164        4         1.0         0.0         0.0  ...                   0.0   \n",
       "54         1         1.0         0.0         0.0  ...                   0.0   \n",
       "\n",
       "     employment_status_44  reside_4  reside_1  reside_2  reside_5  reside_3  \\\n",
       "742                   0.0       0.0       0.0       0.0       1.0       0.0   \n",
       "329                   0.0       1.0       0.0       0.0       0.0       0.0   \n",
       "180                   0.0       0.0       1.0       0.0       0.0       0.0   \n",
       "164                   0.0       1.0       0.0       0.0       0.0       0.0   \n",
       "54                    0.0       0.0       1.0       0.0       0.0       0.0   \n",
       "\n",
       "     reside_6  reside_7  reside_8  \n",
       "742       0.0       0.0       0.0  \n",
       "329       0.0       0.0       0.0  \n",
       "180       0.0       0.0       0.0  \n",
       "164       0.0       0.0       0.0  \n",
       "54        0.0       0.0       0.0  \n",
       "\n",
       "[5 rows x 115 columns]"
      ]
     },
     "metadata": {},
     "output_type": "display_data"
    },
    {
     "data": {
      "text/html": [
       "<div>\n",
       "<style scoped>\n",
       "    .dataframe tbody tr th:only-of-type {\n",
       "        vertical-align: middle;\n",
       "    }\n",
       "\n",
       "    .dataframe tbody tr th {\n",
       "        vertical-align: top;\n",
       "    }\n",
       "\n",
       "    .dataframe thead th {\n",
       "        text-align: right;\n",
       "    }\n",
       "</style>\n",
       "<table border=\"1\" class=\"dataframe\">\n",
       "  <thead>\n",
       "    <tr style=\"text-align: right;\">\n",
       "      <th></th>\n",
       "      <th>customer_since</th>\n",
       "      <th>age</th>\n",
       "      <th>is_married</th>\n",
       "      <th>salary</th>\n",
       "      <th>is_retired</th>\n",
       "      <th>gender</th>\n",
       "      <th>service</th>\n",
       "      <th>district_3</th>\n",
       "      <th>district_2</th>\n",
       "      <th>district_1</th>\n",
       "      <th>...</th>\n",
       "      <th>employment_status_40</th>\n",
       "      <th>employment_status_44</th>\n",
       "      <th>reside_4</th>\n",
       "      <th>reside_1</th>\n",
       "      <th>reside_2</th>\n",
       "      <th>reside_5</th>\n",
       "      <th>reside_3</th>\n",
       "      <th>reside_6</th>\n",
       "      <th>reside_7</th>\n",
       "      <th>reside_8</th>\n",
       "    </tr>\n",
       "  </thead>\n",
       "  <tbody>\n",
       "    <tr>\n",
       "      <th>508</th>\n",
       "      <td>0.535211</td>\n",
       "      <td>0.482143</td>\n",
       "      <td>0</td>\n",
       "      <td>0.035564</td>\n",
       "      <td>0</td>\n",
       "      <td>1</td>\n",
       "      <td>4</td>\n",
       "      <td>0.0</td>\n",
       "      <td>0.0</td>\n",
       "      <td>1.0</td>\n",
       "      <td>...</td>\n",
       "      <td>0.0</td>\n",
       "      <td>0.0</td>\n",
       "      <td>0.0</td>\n",
       "      <td>0.0</td>\n",
       "      <td>1.0</td>\n",
       "      <td>0.0</td>\n",
       "      <td>0.0</td>\n",
       "      <td>0.0</td>\n",
       "      <td>0.0</td>\n",
       "      <td>0.0</td>\n",
       "    </tr>\n",
       "    <tr>\n",
       "      <th>940</th>\n",
       "      <td>0.169014</td>\n",
       "      <td>0.375000</td>\n",
       "      <td>0</td>\n",
       "      <td>0.027728</td>\n",
       "      <td>0</td>\n",
       "      <td>1</td>\n",
       "      <td>1</td>\n",
       "      <td>0.0</td>\n",
       "      <td>0.0</td>\n",
       "      <td>1.0</td>\n",
       "      <td>...</td>\n",
       "      <td>0.0</td>\n",
       "      <td>0.0</td>\n",
       "      <td>0.0</td>\n",
       "      <td>0.0</td>\n",
       "      <td>0.0</td>\n",
       "      <td>0.0</td>\n",
       "      <td>1.0</td>\n",
       "      <td>0.0</td>\n",
       "      <td>0.0</td>\n",
       "      <td>0.0</td>\n",
       "    </tr>\n",
       "    <tr>\n",
       "      <th>897</th>\n",
       "      <td>0.352113</td>\n",
       "      <td>0.482143</td>\n",
       "      <td>0</td>\n",
       "      <td>0.027125</td>\n",
       "      <td>0</td>\n",
       "      <td>0</td>\n",
       "      <td>4</td>\n",
       "      <td>0.0</td>\n",
       "      <td>0.0</td>\n",
       "      <td>1.0</td>\n",
       "      <td>...</td>\n",
       "      <td>0.0</td>\n",
       "      <td>0.0</td>\n",
       "      <td>0.0</td>\n",
       "      <td>1.0</td>\n",
       "      <td>0.0</td>\n",
       "      <td>0.0</td>\n",
       "      <td>0.0</td>\n",
       "      <td>0.0</td>\n",
       "      <td>0.0</td>\n",
       "      <td>0.0</td>\n",
       "    </tr>\n",
       "    <tr>\n",
       "      <th>731</th>\n",
       "      <td>0.098592</td>\n",
       "      <td>0.392857</td>\n",
       "      <td>1</td>\n",
       "      <td>0.072333</td>\n",
       "      <td>0</td>\n",
       "      <td>1</td>\n",
       "      <td>1</td>\n",
       "      <td>0.0</td>\n",
       "      <td>0.0</td>\n",
       "      <td>1.0</td>\n",
       "      <td>...</td>\n",
       "      <td>0.0</td>\n",
       "      <td>0.0</td>\n",
       "      <td>0.0</td>\n",
       "      <td>0.0</td>\n",
       "      <td>0.0</td>\n",
       "      <td>0.0</td>\n",
       "      <td>1.0</td>\n",
       "      <td>0.0</td>\n",
       "      <td>0.0</td>\n",
       "      <td>0.0</td>\n",
       "    </tr>\n",
       "    <tr>\n",
       "      <th>570</th>\n",
       "      <td>0.267606</td>\n",
       "      <td>0.214286</td>\n",
       "      <td>0</td>\n",
       "      <td>0.006028</td>\n",
       "      <td>0</td>\n",
       "      <td>0</td>\n",
       "      <td>4</td>\n",
       "      <td>1.0</td>\n",
       "      <td>0.0</td>\n",
       "      <td>0.0</td>\n",
       "      <td>...</td>\n",
       "      <td>0.0</td>\n",
       "      <td>0.0</td>\n",
       "      <td>0.0</td>\n",
       "      <td>1.0</td>\n",
       "      <td>0.0</td>\n",
       "      <td>0.0</td>\n",
       "      <td>0.0</td>\n",
       "      <td>0.0</td>\n",
       "      <td>0.0</td>\n",
       "      <td>0.0</td>\n",
       "    </tr>\n",
       "  </tbody>\n",
       "</table>\n",
       "<p>5 rows × 115 columns</p>\n",
       "</div>"
      ],
      "text/plain": [
       "     customer_since       age  is_married    salary  is_retired  gender  \\\n",
       "508        0.535211  0.482143           0  0.035564           0       1   \n",
       "940        0.169014  0.375000           0  0.027728           0       1   \n",
       "897        0.352113  0.482143           0  0.027125           0       0   \n",
       "731        0.098592  0.392857           1  0.072333           0       1   \n",
       "570        0.267606  0.214286           0  0.006028           0       0   \n",
       "\n",
       "     service  district_3  district_2  district_1  ...  employment_status_40  \\\n",
       "508        4         0.0         0.0         1.0  ...                   0.0   \n",
       "940        1         0.0         0.0         1.0  ...                   0.0   \n",
       "897        4         0.0         0.0         1.0  ...                   0.0   \n",
       "731        1         0.0         0.0         1.0  ...                   0.0   \n",
       "570        4         1.0         0.0         0.0  ...                   0.0   \n",
       "\n",
       "     employment_status_44  reside_4  reside_1  reside_2  reside_5  reside_3  \\\n",
       "508                   0.0       0.0       0.0       1.0       0.0       0.0   \n",
       "940                   0.0       0.0       0.0       0.0       0.0       1.0   \n",
       "897                   0.0       0.0       1.0       0.0       0.0       0.0   \n",
       "731                   0.0       0.0       0.0       0.0       0.0       1.0   \n",
       "570                   0.0       0.0       1.0       0.0       0.0       0.0   \n",
       "\n",
       "     reside_6  reside_7  reside_8  \n",
       "508       0.0       0.0       0.0  \n",
       "940       0.0       0.0       0.0  \n",
       "897       0.0       0.0       0.0  \n",
       "731       0.0       0.0       0.0  \n",
       "570       0.0       0.0       0.0  \n",
       "\n",
       "[5 rows x 115 columns]"
      ]
     },
     "metadata": {},
     "output_type": "display_data"
    }
   ],
   "source": [
    "(\n",
    "    X_train_scaled,\n",
    "    X_test_scaled,\n",
    ") = (\n",
    "    X_train.copy(),\n",
    "    X_test.copy(),\n",
    ")\n",
    "\n",
    "# Apply Min-Max scaling to the continuous columns\n",
    "for col in continuous_columns:\n",
    "    X_train_scaled[col] = min_max_scale(X_train_scaled[col])\n",
    "    X_test_scaled[col] = min_max_scale(X_test_scaled[col])\n",
    "\n",
    "\n",
    "# Get unique categories from the training set for consistent one-hot encoding\n",
    "categorical_mappings = {}\n",
    "\n",
    "for col in categorical_columns:\n",
    "    unique_values = X_train[col].unique()  # Get unique values from the training set\n",
    "    categorical_mappings[col] = unique_values  # Store the unique values for this column\n",
    "\n",
    "    # Apply one-hot encoding to the training set\n",
    "    one_hot_encoded_train, _ = one_hot_encode(X_train_scaled[col])\n",
    "    for i, unique_value in enumerate(unique_values):\n",
    "        X_train_scaled[f\"{col}_{unique_value}\"] = one_hot_encoded_train[:, i]\n",
    "\n",
    "    # Apply the same one-hot encoding to the test set\n",
    "    one_hot_encoded_test = np.zeros(\n",
    "        (X_test_scaled.shape[0], len(unique_values))\n",
    "    )  # Ensure same number of columns\n",
    "    for i, unique_value in enumerate(unique_values):\n",
    "        one_hot_encoded_test[:, i] = (X_test_scaled[col] == unique_value).astype(int)\n",
    "\n",
    "    for i, unique_value in enumerate(unique_values):\n",
    "        X_test_scaled[f\"{col}_{unique_value}\"] = one_hot_encoded_test[:, i]\n",
    "\n",
    "# Drop the original categorical columns from both datasets\n",
    "X_train_scaled = X_train_scaled.drop(categorical_columns, axis=1)\n",
    "X_test_scaled = X_test_scaled.drop(categorical_columns, axis=1)\n",
    "\n",
    "# Display the scaled DataFrame\n",
    "display(X_train_scaled.head())\n",
    "display(X_test_scaled.head())"
   ]
  },
  {
   "cell_type": "markdown",
   "metadata": {},
   "source": [
    "### Eliminated Dataset\n",
    "\n",
    "- Eliminate the reside column since it's higly(considering the dataset) correlated to is_married column and less correlated to service than is_married.\n",
    "\n",
    "- Eliminate the district since it's negatively correlated to service."
   ]
  },
  {
   "cell_type": "code",
   "execution_count": 22,
   "metadata": {},
   "outputs": [
    {
     "data": {
      "text/html": [
       "<div>\n",
       "<style scoped>\n",
       "    .dataframe tbody tr th:only-of-type {\n",
       "        vertical-align: middle;\n",
       "    }\n",
       "\n",
       "    .dataframe tbody tr th {\n",
       "        vertical-align: top;\n",
       "    }\n",
       "\n",
       "    .dataframe thead th {\n",
       "        text-align: right;\n",
       "    }\n",
       "</style>\n",
       "<table border=\"1\" class=\"dataframe\">\n",
       "  <thead>\n",
       "    <tr style=\"text-align: right;\">\n",
       "      <th></th>\n",
       "      <th>customer_since</th>\n",
       "      <th>age</th>\n",
       "      <th>is_married</th>\n",
       "      <th>address</th>\n",
       "      <th>salary</th>\n",
       "      <th>ed</th>\n",
       "      <th>employment_status</th>\n",
       "      <th>is_retired</th>\n",
       "      <th>gender</th>\n",
       "      <th>service</th>\n",
       "    </tr>\n",
       "  </thead>\n",
       "  <tbody>\n",
       "    <tr>\n",
       "      <th>742</th>\n",
       "      <td>72</td>\n",
       "      <td>65</td>\n",
       "      <td>1</td>\n",
       "      <td>33</td>\n",
       "      <td>71.0</td>\n",
       "      <td>1</td>\n",
       "      <td>41</td>\n",
       "      <td>1</td>\n",
       "      <td>1</td>\n",
       "      <td>3</td>\n",
       "    </tr>\n",
       "    <tr>\n",
       "      <th>329</th>\n",
       "      <td>14</td>\n",
       "      <td>36</td>\n",
       "      <td>0</td>\n",
       "      <td>13</td>\n",
       "      <td>67.0</td>\n",
       "      <td>5</td>\n",
       "      <td>4</td>\n",
       "      <td>0</td>\n",
       "      <td>1</td>\n",
       "      <td>1</td>\n",
       "    </tr>\n",
       "    <tr>\n",
       "      <th>180</th>\n",
       "      <td>69</td>\n",
       "      <td>42</td>\n",
       "      <td>1</td>\n",
       "      <td>11</td>\n",
       "      <td>65.0</td>\n",
       "      <td>2</td>\n",
       "      <td>18</td>\n",
       "      <td>0</td>\n",
       "      <td>0</td>\n",
       "      <td>2</td>\n",
       "    </tr>\n",
       "    <tr>\n",
       "      <th>164</th>\n",
       "      <td>60</td>\n",
       "      <td>46</td>\n",
       "      <td>0</td>\n",
       "      <td>17</td>\n",
       "      <td>81.0</td>\n",
       "      <td>5</td>\n",
       "      <td>9</td>\n",
       "      <td>0</td>\n",
       "      <td>1</td>\n",
       "      <td>4</td>\n",
       "    </tr>\n",
       "    <tr>\n",
       "      <th>54</th>\n",
       "      <td>52</td>\n",
       "      <td>27</td>\n",
       "      <td>0</td>\n",
       "      <td>6</td>\n",
       "      <td>47.0</td>\n",
       "      <td>3</td>\n",
       "      <td>5</td>\n",
       "      <td>0</td>\n",
       "      <td>0</td>\n",
       "      <td>1</td>\n",
       "    </tr>\n",
       "  </tbody>\n",
       "</table>\n",
       "</div>"
      ],
      "text/plain": [
       "     customer_since  age  is_married  address  salary  ed  employment_status  \\\n",
       "742              72   65           1       33    71.0   1                 41   \n",
       "329              14   36           0       13    67.0   5                  4   \n",
       "180              69   42           1       11    65.0   2                 18   \n",
       "164              60   46           0       17    81.0   5                  9   \n",
       "54               52   27           0        6    47.0   3                  5   \n",
       "\n",
       "     is_retired  gender  service  \n",
       "742           1       1        3  \n",
       "329           0       1        1  \n",
       "180           0       0        2  \n",
       "164           0       1        4  \n",
       "54            0       0        1  "
      ]
     },
     "metadata": {},
     "output_type": "display_data"
    },
    {
     "data": {
      "text/html": [
       "<div>\n",
       "<style scoped>\n",
       "    .dataframe tbody tr th:only-of-type {\n",
       "        vertical-align: middle;\n",
       "    }\n",
       "\n",
       "    .dataframe tbody tr th {\n",
       "        vertical-align: top;\n",
       "    }\n",
       "\n",
       "    .dataframe thead th {\n",
       "        text-align: right;\n",
       "    }\n",
       "</style>\n",
       "<table border=\"1\" class=\"dataframe\">\n",
       "  <thead>\n",
       "    <tr style=\"text-align: right;\">\n",
       "      <th></th>\n",
       "      <th>customer_since</th>\n",
       "      <th>age</th>\n",
       "      <th>is_married</th>\n",
       "      <th>address</th>\n",
       "      <th>salary</th>\n",
       "      <th>ed</th>\n",
       "      <th>employment_status</th>\n",
       "      <th>is_retired</th>\n",
       "      <th>gender</th>\n",
       "      <th>service</th>\n",
       "    </tr>\n",
       "  </thead>\n",
       "  <tbody>\n",
       "    <tr>\n",
       "      <th>508</th>\n",
       "      <td>39</td>\n",
       "      <td>47</td>\n",
       "      <td>0</td>\n",
       "      <td>1</td>\n",
       "      <td>68.0</td>\n",
       "      <td>4</td>\n",
       "      <td>10</td>\n",
       "      <td>0</td>\n",
       "      <td>1</td>\n",
       "      <td>4</td>\n",
       "    </tr>\n",
       "    <tr>\n",
       "      <th>940</th>\n",
       "      <td>13</td>\n",
       "      <td>41</td>\n",
       "      <td>0</td>\n",
       "      <td>9</td>\n",
       "      <td>55.0</td>\n",
       "      <td>2</td>\n",
       "      <td>12</td>\n",
       "      <td>0</td>\n",
       "      <td>1</td>\n",
       "      <td>1</td>\n",
       "    </tr>\n",
       "    <tr>\n",
       "      <th>897</th>\n",
       "      <td>26</td>\n",
       "      <td>47</td>\n",
       "      <td>0</td>\n",
       "      <td>13</td>\n",
       "      <td>54.0</td>\n",
       "      <td>3</td>\n",
       "      <td>0</td>\n",
       "      <td>0</td>\n",
       "      <td>0</td>\n",
       "      <td>4</td>\n",
       "    </tr>\n",
       "    <tr>\n",
       "      <th>731</th>\n",
       "      <td>8</td>\n",
       "      <td>42</td>\n",
       "      <td>1</td>\n",
       "      <td>2</td>\n",
       "      <td>129.0</td>\n",
       "      <td>4</td>\n",
       "      <td>17</td>\n",
       "      <td>0</td>\n",
       "      <td>1</td>\n",
       "      <td>1</td>\n",
       "    </tr>\n",
       "    <tr>\n",
       "      <th>570</th>\n",
       "      <td>20</td>\n",
       "      <td>32</td>\n",
       "      <td>0</td>\n",
       "      <td>10</td>\n",
       "      <td>19.0</td>\n",
       "      <td>3</td>\n",
       "      <td>5</td>\n",
       "      <td>0</td>\n",
       "      <td>0</td>\n",
       "      <td>4</td>\n",
       "    </tr>\n",
       "  </tbody>\n",
       "</table>\n",
       "</div>"
      ],
      "text/plain": [
       "     customer_since  age  is_married  address  salary  ed  employment_status  \\\n",
       "508              39   47           0        1    68.0   4                 10   \n",
       "940              13   41           0        9    55.0   2                 12   \n",
       "897              26   47           0       13    54.0   3                  0   \n",
       "731               8   42           1        2   129.0   4                 17   \n",
       "570              20   32           0       10    19.0   3                  5   \n",
       "\n",
       "     is_retired  gender  service  \n",
       "508           0       1        4  \n",
       "940           0       1        1  \n",
       "897           0       0        4  \n",
       "731           0       1        1  \n",
       "570           0       0        4  "
      ]
     },
     "metadata": {},
     "output_type": "display_data"
    }
   ],
   "source": [
    "X_train_eliminated = X_train.drop(\n",
    "    [\"reside\", \"district\"],\n",
    "    axis=1,\n",
    ")\n",
    "\n",
    "X_test_eliminated = X_test.drop(\n",
    "    [\"reside\", \"district\"],\n",
    "    axis=1,\n",
    ")\n",
    "\n",
    "display(X_train_eliminated.head())\n",
    "display(X_test_eliminated.head())"
   ]
  },
  {
   "cell_type": "markdown",
   "metadata": {},
   "source": [
    "### Eliminated/Scaled Dataset"
   ]
  },
  {
   "cell_type": "markdown",
   "metadata": {},
   "source": [
    "Train test data(information) leak considered."
   ]
  },
  {
   "cell_type": "code",
   "execution_count": 23,
   "metadata": {},
   "outputs": [],
   "source": [
    "eliminated_categorical_columns = [\n",
    "    \"address\",\n",
    "    \"ed\",\n",
    "    \"employment_status\",\n",
    "]"
   ]
  },
  {
   "cell_type": "code",
   "execution_count": 24,
   "metadata": {},
   "outputs": [
    {
     "data": {
      "text/html": [
       "<div>\n",
       "<style scoped>\n",
       "    .dataframe tbody tr th:only-of-type {\n",
       "        vertical-align: middle;\n",
       "    }\n",
       "\n",
       "    .dataframe tbody tr th {\n",
       "        vertical-align: top;\n",
       "    }\n",
       "\n",
       "    .dataframe thead th {\n",
       "        text-align: right;\n",
       "    }\n",
       "</style>\n",
       "<table border=\"1\" class=\"dataframe\">\n",
       "  <thead>\n",
       "    <tr style=\"text-align: right;\">\n",
       "      <th></th>\n",
       "      <th>customer_since</th>\n",
       "      <th>age</th>\n",
       "      <th>is_married</th>\n",
       "      <th>salary</th>\n",
       "      <th>is_retired</th>\n",
       "      <th>gender</th>\n",
       "      <th>service</th>\n",
       "      <th>address_33</th>\n",
       "      <th>address_13</th>\n",
       "      <th>address_11</th>\n",
       "      <th>...</th>\n",
       "      <th>employment_status_43</th>\n",
       "      <th>employment_status_34</th>\n",
       "      <th>employment_status_23</th>\n",
       "      <th>employment_status_45</th>\n",
       "      <th>employment_status_37</th>\n",
       "      <th>employment_status_36</th>\n",
       "      <th>employment_status_27</th>\n",
       "      <th>employment_status_24</th>\n",
       "      <th>employment_status_40</th>\n",
       "      <th>employment_status_44</th>\n",
       "    </tr>\n",
       "  </thead>\n",
       "  <tbody>\n",
       "    <tr>\n",
       "      <th>742</th>\n",
       "      <td>1.000000</td>\n",
       "      <td>0.796610</td>\n",
       "      <td>1</td>\n",
       "      <td>0.055258</td>\n",
       "      <td>1</td>\n",
       "      <td>1</td>\n",
       "      <td>3</td>\n",
       "      <td>0.0</td>\n",
       "      <td>0.0</td>\n",
       "      <td>0.0</td>\n",
       "      <td>...</td>\n",
       "      <td>0.0</td>\n",
       "      <td>0.0</td>\n",
       "      <td>0.0</td>\n",
       "      <td>0.0</td>\n",
       "      <td>0.0</td>\n",
       "      <td>1.0</td>\n",
       "      <td>0.0</td>\n",
       "      <td>0.0</td>\n",
       "      <td>0.0</td>\n",
       "      <td>0.0</td>\n",
       "    </tr>\n",
       "    <tr>\n",
       "      <th>329</th>\n",
       "      <td>0.183099</td>\n",
       "      <td>0.305085</td>\n",
       "      <td>0</td>\n",
       "      <td>0.051693</td>\n",
       "      <td>0</td>\n",
       "      <td>1</td>\n",
       "      <td>1</td>\n",
       "      <td>0.0</td>\n",
       "      <td>0.0</td>\n",
       "      <td>0.0</td>\n",
       "      <td>...</td>\n",
       "      <td>0.0</td>\n",
       "      <td>0.0</td>\n",
       "      <td>0.0</td>\n",
       "      <td>0.0</td>\n",
       "      <td>0.0</td>\n",
       "      <td>0.0</td>\n",
       "      <td>0.0</td>\n",
       "      <td>0.0</td>\n",
       "      <td>0.0</td>\n",
       "      <td>0.0</td>\n",
       "    </tr>\n",
       "    <tr>\n",
       "      <th>180</th>\n",
       "      <td>0.957746</td>\n",
       "      <td>0.406780</td>\n",
       "      <td>1</td>\n",
       "      <td>0.049911</td>\n",
       "      <td>0</td>\n",
       "      <td>0</td>\n",
       "      <td>2</td>\n",
       "      <td>0.0</td>\n",
       "      <td>0.0</td>\n",
       "      <td>0.0</td>\n",
       "      <td>...</td>\n",
       "      <td>0.0</td>\n",
       "      <td>0.0</td>\n",
       "      <td>0.0</td>\n",
       "      <td>0.0</td>\n",
       "      <td>0.0</td>\n",
       "      <td>0.0</td>\n",
       "      <td>0.0</td>\n",
       "      <td>0.0</td>\n",
       "      <td>0.0</td>\n",
       "      <td>0.0</td>\n",
       "    </tr>\n",
       "    <tr>\n",
       "      <th>164</th>\n",
       "      <td>0.830986</td>\n",
       "      <td>0.474576</td>\n",
       "      <td>0</td>\n",
       "      <td>0.064171</td>\n",
       "      <td>0</td>\n",
       "      <td>1</td>\n",
       "      <td>4</td>\n",
       "      <td>0.0</td>\n",
       "      <td>0.0</td>\n",
       "      <td>0.0</td>\n",
       "      <td>...</td>\n",
       "      <td>0.0</td>\n",
       "      <td>0.0</td>\n",
       "      <td>0.0</td>\n",
       "      <td>0.0</td>\n",
       "      <td>0.0</td>\n",
       "      <td>0.0</td>\n",
       "      <td>0.0</td>\n",
       "      <td>0.0</td>\n",
       "      <td>0.0</td>\n",
       "      <td>0.0</td>\n",
       "    </tr>\n",
       "    <tr>\n",
       "      <th>54</th>\n",
       "      <td>0.718310</td>\n",
       "      <td>0.152542</td>\n",
       "      <td>0</td>\n",
       "      <td>0.033868</td>\n",
       "      <td>0</td>\n",
       "      <td>0</td>\n",
       "      <td>1</td>\n",
       "      <td>0.0</td>\n",
       "      <td>0.0</td>\n",
       "      <td>0.0</td>\n",
       "      <td>...</td>\n",
       "      <td>0.0</td>\n",
       "      <td>0.0</td>\n",
       "      <td>0.0</td>\n",
       "      <td>0.0</td>\n",
       "      <td>0.0</td>\n",
       "      <td>0.0</td>\n",
       "      <td>0.0</td>\n",
       "      <td>0.0</td>\n",
       "      <td>0.0</td>\n",
       "      <td>0.0</td>\n",
       "    </tr>\n",
       "  </tbody>\n",
       "</table>\n",
       "<p>5 rows × 104 columns</p>\n",
       "</div>"
      ],
      "text/plain": [
       "     customer_since       age  is_married    salary  is_retired  gender  \\\n",
       "742        1.000000  0.796610           1  0.055258           1       1   \n",
       "329        0.183099  0.305085           0  0.051693           0       1   \n",
       "180        0.957746  0.406780           1  0.049911           0       0   \n",
       "164        0.830986  0.474576           0  0.064171           0       1   \n",
       "54         0.718310  0.152542           0  0.033868           0       0   \n",
       "\n",
       "     service  address_33  address_13  address_11  ...  employment_status_43  \\\n",
       "742        3         0.0         0.0         0.0  ...                   0.0   \n",
       "329        1         0.0         0.0         0.0  ...                   0.0   \n",
       "180        2         0.0         0.0         0.0  ...                   0.0   \n",
       "164        4         0.0         0.0         0.0  ...                   0.0   \n",
       "54         1         0.0         0.0         0.0  ...                   0.0   \n",
       "\n",
       "     employment_status_34  employment_status_23  employment_status_45  \\\n",
       "742                   0.0                   0.0                   0.0   \n",
       "329                   0.0                   0.0                   0.0   \n",
       "180                   0.0                   0.0                   0.0   \n",
       "164                   0.0                   0.0                   0.0   \n",
       "54                    0.0                   0.0                   0.0   \n",
       "\n",
       "     employment_status_37  employment_status_36  employment_status_27  \\\n",
       "742                   0.0                   1.0                   0.0   \n",
       "329                   0.0                   0.0                   0.0   \n",
       "180                   0.0                   0.0                   0.0   \n",
       "164                   0.0                   0.0                   0.0   \n",
       "54                    0.0                   0.0                   0.0   \n",
       "\n",
       "     employment_status_24  employment_status_40  employment_status_44  \n",
       "742                   0.0                   0.0                   0.0  \n",
       "329                   0.0                   0.0                   0.0  \n",
       "180                   0.0                   0.0                   0.0  \n",
       "164                   0.0                   0.0                   0.0  \n",
       "54                    0.0                   0.0                   0.0  \n",
       "\n",
       "[5 rows x 104 columns]"
      ]
     },
     "metadata": {},
     "output_type": "display_data"
    },
    {
     "data": {
      "text/html": [
       "<div>\n",
       "<style scoped>\n",
       "    .dataframe tbody tr th:only-of-type {\n",
       "        vertical-align: middle;\n",
       "    }\n",
       "\n",
       "    .dataframe tbody tr th {\n",
       "        vertical-align: top;\n",
       "    }\n",
       "\n",
       "    .dataframe thead th {\n",
       "        text-align: right;\n",
       "    }\n",
       "</style>\n",
       "<table border=\"1\" class=\"dataframe\">\n",
       "  <thead>\n",
       "    <tr style=\"text-align: right;\">\n",
       "      <th></th>\n",
       "      <th>customer_since</th>\n",
       "      <th>age</th>\n",
       "      <th>is_married</th>\n",
       "      <th>salary</th>\n",
       "      <th>is_retired</th>\n",
       "      <th>gender</th>\n",
       "      <th>service</th>\n",
       "      <th>address_33</th>\n",
       "      <th>address_13</th>\n",
       "      <th>address_11</th>\n",
       "      <th>...</th>\n",
       "      <th>employment_status_43</th>\n",
       "      <th>employment_status_34</th>\n",
       "      <th>employment_status_23</th>\n",
       "      <th>employment_status_45</th>\n",
       "      <th>employment_status_37</th>\n",
       "      <th>employment_status_36</th>\n",
       "      <th>employment_status_27</th>\n",
       "      <th>employment_status_24</th>\n",
       "      <th>employment_status_40</th>\n",
       "      <th>employment_status_44</th>\n",
       "    </tr>\n",
       "  </thead>\n",
       "  <tbody>\n",
       "    <tr>\n",
       "      <th>508</th>\n",
       "      <td>0.535211</td>\n",
       "      <td>0.482143</td>\n",
       "      <td>0</td>\n",
       "      <td>0.035564</td>\n",
       "      <td>0</td>\n",
       "      <td>1</td>\n",
       "      <td>4</td>\n",
       "      <td>0.0</td>\n",
       "      <td>0.0</td>\n",
       "      <td>0.0</td>\n",
       "      <td>...</td>\n",
       "      <td>0.0</td>\n",
       "      <td>0.0</td>\n",
       "      <td>0.0</td>\n",
       "      <td>0.0</td>\n",
       "      <td>0.0</td>\n",
       "      <td>0.0</td>\n",
       "      <td>0.0</td>\n",
       "      <td>0.0</td>\n",
       "      <td>0.0</td>\n",
       "      <td>0.0</td>\n",
       "    </tr>\n",
       "    <tr>\n",
       "      <th>940</th>\n",
       "      <td>0.169014</td>\n",
       "      <td>0.375000</td>\n",
       "      <td>0</td>\n",
       "      <td>0.027728</td>\n",
       "      <td>0</td>\n",
       "      <td>1</td>\n",
       "      <td>1</td>\n",
       "      <td>0.0</td>\n",
       "      <td>0.0</td>\n",
       "      <td>0.0</td>\n",
       "      <td>...</td>\n",
       "      <td>0.0</td>\n",
       "      <td>0.0</td>\n",
       "      <td>0.0</td>\n",
       "      <td>0.0</td>\n",
       "      <td>0.0</td>\n",
       "      <td>0.0</td>\n",
       "      <td>0.0</td>\n",
       "      <td>0.0</td>\n",
       "      <td>0.0</td>\n",
       "      <td>0.0</td>\n",
       "    </tr>\n",
       "    <tr>\n",
       "      <th>897</th>\n",
       "      <td>0.352113</td>\n",
       "      <td>0.482143</td>\n",
       "      <td>0</td>\n",
       "      <td>0.027125</td>\n",
       "      <td>0</td>\n",
       "      <td>0</td>\n",
       "      <td>4</td>\n",
       "      <td>0.0</td>\n",
       "      <td>1.0</td>\n",
       "      <td>0.0</td>\n",
       "      <td>...</td>\n",
       "      <td>0.0</td>\n",
       "      <td>0.0</td>\n",
       "      <td>0.0</td>\n",
       "      <td>0.0</td>\n",
       "      <td>0.0</td>\n",
       "      <td>0.0</td>\n",
       "      <td>0.0</td>\n",
       "      <td>0.0</td>\n",
       "      <td>0.0</td>\n",
       "      <td>0.0</td>\n",
       "    </tr>\n",
       "    <tr>\n",
       "      <th>731</th>\n",
       "      <td>0.098592</td>\n",
       "      <td>0.392857</td>\n",
       "      <td>1</td>\n",
       "      <td>0.072333</td>\n",
       "      <td>0</td>\n",
       "      <td>1</td>\n",
       "      <td>1</td>\n",
       "      <td>0.0</td>\n",
       "      <td>0.0</td>\n",
       "      <td>0.0</td>\n",
       "      <td>...</td>\n",
       "      <td>0.0</td>\n",
       "      <td>0.0</td>\n",
       "      <td>0.0</td>\n",
       "      <td>0.0</td>\n",
       "      <td>0.0</td>\n",
       "      <td>0.0</td>\n",
       "      <td>0.0</td>\n",
       "      <td>0.0</td>\n",
       "      <td>0.0</td>\n",
       "      <td>0.0</td>\n",
       "    </tr>\n",
       "    <tr>\n",
       "      <th>570</th>\n",
       "      <td>0.267606</td>\n",
       "      <td>0.214286</td>\n",
       "      <td>0</td>\n",
       "      <td>0.006028</td>\n",
       "      <td>0</td>\n",
       "      <td>0</td>\n",
       "      <td>4</td>\n",
       "      <td>0.0</td>\n",
       "      <td>0.0</td>\n",
       "      <td>0.0</td>\n",
       "      <td>...</td>\n",
       "      <td>0.0</td>\n",
       "      <td>0.0</td>\n",
       "      <td>0.0</td>\n",
       "      <td>0.0</td>\n",
       "      <td>0.0</td>\n",
       "      <td>0.0</td>\n",
       "      <td>0.0</td>\n",
       "      <td>0.0</td>\n",
       "      <td>0.0</td>\n",
       "      <td>0.0</td>\n",
       "    </tr>\n",
       "  </tbody>\n",
       "</table>\n",
       "<p>5 rows × 104 columns</p>\n",
       "</div>"
      ],
      "text/plain": [
       "     customer_since       age  is_married    salary  is_retired  gender  \\\n",
       "508        0.535211  0.482143           0  0.035564           0       1   \n",
       "940        0.169014  0.375000           0  0.027728           0       1   \n",
       "897        0.352113  0.482143           0  0.027125           0       0   \n",
       "731        0.098592  0.392857           1  0.072333           0       1   \n",
       "570        0.267606  0.214286           0  0.006028           0       0   \n",
       "\n",
       "     service  address_33  address_13  address_11  ...  employment_status_43  \\\n",
       "508        4         0.0         0.0         0.0  ...                   0.0   \n",
       "940        1         0.0         0.0         0.0  ...                   0.0   \n",
       "897        4         0.0         1.0         0.0  ...                   0.0   \n",
       "731        1         0.0         0.0         0.0  ...                   0.0   \n",
       "570        4         0.0         0.0         0.0  ...                   0.0   \n",
       "\n",
       "     employment_status_34  employment_status_23  employment_status_45  \\\n",
       "508                   0.0                   0.0                   0.0   \n",
       "940                   0.0                   0.0                   0.0   \n",
       "897                   0.0                   0.0                   0.0   \n",
       "731                   0.0                   0.0                   0.0   \n",
       "570                   0.0                   0.0                   0.0   \n",
       "\n",
       "     employment_status_37  employment_status_36  employment_status_27  \\\n",
       "508                   0.0                   0.0                   0.0   \n",
       "940                   0.0                   0.0                   0.0   \n",
       "897                   0.0                   0.0                   0.0   \n",
       "731                   0.0                   0.0                   0.0   \n",
       "570                   0.0                   0.0                   0.0   \n",
       "\n",
       "     employment_status_24  employment_status_40  employment_status_44  \n",
       "508                   0.0                   0.0                   0.0  \n",
       "940                   0.0                   0.0                   0.0  \n",
       "897                   0.0                   0.0                   0.0  \n",
       "731                   0.0                   0.0                   0.0  \n",
       "570                   0.0                   0.0                   0.0  \n",
       "\n",
       "[5 rows x 104 columns]"
      ]
     },
     "metadata": {},
     "output_type": "display_data"
    }
   ],
   "source": [
    "X_train_eliminated_scaled = X_train_eliminated.copy()\n",
    "X_test_eliminated_scaled = X_test_eliminated.copy()\n",
    "\n",
    "for col in continuous_columns:\n",
    "    X_train_eliminated_scaled[col] = min_max_scale(X_train_eliminated_scaled[col])\n",
    "    X_test_eliminated_scaled[col] = min_max_scale(X_test_eliminated_scaled[col])\n",
    "\n",
    "\n",
    "for col in eliminated_categorical_columns:\n",
    "    unique_values = X_train_eliminated[\n",
    "        col\n",
    "    ].unique()  # Get unique values from the training set\n",
    "\n",
    "    # Apply one-hot encoding to the training set\n",
    "    one_hot_encoded_train, _ = one_hot_encode(X_train_eliminated_scaled[col])\n",
    "    for i, unique_value in enumerate(unique_values):\n",
    "        X_train_eliminated_scaled[f\"{col}_{unique_value}\"] = one_hot_encoded_train[:, i]\n",
    "\n",
    "    # Apply the same one-hot encoding to the test set\n",
    "    one_hot_encoded_test = np.zeros(\n",
    "        (X_test_eliminated_scaled.shape[0], len(unique_values))\n",
    "    )  # Ensure same number of columns\n",
    "    for i, unique_value in enumerate(unique_values):\n",
    "        one_hot_encoded_test[:, i] = (\n",
    "            X_test_eliminated_scaled[col] == unique_value\n",
    "        ).astype(int)\n",
    "\n",
    "    for i, unique_value in enumerate(unique_values):\n",
    "        X_test_eliminated_scaled[f\"{col}_{unique_value}\"] = one_hot_encoded_test[:, i]\n",
    "\n",
    "# Drop the original categorical columns from both datasets\n",
    "X_train_eliminated_scaled = X_train_eliminated_scaled.drop(\n",
    "    eliminated_categorical_columns, axis=1\n",
    ")\n",
    "X_test_eliminated_scaled = X_test_eliminated_scaled.drop(\n",
    "    eliminated_categorical_columns, axis=1\n",
    ")\n",
    "\n",
    "display(X_train_eliminated_scaled.head())\n",
    "display(X_test_eliminated_scaled.head())"
   ]
  },
  {
   "cell_type": "markdown",
   "metadata": {},
   "source": [
    "## Implementing KNN and Variations"
   ]
  },
  {
   "cell_type": "markdown",
   "metadata": {},
   "source": [
    "### Original KNN Algortihm"
   ]
  },
  {
   "cell_type": "code",
   "execution_count": 25,
   "metadata": {},
   "outputs": [],
   "source": [
    "# Euclidean distance between two points\n",
    "def euclidean_distance(x1, x2):\n",
    "    return np.sqrt(np.sum((x1 - x2) ** 2))"
   ]
  },
  {
   "cell_type": "code",
   "execution_count": 26,
   "metadata": {},
   "outputs": [],
   "source": [
    "def get_k_nearest_neighbors(X_train, y_train, x_test, k):\n",
    "    # Calculate distances from x_test to all training points\n",
    "    distances = np.array([euclidean_distance(x_test, x_train) for x_train in X_train])\n",
    "\n",
    "    # Get the indices of the k smallest distances\n",
    "    k_neighbors_indices = distances.argsort()[:k]\n",
    "\n",
    "    # Return the classes and distances of the k nearest neighbors\n",
    "    return y_train[k_neighbors_indices], distances[k_neighbors_indices]"
   ]
  },
  {
   "cell_type": "code",
   "execution_count": 27,
   "metadata": {},
   "outputs": [],
   "source": [
    "def predict_classification(neighbors):\n",
    "    # Get the most common class in the neighbors\n",
    "    most_common = Counter(neighbors).most_common(1)\n",
    "    return most_common[0][0]"
   ]
  },
  {
   "cell_type": "code",
   "execution_count": 28,
   "metadata": {},
   "outputs": [],
   "source": [
    "def predict(X_train, y_train, x_test, k):\n",
    "    # Get the k nearest neighbors\n",
    "    neighbors, _ = get_k_nearest_neighbors(X_train, y_train, x_test, k)\n",
    "\n",
    "    # Predict the class based on the neighbors\n",
    "    return predict_classification(neighbors)"
   ]
  },
  {
   "cell_type": "code",
   "execution_count": 29,
   "metadata": {},
   "outputs": [],
   "source": [
    "def k_nearest_neighbors(X_train, y_train, X_test, k):\n",
    "    predictions = [predict(X_train, y_train, x_test, k) for x_test in X_test]\n",
    "    return np.array(predictions)"
   ]
  },
  {
   "cell_type": "markdown",
   "metadata": {},
   "source": [
    "### Weighted k-NN (based on distance)"
   ]
  },
  {
   "cell_type": "code",
   "execution_count": 30,
   "metadata": {},
   "outputs": [],
   "source": [
    "def weighted_classification(neighbors, distances):\n",
    "    # Inverse distance weighting\n",
    "    weights = 1 / (distances + 1e-5)  # Add small value to avoid division by zero\n",
    "\n",
    "    # Dictionary to store the sum of weights for each class\n",
    "    class_weights = {}\n",
    "\n",
    "    for idx, neighbor in enumerate(neighbors):\n",
    "        if neighbor in class_weights:\n",
    "            class_weights[neighbor] += weights[idx]\n",
    "        else:\n",
    "            class_weights[neighbor] = weights[idx]\n",
    "\n",
    "    # Return the class with the highest weighted sum\n",
    "    return max(class_weights, key=class_weights.get)"
   ]
  },
  {
   "cell_type": "code",
   "execution_count": 31,
   "metadata": {},
   "outputs": [],
   "source": [
    "def predict_weighted(X_train, y_train, x_test, k):\n",
    "    # Get the k nearest neighbors and their distances\n",
    "    neighbors, distances = get_k_nearest_neighbors(X_train, y_train, x_test, k)\n",
    "\n",
    "    # Predict the class using weighted voting\n",
    "    return weighted_classification(neighbors, distances)"
   ]
  },
  {
   "cell_type": "code",
   "execution_count": 32,
   "metadata": {},
   "outputs": [],
   "source": [
    "def k_nearest_neighbors_weighted(X_train, y_train, X_test, k):\n",
    "    predictions = [predict_weighted(X_train, y_train, x_test, k) for x_test in X_test]\n",
    "    return np.array(predictions)"
   ]
  },
  {
   "cell_type": "markdown",
   "metadata": {},
   "source": [
    "### Weighted k-NN (based on class frequency)"
   ]
  },
  {
   "cell_type": "code",
   "execution_count": 33,
   "metadata": {},
   "outputs": [],
   "source": [
    "def compute_class_frequencies(y_train):\n",
    "    # Count the occurrence of each class in the training labels\n",
    "    unique, counts = np.unique(y_train, return_counts=True)\n",
    "\n",
    "    # Calculate the frequency of each class\n",
    "    class_frequencies = dict(zip(unique, counts))\n",
    "\n",
    "    # Invert the frequency to give more weight to less frequent classes\n",
    "    class_weights = {cls: 1.0 / freq for cls, freq in class_frequencies.items()}\n",
    "\n",
    "    return class_weights"
   ]
  },
  {
   "cell_type": "code",
   "execution_count": 34,
   "metadata": {},
   "outputs": [],
   "source": [
    "def class_frequency_weighted_classification(neighbors, class_weights):\n",
    "    # Dictionary to store the sum of weights for each class\n",
    "    weighted_class_sums = {}\n",
    "\n",
    "    for neighbor in neighbors:\n",
    "        if neighbor in weighted_class_sums:\n",
    "            weighted_class_sums[neighbor] += class_weights[neighbor]\n",
    "        else:\n",
    "            weighted_class_sums[neighbor] = class_weights[neighbor]\n",
    "\n",
    "    # Return the class with the highest weighted sum\n",
    "    return max(weighted_class_sums, key=weighted_class_sums.get)"
   ]
  },
  {
   "cell_type": "code",
   "execution_count": 35,
   "metadata": {},
   "outputs": [],
   "source": [
    "def predict_class_frequency_weighted(X_train, y_train, x_test, k, class_weights):\n",
    "    # Get the k nearest neighbors (ignore distances)\n",
    "    neighbors, _ = get_k_nearest_neighbors(X_train, y_train, x_test, k)\n",
    "\n",
    "    # Predict the class based on class frequency weighting\n",
    "    return class_frequency_weighted_classification(neighbors, class_weights)"
   ]
  },
  {
   "cell_type": "code",
   "execution_count": 36,
   "metadata": {},
   "outputs": [],
   "source": [
    "def k_nearest_neighbors_class_frequency_weighted(X_train, y_train, X_test, k):\n",
    "    # Compute the class frequencies from the training set\n",
    "    class_weights = compute_class_frequencies(y_train)\n",
    "\n",
    "    # Predict the class for each test point using the class frequency weighting\n",
    "    predictions = [\n",
    "        predict_class_frequency_weighted(X_train, y_train, x_test, k, class_weights)\n",
    "        for x_test in X_test\n",
    "    ]\n",
    "\n",
    "    return np.array(predictions)"
   ]
  },
  {
   "cell_type": "markdown",
   "metadata": {},
   "source": [
    "### Combined weighted k-NN (distance + class frequency)"
   ]
  },
  {
   "cell_type": "code",
   "execution_count": 37,
   "metadata": {},
   "outputs": [],
   "source": [
    "def combined_weighted_classification(neighbors, distances, class_weights):\n",
    "    # Dictionary to store the combined weight for each class\n",
    "    combined_class_weights = {}\n",
    "\n",
    "    for idx, neighbor in enumerate(neighbors):\n",
    "        # Compute the combined weight (inverse distance * inverse class frequency)\n",
    "        weight = (1 / (distances[idx] + 1e-5)) * class_weights[neighbor]\n",
    "\n",
    "        if neighbor in combined_class_weights:\n",
    "            combined_class_weights[neighbor] += weight\n",
    "        else:\n",
    "            combined_class_weights[neighbor] = weight\n",
    "\n",
    "    # Return the class with the highest combined weight\n",
    "    return max(combined_class_weights, key=combined_class_weights.get)"
   ]
  },
  {
   "cell_type": "code",
   "execution_count": 38,
   "metadata": {},
   "outputs": [],
   "source": [
    "def predict_combined_weighted(X_train, y_train, x_test, k, class_weights):\n",
    "    # Get the k nearest neighbors and their distances\n",
    "    neighbors, distances = get_k_nearest_neighbors(X_train, y_train, x_test, k)\n",
    "\n",
    "    # Predict the class using combined distance and class frequency weighting\n",
    "    return combined_weighted_classification(neighbors, distances, class_weights)"
   ]
  },
  {
   "cell_type": "code",
   "execution_count": 39,
   "metadata": {},
   "outputs": [],
   "source": [
    "def k_nearest_neighbors_combined_weighted(X_train, y_train, X_test, k):\n",
    "    # Compute the class frequencies from the training set\n",
    "    class_weights = compute_class_frequencies(y_train)\n",
    "\n",
    "    # Predict the class for each test point using combined weighting\n",
    "    predictions = [\n",
    "        predict_combined_weighted(X_train, y_train, x_test, k, class_weights)\n",
    "        for x_test in X_test\n",
    "    ]\n",
    "\n",
    "    return np.array(predictions)"
   ]
  },
  {
   "cell_type": "markdown",
   "metadata": {},
   "source": [
    "### Metrics"
   ]
  },
  {
   "cell_type": "code",
   "execution_count": 40,
   "metadata": {},
   "outputs": [],
   "source": [
    "def accuracy(y_true, y_pred):\n",
    "    return np.sum(y_true == y_pred) / len(y_true)"
   ]
  },
  {
   "cell_type": "code",
   "execution_count": 41,
   "metadata": {},
   "outputs": [],
   "source": [
    "# Function to compute precision and recall for multiclass classification\n",
    "def precision_recall_multiclass(y_true, y_pred, class_labels=[1, 2, 3, 4]):\n",
    "    # Initialize dictionaries to store precision and recall for each class\n",
    "    precision = {}\n",
    "    recall = {}\n",
    "\n",
    "    for class_label in class_labels:\n",
    "        # True Positives (TP): Correctly predicted as this class\n",
    "        TP = np.sum((y_true == class_label) & (y_pred == class_label))\n",
    "\n",
    "        # False Positives (FP): Predicted as this class but actually belong to a different class\n",
    "        FP = np.sum((y_true != class_label) & (y_pred == class_label))\n",
    "\n",
    "        # False Negatives (FN): Actually belong to this class but predicted as a different class\n",
    "        FN = np.sum((y_true == class_label) & (y_pred != class_label))\n",
    "\n",
    "        # Calculate precision and recall for the class\n",
    "        precision[class_label] = TP / (TP + FP) if (TP + FP) > 0 else 0.0\n",
    "        recall[class_label] = TP / (TP + FN) if (TP + FN) > 0 else 0.0\n",
    "\n",
    "    return precision, recall"
   ]
  },
  {
   "cell_type": "markdown",
   "metadata": {},
   "source": [
    "### Elbow Method for Selecting Best k Value"
   ]
  },
  {
   "cell_type": "code",
   "execution_count": 42,
   "metadata": {},
   "outputs": [],
   "source": [
    "def elbow_method(X_train, y_train, k_values, algorithm):\n",
    "    # Split the training set into training and validation sets\n",
    "    X_train, X_val, y_train, y_val = train_test_split(\n",
    "        X_train, y_train, test_size=0.2, random_state=42, stratify=y_train\n",
    "    )\n",
    "\n",
    "    validation_errors = {}\n",
    "\n",
    "    for k in k_values:\n",
    "        # Predict on validation set using k-NN with the current value of k\n",
    "        y_pred = algorithm(X_train.values, y_train.values, X_val.values, k)\n",
    "\n",
    "        # Calculate the validation error\n",
    "        error = 1 - accuracy(y_val, y_pred)\n",
    "\n",
    "        # add error to dictionary\n",
    "        validation_errors[k] = error\n",
    "\n",
    "    return validation_errors"
   ]
  },
  {
   "cell_type": "markdown",
   "metadata": {},
   "source": [
    "## Experiments"
   ]
  },
  {
   "cell_type": "markdown",
   "metadata": {},
   "source": [
    "### Running Elbow Method for Every Dataset and Algorithm to Find Best k Values over Train Test"
   ]
  },
  {
   "cell_type": "code",
   "execution_count": 43,
   "metadata": {},
   "outputs": [],
   "source": [
    "algorithms = {\n",
    "    \"k-NN\": k_nearest_neighbors,\n",
    "    \"Weighted k-NN\": k_nearest_neighbors_weighted,\n",
    "    \"Class Frequency Weighted k-NN\": k_nearest_neighbors_class_frequency_weighted,\n",
    "    \"Combined Weighted k-NN\": k_nearest_neighbors_combined_weighted,\n",
    "}\n",
    "\n",
    "datasets = {\n",
    "    \"Raw\": (X_train, X_test),\n",
    "    \"Scaled\": (X_train_scaled, X_test_scaled),\n",
    "    \"Eliminated\": (X_train_eliminated, X_test_eliminated),\n",
    "    \"Eliminated Scaled\": (X_train_eliminated_scaled, X_test_eliminated_scaled),\n",
    "}\n",
    "\n",
    "k_values = range(1, 21)\n",
    "\n",
    "# Initialize a dictionary to store the validation errors for each algorithm and dataset\n",
    "validation_errors = {algorithm: {} for algorithm in algorithms}\n",
    "\n",
    "# Compute the validation errors for each algorithm and dataset\n",
    "for algorithm_name, algorithm in algorithms.items():\n",
    "    for dataset_name, (X_train, X_test) in datasets.items():\n",
    "        # Compute the validation errors for the current algorithm and dataset\n",
    "        validation_errors[algorithm_name][dataset_name] = elbow_method(\n",
    "            X_train, y_train, k_values, algorithm\n",
    "        )"
   ]
  },
  {
   "cell_type": "code",
   "execution_count": 47,
   "metadata": {},
   "outputs": [
    {
     "data": {
      "application/vnd.plotly.v1+json": {
       "config": {
        "plotlyServerURL": "https://plot.ly"
       },
       "data": [
        {
         "line": {
          "color": "green"
         },
         "mode": "lines+markers",
         "name": "k-NN (Scaled)",
         "type": "scatter",
         "x": [
          1,
          2,
          3,
          4,
          5,
          6,
          7,
          8,
          9,
          10,
          11,
          12,
          13,
          14,
          15,
          16,
          17,
          18,
          19,
          20
         ],
         "y": [
          0.21875,
          0.21875,
          0.13124999999999998,
          0.10624999999999996,
          0.09999999999999998,
          0.08750000000000002,
          0.09999999999999998,
          0.08750000000000002,
          0.08750000000000002,
          0.05625000000000002,
          0.06874999999999998,
          0.07499999999999996,
          0.08125000000000004,
          0.06874999999999998,
          0.05625000000000002,
          0.05625000000000002,
          0.0625,
          0.05000000000000005,
          0.05625000000000002,
          0.03749999999999998
         ]
        },
        {
         "line": {
          "color": "red"
         },
         "mode": "lines+markers",
         "name": "k-NN (Eliminated)",
         "type": "scatter",
         "x": [
          1,
          2,
          3,
          4,
          5,
          6,
          7,
          8,
          9,
          10,
          11,
          12,
          13,
          14,
          15,
          16,
          17,
          18,
          19,
          20
         ],
         "y": [
          0.6875,
          0.6875,
          0.7375,
          0.7375,
          0.71875,
          0.7125,
          0.6875,
          0.73125,
          0.7125,
          0.7,
          0.70625,
          0.68125,
          0.675,
          0.66875,
          0.66875,
          0.64375,
          0.64375,
          0.64375,
          0.65,
          0.64375
         ]
        },
        {
         "line": {
          "color": "purple"
         },
         "mode": "lines+markers",
         "name": "k-NN (Eliminated Scaled)",
         "type": "scatter",
         "x": [
          1,
          2,
          3,
          4,
          5,
          6,
          7,
          8,
          9,
          10,
          11,
          12,
          13,
          14,
          15,
          16,
          17,
          18,
          19,
          20
         ],
         "y": [
          0.15000000000000002,
          0.15000000000000002,
          0.125,
          0.08125000000000004,
          0.09375,
          0.08750000000000002,
          0.09375,
          0.06874999999999998,
          0.04374999999999995,
          0.05000000000000005,
          0.03125,
          0.03125,
          0.025000000000000026,
          0.025000000000000026,
          0.025000000000000026,
          0.018750000000000044,
          0.025000000000000026,
          0.03749999999999998,
          0.03749999999999998,
          0.03749999999999998
         ]
        },
        {
         "line": {
          "color": "blue"
         },
         "mode": "lines+markers",
         "name": "k-NN (Raw)",
         "type": "scatter",
         "x": [
          1,
          2,
          3,
          4,
          5,
          6,
          7,
          8,
          9,
          10,
          11,
          12,
          13,
          14,
          15,
          16,
          17,
          18,
          19,
          20
         ],
         "y": [
          0.68125,
          0.68125,
          0.71875,
          0.7375,
          0.70625,
          0.7125,
          0.71875,
          0.7375,
          0.70625,
          0.7,
          0.7125,
          0.69375,
          0.675,
          0.65,
          0.6875,
          0.66875,
          0.66875,
          0.65,
          0.65625,
          0.6625
         ]
        }
       ],
       "layout": {
        "annotations": [
         {
          "arrowhead": 1,
          "ax": -40,
          "ay": -40,
          "showarrow": true,
          "text": "Min: 0.04",
          "x": 20,
          "y": 0.03749999999999998
         },
         {
          "arrowhead": 1,
          "ax": -40,
          "ay": -40,
          "showarrow": true,
          "text": "Min: 0.64",
          "x": 16,
          "y": 0.64375
         },
         {
          "arrowhead": 1,
          "ax": -40,
          "ay": -40,
          "showarrow": true,
          "text": "Min: 0.02",
          "x": 16,
          "y": 0.018750000000000044
         },
         {
          "arrowhead": 1,
          "ax": -40,
          "ay": -40,
          "showarrow": true,
          "text": "Min: 0.65",
          "x": 14,
          "y": 0.65
         }
        ],
        "legend": {
         "title": {
          "text": "Method"
         }
        },
        "template": {
         "data": {
          "bar": [
           {
            "error_x": {
             "color": "#2a3f5f"
            },
            "error_y": {
             "color": "#2a3f5f"
            },
            "marker": {
             "line": {
              "color": "white",
              "width": 0.5
             },
             "pattern": {
              "fillmode": "overlay",
              "size": 10,
              "solidity": 0.2
             }
            },
            "type": "bar"
           }
          ],
          "barpolar": [
           {
            "marker": {
             "line": {
              "color": "white",
              "width": 0.5
             },
             "pattern": {
              "fillmode": "overlay",
              "size": 10,
              "solidity": 0.2
             }
            },
            "type": "barpolar"
           }
          ],
          "carpet": [
           {
            "aaxis": {
             "endlinecolor": "#2a3f5f",
             "gridcolor": "#C8D4E3",
             "linecolor": "#C8D4E3",
             "minorgridcolor": "#C8D4E3",
             "startlinecolor": "#2a3f5f"
            },
            "baxis": {
             "endlinecolor": "#2a3f5f",
             "gridcolor": "#C8D4E3",
             "linecolor": "#C8D4E3",
             "minorgridcolor": "#C8D4E3",
             "startlinecolor": "#2a3f5f"
            },
            "type": "carpet"
           }
          ],
          "choropleth": [
           {
            "colorbar": {
             "outlinewidth": 0,
             "ticks": ""
            },
            "type": "choropleth"
           }
          ],
          "contour": [
           {
            "colorbar": {
             "outlinewidth": 0,
             "ticks": ""
            },
            "colorscale": [
             [
              0,
              "#0d0887"
             ],
             [
              0.1111111111111111,
              "#46039f"
             ],
             [
              0.2222222222222222,
              "#7201a8"
             ],
             [
              0.3333333333333333,
              "#9c179e"
             ],
             [
              0.4444444444444444,
              "#bd3786"
             ],
             [
              0.5555555555555556,
              "#d8576b"
             ],
             [
              0.6666666666666666,
              "#ed7953"
             ],
             [
              0.7777777777777778,
              "#fb9f3a"
             ],
             [
              0.8888888888888888,
              "#fdca26"
             ],
             [
              1,
              "#f0f921"
             ]
            ],
            "type": "contour"
           }
          ],
          "contourcarpet": [
           {
            "colorbar": {
             "outlinewidth": 0,
             "ticks": ""
            },
            "type": "contourcarpet"
           }
          ],
          "heatmap": [
           {
            "colorbar": {
             "outlinewidth": 0,
             "ticks": ""
            },
            "colorscale": [
             [
              0,
              "#0d0887"
             ],
             [
              0.1111111111111111,
              "#46039f"
             ],
             [
              0.2222222222222222,
              "#7201a8"
             ],
             [
              0.3333333333333333,
              "#9c179e"
             ],
             [
              0.4444444444444444,
              "#bd3786"
             ],
             [
              0.5555555555555556,
              "#d8576b"
             ],
             [
              0.6666666666666666,
              "#ed7953"
             ],
             [
              0.7777777777777778,
              "#fb9f3a"
             ],
             [
              0.8888888888888888,
              "#fdca26"
             ],
             [
              1,
              "#f0f921"
             ]
            ],
            "type": "heatmap"
           }
          ],
          "heatmapgl": [
           {
            "colorbar": {
             "outlinewidth": 0,
             "ticks": ""
            },
            "colorscale": [
             [
              0,
              "#0d0887"
             ],
             [
              0.1111111111111111,
              "#46039f"
             ],
             [
              0.2222222222222222,
              "#7201a8"
             ],
             [
              0.3333333333333333,
              "#9c179e"
             ],
             [
              0.4444444444444444,
              "#bd3786"
             ],
             [
              0.5555555555555556,
              "#d8576b"
             ],
             [
              0.6666666666666666,
              "#ed7953"
             ],
             [
              0.7777777777777778,
              "#fb9f3a"
             ],
             [
              0.8888888888888888,
              "#fdca26"
             ],
             [
              1,
              "#f0f921"
             ]
            ],
            "type": "heatmapgl"
           }
          ],
          "histogram": [
           {
            "marker": {
             "pattern": {
              "fillmode": "overlay",
              "size": 10,
              "solidity": 0.2
             }
            },
            "type": "histogram"
           }
          ],
          "histogram2d": [
           {
            "colorbar": {
             "outlinewidth": 0,
             "ticks": ""
            },
            "colorscale": [
             [
              0,
              "#0d0887"
             ],
             [
              0.1111111111111111,
              "#46039f"
             ],
             [
              0.2222222222222222,
              "#7201a8"
             ],
             [
              0.3333333333333333,
              "#9c179e"
             ],
             [
              0.4444444444444444,
              "#bd3786"
             ],
             [
              0.5555555555555556,
              "#d8576b"
             ],
             [
              0.6666666666666666,
              "#ed7953"
             ],
             [
              0.7777777777777778,
              "#fb9f3a"
             ],
             [
              0.8888888888888888,
              "#fdca26"
             ],
             [
              1,
              "#f0f921"
             ]
            ],
            "type": "histogram2d"
           }
          ],
          "histogram2dcontour": [
           {
            "colorbar": {
             "outlinewidth": 0,
             "ticks": ""
            },
            "colorscale": [
             [
              0,
              "#0d0887"
             ],
             [
              0.1111111111111111,
              "#46039f"
             ],
             [
              0.2222222222222222,
              "#7201a8"
             ],
             [
              0.3333333333333333,
              "#9c179e"
             ],
             [
              0.4444444444444444,
              "#bd3786"
             ],
             [
              0.5555555555555556,
              "#d8576b"
             ],
             [
              0.6666666666666666,
              "#ed7953"
             ],
             [
              0.7777777777777778,
              "#fb9f3a"
             ],
             [
              0.8888888888888888,
              "#fdca26"
             ],
             [
              1,
              "#f0f921"
             ]
            ],
            "type": "histogram2dcontour"
           }
          ],
          "mesh3d": [
           {
            "colorbar": {
             "outlinewidth": 0,
             "ticks": ""
            },
            "type": "mesh3d"
           }
          ],
          "parcoords": [
           {
            "line": {
             "colorbar": {
              "outlinewidth": 0,
              "ticks": ""
             }
            },
            "type": "parcoords"
           }
          ],
          "pie": [
           {
            "automargin": true,
            "type": "pie"
           }
          ],
          "scatter": [
           {
            "fillpattern": {
             "fillmode": "overlay",
             "size": 10,
             "solidity": 0.2
            },
            "type": "scatter"
           }
          ],
          "scatter3d": [
           {
            "line": {
             "colorbar": {
              "outlinewidth": 0,
              "ticks": ""
             }
            },
            "marker": {
             "colorbar": {
              "outlinewidth": 0,
              "ticks": ""
             }
            },
            "type": "scatter3d"
           }
          ],
          "scattercarpet": [
           {
            "marker": {
             "colorbar": {
              "outlinewidth": 0,
              "ticks": ""
             }
            },
            "type": "scattercarpet"
           }
          ],
          "scattergeo": [
           {
            "marker": {
             "colorbar": {
              "outlinewidth": 0,
              "ticks": ""
             }
            },
            "type": "scattergeo"
           }
          ],
          "scattergl": [
           {
            "marker": {
             "colorbar": {
              "outlinewidth": 0,
              "ticks": ""
             }
            },
            "type": "scattergl"
           }
          ],
          "scattermapbox": [
           {
            "marker": {
             "colorbar": {
              "outlinewidth": 0,
              "ticks": ""
             }
            },
            "type": "scattermapbox"
           }
          ],
          "scatterpolar": [
           {
            "marker": {
             "colorbar": {
              "outlinewidth": 0,
              "ticks": ""
             }
            },
            "type": "scatterpolar"
           }
          ],
          "scatterpolargl": [
           {
            "marker": {
             "colorbar": {
              "outlinewidth": 0,
              "ticks": ""
             }
            },
            "type": "scatterpolargl"
           }
          ],
          "scatterternary": [
           {
            "marker": {
             "colorbar": {
              "outlinewidth": 0,
              "ticks": ""
             }
            },
            "type": "scatterternary"
           }
          ],
          "surface": [
           {
            "colorbar": {
             "outlinewidth": 0,
             "ticks": ""
            },
            "colorscale": [
             [
              0,
              "#0d0887"
             ],
             [
              0.1111111111111111,
              "#46039f"
             ],
             [
              0.2222222222222222,
              "#7201a8"
             ],
             [
              0.3333333333333333,
              "#9c179e"
             ],
             [
              0.4444444444444444,
              "#bd3786"
             ],
             [
              0.5555555555555556,
              "#d8576b"
             ],
             [
              0.6666666666666666,
              "#ed7953"
             ],
             [
              0.7777777777777778,
              "#fb9f3a"
             ],
             [
              0.8888888888888888,
              "#fdca26"
             ],
             [
              1,
              "#f0f921"
             ]
            ],
            "type": "surface"
           }
          ],
          "table": [
           {
            "cells": {
             "fill": {
              "color": "#EBF0F8"
             },
             "line": {
              "color": "white"
             }
            },
            "header": {
             "fill": {
              "color": "#C8D4E3"
             },
             "line": {
              "color": "white"
             }
            },
            "type": "table"
           }
          ]
         },
         "layout": {
          "annotationdefaults": {
           "arrowcolor": "#2a3f5f",
           "arrowhead": 0,
           "arrowwidth": 1
          },
          "autotypenumbers": "strict",
          "coloraxis": {
           "colorbar": {
            "outlinewidth": 0,
            "ticks": ""
           }
          },
          "colorscale": {
           "diverging": [
            [
             0,
             "#8e0152"
            ],
            [
             0.1,
             "#c51b7d"
            ],
            [
             0.2,
             "#de77ae"
            ],
            [
             0.3,
             "#f1b6da"
            ],
            [
             0.4,
             "#fde0ef"
            ],
            [
             0.5,
             "#f7f7f7"
            ],
            [
             0.6,
             "#e6f5d0"
            ],
            [
             0.7,
             "#b8e186"
            ],
            [
             0.8,
             "#7fbc41"
            ],
            [
             0.9,
             "#4d9221"
            ],
            [
             1,
             "#276419"
            ]
           ],
           "sequential": [
            [
             0,
             "#0d0887"
            ],
            [
             0.1111111111111111,
             "#46039f"
            ],
            [
             0.2222222222222222,
             "#7201a8"
            ],
            [
             0.3333333333333333,
             "#9c179e"
            ],
            [
             0.4444444444444444,
             "#bd3786"
            ],
            [
             0.5555555555555556,
             "#d8576b"
            ],
            [
             0.6666666666666666,
             "#ed7953"
            ],
            [
             0.7777777777777778,
             "#fb9f3a"
            ],
            [
             0.8888888888888888,
             "#fdca26"
            ],
            [
             1,
             "#f0f921"
            ]
           ],
           "sequentialminus": [
            [
             0,
             "#0d0887"
            ],
            [
             0.1111111111111111,
             "#46039f"
            ],
            [
             0.2222222222222222,
             "#7201a8"
            ],
            [
             0.3333333333333333,
             "#9c179e"
            ],
            [
             0.4444444444444444,
             "#bd3786"
            ],
            [
             0.5555555555555556,
             "#d8576b"
            ],
            [
             0.6666666666666666,
             "#ed7953"
            ],
            [
             0.7777777777777778,
             "#fb9f3a"
            ],
            [
             0.8888888888888888,
             "#fdca26"
            ],
            [
             1,
             "#f0f921"
            ]
           ]
          },
          "colorway": [
           "#636efa",
           "#EF553B",
           "#00cc96",
           "#ab63fa",
           "#FFA15A",
           "#19d3f3",
           "#FF6692",
           "#B6E880",
           "#FF97FF",
           "#FECB52"
          ],
          "font": {
           "color": "#2a3f5f"
          },
          "geo": {
           "bgcolor": "white",
           "lakecolor": "white",
           "landcolor": "white",
           "showlakes": true,
           "showland": true,
           "subunitcolor": "#C8D4E3"
          },
          "hoverlabel": {
           "align": "left"
          },
          "hovermode": "closest",
          "mapbox": {
           "style": "light"
          },
          "paper_bgcolor": "white",
          "plot_bgcolor": "white",
          "polar": {
           "angularaxis": {
            "gridcolor": "#EBF0F8",
            "linecolor": "#EBF0F8",
            "ticks": ""
           },
           "bgcolor": "white",
           "radialaxis": {
            "gridcolor": "#EBF0F8",
            "linecolor": "#EBF0F8",
            "ticks": ""
           }
          },
          "scene": {
           "xaxis": {
            "backgroundcolor": "white",
            "gridcolor": "#DFE8F3",
            "gridwidth": 2,
            "linecolor": "#EBF0F8",
            "showbackground": true,
            "ticks": "",
            "zerolinecolor": "#EBF0F8"
           },
           "yaxis": {
            "backgroundcolor": "white",
            "gridcolor": "#DFE8F3",
            "gridwidth": 2,
            "linecolor": "#EBF0F8",
            "showbackground": true,
            "ticks": "",
            "zerolinecolor": "#EBF0F8"
           },
           "zaxis": {
            "backgroundcolor": "white",
            "gridcolor": "#DFE8F3",
            "gridwidth": 2,
            "linecolor": "#EBF0F8",
            "showbackground": true,
            "ticks": "",
            "zerolinecolor": "#EBF0F8"
           }
          },
          "shapedefaults": {
           "line": {
            "color": "#2a3f5f"
           }
          },
          "ternary": {
           "aaxis": {
            "gridcolor": "#DFE8F3",
            "linecolor": "#A2B1C6",
            "ticks": ""
           },
           "baxis": {
            "gridcolor": "#DFE8F3",
            "linecolor": "#A2B1C6",
            "ticks": ""
           },
           "bgcolor": "white",
           "caxis": {
            "gridcolor": "#DFE8F3",
            "linecolor": "#A2B1C6",
            "ticks": ""
           }
          },
          "title": {
           "x": 0.05
          },
          "xaxis": {
           "automargin": true,
           "gridcolor": "#EBF0F8",
           "linecolor": "#EBF0F8",
           "ticks": "",
           "title": {
            "standoff": 15
           },
           "zerolinecolor": "#EBF0F8",
           "zerolinewidth": 2
          },
          "yaxis": {
           "automargin": true,
           "gridcolor": "#EBF0F8",
           "linecolor": "#EBF0F8",
           "ticks": "",
           "title": {
            "standoff": 15
           },
           "zerolinecolor": "#EBF0F8",
           "zerolinewidth": 2
          }
         }
        },
        "title": {
         "text": "Elbow Method Results for k-NN"
        },
        "xaxis": {
         "title": {
          "text": "Number of Neighbors (k)"
         }
        },
        "yaxis": {
         "title": {
          "text": "Error Rate"
         }
        }
       }
      }
     },
     "metadata": {},
     "output_type": "display_data"
    },
    {
     "data": {
      "application/vnd.plotly.v1+json": {
       "config": {
        "plotlyServerURL": "https://plot.ly"
       },
       "data": [
        {
         "line": {
          "color": "green"
         },
         "mode": "lines+markers",
         "name": "Weighted k-NN (Scaled)",
         "type": "scatter",
         "x": [
          1,
          2,
          3,
          4,
          5,
          6,
          7,
          8,
          9,
          10,
          11,
          12,
          13,
          14,
          15,
          16,
          17,
          18,
          19,
          20
         ],
         "y": [
          0.21875,
          0.21875,
          0.13124999999999998,
          0.10624999999999996,
          0.09375,
          0.08750000000000002,
          0.08750000000000002,
          0.08750000000000002,
          0.06874999999999998,
          0.0625,
          0.07499999999999996,
          0.07499999999999996,
          0.08125000000000004,
          0.05625000000000002,
          0.05000000000000005,
          0.04374999999999995,
          0.05000000000000005,
          0.04374999999999995,
          0.05625000000000002,
          0.04374999999999995
         ]
        },
        {
         "line": {
          "color": "red"
         },
         "mode": "lines+markers",
         "name": "Weighted k-NN (Eliminated)",
         "type": "scatter",
         "x": [
          1,
          2,
          3,
          4,
          5,
          6,
          7,
          8,
          9,
          10,
          11,
          12,
          13,
          14,
          15,
          16,
          17,
          18,
          19,
          20
         ],
         "y": [
          0.6875,
          0.6875,
          0.73125,
          0.73125,
          0.71875,
          0.71875,
          0.69375,
          0.71875,
          0.73125,
          0.69375,
          0.70625,
          0.70625,
          0.675,
          0.65,
          0.6625,
          0.65625,
          0.6625,
          0.6375,
          0.66875,
          0.65625
         ]
        },
        {
         "line": {
          "color": "purple"
         },
         "mode": "lines+markers",
         "name": "Weighted k-NN (Eliminated Scaled)",
         "type": "scatter",
         "x": [
          1,
          2,
          3,
          4,
          5,
          6,
          7,
          8,
          9,
          10,
          11,
          12,
          13,
          14,
          15,
          16,
          17,
          18,
          19,
          20
         ],
         "y": [
          0.15000000000000002,
          0.15000000000000002,
          0.125,
          0.09375,
          0.09375,
          0.08750000000000002,
          0.09375,
          0.06874999999999998,
          0.04374999999999995,
          0.05000000000000005,
          0.03125,
          0.03749999999999998,
          0.025000000000000026,
          0.025000000000000026,
          0.025000000000000026,
          0.018750000000000044,
          0.025000000000000026,
          0.03749999999999998,
          0.03749999999999998,
          0.03749999999999998
         ]
        },
        {
         "line": {
          "color": "blue"
         },
         "mode": "lines+markers",
         "name": "Weighted k-NN (Raw)",
         "type": "scatter",
         "x": [
          1,
          2,
          3,
          4,
          5,
          6,
          7,
          8,
          9,
          10,
          11,
          12,
          13,
          14,
          15,
          16,
          17,
          18,
          19,
          20
         ],
         "y": [
          0.68125,
          0.68125,
          0.7125,
          0.73125,
          0.7125,
          0.71875,
          0.71875,
          0.71875,
          0.71875,
          0.7,
          0.7,
          0.70625,
          0.675,
          0.65625,
          0.675,
          0.6625,
          0.66875,
          0.64375,
          0.66875,
          0.68125
         ]
        }
       ],
       "layout": {
        "annotations": [
         {
          "arrowhead": 1,
          "ax": -40,
          "ay": -40,
          "showarrow": true,
          "text": "Min: 0.04",
          "x": 16,
          "y": 0.04374999999999995
         },
         {
          "arrowhead": 1,
          "ax": -40,
          "ay": -40,
          "showarrow": true,
          "text": "Min: 0.64",
          "x": 18,
          "y": 0.6375
         },
         {
          "arrowhead": 1,
          "ax": -40,
          "ay": -40,
          "showarrow": true,
          "text": "Min: 0.02",
          "x": 16,
          "y": 0.018750000000000044
         },
         {
          "arrowhead": 1,
          "ax": -40,
          "ay": -40,
          "showarrow": true,
          "text": "Min: 0.64",
          "x": 18,
          "y": 0.64375
         }
        ],
        "legend": {
         "title": {
          "text": "Method"
         }
        },
        "template": {
         "data": {
          "bar": [
           {
            "error_x": {
             "color": "#2a3f5f"
            },
            "error_y": {
             "color": "#2a3f5f"
            },
            "marker": {
             "line": {
              "color": "white",
              "width": 0.5
             },
             "pattern": {
              "fillmode": "overlay",
              "size": 10,
              "solidity": 0.2
             }
            },
            "type": "bar"
           }
          ],
          "barpolar": [
           {
            "marker": {
             "line": {
              "color": "white",
              "width": 0.5
             },
             "pattern": {
              "fillmode": "overlay",
              "size": 10,
              "solidity": 0.2
             }
            },
            "type": "barpolar"
           }
          ],
          "carpet": [
           {
            "aaxis": {
             "endlinecolor": "#2a3f5f",
             "gridcolor": "#C8D4E3",
             "linecolor": "#C8D4E3",
             "minorgridcolor": "#C8D4E3",
             "startlinecolor": "#2a3f5f"
            },
            "baxis": {
             "endlinecolor": "#2a3f5f",
             "gridcolor": "#C8D4E3",
             "linecolor": "#C8D4E3",
             "minorgridcolor": "#C8D4E3",
             "startlinecolor": "#2a3f5f"
            },
            "type": "carpet"
           }
          ],
          "choropleth": [
           {
            "colorbar": {
             "outlinewidth": 0,
             "ticks": ""
            },
            "type": "choropleth"
           }
          ],
          "contour": [
           {
            "colorbar": {
             "outlinewidth": 0,
             "ticks": ""
            },
            "colorscale": [
             [
              0,
              "#0d0887"
             ],
             [
              0.1111111111111111,
              "#46039f"
             ],
             [
              0.2222222222222222,
              "#7201a8"
             ],
             [
              0.3333333333333333,
              "#9c179e"
             ],
             [
              0.4444444444444444,
              "#bd3786"
             ],
             [
              0.5555555555555556,
              "#d8576b"
             ],
             [
              0.6666666666666666,
              "#ed7953"
             ],
             [
              0.7777777777777778,
              "#fb9f3a"
             ],
             [
              0.8888888888888888,
              "#fdca26"
             ],
             [
              1,
              "#f0f921"
             ]
            ],
            "type": "contour"
           }
          ],
          "contourcarpet": [
           {
            "colorbar": {
             "outlinewidth": 0,
             "ticks": ""
            },
            "type": "contourcarpet"
           }
          ],
          "heatmap": [
           {
            "colorbar": {
             "outlinewidth": 0,
             "ticks": ""
            },
            "colorscale": [
             [
              0,
              "#0d0887"
             ],
             [
              0.1111111111111111,
              "#46039f"
             ],
             [
              0.2222222222222222,
              "#7201a8"
             ],
             [
              0.3333333333333333,
              "#9c179e"
             ],
             [
              0.4444444444444444,
              "#bd3786"
             ],
             [
              0.5555555555555556,
              "#d8576b"
             ],
             [
              0.6666666666666666,
              "#ed7953"
             ],
             [
              0.7777777777777778,
              "#fb9f3a"
             ],
             [
              0.8888888888888888,
              "#fdca26"
             ],
             [
              1,
              "#f0f921"
             ]
            ],
            "type": "heatmap"
           }
          ],
          "heatmapgl": [
           {
            "colorbar": {
             "outlinewidth": 0,
             "ticks": ""
            },
            "colorscale": [
             [
              0,
              "#0d0887"
             ],
             [
              0.1111111111111111,
              "#46039f"
             ],
             [
              0.2222222222222222,
              "#7201a8"
             ],
             [
              0.3333333333333333,
              "#9c179e"
             ],
             [
              0.4444444444444444,
              "#bd3786"
             ],
             [
              0.5555555555555556,
              "#d8576b"
             ],
             [
              0.6666666666666666,
              "#ed7953"
             ],
             [
              0.7777777777777778,
              "#fb9f3a"
             ],
             [
              0.8888888888888888,
              "#fdca26"
             ],
             [
              1,
              "#f0f921"
             ]
            ],
            "type": "heatmapgl"
           }
          ],
          "histogram": [
           {
            "marker": {
             "pattern": {
              "fillmode": "overlay",
              "size": 10,
              "solidity": 0.2
             }
            },
            "type": "histogram"
           }
          ],
          "histogram2d": [
           {
            "colorbar": {
             "outlinewidth": 0,
             "ticks": ""
            },
            "colorscale": [
             [
              0,
              "#0d0887"
             ],
             [
              0.1111111111111111,
              "#46039f"
             ],
             [
              0.2222222222222222,
              "#7201a8"
             ],
             [
              0.3333333333333333,
              "#9c179e"
             ],
             [
              0.4444444444444444,
              "#bd3786"
             ],
             [
              0.5555555555555556,
              "#d8576b"
             ],
             [
              0.6666666666666666,
              "#ed7953"
             ],
             [
              0.7777777777777778,
              "#fb9f3a"
             ],
             [
              0.8888888888888888,
              "#fdca26"
             ],
             [
              1,
              "#f0f921"
             ]
            ],
            "type": "histogram2d"
           }
          ],
          "histogram2dcontour": [
           {
            "colorbar": {
             "outlinewidth": 0,
             "ticks": ""
            },
            "colorscale": [
             [
              0,
              "#0d0887"
             ],
             [
              0.1111111111111111,
              "#46039f"
             ],
             [
              0.2222222222222222,
              "#7201a8"
             ],
             [
              0.3333333333333333,
              "#9c179e"
             ],
             [
              0.4444444444444444,
              "#bd3786"
             ],
             [
              0.5555555555555556,
              "#d8576b"
             ],
             [
              0.6666666666666666,
              "#ed7953"
             ],
             [
              0.7777777777777778,
              "#fb9f3a"
             ],
             [
              0.8888888888888888,
              "#fdca26"
             ],
             [
              1,
              "#f0f921"
             ]
            ],
            "type": "histogram2dcontour"
           }
          ],
          "mesh3d": [
           {
            "colorbar": {
             "outlinewidth": 0,
             "ticks": ""
            },
            "type": "mesh3d"
           }
          ],
          "parcoords": [
           {
            "line": {
             "colorbar": {
              "outlinewidth": 0,
              "ticks": ""
             }
            },
            "type": "parcoords"
           }
          ],
          "pie": [
           {
            "automargin": true,
            "type": "pie"
           }
          ],
          "scatter": [
           {
            "fillpattern": {
             "fillmode": "overlay",
             "size": 10,
             "solidity": 0.2
            },
            "type": "scatter"
           }
          ],
          "scatter3d": [
           {
            "line": {
             "colorbar": {
              "outlinewidth": 0,
              "ticks": ""
             }
            },
            "marker": {
             "colorbar": {
              "outlinewidth": 0,
              "ticks": ""
             }
            },
            "type": "scatter3d"
           }
          ],
          "scattercarpet": [
           {
            "marker": {
             "colorbar": {
              "outlinewidth": 0,
              "ticks": ""
             }
            },
            "type": "scattercarpet"
           }
          ],
          "scattergeo": [
           {
            "marker": {
             "colorbar": {
              "outlinewidth": 0,
              "ticks": ""
             }
            },
            "type": "scattergeo"
           }
          ],
          "scattergl": [
           {
            "marker": {
             "colorbar": {
              "outlinewidth": 0,
              "ticks": ""
             }
            },
            "type": "scattergl"
           }
          ],
          "scattermapbox": [
           {
            "marker": {
             "colorbar": {
              "outlinewidth": 0,
              "ticks": ""
             }
            },
            "type": "scattermapbox"
           }
          ],
          "scatterpolar": [
           {
            "marker": {
             "colorbar": {
              "outlinewidth": 0,
              "ticks": ""
             }
            },
            "type": "scatterpolar"
           }
          ],
          "scatterpolargl": [
           {
            "marker": {
             "colorbar": {
              "outlinewidth": 0,
              "ticks": ""
             }
            },
            "type": "scatterpolargl"
           }
          ],
          "scatterternary": [
           {
            "marker": {
             "colorbar": {
              "outlinewidth": 0,
              "ticks": ""
             }
            },
            "type": "scatterternary"
           }
          ],
          "surface": [
           {
            "colorbar": {
             "outlinewidth": 0,
             "ticks": ""
            },
            "colorscale": [
             [
              0,
              "#0d0887"
             ],
             [
              0.1111111111111111,
              "#46039f"
             ],
             [
              0.2222222222222222,
              "#7201a8"
             ],
             [
              0.3333333333333333,
              "#9c179e"
             ],
             [
              0.4444444444444444,
              "#bd3786"
             ],
             [
              0.5555555555555556,
              "#d8576b"
             ],
             [
              0.6666666666666666,
              "#ed7953"
             ],
             [
              0.7777777777777778,
              "#fb9f3a"
             ],
             [
              0.8888888888888888,
              "#fdca26"
             ],
             [
              1,
              "#f0f921"
             ]
            ],
            "type": "surface"
           }
          ],
          "table": [
           {
            "cells": {
             "fill": {
              "color": "#EBF0F8"
             },
             "line": {
              "color": "white"
             }
            },
            "header": {
             "fill": {
              "color": "#C8D4E3"
             },
             "line": {
              "color": "white"
             }
            },
            "type": "table"
           }
          ]
         },
         "layout": {
          "annotationdefaults": {
           "arrowcolor": "#2a3f5f",
           "arrowhead": 0,
           "arrowwidth": 1
          },
          "autotypenumbers": "strict",
          "coloraxis": {
           "colorbar": {
            "outlinewidth": 0,
            "ticks": ""
           }
          },
          "colorscale": {
           "diverging": [
            [
             0,
             "#8e0152"
            ],
            [
             0.1,
             "#c51b7d"
            ],
            [
             0.2,
             "#de77ae"
            ],
            [
             0.3,
             "#f1b6da"
            ],
            [
             0.4,
             "#fde0ef"
            ],
            [
             0.5,
             "#f7f7f7"
            ],
            [
             0.6,
             "#e6f5d0"
            ],
            [
             0.7,
             "#b8e186"
            ],
            [
             0.8,
             "#7fbc41"
            ],
            [
             0.9,
             "#4d9221"
            ],
            [
             1,
             "#276419"
            ]
           ],
           "sequential": [
            [
             0,
             "#0d0887"
            ],
            [
             0.1111111111111111,
             "#46039f"
            ],
            [
             0.2222222222222222,
             "#7201a8"
            ],
            [
             0.3333333333333333,
             "#9c179e"
            ],
            [
             0.4444444444444444,
             "#bd3786"
            ],
            [
             0.5555555555555556,
             "#d8576b"
            ],
            [
             0.6666666666666666,
             "#ed7953"
            ],
            [
             0.7777777777777778,
             "#fb9f3a"
            ],
            [
             0.8888888888888888,
             "#fdca26"
            ],
            [
             1,
             "#f0f921"
            ]
           ],
           "sequentialminus": [
            [
             0,
             "#0d0887"
            ],
            [
             0.1111111111111111,
             "#46039f"
            ],
            [
             0.2222222222222222,
             "#7201a8"
            ],
            [
             0.3333333333333333,
             "#9c179e"
            ],
            [
             0.4444444444444444,
             "#bd3786"
            ],
            [
             0.5555555555555556,
             "#d8576b"
            ],
            [
             0.6666666666666666,
             "#ed7953"
            ],
            [
             0.7777777777777778,
             "#fb9f3a"
            ],
            [
             0.8888888888888888,
             "#fdca26"
            ],
            [
             1,
             "#f0f921"
            ]
           ]
          },
          "colorway": [
           "#636efa",
           "#EF553B",
           "#00cc96",
           "#ab63fa",
           "#FFA15A",
           "#19d3f3",
           "#FF6692",
           "#B6E880",
           "#FF97FF",
           "#FECB52"
          ],
          "font": {
           "color": "#2a3f5f"
          },
          "geo": {
           "bgcolor": "white",
           "lakecolor": "white",
           "landcolor": "white",
           "showlakes": true,
           "showland": true,
           "subunitcolor": "#C8D4E3"
          },
          "hoverlabel": {
           "align": "left"
          },
          "hovermode": "closest",
          "mapbox": {
           "style": "light"
          },
          "paper_bgcolor": "white",
          "plot_bgcolor": "white",
          "polar": {
           "angularaxis": {
            "gridcolor": "#EBF0F8",
            "linecolor": "#EBF0F8",
            "ticks": ""
           },
           "bgcolor": "white",
           "radialaxis": {
            "gridcolor": "#EBF0F8",
            "linecolor": "#EBF0F8",
            "ticks": ""
           }
          },
          "scene": {
           "xaxis": {
            "backgroundcolor": "white",
            "gridcolor": "#DFE8F3",
            "gridwidth": 2,
            "linecolor": "#EBF0F8",
            "showbackground": true,
            "ticks": "",
            "zerolinecolor": "#EBF0F8"
           },
           "yaxis": {
            "backgroundcolor": "white",
            "gridcolor": "#DFE8F3",
            "gridwidth": 2,
            "linecolor": "#EBF0F8",
            "showbackground": true,
            "ticks": "",
            "zerolinecolor": "#EBF0F8"
           },
           "zaxis": {
            "backgroundcolor": "white",
            "gridcolor": "#DFE8F3",
            "gridwidth": 2,
            "linecolor": "#EBF0F8",
            "showbackground": true,
            "ticks": "",
            "zerolinecolor": "#EBF0F8"
           }
          },
          "shapedefaults": {
           "line": {
            "color": "#2a3f5f"
           }
          },
          "ternary": {
           "aaxis": {
            "gridcolor": "#DFE8F3",
            "linecolor": "#A2B1C6",
            "ticks": ""
           },
           "baxis": {
            "gridcolor": "#DFE8F3",
            "linecolor": "#A2B1C6",
            "ticks": ""
           },
           "bgcolor": "white",
           "caxis": {
            "gridcolor": "#DFE8F3",
            "linecolor": "#A2B1C6",
            "ticks": ""
           }
          },
          "title": {
           "x": 0.05
          },
          "xaxis": {
           "automargin": true,
           "gridcolor": "#EBF0F8",
           "linecolor": "#EBF0F8",
           "ticks": "",
           "title": {
            "standoff": 15
           },
           "zerolinecolor": "#EBF0F8",
           "zerolinewidth": 2
          },
          "yaxis": {
           "automargin": true,
           "gridcolor": "#EBF0F8",
           "linecolor": "#EBF0F8",
           "ticks": "",
           "title": {
            "standoff": 15
           },
           "zerolinecolor": "#EBF0F8",
           "zerolinewidth": 2
          }
         }
        },
        "title": {
         "text": "Elbow Method Results for Weighted k-NN"
        },
        "xaxis": {
         "title": {
          "text": "Number of Neighbors (k)"
         }
        },
        "yaxis": {
         "title": {
          "text": "Error Rate"
         }
        }
       }
      }
     },
     "metadata": {},
     "output_type": "display_data"
    },
    {
     "data": {
      "application/vnd.plotly.v1+json": {
       "config": {
        "plotlyServerURL": "https://plot.ly"
       },
       "data": [
        {
         "line": {
          "color": "green"
         },
         "mode": "lines+markers",
         "name": "Class Frequency Weighted k-NN (Scaled)",
         "type": "scatter",
         "x": [
          1,
          2,
          3,
          4,
          5,
          6,
          7,
          8,
          9,
          10,
          11,
          12,
          13,
          14,
          15,
          16,
          17,
          18,
          19,
          20
         ],
         "y": [
          0.21875,
          0.23750000000000004,
          0.15000000000000002,
          0.09999999999999998,
          0.09999999999999998,
          0.08750000000000002,
          0.09375,
          0.09999999999999998,
          0.05000000000000005,
          0.07499999999999996,
          0.08750000000000002,
          0.08750000000000002,
          0.0625,
          0.06874999999999998,
          0.05625000000000002,
          0.0625,
          0.0625,
          0.05000000000000005,
          0.05000000000000005,
          0.03749999999999998
         ]
        },
        {
         "line": {
          "color": "red"
         },
         "mode": "lines+markers",
         "name": "Class Frequency Weighted k-NN (Eliminated)",
         "type": "scatter",
         "x": [
          1,
          2,
          3,
          4,
          5,
          6,
          7,
          8,
          9,
          10,
          11,
          12,
          13,
          14,
          15,
          16,
          17,
          18,
          19,
          20
         ],
         "y": [
          0.6875,
          0.7125,
          0.7625,
          0.725,
          0.73125,
          0.73125,
          0.68125,
          0.70625,
          0.68125,
          0.66875,
          0.68125,
          0.68125,
          0.6625,
          0.63125,
          0.65625,
          0.6375,
          0.625,
          0.63125,
          0.6375,
          0.6625
         ]
        },
        {
         "line": {
          "color": "purple"
         },
         "mode": "lines+markers",
         "name": "Class Frequency Weighted k-NN (Eliminated Scaled)",
         "type": "scatter",
         "x": [
          1,
          2,
          3,
          4,
          5,
          6,
          7,
          8,
          9,
          10,
          11,
          12,
          13,
          14,
          15,
          16,
          17,
          18,
          19,
          20
         ],
         "y": [
          0.15000000000000002,
          0.15000000000000002,
          0.13124999999999998,
          0.10624999999999996,
          0.09375,
          0.09999999999999998,
          0.10624999999999996,
          0.06874999999999998,
          0.0625,
          0.0625,
          0.04374999999999995,
          0.03125,
          0.03125,
          0.03125,
          0.025000000000000026,
          0.03125,
          0.025000000000000026,
          0.03125,
          0.03125,
          0.03125
         ]
        },
        {
         "line": {
          "color": "blue"
         },
         "mode": "lines+markers",
         "name": "Class Frequency Weighted k-NN (Raw)",
         "type": "scatter",
         "x": [
          1,
          2,
          3,
          4,
          5,
          6,
          7,
          8,
          9,
          10,
          11,
          12,
          13,
          14,
          15,
          16,
          17,
          18,
          19,
          20
         ],
         "y": [
          0.68125,
          0.7125,
          0.74375,
          0.73125,
          0.73125,
          0.73125,
          0.70625,
          0.7125,
          0.65625,
          0.66875,
          0.68125,
          0.69375,
          0.65625,
          0.65625,
          0.675,
          0.6625,
          0.64375,
          0.65,
          0.64375,
          0.675
         ]
        }
       ],
       "layout": {
        "annotations": [
         {
          "arrowhead": 1,
          "ax": -40,
          "ay": -40,
          "showarrow": true,
          "text": "Min: 0.04",
          "x": 20,
          "y": 0.03749999999999998
         },
         {
          "arrowhead": 1,
          "ax": -40,
          "ay": -40,
          "showarrow": true,
          "text": "Min: 0.62",
          "x": 17,
          "y": 0.625
         },
         {
          "arrowhead": 1,
          "ax": -40,
          "ay": -40,
          "showarrow": true,
          "text": "Min: 0.03",
          "x": 15,
          "y": 0.025000000000000026
         },
         {
          "arrowhead": 1,
          "ax": -40,
          "ay": -40,
          "showarrow": true,
          "text": "Min: 0.64",
          "x": 17,
          "y": 0.64375
         }
        ],
        "legend": {
         "title": {
          "text": "Method"
         }
        },
        "template": {
         "data": {
          "bar": [
           {
            "error_x": {
             "color": "#2a3f5f"
            },
            "error_y": {
             "color": "#2a3f5f"
            },
            "marker": {
             "line": {
              "color": "white",
              "width": 0.5
             },
             "pattern": {
              "fillmode": "overlay",
              "size": 10,
              "solidity": 0.2
             }
            },
            "type": "bar"
           }
          ],
          "barpolar": [
           {
            "marker": {
             "line": {
              "color": "white",
              "width": 0.5
             },
             "pattern": {
              "fillmode": "overlay",
              "size": 10,
              "solidity": 0.2
             }
            },
            "type": "barpolar"
           }
          ],
          "carpet": [
           {
            "aaxis": {
             "endlinecolor": "#2a3f5f",
             "gridcolor": "#C8D4E3",
             "linecolor": "#C8D4E3",
             "minorgridcolor": "#C8D4E3",
             "startlinecolor": "#2a3f5f"
            },
            "baxis": {
             "endlinecolor": "#2a3f5f",
             "gridcolor": "#C8D4E3",
             "linecolor": "#C8D4E3",
             "minorgridcolor": "#C8D4E3",
             "startlinecolor": "#2a3f5f"
            },
            "type": "carpet"
           }
          ],
          "choropleth": [
           {
            "colorbar": {
             "outlinewidth": 0,
             "ticks": ""
            },
            "type": "choropleth"
           }
          ],
          "contour": [
           {
            "colorbar": {
             "outlinewidth": 0,
             "ticks": ""
            },
            "colorscale": [
             [
              0,
              "#0d0887"
             ],
             [
              0.1111111111111111,
              "#46039f"
             ],
             [
              0.2222222222222222,
              "#7201a8"
             ],
             [
              0.3333333333333333,
              "#9c179e"
             ],
             [
              0.4444444444444444,
              "#bd3786"
             ],
             [
              0.5555555555555556,
              "#d8576b"
             ],
             [
              0.6666666666666666,
              "#ed7953"
             ],
             [
              0.7777777777777778,
              "#fb9f3a"
             ],
             [
              0.8888888888888888,
              "#fdca26"
             ],
             [
              1,
              "#f0f921"
             ]
            ],
            "type": "contour"
           }
          ],
          "contourcarpet": [
           {
            "colorbar": {
             "outlinewidth": 0,
             "ticks": ""
            },
            "type": "contourcarpet"
           }
          ],
          "heatmap": [
           {
            "colorbar": {
             "outlinewidth": 0,
             "ticks": ""
            },
            "colorscale": [
             [
              0,
              "#0d0887"
             ],
             [
              0.1111111111111111,
              "#46039f"
             ],
             [
              0.2222222222222222,
              "#7201a8"
             ],
             [
              0.3333333333333333,
              "#9c179e"
             ],
             [
              0.4444444444444444,
              "#bd3786"
             ],
             [
              0.5555555555555556,
              "#d8576b"
             ],
             [
              0.6666666666666666,
              "#ed7953"
             ],
             [
              0.7777777777777778,
              "#fb9f3a"
             ],
             [
              0.8888888888888888,
              "#fdca26"
             ],
             [
              1,
              "#f0f921"
             ]
            ],
            "type": "heatmap"
           }
          ],
          "heatmapgl": [
           {
            "colorbar": {
             "outlinewidth": 0,
             "ticks": ""
            },
            "colorscale": [
             [
              0,
              "#0d0887"
             ],
             [
              0.1111111111111111,
              "#46039f"
             ],
             [
              0.2222222222222222,
              "#7201a8"
             ],
             [
              0.3333333333333333,
              "#9c179e"
             ],
             [
              0.4444444444444444,
              "#bd3786"
             ],
             [
              0.5555555555555556,
              "#d8576b"
             ],
             [
              0.6666666666666666,
              "#ed7953"
             ],
             [
              0.7777777777777778,
              "#fb9f3a"
             ],
             [
              0.8888888888888888,
              "#fdca26"
             ],
             [
              1,
              "#f0f921"
             ]
            ],
            "type": "heatmapgl"
           }
          ],
          "histogram": [
           {
            "marker": {
             "pattern": {
              "fillmode": "overlay",
              "size": 10,
              "solidity": 0.2
             }
            },
            "type": "histogram"
           }
          ],
          "histogram2d": [
           {
            "colorbar": {
             "outlinewidth": 0,
             "ticks": ""
            },
            "colorscale": [
             [
              0,
              "#0d0887"
             ],
             [
              0.1111111111111111,
              "#46039f"
             ],
             [
              0.2222222222222222,
              "#7201a8"
             ],
             [
              0.3333333333333333,
              "#9c179e"
             ],
             [
              0.4444444444444444,
              "#bd3786"
             ],
             [
              0.5555555555555556,
              "#d8576b"
             ],
             [
              0.6666666666666666,
              "#ed7953"
             ],
             [
              0.7777777777777778,
              "#fb9f3a"
             ],
             [
              0.8888888888888888,
              "#fdca26"
             ],
             [
              1,
              "#f0f921"
             ]
            ],
            "type": "histogram2d"
           }
          ],
          "histogram2dcontour": [
           {
            "colorbar": {
             "outlinewidth": 0,
             "ticks": ""
            },
            "colorscale": [
             [
              0,
              "#0d0887"
             ],
             [
              0.1111111111111111,
              "#46039f"
             ],
             [
              0.2222222222222222,
              "#7201a8"
             ],
             [
              0.3333333333333333,
              "#9c179e"
             ],
             [
              0.4444444444444444,
              "#bd3786"
             ],
             [
              0.5555555555555556,
              "#d8576b"
             ],
             [
              0.6666666666666666,
              "#ed7953"
             ],
             [
              0.7777777777777778,
              "#fb9f3a"
             ],
             [
              0.8888888888888888,
              "#fdca26"
             ],
             [
              1,
              "#f0f921"
             ]
            ],
            "type": "histogram2dcontour"
           }
          ],
          "mesh3d": [
           {
            "colorbar": {
             "outlinewidth": 0,
             "ticks": ""
            },
            "type": "mesh3d"
           }
          ],
          "parcoords": [
           {
            "line": {
             "colorbar": {
              "outlinewidth": 0,
              "ticks": ""
             }
            },
            "type": "parcoords"
           }
          ],
          "pie": [
           {
            "automargin": true,
            "type": "pie"
           }
          ],
          "scatter": [
           {
            "fillpattern": {
             "fillmode": "overlay",
             "size": 10,
             "solidity": 0.2
            },
            "type": "scatter"
           }
          ],
          "scatter3d": [
           {
            "line": {
             "colorbar": {
              "outlinewidth": 0,
              "ticks": ""
             }
            },
            "marker": {
             "colorbar": {
              "outlinewidth": 0,
              "ticks": ""
             }
            },
            "type": "scatter3d"
           }
          ],
          "scattercarpet": [
           {
            "marker": {
             "colorbar": {
              "outlinewidth": 0,
              "ticks": ""
             }
            },
            "type": "scattercarpet"
           }
          ],
          "scattergeo": [
           {
            "marker": {
             "colorbar": {
              "outlinewidth": 0,
              "ticks": ""
             }
            },
            "type": "scattergeo"
           }
          ],
          "scattergl": [
           {
            "marker": {
             "colorbar": {
              "outlinewidth": 0,
              "ticks": ""
             }
            },
            "type": "scattergl"
           }
          ],
          "scattermapbox": [
           {
            "marker": {
             "colorbar": {
              "outlinewidth": 0,
              "ticks": ""
             }
            },
            "type": "scattermapbox"
           }
          ],
          "scatterpolar": [
           {
            "marker": {
             "colorbar": {
              "outlinewidth": 0,
              "ticks": ""
             }
            },
            "type": "scatterpolar"
           }
          ],
          "scatterpolargl": [
           {
            "marker": {
             "colorbar": {
              "outlinewidth": 0,
              "ticks": ""
             }
            },
            "type": "scatterpolargl"
           }
          ],
          "scatterternary": [
           {
            "marker": {
             "colorbar": {
              "outlinewidth": 0,
              "ticks": ""
             }
            },
            "type": "scatterternary"
           }
          ],
          "surface": [
           {
            "colorbar": {
             "outlinewidth": 0,
             "ticks": ""
            },
            "colorscale": [
             [
              0,
              "#0d0887"
             ],
             [
              0.1111111111111111,
              "#46039f"
             ],
             [
              0.2222222222222222,
              "#7201a8"
             ],
             [
              0.3333333333333333,
              "#9c179e"
             ],
             [
              0.4444444444444444,
              "#bd3786"
             ],
             [
              0.5555555555555556,
              "#d8576b"
             ],
             [
              0.6666666666666666,
              "#ed7953"
             ],
             [
              0.7777777777777778,
              "#fb9f3a"
             ],
             [
              0.8888888888888888,
              "#fdca26"
             ],
             [
              1,
              "#f0f921"
             ]
            ],
            "type": "surface"
           }
          ],
          "table": [
           {
            "cells": {
             "fill": {
              "color": "#EBF0F8"
             },
             "line": {
              "color": "white"
             }
            },
            "header": {
             "fill": {
              "color": "#C8D4E3"
             },
             "line": {
              "color": "white"
             }
            },
            "type": "table"
           }
          ]
         },
         "layout": {
          "annotationdefaults": {
           "arrowcolor": "#2a3f5f",
           "arrowhead": 0,
           "arrowwidth": 1
          },
          "autotypenumbers": "strict",
          "coloraxis": {
           "colorbar": {
            "outlinewidth": 0,
            "ticks": ""
           }
          },
          "colorscale": {
           "diverging": [
            [
             0,
             "#8e0152"
            ],
            [
             0.1,
             "#c51b7d"
            ],
            [
             0.2,
             "#de77ae"
            ],
            [
             0.3,
             "#f1b6da"
            ],
            [
             0.4,
             "#fde0ef"
            ],
            [
             0.5,
             "#f7f7f7"
            ],
            [
             0.6,
             "#e6f5d0"
            ],
            [
             0.7,
             "#b8e186"
            ],
            [
             0.8,
             "#7fbc41"
            ],
            [
             0.9,
             "#4d9221"
            ],
            [
             1,
             "#276419"
            ]
           ],
           "sequential": [
            [
             0,
             "#0d0887"
            ],
            [
             0.1111111111111111,
             "#46039f"
            ],
            [
             0.2222222222222222,
             "#7201a8"
            ],
            [
             0.3333333333333333,
             "#9c179e"
            ],
            [
             0.4444444444444444,
             "#bd3786"
            ],
            [
             0.5555555555555556,
             "#d8576b"
            ],
            [
             0.6666666666666666,
             "#ed7953"
            ],
            [
             0.7777777777777778,
             "#fb9f3a"
            ],
            [
             0.8888888888888888,
             "#fdca26"
            ],
            [
             1,
             "#f0f921"
            ]
           ],
           "sequentialminus": [
            [
             0,
             "#0d0887"
            ],
            [
             0.1111111111111111,
             "#46039f"
            ],
            [
             0.2222222222222222,
             "#7201a8"
            ],
            [
             0.3333333333333333,
             "#9c179e"
            ],
            [
             0.4444444444444444,
             "#bd3786"
            ],
            [
             0.5555555555555556,
             "#d8576b"
            ],
            [
             0.6666666666666666,
             "#ed7953"
            ],
            [
             0.7777777777777778,
             "#fb9f3a"
            ],
            [
             0.8888888888888888,
             "#fdca26"
            ],
            [
             1,
             "#f0f921"
            ]
           ]
          },
          "colorway": [
           "#636efa",
           "#EF553B",
           "#00cc96",
           "#ab63fa",
           "#FFA15A",
           "#19d3f3",
           "#FF6692",
           "#B6E880",
           "#FF97FF",
           "#FECB52"
          ],
          "font": {
           "color": "#2a3f5f"
          },
          "geo": {
           "bgcolor": "white",
           "lakecolor": "white",
           "landcolor": "white",
           "showlakes": true,
           "showland": true,
           "subunitcolor": "#C8D4E3"
          },
          "hoverlabel": {
           "align": "left"
          },
          "hovermode": "closest",
          "mapbox": {
           "style": "light"
          },
          "paper_bgcolor": "white",
          "plot_bgcolor": "white",
          "polar": {
           "angularaxis": {
            "gridcolor": "#EBF0F8",
            "linecolor": "#EBF0F8",
            "ticks": ""
           },
           "bgcolor": "white",
           "radialaxis": {
            "gridcolor": "#EBF0F8",
            "linecolor": "#EBF0F8",
            "ticks": ""
           }
          },
          "scene": {
           "xaxis": {
            "backgroundcolor": "white",
            "gridcolor": "#DFE8F3",
            "gridwidth": 2,
            "linecolor": "#EBF0F8",
            "showbackground": true,
            "ticks": "",
            "zerolinecolor": "#EBF0F8"
           },
           "yaxis": {
            "backgroundcolor": "white",
            "gridcolor": "#DFE8F3",
            "gridwidth": 2,
            "linecolor": "#EBF0F8",
            "showbackground": true,
            "ticks": "",
            "zerolinecolor": "#EBF0F8"
           },
           "zaxis": {
            "backgroundcolor": "white",
            "gridcolor": "#DFE8F3",
            "gridwidth": 2,
            "linecolor": "#EBF0F8",
            "showbackground": true,
            "ticks": "",
            "zerolinecolor": "#EBF0F8"
           }
          },
          "shapedefaults": {
           "line": {
            "color": "#2a3f5f"
           }
          },
          "ternary": {
           "aaxis": {
            "gridcolor": "#DFE8F3",
            "linecolor": "#A2B1C6",
            "ticks": ""
           },
           "baxis": {
            "gridcolor": "#DFE8F3",
            "linecolor": "#A2B1C6",
            "ticks": ""
           },
           "bgcolor": "white",
           "caxis": {
            "gridcolor": "#DFE8F3",
            "linecolor": "#A2B1C6",
            "ticks": ""
           }
          },
          "title": {
           "x": 0.05
          },
          "xaxis": {
           "automargin": true,
           "gridcolor": "#EBF0F8",
           "linecolor": "#EBF0F8",
           "ticks": "",
           "title": {
            "standoff": 15
           },
           "zerolinecolor": "#EBF0F8",
           "zerolinewidth": 2
          },
          "yaxis": {
           "automargin": true,
           "gridcolor": "#EBF0F8",
           "linecolor": "#EBF0F8",
           "ticks": "",
           "title": {
            "standoff": 15
           },
           "zerolinecolor": "#EBF0F8",
           "zerolinewidth": 2
          }
         }
        },
        "title": {
         "text": "Elbow Method Results for Class Frequency Weighted k-NN"
        },
        "xaxis": {
         "title": {
          "text": "Number of Neighbors (k)"
         }
        },
        "yaxis": {
         "title": {
          "text": "Error Rate"
         }
        }
       }
      }
     },
     "metadata": {},
     "output_type": "display_data"
    },
    {
     "data": {
      "application/vnd.plotly.v1+json": {
       "config": {
        "plotlyServerURL": "https://plot.ly"
       },
       "data": [
        {
         "line": {
          "color": "green"
         },
         "mode": "lines+markers",
         "name": "Combined Weighted k-NN (Scaled)",
         "type": "scatter",
         "x": [
          1,
          2,
          3,
          4,
          5,
          6,
          7,
          8,
          9,
          10,
          11,
          12,
          13,
          14,
          15,
          16,
          17,
          18,
          19,
          20
         ],
         "y": [
          0.21875,
          0.25,
          0.14375000000000004,
          0.09999999999999998,
          0.09999999999999998,
          0.08750000000000002,
          0.09375,
          0.09999999999999998,
          0.05000000000000005,
          0.0625,
          0.08125000000000004,
          0.06874999999999998,
          0.0625,
          0.06874999999999998,
          0.05625000000000002,
          0.05625000000000002,
          0.0625,
          0.05000000000000005,
          0.04374999999999995,
          0.03749999999999998
         ]
        },
        {
         "line": {
          "color": "red"
         },
         "mode": "lines+markers",
         "name": "Combined Weighted k-NN (Eliminated)",
         "type": "scatter",
         "x": [
          1,
          2,
          3,
          4,
          5,
          6,
          7,
          8,
          9,
          10,
          11,
          12,
          13,
          14,
          15,
          16,
          17,
          18,
          19,
          20
         ],
         "y": [
          0.6875,
          0.7125,
          0.7625,
          0.73125,
          0.71875,
          0.71875,
          0.6875,
          0.7125,
          0.7,
          0.6875,
          0.70625,
          0.70625,
          0.7125,
          0.6625,
          0.66875,
          0.6375,
          0.63125,
          0.6375,
          0.6375,
          0.6375
         ]
        },
        {
         "line": {
          "color": "purple"
         },
         "mode": "lines+markers",
         "name": "Combined Weighted k-NN (Eliminated Scaled)",
         "type": "scatter",
         "x": [
          1,
          2,
          3,
          4,
          5,
          6,
          7,
          8,
          9,
          10,
          11,
          12,
          13,
          14,
          15,
          16,
          17,
          18,
          19,
          20
         ],
         "y": [
          0.15000000000000002,
          0.13124999999999998,
          0.125,
          0.10624999999999996,
          0.08750000000000002,
          0.09375,
          0.10624999999999996,
          0.07499999999999996,
          0.05625000000000002,
          0.05000000000000005,
          0.03749999999999998,
          0.03125,
          0.03125,
          0.03125,
          0.025000000000000026,
          0.03125,
          0.025000000000000026,
          0.025000000000000026,
          0.03125,
          0.03125
         ]
        },
        {
         "line": {
          "color": "blue"
         },
         "mode": "lines+markers",
         "name": "Combined Weighted k-NN (Raw)",
         "type": "scatter",
         "x": [
          1,
          2,
          3,
          4,
          5,
          6,
          7,
          8,
          9,
          10,
          11,
          12,
          13,
          14,
          15,
          16,
          17,
          18,
          19,
          20
         ],
         "y": [
          0.68125,
          0.7125,
          0.74375,
          0.73125,
          0.725,
          0.71875,
          0.7,
          0.7125,
          0.675,
          0.70625,
          0.70625,
          0.70625,
          0.7125,
          0.675,
          0.675,
          0.6625,
          0.65625,
          0.65625,
          0.6375,
          0.6375
         ]
        }
       ],
       "layout": {
        "annotations": [
         {
          "arrowhead": 1,
          "ax": -40,
          "ay": -40,
          "showarrow": true,
          "text": "Min: 0.04",
          "x": 20,
          "y": 0.03749999999999998
         },
         {
          "arrowhead": 1,
          "ax": -40,
          "ay": -40,
          "showarrow": true,
          "text": "Min: 0.63",
          "x": 17,
          "y": 0.63125
         },
         {
          "arrowhead": 1,
          "ax": -40,
          "ay": -40,
          "showarrow": true,
          "text": "Min: 0.03",
          "x": 15,
          "y": 0.025000000000000026
         },
         {
          "arrowhead": 1,
          "ax": -40,
          "ay": -40,
          "showarrow": true,
          "text": "Min: 0.64",
          "x": 19,
          "y": 0.6375
         }
        ],
        "legend": {
         "title": {
          "text": "Method"
         }
        },
        "template": {
         "data": {
          "bar": [
           {
            "error_x": {
             "color": "#2a3f5f"
            },
            "error_y": {
             "color": "#2a3f5f"
            },
            "marker": {
             "line": {
              "color": "white",
              "width": 0.5
             },
             "pattern": {
              "fillmode": "overlay",
              "size": 10,
              "solidity": 0.2
             }
            },
            "type": "bar"
           }
          ],
          "barpolar": [
           {
            "marker": {
             "line": {
              "color": "white",
              "width": 0.5
             },
             "pattern": {
              "fillmode": "overlay",
              "size": 10,
              "solidity": 0.2
             }
            },
            "type": "barpolar"
           }
          ],
          "carpet": [
           {
            "aaxis": {
             "endlinecolor": "#2a3f5f",
             "gridcolor": "#C8D4E3",
             "linecolor": "#C8D4E3",
             "minorgridcolor": "#C8D4E3",
             "startlinecolor": "#2a3f5f"
            },
            "baxis": {
             "endlinecolor": "#2a3f5f",
             "gridcolor": "#C8D4E3",
             "linecolor": "#C8D4E3",
             "minorgridcolor": "#C8D4E3",
             "startlinecolor": "#2a3f5f"
            },
            "type": "carpet"
           }
          ],
          "choropleth": [
           {
            "colorbar": {
             "outlinewidth": 0,
             "ticks": ""
            },
            "type": "choropleth"
           }
          ],
          "contour": [
           {
            "colorbar": {
             "outlinewidth": 0,
             "ticks": ""
            },
            "colorscale": [
             [
              0,
              "#0d0887"
             ],
             [
              0.1111111111111111,
              "#46039f"
             ],
             [
              0.2222222222222222,
              "#7201a8"
             ],
             [
              0.3333333333333333,
              "#9c179e"
             ],
             [
              0.4444444444444444,
              "#bd3786"
             ],
             [
              0.5555555555555556,
              "#d8576b"
             ],
             [
              0.6666666666666666,
              "#ed7953"
             ],
             [
              0.7777777777777778,
              "#fb9f3a"
             ],
             [
              0.8888888888888888,
              "#fdca26"
             ],
             [
              1,
              "#f0f921"
             ]
            ],
            "type": "contour"
           }
          ],
          "contourcarpet": [
           {
            "colorbar": {
             "outlinewidth": 0,
             "ticks": ""
            },
            "type": "contourcarpet"
           }
          ],
          "heatmap": [
           {
            "colorbar": {
             "outlinewidth": 0,
             "ticks": ""
            },
            "colorscale": [
             [
              0,
              "#0d0887"
             ],
             [
              0.1111111111111111,
              "#46039f"
             ],
             [
              0.2222222222222222,
              "#7201a8"
             ],
             [
              0.3333333333333333,
              "#9c179e"
             ],
             [
              0.4444444444444444,
              "#bd3786"
             ],
             [
              0.5555555555555556,
              "#d8576b"
             ],
             [
              0.6666666666666666,
              "#ed7953"
             ],
             [
              0.7777777777777778,
              "#fb9f3a"
             ],
             [
              0.8888888888888888,
              "#fdca26"
             ],
             [
              1,
              "#f0f921"
             ]
            ],
            "type": "heatmap"
           }
          ],
          "heatmapgl": [
           {
            "colorbar": {
             "outlinewidth": 0,
             "ticks": ""
            },
            "colorscale": [
             [
              0,
              "#0d0887"
             ],
             [
              0.1111111111111111,
              "#46039f"
             ],
             [
              0.2222222222222222,
              "#7201a8"
             ],
             [
              0.3333333333333333,
              "#9c179e"
             ],
             [
              0.4444444444444444,
              "#bd3786"
             ],
             [
              0.5555555555555556,
              "#d8576b"
             ],
             [
              0.6666666666666666,
              "#ed7953"
             ],
             [
              0.7777777777777778,
              "#fb9f3a"
             ],
             [
              0.8888888888888888,
              "#fdca26"
             ],
             [
              1,
              "#f0f921"
             ]
            ],
            "type": "heatmapgl"
           }
          ],
          "histogram": [
           {
            "marker": {
             "pattern": {
              "fillmode": "overlay",
              "size": 10,
              "solidity": 0.2
             }
            },
            "type": "histogram"
           }
          ],
          "histogram2d": [
           {
            "colorbar": {
             "outlinewidth": 0,
             "ticks": ""
            },
            "colorscale": [
             [
              0,
              "#0d0887"
             ],
             [
              0.1111111111111111,
              "#46039f"
             ],
             [
              0.2222222222222222,
              "#7201a8"
             ],
             [
              0.3333333333333333,
              "#9c179e"
             ],
             [
              0.4444444444444444,
              "#bd3786"
             ],
             [
              0.5555555555555556,
              "#d8576b"
             ],
             [
              0.6666666666666666,
              "#ed7953"
             ],
             [
              0.7777777777777778,
              "#fb9f3a"
             ],
             [
              0.8888888888888888,
              "#fdca26"
             ],
             [
              1,
              "#f0f921"
             ]
            ],
            "type": "histogram2d"
           }
          ],
          "histogram2dcontour": [
           {
            "colorbar": {
             "outlinewidth": 0,
             "ticks": ""
            },
            "colorscale": [
             [
              0,
              "#0d0887"
             ],
             [
              0.1111111111111111,
              "#46039f"
             ],
             [
              0.2222222222222222,
              "#7201a8"
             ],
             [
              0.3333333333333333,
              "#9c179e"
             ],
             [
              0.4444444444444444,
              "#bd3786"
             ],
             [
              0.5555555555555556,
              "#d8576b"
             ],
             [
              0.6666666666666666,
              "#ed7953"
             ],
             [
              0.7777777777777778,
              "#fb9f3a"
             ],
             [
              0.8888888888888888,
              "#fdca26"
             ],
             [
              1,
              "#f0f921"
             ]
            ],
            "type": "histogram2dcontour"
           }
          ],
          "mesh3d": [
           {
            "colorbar": {
             "outlinewidth": 0,
             "ticks": ""
            },
            "type": "mesh3d"
           }
          ],
          "parcoords": [
           {
            "line": {
             "colorbar": {
              "outlinewidth": 0,
              "ticks": ""
             }
            },
            "type": "parcoords"
           }
          ],
          "pie": [
           {
            "automargin": true,
            "type": "pie"
           }
          ],
          "scatter": [
           {
            "fillpattern": {
             "fillmode": "overlay",
             "size": 10,
             "solidity": 0.2
            },
            "type": "scatter"
           }
          ],
          "scatter3d": [
           {
            "line": {
             "colorbar": {
              "outlinewidth": 0,
              "ticks": ""
             }
            },
            "marker": {
             "colorbar": {
              "outlinewidth": 0,
              "ticks": ""
             }
            },
            "type": "scatter3d"
           }
          ],
          "scattercarpet": [
           {
            "marker": {
             "colorbar": {
              "outlinewidth": 0,
              "ticks": ""
             }
            },
            "type": "scattercarpet"
           }
          ],
          "scattergeo": [
           {
            "marker": {
             "colorbar": {
              "outlinewidth": 0,
              "ticks": ""
             }
            },
            "type": "scattergeo"
           }
          ],
          "scattergl": [
           {
            "marker": {
             "colorbar": {
              "outlinewidth": 0,
              "ticks": ""
             }
            },
            "type": "scattergl"
           }
          ],
          "scattermapbox": [
           {
            "marker": {
             "colorbar": {
              "outlinewidth": 0,
              "ticks": ""
             }
            },
            "type": "scattermapbox"
           }
          ],
          "scatterpolar": [
           {
            "marker": {
             "colorbar": {
              "outlinewidth": 0,
              "ticks": ""
             }
            },
            "type": "scatterpolar"
           }
          ],
          "scatterpolargl": [
           {
            "marker": {
             "colorbar": {
              "outlinewidth": 0,
              "ticks": ""
             }
            },
            "type": "scatterpolargl"
           }
          ],
          "scatterternary": [
           {
            "marker": {
             "colorbar": {
              "outlinewidth": 0,
              "ticks": ""
             }
            },
            "type": "scatterternary"
           }
          ],
          "surface": [
           {
            "colorbar": {
             "outlinewidth": 0,
             "ticks": ""
            },
            "colorscale": [
             [
              0,
              "#0d0887"
             ],
             [
              0.1111111111111111,
              "#46039f"
             ],
             [
              0.2222222222222222,
              "#7201a8"
             ],
             [
              0.3333333333333333,
              "#9c179e"
             ],
             [
              0.4444444444444444,
              "#bd3786"
             ],
             [
              0.5555555555555556,
              "#d8576b"
             ],
             [
              0.6666666666666666,
              "#ed7953"
             ],
             [
              0.7777777777777778,
              "#fb9f3a"
             ],
             [
              0.8888888888888888,
              "#fdca26"
             ],
             [
              1,
              "#f0f921"
             ]
            ],
            "type": "surface"
           }
          ],
          "table": [
           {
            "cells": {
             "fill": {
              "color": "#EBF0F8"
             },
             "line": {
              "color": "white"
             }
            },
            "header": {
             "fill": {
              "color": "#C8D4E3"
             },
             "line": {
              "color": "white"
             }
            },
            "type": "table"
           }
          ]
         },
         "layout": {
          "annotationdefaults": {
           "arrowcolor": "#2a3f5f",
           "arrowhead": 0,
           "arrowwidth": 1
          },
          "autotypenumbers": "strict",
          "coloraxis": {
           "colorbar": {
            "outlinewidth": 0,
            "ticks": ""
           }
          },
          "colorscale": {
           "diverging": [
            [
             0,
             "#8e0152"
            ],
            [
             0.1,
             "#c51b7d"
            ],
            [
             0.2,
             "#de77ae"
            ],
            [
             0.3,
             "#f1b6da"
            ],
            [
             0.4,
             "#fde0ef"
            ],
            [
             0.5,
             "#f7f7f7"
            ],
            [
             0.6,
             "#e6f5d0"
            ],
            [
             0.7,
             "#b8e186"
            ],
            [
             0.8,
             "#7fbc41"
            ],
            [
             0.9,
             "#4d9221"
            ],
            [
             1,
             "#276419"
            ]
           ],
           "sequential": [
            [
             0,
             "#0d0887"
            ],
            [
             0.1111111111111111,
             "#46039f"
            ],
            [
             0.2222222222222222,
             "#7201a8"
            ],
            [
             0.3333333333333333,
             "#9c179e"
            ],
            [
             0.4444444444444444,
             "#bd3786"
            ],
            [
             0.5555555555555556,
             "#d8576b"
            ],
            [
             0.6666666666666666,
             "#ed7953"
            ],
            [
             0.7777777777777778,
             "#fb9f3a"
            ],
            [
             0.8888888888888888,
             "#fdca26"
            ],
            [
             1,
             "#f0f921"
            ]
           ],
           "sequentialminus": [
            [
             0,
             "#0d0887"
            ],
            [
             0.1111111111111111,
             "#46039f"
            ],
            [
             0.2222222222222222,
             "#7201a8"
            ],
            [
             0.3333333333333333,
             "#9c179e"
            ],
            [
             0.4444444444444444,
             "#bd3786"
            ],
            [
             0.5555555555555556,
             "#d8576b"
            ],
            [
             0.6666666666666666,
             "#ed7953"
            ],
            [
             0.7777777777777778,
             "#fb9f3a"
            ],
            [
             0.8888888888888888,
             "#fdca26"
            ],
            [
             1,
             "#f0f921"
            ]
           ]
          },
          "colorway": [
           "#636efa",
           "#EF553B",
           "#00cc96",
           "#ab63fa",
           "#FFA15A",
           "#19d3f3",
           "#FF6692",
           "#B6E880",
           "#FF97FF",
           "#FECB52"
          ],
          "font": {
           "color": "#2a3f5f"
          },
          "geo": {
           "bgcolor": "white",
           "lakecolor": "white",
           "landcolor": "white",
           "showlakes": true,
           "showland": true,
           "subunitcolor": "#C8D4E3"
          },
          "hoverlabel": {
           "align": "left"
          },
          "hovermode": "closest",
          "mapbox": {
           "style": "light"
          },
          "paper_bgcolor": "white",
          "plot_bgcolor": "white",
          "polar": {
           "angularaxis": {
            "gridcolor": "#EBF0F8",
            "linecolor": "#EBF0F8",
            "ticks": ""
           },
           "bgcolor": "white",
           "radialaxis": {
            "gridcolor": "#EBF0F8",
            "linecolor": "#EBF0F8",
            "ticks": ""
           }
          },
          "scene": {
           "xaxis": {
            "backgroundcolor": "white",
            "gridcolor": "#DFE8F3",
            "gridwidth": 2,
            "linecolor": "#EBF0F8",
            "showbackground": true,
            "ticks": "",
            "zerolinecolor": "#EBF0F8"
           },
           "yaxis": {
            "backgroundcolor": "white",
            "gridcolor": "#DFE8F3",
            "gridwidth": 2,
            "linecolor": "#EBF0F8",
            "showbackground": true,
            "ticks": "",
            "zerolinecolor": "#EBF0F8"
           },
           "zaxis": {
            "backgroundcolor": "white",
            "gridcolor": "#DFE8F3",
            "gridwidth": 2,
            "linecolor": "#EBF0F8",
            "showbackground": true,
            "ticks": "",
            "zerolinecolor": "#EBF0F8"
           }
          },
          "shapedefaults": {
           "line": {
            "color": "#2a3f5f"
           }
          },
          "ternary": {
           "aaxis": {
            "gridcolor": "#DFE8F3",
            "linecolor": "#A2B1C6",
            "ticks": ""
           },
           "baxis": {
            "gridcolor": "#DFE8F3",
            "linecolor": "#A2B1C6",
            "ticks": ""
           },
           "bgcolor": "white",
           "caxis": {
            "gridcolor": "#DFE8F3",
            "linecolor": "#A2B1C6",
            "ticks": ""
           }
          },
          "title": {
           "x": 0.05
          },
          "xaxis": {
           "automargin": true,
           "gridcolor": "#EBF0F8",
           "linecolor": "#EBF0F8",
           "ticks": "",
           "title": {
            "standoff": 15
           },
           "zerolinecolor": "#EBF0F8",
           "zerolinewidth": 2
          },
          "yaxis": {
           "automargin": true,
           "gridcolor": "#EBF0F8",
           "linecolor": "#EBF0F8",
           "ticks": "",
           "title": {
            "standoff": 15
           },
           "zerolinecolor": "#EBF0F8",
           "zerolinewidth": 2
          }
         }
        },
        "title": {
         "text": "Elbow Method Results for Combined Weighted k-NN"
        },
        "xaxis": {
         "title": {
          "text": "Number of Neighbors (k)"
         }
        },
        "yaxis": {
         "title": {
          "text": "Error Rate"
         }
        }
       }
      }
     },
     "metadata": {},
     "output_type": "display_data"
    }
   ],
   "source": [
    "# Loop through each algorithm in algorithms\n",
    "for algorithm_name, algorithm_function in algorithms.items():\n",
    "    # Initialize figure for each algorithm\n",
    "    fig = go.Figure()\n",
    "\n",
    "    # Add Scaled values\n",
    "    scaled_values = list(validation_errors[algorithm_name][\"Scaled\"].values())\n",
    "    scaled_min_index = scaled_values.index(min(scaled_values))\n",
    "    fig.add_trace(\n",
    "        go.Scatter(\n",
    "            x=list(k_values),\n",
    "            y=scaled_values,\n",
    "            mode=\"lines+markers\",\n",
    "            name=f\"{algorithm_name} (Scaled)\",\n",
    "            line=dict(color=\"green\"),\n",
    "        )\n",
    "    )\n",
    "    fig.add_annotation(\n",
    "        x=k_values[scaled_min_index],\n",
    "        y=scaled_values[scaled_min_index],\n",
    "        text=f\"Min: {scaled_values[scaled_min_index]:.2f}\",\n",
    "        showarrow=True,\n",
    "        arrowhead=1,\n",
    "        ax=-40,\n",
    "        ay=-40,\n",
    "    )\n",
    "\n",
    "    # Add Eliminated values\n",
    "    eliminated_values = list(validation_errors[algorithm_name][\"Eliminated\"].values())\n",
    "    eliminated_min_index = eliminated_values.index(min(eliminated_values))\n",
    "    fig.add_trace(\n",
    "        go.Scatter(\n",
    "            x=list(k_values),\n",
    "            y=eliminated_values,\n",
    "            mode=\"lines+markers\",\n",
    "            name=f\"{algorithm_name} (Eliminated)\",\n",
    "            line=dict(color=\"red\"),\n",
    "        )\n",
    "    )\n",
    "    fig.add_annotation(\n",
    "        x=k_values[eliminated_min_index],\n",
    "        y=eliminated_values[eliminated_min_index],\n",
    "        text=f\"Min: {eliminated_values[eliminated_min_index]:.2f}\",\n",
    "        showarrow=True,\n",
    "        arrowhead=1,\n",
    "        ax=-40,\n",
    "        ay=-40,\n",
    "    )\n",
    "\n",
    "    # Add Eliminated Scaled values\n",
    "    eliminated_scaled_values = list(\n",
    "        validation_errors[algorithm_name][\"Eliminated Scaled\"].values()\n",
    "    )\n",
    "    eliminated_scaled_min_index = eliminated_scaled_values.index(\n",
    "        min(eliminated_scaled_values)\n",
    "    )\n",
    "    fig.add_trace(\n",
    "        go.Scatter(\n",
    "            x=list(k_values),\n",
    "            y=eliminated_scaled_values,\n",
    "            mode=\"lines+markers\",\n",
    "            name=f\"{algorithm_name} (Eliminated Scaled)\",\n",
    "            line=dict(color=\"purple\"),\n",
    "        )\n",
    "    )\n",
    "    fig.add_annotation(\n",
    "        x=k_values[eliminated_scaled_min_index],\n",
    "        y=eliminated_scaled_values[eliminated_scaled_min_index],\n",
    "        text=f\"Min: {eliminated_scaled_values[eliminated_scaled_min_index]:.2f}\",\n",
    "        showarrow=True,\n",
    "        arrowhead=1,\n",
    "        ax=-40,\n",
    "        ay=-40,\n",
    "    )\n",
    "\n",
    "    # Add Raw values\n",
    "    raw_values = list(validation_errors[algorithm_name][\"Raw\"].values())\n",
    "    raw_min_index = raw_values.index(min(raw_values))\n",
    "    fig.add_trace(\n",
    "        go.Scatter(\n",
    "            x=list(k_values),\n",
    "            y=raw_values,\n",
    "            mode=\"lines+markers\",\n",
    "            name=f\"{algorithm_name} (Raw)\",\n",
    "            line=dict(color=\"blue\"),\n",
    "        )\n",
    "    )\n",
    "    fig.add_annotation(\n",
    "        x=k_values[raw_min_index],\n",
    "        y=raw_values[raw_min_index],\n",
    "        text=f\"Min: {raw_values[raw_min_index]:.2f}\",\n",
    "        showarrow=True,\n",
    "        arrowhead=1,\n",
    "        ax=-40,\n",
    "        ay=-40,\n",
    "    )\n",
    "\n",
    "    # Customize layout for each figure\n",
    "    fig.update_layout(\n",
    "        title=f\"Elbow Method Results for {algorithm_name}\",\n",
    "        xaxis_title=\"Number of Neighbors (k)\",\n",
    "        yaxis_title=\"Error Rate\",\n",
    "        legend_title=\"Method\",\n",
    "        template=\"plotly_white\",\n",
    "    )\n",
    "\n",
    "    # Display the figure\n",
    "    fig.show()"
   ]
  },
  {
   "cell_type": "code",
   "execution_count": 48,
   "metadata": {},
   "outputs": [
    {
     "name": "stdout",
     "output_type": "stream",
     "text": [
      "Algorithm: k-NN\n",
      "Dataset: Raw - Min Error: 0.65 (k=14)\n",
      "Dataset: Scaled - Min Error: 0.04 (k=20)\n",
      "Dataset: Eliminated - Min Error: 0.64 (k=16)\n",
      "Dataset: Eliminated Scaled - Min Error: 0.02 (k=16)\n",
      "\n",
      "Algorithm: Weighted k-NN\n",
      "Dataset: Raw - Min Error: 0.64 (k=18)\n",
      "Dataset: Scaled - Min Error: 0.04 (k=16)\n",
      "Dataset: Eliminated - Min Error: 0.64 (k=18)\n",
      "Dataset: Eliminated Scaled - Min Error: 0.02 (k=16)\n",
      "\n",
      "Algorithm: Class Frequency Weighted k-NN\n",
      "Dataset: Raw - Min Error: 0.64 (k=17)\n",
      "Dataset: Scaled - Min Error: 0.04 (k=20)\n",
      "Dataset: Eliminated - Min Error: 0.62 (k=17)\n",
      "Dataset: Eliminated Scaled - Min Error: 0.03 (k=15)\n",
      "\n",
      "Algorithm: Combined Weighted k-NN\n",
      "Dataset: Raw - Min Error: 0.64 (k=19)\n",
      "Dataset: Scaled - Min Error: 0.04 (k=20)\n",
      "Dataset: Eliminated - Min Error: 0.63 (k=17)\n",
      "Dataset: Eliminated Scaled - Min Error: 0.03 (k=15)\n",
      "\n"
     ]
    }
   ],
   "source": [
    "# print best values for each algorithm\n",
    "for algorithm_name, algorithm_function in algorithms.items():\n",
    "    print(f\"Algorithm: {algorithm_name}\")\n",
    "    for dataset_name, (X_train, X_test) in datasets.items():\n",
    "        values = list(validation_errors[algorithm_name][dataset_name].values())\n",
    "        min_index = values.index(min(values))\n",
    "        print(\n",
    "            f\"Dataset: {dataset_name} - Min Error: {values[min_index]:.2f} (k={min_index+1})\"\n",
    "        )\n",
    "    print()"
   ]
  },
  {
   "cell_type": "markdown",
   "metadata": {},
   "source": [
    "### Run Every Algotihm with Best k Value Found Before over Test Set"
   ]
  },
  {
   "cell_type": "code",
   "execution_count": 49,
   "metadata": {},
   "outputs": [],
   "source": [
    "# run every algorithm with best k value for every dataset and store results\n",
    "results = {}\n",
    "\n",
    "for algorithm_name, algorithm_function in algorithms.items():\n",
    "    results[algorithm_name] = {}\n",
    "    for dataset_name, (X_train, X_test) in datasets.items():\n",
    "        k = (\n",
    "            list(validation_errors[algorithm_name][dataset_name].values()).index(\n",
    "                min(validation_errors[algorithm_name][dataset_name].values())\n",
    "            )\n",
    "            + 1\n",
    "        )\n",
    "        y_pred = algorithm_function(X_train.values, y_train.values, X_test.values, k)\n",
    "\n",
    "        # Store the accuracy, precision, and recall for the current algorithm and dataset\n",
    "        results[algorithm_name][dataset_name] = {\n",
    "            \"Accuracy\": accuracy(y_test, y_pred),\n",
    "            \"Precision\": precision_recall_multiclass(y_test, y_pred)[0],\n",
    "            \"Recall\": precision_recall_multiclass(y_test, y_pred)[1],\n",
    "        }"
   ]
  },
  {
   "cell_type": "code",
   "execution_count": 58,
   "metadata": {},
   "outputs": [
    {
     "data": {
      "application/vnd.plotly.v1+json": {
       "config": {
        "plotlyServerURL": "https://plot.ly"
       },
       "data": [
        {
         "marker": {
          "color": "blue"
         },
         "name": "Accuracy",
         "text": [
          "0.310",
          "0.945",
          "0.350",
          "0.970"
         ],
         "textposition": "auto",
         "type": "bar",
         "x": [
          "Raw",
          "Scaled",
          "Eliminated",
          "Eliminated Scaled"
         ],
         "y": [
          0.31,
          0.945,
          0.35,
          0.97
         ]
        },
        {
         "marker": {
          "color": "rgba(0, 255, 60, 0.8)"
         },
         "name": "Precision (Fundamental Service)",
         "text": [
          "0.375",
          "1.000",
          "0.368",
          "1.000"
         ],
         "textposition": "auto",
         "type": "bar",
         "x": [
          "Raw",
          "Scaled",
          "Eliminated",
          "Eliminated Scaled"
         ],
         "y": [
          0.375,
          1,
          0.3684210526315789,
          1
         ]
        },
        {
         "marker": {
          "color": "rgba(0, 255, 120, 0.8)"
         },
         "name": "Precision (Complete Service)",
         "text": [
          "0.270",
          "0.902",
          "0.303",
          "0.922"
         ],
         "textposition": "auto",
         "type": "bar",
         "x": [
          "Raw",
          "Scaled",
          "Eliminated",
          "Eliminated Scaled"
         ],
         "y": [
          0.2702702702702703,
          0.9019607843137256,
          0.30303030303030304,
          0.9215686274509804
         ]
        },
        {
         "marker": {
          "color": "rgba(0, 255, 180, 0.8)"
         },
         "name": "Precision (Advanced Service)",
         "text": [
          "0.300",
          "0.927",
          "0.333",
          "1.000"
         ],
         "textposition": "auto",
         "type": "bar",
         "x": [
          "Raw",
          "Scaled",
          "Eliminated",
          "Eliminated Scaled"
         ],
         "y": [
          0.3,
          0.9272727272727272,
          0.3333333333333333,
          1
         ]
        },
        {
         "marker": {
          "color": "rgba(0, 255, 240, 0.8)"
         },
         "name": "Precision (E-Service)",
         "text": [
          "0.270",
          "0.953",
          "0.400",
          "0.957"
         ],
         "textposition": "auto",
         "type": "bar",
         "x": [
          "Raw",
          "Scaled",
          "Eliminated",
          "Eliminated Scaled"
         ],
         "y": [
          0.2702702702702703,
          0.9534883720930232,
          0.4,
          0.9565217391304348
         ]
        },
        {
         "marker": {
          "color": "rgba(255, 0, 60, 0.8)"
         },
         "name": "Recall (Fundamental Service)",
         "text": [
          "0.396",
          "0.962",
          "0.396",
          "0.962"
         ],
         "textposition": "auto",
         "type": "bar",
         "x": [
          "Raw",
          "Scaled",
          "Eliminated",
          "Eliminated Scaled"
         ],
         "y": [
          0.3962264150943397,
          0.9622641509433962,
          0.3962264150943397,
          0.9622641509433962
         ]
        },
        {
         "marker": {
          "color": "rgba(255, 0, 120, 0.8)"
         },
         "name": "Recall (Complete Service)",
         "text": [
          "0.213",
          "0.979",
          "0.213",
          "1.000"
         ],
         "textposition": "auto",
         "type": "bar",
         "x": [
          "Raw",
          "Scaled",
          "Eliminated",
          "Eliminated Scaled"
         ],
         "y": [
          0.2127659574468085,
          0.9787234042553192,
          0.2127659574468085,
          1
         ]
        },
        {
         "marker": {
          "color": "rgba(255, 0, 180, 0.8)"
         },
         "name": "Recall (Advanced Service)",
         "text": [
          "0.375",
          "0.911",
          "0.446",
          "0.929"
         ],
         "textposition": "auto",
         "type": "bar",
         "x": [
          "Raw",
          "Scaled",
          "Eliminated",
          "Eliminated Scaled"
         ],
         "y": [
          0.375,
          0.9107142857142856,
          0.44642857142857145,
          0.9285714285714286
         ]
        },
        {
         "marker": {
          "color": "rgba(255, 0, 240, 0.8)"
         },
         "name": "Recall (E-Service)",
         "text": [
          "0.227",
          "0.932",
          "0.318",
          "1.000"
         ],
         "textposition": "auto",
         "type": "bar",
         "x": [
          "Raw",
          "Scaled",
          "Eliminated",
          "Eliminated Scaled"
         ],
         "y": [
          0.2272727272727273,
          0.9318181818181818,
          0.3181818181818182,
          1
         ]
        },
        {
         "marker": {
          "color": "green"
         },
         "name": "Overall Precision",
         "text": [
          "0.304",
          "0.946",
          "0.351",
          "0.970"
         ],
         "textposition": "auto",
         "type": "bar",
         "x": [
          "Raw",
          "Scaled",
          "Eliminated",
          "Eliminated Scaled"
         ],
         "y": [
          0.30388513513513515,
          0.945680470919869,
          0.35119617224880384,
          0.9695225916453538
         ]
        },
        {
         "marker": {
          "color": "red"
         },
         "name": "Overall Recall",
         "text": [
          "0.303",
          "0.946",
          "0.343",
          "0.973"
         ],
         "textposition": "auto",
         "type": "bar",
         "x": [
          "Raw",
          "Scaled",
          "Eliminated",
          "Eliminated Scaled"
         ],
         "y": [
          0.30281627495346886,
          0.9458800056827956,
          0.3434006905378844,
          0.9727088948787062
         ]
        }
       ],
       "layout": {
        "barmode": "group",
        "legend": {
         "title": {
          "text": "Metrics"
         }
        },
        "template": {
         "data": {
          "bar": [
           {
            "error_x": {
             "color": "#2a3f5f"
            },
            "error_y": {
             "color": "#2a3f5f"
            },
            "marker": {
             "line": {
              "color": "white",
              "width": 0.5
             },
             "pattern": {
              "fillmode": "overlay",
              "size": 10,
              "solidity": 0.2
             }
            },
            "type": "bar"
           }
          ],
          "barpolar": [
           {
            "marker": {
             "line": {
              "color": "white",
              "width": 0.5
             },
             "pattern": {
              "fillmode": "overlay",
              "size": 10,
              "solidity": 0.2
             }
            },
            "type": "barpolar"
           }
          ],
          "carpet": [
           {
            "aaxis": {
             "endlinecolor": "#2a3f5f",
             "gridcolor": "#C8D4E3",
             "linecolor": "#C8D4E3",
             "minorgridcolor": "#C8D4E3",
             "startlinecolor": "#2a3f5f"
            },
            "baxis": {
             "endlinecolor": "#2a3f5f",
             "gridcolor": "#C8D4E3",
             "linecolor": "#C8D4E3",
             "minorgridcolor": "#C8D4E3",
             "startlinecolor": "#2a3f5f"
            },
            "type": "carpet"
           }
          ],
          "choropleth": [
           {
            "colorbar": {
             "outlinewidth": 0,
             "ticks": ""
            },
            "type": "choropleth"
           }
          ],
          "contour": [
           {
            "colorbar": {
             "outlinewidth": 0,
             "ticks": ""
            },
            "colorscale": [
             [
              0,
              "#0d0887"
             ],
             [
              0.1111111111111111,
              "#46039f"
             ],
             [
              0.2222222222222222,
              "#7201a8"
             ],
             [
              0.3333333333333333,
              "#9c179e"
             ],
             [
              0.4444444444444444,
              "#bd3786"
             ],
             [
              0.5555555555555556,
              "#d8576b"
             ],
             [
              0.6666666666666666,
              "#ed7953"
             ],
             [
              0.7777777777777778,
              "#fb9f3a"
             ],
             [
              0.8888888888888888,
              "#fdca26"
             ],
             [
              1,
              "#f0f921"
             ]
            ],
            "type": "contour"
           }
          ],
          "contourcarpet": [
           {
            "colorbar": {
             "outlinewidth": 0,
             "ticks": ""
            },
            "type": "contourcarpet"
           }
          ],
          "heatmap": [
           {
            "colorbar": {
             "outlinewidth": 0,
             "ticks": ""
            },
            "colorscale": [
             [
              0,
              "#0d0887"
             ],
             [
              0.1111111111111111,
              "#46039f"
             ],
             [
              0.2222222222222222,
              "#7201a8"
             ],
             [
              0.3333333333333333,
              "#9c179e"
             ],
             [
              0.4444444444444444,
              "#bd3786"
             ],
             [
              0.5555555555555556,
              "#d8576b"
             ],
             [
              0.6666666666666666,
              "#ed7953"
             ],
             [
              0.7777777777777778,
              "#fb9f3a"
             ],
             [
              0.8888888888888888,
              "#fdca26"
             ],
             [
              1,
              "#f0f921"
             ]
            ],
            "type": "heatmap"
           }
          ],
          "heatmapgl": [
           {
            "colorbar": {
             "outlinewidth": 0,
             "ticks": ""
            },
            "colorscale": [
             [
              0,
              "#0d0887"
             ],
             [
              0.1111111111111111,
              "#46039f"
             ],
             [
              0.2222222222222222,
              "#7201a8"
             ],
             [
              0.3333333333333333,
              "#9c179e"
             ],
             [
              0.4444444444444444,
              "#bd3786"
             ],
             [
              0.5555555555555556,
              "#d8576b"
             ],
             [
              0.6666666666666666,
              "#ed7953"
             ],
             [
              0.7777777777777778,
              "#fb9f3a"
             ],
             [
              0.8888888888888888,
              "#fdca26"
             ],
             [
              1,
              "#f0f921"
             ]
            ],
            "type": "heatmapgl"
           }
          ],
          "histogram": [
           {
            "marker": {
             "pattern": {
              "fillmode": "overlay",
              "size": 10,
              "solidity": 0.2
             }
            },
            "type": "histogram"
           }
          ],
          "histogram2d": [
           {
            "colorbar": {
             "outlinewidth": 0,
             "ticks": ""
            },
            "colorscale": [
             [
              0,
              "#0d0887"
             ],
             [
              0.1111111111111111,
              "#46039f"
             ],
             [
              0.2222222222222222,
              "#7201a8"
             ],
             [
              0.3333333333333333,
              "#9c179e"
             ],
             [
              0.4444444444444444,
              "#bd3786"
             ],
             [
              0.5555555555555556,
              "#d8576b"
             ],
             [
              0.6666666666666666,
              "#ed7953"
             ],
             [
              0.7777777777777778,
              "#fb9f3a"
             ],
             [
              0.8888888888888888,
              "#fdca26"
             ],
             [
              1,
              "#f0f921"
             ]
            ],
            "type": "histogram2d"
           }
          ],
          "histogram2dcontour": [
           {
            "colorbar": {
             "outlinewidth": 0,
             "ticks": ""
            },
            "colorscale": [
             [
              0,
              "#0d0887"
             ],
             [
              0.1111111111111111,
              "#46039f"
             ],
             [
              0.2222222222222222,
              "#7201a8"
             ],
             [
              0.3333333333333333,
              "#9c179e"
             ],
             [
              0.4444444444444444,
              "#bd3786"
             ],
             [
              0.5555555555555556,
              "#d8576b"
             ],
             [
              0.6666666666666666,
              "#ed7953"
             ],
             [
              0.7777777777777778,
              "#fb9f3a"
             ],
             [
              0.8888888888888888,
              "#fdca26"
             ],
             [
              1,
              "#f0f921"
             ]
            ],
            "type": "histogram2dcontour"
           }
          ],
          "mesh3d": [
           {
            "colorbar": {
             "outlinewidth": 0,
             "ticks": ""
            },
            "type": "mesh3d"
           }
          ],
          "parcoords": [
           {
            "line": {
             "colorbar": {
              "outlinewidth": 0,
              "ticks": ""
             }
            },
            "type": "parcoords"
           }
          ],
          "pie": [
           {
            "automargin": true,
            "type": "pie"
           }
          ],
          "scatter": [
           {
            "fillpattern": {
             "fillmode": "overlay",
             "size": 10,
             "solidity": 0.2
            },
            "type": "scatter"
           }
          ],
          "scatter3d": [
           {
            "line": {
             "colorbar": {
              "outlinewidth": 0,
              "ticks": ""
             }
            },
            "marker": {
             "colorbar": {
              "outlinewidth": 0,
              "ticks": ""
             }
            },
            "type": "scatter3d"
           }
          ],
          "scattercarpet": [
           {
            "marker": {
             "colorbar": {
              "outlinewidth": 0,
              "ticks": ""
             }
            },
            "type": "scattercarpet"
           }
          ],
          "scattergeo": [
           {
            "marker": {
             "colorbar": {
              "outlinewidth": 0,
              "ticks": ""
             }
            },
            "type": "scattergeo"
           }
          ],
          "scattergl": [
           {
            "marker": {
             "colorbar": {
              "outlinewidth": 0,
              "ticks": ""
             }
            },
            "type": "scattergl"
           }
          ],
          "scattermapbox": [
           {
            "marker": {
             "colorbar": {
              "outlinewidth": 0,
              "ticks": ""
             }
            },
            "type": "scattermapbox"
           }
          ],
          "scatterpolar": [
           {
            "marker": {
             "colorbar": {
              "outlinewidth": 0,
              "ticks": ""
             }
            },
            "type": "scatterpolar"
           }
          ],
          "scatterpolargl": [
           {
            "marker": {
             "colorbar": {
              "outlinewidth": 0,
              "ticks": ""
             }
            },
            "type": "scatterpolargl"
           }
          ],
          "scatterternary": [
           {
            "marker": {
             "colorbar": {
              "outlinewidth": 0,
              "ticks": ""
             }
            },
            "type": "scatterternary"
           }
          ],
          "surface": [
           {
            "colorbar": {
             "outlinewidth": 0,
             "ticks": ""
            },
            "colorscale": [
             [
              0,
              "#0d0887"
             ],
             [
              0.1111111111111111,
              "#46039f"
             ],
             [
              0.2222222222222222,
              "#7201a8"
             ],
             [
              0.3333333333333333,
              "#9c179e"
             ],
             [
              0.4444444444444444,
              "#bd3786"
             ],
             [
              0.5555555555555556,
              "#d8576b"
             ],
             [
              0.6666666666666666,
              "#ed7953"
             ],
             [
              0.7777777777777778,
              "#fb9f3a"
             ],
             [
              0.8888888888888888,
              "#fdca26"
             ],
             [
              1,
              "#f0f921"
             ]
            ],
            "type": "surface"
           }
          ],
          "table": [
           {
            "cells": {
             "fill": {
              "color": "#EBF0F8"
             },
             "line": {
              "color": "white"
             }
            },
            "header": {
             "fill": {
              "color": "#C8D4E3"
             },
             "line": {
              "color": "white"
             }
            },
            "type": "table"
           }
          ]
         },
         "layout": {
          "annotationdefaults": {
           "arrowcolor": "#2a3f5f",
           "arrowhead": 0,
           "arrowwidth": 1
          },
          "autotypenumbers": "strict",
          "coloraxis": {
           "colorbar": {
            "outlinewidth": 0,
            "ticks": ""
           }
          },
          "colorscale": {
           "diverging": [
            [
             0,
             "#8e0152"
            ],
            [
             0.1,
             "#c51b7d"
            ],
            [
             0.2,
             "#de77ae"
            ],
            [
             0.3,
             "#f1b6da"
            ],
            [
             0.4,
             "#fde0ef"
            ],
            [
             0.5,
             "#f7f7f7"
            ],
            [
             0.6,
             "#e6f5d0"
            ],
            [
             0.7,
             "#b8e186"
            ],
            [
             0.8,
             "#7fbc41"
            ],
            [
             0.9,
             "#4d9221"
            ],
            [
             1,
             "#276419"
            ]
           ],
           "sequential": [
            [
             0,
             "#0d0887"
            ],
            [
             0.1111111111111111,
             "#46039f"
            ],
            [
             0.2222222222222222,
             "#7201a8"
            ],
            [
             0.3333333333333333,
             "#9c179e"
            ],
            [
             0.4444444444444444,
             "#bd3786"
            ],
            [
             0.5555555555555556,
             "#d8576b"
            ],
            [
             0.6666666666666666,
             "#ed7953"
            ],
            [
             0.7777777777777778,
             "#fb9f3a"
            ],
            [
             0.8888888888888888,
             "#fdca26"
            ],
            [
             1,
             "#f0f921"
            ]
           ],
           "sequentialminus": [
            [
             0,
             "#0d0887"
            ],
            [
             0.1111111111111111,
             "#46039f"
            ],
            [
             0.2222222222222222,
             "#7201a8"
            ],
            [
             0.3333333333333333,
             "#9c179e"
            ],
            [
             0.4444444444444444,
             "#bd3786"
            ],
            [
             0.5555555555555556,
             "#d8576b"
            ],
            [
             0.6666666666666666,
             "#ed7953"
            ],
            [
             0.7777777777777778,
             "#fb9f3a"
            ],
            [
             0.8888888888888888,
             "#fdca26"
            ],
            [
             1,
             "#f0f921"
            ]
           ]
          },
          "colorway": [
           "#636efa",
           "#EF553B",
           "#00cc96",
           "#ab63fa",
           "#FFA15A",
           "#19d3f3",
           "#FF6692",
           "#B6E880",
           "#FF97FF",
           "#FECB52"
          ],
          "font": {
           "color": "#2a3f5f"
          },
          "geo": {
           "bgcolor": "white",
           "lakecolor": "white",
           "landcolor": "white",
           "showlakes": true,
           "showland": true,
           "subunitcolor": "#C8D4E3"
          },
          "hoverlabel": {
           "align": "left"
          },
          "hovermode": "closest",
          "mapbox": {
           "style": "light"
          },
          "paper_bgcolor": "white",
          "plot_bgcolor": "white",
          "polar": {
           "angularaxis": {
            "gridcolor": "#EBF0F8",
            "linecolor": "#EBF0F8",
            "ticks": ""
           },
           "bgcolor": "white",
           "radialaxis": {
            "gridcolor": "#EBF0F8",
            "linecolor": "#EBF0F8",
            "ticks": ""
           }
          },
          "scene": {
           "xaxis": {
            "backgroundcolor": "white",
            "gridcolor": "#DFE8F3",
            "gridwidth": 2,
            "linecolor": "#EBF0F8",
            "showbackground": true,
            "ticks": "",
            "zerolinecolor": "#EBF0F8"
           },
           "yaxis": {
            "backgroundcolor": "white",
            "gridcolor": "#DFE8F3",
            "gridwidth": 2,
            "linecolor": "#EBF0F8",
            "showbackground": true,
            "ticks": "",
            "zerolinecolor": "#EBF0F8"
           },
           "zaxis": {
            "backgroundcolor": "white",
            "gridcolor": "#DFE8F3",
            "gridwidth": 2,
            "linecolor": "#EBF0F8",
            "showbackground": true,
            "ticks": "",
            "zerolinecolor": "#EBF0F8"
           }
          },
          "shapedefaults": {
           "line": {
            "color": "#2a3f5f"
           }
          },
          "ternary": {
           "aaxis": {
            "gridcolor": "#DFE8F3",
            "linecolor": "#A2B1C6",
            "ticks": ""
           },
           "baxis": {
            "gridcolor": "#DFE8F3",
            "linecolor": "#A2B1C6",
            "ticks": ""
           },
           "bgcolor": "white",
           "caxis": {
            "gridcolor": "#DFE8F3",
            "linecolor": "#A2B1C6",
            "ticks": ""
           }
          },
          "title": {
           "x": 0.05
          },
          "xaxis": {
           "automargin": true,
           "gridcolor": "#EBF0F8",
           "linecolor": "#EBF0F8",
           "ticks": "",
           "title": {
            "standoff": 15
           },
           "zerolinecolor": "#EBF0F8",
           "zerolinewidth": 2
          },
          "yaxis": {
           "automargin": true,
           "gridcolor": "#EBF0F8",
           "linecolor": "#EBF0F8",
           "ticks": "",
           "title": {
            "standoff": 15
           },
           "zerolinecolor": "#EBF0F8",
           "zerolinewidth": 2
          }
         }
        },
        "title": {
         "text": "Performance Metrics for k-NN"
        },
        "xaxis": {
         "title": {
          "text": "Method"
         }
        },
        "yaxis": {
         "title": {
          "text": "Metric Value"
         }
        }
       }
      }
     },
     "metadata": {},
     "output_type": "display_data"
    },
    {
     "data": {
      "application/vnd.plotly.v1+json": {
       "config": {
        "plotlyServerURL": "https://plot.ly"
       },
       "data": [
        {
         "marker": {
          "color": "blue"
         },
         "name": "Accuracy",
         "text": [
          "0.345",
          "0.945",
          "0.345",
          "0.970"
         ],
         "textposition": "auto",
         "type": "bar",
         "x": [
          "Raw",
          "Scaled",
          "Eliminated",
          "Eliminated Scaled"
         ],
         "y": [
          0.345,
          0.945,
          0.345,
          0.97
         ]
        },
        {
         "marker": {
          "color": "rgba(0, 255, 60, 0.8)"
         },
         "name": "Precision (Fundamental Service)",
         "text": [
          "0.390",
          "1.000",
          "0.397",
          "1.000"
         ],
         "textposition": "auto",
         "type": "bar",
         "x": [
          "Raw",
          "Scaled",
          "Eliminated",
          "Eliminated Scaled"
         ],
         "y": [
          0.3898305084745763,
          1,
          0.39655172413793105,
          1
         ]
        },
        {
         "marker": {
          "color": "rgba(0, 255, 120, 0.8)"
         },
         "name": "Precision (Complete Service)",
         "text": [
          "0.344",
          "0.870",
          "0.364",
          "0.922"
         ],
         "textposition": "auto",
         "type": "bar",
         "x": [
          "Raw",
          "Scaled",
          "Eliminated",
          "Eliminated Scaled"
         ],
         "y": [
          0.34375,
          0.8703703703703703,
          0.3636363636363637,
          0.9215686274509804
         ]
        },
        {
         "marker": {
          "color": "rgba(0, 255, 180, 0.8)"
         },
         "name": "Precision (Advanced Service)",
         "text": [
          "0.315",
          "0.943",
          "0.288",
          "1.000"
         ],
         "textposition": "auto",
         "type": "bar",
         "x": [
          "Raw",
          "Scaled",
          "Eliminated",
          "Eliminated Scaled"
         ],
         "y": [
          0.3150684931506849,
          0.9433962264150944,
          0.2876712328767123,
          1
         ]
        },
        {
         "marker": {
          "color": "rgba(0, 255, 240, 0.8)"
         },
         "name": "Precision (E-Service)",
         "text": [
          "0.333",
          "0.976",
          "0.361",
          "0.957"
         ],
         "textposition": "auto",
         "type": "bar",
         "x": [
          "Raw",
          "Scaled",
          "Eliminated",
          "Eliminated Scaled"
         ],
         "y": [
          0.3333333333333333,
          0.9761904761904762,
          0.3611111111111111,
          0.9565217391304348
         ]
        },
        {
         "marker": {
          "color": "rgba(255, 0, 60, 0.8)"
         },
         "name": "Recall (Fundamental Service)",
         "text": [
          "0.434",
          "0.962",
          "0.434",
          "0.962"
         ],
         "textposition": "auto",
         "type": "bar",
         "x": [
          "Raw",
          "Scaled",
          "Eliminated",
          "Eliminated Scaled"
         ],
         "y": [
          0.4339622641509434,
          0.9622641509433962,
          0.4339622641509434,
          0.9622641509433962
         ]
        },
        {
         "marker": {
          "color": "rgba(255, 0, 120, 0.8)"
         },
         "name": "Recall (Complete Service)",
         "text": [
          "0.234",
          "1.000",
          "0.255",
          "1.000"
         ],
         "textposition": "auto",
         "type": "bar",
         "x": [
          "Raw",
          "Scaled",
          "Eliminated",
          "Eliminated Scaled"
         ],
         "y": [
          0.23404255319148937,
          1,
          0.2553191489361702,
          1
         ]
        },
        {
         "marker": {
          "color": "rgba(255, 0, 180, 0.8)"
         },
         "name": "Recall (Advanced Service)",
         "text": [
          "0.411",
          "0.893",
          "0.375",
          "0.929"
         ],
         "textposition": "auto",
         "type": "bar",
         "x": [
          "Raw",
          "Scaled",
          "Eliminated",
          "Eliminated Scaled"
         ],
         "y": [
          0.4107142857142857,
          0.8928571428571429,
          0.375,
          0.9285714285714286
         ]
        },
        {
         "marker": {
          "color": "rgba(255, 0, 240, 0.8)"
         },
         "name": "Recall (E-Service)",
         "text": [
          "0.273",
          "0.932",
          "0.295",
          "1.000"
         ],
         "textposition": "auto",
         "type": "bar",
         "x": [
          "Raw",
          "Scaled",
          "Eliminated",
          "Eliminated Scaled"
         ],
         "y": [
          0.2727272727272727,
          0.9318181818181818,
          0.29545454545454547,
          1
         ]
        },
        {
         "marker": {
          "color": "green"
         },
         "name": "Overall Precision",
         "text": [
          "0.345",
          "0.947",
          "0.352",
          "0.970"
         ],
         "textposition": "auto",
         "type": "bar",
         "x": [
          "Raw",
          "Scaled",
          "Eliminated",
          "Eliminated Scaled"
         ],
         "y": [
          0.3454955837396486,
          0.9474892682439852,
          0.35224260794052953,
          0.9695225916453538
         ]
        },
        {
         "marker": {
          "color": "red"
         },
         "name": "Overall Recall",
         "text": [
          "0.338",
          "0.947",
          "0.340",
          "0.973"
         ],
         "textposition": "auto",
         "type": "bar",
         "x": [
          "Raw",
          "Scaled",
          "Eliminated",
          "Eliminated Scaled"
         ],
         "y": [
          0.3378615939459978,
          0.9467348689046802,
          0.33993398963541477,
          0.9727088948787062
         ]
        }
       ],
       "layout": {
        "barmode": "group",
        "legend": {
         "title": {
          "text": "Metrics"
         }
        },
        "template": {
         "data": {
          "bar": [
           {
            "error_x": {
             "color": "#2a3f5f"
            },
            "error_y": {
             "color": "#2a3f5f"
            },
            "marker": {
             "line": {
              "color": "white",
              "width": 0.5
             },
             "pattern": {
              "fillmode": "overlay",
              "size": 10,
              "solidity": 0.2
             }
            },
            "type": "bar"
           }
          ],
          "barpolar": [
           {
            "marker": {
             "line": {
              "color": "white",
              "width": 0.5
             },
             "pattern": {
              "fillmode": "overlay",
              "size": 10,
              "solidity": 0.2
             }
            },
            "type": "barpolar"
           }
          ],
          "carpet": [
           {
            "aaxis": {
             "endlinecolor": "#2a3f5f",
             "gridcolor": "#C8D4E3",
             "linecolor": "#C8D4E3",
             "minorgridcolor": "#C8D4E3",
             "startlinecolor": "#2a3f5f"
            },
            "baxis": {
             "endlinecolor": "#2a3f5f",
             "gridcolor": "#C8D4E3",
             "linecolor": "#C8D4E3",
             "minorgridcolor": "#C8D4E3",
             "startlinecolor": "#2a3f5f"
            },
            "type": "carpet"
           }
          ],
          "choropleth": [
           {
            "colorbar": {
             "outlinewidth": 0,
             "ticks": ""
            },
            "type": "choropleth"
           }
          ],
          "contour": [
           {
            "colorbar": {
             "outlinewidth": 0,
             "ticks": ""
            },
            "colorscale": [
             [
              0,
              "#0d0887"
             ],
             [
              0.1111111111111111,
              "#46039f"
             ],
             [
              0.2222222222222222,
              "#7201a8"
             ],
             [
              0.3333333333333333,
              "#9c179e"
             ],
             [
              0.4444444444444444,
              "#bd3786"
             ],
             [
              0.5555555555555556,
              "#d8576b"
             ],
             [
              0.6666666666666666,
              "#ed7953"
             ],
             [
              0.7777777777777778,
              "#fb9f3a"
             ],
             [
              0.8888888888888888,
              "#fdca26"
             ],
             [
              1,
              "#f0f921"
             ]
            ],
            "type": "contour"
           }
          ],
          "contourcarpet": [
           {
            "colorbar": {
             "outlinewidth": 0,
             "ticks": ""
            },
            "type": "contourcarpet"
           }
          ],
          "heatmap": [
           {
            "colorbar": {
             "outlinewidth": 0,
             "ticks": ""
            },
            "colorscale": [
             [
              0,
              "#0d0887"
             ],
             [
              0.1111111111111111,
              "#46039f"
             ],
             [
              0.2222222222222222,
              "#7201a8"
             ],
             [
              0.3333333333333333,
              "#9c179e"
             ],
             [
              0.4444444444444444,
              "#bd3786"
             ],
             [
              0.5555555555555556,
              "#d8576b"
             ],
             [
              0.6666666666666666,
              "#ed7953"
             ],
             [
              0.7777777777777778,
              "#fb9f3a"
             ],
             [
              0.8888888888888888,
              "#fdca26"
             ],
             [
              1,
              "#f0f921"
             ]
            ],
            "type": "heatmap"
           }
          ],
          "heatmapgl": [
           {
            "colorbar": {
             "outlinewidth": 0,
             "ticks": ""
            },
            "colorscale": [
             [
              0,
              "#0d0887"
             ],
             [
              0.1111111111111111,
              "#46039f"
             ],
             [
              0.2222222222222222,
              "#7201a8"
             ],
             [
              0.3333333333333333,
              "#9c179e"
             ],
             [
              0.4444444444444444,
              "#bd3786"
             ],
             [
              0.5555555555555556,
              "#d8576b"
             ],
             [
              0.6666666666666666,
              "#ed7953"
             ],
             [
              0.7777777777777778,
              "#fb9f3a"
             ],
             [
              0.8888888888888888,
              "#fdca26"
             ],
             [
              1,
              "#f0f921"
             ]
            ],
            "type": "heatmapgl"
           }
          ],
          "histogram": [
           {
            "marker": {
             "pattern": {
              "fillmode": "overlay",
              "size": 10,
              "solidity": 0.2
             }
            },
            "type": "histogram"
           }
          ],
          "histogram2d": [
           {
            "colorbar": {
             "outlinewidth": 0,
             "ticks": ""
            },
            "colorscale": [
             [
              0,
              "#0d0887"
             ],
             [
              0.1111111111111111,
              "#46039f"
             ],
             [
              0.2222222222222222,
              "#7201a8"
             ],
             [
              0.3333333333333333,
              "#9c179e"
             ],
             [
              0.4444444444444444,
              "#bd3786"
             ],
             [
              0.5555555555555556,
              "#d8576b"
             ],
             [
              0.6666666666666666,
              "#ed7953"
             ],
             [
              0.7777777777777778,
              "#fb9f3a"
             ],
             [
              0.8888888888888888,
              "#fdca26"
             ],
             [
              1,
              "#f0f921"
             ]
            ],
            "type": "histogram2d"
           }
          ],
          "histogram2dcontour": [
           {
            "colorbar": {
             "outlinewidth": 0,
             "ticks": ""
            },
            "colorscale": [
             [
              0,
              "#0d0887"
             ],
             [
              0.1111111111111111,
              "#46039f"
             ],
             [
              0.2222222222222222,
              "#7201a8"
             ],
             [
              0.3333333333333333,
              "#9c179e"
             ],
             [
              0.4444444444444444,
              "#bd3786"
             ],
             [
              0.5555555555555556,
              "#d8576b"
             ],
             [
              0.6666666666666666,
              "#ed7953"
             ],
             [
              0.7777777777777778,
              "#fb9f3a"
             ],
             [
              0.8888888888888888,
              "#fdca26"
             ],
             [
              1,
              "#f0f921"
             ]
            ],
            "type": "histogram2dcontour"
           }
          ],
          "mesh3d": [
           {
            "colorbar": {
             "outlinewidth": 0,
             "ticks": ""
            },
            "type": "mesh3d"
           }
          ],
          "parcoords": [
           {
            "line": {
             "colorbar": {
              "outlinewidth": 0,
              "ticks": ""
             }
            },
            "type": "parcoords"
           }
          ],
          "pie": [
           {
            "automargin": true,
            "type": "pie"
           }
          ],
          "scatter": [
           {
            "fillpattern": {
             "fillmode": "overlay",
             "size": 10,
             "solidity": 0.2
            },
            "type": "scatter"
           }
          ],
          "scatter3d": [
           {
            "line": {
             "colorbar": {
              "outlinewidth": 0,
              "ticks": ""
             }
            },
            "marker": {
             "colorbar": {
              "outlinewidth": 0,
              "ticks": ""
             }
            },
            "type": "scatter3d"
           }
          ],
          "scattercarpet": [
           {
            "marker": {
             "colorbar": {
              "outlinewidth": 0,
              "ticks": ""
             }
            },
            "type": "scattercarpet"
           }
          ],
          "scattergeo": [
           {
            "marker": {
             "colorbar": {
              "outlinewidth": 0,
              "ticks": ""
             }
            },
            "type": "scattergeo"
           }
          ],
          "scattergl": [
           {
            "marker": {
             "colorbar": {
              "outlinewidth": 0,
              "ticks": ""
             }
            },
            "type": "scattergl"
           }
          ],
          "scattermapbox": [
           {
            "marker": {
             "colorbar": {
              "outlinewidth": 0,
              "ticks": ""
             }
            },
            "type": "scattermapbox"
           }
          ],
          "scatterpolar": [
           {
            "marker": {
             "colorbar": {
              "outlinewidth": 0,
              "ticks": ""
             }
            },
            "type": "scatterpolar"
           }
          ],
          "scatterpolargl": [
           {
            "marker": {
             "colorbar": {
              "outlinewidth": 0,
              "ticks": ""
             }
            },
            "type": "scatterpolargl"
           }
          ],
          "scatterternary": [
           {
            "marker": {
             "colorbar": {
              "outlinewidth": 0,
              "ticks": ""
             }
            },
            "type": "scatterternary"
           }
          ],
          "surface": [
           {
            "colorbar": {
             "outlinewidth": 0,
             "ticks": ""
            },
            "colorscale": [
             [
              0,
              "#0d0887"
             ],
             [
              0.1111111111111111,
              "#46039f"
             ],
             [
              0.2222222222222222,
              "#7201a8"
             ],
             [
              0.3333333333333333,
              "#9c179e"
             ],
             [
              0.4444444444444444,
              "#bd3786"
             ],
             [
              0.5555555555555556,
              "#d8576b"
             ],
             [
              0.6666666666666666,
              "#ed7953"
             ],
             [
              0.7777777777777778,
              "#fb9f3a"
             ],
             [
              0.8888888888888888,
              "#fdca26"
             ],
             [
              1,
              "#f0f921"
             ]
            ],
            "type": "surface"
           }
          ],
          "table": [
           {
            "cells": {
             "fill": {
              "color": "#EBF0F8"
             },
             "line": {
              "color": "white"
             }
            },
            "header": {
             "fill": {
              "color": "#C8D4E3"
             },
             "line": {
              "color": "white"
             }
            },
            "type": "table"
           }
          ]
         },
         "layout": {
          "annotationdefaults": {
           "arrowcolor": "#2a3f5f",
           "arrowhead": 0,
           "arrowwidth": 1
          },
          "autotypenumbers": "strict",
          "coloraxis": {
           "colorbar": {
            "outlinewidth": 0,
            "ticks": ""
           }
          },
          "colorscale": {
           "diverging": [
            [
             0,
             "#8e0152"
            ],
            [
             0.1,
             "#c51b7d"
            ],
            [
             0.2,
             "#de77ae"
            ],
            [
             0.3,
             "#f1b6da"
            ],
            [
             0.4,
             "#fde0ef"
            ],
            [
             0.5,
             "#f7f7f7"
            ],
            [
             0.6,
             "#e6f5d0"
            ],
            [
             0.7,
             "#b8e186"
            ],
            [
             0.8,
             "#7fbc41"
            ],
            [
             0.9,
             "#4d9221"
            ],
            [
             1,
             "#276419"
            ]
           ],
           "sequential": [
            [
             0,
             "#0d0887"
            ],
            [
             0.1111111111111111,
             "#46039f"
            ],
            [
             0.2222222222222222,
             "#7201a8"
            ],
            [
             0.3333333333333333,
             "#9c179e"
            ],
            [
             0.4444444444444444,
             "#bd3786"
            ],
            [
             0.5555555555555556,
             "#d8576b"
            ],
            [
             0.6666666666666666,
             "#ed7953"
            ],
            [
             0.7777777777777778,
             "#fb9f3a"
            ],
            [
             0.8888888888888888,
             "#fdca26"
            ],
            [
             1,
             "#f0f921"
            ]
           ],
           "sequentialminus": [
            [
             0,
             "#0d0887"
            ],
            [
             0.1111111111111111,
             "#46039f"
            ],
            [
             0.2222222222222222,
             "#7201a8"
            ],
            [
             0.3333333333333333,
             "#9c179e"
            ],
            [
             0.4444444444444444,
             "#bd3786"
            ],
            [
             0.5555555555555556,
             "#d8576b"
            ],
            [
             0.6666666666666666,
             "#ed7953"
            ],
            [
             0.7777777777777778,
             "#fb9f3a"
            ],
            [
             0.8888888888888888,
             "#fdca26"
            ],
            [
             1,
             "#f0f921"
            ]
           ]
          },
          "colorway": [
           "#636efa",
           "#EF553B",
           "#00cc96",
           "#ab63fa",
           "#FFA15A",
           "#19d3f3",
           "#FF6692",
           "#B6E880",
           "#FF97FF",
           "#FECB52"
          ],
          "font": {
           "color": "#2a3f5f"
          },
          "geo": {
           "bgcolor": "white",
           "lakecolor": "white",
           "landcolor": "white",
           "showlakes": true,
           "showland": true,
           "subunitcolor": "#C8D4E3"
          },
          "hoverlabel": {
           "align": "left"
          },
          "hovermode": "closest",
          "mapbox": {
           "style": "light"
          },
          "paper_bgcolor": "white",
          "plot_bgcolor": "white",
          "polar": {
           "angularaxis": {
            "gridcolor": "#EBF0F8",
            "linecolor": "#EBF0F8",
            "ticks": ""
           },
           "bgcolor": "white",
           "radialaxis": {
            "gridcolor": "#EBF0F8",
            "linecolor": "#EBF0F8",
            "ticks": ""
           }
          },
          "scene": {
           "xaxis": {
            "backgroundcolor": "white",
            "gridcolor": "#DFE8F3",
            "gridwidth": 2,
            "linecolor": "#EBF0F8",
            "showbackground": true,
            "ticks": "",
            "zerolinecolor": "#EBF0F8"
           },
           "yaxis": {
            "backgroundcolor": "white",
            "gridcolor": "#DFE8F3",
            "gridwidth": 2,
            "linecolor": "#EBF0F8",
            "showbackground": true,
            "ticks": "",
            "zerolinecolor": "#EBF0F8"
           },
           "zaxis": {
            "backgroundcolor": "white",
            "gridcolor": "#DFE8F3",
            "gridwidth": 2,
            "linecolor": "#EBF0F8",
            "showbackground": true,
            "ticks": "",
            "zerolinecolor": "#EBF0F8"
           }
          },
          "shapedefaults": {
           "line": {
            "color": "#2a3f5f"
           }
          },
          "ternary": {
           "aaxis": {
            "gridcolor": "#DFE8F3",
            "linecolor": "#A2B1C6",
            "ticks": ""
           },
           "baxis": {
            "gridcolor": "#DFE8F3",
            "linecolor": "#A2B1C6",
            "ticks": ""
           },
           "bgcolor": "white",
           "caxis": {
            "gridcolor": "#DFE8F3",
            "linecolor": "#A2B1C6",
            "ticks": ""
           }
          },
          "title": {
           "x": 0.05
          },
          "xaxis": {
           "automargin": true,
           "gridcolor": "#EBF0F8",
           "linecolor": "#EBF0F8",
           "ticks": "",
           "title": {
            "standoff": 15
           },
           "zerolinecolor": "#EBF0F8",
           "zerolinewidth": 2
          },
          "yaxis": {
           "automargin": true,
           "gridcolor": "#EBF0F8",
           "linecolor": "#EBF0F8",
           "ticks": "",
           "title": {
            "standoff": 15
           },
           "zerolinecolor": "#EBF0F8",
           "zerolinewidth": 2
          }
         }
        },
        "title": {
         "text": "Performance Metrics for Weighted k-NN"
        },
        "xaxis": {
         "title": {
          "text": "Method"
         }
        },
        "yaxis": {
         "title": {
          "text": "Metric Value"
         }
        }
       }
      }
     },
     "metadata": {},
     "output_type": "display_data"
    },
    {
     "data": {
      "application/vnd.plotly.v1+json": {
       "config": {
        "plotlyServerURL": "https://plot.ly"
       },
       "data": [
        {
         "marker": {
          "color": "blue"
         },
         "name": "Accuracy",
         "text": [
          "0.340",
          "0.930",
          "0.355",
          "0.965"
         ],
         "textposition": "auto",
         "type": "bar",
         "x": [
          "Raw",
          "Scaled",
          "Eliminated",
          "Eliminated Scaled"
         ],
         "y": [
          0.34,
          0.93,
          0.355,
          0.965
         ]
        },
        {
         "marker": {
          "color": "rgba(0, 255, 60, 0.8)"
         },
         "name": "Precision (Fundamental Service)",
         "text": [
          "0.393",
          "1.000",
          "0.426",
          "1.000"
         ],
         "textposition": "auto",
         "type": "bar",
         "x": [
          "Raw",
          "Scaled",
          "Eliminated",
          "Eliminated Scaled"
         ],
         "y": [
          0.3928571428571429,
          1,
          0.42592592592592593,
          1
         ]
        },
        {
         "marker": {
          "color": "rgba(0, 255, 120, 0.8)"
         },
         "name": "Precision (Complete Service)",
         "text": [
          "0.283",
          "0.870",
          "0.289",
          "0.922"
         ],
         "textposition": "auto",
         "type": "bar",
         "x": [
          "Raw",
          "Scaled",
          "Eliminated",
          "Eliminated Scaled"
         ],
         "y": [
          0.2826086956521739,
          0.8703703703703703,
          0.28888888888888886,
          0.9215686274509804
         ]
        },
        {
         "marker": {
          "color": "rgba(0, 255, 180, 0.8)"
         },
         "name": "Precision (Advanced Service)",
         "text": [
          "0.311",
          "0.959",
          "0.311",
          "1.000"
         ],
         "textposition": "auto",
         "type": "bar",
         "x": [
          "Raw",
          "Scaled",
          "Eliminated",
          "Eliminated Scaled"
         ],
         "y": [
          0.3111111111111111,
          0.9591836734693876,
          0.3111111111111111,
          1
         ]
        },
        {
         "marker": {
          "color": "rgba(0, 255, 240, 0.8)"
         },
         "name": "Precision (E-Service)",
         "text": [
          "0.358",
          "0.894",
          "0.375",
          "0.936"
         ],
         "textposition": "auto",
         "type": "bar",
         "x": [
          "Raw",
          "Scaled",
          "Eliminated",
          "Eliminated Scaled"
         ],
         "y": [
          0.3584905660377358,
          0.8936170212765957,
          0.375,
          0.9361702127659576
         ]
        },
        {
         "marker": {
          "color": "rgba(255, 0, 60, 0.8)"
         },
         "name": "Recall (Fundamental Service)",
         "text": [
          "0.415",
          "0.943",
          "0.434",
          "0.962"
         ],
         "textposition": "auto",
         "type": "bar",
         "x": [
          "Raw",
          "Scaled",
          "Eliminated",
          "Eliminated Scaled"
         ],
         "y": [
          0.41509433962264153,
          0.9433962264150944,
          0.4339622641509434,
          0.9622641509433962
         ]
        },
        {
         "marker": {
          "color": "rgba(255, 0, 120, 0.8)"
         },
         "name": "Recall (Complete Service)",
         "text": [
          "0.277",
          "1.000",
          "0.277",
          "1.000"
         ],
         "textposition": "auto",
         "type": "bar",
         "x": [
          "Raw",
          "Scaled",
          "Eliminated",
          "Eliminated Scaled"
         ],
         "y": [
          0.2765957446808511,
          1,
          0.2765957446808511,
          1
         ]
        },
        {
         "marker": {
          "color": "rgba(255, 0, 180, 0.8)"
         },
         "name": "Recall (Advanced Service)",
         "text": [
          "0.250",
          "0.839",
          "0.250",
          "0.911"
         ],
         "textposition": "auto",
         "type": "bar",
         "x": [
          "Raw",
          "Scaled",
          "Eliminated",
          "Eliminated Scaled"
         ],
         "y": [
          0.25,
          0.8392857142857143,
          0.25,
          0.9107142857142856
         ]
        },
        {
         "marker": {
          "color": "rgba(255, 0, 240, 0.8)"
         },
         "name": "Recall (E-Service)",
         "text": [
          "0.432",
          "0.955",
          "0.477",
          "1.000"
         ],
         "textposition": "auto",
         "type": "bar",
         "x": [
          "Raw",
          "Scaled",
          "Eliminated",
          "Eliminated Scaled"
         ],
         "y": [
          0.4318181818181818,
          0.9545454545454546,
          0.4772727272727273,
          1
         ]
        },
        {
         "marker": {
          "color": "green"
         },
         "name": "Overall Precision",
         "text": [
          "0.336",
          "0.931",
          "0.350",
          "0.964"
         ],
         "textposition": "auto",
         "type": "bar",
         "x": [
          "Raw",
          "Scaled",
          "Eliminated",
          "Eliminated Scaled"
         ],
         "y": [
          0.33626687891454093,
          0.9307927662790884,
          0.3502314814814815,
          0.9644347100542344
         ]
        },
        {
         "marker": {
          "color": "red"
         },
         "name": "Overall Recall",
         "text": [
          "0.343",
          "0.934",
          "0.359",
          "0.968"
         ],
         "textposition": "auto",
         "type": "bar",
         "x": [
          "Raw",
          "Scaled",
          "Eliminated",
          "Eliminated Scaled"
         ],
         "y": [
          0.3433770665304186,
          0.9343068488115658,
          0.35945768402613043,
          0.9682446091644203
         ]
        }
       ],
       "layout": {
        "barmode": "group",
        "legend": {
         "title": {
          "text": "Metrics"
         }
        },
        "template": {
         "data": {
          "bar": [
           {
            "error_x": {
             "color": "#2a3f5f"
            },
            "error_y": {
             "color": "#2a3f5f"
            },
            "marker": {
             "line": {
              "color": "white",
              "width": 0.5
             },
             "pattern": {
              "fillmode": "overlay",
              "size": 10,
              "solidity": 0.2
             }
            },
            "type": "bar"
           }
          ],
          "barpolar": [
           {
            "marker": {
             "line": {
              "color": "white",
              "width": 0.5
             },
             "pattern": {
              "fillmode": "overlay",
              "size": 10,
              "solidity": 0.2
             }
            },
            "type": "barpolar"
           }
          ],
          "carpet": [
           {
            "aaxis": {
             "endlinecolor": "#2a3f5f",
             "gridcolor": "#C8D4E3",
             "linecolor": "#C8D4E3",
             "minorgridcolor": "#C8D4E3",
             "startlinecolor": "#2a3f5f"
            },
            "baxis": {
             "endlinecolor": "#2a3f5f",
             "gridcolor": "#C8D4E3",
             "linecolor": "#C8D4E3",
             "minorgridcolor": "#C8D4E3",
             "startlinecolor": "#2a3f5f"
            },
            "type": "carpet"
           }
          ],
          "choropleth": [
           {
            "colorbar": {
             "outlinewidth": 0,
             "ticks": ""
            },
            "type": "choropleth"
           }
          ],
          "contour": [
           {
            "colorbar": {
             "outlinewidth": 0,
             "ticks": ""
            },
            "colorscale": [
             [
              0,
              "#0d0887"
             ],
             [
              0.1111111111111111,
              "#46039f"
             ],
             [
              0.2222222222222222,
              "#7201a8"
             ],
             [
              0.3333333333333333,
              "#9c179e"
             ],
             [
              0.4444444444444444,
              "#bd3786"
             ],
             [
              0.5555555555555556,
              "#d8576b"
             ],
             [
              0.6666666666666666,
              "#ed7953"
             ],
             [
              0.7777777777777778,
              "#fb9f3a"
             ],
             [
              0.8888888888888888,
              "#fdca26"
             ],
             [
              1,
              "#f0f921"
             ]
            ],
            "type": "contour"
           }
          ],
          "contourcarpet": [
           {
            "colorbar": {
             "outlinewidth": 0,
             "ticks": ""
            },
            "type": "contourcarpet"
           }
          ],
          "heatmap": [
           {
            "colorbar": {
             "outlinewidth": 0,
             "ticks": ""
            },
            "colorscale": [
             [
              0,
              "#0d0887"
             ],
             [
              0.1111111111111111,
              "#46039f"
             ],
             [
              0.2222222222222222,
              "#7201a8"
             ],
             [
              0.3333333333333333,
              "#9c179e"
             ],
             [
              0.4444444444444444,
              "#bd3786"
             ],
             [
              0.5555555555555556,
              "#d8576b"
             ],
             [
              0.6666666666666666,
              "#ed7953"
             ],
             [
              0.7777777777777778,
              "#fb9f3a"
             ],
             [
              0.8888888888888888,
              "#fdca26"
             ],
             [
              1,
              "#f0f921"
             ]
            ],
            "type": "heatmap"
           }
          ],
          "heatmapgl": [
           {
            "colorbar": {
             "outlinewidth": 0,
             "ticks": ""
            },
            "colorscale": [
             [
              0,
              "#0d0887"
             ],
             [
              0.1111111111111111,
              "#46039f"
             ],
             [
              0.2222222222222222,
              "#7201a8"
             ],
             [
              0.3333333333333333,
              "#9c179e"
             ],
             [
              0.4444444444444444,
              "#bd3786"
             ],
             [
              0.5555555555555556,
              "#d8576b"
             ],
             [
              0.6666666666666666,
              "#ed7953"
             ],
             [
              0.7777777777777778,
              "#fb9f3a"
             ],
             [
              0.8888888888888888,
              "#fdca26"
             ],
             [
              1,
              "#f0f921"
             ]
            ],
            "type": "heatmapgl"
           }
          ],
          "histogram": [
           {
            "marker": {
             "pattern": {
              "fillmode": "overlay",
              "size": 10,
              "solidity": 0.2
             }
            },
            "type": "histogram"
           }
          ],
          "histogram2d": [
           {
            "colorbar": {
             "outlinewidth": 0,
             "ticks": ""
            },
            "colorscale": [
             [
              0,
              "#0d0887"
             ],
             [
              0.1111111111111111,
              "#46039f"
             ],
             [
              0.2222222222222222,
              "#7201a8"
             ],
             [
              0.3333333333333333,
              "#9c179e"
             ],
             [
              0.4444444444444444,
              "#bd3786"
             ],
             [
              0.5555555555555556,
              "#d8576b"
             ],
             [
              0.6666666666666666,
              "#ed7953"
             ],
             [
              0.7777777777777778,
              "#fb9f3a"
             ],
             [
              0.8888888888888888,
              "#fdca26"
             ],
             [
              1,
              "#f0f921"
             ]
            ],
            "type": "histogram2d"
           }
          ],
          "histogram2dcontour": [
           {
            "colorbar": {
             "outlinewidth": 0,
             "ticks": ""
            },
            "colorscale": [
             [
              0,
              "#0d0887"
             ],
             [
              0.1111111111111111,
              "#46039f"
             ],
             [
              0.2222222222222222,
              "#7201a8"
             ],
             [
              0.3333333333333333,
              "#9c179e"
             ],
             [
              0.4444444444444444,
              "#bd3786"
             ],
             [
              0.5555555555555556,
              "#d8576b"
             ],
             [
              0.6666666666666666,
              "#ed7953"
             ],
             [
              0.7777777777777778,
              "#fb9f3a"
             ],
             [
              0.8888888888888888,
              "#fdca26"
             ],
             [
              1,
              "#f0f921"
             ]
            ],
            "type": "histogram2dcontour"
           }
          ],
          "mesh3d": [
           {
            "colorbar": {
             "outlinewidth": 0,
             "ticks": ""
            },
            "type": "mesh3d"
           }
          ],
          "parcoords": [
           {
            "line": {
             "colorbar": {
              "outlinewidth": 0,
              "ticks": ""
             }
            },
            "type": "parcoords"
           }
          ],
          "pie": [
           {
            "automargin": true,
            "type": "pie"
           }
          ],
          "scatter": [
           {
            "fillpattern": {
             "fillmode": "overlay",
             "size": 10,
             "solidity": 0.2
            },
            "type": "scatter"
           }
          ],
          "scatter3d": [
           {
            "line": {
             "colorbar": {
              "outlinewidth": 0,
              "ticks": ""
             }
            },
            "marker": {
             "colorbar": {
              "outlinewidth": 0,
              "ticks": ""
             }
            },
            "type": "scatter3d"
           }
          ],
          "scattercarpet": [
           {
            "marker": {
             "colorbar": {
              "outlinewidth": 0,
              "ticks": ""
             }
            },
            "type": "scattercarpet"
           }
          ],
          "scattergeo": [
           {
            "marker": {
             "colorbar": {
              "outlinewidth": 0,
              "ticks": ""
             }
            },
            "type": "scattergeo"
           }
          ],
          "scattergl": [
           {
            "marker": {
             "colorbar": {
              "outlinewidth": 0,
              "ticks": ""
             }
            },
            "type": "scattergl"
           }
          ],
          "scattermapbox": [
           {
            "marker": {
             "colorbar": {
              "outlinewidth": 0,
              "ticks": ""
             }
            },
            "type": "scattermapbox"
           }
          ],
          "scatterpolar": [
           {
            "marker": {
             "colorbar": {
              "outlinewidth": 0,
              "ticks": ""
             }
            },
            "type": "scatterpolar"
           }
          ],
          "scatterpolargl": [
           {
            "marker": {
             "colorbar": {
              "outlinewidth": 0,
              "ticks": ""
             }
            },
            "type": "scatterpolargl"
           }
          ],
          "scatterternary": [
           {
            "marker": {
             "colorbar": {
              "outlinewidth": 0,
              "ticks": ""
             }
            },
            "type": "scatterternary"
           }
          ],
          "surface": [
           {
            "colorbar": {
             "outlinewidth": 0,
             "ticks": ""
            },
            "colorscale": [
             [
              0,
              "#0d0887"
             ],
             [
              0.1111111111111111,
              "#46039f"
             ],
             [
              0.2222222222222222,
              "#7201a8"
             ],
             [
              0.3333333333333333,
              "#9c179e"
             ],
             [
              0.4444444444444444,
              "#bd3786"
             ],
             [
              0.5555555555555556,
              "#d8576b"
             ],
             [
              0.6666666666666666,
              "#ed7953"
             ],
             [
              0.7777777777777778,
              "#fb9f3a"
             ],
             [
              0.8888888888888888,
              "#fdca26"
             ],
             [
              1,
              "#f0f921"
             ]
            ],
            "type": "surface"
           }
          ],
          "table": [
           {
            "cells": {
             "fill": {
              "color": "#EBF0F8"
             },
             "line": {
              "color": "white"
             }
            },
            "header": {
             "fill": {
              "color": "#C8D4E3"
             },
             "line": {
              "color": "white"
             }
            },
            "type": "table"
           }
          ]
         },
         "layout": {
          "annotationdefaults": {
           "arrowcolor": "#2a3f5f",
           "arrowhead": 0,
           "arrowwidth": 1
          },
          "autotypenumbers": "strict",
          "coloraxis": {
           "colorbar": {
            "outlinewidth": 0,
            "ticks": ""
           }
          },
          "colorscale": {
           "diverging": [
            [
             0,
             "#8e0152"
            ],
            [
             0.1,
             "#c51b7d"
            ],
            [
             0.2,
             "#de77ae"
            ],
            [
             0.3,
             "#f1b6da"
            ],
            [
             0.4,
             "#fde0ef"
            ],
            [
             0.5,
             "#f7f7f7"
            ],
            [
             0.6,
             "#e6f5d0"
            ],
            [
             0.7,
             "#b8e186"
            ],
            [
             0.8,
             "#7fbc41"
            ],
            [
             0.9,
             "#4d9221"
            ],
            [
             1,
             "#276419"
            ]
           ],
           "sequential": [
            [
             0,
             "#0d0887"
            ],
            [
             0.1111111111111111,
             "#46039f"
            ],
            [
             0.2222222222222222,
             "#7201a8"
            ],
            [
             0.3333333333333333,
             "#9c179e"
            ],
            [
             0.4444444444444444,
             "#bd3786"
            ],
            [
             0.5555555555555556,
             "#d8576b"
            ],
            [
             0.6666666666666666,
             "#ed7953"
            ],
            [
             0.7777777777777778,
             "#fb9f3a"
            ],
            [
             0.8888888888888888,
             "#fdca26"
            ],
            [
             1,
             "#f0f921"
            ]
           ],
           "sequentialminus": [
            [
             0,
             "#0d0887"
            ],
            [
             0.1111111111111111,
             "#46039f"
            ],
            [
             0.2222222222222222,
             "#7201a8"
            ],
            [
             0.3333333333333333,
             "#9c179e"
            ],
            [
             0.4444444444444444,
             "#bd3786"
            ],
            [
             0.5555555555555556,
             "#d8576b"
            ],
            [
             0.6666666666666666,
             "#ed7953"
            ],
            [
             0.7777777777777778,
             "#fb9f3a"
            ],
            [
             0.8888888888888888,
             "#fdca26"
            ],
            [
             1,
             "#f0f921"
            ]
           ]
          },
          "colorway": [
           "#636efa",
           "#EF553B",
           "#00cc96",
           "#ab63fa",
           "#FFA15A",
           "#19d3f3",
           "#FF6692",
           "#B6E880",
           "#FF97FF",
           "#FECB52"
          ],
          "font": {
           "color": "#2a3f5f"
          },
          "geo": {
           "bgcolor": "white",
           "lakecolor": "white",
           "landcolor": "white",
           "showlakes": true,
           "showland": true,
           "subunitcolor": "#C8D4E3"
          },
          "hoverlabel": {
           "align": "left"
          },
          "hovermode": "closest",
          "mapbox": {
           "style": "light"
          },
          "paper_bgcolor": "white",
          "plot_bgcolor": "white",
          "polar": {
           "angularaxis": {
            "gridcolor": "#EBF0F8",
            "linecolor": "#EBF0F8",
            "ticks": ""
           },
           "bgcolor": "white",
           "radialaxis": {
            "gridcolor": "#EBF0F8",
            "linecolor": "#EBF0F8",
            "ticks": ""
           }
          },
          "scene": {
           "xaxis": {
            "backgroundcolor": "white",
            "gridcolor": "#DFE8F3",
            "gridwidth": 2,
            "linecolor": "#EBF0F8",
            "showbackground": true,
            "ticks": "",
            "zerolinecolor": "#EBF0F8"
           },
           "yaxis": {
            "backgroundcolor": "white",
            "gridcolor": "#DFE8F3",
            "gridwidth": 2,
            "linecolor": "#EBF0F8",
            "showbackground": true,
            "ticks": "",
            "zerolinecolor": "#EBF0F8"
           },
           "zaxis": {
            "backgroundcolor": "white",
            "gridcolor": "#DFE8F3",
            "gridwidth": 2,
            "linecolor": "#EBF0F8",
            "showbackground": true,
            "ticks": "",
            "zerolinecolor": "#EBF0F8"
           }
          },
          "shapedefaults": {
           "line": {
            "color": "#2a3f5f"
           }
          },
          "ternary": {
           "aaxis": {
            "gridcolor": "#DFE8F3",
            "linecolor": "#A2B1C6",
            "ticks": ""
           },
           "baxis": {
            "gridcolor": "#DFE8F3",
            "linecolor": "#A2B1C6",
            "ticks": ""
           },
           "bgcolor": "white",
           "caxis": {
            "gridcolor": "#DFE8F3",
            "linecolor": "#A2B1C6",
            "ticks": ""
           }
          },
          "title": {
           "x": 0.05
          },
          "xaxis": {
           "automargin": true,
           "gridcolor": "#EBF0F8",
           "linecolor": "#EBF0F8",
           "ticks": "",
           "title": {
            "standoff": 15
           },
           "zerolinecolor": "#EBF0F8",
           "zerolinewidth": 2
          },
          "yaxis": {
           "automargin": true,
           "gridcolor": "#EBF0F8",
           "linecolor": "#EBF0F8",
           "ticks": "",
           "title": {
            "standoff": 15
           },
           "zerolinecolor": "#EBF0F8",
           "zerolinewidth": 2
          }
         }
        },
        "title": {
         "text": "Performance Metrics for Class Frequency Weighted k-NN"
        },
        "xaxis": {
         "title": {
          "text": "Method"
         }
        },
        "yaxis": {
         "title": {
          "text": "Metric Value"
         }
        }
       }
      }
     },
     "metadata": {},
     "output_type": "display_data"
    },
    {
     "data": {
      "application/vnd.plotly.v1+json": {
       "config": {
        "plotlyServerURL": "https://plot.ly"
       },
       "data": [
        {
         "marker": {
          "color": "blue"
         },
         "name": "Accuracy",
         "text": [
          "0.355",
          "0.935",
          "0.345",
          "0.965"
         ],
         "textposition": "auto",
         "type": "bar",
         "x": [
          "Raw",
          "Scaled",
          "Eliminated",
          "Eliminated Scaled"
         ],
         "y": [
          0.355,
          0.935,
          0.345,
          0.965
         ]
        },
        {
         "marker": {
          "color": "rgba(0, 255, 60, 0.8)"
         },
         "name": "Precision (Fundamental Service)",
         "text": [
          "0.412",
          "1.000",
          "0.407",
          "1.000"
         ],
         "textposition": "auto",
         "type": "bar",
         "x": [
          "Raw",
          "Scaled",
          "Eliminated",
          "Eliminated Scaled"
         ],
         "y": [
          0.4117647058823529,
          1,
          0.4074074074074074,
          1
         ]
        },
        {
         "marker": {
          "color": "rgba(0, 255, 120, 0.8)"
         },
         "name": "Precision (Complete Service)",
         "text": [
          "0.318",
          "0.887",
          "0.300",
          "0.922"
         ],
         "textposition": "auto",
         "type": "bar",
         "x": [
          "Raw",
          "Scaled",
          "Eliminated",
          "Eliminated Scaled"
         ],
         "y": [
          0.3181818181818182,
          0.8867924528301887,
          0.3,
          0.9215686274509804
         ]
        },
        {
         "marker": {
          "color": "rgba(0, 255, 180, 0.8)"
         },
         "name": "Precision (Advanced Service)",
         "text": [
          "0.333",
          "0.959",
          "0.312",
          "1.000"
         ],
         "textposition": "auto",
         "type": "bar",
         "x": [
          "Raw",
          "Scaled",
          "Eliminated",
          "Eliminated Scaled"
         ],
         "y": [
          0.3333333333333333,
          0.9591836734693876,
          0.3125,
          1
         ]
        },
        {
         "marker": {
          "color": "rgba(0, 255, 240, 0.8)"
         },
         "name": "Precision (E-Service)",
         "text": [
          "0.351",
          "0.894",
          "0.345",
          "0.936"
         ],
         "textposition": "auto",
         "type": "bar",
         "x": [
          "Raw",
          "Scaled",
          "Eliminated",
          "Eliminated Scaled"
         ],
         "y": [
          0.3508771929824561,
          0.8936170212765957,
          0.3448275862068966,
          0.9361702127659576
         ]
        },
        {
         "marker": {
          "color": "rgba(255, 0, 60, 0.8)"
         },
         "name": "Recall (Fundamental Service)",
         "text": [
          "0.396",
          "0.962",
          "0.415",
          "0.962"
         ],
         "textposition": "auto",
         "type": "bar",
         "x": [
          "Raw",
          "Scaled",
          "Eliminated",
          "Eliminated Scaled"
         ],
         "y": [
          0.3962264150943397,
          0.9622641509433962,
          0.41509433962264153,
          0.9622641509433962
         ]
        },
        {
         "marker": {
          "color": "rgba(255, 0, 120, 0.8)"
         },
         "name": "Recall (Complete Service)",
         "text": [
          "0.298",
          "1.000",
          "0.255",
          "1.000"
         ],
         "textposition": "auto",
         "type": "bar",
         "x": [
          "Raw",
          "Scaled",
          "Eliminated",
          "Eliminated Scaled"
         ],
         "y": [
          0.2978723404255319,
          1,
          0.2553191489361702,
          1
         ]
        },
        {
         "marker": {
          "color": "rgba(255, 0, 180, 0.8)"
         },
         "name": "Recall (Advanced Service)",
         "text": [
          "0.286",
          "0.839",
          "0.268",
          "0.911"
         ],
         "textposition": "auto",
         "type": "bar",
         "x": [
          "Raw",
          "Scaled",
          "Eliminated",
          "Eliminated Scaled"
         ],
         "y": [
          0.2857142857142857,
          0.8392857142857143,
          0.26785714285714285,
          0.9107142857142856
         ]
        },
        {
         "marker": {
          "color": "rgba(255, 0, 240, 0.8)"
         },
         "name": "Recall (E-Service)",
         "text": [
          "0.455",
          "0.955",
          "0.455",
          "1.000"
         ],
         "textposition": "auto",
         "type": "bar",
         "x": [
          "Raw",
          "Scaled",
          "Eliminated",
          "Eliminated Scaled"
         ],
         "y": [
          0.4545454545454546,
          0.9545454545454546,
          0.4545454545454546,
          1
         ]
        },
        {
         "marker": {
          "color": "green"
         },
         "name": "Overall Precision",
         "text": [
          "0.354",
          "0.935",
          "0.341",
          "0.964"
         ],
         "textposition": "auto",
         "type": "bar",
         "x": [
          "Raw",
          "Scaled",
          "Eliminated",
          "Eliminated Scaled"
         ],
         "y": [
          0.35353926259499013,
          0.934898286894043,
          0.34118374840357596,
          0.9644347100542344
         ]
        },
        {
         "marker": {
          "color": "red"
         },
         "name": "Overall Recall",
         "text": [
          "0.359",
          "0.939",
          "0.348",
          "0.968"
         ],
         "textposition": "auto",
         "type": "bar",
         "x": [
          "Raw",
          "Scaled",
          "Eliminated",
          "Eliminated Scaled"
         ],
         "y": [
          0.35858962394490296,
          0.9390238299436412,
          0.3482040214903523,
          0.9682446091644203
         ]
        }
       ],
       "layout": {
        "barmode": "group",
        "legend": {
         "title": {
          "text": "Metrics"
         }
        },
        "template": {
         "data": {
          "bar": [
           {
            "error_x": {
             "color": "#2a3f5f"
            },
            "error_y": {
             "color": "#2a3f5f"
            },
            "marker": {
             "line": {
              "color": "white",
              "width": 0.5
             },
             "pattern": {
              "fillmode": "overlay",
              "size": 10,
              "solidity": 0.2
             }
            },
            "type": "bar"
           }
          ],
          "barpolar": [
           {
            "marker": {
             "line": {
              "color": "white",
              "width": 0.5
             },
             "pattern": {
              "fillmode": "overlay",
              "size": 10,
              "solidity": 0.2
             }
            },
            "type": "barpolar"
           }
          ],
          "carpet": [
           {
            "aaxis": {
             "endlinecolor": "#2a3f5f",
             "gridcolor": "#C8D4E3",
             "linecolor": "#C8D4E3",
             "minorgridcolor": "#C8D4E3",
             "startlinecolor": "#2a3f5f"
            },
            "baxis": {
             "endlinecolor": "#2a3f5f",
             "gridcolor": "#C8D4E3",
             "linecolor": "#C8D4E3",
             "minorgridcolor": "#C8D4E3",
             "startlinecolor": "#2a3f5f"
            },
            "type": "carpet"
           }
          ],
          "choropleth": [
           {
            "colorbar": {
             "outlinewidth": 0,
             "ticks": ""
            },
            "type": "choropleth"
           }
          ],
          "contour": [
           {
            "colorbar": {
             "outlinewidth": 0,
             "ticks": ""
            },
            "colorscale": [
             [
              0,
              "#0d0887"
             ],
             [
              0.1111111111111111,
              "#46039f"
             ],
             [
              0.2222222222222222,
              "#7201a8"
             ],
             [
              0.3333333333333333,
              "#9c179e"
             ],
             [
              0.4444444444444444,
              "#bd3786"
             ],
             [
              0.5555555555555556,
              "#d8576b"
             ],
             [
              0.6666666666666666,
              "#ed7953"
             ],
             [
              0.7777777777777778,
              "#fb9f3a"
             ],
             [
              0.8888888888888888,
              "#fdca26"
             ],
             [
              1,
              "#f0f921"
             ]
            ],
            "type": "contour"
           }
          ],
          "contourcarpet": [
           {
            "colorbar": {
             "outlinewidth": 0,
             "ticks": ""
            },
            "type": "contourcarpet"
           }
          ],
          "heatmap": [
           {
            "colorbar": {
             "outlinewidth": 0,
             "ticks": ""
            },
            "colorscale": [
             [
              0,
              "#0d0887"
             ],
             [
              0.1111111111111111,
              "#46039f"
             ],
             [
              0.2222222222222222,
              "#7201a8"
             ],
             [
              0.3333333333333333,
              "#9c179e"
             ],
             [
              0.4444444444444444,
              "#bd3786"
             ],
             [
              0.5555555555555556,
              "#d8576b"
             ],
             [
              0.6666666666666666,
              "#ed7953"
             ],
             [
              0.7777777777777778,
              "#fb9f3a"
             ],
             [
              0.8888888888888888,
              "#fdca26"
             ],
             [
              1,
              "#f0f921"
             ]
            ],
            "type": "heatmap"
           }
          ],
          "heatmapgl": [
           {
            "colorbar": {
             "outlinewidth": 0,
             "ticks": ""
            },
            "colorscale": [
             [
              0,
              "#0d0887"
             ],
             [
              0.1111111111111111,
              "#46039f"
             ],
             [
              0.2222222222222222,
              "#7201a8"
             ],
             [
              0.3333333333333333,
              "#9c179e"
             ],
             [
              0.4444444444444444,
              "#bd3786"
             ],
             [
              0.5555555555555556,
              "#d8576b"
             ],
             [
              0.6666666666666666,
              "#ed7953"
             ],
             [
              0.7777777777777778,
              "#fb9f3a"
             ],
             [
              0.8888888888888888,
              "#fdca26"
             ],
             [
              1,
              "#f0f921"
             ]
            ],
            "type": "heatmapgl"
           }
          ],
          "histogram": [
           {
            "marker": {
             "pattern": {
              "fillmode": "overlay",
              "size": 10,
              "solidity": 0.2
             }
            },
            "type": "histogram"
           }
          ],
          "histogram2d": [
           {
            "colorbar": {
             "outlinewidth": 0,
             "ticks": ""
            },
            "colorscale": [
             [
              0,
              "#0d0887"
             ],
             [
              0.1111111111111111,
              "#46039f"
             ],
             [
              0.2222222222222222,
              "#7201a8"
             ],
             [
              0.3333333333333333,
              "#9c179e"
             ],
             [
              0.4444444444444444,
              "#bd3786"
             ],
             [
              0.5555555555555556,
              "#d8576b"
             ],
             [
              0.6666666666666666,
              "#ed7953"
             ],
             [
              0.7777777777777778,
              "#fb9f3a"
             ],
             [
              0.8888888888888888,
              "#fdca26"
             ],
             [
              1,
              "#f0f921"
             ]
            ],
            "type": "histogram2d"
           }
          ],
          "histogram2dcontour": [
           {
            "colorbar": {
             "outlinewidth": 0,
             "ticks": ""
            },
            "colorscale": [
             [
              0,
              "#0d0887"
             ],
             [
              0.1111111111111111,
              "#46039f"
             ],
             [
              0.2222222222222222,
              "#7201a8"
             ],
             [
              0.3333333333333333,
              "#9c179e"
             ],
             [
              0.4444444444444444,
              "#bd3786"
             ],
             [
              0.5555555555555556,
              "#d8576b"
             ],
             [
              0.6666666666666666,
              "#ed7953"
             ],
             [
              0.7777777777777778,
              "#fb9f3a"
             ],
             [
              0.8888888888888888,
              "#fdca26"
             ],
             [
              1,
              "#f0f921"
             ]
            ],
            "type": "histogram2dcontour"
           }
          ],
          "mesh3d": [
           {
            "colorbar": {
             "outlinewidth": 0,
             "ticks": ""
            },
            "type": "mesh3d"
           }
          ],
          "parcoords": [
           {
            "line": {
             "colorbar": {
              "outlinewidth": 0,
              "ticks": ""
             }
            },
            "type": "parcoords"
           }
          ],
          "pie": [
           {
            "automargin": true,
            "type": "pie"
           }
          ],
          "scatter": [
           {
            "fillpattern": {
             "fillmode": "overlay",
             "size": 10,
             "solidity": 0.2
            },
            "type": "scatter"
           }
          ],
          "scatter3d": [
           {
            "line": {
             "colorbar": {
              "outlinewidth": 0,
              "ticks": ""
             }
            },
            "marker": {
             "colorbar": {
              "outlinewidth": 0,
              "ticks": ""
             }
            },
            "type": "scatter3d"
           }
          ],
          "scattercarpet": [
           {
            "marker": {
             "colorbar": {
              "outlinewidth": 0,
              "ticks": ""
             }
            },
            "type": "scattercarpet"
           }
          ],
          "scattergeo": [
           {
            "marker": {
             "colorbar": {
              "outlinewidth": 0,
              "ticks": ""
             }
            },
            "type": "scattergeo"
           }
          ],
          "scattergl": [
           {
            "marker": {
             "colorbar": {
              "outlinewidth": 0,
              "ticks": ""
             }
            },
            "type": "scattergl"
           }
          ],
          "scattermapbox": [
           {
            "marker": {
             "colorbar": {
              "outlinewidth": 0,
              "ticks": ""
             }
            },
            "type": "scattermapbox"
           }
          ],
          "scatterpolar": [
           {
            "marker": {
             "colorbar": {
              "outlinewidth": 0,
              "ticks": ""
             }
            },
            "type": "scatterpolar"
           }
          ],
          "scatterpolargl": [
           {
            "marker": {
             "colorbar": {
              "outlinewidth": 0,
              "ticks": ""
             }
            },
            "type": "scatterpolargl"
           }
          ],
          "scatterternary": [
           {
            "marker": {
             "colorbar": {
              "outlinewidth": 0,
              "ticks": ""
             }
            },
            "type": "scatterternary"
           }
          ],
          "surface": [
           {
            "colorbar": {
             "outlinewidth": 0,
             "ticks": ""
            },
            "colorscale": [
             [
              0,
              "#0d0887"
             ],
             [
              0.1111111111111111,
              "#46039f"
             ],
             [
              0.2222222222222222,
              "#7201a8"
             ],
             [
              0.3333333333333333,
              "#9c179e"
             ],
             [
              0.4444444444444444,
              "#bd3786"
             ],
             [
              0.5555555555555556,
              "#d8576b"
             ],
             [
              0.6666666666666666,
              "#ed7953"
             ],
             [
              0.7777777777777778,
              "#fb9f3a"
             ],
             [
              0.8888888888888888,
              "#fdca26"
             ],
             [
              1,
              "#f0f921"
             ]
            ],
            "type": "surface"
           }
          ],
          "table": [
           {
            "cells": {
             "fill": {
              "color": "#EBF0F8"
             },
             "line": {
              "color": "white"
             }
            },
            "header": {
             "fill": {
              "color": "#C8D4E3"
             },
             "line": {
              "color": "white"
             }
            },
            "type": "table"
           }
          ]
         },
         "layout": {
          "annotationdefaults": {
           "arrowcolor": "#2a3f5f",
           "arrowhead": 0,
           "arrowwidth": 1
          },
          "autotypenumbers": "strict",
          "coloraxis": {
           "colorbar": {
            "outlinewidth": 0,
            "ticks": ""
           }
          },
          "colorscale": {
           "diverging": [
            [
             0,
             "#8e0152"
            ],
            [
             0.1,
             "#c51b7d"
            ],
            [
             0.2,
             "#de77ae"
            ],
            [
             0.3,
             "#f1b6da"
            ],
            [
             0.4,
             "#fde0ef"
            ],
            [
             0.5,
             "#f7f7f7"
            ],
            [
             0.6,
             "#e6f5d0"
            ],
            [
             0.7,
             "#b8e186"
            ],
            [
             0.8,
             "#7fbc41"
            ],
            [
             0.9,
             "#4d9221"
            ],
            [
             1,
             "#276419"
            ]
           ],
           "sequential": [
            [
             0,
             "#0d0887"
            ],
            [
             0.1111111111111111,
             "#46039f"
            ],
            [
             0.2222222222222222,
             "#7201a8"
            ],
            [
             0.3333333333333333,
             "#9c179e"
            ],
            [
             0.4444444444444444,
             "#bd3786"
            ],
            [
             0.5555555555555556,
             "#d8576b"
            ],
            [
             0.6666666666666666,
             "#ed7953"
            ],
            [
             0.7777777777777778,
             "#fb9f3a"
            ],
            [
             0.8888888888888888,
             "#fdca26"
            ],
            [
             1,
             "#f0f921"
            ]
           ],
           "sequentialminus": [
            [
             0,
             "#0d0887"
            ],
            [
             0.1111111111111111,
             "#46039f"
            ],
            [
             0.2222222222222222,
             "#7201a8"
            ],
            [
             0.3333333333333333,
             "#9c179e"
            ],
            [
             0.4444444444444444,
             "#bd3786"
            ],
            [
             0.5555555555555556,
             "#d8576b"
            ],
            [
             0.6666666666666666,
             "#ed7953"
            ],
            [
             0.7777777777777778,
             "#fb9f3a"
            ],
            [
             0.8888888888888888,
             "#fdca26"
            ],
            [
             1,
             "#f0f921"
            ]
           ]
          },
          "colorway": [
           "#636efa",
           "#EF553B",
           "#00cc96",
           "#ab63fa",
           "#FFA15A",
           "#19d3f3",
           "#FF6692",
           "#B6E880",
           "#FF97FF",
           "#FECB52"
          ],
          "font": {
           "color": "#2a3f5f"
          },
          "geo": {
           "bgcolor": "white",
           "lakecolor": "white",
           "landcolor": "white",
           "showlakes": true,
           "showland": true,
           "subunitcolor": "#C8D4E3"
          },
          "hoverlabel": {
           "align": "left"
          },
          "hovermode": "closest",
          "mapbox": {
           "style": "light"
          },
          "paper_bgcolor": "white",
          "plot_bgcolor": "white",
          "polar": {
           "angularaxis": {
            "gridcolor": "#EBF0F8",
            "linecolor": "#EBF0F8",
            "ticks": ""
           },
           "bgcolor": "white",
           "radialaxis": {
            "gridcolor": "#EBF0F8",
            "linecolor": "#EBF0F8",
            "ticks": ""
           }
          },
          "scene": {
           "xaxis": {
            "backgroundcolor": "white",
            "gridcolor": "#DFE8F3",
            "gridwidth": 2,
            "linecolor": "#EBF0F8",
            "showbackground": true,
            "ticks": "",
            "zerolinecolor": "#EBF0F8"
           },
           "yaxis": {
            "backgroundcolor": "white",
            "gridcolor": "#DFE8F3",
            "gridwidth": 2,
            "linecolor": "#EBF0F8",
            "showbackground": true,
            "ticks": "",
            "zerolinecolor": "#EBF0F8"
           },
           "zaxis": {
            "backgroundcolor": "white",
            "gridcolor": "#DFE8F3",
            "gridwidth": 2,
            "linecolor": "#EBF0F8",
            "showbackground": true,
            "ticks": "",
            "zerolinecolor": "#EBF0F8"
           }
          },
          "shapedefaults": {
           "line": {
            "color": "#2a3f5f"
           }
          },
          "ternary": {
           "aaxis": {
            "gridcolor": "#DFE8F3",
            "linecolor": "#A2B1C6",
            "ticks": ""
           },
           "baxis": {
            "gridcolor": "#DFE8F3",
            "linecolor": "#A2B1C6",
            "ticks": ""
           },
           "bgcolor": "white",
           "caxis": {
            "gridcolor": "#DFE8F3",
            "linecolor": "#A2B1C6",
            "ticks": ""
           }
          },
          "title": {
           "x": 0.05
          },
          "xaxis": {
           "automargin": true,
           "gridcolor": "#EBF0F8",
           "linecolor": "#EBF0F8",
           "ticks": "",
           "title": {
            "standoff": 15
           },
           "zerolinecolor": "#EBF0F8",
           "zerolinewidth": 2
          },
          "yaxis": {
           "automargin": true,
           "gridcolor": "#EBF0F8",
           "linecolor": "#EBF0F8",
           "ticks": "",
           "title": {
            "standoff": 15
           },
           "zerolinecolor": "#EBF0F8",
           "zerolinewidth": 2
          }
         }
        },
        "title": {
         "text": "Performance Metrics for Combined Weighted k-NN"
        },
        "xaxis": {
         "title": {
          "text": "Method"
         }
        },
        "yaxis": {
         "title": {
          "text": "Metric Value"
         }
        }
       }
      }
     },
     "metadata": {},
     "output_type": "display_data"
    }
   ],
   "source": [
    "class_names = {\n",
    "    \"Fundamental Service\": 1,\n",
    "    \"Complete Service\": 2,\n",
    "    \"Advanced Service\": 3,\n",
    "    \"E-Service\": 4,\n",
    "}\n",
    "\n",
    "for algorithm_name, algorithm_data in results.items():\n",
    "    # Initialize figure for each algorithm\n",
    "    fig = go.Figure()\n",
    "\n",
    "    # Plot Accuracy for each method\n",
    "    accuracy_values = [algorithm_data[method][\"Accuracy\"] for method in algorithm_data]\n",
    "    fig.add_trace(\n",
    "        go.Bar(\n",
    "            x=list(algorithm_data.keys()),\n",
    "            y=accuracy_values,\n",
    "            name=\"Accuracy\",\n",
    "            text=[f\"{val:.3f}\" for val in accuracy_values],  # Display values over bars\n",
    "            textposition=\"auto\",\n",
    "            marker_color=\"blue\",\n",
    "        )\n",
    "    )\n",
    "\n",
    "    # Plot Precision for each class\n",
    "    for class_name, class_index in class_names.items():\n",
    "        precision_values = [\n",
    "            algorithm_data[method][\"Precision\"][class_index]\n",
    "            for method in algorithm_data\n",
    "        ]\n",
    "        fig.add_trace(\n",
    "            go.Bar(\n",
    "                x=list(algorithm_data.keys()),\n",
    "                y=precision_values,\n",
    "                name=f\"Precision ({class_name})\",\n",
    "                text=[\n",
    "                    f\"{val:.3f}\" for val in precision_values\n",
    "                ],  # Display values over bars\n",
    "                textposition=\"auto\",\n",
    "                marker_color=f\"rgba(0, 255, {class_index*60}, 0.8)\",\n",
    "            )\n",
    "        )\n",
    "\n",
    "    # Plot Recall for each class\n",
    "    for class_name, class_index in class_names.items():\n",
    "        recall_values = [\n",
    "            algorithm_data[method][\"Recall\"][class_index] for method in algorithm_data\n",
    "        ]\n",
    "        fig.add_trace(\n",
    "            go.Bar(\n",
    "                x=list(algorithm_data.keys()),\n",
    "                y=recall_values,\n",
    "                name=f\"Recall ({class_name})\",\n",
    "                text=[\n",
    "                    f\"{val:.3f}\" for val in recall_values\n",
    "                ],  # Display values over bars\n",
    "                textposition=\"auto\",\n",
    "                marker_color=f\"rgba(255, 0, {class_index*60}, 0.8)\",\n",
    "            )\n",
    "        )\n",
    "\n",
    "    # Calculate overall precision and recall for each method\n",
    "    overall_precision_values = [\n",
    "        sum(algorithm_data[method][\"Precision\"].values())\n",
    "        / len(algorithm_data[method][\"Precision\"])\n",
    "        for method in algorithm_data\n",
    "    ]\n",
    "    overall_recall_values = [\n",
    "        sum(algorithm_data[method][\"Recall\"].values())\n",
    "        / len(algorithm_data[method][\"Recall\"])\n",
    "        for method in algorithm_data\n",
    "    ]\n",
    "\n",
    "    # Plot overall precision\n",
    "    fig.add_trace(\n",
    "        go.Bar(\n",
    "            x=list(algorithm_data.keys()),\n",
    "            y=overall_precision_values,\n",
    "            name=\"Overall Precision\",\n",
    "            text=[\n",
    "                f\"{val:.3f}\" for val in overall_precision_values\n",
    "            ],  # Display values over bars\n",
    "            textposition=\"auto\",\n",
    "            marker_color=\"green\",\n",
    "        )\n",
    "    )\n",
    "\n",
    "    # Plot overall recall\n",
    "    fig.add_trace(\n",
    "        go.Bar(\n",
    "            x=list(algorithm_data.keys()),\n",
    "            y=overall_recall_values,\n",
    "            name=\"Overall Recall\",\n",
    "            text=[\n",
    "                f\"{val:.3f}\" for val in overall_recall_values\n",
    "            ],  # Display values over bars\n",
    "            textposition=\"auto\",\n",
    "            marker_color=\"red\",\n",
    "        )\n",
    "    )\n",
    "\n",
    "    # Customize layout for each figure\n",
    "    fig.update_layout(\n",
    "        title=f\"Performance Metrics for {algorithm_name}\",\n",
    "        xaxis_title=\"Method\",\n",
    "        yaxis_title=\"Metric Value\",\n",
    "        barmode=\"group\",  # Group bars together\n",
    "        legend_title=\"Metrics\",\n",
    "        template=\"plotly_white\",\n",
    "    )\n",
    "\n",
    "    # Display the figure\n",
    "    fig.show()"
   ]
  },
  {
   "cell_type": "markdown",
   "metadata": {},
   "source": [
    "### Report: Performance Comparison of k-NN Variants Using Different Preprocessing Techniques\n",
    "\n",
    "This report presents the performance metrics of four k-Nearest Neighbors (k-NN) variants, evaluated using four different preprocessing techniques: **Raw**, **Scaled**, **Eliminated**, and **Eliminated Scaled**. The metrics considered are **Accuracy**, **Precision**, and **Recall** for four service categories, as well as the overall precision and recall for each method. The algorithms assessed include:\n",
    "\n",
    "1. **k-NN**\n",
    "2. **Weighted k-NN**\n",
    "3. **Class Frequency Weighted k-NN**\n",
    "4. **Combined Weighted k-NN**\n",
    "\n",
    "The four classes analyzed are:\n",
    "- **Fundamental Service**\n",
    "- **Complete Service**\n",
    "- **Advanced Service**\n",
    "- **E-Service**\n",
    "\n",
    "Performance is displayed through bar charts grouped by preprocessing techniques, with specific values shown on the bars for easy comparison. Below is an analysis of each graph and the insights drawn.\n",
    "\n",
    "---\n",
    "\n",
    "### 1. **k-NN Performance**\n",
    "\n",
    "#### Observations:\n",
    "- **Accuracy**: A significant improvement is observed in accuracy from the **Raw** method (around 0.31) to **Scaled** (0.945) and **Eliminated Scaled** (0.97). The **Eliminated** method shows only a slight improvement (around 0.35).\n",
    "  \n",
    "- **Precision and Recall**: The precision and recall metrics mirror this trend. For **Raw** data, precision and recall are low across all classes, especially for **E-Service** (Precision: ~0.270, Recall: ~0.227). In contrast, the **Scaled** and **Eliminated Scaled** methods show near-perfect precision and recall across all service categories, demonstrating a substantial improvement.\n",
    "\n",
    "- **Overall Precision and Recall**: These metrics are very high for **Scaled** and **Eliminated Scaled**, both approaching values of 1.0, highlighting how scaling the data improves the overall performance of the k-NN model.\n",
    "\n",
    "---\n",
    "\n",
    "### 2. **Weighted k-NN Performance**\n",
    "\n",
    "#### Observations:\n",
    "- **Accuracy**: The **Raw** method results in lower accuracy (~0.345), but **Scaled** and **Eliminated Scaled** significantly improve accuracy (0.945 and 0.97, respectively). The **Eliminated** method provides little improvement (~0.345).\n",
    "\n",
    "- **Precision and Recall**: Similar to the basic k-NN, the **Raw** method struggles in precision and recall, especially for **Advanced Service** and **E-Service** (Precision: ~0.315, Recall: ~0.272). On the other hand, the **Scaled** and **Eliminated Scaled** methods deliver near-perfect results for precision and recall across all services.\n",
    "\n",
    "- **Overall Precision and Recall**: Both metrics are nearly flawless (close to 1.0) for the **Scaled** and **Eliminated Scaled** methods, emphasizing that weighting combined with scaling dramatically improves the model's performance.\n",
    "\n",
    "---\n",
    "\n",
    "### 3. **Class Frequency Weighted k-NN Performance**\n",
    "\n",
    "#### Observations:\n",
    "- **Accuracy**: The **Raw** method again yields lower accuracy (~0.34), while accuracy improves substantially for **Scaled** (0.93) and **Eliminated Scaled** (0.965) methods. The **Eliminated** method shows slight improvement (~0.355).\n",
    "\n",
    "- **Precision and Recall**: Precision and recall are quite low for the **Raw** method, particularly for **Advanced Service** (Precision: ~0.311, Recall: ~0.25). However, both metrics reach near-perfect values for **Scaled** and **Eliminated Scaled**, indicating excellent class frequency-weighted performance.\n",
    "\n",
    "- **Overall Precision and Recall**: The overall metrics are strong for **Scaled** and **Eliminated Scaled**, with both methods approaching 1.0, showing their effectiveness in enhancing this k-NN variant.\n",
    "\n",
    "---\n",
    "\n",
    "### 4. **Combined Weighted k-NN Performance**\n",
    "\n",
    "#### Observations:\n",
    "- **Accuracy**: Consistent patterns are observed, with lower accuracy for **Raw** (~0.355) and dramatic improvements for **Scaled** (0.935) and **Eliminated Scaled** (0.965). The **Eliminated** method exhibits minimal gains (~0.345).\n",
    "\n",
    "- **Precision and Recall**: The **Raw** method continues to struggle, particularly in **Advanced Service** and **E-Service** (Precision: ~0.333, Recall: ~0.285). However, both **Scaled** and **Eliminated Scaled** methods demonstrate excellent performance, with values nearing 1.0 for precision and recall across all services.\n",
    "\n",
    "- **Overall Precision and Recall**: **Scaled** and **Eliminated Scaled** preprocessing techniques yield near-perfect overall metrics, reinforcing that scaling is a crucial step in improving performance for the combined weighting strategy.\n",
    "\n",
    "---\n",
    "\n",
    "### Key Takeaways:\n",
    "\n",
    "1. **Raw Data**: Across all variants, the **Raw** method underperforms, particularly for precision and recall in **Advanced Service** and **E-Service**. It also results in lower overall precision and recall.\n",
    "\n",
    "2. **Scaled Data**: Scaling consistently enhances performance for all algorithms, achieving near-perfect accuracy, precision, and recall across all service categories.\n",
    "\n",
    "3. **Eliminated Method**: While feature elimination alone provides some improvement, it is significantly less effective than scaling.\n",
    "\n",
    "4. **Eliminated Scaled Method**: Combining feature elimination with scaling yields the best results, with near-perfect metrics across all variants.\n",
    "\n",
    "5. **Class-wise Performance**: The **Advanced Service** and **E-Service** classes tend to perform poorly with the **Raw** method, but scaling and elimination dramatically improve their precision and recall.\n",
    "\n",
    "---\n",
    "\n",
    "### Conclusion:\n",
    "\n",
    "The use of **Scaled** and **Eliminated Scaled** preprocessing techniques significantly boosts the performance of all k-NN variants across key metrics such as accuracy, precision, and recall. The **Raw** method generally underperforms, particularly for **Advanced Service** and **E-Service**, while scaling leads to substantial improvements across the board. This analysis underscores the critical role of preprocessing, particularly scaling, in optimizing k-NN and its variants for superior performance in service classification tasks."
   ]
  }
 ],
 "metadata": {
  "kernelspec": {
   "display_name": "jupyterEnv",
   "language": "python",
   "name": "python3"
  },
  "language_info": {
   "codemirror_mode": {
    "name": "ipython",
    "version": 3
   },
   "file_extension": ".py",
   "mimetype": "text/x-python",
   "name": "python",
   "nbconvert_exporter": "python",
   "pygments_lexer": "ipython3",
   "version": "3.13.0"
  }
 },
 "nbformat": 4,
 "nbformat_minor": 2
}
