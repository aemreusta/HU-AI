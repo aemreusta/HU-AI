{
 "cells": [
  {
   "attachments": {},
   "cell_type": "markdown",
   "metadata": {},
   "source": [
    "#### Soru 1 - robojump"
   ]
  },
  {
   "cell_type": "code",
   "execution_count": 3,
   "metadata": {},
   "outputs": [],
   "source": [
    "def robojump(x1, v1, x2, v2):\n",
    "    prev_factor = abs(x1 - x2)\n",
    "\n",
    "    while True:\n",
    "        x1 += v1\n",
    "        x2 += v2\n",
    "\n",
    "        if x1 == x2:\n",
    "            return True\n",
    "\n",
    "        new_factor = abs(x1 - x2)\n",
    "\n",
    "        if new_factor >= prev_factor:\n",
    "            return False\n",
    "\n",
    "        prev_factor = new_factor"
   ]
  },
  {
   "cell_type": "code",
   "execution_count": 4,
   "metadata": {},
   "outputs": [
    {
     "name": "stdout",
     "output_type": "stream",
     "text": [
      "True\n",
      "True\n",
      "False\n",
      "False\n"
     ]
    }
   ],
   "source": [
    "# robojump test\n",
    "print(robojump(2, 1, 1, 2))\n",
    "print(robojump(0, 3, 4, 2))\n",
    "print(robojump(0, 2, 5, 3))\n",
    "print(robojump(2, 2, 5, 3))"
   ]
  },
  {
   "attachments": {},
   "cell_type": "markdown",
   "metadata": {},
   "source": [
    "#### Soru 2 - contest"
   ]
  },
  {
   "cell_type": "code",
   "execution_count": 5,
   "metadata": {},
   "outputs": [],
   "source": [
    "def contest(filename: str):\n",
    "    with open(filename, \"r\") as f:\n",
    "        data = [list(map(int, i.split())) for i in f.readlines()]\n",
    "    f.close()\n",
    "\n",
    "    dictionary = {}\n",
    "    liste = []\n",
    "\n",
    "    for i in range(len(data)):\n",
    "        dictionary[i + 1] = 0\n",
    "\n",
    "    for j in range(len(data[0])):\n",
    "        max1 = 0\n",
    "        liste = []\n",
    "\n",
    "        for i in range(len(data)):\n",
    "            liste.append(data[i][j])\n",
    "\n",
    "        max1 = max(liste)\n",
    "\n",
    "        for k in range(len(liste)):\n",
    "            if liste[k] == max1:\n",
    "                dictionary[k + 1] += 1\n",
    "\n",
    "    kazananlar = []\n",
    "    max2 = 0\n",
    "\n",
    "    for i in dictionary:\n",
    "        if dictionary[i] > max2:\n",
    "            max2 = i\n",
    "\n",
    "    for k in dictionary:\n",
    "        if dictionary[k] == max2:\n",
    "            kazananlar.append(k)\n",
    "\n",
    "    for yarismaci in dictionary.keys():\n",
    "        print(f\"{yarismaci}. Yarismaci: {dictionary[yarismaci]}  puan\")\n",
    "\n",
    "    if len(kazananlar) == 1:\n",
    "        print(f\"Kazanan: {kazananlar[0]}\")\n",
    "\n",
    "    elif len(kazananlar) > 1:\n",
    "        result = \"Kazananlar: \"\n",
    "        for yarismaci in kazananlar:\n",
    "            result += f\" {yarismaci} \"\n",
    "        print(result)"
   ]
  },
  {
   "cell_type": "code",
   "execution_count": 6,
   "metadata": {},
   "outputs": [
    {
     "name": "stdout",
     "output_type": "stream",
     "text": [
      "1. Yarismaci: 2  puan\n",
      "2. Yarismaci: 1  puan\n",
      "3. Yarismaci: 3  puan\n",
      "Kazanan: 3\n"
     ]
    }
   ],
   "source": [
    "# contest test\n",
    "contest(\"yarisma.txt\")"
   ]
  },
  {
   "attachments": {},
   "cell_type": "markdown",
   "metadata": {},
   "source": [
    "#### Soru 3 - scoreboard"
   ]
  },
  {
   "cell_type": "code",
   "execution_count": 7,
   "metadata": {},
   "outputs": [],
   "source": [
    "def scoreboard(ranklist: list, scores: list):\n",
    "    for score in scores:\n",
    "        # for i, j in enumerate(ranklist):\n",
    "        for i in range(len(ranklist)):\n",
    "            j = ranklist[i]\n",
    "\n",
    "            if score > j:\n",
    "                ranklist.insert(i, score)\n",
    "                counter = 0\n",
    "                temp = 0\n",
    "\n",
    "                while temp < i + 1:\n",
    "                    if ranklist[temp] == score:\n",
    "                        print(counter + 1)\n",
    "                        break\n",
    "\n",
    "                    if ranklist[temp] != ranklist[temp + 1]:\n",
    "                        counter += 1\n",
    "                    temp += 1\n",
    "                break\n",
    "\n",
    "            elif i == len(ranklist) - 1:\n",
    "                print(i)\n",
    "                ranklist.append(score)"
   ]
  },
  {
   "cell_type": "code",
   "execution_count": 8,
   "metadata": {},
   "outputs": [
    {
     "name": "stdout",
     "output_type": "stream",
     "text": [
      "6\n",
      "4\n",
      "2\n",
      "1\n"
     ]
    }
   ],
   "source": [
    "# scoreboard test\n",
    "ranklist = [100, 100, 50, 40, 40, 20, 10]\n",
    "scores = [5, 25, 50, 120]\n",
    "scoreboard(ranklist, scores)"
   ]
  },
  {
   "cell_type": "code",
   "execution_count": null,
   "metadata": {},
   "outputs": [],
   "source": []
  }
 ],
 "metadata": {
  "kernelspec": {
   "display_name": "base",
   "language": "python",
   "name": "python3"
  },
  "language_info": {
   "codemirror_mode": {
    "name": "ipython",
    "version": 3
   },
   "file_extension": ".py",
   "mimetype": "text/x-python",
   "name": "python",
   "nbconvert_exporter": "python",
   "pygments_lexer": "ipython3",
   "version": "3.10.8 | packaged by conda-forge | (main, Nov 22 2022, 08:25:29) [Clang 14.0.6 ]"
  },
  "orig_nbformat": 4,
  "vscode": {
   "interpreter": {
    "hash": "191e8243bcb8f5aab0ea97bfa9c85ee018985bacfde1d91fb59780354c237e7a"
   }
  }
 },
 "nbformat": 4,
 "nbformat_minor": 2
}
