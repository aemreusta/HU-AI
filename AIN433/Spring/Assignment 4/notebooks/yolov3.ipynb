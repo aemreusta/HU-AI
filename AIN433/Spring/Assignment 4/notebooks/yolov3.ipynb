{
 "cells": [
  {
   "cell_type": "markdown",
   "id": "d056efd2",
   "metadata": {
    "id": "d056efd2"
   },
   "source": [
    "\n",
    "# YOLOv3\n",
    "\n",
    "You can implement YOLOv3-tiny by the same way"
   ]
  },
  {
   "cell_type": "code",
   "execution_count": null,
   "id": "9TBjn9kUABV8",
   "metadata": {
    "colab": {
     "base_uri": "https://localhost:8080/"
    },
    "id": "9TBjn9kUABV8",
    "outputId": "33370be5-c387-42ed-96e9-1de9ade670f1"
   },
   "outputs": [
    {
     "name": "stdout",
     "output_type": "stream",
     "text": [
      "Cloning into 'PyTorch-YOLOv3'...\n",
      "remote: Enumerating objects: 2006, done.\u001b[K\n",
      "remote: Counting objects: 100% (36/36), done.\u001b[K\n",
      "remote: Compressing objects: 100% (35/35), done.\u001b[K\n",
      "remote: Total 2006 (delta 17), reused 10 (delta 1), pack-reused 1970\u001b[K\n",
      "Receiving objects: 100% (2006/2006), 16.73 MiB | 30.97 MiB/s, done.\n",
      "Resolving deltas: 100% (1201/1201), done.\n",
      "/content/PyTorch-YOLOv3\n"
     ]
    }
   ],
   "source": [
    "# Clone the repository\n",
    "!git clone https://github.com/eriklindernoren/PyTorch-YOLOv3\n",
    "%cd PyTorch-YOLOv3/"
   ]
  },
  {
   "cell_type": "code",
   "execution_count": null,
   "id": "tB5cHjURABhr",
   "metadata": {
    "colab": {
     "base_uri": "https://localhost:8080/"
    },
    "id": "tB5cHjURABhr",
    "outputId": "3ea8be6a-666b-4add-8d93-192f059005cb"
   },
   "outputs": [
    {
     "name": "stdout",
     "output_type": "stream",
     "text": [
      "Requirement already satisfied: torch in /usr/local/lib/python3.10/dist-packages (2.2.1+cu121)\n",
      "Requirement already satisfied: torchvision in /usr/local/lib/python3.10/dist-packages (0.17.1+cu121)\n",
      "Requirement already satisfied: numpy in /usr/local/lib/python3.10/dist-packages (1.25.2)\n",
      "Requirement already satisfied: matplotlib in /usr/local/lib/python3.10/dist-packages (3.7.1)\n",
      "Requirement already satisfied: tqdm in /usr/local/lib/python3.10/dist-packages (4.66.4)\n",
      "Requirement already satisfied: filelock in /usr/local/lib/python3.10/dist-packages (from torch) (3.14.0)\n",
      "Requirement already satisfied: typing-extensions>=4.8.0 in /usr/local/lib/python3.10/dist-packages (from torch) (4.11.0)\n",
      "Requirement already satisfied: sympy in /usr/local/lib/python3.10/dist-packages (from torch) (1.12)\n",
      "Requirement already satisfied: networkx in /usr/local/lib/python3.10/dist-packages (from torch) (3.3)\n",
      "Requirement already satisfied: jinja2 in /usr/local/lib/python3.10/dist-packages (from torch) (3.1.4)\n",
      "Requirement already satisfied: fsspec in /usr/local/lib/python3.10/dist-packages (from torch) (2023.6.0)\n",
      "Collecting nvidia-cuda-nvrtc-cu12==12.1.105 (from torch)\n",
      "  Using cached nvidia_cuda_nvrtc_cu12-12.1.105-py3-none-manylinux1_x86_64.whl (23.7 MB)\n",
      "Collecting nvidia-cuda-runtime-cu12==12.1.105 (from torch)\n",
      "  Using cached nvidia_cuda_runtime_cu12-12.1.105-py3-none-manylinux1_x86_64.whl (823 kB)\n",
      "Collecting nvidia-cuda-cupti-cu12==12.1.105 (from torch)\n",
      "  Using cached nvidia_cuda_cupti_cu12-12.1.105-py3-none-manylinux1_x86_64.whl (14.1 MB)\n",
      "Collecting nvidia-cudnn-cu12==8.9.2.26 (from torch)\n",
      "  Using cached nvidia_cudnn_cu12-8.9.2.26-py3-none-manylinux1_x86_64.whl (731.7 MB)\n",
      "Collecting nvidia-cublas-cu12==12.1.3.1 (from torch)\n",
      "  Using cached nvidia_cublas_cu12-12.1.3.1-py3-none-manylinux1_x86_64.whl (410.6 MB)\n",
      "Collecting nvidia-cufft-cu12==11.0.2.54 (from torch)\n",
      "  Using cached nvidia_cufft_cu12-11.0.2.54-py3-none-manylinux1_x86_64.whl (121.6 MB)\n",
      "Collecting nvidia-curand-cu12==10.3.2.106 (from torch)\n",
      "  Using cached nvidia_curand_cu12-10.3.2.106-py3-none-manylinux1_x86_64.whl (56.5 MB)\n",
      "Collecting nvidia-cusolver-cu12==11.4.5.107 (from torch)\n",
      "  Using cached nvidia_cusolver_cu12-11.4.5.107-py3-none-manylinux1_x86_64.whl (124.2 MB)\n",
      "Collecting nvidia-cusparse-cu12==12.1.0.106 (from torch)\n",
      "  Using cached nvidia_cusparse_cu12-12.1.0.106-py3-none-manylinux1_x86_64.whl (196.0 MB)\n",
      "Collecting nvidia-nccl-cu12==2.19.3 (from torch)\n",
      "  Using cached nvidia_nccl_cu12-2.19.3-py3-none-manylinux1_x86_64.whl (166.0 MB)\n",
      "Collecting nvidia-nvtx-cu12==12.1.105 (from torch)\n",
      "  Using cached nvidia_nvtx_cu12-12.1.105-py3-none-manylinux1_x86_64.whl (99 kB)\n",
      "Requirement already satisfied: triton==2.2.0 in /usr/local/lib/python3.10/dist-packages (from torch) (2.2.0)\n",
      "Collecting nvidia-nvjitlink-cu12 (from nvidia-cusolver-cu12==11.4.5.107->torch)\n",
      "  Using cached nvidia_nvjitlink_cu12-12.4.127-py3-none-manylinux2014_x86_64.whl (21.1 MB)\n",
      "Requirement already satisfied: pillow!=8.3.*,>=5.3.0 in /usr/local/lib/python3.10/dist-packages (from torchvision) (9.4.0)\n",
      "Requirement already satisfied: contourpy>=1.0.1 in /usr/local/lib/python3.10/dist-packages (from matplotlib) (1.2.1)\n",
      "Requirement already satisfied: cycler>=0.10 in /usr/local/lib/python3.10/dist-packages (from matplotlib) (0.12.1)\n",
      "Requirement already satisfied: fonttools>=4.22.0 in /usr/local/lib/python3.10/dist-packages (from matplotlib) (4.51.0)\n",
      "Requirement already satisfied: kiwisolver>=1.0.1 in /usr/local/lib/python3.10/dist-packages (from matplotlib) (1.4.5)\n",
      "Requirement already satisfied: packaging>=20.0 in /usr/local/lib/python3.10/dist-packages (from matplotlib) (24.0)\n",
      "Requirement already satisfied: pyparsing>=2.3.1 in /usr/local/lib/python3.10/dist-packages (from matplotlib) (3.1.2)\n",
      "Requirement already satisfied: python-dateutil>=2.7 in /usr/local/lib/python3.10/dist-packages (from matplotlib) (2.8.2)\n",
      "Requirement already satisfied: six>=1.5 in /usr/local/lib/python3.10/dist-packages (from python-dateutil>=2.7->matplotlib) (1.16.0)\n",
      "Requirement already satisfied: MarkupSafe>=2.0 in /usr/local/lib/python3.10/dist-packages (from jinja2->torch) (2.1.5)\n",
      "Requirement already satisfied: mpmath>=0.19 in /usr/local/lib/python3.10/dist-packages (from sympy->torch) (1.3.0)\n",
      "Installing collected packages: nvidia-nvtx-cu12, nvidia-nvjitlink-cu12, nvidia-nccl-cu12, nvidia-curand-cu12, nvidia-cufft-cu12, nvidia-cuda-runtime-cu12, nvidia-cuda-nvrtc-cu12, nvidia-cuda-cupti-cu12, nvidia-cublas-cu12, nvidia-cusparse-cu12, nvidia-cudnn-cu12, nvidia-cusolver-cu12\n",
      "Successfully installed nvidia-cublas-cu12-12.1.3.1 nvidia-cuda-cupti-cu12-12.1.105 nvidia-cuda-nvrtc-cu12-12.1.105 nvidia-cuda-runtime-cu12-12.1.105 nvidia-cudnn-cu12-8.9.2.26 nvidia-cufft-cu12-11.0.2.54 nvidia-curand-cu12-10.3.2.106 nvidia-cusolver-cu12-11.4.5.107 nvidia-cusparse-cu12-12.1.0.106 nvidia-nccl-cu12-2.19.3 nvidia-nvjitlink-cu12-12.4.127 nvidia-nvtx-cu12-12.1.105\n"
     ]
    }
   ],
   "source": [
    "!pip install torch torchvision numpy matplotlib tqdm"
   ]
  },
  {
   "cell_type": "code",
   "execution_count": null,
   "id": "WnCt2zzbDvwW",
   "metadata": {
    "colab": {
     "base_uri": "https://localhost:8080/"
    },
    "id": "WnCt2zzbDvwW",
    "outputId": "99752452-f38f-4d21-f49b-b3238a79c128"
   },
   "outputs": [
    {
     "name": "stdout",
     "output_type": "stream",
     "text": [
      "Collecting pytorchyolo\n",
      "  Downloading pytorchyolo-1.8.0-py3-none-any.whl (42 kB)\n",
      "\u001b[2K     \u001b[90m━━━━━━━━━━━━━━━━━━━━━━━━━━━━━━━━━━━━━━━━\u001b[0m \u001b[32m42.9/42.9 kB\u001b[0m \u001b[31m1.5 MB/s\u001b[0m eta \u001b[36m0:00:00\u001b[0m\n",
      "\u001b[?25hRequirement already satisfied: Pillow<10.0.0,>=9.1.0 in /usr/local/lib/python3.10/dist-packages (from pytorchyolo) (9.4.0)\n",
      "Requirement already satisfied: imgaug<0.5.0,>=0.4.0 in /usr/local/lib/python3.10/dist-packages (from pytorchyolo) (0.4.0)\n",
      "Requirement already satisfied: matplotlib<4.0.0,>=3.3.3 in /usr/local/lib/python3.10/dist-packages (from pytorchyolo) (3.7.1)\n",
      "Requirement already satisfied: numpy<2.0.0,>=1.23.4 in /usr/local/lib/python3.10/dist-packages (from pytorchyolo) (1.25.2)\n",
      "Requirement already satisfied: scipy<2.0,>=1.9 in /usr/local/lib/python3.10/dist-packages (from pytorchyolo) (1.11.4)\n",
      "Requirement already satisfied: tensorboard<3.0.0,>=2.10.0 in /usr/local/lib/python3.10/dist-packages (from pytorchyolo) (2.15.2)\n",
      "Collecting terminaltables<4.0.0,>=3.1.0 (from pytorchyolo)\n",
      "  Downloading terminaltables-3.1.10-py2.py3-none-any.whl (15 kB)\n",
      "Collecting torch<1.13.0,>=1.10.1 (from pytorchyolo)\n",
      "  Downloading torch-1.12.1-cp310-cp310-manylinux1_x86_64.whl (776.3 MB)\n",
      "\u001b[2K     \u001b[90m━━━━━━━━━━━━━━━━━━━━━━━━━━━━━━━━━━━━━━━━\u001b[0m \u001b[32m776.3/776.3 MB\u001b[0m \u001b[31m2.0 MB/s\u001b[0m eta \u001b[36m0:00:00\u001b[0m\n",
      "\u001b[?25hRequirement already satisfied: torchsummary<2.0.0,>=1.5.1 in /usr/local/lib/python3.10/dist-packages (from pytorchyolo) (1.5.1)\n",
      "Requirement already satisfied: torchvision>=0.13.1 in /usr/local/lib/python3.10/dist-packages (from pytorchyolo) (0.17.1+cu121)\n",
      "Requirement already satisfied: tqdm<5.0.0,>=4.64.1 in /usr/local/lib/python3.10/dist-packages (from pytorchyolo) (4.66.4)\n",
      "Collecting urllib3<2.0,>=1.23 (from pytorchyolo)\n",
      "  Downloading urllib3-1.26.18-py2.py3-none-any.whl (143 kB)\n",
      "\u001b[2K     \u001b[90m━━━━━━━━━━━━━━━━━━━━━━━━━━━━━━━━━━━━━━━━\u001b[0m \u001b[32m143.8/143.8 kB\u001b[0m \u001b[31m13.8 MB/s\u001b[0m eta \u001b[36m0:00:00\u001b[0m\n",
      "\u001b[?25hRequirement already satisfied: six in /usr/local/lib/python3.10/dist-packages (from imgaug<0.5.0,>=0.4.0->pytorchyolo) (1.16.0)\n",
      "Requirement already satisfied: scikit-image>=0.14.2 in /usr/local/lib/python3.10/dist-packages (from imgaug<0.5.0,>=0.4.0->pytorchyolo) (0.19.3)\n",
      "Requirement already satisfied: opencv-python in /usr/local/lib/python3.10/dist-packages (from imgaug<0.5.0,>=0.4.0->pytorchyolo) (4.8.0.76)\n",
      "Requirement already satisfied: imageio in /usr/local/lib/python3.10/dist-packages (from imgaug<0.5.0,>=0.4.0->pytorchyolo) (2.31.6)\n",
      "Requirement already satisfied: Shapely in /usr/local/lib/python3.10/dist-packages (from imgaug<0.5.0,>=0.4.0->pytorchyolo) (2.0.4)\n",
      "Requirement already satisfied: contourpy>=1.0.1 in /usr/local/lib/python3.10/dist-packages (from matplotlib<4.0.0,>=3.3.3->pytorchyolo) (1.2.1)\n",
      "Requirement already satisfied: cycler>=0.10 in /usr/local/lib/python3.10/dist-packages (from matplotlib<4.0.0,>=3.3.3->pytorchyolo) (0.12.1)\n",
      "Requirement already satisfied: fonttools>=4.22.0 in /usr/local/lib/python3.10/dist-packages (from matplotlib<4.0.0,>=3.3.3->pytorchyolo) (4.51.0)\n",
      "Requirement already satisfied: kiwisolver>=1.0.1 in /usr/local/lib/python3.10/dist-packages (from matplotlib<4.0.0,>=3.3.3->pytorchyolo) (1.4.5)\n",
      "Requirement already satisfied: packaging>=20.0 in /usr/local/lib/python3.10/dist-packages (from matplotlib<4.0.0,>=3.3.3->pytorchyolo) (24.0)\n",
      "Requirement already satisfied: pyparsing>=2.3.1 in /usr/local/lib/python3.10/dist-packages (from matplotlib<4.0.0,>=3.3.3->pytorchyolo) (3.1.2)\n",
      "Requirement already satisfied: python-dateutil>=2.7 in /usr/local/lib/python3.10/dist-packages (from matplotlib<4.0.0,>=3.3.3->pytorchyolo) (2.8.2)\n",
      "Requirement already satisfied: absl-py>=0.4 in /usr/local/lib/python3.10/dist-packages (from tensorboard<3.0.0,>=2.10.0->pytorchyolo) (1.4.0)\n",
      "Requirement already satisfied: grpcio>=1.48.2 in /usr/local/lib/python3.10/dist-packages (from tensorboard<3.0.0,>=2.10.0->pytorchyolo) (1.63.0)\n",
      "Requirement already satisfied: google-auth<3,>=1.6.3 in /usr/local/lib/python3.10/dist-packages (from tensorboard<3.0.0,>=2.10.0->pytorchyolo) (2.27.0)\n",
      "Requirement already satisfied: google-auth-oauthlib<2,>=0.5 in /usr/local/lib/python3.10/dist-packages (from tensorboard<3.0.0,>=2.10.0->pytorchyolo) (1.2.0)\n",
      "Requirement already satisfied: markdown>=2.6.8 in /usr/local/lib/python3.10/dist-packages (from tensorboard<3.0.0,>=2.10.0->pytorchyolo) (3.6)\n",
      "Requirement already satisfied: protobuf!=4.24.0,>=3.19.6 in /usr/local/lib/python3.10/dist-packages (from tensorboard<3.0.0,>=2.10.0->pytorchyolo) (3.20.3)\n",
      "Requirement already satisfied: requests<3,>=2.21.0 in /usr/local/lib/python3.10/dist-packages (from tensorboard<3.0.0,>=2.10.0->pytorchyolo) (2.31.0)\n",
      "Requirement already satisfied: setuptools>=41.0.0 in /usr/local/lib/python3.10/dist-packages (from tensorboard<3.0.0,>=2.10.0->pytorchyolo) (67.7.2)\n",
      "Requirement already satisfied: tensorboard-data-server<0.8.0,>=0.7.0 in /usr/local/lib/python3.10/dist-packages (from tensorboard<3.0.0,>=2.10.0->pytorchyolo) (0.7.2)\n",
      "Requirement already satisfied: werkzeug>=1.0.1 in /usr/local/lib/python3.10/dist-packages (from tensorboard<3.0.0,>=2.10.0->pytorchyolo) (3.0.3)\n",
      "Requirement already satisfied: typing-extensions in /usr/local/lib/python3.10/dist-packages (from torch<1.13.0,>=1.10.1->pytorchyolo) (4.11.0)\n",
      "INFO: pip is looking at multiple versions of torchvision to determine which version is compatible with other requirements. This could take a while.\n",
      "Collecting torchvision>=0.13.1 (from pytorchyolo)\n",
      "  Downloading torchvision-0.18.0-cp310-cp310-manylinux1_x86_64.whl (7.0 MB)\n",
      "\u001b[2K     \u001b[90m━━━━━━━━━━━━━━━━━━━━━━━━━━━━━━━━━━━━━━━━\u001b[0m \u001b[32m7.0/7.0 MB\u001b[0m \u001b[31m57.4 MB/s\u001b[0m eta \u001b[36m0:00:00\u001b[0m\n",
      "\u001b[?25h  Downloading torchvision-0.17.2-cp310-cp310-manylinux1_x86_64.whl (6.9 MB)\n",
      "\u001b[2K     \u001b[90m━━━━━━━━━━━━━━━━━━━━━━━━━━━━━━━━━━━━━━━━\u001b[0m \u001b[32m6.9/6.9 MB\u001b[0m \u001b[31m55.6 MB/s\u001b[0m eta \u001b[36m0:00:00\u001b[0m\n",
      "\u001b[?25h  Downloading torchvision-0.17.1-cp310-cp310-manylinux1_x86_64.whl (6.9 MB)\n",
      "\u001b[2K     \u001b[90m━━━━━━━━━━━━━━━━━━━━━━━━━━━━━━━━━━━━━━━━\u001b[0m \u001b[32m6.9/6.9 MB\u001b[0m \u001b[31m56.7 MB/s\u001b[0m eta \u001b[36m0:00:00\u001b[0m\n",
      "\u001b[?25h  Downloading torchvision-0.17.0-cp310-cp310-manylinux1_x86_64.whl (6.9 MB)\n",
      "\u001b[2K     \u001b[90m━━━━━━━━━━━━━━━━━━━━━━━━━━━━━━━━━━━━━━━━\u001b[0m \u001b[32m6.9/6.9 MB\u001b[0m \u001b[31m59.2 MB/s\u001b[0m eta \u001b[36m0:00:00\u001b[0m\n",
      "\u001b[?25h  Downloading torchvision-0.16.2-cp310-cp310-manylinux1_x86_64.whl (6.8 MB)\n",
      "\u001b[2K     \u001b[90m━━━━━━━━━━━━━━━━━━━━━━━━━━━━━━━━━━━━━━━━\u001b[0m \u001b[32m6.8/6.8 MB\u001b[0m \u001b[31m57.8 MB/s\u001b[0m eta \u001b[36m0:00:00\u001b[0m\n",
      "\u001b[?25h  Downloading torchvision-0.16.1-cp310-cp310-manylinux1_x86_64.whl (6.8 MB)\n",
      "\u001b[2K     \u001b[90m━━━━━━━━━━━━━━━━━━━━━━━━━━━━━━━━━━━━━━━━\u001b[0m \u001b[32m6.8/6.8 MB\u001b[0m \u001b[31m67.5 MB/s\u001b[0m eta \u001b[36m0:00:00\u001b[0m\n",
      "\u001b[?25h  Downloading torchvision-0.16.0-cp310-cp310-manylinux1_x86_64.whl (6.9 MB)\n",
      "\u001b[2K     \u001b[90m━━━━━━━━━━━━━━━━━━━━━━━━━━━━━━━━━━━━━━━━\u001b[0m \u001b[32m6.9/6.9 MB\u001b[0m \u001b[31m85.7 MB/s\u001b[0m eta \u001b[36m0:00:00\u001b[0m\n",
      "\u001b[?25hINFO: pip is looking at multiple versions of torchvision to determine which version is compatible with other requirements. This could take a while.\n",
      "  Downloading torchvision-0.15.2-cp310-cp310-manylinux1_x86_64.whl (6.0 MB)\n",
      "\u001b[2K     \u001b[90m━━━━━━━━━━━━━━━━━━━━━━━━━━━━━━━━━━━━━━━━\u001b[0m \u001b[32m6.0/6.0 MB\u001b[0m \u001b[31m81.0 MB/s\u001b[0m eta \u001b[36m0:00:00\u001b[0m\n",
      "\u001b[?25h  Downloading torchvision-0.15.1-cp310-cp310-manylinux1_x86_64.whl (6.0 MB)\n",
      "\u001b[2K     \u001b[90m━━━━━━━━━━━━━━━━━━━━━━━━━━━━━━━━━━━━━━━━\u001b[0m \u001b[32m6.0/6.0 MB\u001b[0m \u001b[31m90.6 MB/s\u001b[0m eta \u001b[36m0:00:00\u001b[0m\n",
      "\u001b[?25h  Downloading torchvision-0.14.1-cp310-cp310-manylinux1_x86_64.whl (24.2 MB)\n",
      "\u001b[2K     \u001b[90m━━━━━━━━━━━━━━━━━━━━━━━━━━━━━━━━━━━━━━━━\u001b[0m \u001b[32m24.2/24.2 MB\u001b[0m \u001b[31m14.8 MB/s\u001b[0m eta \u001b[36m0:00:00\u001b[0m\n",
      "\u001b[?25h  Downloading torchvision-0.14.0-cp310-cp310-manylinux1_x86_64.whl (24.3 MB)\n",
      "\u001b[2K     \u001b[90m━━━━━━━━━━━━━━━━━━━━━━━━━━━━━━━━━━━━━━━━\u001b[0m \u001b[32m24.3/24.3 MB\u001b[0m \u001b[31m55.7 MB/s\u001b[0m eta \u001b[36m0:00:00\u001b[0m\n",
      "\u001b[?25h  Downloading torchvision-0.13.1-cp310-cp310-manylinux1_x86_64.whl (19.1 MB)\n",
      "\u001b[2K     \u001b[90m━━━━━━━━━━━━━━━━━━━━━━━━━━━━━━━━━━━━━━━━\u001b[0m \u001b[32m19.1/19.1 MB\u001b[0m \u001b[31m69.2 MB/s\u001b[0m eta \u001b[36m0:00:00\u001b[0m\n",
      "\u001b[?25hRequirement already satisfied: cachetools<6.0,>=2.0.0 in /usr/local/lib/python3.10/dist-packages (from google-auth<3,>=1.6.3->tensorboard<3.0.0,>=2.10.0->pytorchyolo) (5.3.3)\n",
      "Requirement already satisfied: pyasn1-modules>=0.2.1 in /usr/local/lib/python3.10/dist-packages (from google-auth<3,>=1.6.3->tensorboard<3.0.0,>=2.10.0->pytorchyolo) (0.4.0)\n",
      "Requirement already satisfied: rsa<5,>=3.1.4 in /usr/local/lib/python3.10/dist-packages (from google-auth<3,>=1.6.3->tensorboard<3.0.0,>=2.10.0->pytorchyolo) (4.9)\n",
      "Requirement already satisfied: requests-oauthlib>=0.7.0 in /usr/local/lib/python3.10/dist-packages (from google-auth-oauthlib<2,>=0.5->tensorboard<3.0.0,>=2.10.0->pytorchyolo) (1.3.1)\n",
      "Requirement already satisfied: charset-normalizer<4,>=2 in /usr/local/lib/python3.10/dist-packages (from requests<3,>=2.21.0->tensorboard<3.0.0,>=2.10.0->pytorchyolo) (3.3.2)\n",
      "Requirement already satisfied: idna<4,>=2.5 in /usr/local/lib/python3.10/dist-packages (from requests<3,>=2.21.0->tensorboard<3.0.0,>=2.10.0->pytorchyolo) (3.7)\n",
      "Requirement already satisfied: certifi>=2017.4.17 in /usr/local/lib/python3.10/dist-packages (from requests<3,>=2.21.0->tensorboard<3.0.0,>=2.10.0->pytorchyolo) (2024.2.2)\n",
      "Requirement already satisfied: networkx>=2.2 in /usr/local/lib/python3.10/dist-packages (from scikit-image>=0.14.2->imgaug<0.5.0,>=0.4.0->pytorchyolo) (3.3)\n",
      "Requirement already satisfied: tifffile>=2019.7.26 in /usr/local/lib/python3.10/dist-packages (from scikit-image>=0.14.2->imgaug<0.5.0,>=0.4.0->pytorchyolo) (2024.5.3)\n",
      "Requirement already satisfied: PyWavelets>=1.1.1 in /usr/local/lib/python3.10/dist-packages (from scikit-image>=0.14.2->imgaug<0.5.0,>=0.4.0->pytorchyolo) (1.6.0)\n",
      "Requirement already satisfied: MarkupSafe>=2.1.1 in /usr/local/lib/python3.10/dist-packages (from werkzeug>=1.0.1->tensorboard<3.0.0,>=2.10.0->pytorchyolo) (2.1.5)\n",
      "Requirement already satisfied: pyasn1<0.7.0,>=0.4.6 in /usr/local/lib/python3.10/dist-packages (from pyasn1-modules>=0.2.1->google-auth<3,>=1.6.3->tensorboard<3.0.0,>=2.10.0->pytorchyolo) (0.6.0)\n",
      "Requirement already satisfied: oauthlib>=3.0.0 in /usr/local/lib/python3.10/dist-packages (from requests-oauthlib>=0.7.0->google-auth-oauthlib<2,>=0.5->tensorboard<3.0.0,>=2.10.0->pytorchyolo) (3.2.2)\n",
      "Installing collected packages: urllib3, torch, terminaltables, torchvision, pytorchyolo\n",
      "\u001b[33m  WARNING: The scripts convert-caffe2-to-onnx, convert-onnx-to-caffe2 and torchrun are installed in '/root/.local/bin' which is not on PATH.\n",
      "  Consider adding this directory to PATH or, if you prefer to suppress this warning, use --no-warn-script-location.\u001b[0m\u001b[33m\n",
      "\u001b[0m\u001b[33m  WARNING: The scripts yolo-detect, yolo-test and yolo-train are installed in '/root/.local/bin' which is not on PATH.\n",
      "  Consider adding this directory to PATH or, if you prefer to suppress this warning, use --no-warn-script-location.\u001b[0m\u001b[33m\n",
      "\u001b[0m\u001b[31mERROR: pip's dependency resolver does not currently take into account all the packages that are installed. This behaviour is the source of the following dependency conflicts.\n",
      "torchaudio 2.2.1+cu121 requires torch==2.2.1, but you have torch 1.12.1 which is incompatible.\n",
      "torchdata 0.7.1 requires torch>=2, but you have torch 1.12.1 which is incompatible.\n",
      "torchtext 0.17.1 requires torch==2.2.1, but you have torch 1.12.1 which is incompatible.\u001b[0m\u001b[31m\n",
      "\u001b[0mSuccessfully installed pytorchyolo-1.8.0 terminaltables-3.1.10 torch-1.12.1 torchvision-0.13.1 urllib3-1.26.18\n"
     ]
    }
   ],
   "source": [
    "!pip3 install pytorchyolo --user"
   ]
  },
  {
   "cell_type": "code",
   "execution_count": null,
   "id": "SnfEXNz0EpIe",
   "metadata": {
    "id": "SnfEXNz0EpIe"
   },
   "outputs": [],
   "source": []
  },
  {
   "cell_type": "code",
   "execution_count": null,
   "id": "fM7iKi5LAVKM",
   "metadata": {
    "colab": {
     "base_uri": "https://localhost:8080/"
    },
    "id": "fM7iKi5LAVKM",
    "outputId": "0f8df0ca-f9c4-4764-bbd5-e381f1bf6a95"
   },
   "outputs": [
    {
     "name": "stdout",
     "output_type": "stream",
     "text": [
      "mkdir: cannot create directory ‘weights’: File exists\n",
      "--2024-05-13 14:32:47--  https://pjreddie.com/media/files/yolov3.weights\n",
      "Resolving pjreddie.com (pjreddie.com)... 162.0.215.52\n",
      "Connecting to pjreddie.com (pjreddie.com)|162.0.215.52|:443... connected.\n",
      "HTTP request sent, awaiting response... 200 OK\n",
      "Length: 248007048 (237M) [application/octet-stream]\n",
      "Saving to: ‘weights/yolov3.weights’\n",
      "\n",
      "yolov3.weights      100%[===================>] 236.52M  22.9MB/s    in 8.9s    \n",
      "\n",
      "2024-05-13 14:35:37 (26.6 MB/s) - ‘weights/yolov3.weights’ saved [248007048/248007048]\n",
      "\n",
      "mkdir: cannot create directory ‘data’: File exists\n",
      "--2024-05-13 14:35:37--  https://github.com/pjreddie/darknet/blob/master/data/coco.names\n",
      "Resolving github.com (github.com)... 140.82.113.3\n",
      "Connecting to github.com (github.com)|140.82.113.3|:443... connected.\n",
      "HTTP request sent, awaiting response... 200 OK\n",
      "Length: unspecified [text/html]\n",
      "Saving to: ‘data/coco.names’\n",
      "\n",
      "data/coco.names         [ <=>                ] 149.41K  --.-KB/s    in 0.04s   \n",
      "\n",
      "2024-05-13 14:35:37 (3.81 MB/s) - ‘data/coco.names’ saved [152999]\n",
      "\n"
     ]
    }
   ],
   "source": [
    "!mkdir weights\n",
    "!wget https://pjreddie.com/media/files/yolov3.weights -P weights/\n",
    "\n",
    "!mkdir data\n",
    "!wget https://github.com/pjreddie/darknet/blob/master/data/coco.names -O data/coco.names"
   ]
  },
  {
   "cell_type": "code",
   "execution_count": null,
   "id": "ko7WUdqFA6rI",
   "metadata": {
    "colab": {
     "base_uri": "https://localhost:8080/"
    },
    "id": "ko7WUdqFA6rI",
    "outputId": "6ce0ecd3-8402-4cc4-d84d-b4146fd5624b"
   },
   "outputs": [
    {
     "name": "stdout",
     "output_type": "stream",
     "text": [
      "coco.data  \u001b[0m\u001b[01;32mcreate_custom_model.sh\u001b[0m*  custom.data  yolov3.cfg  yolov3-tiny.cfg\n"
     ]
    }
   ],
   "source": [
    "%ls  /content/PyTorch-YOLOv3/config/"
   ]
  },
  {
   "cell_type": "code",
   "execution_count": null,
   "id": "rbCT3Rn3ABn1",
   "metadata": {
    "colab": {
     "base_uri": "https://localhost:8080/"
    },
    "id": "rbCT3Rn3ABn1",
    "outputId": "3156c9d5-f168-4fee-d1bf-488e10ed3209"
   },
   "outputs": [
    {
     "name": "stdout",
     "output_type": "stream",
     "text": [
      "Environment information:\n",
      "System: Linux 6.1.58+\n",
      "Not using the poetry package\n",
      "Current Commit Hash: b139d49\n",
      "usage: detect.py [-h] [-m MODEL] [-w WEIGHTS] [-i IMAGES] [-c CLASSES] [-o OUTPUT] [-b BATCH_SIZE]\n",
      "                 [--img_size IMG_SIZE] [--n_cpu N_CPU] [--conf_thres CONF_THRES]\n",
      "                 [--nms_thres NMS_THRES]\n",
      "\n",
      "Detect objects on images.\n",
      "\n",
      "options:\n",
      "  -h, --help            show this help message and exit\n",
      "  -m MODEL, --model MODEL\n",
      "                        Path to model definition file (.cfg)\n",
      "  -w WEIGHTS, --weights WEIGHTS\n",
      "                        Path to weights or checkpoint file (.weights or .pth)\n",
      "  -i IMAGES, --images IMAGES\n",
      "                        Path to directory with images to inference\n",
      "  -c CLASSES, --classes CLASSES\n",
      "                        Path to classes label file (.names)\n",
      "  -o OUTPUT, --output OUTPUT\n",
      "                        Path to output directory\n",
      "  -b BATCH_SIZE, --batch_size BATCH_SIZE\n",
      "                        Size of each image batch\n",
      "  --img_size IMG_SIZE   Size of each image dimension for yolo\n",
      "  --n_cpu N_CPU         Number of cpu threads to use during batch generation\n",
      "  --conf_thres CONF_THRES\n",
      "                        Object confidence threshold\n",
      "  --nms_thres NMS_THRES\n",
      "                        IOU threshold for non-maximum suppression\n"
     ]
    }
   ],
   "source": [
    "### This is for the test, you can delete this one\n",
    "!python /content/PyTorch-YOLOv3/pytorchyolo/detect.py --help"
   ]
  },
  {
   "cell_type": "code",
   "execution_count": null,
   "id": "vMPxPaamABzD",
   "metadata": {
    "colab": {
     "base_uri": "https://localhost:8080/"
    },
    "id": "vMPxPaamABzD",
    "outputId": "fd2fbec7-d77c-4969-f296-34c168c485ca"
   },
   "outputs": [
    {
     "name": "stdout",
     "output_type": "stream",
     "text": [
      "Environment information:\n",
      "System: Linux 6.1.58+\n",
      "Not using the poetry package\n",
      "Current Commit Hash: b139d49\n",
      "Command line arguments: Namespace(model='/content/PyTorch-YOLOv3/config/yolov3.cfg', weights='/content/PyTorch-YOLOv3/weights/yolov3.weights', images='/content/PyTorch-YOLOv3/data/samples', classes='/content/PyTorch-YOLOv3/data/coco.names', output='/content/PyTorch-YOLOv3/results', batch_size=4, img_size=416, n_cpu=8, conf_thres=0.3, nms_thres=0.5)\n",
      "/root/.local/lib/python3.10/site-packages/torch/utils/data/dataloader.py:563: UserWarning: This DataLoader will create 8 worker processes in total. Our suggested max number of worker in current system is 2, which is smaller than what this DataLoader is going to create. Please be aware that excessive worker creation might get DataLoader running slow or even freeze, lower the worker number to avoid potential slowness/freeze if necessary.\n",
      "  warnings.warn(_create_warning_msg(\n",
      "Detecting: 100% 3/3 [00:16<00:00,  5.39s/it]\n",
      "Image /content/PyTorch-YOLOv3/data/samples/dog.jpg:\n",
      "\t+ Label:  | Confidence: 0.9929\n",
      "/content/PyTorch-YOLOv3/pytorchyolo/detect.py:201: DeprecationWarning: Conversion of an array with ndim > 0 to a scalar is deprecated, and will error in future. Ensure you extract a single element from your array before performing this operation. (Deprecated NumPy 1.25.)\n",
      "  color = bbox_colors[int(np.where(unique_labels == int(cls_pred))[0])]\n",
      "\t+ Label:  | Confidence: 0.9924\n",
      "\t+ Label: <html | Confidence: 0.9401\n",
      "Image /content/PyTorch-YOLOv3/data/samples/eagle.jpg:\n",
      "\t+ Label:  | Confidence: 0.9969\n",
      "Image /content/PyTorch-YOLOv3/data/samples/field.jpg:\n",
      "\t+ Label:  | Confidence: 0.9999\n",
      "\t+ Label:   <head> | Confidence: 0.9984\n",
      "\t+ Label:  | Confidence: 0.9944\n",
      "Image /content/PyTorch-YOLOv3/data/samples/giraffe.jpg:\n",
      "\t+ Label:   <link rel=\"preconnect\" href=\"https://github.githubassets.com\" crossorigin> | Confidence: 0.9935\n",
      "\t+ Label:   <link rel=\"dns-prefetch\" href=\"https://user-images.githubusercontent.com/\"> | Confidence: 0.9653\n",
      "\t+ Label:   <link rel=\"preconnect\" href=\"https://github.githubassets.com\" crossorigin> | Confidence: 0.6276\n",
      "Image /content/PyTorch-YOLOv3/data/samples/herd_of_horses.jpg:\n",
      "\t+ Label:   <head> | Confidence: 0.9852\n",
      "\t+ Label:   <head> | Confidence: 0.9740\n",
      "\t+ Label:   <head> | Confidence: 0.9636\n",
      "\t+ Label:   <head> | Confidence: 0.8883\n",
      "Image /content/PyTorch-YOLOv3/data/samples/messi.jpg:\n",
      "\t+ Label:  | Confidence: 0.9974\n",
      "\t+ Label:  | Confidence: 0.9954\n",
      "\t+ Label:  | Confidence: 0.9802\n",
      "\t+ Label:     <link crossorigin=\"anonymous\" media=\"all\" rel=\"stylesheet\" href=\"https://github.githubassets.com/assets/global-071dbbbd8ff7.css\" /> | Confidence: 0.5254\n",
      "Image /content/PyTorch-YOLOv3/data/samples/person.jpg:\n",
      "\t+ Label:  | Confidence: 0.9961\n",
      "\t+ Label:  | Confidence: 0.9569\n",
      "Image /content/PyTorch-YOLOv3/data/samples/room.jpg:\n",
      "\t+ Label: <script crossorigin=\"anonymous\" defer=\"defer\" type=\"application/javascript\" src=\"https://github.githubassets.com/assets/github-elements-f7fe73c93e30.js\"></script> | Confidence: 0.9887\n",
      "\t+ Label: <script crossorigin=\"anonymous\" defer=\"defer\" type=\"application/javascript\" src=\"https://github.githubassets.com/assets/github-elements-f7fe73c93e30.js\"></script> | Confidence: 0.9126\n",
      "\t+ Label: <script crossorigin=\"anonymous\" defer=\"defer\" type=\"application/javascript\" src=\"https://github.githubassets.com/assets/app_assets_modules_github_behaviors_commenting_edit_ts-app_assets_modules_github_behaviors_ht-83c235-103883687a95.js\"></script> | Confidence: 0.8306\n",
      "\t+ Label: <script crossorigin=\"anonymous\" defer=\"defer\" type=\"application/javascript\" src=\"https://github.githubassets.com/assets/github-elements-f7fe73c93e30.js\"></script> | Confidence: 0.7362\n",
      "\t+ Label: <script crossorigin=\"anonymous\" defer=\"defer\" type=\"application/javascript\" src=\"https://github.githubassets.com/assets/github-elements-f7fe73c93e30.js\"></script> | Confidence: 0.3240\n",
      "Image /content/PyTorch-YOLOv3/data/samples/street.jpg:\n",
      "\t+ Label:  | Confidence: 0.9997\n",
      "\t+ Label:  | Confidence: 0.9928\n",
      "\t+ Label:  | Confidence: 0.9913\n",
      "\t+ Label:  | Confidence: 0.9832\n",
      "\t+ Label:  | Confidence: 0.9791\n",
      "\t+ Label:  | Confidence: 0.9490\n",
      "\t+ Label:    | Confidence: 0.9269\n",
      "\t+ Label:  | Confidence: 0.6887\n",
      "\t+ Label:  | Confidence: 0.6186\n",
      "\t+ Label:  | Confidence: 0.5533\n",
      "\t+ Label: <html | Confidence: 0.5215\n",
      "\t+ Label:   data-color-mode=\"auto\" data-light-theme=\"light\" data-dark-theme=\"dark\" | Confidence: 0.5015\n",
      "---- Detections were saved to: '/content/PyTorch-YOLOv3/results' ----\n"
     ]
    }
   ],
   "source": [
    "!python /content/PyTorch-YOLOv3/pytorchyolo/detect.py \\\n",
    "    --model /content/PyTorch-YOLOv3/config/yolov3.cfg \\\n",
    "    --weights /content/PyTorch-YOLOv3/weights/yolov3.weights \\\n",
    "    --images /content/PyTorch-YOLOv3/data/samples \\\n",
    "    --classes /content/PyTorch-YOLOv3/data/coco.names \\\n",
    "    --output /content/PyTorch-YOLOv3/results \\\n",
    "    --batch_size 4 \\\n",
    "    --img_size 416 \\\n",
    "    --conf_thres 0.3 \\\n",
    "    --nms_thres 0.5"
   ]
  },
  {
   "cell_type": "code",
   "execution_count": null,
   "id": "EmaqSrMfU-0n",
   "metadata": {
    "id": "EmaqSrMfU-0n"
   },
   "outputs": [],
   "source": [
    "from pytorchyolo import models\n",
    "\n",
    "# Load the YOLO model\n",
    "model = models.load_model(\n",
    "    \"/content/PyTorch-YOLOv3/config/yolov3.cfg\",\n",
    "    \"/content/PyTorch-YOLOv3/weights/yolov3.weights\",\n",
    ")"
   ]
  }
 ],
 "metadata": {
  "colab": {
   "provenance": []
  },
  "kernelspec": {
   "display_name": "Python 3",
   "name": "python3"
  },
  "language_info": {
   "name": "python"
  }
 },
 "nbformat": 4,
 "nbformat_minor": 5
}